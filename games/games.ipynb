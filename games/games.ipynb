{
 "cells": [
  {
   "cell_type": "markdown",
   "metadata": {},
   "source": [
    "# Исследование данных интернет-магазина «Стримчик»"
   ]
  },
  {
   "cell_type": "markdown",
   "metadata": {},
   "source": [
    "    Интернет- магазин «Стримчик» продаёт по всему миру компьютерные игры. Из открытых источников доступны исторические данные о продажах игр, оценки пользователей и экспертов, жанры и платформы.\n",
    "    В ходе исследования выявим определяющие успешность игры закономерности. Это позволит сделать ставку на потенциально популярный продукт и спланировать рекламные кампании.\n",
    "    В наборе данных попадается аббревиатура ESRB (Entertainment Software Rating Board) — это ассоциация, определяющая возрастной рейтинг компьютерных игр. "
   ]
  },
  {
   "cell_type": "markdown",
   "metadata": {},
   "source": [
    "# Описание данных"
   ]
  },
  {
   "cell_type": "markdown",
   "metadata": {},
   "source": [
    "- Name — название игры\n",
    "- Platform — платформа\n",
    "- Year_of_Release — год выпуска\n",
    "- Genre — жанр игры\n",
    "- NA_sales — продажи в Северной Америке (миллионы проданных копий)\n",
    "- EU_sales — продажи в Европе (миллионы проданных копий)\n",
    "- JP_sales — продажи в Японии (миллионы проданных копий)\n",
    "- Other_sales — продажи в других странах (миллионы проданных копий)\n",
    "- Critic_Score — оценка критиков (максимум 100)\n",
    "- User_Score — оценка пользователей (максимум 10)\n",
    "- Rating — рейтинг от организации ESRB (англ. Entertainment Software Rating Board). Эта ассоциация определяет рейтинг компьютерных игр и присваивает им подходящую возрастную категорию.\n"
   ]
  },
  {
   "cell_type": "markdown",
   "metadata": {},
   "source": [
    "## Загрузка данных"
   ]
  },
  {
   "cell_type": "markdown",
   "metadata": {},
   "source": [
    "### Библиотеки"
   ]
  },
  {
   "cell_type": "code",
   "execution_count": 1,
   "metadata": {},
   "outputs": [],
   "source": [
    "import pandas as pd\n",
    "import matplotlib.pyplot as plt\n",
    "import seaborn as sns\n",
    "from scipy import stats as st"
   ]
  },
  {
   "cell_type": "markdown",
   "metadata": {},
   "source": [
    "### Данные"
   ]
  },
  {
   "cell_type": "code",
   "execution_count": 2,
   "metadata": {},
   "outputs": [],
   "source": [
    "data = pd.read_csv('https://code.s3.yandex.net/datasets/games.csv')"
   ]
  },
  {
   "cell_type": "code",
   "execution_count": 3,
   "metadata": {},
   "outputs": [
    {
     "name": "stdout",
     "output_type": "stream",
     "text": [
      "357 ms ± 54.4 ms per loop (mean ± std. dev. of 7 runs, 1 loop each)\n"
     ]
    }
   ],
   "source": [
    "%timeit data = pd.read_csv('https://code.s3.yandex.net/datasets/games.csv')"
   ]
  },
  {
   "cell_type": "markdown",
   "metadata": {},
   "source": [
    "## Предобработка данных"
   ]
  },
  {
   "cell_type": "markdown",
   "metadata": {},
   "source": [
    "### Общая информация"
   ]
  },
  {
   "cell_type": "code",
   "execution_count": 4,
   "metadata": {},
   "outputs": [
    {
     "data": {
      "text/html": [
       "<div>\n",
       "<style scoped>\n",
       "    .dataframe tbody tr th:only-of-type {\n",
       "        vertical-align: middle;\n",
       "    }\n",
       "\n",
       "    .dataframe tbody tr th {\n",
       "        vertical-align: top;\n",
       "    }\n",
       "\n",
       "    .dataframe thead th {\n",
       "        text-align: right;\n",
       "    }\n",
       "</style>\n",
       "<table border=\"1\" class=\"dataframe\">\n",
       "  <thead>\n",
       "    <tr style=\"text-align: right;\">\n",
       "      <th></th>\n",
       "      <th>Name</th>\n",
       "      <th>Platform</th>\n",
       "      <th>Year_of_Release</th>\n",
       "      <th>Genre</th>\n",
       "      <th>NA_sales</th>\n",
       "      <th>EU_sales</th>\n",
       "      <th>JP_sales</th>\n",
       "      <th>Other_sales</th>\n",
       "      <th>Critic_Score</th>\n",
       "      <th>User_Score</th>\n",
       "      <th>Rating</th>\n",
       "    </tr>\n",
       "  </thead>\n",
       "  <tbody>\n",
       "    <tr>\n",
       "      <th>0</th>\n",
       "      <td>Wii Sports</td>\n",
       "      <td>Wii</td>\n",
       "      <td>2006.0</td>\n",
       "      <td>Sports</td>\n",
       "      <td>41.36</td>\n",
       "      <td>28.96</td>\n",
       "      <td>3.77</td>\n",
       "      <td>8.45</td>\n",
       "      <td>76.0</td>\n",
       "      <td>8</td>\n",
       "      <td>E</td>\n",
       "    </tr>\n",
       "    <tr>\n",
       "      <th>1</th>\n",
       "      <td>Super Mario Bros.</td>\n",
       "      <td>NES</td>\n",
       "      <td>1985.0</td>\n",
       "      <td>Platform</td>\n",
       "      <td>29.08</td>\n",
       "      <td>3.58</td>\n",
       "      <td>6.81</td>\n",
       "      <td>0.77</td>\n",
       "      <td>NaN</td>\n",
       "      <td>NaN</td>\n",
       "      <td>NaN</td>\n",
       "    </tr>\n",
       "    <tr>\n",
       "      <th>2</th>\n",
       "      <td>Mario Kart Wii</td>\n",
       "      <td>Wii</td>\n",
       "      <td>2008.0</td>\n",
       "      <td>Racing</td>\n",
       "      <td>15.68</td>\n",
       "      <td>12.76</td>\n",
       "      <td>3.79</td>\n",
       "      <td>3.29</td>\n",
       "      <td>82.0</td>\n",
       "      <td>8.3</td>\n",
       "      <td>E</td>\n",
       "    </tr>\n",
       "    <tr>\n",
       "      <th>3</th>\n",
       "      <td>Wii Sports Resort</td>\n",
       "      <td>Wii</td>\n",
       "      <td>2009.0</td>\n",
       "      <td>Sports</td>\n",
       "      <td>15.61</td>\n",
       "      <td>10.93</td>\n",
       "      <td>3.28</td>\n",
       "      <td>2.95</td>\n",
       "      <td>80.0</td>\n",
       "      <td>8</td>\n",
       "      <td>E</td>\n",
       "    </tr>\n",
       "    <tr>\n",
       "      <th>4</th>\n",
       "      <td>Pokemon Red/Pokemon Blue</td>\n",
       "      <td>GB</td>\n",
       "      <td>1996.0</td>\n",
       "      <td>Role-Playing</td>\n",
       "      <td>11.27</td>\n",
       "      <td>8.89</td>\n",
       "      <td>10.22</td>\n",
       "      <td>1.00</td>\n",
       "      <td>NaN</td>\n",
       "      <td>NaN</td>\n",
       "      <td>NaN</td>\n",
       "    </tr>\n",
       "  </tbody>\n",
       "</table>\n",
       "</div>"
      ],
      "text/plain": [
       "                       Name Platform  Year_of_Release         Genre  NA_sales  \\\n",
       "0                Wii Sports      Wii           2006.0        Sports     41.36   \n",
       "1         Super Mario Bros.      NES           1985.0      Platform     29.08   \n",
       "2            Mario Kart Wii      Wii           2008.0        Racing     15.68   \n",
       "3         Wii Sports Resort      Wii           2009.0        Sports     15.61   \n",
       "4  Pokemon Red/Pokemon Blue       GB           1996.0  Role-Playing     11.27   \n",
       "\n",
       "   EU_sales  JP_sales  Other_sales  Critic_Score User_Score Rating  \n",
       "0     28.96      3.77         8.45          76.0          8      E  \n",
       "1      3.58      6.81         0.77           NaN        NaN    NaN  \n",
       "2     12.76      3.79         3.29          82.0        8.3      E  \n",
       "3     10.93      3.28         2.95          80.0          8      E  \n",
       "4      8.89     10.22         1.00           NaN        NaN    NaN  "
      ]
     },
     "execution_count": 4,
     "metadata": {},
     "output_type": "execute_result"
    }
   ],
   "source": [
    "data.head(5)"
   ]
  },
  {
   "cell_type": "code",
   "execution_count": 4,
   "metadata": {},
   "outputs": [
    {
     "name": "stdout",
     "output_type": "stream",
     "text": [
      "<class 'pandas.core.frame.DataFrame'>\n",
      "RangeIndex: 16715 entries, 0 to 16714\n",
      "Data columns (total 11 columns):\n",
      " #   Column           Non-Null Count  Dtype  \n",
      "---  ------           --------------  -----  \n",
      " 0   Name             16713 non-null  object \n",
      " 1   Platform         16715 non-null  object \n",
      " 2   Year_of_Release  16446 non-null  float64\n",
      " 3   Genre            16713 non-null  object \n",
      " 4   NA_sales         16715 non-null  float64\n",
      " 5   EU_sales         16715 non-null  float64\n",
      " 6   JP_sales         16715 non-null  float64\n",
      " 7   Other_sales      16715 non-null  float64\n",
      " 8   Critic_Score     8137 non-null   float64\n",
      " 9   User_Score       10014 non-null  object \n",
      " 10  Rating           9949 non-null   object \n",
      "dtypes: float64(6), object(5)\n",
      "memory usage: 1.4+ MB\n"
     ]
    }
   ],
   "source": [
    "data.info()"
   ]
  },
  {
   "cell_type": "markdown",
   "metadata": {},
   "source": [
    "- Заметим, что у столбца 'Year_of_release' тип данных float, но год выпуска это целое число, так что заменим его на int.\n",
    "- Также у 'User_Score' тип данных object, хотя там хранятся дробные числа. Значит, нужно изменить тип данных на float."
   ]
  },
  {
   "cell_type": "markdown",
   "metadata": {},
   "source": [
    "### Приводим названия столбцов к нижнему регистру"
   ]
  },
  {
   "cell_type": "code",
   "execution_count": 5,
   "metadata": {},
   "outputs": [],
   "source": [
    "data.columns = data.columns.str.lower()"
   ]
  },
  {
   "cell_type": "markdown",
   "metadata": {},
   "source": [
    "### Проверка на дубликаты"
   ]
  },
  {
   "cell_type": "code",
   "execution_count": 6,
   "metadata": {},
   "outputs": [
    {
     "data": {
      "text/plain": [
       "0"
      ]
     },
     "execution_count": 6,
     "metadata": {},
     "output_type": "execute_result"
    }
   ],
   "source": [
    "data.duplicated().sum()"
   ]
  },
  {
   "cell_type": "markdown",
   "metadata": {},
   "source": [
    "### Работа с пропусками и изменение типов данных"
   ]
  },
  {
   "cell_type": "code",
   "execution_count": 7,
   "metadata": {},
   "outputs": [
    {
     "data": {
      "text/plain": [
       "269"
      ]
     },
     "execution_count": 7,
     "metadata": {},
     "output_type": "execute_result"
    }
   ],
   "source": [
    "# считаем пропуски в столбце 'year_of_release'\n",
    "data['year_of_release'].isna().sum()"
   ]
  },
  {
   "cell_type": "code",
   "execution_count": 8,
   "metadata": {},
   "outputs": [
    {
     "data": {
      "text/plain": [
       "0.01609332934489979"
      ]
     },
     "execution_count": 8,
     "metadata": {},
     "output_type": "execute_result"
    }
   ],
   "source": [
    "# считаем процент пропусков от общего кол-ва строк\n",
    "data['year_of_release'].isna().sum() / len(data['year_of_release'])"
   ]
  },
  {
   "cell_type": "code",
   "execution_count": 9,
   "metadata": {},
   "outputs": [],
   "source": [
    "# т.к. процент пропусков меньше двух (1.6%), то от них можно избавиться \n",
    "# а также для удобства привести к целому типу данных 'int'\n",
    "data = data.dropna(subset=['year_of_release'])\n",
    "data['year_of_release'] = data['year_of_release'].astype('int32')"
   ]
  },
  {
   "cell_type": "code",
   "execution_count": 10,
   "metadata": {
    "scrolled": true
   },
   "outputs": [
    {
     "data": {
      "text/plain": [
       "array(['8', nan, '8.3', '8.5', '6.6', '8.4', '8.6', '7.7', '6.3', '7.4',\n",
       "       '8.2', '9', '7.9', '8.1', '8.7', '7.1', '3.4', '5.3', '4.8', '3.2',\n",
       "       '8.9', '6.4', '7.8', '7.5', '2.6', '7.2', '9.2', '7', '7.3', '4.3',\n",
       "       '7.6', '5.7', '5', '9.1', '6.5', 'tbd', '8.8', '6.9', '9.4', '6.8',\n",
       "       '6.1', '6.7', '5.4', '4', '4.9', '4.5', '9.3', '6.2', '4.2', '6',\n",
       "       '3.7', '4.1', '5.8', '5.6', '5.5', '4.4', '4.6', '5.9', '3.9',\n",
       "       '3.1', '2.9', '5.2', '3.3', '4.7', '5.1', '3.5', '2.5', '1.9', '3',\n",
       "       '2.7', '2.2', '2', '9.5', '2.1', '3.6', '2.8', '1.8', '3.8', '0',\n",
       "       '1.6', '9.6', '2.4', '1.7', '1.1', '0.3', '1.5', '0.7', '1.2',\n",
       "       '2.3', '0.5', '1.3', '0.2', '0.6', '1.4', '0.9', '1', '9.7'],\n",
       "      dtype=object)"
      ]
     },
     "execution_count": 10,
     "metadata": {},
     "output_type": "execute_result"
    }
   ],
   "source": [
    "# в данных кроме NaN также есть значения неопределённости tbd (to be determined)\n",
    "data['user_score'].unique()"
   ]
  },
  {
   "cell_type": "code",
   "execution_count": 11,
   "metadata": {},
   "outputs": [],
   "source": [
    "# изменяем тип данных на float, а некорректные значения (tbd) принудительно заменяем на NaN\n",
    "data['user_score'] = pd.to_numeric(data['user_score'], errors='coerce')"
   ]
  },
  {
   "cell_type": "code",
   "execution_count": 12,
   "metadata": {},
   "outputs": [
    {
     "data": {
      "text/plain": [
       "6678"
      ]
     },
     "execution_count": 12,
     "metadata": {},
     "output_type": "execute_result"
    }
   ],
   "source": [
    "# считаем пропуски в столбце 'rating'\n",
    "data['rating'].isna().sum()"
   ]
  },
  {
   "cell_type": "code",
   "execution_count": 13,
   "metadata": {},
   "outputs": [],
   "source": [
    "# т.к. тут категориальные данные, то пропуски заменим на 'unknown'\n",
    "data['rating'] = data['rating'].fillna('unknown')"
   ]
  },
  {
   "cell_type": "markdown",
   "metadata": {},
   "source": [
    "- Пропуски в других столбцах будет заменить не корректно, заполнив медианой или средним значением можно ошибиться и создать аномалии, так что пока оставим остальные пропуски без изменений."
   ]
  },
  {
   "cell_type": "markdown",
   "metadata": {},
   "source": [
    "                                ------------ Откуда пропуски? ------------\n",
    "- Пропуски в столбце user_score могли появиться как от того, что они просто не захотели оценивать игры, а также потому что они ещё не достаточно времени провели в игре для оценки. В этом столбце были значения ('tbd' - to be determined), которые и подсказывают нам эту теорию.\n",
    "- Пропуски в столбце 'critic_score' могут быть вызваны аналогичной причиной. Критики просто ещё в процессе оценивания.\n",
    "- Пропуски в столбце 'rating' могут быть вызваны недостаточным количеством данных для присвоения категории т.е. без оценки критиков и пользователей категорию присвоить труднее. (Количество не нулевых строк в этих столбцах примерно одинаковое, так что теория крайне вероятна)."
   ]
  },
  {
   "cell_type": "markdown",
   "metadata": {},
   "source": [
    "### Cуммарные продажи во всех регионах "
   ]
  },
  {
   "cell_type": "code",
   "execution_count": 14,
   "metadata": {},
   "outputs": [],
   "source": [
    "# создадим новый столбец 'revenue' с суммарными продажами\n",
    "#data['revenue'] = data['na_sales'] + data['eu_sales'] + data['jp_sales'] + data['other_sales']\n",
    "data['revenue'] = data[['na_sales', 'eu_sales', 'jp_sales', 'other_sales']].sum(axis=1)"
   ]
  },
  {
   "cell_type": "markdown",
   "metadata": {},
   "source": [
    "## Исследовательский анализ данных"
   ]
  },
  {
   "cell_type": "markdown",
   "metadata": {},
   "source": [
    "### Количество игр в разные годы"
   ]
  },
  {
   "cell_type": "code",
   "execution_count": 15,
   "metadata": {},
   "outputs": [
    {
     "data": {
      "text/plain": [
       "count    16446.000000\n",
       "mean      2006.484616\n",
       "std          5.877050\n",
       "min       1980.000000\n",
       "25%       2003.000000\n",
       "50%       2007.000000\n",
       "75%       2010.000000\n",
       "max       2016.000000\n",
       "Name: year_of_release, dtype: float64"
      ]
     },
     "execution_count": 15,
     "metadata": {},
     "output_type": "execute_result"
    }
   ],
   "source": [
    "# общая информация по столбцу\n",
    "data['year_of_release'].describe()"
   ]
  },
  {
   "cell_type": "code",
   "execution_count": 16,
   "metadata": {
    "scrolled": false
   },
   "outputs": [
    {
     "data": {
      "image/png": "[encoded data removed]",
      "text/plain": [
       "<Figure size 1440x360 with 1 Axes>"
      ]
     },
     "metadata": {
      "needs_background": "light"
     },
     "output_type": "display_data"
    }
   ],
   "source": [
    "df = data.groupby('year_of_release')['name'].count()\n",
    "plot = df.plot(kind='bar', y='name', figsize=(20, 5), ec='black')"
   ]
  },
  {
   "cell_type": "markdown",
   "metadata": {},
   "source": [
    "- Пик приходится на 2008 — 2009 годы.\n",
    "- Значительный рост количества игр начинается с 1994 года и продолжается до 2009 года, после чего идёт на спад, что связано с финансовым кризисом 2008 года. Акции компаний падали (например акции EA рухнули с 50 до 15 долларов), сотрудников увольняли, игровые компании банкротились."
   ]
  },
  {
   "cell_type": "markdown",
   "metadata": {},
   "source": [
    "### Суммарные продажи платформ"
   ]
  },
  {
   "cell_type": "code",
   "execution_count": 17,
   "metadata": {
    "scrolled": true
   },
   "outputs": [
    {
     "data": {
      "text/plain": [
       "Text(0.5, 0, 'total_revenue')"
      ]
     },
     "execution_count": 17,
     "metadata": {},
     "output_type": "execute_result"
    },
    {
     "data": {
      "image/png": "[encoded data removed]",
      "text/plain": [
       "<Figure size 1080x720 with 1 Axes>"
      ]
     },
     "metadata": {
      "needs_background": "light"
     },
     "output_type": "display_data"
    }
   ],
   "source": [
    "df = data.groupby('platform')['revenue'].sum().sort_values()\n",
    "plot = df.plot(kind='barh', y='revenue', figsize=(15, 10), ec='black')\n",
    "plt.xlabel('total_revenue')"
   ]
  },
  {
   "cell_type": "markdown",
   "metadata": {},
   "source": [
    "- Лидирующуу место занимает PS2, но её продажи значительно выше следующей по популярности платформе так что возбмём топ-5 со второй по седьмую:'X360','PS3','Wii', 'DS', 'PS'"
   ]
  },
  {
   "cell_type": "markdown",
   "metadata": {},
   "source": [
    "### Динамика продаж по топ 5 платформам"
   ]
  },
  {
   "cell_type": "code",
   "execution_count": 18,
   "metadata": {},
   "outputs": [
    {
     "data": {
      "image/png": "[encoded data removed]",
      "text/plain": [
       "<Figure size 792x360 with 1 Axes>"
      ]
     },
     "metadata": {
      "needs_background": "light"
     },
     "output_type": "display_data"
    }
   ],
   "source": [
    "data_rev = data.query('year_of_release > 1991').pivot_table(\n",
    "    index = 'year_of_release', \n",
    "    columns = 'platform',\n",
    "    values = 'revenue', \n",
    "    aggfunc = 'sum'\n",
    "    )\n",
    "\n",
    "data_rev = data_rev[['X360','PS3','Wii', 'DS', 'PS']]\n",
    "ax = data_rev.plot(xticks=data_rev.index, figsize=(11,5))\n",
    "plt.xticks(rotation = 45) \n",
    "ylab = ax.set_ylabel('revenue')\n",
    "xlab = ax.set_xlabel('year_of_release')\n",
    "plt.title('top-5 platforms')\n",
    "plt.show()  "
   ]
  },
  {
   "cell_type": "markdown",
   "metadata": {},
   "source": [
    "- Заметен общий тренд, что обычно платформы живут 10 лет"
   ]
  },
  {
   "cell_type": "markdown",
   "metadata": {},
   "source": [
    "### Динамика продаж топовых платформ в актуальный период"
   ]
  },
  {
   "cell_type": "code",
   "execution_count": 19,
   "metadata": {},
   "outputs": [
    {
     "data": {
      "image/png": "[encoded data removed]",
      "text/plain": [
       "<Figure size 792x360 with 1 Axes>"
      ]
     },
     "metadata": {
      "needs_background": "light"
     },
     "output_type": "display_data"
    }
   ],
   "source": [
    "# примем начало актуального периода с 2014 года\n",
    "\n",
    "data_rev = data.query('year_of_release > 2013').pivot_table(\n",
    "    index = 'year_of_release', \n",
    "    columns = 'platform',\n",
    "    values = 'revenue', \n",
    "    aggfunc = 'sum'\n",
    "    )\n",
    "\n",
    "data_rev = data_rev[['X360','PS3','Wii','PSP', '3DS', 'PC', 'XOne', 'PS4']]\n",
    "ax = data_rev.plot(xticks=data_rev.index, figsize=(11,5))\n",
    "plt.xticks(rotation = 45) \n",
    "ylab = ax.set_ylabel('revenue')\n",
    "xlab = ax.set_xlabel('year_of_release')\n",
    "plt.title('actual period')\n",
    "plt.show() "
   ]
  },
  {
   "cell_type": "markdown",
   "metadata": {},
   "source": [
    "- Сразу бросаются в глаза 2 потенциально прибыльные платформы - \"XOne\" и \"PS4\". Но также стоит отметить \"X360\" и \"PS3\" их уровни продаж не сильно отстают от двух вышеупомянутых. \"X360\" и \"PS3\" будут держаться ещё какое-то время в топе как приближённые по характеристикам к флагманам как более дешёвые версии для тех кто не может себе позволить дорогую версию. Даже не смотря на то, что продажи всех платформ падают."
   ]
  },
  {
   "cell_type": "markdown",
   "metadata": {},
   "source": [
    "### Подготовим данные (избавимся от данных прошлых лет)"
   ]
  },
  {
   "cell_type": "code",
   "execution_count": 20,
   "metadata": {},
   "outputs": [],
   "source": [
    "top_platforms = ['PS4','X360','PS3','XOne']\n",
    "data_top = data.query('year_of_release >= 2014 and platform in @top_platforms')"
   ]
  },
  {
   "cell_type": "markdown",
   "metadata": {},
   "source": [
    "### Строим ящики с усами"
   ]
  },
  {
   "cell_type": "code",
   "execution_count": 21,
   "metadata": {
    "scrolled": true
   },
   "outputs": [
    {
     "data": {
      "text/plain": [
       "(0.0, 2.5)"
      ]
     },
     "execution_count": 21,
     "metadata": {},
     "output_type": "execute_result"
    },
    {
     "data": {
      "image/png": "[encoded data removed]",
      "text/plain": [
       "<Figure size 432x288 with 1 Axes>"
      ]
     },
     "metadata": {
      "needs_background": "light"
     },
     "output_type": "display_data"
    }
   ],
   "source": [
    "ax = sns.boxplot(x='platform', y='revenue', data=data_top)\n",
    "ax.set_ylim(0, 2.5)"
   ]
  },
  {
   "cell_type": "markdown",
   "metadata": {},
   "source": [
    "- Медианные значения всех платформ смещены к минимальным ~ 0.25 (только \"X360\" немного выше).\n",
    "- Но у всех платформ много выбросов, что говорит об успехе отдельных игр, но тут \"X360\" уступает остальным и выбросами особо похвастаться не может."
   ]
  },
  {
   "cell_type": "markdown",
   "metadata": {},
   "source": [
    "### Как влияют на продажи внутри одной популярной платформы отзывы пользователей и критиков "
   ]
  },
  {
   "cell_type": "code",
   "execution_count": 22,
   "metadata": {
    "scrolled": true
   },
   "outputs": [
    {
     "data": {
      "text/plain": [
       "-0.040131589472697356"
      ]
     },
     "execution_count": 22,
     "metadata": {},
     "output_type": "execute_result"
    }
   ],
   "source": [
    "data_top.query('platform == \"PS4\"')['revenue'].corr(data_top.query('platform == \"PS4\"')['user_score'])"
   ]
  },
  {
   "cell_type": "markdown",
   "metadata": {},
   "source": [
    "- Можно сказать, что оценки пользователей не влияют на глобальную прибыль \"PS4\""
   ]
  },
  {
   "cell_type": "code",
   "execution_count": 23,
   "metadata": {
    "scrolled": true
   },
   "outputs": [
    {
     "data": {
      "text/plain": [
       "0.40266141068104083"
      ]
     },
     "execution_count": 23,
     "metadata": {},
     "output_type": "execute_result"
    }
   ],
   "source": [
    "data_top.query('platform == \"PS4\"')['revenue'].corr(data_top.query('platform == \"PS4\"')['critic_score'])"
   ]
  },
  {
   "cell_type": "markdown",
   "metadata": {},
   "source": [
    "- Оценки критиков прямолинейно и достаточно сильно влияют на глобальную прибыль \"PS4\""
   ]
  },
  {
   "cell_type": "code",
   "execution_count": 24,
   "metadata": {},
   "outputs": [
    {
     "data": {
      "text/plain": [
       "<AxesSubplot:xlabel='user_score'>"
      ]
     },
     "execution_count": 24,
     "metadata": {},
     "output_type": "execute_result"
    },
    {
     "data": {
      "image/png": "[encoded data removed]",
      "text/plain": [
       "<Figure size 432x288 with 1 Axes>"
      ]
     },
     "metadata": {
      "needs_background": "light"
     },
     "output_type": "display_data"
    }
   ],
   "source": [
    "data_top.query('platform == \"PS4\"').plot(x='user_score', y='revenue', style='o', color='green', alpha=0.4)"
   ]
  },
  {
   "cell_type": "code",
   "execution_count": 25,
   "metadata": {},
   "outputs": [
    {
     "data": {
      "text/plain": [
       "<AxesSubplot:xlabel='critic_score'>"
      ]
     },
     "execution_count": 25,
     "metadata": {},
     "output_type": "execute_result"
    },
    {
     "data": {
      "image/png": "[encoded data removed]",
      "text/plain": [
       "<Figure size 432x288 with 1 Axes>"
      ]
     },
     "metadata": {
      "needs_background": "light"
     },
     "output_type": "display_data"
    }
   ],
   "source": [
    "data_top.query('platform == \"PS4\"').plot(x='critic_score', y='revenue', style='o', color='green', alpha=0.4)"
   ]
  },
  {
   "cell_type": "markdown",
   "metadata": {},
   "source": [
    "\n",
    "    Вывод: оценка критиков важна для прибыльности и оценки в основном от 55 до 85 баллов"
   ]
  },
  {
   "cell_type": "markdown",
   "metadata": {},
   "source": [
    "### Проверим зависимость на остальных платформах"
   ]
  },
  {
   "cell_type": "code",
   "execution_count": 26,
   "metadata": {},
   "outputs": [
    {
     "data": {
      "text/html": [
       "<style  type=\"text/css\" >\n",
       "#T_9ab5b_row0_col0,#T_9ab5b_row1_col1,#T_9ab5b_row2_col2{\n",
       "            background-color:  #67000d;\n",
       "            color:  #f1f1f1;\n",
       "        }#T_9ab5b_row0_col1,#T_9ab5b_row0_col2,#T_9ab5b_row2_col0{\n",
       "            background-color:  #fff5f0;\n",
       "            color:  #000000;\n",
       "        }#T_9ab5b_row1_col0{\n",
       "            background-color:  #fc8262;\n",
       "            color:  #000000;\n",
       "        }#T_9ab5b_row1_col2{\n",
       "            background-color:  #f5523a;\n",
       "            color:  #000000;\n",
       "        }#T_9ab5b_row2_col1{\n",
       "            background-color:  #fcbea5;\n",
       "            color:  #000000;\n",
       "        }</style><table id=\"T_9ab5b_\" ><thead>    <tr>        <th class=\"blank level0\" ></th>        <th class=\"col_heading level0 col0\" >revenue</th>        <th class=\"col_heading level0 col1\" >critic_score</th>        <th class=\"col_heading level0 col2\" >user_score</th>    </tr></thead><tbody>\n",
       "                <tr>\n",
       "                        <th id=\"T_9ab5b_level0_row0\" class=\"row_heading level0 row0\" >revenue</th>\n",
       "                        <td id=\"T_9ab5b_row0_col0\" class=\"data row0 col0\" >1.000000</td>\n",
       "                        <td id=\"T_9ab5b_row0_col1\" class=\"data row0 col1\" >0.402661</td>\n",
       "                        <td id=\"T_9ab5b_row0_col2\" class=\"data row0 col2\" >-0.040132</td>\n",
       "            </tr>\n",
       "            <tr>\n",
       "                        <th id=\"T_9ab5b_level0_row1\" class=\"row_heading level0 row1\" >critic_score</th>\n",
       "                        <td id=\"T_9ab5b_row1_col0\" class=\"data row1 col0\" >0.402661</td>\n",
       "                        <td id=\"T_9ab5b_row1_col1\" class=\"data row1 col1\" >1.000000</td>\n",
       "                        <td id=\"T_9ab5b_row1_col2\" class=\"data row1 col2\" >0.546434</td>\n",
       "            </tr>\n",
       "            <tr>\n",
       "                        <th id=\"T_9ab5b_level0_row2\" class=\"row_heading level0 row2\" >user_score</th>\n",
       "                        <td id=\"T_9ab5b_row2_col0\" class=\"data row2 col0\" >-0.040132</td>\n",
       "                        <td id=\"T_9ab5b_row2_col1\" class=\"data row2 col1\" >0.546434</td>\n",
       "                        <td id=\"T_9ab5b_row2_col2\" class=\"data row2 col2\" >1.000000</td>\n",
       "            </tr>\n",
       "    </tbody></table>"
      ],
      "text/plain": [
       "<pandas.io.formats.style.Styler at 0x7f2e9e4e0130>"
      ]
     },
     "metadata": {},
     "output_type": "display_data"
    },
    {
     "data": {
      "image/png": "[encoded data removed]",
      "text/plain": [
       "<Figure size 594.5x540 with 12 Axes>"
      ]
     },
     "metadata": {
      "needs_background": "light"
     },
     "output_type": "display_data"
    }
   ],
   "source": [
    "sns.pairplot(\n",
    "    data_top.query('platform == \"PS4\"')[['revenue', 'critic_score', 'user_score', 'platform']],\n",
    "    hue=\"platform\",\n",
    "    markers=[\"o\"],\n",
    "    palette='Reds',\n",
    "    plot_kws={'alpha':0.4}\n",
    "    )\n",
    "\n",
    "display(data_top.query('platform == \"PS4\"')[['revenue', 'critic_score', 'user_score']].corr().style.background_gradient(cmap='Reds', axis=0))"
   ]
  },
  {
   "cell_type": "code",
   "execution_count": 27,
   "metadata": {},
   "outputs": [
    {
     "data": {
      "text/html": [
       "<style  type=\"text/css\" >\n",
       "#T_d90e9_row0_col0,#T_d90e9_row1_col1,#T_d90e9_row2_col2{\n",
       "            background-color:  #08306b;\n",
       "            color:  #f1f1f1;\n",
       "        }#T_d90e9_row0_col1,#T_d90e9_row0_col2,#T_d90e9_row2_col0{\n",
       "            background-color:  #f7fbff;\n",
       "            color:  #000000;\n",
       "        }#T_d90e9_row1_col0{\n",
       "            background-color:  #4f9bcb;\n",
       "            color:  #000000;\n",
       "        }#T_d90e9_row1_col2{\n",
       "            background-color:  #3686c0;\n",
       "            color:  #000000;\n",
       "        }#T_d90e9_row2_col1{\n",
       "            background-color:  #cee0f2;\n",
       "            color:  #000000;\n",
       "        }</style><table id=\"T_d90e9_\" ><thead>    <tr>        <th class=\"blank level0\" ></th>        <th class=\"col_heading level0 col0\" >revenue</th>        <th class=\"col_heading level0 col1\" >critic_score</th>        <th class=\"col_heading level0 col2\" >user_score</th>    </tr></thead><tbody>\n",
       "                <tr>\n",
       "                        <th id=\"T_d90e9_level0_row0\" class=\"row_heading level0 row0\" >revenue</th>\n",
       "                        <td id=\"T_d90e9_row0_col0\" class=\"data row0 col0\" >1.000000</td>\n",
       "                        <td id=\"T_d90e9_row0_col1\" class=\"data row0 col1\" >0.525723</td>\n",
       "                        <td id=\"T_d90e9_row0_col2\" class=\"data row0 col2\" >-0.138445</td>\n",
       "            </tr>\n",
       "            <tr>\n",
       "                        <th id=\"T_d90e9_level0_row1\" class=\"row_heading level0 row1\" >critic_score</th>\n",
       "                        <td id=\"T_d90e9_row1_col0\" class=\"data row1 col0\" >0.525723</td>\n",
       "                        <td id=\"T_d90e9_row1_col1\" class=\"data row1 col1\" >1.000000</td>\n",
       "                        <td id=\"T_d90e9_row1_col2\" class=\"data row1 col2\" >0.625309</td>\n",
       "            </tr>\n",
       "            <tr>\n",
       "                        <th id=\"T_d90e9_level0_row2\" class=\"row_heading level0 row2\" >user_score</th>\n",
       "                        <td id=\"T_d90e9_row2_col0\" class=\"data row2 col0\" >-0.138445</td>\n",
       "                        <td id=\"T_d90e9_row2_col1\" class=\"data row2 col1\" >0.625309</td>\n",
       "                        <td id=\"T_d90e9_row2_col2\" class=\"data row2 col2\" >1.000000</td>\n",
       "            </tr>\n",
       "    </tbody></table>"
      ],
      "text/plain": [
       "<pandas.io.formats.style.Styler at 0x7f2e9bd2a160>"
      ]
     },
     "metadata": {},
     "output_type": "display_data"
    },
    {
     "data": {
      "image/png": "[encoded data removed]",
      "text/plain": [
       "<Figure size 601.75x540 with 12 Axes>"
      ]
     },
     "metadata": {
      "needs_background": "light"
     },
     "output_type": "display_data"
    }
   ],
   "source": [
    "colors = ['Blues', 'Greens', 'Purples']\n",
    "sns.pairplot(\n",
    "    data_top.query('platform == @top_platforms[1]')[['revenue', 'critic_score', 'user_score', 'platform']],\n",
    "    hue=\"platform\",\n",
    "    markers=[\"o\"],\n",
    "    palette=colors[0],\n",
    "    plot_kws={'alpha':0.4})\n",
    "\n",
    "display(data_top.query('platform == @top_platforms[1]')[['revenue', 'critic_score', 'user_score']].corr().style.background_gradient(cmap=colors[0], axis=0))"
   ]
  },
  {
   "cell_type": "code",
   "execution_count": 28,
   "metadata": {},
   "outputs": [
    {
     "data": {
      "text/html": [
       "<style  type=\"text/css\" >\n",
       "#T_52cb1_row0_col0,#T_52cb1_row1_col1,#T_52cb1_row2_col2{\n",
       "            background-color:  #00441b;\n",
       "            color:  #f1f1f1;\n",
       "        }#T_52cb1_row0_col1,#T_52cb1_row0_col2,#T_52cb1_row2_col0{\n",
       "            background-color:  #f7fcf5;\n",
       "            color:  #000000;\n",
       "        }#T_52cb1_row1_col0{\n",
       "            background-color:  #6abf71;\n",
       "            color:  #000000;\n",
       "        }#T_52cb1_row1_col2{\n",
       "            background-color:  #268e47;\n",
       "            color:  #000000;\n",
       "        }#T_52cb1_row2_col1{\n",
       "            background-color:  #87cd86;\n",
       "            color:  #000000;\n",
       "        }</style><table id=\"T_52cb1_\" ><thead>    <tr>        <th class=\"blank level0\" ></th>        <th class=\"col_heading level0 col0\" >revenue</th>        <th class=\"col_heading level0 col1\" >critic_score</th>        <th class=\"col_heading level0 col2\" >user_score</th>    </tr></thead><tbody>\n",
       "                <tr>\n",
       "                        <th id=\"T_52cb1_level0_row0\" class=\"row_heading level0 row0\" >revenue</th>\n",
       "                        <td id=\"T_52cb1_row0_col0\" class=\"data row0 col0\" >1.000000</td>\n",
       "                        <td id=\"T_52cb1_row0_col1\" class=\"data row0 col1\" >0.446575</td>\n",
       "                        <td id=\"T_52cb1_row0_col2\" class=\"data row0 col2\" >-0.166761</td>\n",
       "            </tr>\n",
       "            <tr>\n",
       "                        <th id=\"T_52cb1_level0_row1\" class=\"row_heading level0 row1\" >critic_score</th>\n",
       "                        <td id=\"T_52cb1_row1_col0\" class=\"data row1 col0\" >0.446575</td>\n",
       "                        <td id=\"T_52cb1_row1_col1\" class=\"data row1 col1\" >1.000000</td>\n",
       "                        <td id=\"T_52cb1_row1_col2\" class=\"data row1 col2\" >0.693445</td>\n",
       "            </tr>\n",
       "            <tr>\n",
       "                        <th id=\"T_52cb1_level0_row2\" class=\"row_heading level0 row2\" >user_score</th>\n",
       "                        <td id=\"T_52cb1_row2_col0\" class=\"data row2 col0\" >-0.166761</td>\n",
       "                        <td id=\"T_52cb1_row2_col1\" class=\"data row2 col1\" >0.693445</td>\n",
       "                        <td id=\"T_52cb1_row2_col2\" class=\"data row2 col2\" >1.000000</td>\n",
       "            </tr>\n",
       "    </tbody></table>"
      ],
      "text/plain": [
       "<pandas.io.formats.style.Styler at 0x7f2e9e62f3a0>"
      ]
     },
     "metadata": {},
     "output_type": "display_data"
    },
    {
     "data": {
      "image/png": "[encoded data removed]",
      "text/plain": [
       "<Figure size 594.5x540 with 12 Axes>"
      ]
     },
     "metadata": {
      "needs_background": "light"
     },
     "output_type": "display_data"
    }
   ],
   "source": [
    "sns.pairplot(\n",
    "    data_top.query('platform == @top_platforms[2]')[['revenue', 'critic_score', 'user_score', 'platform']],\n",
    "    hue=\"platform\",\n",
    "    markers=[\"o\"],\n",
    "    palette=colors[1],\n",
    "    plot_kws={'alpha':0.4})\n",
    "\n",
    "display(data_top.query('platform == @top_platforms[2]')[['revenue', 'critic_score', 'user_score']].corr().style.background_gradient(cmap=colors[1], axis=0))"
   ]
  },
  {
   "cell_type": "code",
   "execution_count": 29,
   "metadata": {},
   "outputs": [
    {
     "data": {
      "text/html": [
       "<style  type=\"text/css\" >\n",
       "#T_29438_row0_col0,#T_29438_row1_col1,#T_29438_row2_col2{\n",
       "            background-color:  #3f007d;\n",
       "            color:  #f1f1f1;\n",
       "        }#T_29438_row0_col1,#T_29438_row0_col2,#T_29438_row2_col0{\n",
       "            background-color:  #fcfbfd;\n",
       "            color:  #000000;\n",
       "        }#T_29438_row1_col0{\n",
       "            background-color:  #a6a3cd;\n",
       "            color:  #000000;\n",
       "        }#T_29438_row1_col2{\n",
       "            background-color:  #a3a0cb;\n",
       "            color:  #000000;\n",
       "        }#T_29438_row2_col1{\n",
       "            background-color:  #faf9fc;\n",
       "            color:  #000000;\n",
       "        }</style><table id=\"T_29438_\" ><thead>    <tr>        <th class=\"blank level0\" ></th>        <th class=\"col_heading level0 col0\" >revenue</th>        <th class=\"col_heading level0 col1\" >critic_score</th>        <th class=\"col_heading level0 col2\" >user_score</th>    </tr></thead><tbody>\n",
       "                <tr>\n",
       "                        <th id=\"T_29438_level0_row0\" class=\"row_heading level0 row0\" >revenue</th>\n",
       "                        <td id=\"T_29438_row0_col0\" class=\"data row0 col0\" >1.000000</td>\n",
       "                        <td id=\"T_29438_row0_col1\" class=\"data row0 col1\" >0.428677</td>\n",
       "                        <td id=\"T_29438_row0_col2\" class=\"data row0 col2\" >-0.070384</td>\n",
       "            </tr>\n",
       "            <tr>\n",
       "                        <th id=\"T_29438_level0_row1\" class=\"row_heading level0 row1\" >critic_score</th>\n",
       "                        <td id=\"T_29438_row1_col0\" class=\"data row1 col0\" >0.428677</td>\n",
       "                        <td id=\"T_29438_row1_col1\" class=\"data row1 col1\" >1.000000</td>\n",
       "                        <td id=\"T_29438_row1_col2\" class=\"data row1 col2\" >0.440977</td>\n",
       "            </tr>\n",
       "            <tr>\n",
       "                        <th id=\"T_29438_level0_row2\" class=\"row_heading level0 row2\" >user_score</th>\n",
       "                        <td id=\"T_29438_row2_col0\" class=\"data row2 col0\" >-0.070384</td>\n",
       "                        <td id=\"T_29438_row2_col1\" class=\"data row2 col1\" >0.440977</td>\n",
       "                        <td id=\"T_29438_row2_col2\" class=\"data row2 col2\" >1.000000</td>\n",
       "            </tr>\n",
       "    </tbody></table>"
      ],
      "text/plain": [
       "<pandas.io.formats.style.Styler at 0x7f2e9e62f850>"
      ]
     },
     "metadata": {},
     "output_type": "display_data"
    },
    {
     "data": {
      "image/png": "[encoded data removed]",
      "text/plain": [
       "<Figure size 602.5x540 with 12 Axes>"
      ]
     },
     "metadata": {
      "needs_background": "light"
     },
     "output_type": "display_data"
    }
   ],
   "source": [
    "sns.pairplot(\n",
    "    data_top.query('platform == @top_platforms[3]')[['revenue', 'critic_score', 'user_score', 'platform']],\n",
    "    hue=\"platform\",\n",
    "    markers=[\"o\"],\n",
    "    palette=colors[2],\n",
    "    plot_kws={'alpha':0.4})\n",
    "\n",
    "display(data_top.query('platform == @top_platforms[3]')[['revenue', 'critic_score', 'user_score']].corr().style.background_gradient(cmap=colors[2], axis=0))"
   ]
  },
  {
   "cell_type": "markdown",
   "metadata": {},
   "source": [
    "- Прибыльность всех топовых платформ примерно одинаково сильно зависит от критиков\n",
    "- Оценки критиков и пользователей в свою очередь сильно зависят друг от друга\n",
    "- Интервал самых распространённых оценок везде примерно одинаковый (55 - 85 баллов) и (5.5 и 8.5 баллов)"
   ]
  },
  {
   "cell_type": "markdown",
   "metadata": {},
   "source": [
    "### Распределение игр по жанрам"
   ]
  },
  {
   "cell_type": "code",
   "execution_count": 30,
   "metadata": {},
   "outputs": [
    {
     "data": {
      "text/plain": [
       "Action          335\n",
       "Sports          131\n",
       "Shooter         103\n",
       "Role-Playing     99\n",
       "Adventure        74\n",
       "Misc             55\n",
       "Racing           52\n",
       "Fighting         44\n",
       "Platform         18\n",
       "Simulation       13\n",
       "Strategy          8\n",
       "Puzzle            2\n",
       "Name: genre, dtype: int64"
      ]
     },
     "execution_count": 30,
     "metadata": {},
     "output_type": "execute_result"
    }
   ],
   "source": [
    "data_top['genre'].value_counts()"
   ]
  },
  {
   "cell_type": "code",
   "execution_count": 31,
   "metadata": {},
   "outputs": [
    {
     "data": {
      "text/html": [
       "<style  type=\"text/css\" >\n",
       "#T_e598b_row0_col0,#T_e598b_row0_col1,#T_e598b_row8_col2,#T_e598b_row8_col3,#T_e598b_row8_col4{\n",
       "            background-color:  #08306b;\n",
       "            color:  #f1f1f1;\n",
       "        }#T_e598b_row0_col2{\n",
       "            background-color:  #084990;\n",
       "            color:  #f1f1f1;\n",
       "        }#T_e598b_row0_col3{\n",
       "            background-color:  #57a0ce;\n",
       "            color:  #000000;\n",
       "        }#T_e598b_row0_col4{\n",
       "            background-color:  #083a7a;\n",
       "            color:  #f1f1f1;\n",
       "        }#T_e598b_row1_col0{\n",
       "            background-color:  #e2edf8;\n",
       "            color:  #000000;\n",
       "        }#T_e598b_row1_col1{\n",
       "            background-color:  #eaf2fb;\n",
       "            color:  #000000;\n",
       "        }#T_e598b_row1_col2,#T_e598b_row3_col4{\n",
       "            background-color:  #dce9f6;\n",
       "            color:  #000000;\n",
       "        }#T_e598b_row1_col3,#T_e598b_row2_col2,#T_e598b_row4_col4{\n",
       "            background-color:  #eef5fc;\n",
       "            color:  #000000;\n",
       "        }#T_e598b_row1_col4{\n",
       "            background-color:  #e7f1fa;\n",
       "            color:  #000000;\n",
       "        }#T_e598b_row2_col0{\n",
       "            background-color:  #d8e7f5;\n",
       "            color:  #000000;\n",
       "        }#T_e598b_row2_col1,#T_e598b_row2_col4,#T_e598b_row3_col1{\n",
       "            background-color:  #e7f0fa;\n",
       "            color:  #000000;\n",
       "        }#T_e598b_row2_col3,#T_e598b_row4_col0{\n",
       "            background-color:  #eff6fc;\n",
       "            color:  #000000;\n",
       "        }#T_e598b_row3_col0{\n",
       "            background-color:  #a0cbe2;\n",
       "            color:  #000000;\n",
       "        }#T_e598b_row3_col2{\n",
       "            background-color:  #e5eff9;\n",
       "            color:  #000000;\n",
       "        }#T_e598b_row3_col3,#T_e598b_row6_col3,#T_e598b_row6_col4{\n",
       "            background-color:  #dfebf7;\n",
       "            color:  #000000;\n",
       "        }#T_e598b_row4_col1{\n",
       "            background-color:  #ebf3fb;\n",
       "            color:  #000000;\n",
       "        }#T_e598b_row4_col2,#T_e598b_row9_col1,#T_e598b_row9_col4{\n",
       "            background-color:  #f5f9fe;\n",
       "            color:  #000000;\n",
       "        }#T_e598b_row4_col3{\n",
       "            background-color:  #f5fafe;\n",
       "            color:  #000000;\n",
       "        }#T_e598b_row5_col0,#T_e598b_row5_col1,#T_e598b_row5_col2,#T_e598b_row5_col3,#T_e598b_row5_col4,#T_e598b_row11_col0,#T_e598b_row11_col2{\n",
       "            background-color:  #f7fbff;\n",
       "            color:  #000000;\n",
       "        }#T_e598b_row6_col0{\n",
       "            background-color:  #edf4fc;\n",
       "            color:  #000000;\n",
       "        }#T_e598b_row6_col1{\n",
       "            background-color:  #e1edf8;\n",
       "            color:  #000000;\n",
       "        }#T_e598b_row6_col2{\n",
       "            background-color:  #dfecf7;\n",
       "            color:  #000000;\n",
       "        }#T_e598b_row7_col0{\n",
       "            background-color:  #a1cbe2;\n",
       "            color:  #000000;\n",
       "        }#T_e598b_row7_col1{\n",
       "            background-color:  #b2d2e8;\n",
       "            color:  #000000;\n",
       "        }#T_e598b_row7_col2{\n",
       "            background-color:  #d0e1f2;\n",
       "            color:  #000000;\n",
       "        }#T_e598b_row7_col3{\n",
       "            background-color:  #d2e3f3;\n",
       "            color:  #000000;\n",
       "        }#T_e598b_row7_col4{\n",
       "            background-color:  #b4d3e9;\n",
       "            color:  #000000;\n",
       "        }#T_e598b_row8_col0{\n",
       "            background-color:  #3686c0;\n",
       "            color:  #000000;\n",
       "        }#T_e598b_row8_col1{\n",
       "            background-color:  #0b559f;\n",
       "            color:  #f1f1f1;\n",
       "        }#T_e598b_row9_col0{\n",
       "            background-color:  #f4f9fe;\n",
       "            color:  #000000;\n",
       "        }#T_e598b_row9_col2{\n",
       "            background-color:  #f2f7fd;\n",
       "            color:  #000000;\n",
       "        }#T_e598b_row9_col3,#T_e598b_row11_col1,#T_e598b_row11_col3,#T_e598b_row11_col4{\n",
       "            background-color:  #f6faff;\n",
       "            color:  #000000;\n",
       "        }#T_e598b_row10_col0{\n",
       "            background-color:  #083877;\n",
       "            color:  #f1f1f1;\n",
       "        }#T_e598b_row10_col1{\n",
       "            background-color:  #5ca4d0;\n",
       "            color:  #000000;\n",
       "        }#T_e598b_row10_col2{\n",
       "            background-color:  #083471;\n",
       "            color:  #f1f1f1;\n",
       "        }#T_e598b_row10_col3{\n",
       "            background-color:  #89bedc;\n",
       "            color:  #000000;\n",
       "        }#T_e598b_row10_col4{\n",
       "            background-color:  #3a8ac2;\n",
       "            color:  #000000;\n",
       "        }</style><table id=\"T_e598b_\" ><thead>    <tr>        <th class=\"index_name level0\" >platform</th>        <th class=\"col_heading level0 col0\" >PS3</th>        <th class=\"col_heading level0 col1\" >PS4</th>        <th class=\"col_heading level0 col2\" >X360</th>        <th class=\"col_heading level0 col3\" >XOne</th>        <th class=\"col_heading level0 col4\" >total</th>    </tr>    <tr>        <th class=\"index_name level0\" >genre</th>        <th class=\"blank\" ></th>        <th class=\"blank\" ></th>        <th class=\"blank\" ></th>        <th class=\"blank\" ></th>        <th class=\"blank\" ></th>    </tr></thead><tbody>\n",
       "                <tr>\n",
       "                        <th id=\"T_e598b_level0_row0\" class=\"row_heading level0 row0\" >Action</th>\n",
       "                        <td id=\"T_e598b_row0_col0\" class=\"data row0 col0\" >18.100000</td>\n",
       "                        <td id=\"T_e598b_row0_col1\" class=\"data row0 col1\" >91.620000</td>\n",
       "                        <td id=\"T_e598b_row0_col2\" class=\"data row0 col2\" >12.330000</td>\n",
       "                        <td id=\"T_e598b_row0_col3\" class=\"data row0 col3\" >31.060000</td>\n",
       "                        <td id=\"T_e598b_row0_col4\" class=\"data row0 col4\" >153.110000</td>\n",
       "            </tr>\n",
       "            <tr>\n",
       "                        <th id=\"T_e598b_level0_row1\" class=\"row_heading level0 row1\" >Adventure</th>\n",
       "                        <td id=\"T_e598b_row1_col0\" class=\"data row1 col0\" >1.980000</td>\n",
       "                        <td id=\"T_e598b_row1_col1\" class=\"data row1 col1\" >6.340000</td>\n",
       "                        <td id=\"T_e598b_row1_col2\" class=\"data row1 col2\" >1.900000</td>\n",
       "                        <td id=\"T_e598b_row1_col3\" class=\"data row1 col3\" >2.680000</td>\n",
       "                        <td id=\"T_e598b_row1_col4\" class=\"data row1 col4\" >12.900000</td>\n",
       "            </tr>\n",
       "            <tr>\n",
       "                        <th id=\"T_e598b_level0_row2\" class=\"row_heading level0 row2\" >Fighting</th>\n",
       "                        <td id=\"T_e598b_row2_col0\" class=\"data row2 col0\" >2.890000</td>\n",
       "                        <td id=\"T_e598b_row2_col1\" class=\"data row2 col1\" >7.730000</td>\n",
       "                        <td id=\"T_e598b_row2_col2\" class=\"data row2 col2\" >0.660000</td>\n",
       "                        <td id=\"T_e598b_row2_col3\" class=\"data row2 col3\" >2.170000</td>\n",
       "                        <td id=\"T_e598b_row2_col4\" class=\"data row2 col4\" >13.450000</td>\n",
       "            </tr>\n",
       "            <tr>\n",
       "                        <th id=\"T_e598b_level0_row3\" class=\"row_heading level0 row3\" >Misc</th>\n",
       "                        <td id=\"T_e598b_row3_col0\" class=\"data row3 col0\" >6.690000</td>\n",
       "                        <td id=\"T_e598b_row3_col1\" class=\"data row3 col1\" >7.770000</td>\n",
       "                        <td id=\"T_e598b_row3_col2\" class=\"data row3 col2\" >1.270000</td>\n",
       "                        <td id=\"T_e598b_row3_col3\" class=\"data row3 col3\" >6.740000</td>\n",
       "                        <td id=\"T_e598b_row3_col4\" class=\"data row3 col4\" >22.470000</td>\n",
       "            </tr>\n",
       "            <tr>\n",
       "                        <th id=\"T_e598b_level0_row4\" class=\"row_heading level0 row4\" >Platform</th>\n",
       "                        <td id=\"T_e598b_row4_col0\" class=\"data row4 col0\" >0.760000</td>\n",
       "                        <td id=\"T_e598b_row4_col1\" class=\"data row4 col1\" >5.420000</td>\n",
       "                        <td id=\"T_e598b_row4_col2\" class=\"data row4 col2\" >0.190000</td>\n",
       "                        <td id=\"T_e598b_row4_col3\" class=\"data row4 col3\" >0.620000</td>\n",
       "                        <td id=\"T_e598b_row4_col4\" class=\"data row4 col4\" >6.990000</td>\n",
       "            </tr>\n",
       "            <tr>\n",
       "                        <th id=\"T_e598b_level0_row5\" class=\"row_heading level0 row5\" >Puzzle</th>\n",
       "                        <td id=\"T_e598b_row5_col0\" class=\"data row5 col0\" >0.040000</td>\n",
       "                        <td id=\"T_e598b_row5_col1\" class=\"data row5 col1\" >0.020000</td>\n",
       "                        <td id=\"T_e598b_row5_col2\" class=\"data row5 col2\" >0.000000</td>\n",
       "                        <td id=\"T_e598b_row5_col3\" class=\"data row5 col3\" >0.000000</td>\n",
       "                        <td id=\"T_e598b_row5_col4\" class=\"data row5 col4\" >0.060000</td>\n",
       "            </tr>\n",
       "            <tr>\n",
       "                        <th id=\"T_e598b_level0_row6\" class=\"row_heading level0 row6\" >Racing</th>\n",
       "                        <td id=\"T_e598b_row6_col0\" class=\"data row6 col0\" >1.000000</td>\n",
       "                        <td id=\"T_e598b_row6_col1\" class=\"data row6 col1\" >10.160000</td>\n",
       "                        <td id=\"T_e598b_row6_col2\" class=\"data row6 col2\" >1.640000</td>\n",
       "                        <td id=\"T_e598b_row6_col3\" class=\"data row6 col3\" >6.890000</td>\n",
       "                        <td id=\"T_e598b_row6_col4\" class=\"data row6 col4\" >19.690000</td>\n",
       "            </tr>\n",
       "            <tr>\n",
       "                        <th id=\"T_e598b_level0_row7\" class=\"row_heading level0 row7\" >Role-Playing</th>\n",
       "                        <td id=\"T_e598b_row7_col0\" class=\"data row7 col0\" >6.630000</td>\n",
       "                        <td id=\"T_e598b_row7_col1\" class=\"data row7 col1\" >28.990000</td>\n",
       "                        <td id=\"T_e598b_row7_col2\" class=\"data row7 col2\" >2.760000</td>\n",
       "                        <td id=\"T_e598b_row7_col3\" class=\"data row7 col3\" >10.550000</td>\n",
       "                        <td id=\"T_e598b_row7_col4\" class=\"data row7 col4\" >48.930000</td>\n",
       "            </tr>\n",
       "            <tr>\n",
       "                        <th id=\"T_e598b_level0_row8\" class=\"row_heading level0 row8\" >Shooter</th>\n",
       "                        <td id=\"T_e598b_row8_col0\" class=\"data row8 col0\" >12.170000</td>\n",
       "                        <td id=\"T_e598b_row8_col1\" class=\"data row8 col1\" >78.460000</td>\n",
       "                        <td id=\"T_e598b_row8_col2\" class=\"data row8 col2\" >13.660000</td>\n",
       "                        <td id=\"T_e598b_row8_col3\" class=\"data row8 col3\" >55.390000</td>\n",
       "                        <td id=\"T_e598b_row8_col4\" class=\"data row8 col4\" >159.680000</td>\n",
       "            </tr>\n",
       "            <tr>\n",
       "                        <th id=\"T_e598b_level0_row9\" class=\"row_heading level0 row9\" >Simulation</th>\n",
       "                        <td id=\"T_e598b_row9_col0\" class=\"data row9 col0\" >0.390000</td>\n",
       "                        <td id=\"T_e598b_row9_col1\" class=\"data row9 col1\" >1.230000</td>\n",
       "                        <td id=\"T_e598b_row9_col2\" class=\"data row9 col2\" >0.410000</td>\n",
       "                        <td id=\"T_e598b_row9_col3\" class=\"data row9 col3\" >0.330000</td>\n",
       "                        <td id=\"T_e598b_row9_col4\" class=\"data row9 col4\" >2.360000</td>\n",
       "            </tr>\n",
       "            <tr>\n",
       "                        <th id=\"T_e598b_level0_row10\" class=\"row_heading level0 row10\" >Sports</th>\n",
       "                        <td id=\"T_e598b_row10_col0\" class=\"data row10 col0\" >17.470000</td>\n",
       "                        <td id=\"T_e598b_row10_col1\" class=\"data row10 col1\" >50.010000</td>\n",
       "                        <td id=\"T_e598b_row10_col2\" class=\"data row10 col2\" >13.400000</td>\n",
       "                        <td id=\"T_e598b_row10_col3\" class=\"data row10 col3\" >23.680000</td>\n",
       "                        <td id=\"T_e598b_row10_col4\" class=\"data row10 col4\" >104.560000</td>\n",
       "            </tr>\n",
       "            <tr>\n",
       "                        <th id=\"T_e598b_level0_row11\" class=\"row_heading level0 row11\" >Strategy</th>\n",
       "                        <td id=\"T_e598b_row11_col0\" class=\"data row11 col0\" >0.060000</td>\n",
       "                        <td id=\"T_e598b_row11_col1\" class=\"data row11 col1\" >0.400000</td>\n",
       "                        <td id=\"T_e598b_row11_col2\" class=\"data row11 col2\" >0.000000</td>\n",
       "                        <td id=\"T_e598b_row11_col3\" class=\"data row11 col3\" >0.250000</td>\n",
       "                        <td id=\"T_e598b_row11_col4\" class=\"data row11 col4\" >0.710000</td>\n",
       "            </tr>\n",
       "    </tbody></table>"
      ],
      "text/plain": [
       "<pandas.io.formats.style.Styler at 0x7f2e9e0f8160>"
      ]
     },
     "metadata": {},
     "output_type": "display_data"
    }
   ],
   "source": [
    "# построим сводную таблицу прибыльности платформ по жанрам\n",
    "piv = data_top.pivot_table(\n",
    "    index = 'genre', \n",
    "    columns = 'platform',\n",
    "    values = 'revenue', \n",
    "    aggfunc = 'sum'\n",
    "    )\n",
    "\n",
    "piv['total'] = piv[['PS3', 'PS4', 'X360', 'XOne']].sum(axis=1)     \n",
    "display(piv.fillna(0).style.background_gradient(cmap='Blues', axis=0))"
   ]
  },
  {
   "cell_type": "code",
   "execution_count": 32,
   "metadata": {},
   "outputs": [
    {
     "data": {
      "image/png": "[encoded data removed]",
      "text/plain": [
       "<Figure size 720x360 with 1 Axes>"
      ]
     },
     "metadata": {
      "needs_background": "light"
     },
     "output_type": "display_data"
    }
   ],
   "source": [
    "pivot = data_top.pivot_table(index='genre', values=['na_sales', 'eu_sales', 'jp_sales'], aggfunc='median')\n",
    "pivot.plot(kind='bar', stacked=True, figsize=(10,5), alpha=0.7)\n",
    "plt.xticks(rotation = 45) \n",
    "plt.title('total revenue in actual data')\n",
    "plt.show()"
   ]
  },
  {
   "cell_type": "markdown",
   "metadata": {},
   "source": [
    "- Самые прибыльный жанр в каждом из регионов: Shooter. Он сильно выделяется на фоне остальных (в несколько раз).\n",
    "- Самые непопулярные: Adventure, Strategy, Puzzle (они сильно меньше остальных)."
   ]
  },
  {
   "cell_type": "markdown",
   "metadata": {},
   "source": [
    "## Портрет пользователя каждого региона"
   ]
  },
  {
   "cell_type": "markdown",
   "metadata": {},
   "source": [
    "### Топ платформ по регионам"
   ]
  },
  {
   "cell_type": "code",
   "execution_count": 33,
   "metadata": {},
   "outputs": [],
   "source": [
    "pivot_na = data.query('year_of_release >= 2014').pivot_table(index='platform', values='na_sales', aggfunc='sum') \\\n",
    "                .nlargest(5, 'na_sales') \\\n",
    "                .apply(lambda col: col / col.sum(), axis=0) \n",
    "pivot_eu = data.query('year_of_release >= 2014').pivot_table(index='platform', values='eu_sales', aggfunc='sum') \\\n",
    "                .nlargest(5, 'eu_sales') \\\n",
    "                .apply(lambda col: col / col.sum(), axis=0) \n",
    "pivot_jp = data.query('year_of_release >= 2014').pivot_table(index='platform', values='jp_sales', aggfunc='sum') \\\n",
    "                .nlargest(5, 'jp_sales') \\\n",
    "                .apply(lambda col: col / col.sum(), axis=0) "
   ]
  },
  {
   "cell_type": "code",
   "execution_count": 34,
   "metadata": {},
   "outputs": [
    {
     "data": {
      "text/html": [
       "<style  type=\"text/css\" >\n",
       "#T_ad247_row0_col0,#T_ad247_row0_col1,#T_ad247_row3_col2{\n",
       "            background-color:  #00441b;\n",
       "            color:  #f1f1f1;\n",
       "        }#T_ad247_row0_col2{\n",
       "            background-color:  #acdea6;\n",
       "            color:  #000000;\n",
       "        }#T_ad247_row1_col0{\n",
       "            background-color:  #0e7936;\n",
       "            color:  #f1f1f1;\n",
       "        }#T_ad247_row1_col1{\n",
       "            background-color:  #a7dba0;\n",
       "            color:  #000000;\n",
       "        }#T_ad247_row1_col2,#T_ad247_row2_col1,#T_ad247_row2_col2,#T_ad247_row5_col0,#T_ad247_row5_col2,#T_ad247_row6_col0,#T_ad247_row6_col1,#T_ad247_row7_col0,#T_ad247_row7_col1{\n",
       "            background-color:  #f7fcf5;\n",
       "            color:  #000000;\n",
       "        }#T_ad247_row2_col0{\n",
       "            background-color:  #bce4b5;\n",
       "            color:  #000000;\n",
       "        }#T_ad247_row3_col0{\n",
       "            background-color:  #ccebc6;\n",
       "            color:  #000000;\n",
       "        }#T_ad247_row3_col1{\n",
       "            background-color:  #e5f5e1;\n",
       "            color:  #000000;\n",
       "        }#T_ad247_row4_col0{\n",
       "            background-color:  #cdecc7;\n",
       "            color:  #000000;\n",
       "        }#T_ad247_row4_col1{\n",
       "            background-color:  #d4eece;\n",
       "            color:  #000000;\n",
       "        }#T_ad247_row4_col2{\n",
       "            background-color:  #c7e9c0;\n",
       "            color:  #000000;\n",
       "        }#T_ad247_row5_col1{\n",
       "            background-color:  #e2f4dd;\n",
       "            color:  #000000;\n",
       "        }#T_ad247_row6_col2{\n",
       "            background-color:  #afdfa8;\n",
       "            color:  #000000;\n",
       "        }#T_ad247_row7_col2{\n",
       "            background-color:  #dbf1d6;\n",
       "            color:  #000000;\n",
       "        }</style><table id=\"T_ad247_\" ><thead>    <tr>        <th class=\"blank level0\" ></th>        <th class=\"col_heading level0 col0\" >na_sales</th>        <th class=\"col_heading level0 col1\" >eu_sales</th>        <th class=\"col_heading level0 col2\" >jp_sales</th>    </tr>    <tr>        <th class=\"index_name level0\" >platform</th>        <th class=\"blank\" ></th>        <th class=\"blank\" ></th>        <th class=\"blank\" ></th>    </tr></thead><tbody>\n",
       "                <tr>\n",
       "                        <th id=\"T_ad247_level0_row0\" class=\"row_heading level0 row0\" >PS4</th>\n",
       "                        <td id=\"T_ad247_row0_col0\" class=\"data row0 col0\" >39.0%</td>\n",
       "                        <td id=\"T_ad247_row0_col1\" class=\"data row0 col1\" >55.1%</td>\n",
       "                        <td id=\"T_ad247_row0_col2\" class=\"data row0 col2\" >16.3%</td>\n",
       "            </tr>\n",
       "            <tr>\n",
       "                        <th id=\"T_ad247_level0_row1\" class=\"row_heading level0 row1\" >XOne</th>\n",
       "                        <td id=\"T_ad247_row1_col0\" class=\"data row1 col0\" >32.1%</td>\n",
       "                        <td id=\"T_ad247_row1_col1\" class=\"data row1 col1\" >19.6%</td>\n",
       "                        <td id=\"T_ad247_row1_col2\" class=\"data row1 col2\" >0.0%</td>\n",
       "            </tr>\n",
       "            <tr>\n",
       "                        <th id=\"T_ad247_level0_row2\" class=\"row_heading level0 row2\" >X360</th>\n",
       "                        <td id=\"T_ad247_row2_col0\" class=\"data row2 col0\" >11.2%</td>\n",
       "                        <td id=\"T_ad247_row2_col1\" class=\"data row2 col1\" >0.0%</td>\n",
       "                        <td id=\"T_ad247_row2_col2\" class=\"data row2 col2\" >0.0%</td>\n",
       "            </tr>\n",
       "            <tr>\n",
       "                        <th id=\"T_ad247_level0_row3\" class=\"row_heading level0 row3\" >3DS</th>\n",
       "                        <td id=\"T_ad247_row3_col0\" class=\"data row3 col0\" >9.0%</td>\n",
       "                        <td id=\"T_ad247_row3_col1\" class=\"data row3 col1\" >6.8%</td>\n",
       "                        <td id=\"T_ad247_row3_col2\" class=\"data row3 col2\" >47.9%</td>\n",
       "            </tr>\n",
       "            <tr>\n",
       "                        <th id=\"T_ad247_level0_row4\" class=\"row_heading level0 row4\" >PS3</th>\n",
       "                        <td id=\"T_ad247_row4_col0\" class=\"data row4 col0\" >8.7%</td>\n",
       "                        <td id=\"T_ad247_row4_col1\" class=\"data row4 col1\" >10.8%</td>\n",
       "                        <td id=\"T_ad247_row4_col2\" class=\"data row4 col2\" >12.2%</td>\n",
       "            </tr>\n",
       "            <tr>\n",
       "                        <th id=\"T_ad247_level0_row5\" class=\"row_heading level0 row5\" >PC</th>\n",
       "                        <td id=\"T_ad247_row5_col0\" class=\"data row5 col0\" >0.0%</td>\n",
       "                        <td id=\"T_ad247_row5_col1\" class=\"data row5 col1\" >7.6%</td>\n",
       "                        <td id=\"T_ad247_row5_col2\" class=\"data row5 col2\" >0.0%</td>\n",
       "            </tr>\n",
       "            <tr>\n",
       "                        <th id=\"T_ad247_level0_row6\" class=\"row_heading level0 row6\" >PSV</th>\n",
       "                        <td id=\"T_ad247_row6_col0\" class=\"data row6 col0\" >0.0%</td>\n",
       "                        <td id=\"T_ad247_row6_col1\" class=\"data row6 col1\" >0.0%</td>\n",
       "                        <td id=\"T_ad247_row6_col2\" class=\"data row6 col2\" >15.7%</td>\n",
       "            </tr>\n",
       "            <tr>\n",
       "                        <th id=\"T_ad247_level0_row7\" class=\"row_heading level0 row7\" >WiiU</th>\n",
       "                        <td id=\"T_ad247_row7_col0\" class=\"data row7 col0\" >0.0%</td>\n",
       "                        <td id=\"T_ad247_row7_col1\" class=\"data row7 col1\" >0.0%</td>\n",
       "                        <td id=\"T_ad247_row7_col2\" class=\"data row7 col2\" >7.9%</td>\n",
       "            </tr>\n",
       "    </tbody></table>"
      ],
      "text/plain": [
       "<pandas.io.formats.style.Styler at 0x7f2e99d8b520>"
      ]
     },
     "execution_count": 34,
     "metadata": {},
     "output_type": "execute_result"
    }
   ],
   "source": [
    "# найдём топ платформ для каждого региона \n",
    "# т.к. они отличаются, то пропущенные значения заполним нулями\n",
    "pivot_join = pivot_na.join([pivot_eu, pivot_jp], how='outer').apply(lambda col: col / col.sum(), axis=0) \\\n",
    "                .fillna(0).style.format(\"{:.1%}\") \\\n",
    "                .background_gradient(cmap='Greens', axis=0)\n",
    "pivot_join"
   ]
  },
  {
   "cell_type": "markdown",
   "metadata": {},
   "source": [
    "- У Северной Америки и Европы одинаковые топовые платформы, но у Запада лидирует X360 и PS4 (28% и 21.7%), а у Европы PS4 и PS3 (33.9% и 25.6%)\n",
    "- В Японии сильно вырывается в топ 3DS (50.7%), второе место - PS3 (20.4%)"
   ]
  },
  {
   "cell_type": "markdown",
   "metadata": {},
   "source": [
    "### Топ жанров по регионам"
   ]
  },
  {
   "cell_type": "code",
   "execution_count": 35,
   "metadata": {},
   "outputs": [],
   "source": [
    "pivot_na = data.query('year_of_release >= 2014').pivot_table(index='genre', values='na_sales', aggfunc='sum') \\\n",
    "                .apply(lambda col: col / col.sum(), axis=0) \n",
    "pivot_eu = data.query('year_of_release >= 2014').pivot_table(index='genre', values='eu_sales', aggfunc='sum') \\\n",
    "                .apply(lambda col: col / col.sum(), axis=0) \n",
    "pivot_jp = data.query('year_of_release >= 2014').pivot_table(index='genre', values='jp_sales', aggfunc='sum') \\\n",
    "                .apply(lambda col: col / col.sum(), axis=0)"
   ]
  },
  {
   "cell_type": "code",
   "execution_count": 36,
   "metadata": {},
   "outputs": [
    {
     "data": {
      "text/html": [
       "<style  type=\"text/css\" >\n",
       "#T_f507d_row0_col0{\n",
       "            background-color:  #005f26;\n",
       "            color:  #f1f1f1;\n",
       "        }#T_f507d_row0_col1,#T_f507d_row7_col2,#T_f507d_row8_col0{\n",
       "            background-color:  #00441b;\n",
       "            color:  #f1f1f1;\n",
       "        }#T_f507d_row0_col2{\n",
       "            background-color:  #005522;\n",
       "            color:  #f1f1f1;\n",
       "        }#T_f507d_row1_col0{\n",
       "            background-color:  #eef8ea;\n",
       "            color:  #000000;\n",
       "        }#T_f507d_row1_col1,#T_f507d_row4_col0,#T_f507d_row10_col2{\n",
       "            background-color:  #ecf8e8;\n",
       "            color:  #000000;\n",
       "        }#T_f507d_row1_col2,#T_f507d_row2_col1,#T_f507d_row4_col1{\n",
       "            background-color:  #ebf7e7;\n",
       "            color:  #000000;\n",
       "        }#T_f507d_row2_col0{\n",
       "            background-color:  #dff3da;\n",
       "            color:  #000000;\n",
       "        }#T_f507d_row2_col2,#T_f507d_row6_col1{\n",
       "            background-color:  #d8f0d2;\n",
       "            color:  #000000;\n",
       "        }#T_f507d_row3_col0{\n",
       "            background-color:  #d7efd1;\n",
       "            color:  #000000;\n",
       "        }#T_f507d_row3_col1{\n",
       "            background-color:  #dbf1d6;\n",
       "            color:  #000000;\n",
       "        }#T_f507d_row3_col2{\n",
       "            background-color:  #def2d9;\n",
       "            color:  #000000;\n",
       "        }#T_f507d_row4_col2{\n",
       "            background-color:  #eff9ec;\n",
       "            color:  #000000;\n",
       "        }#T_f507d_row5_col0,#T_f507d_row5_col1,#T_f507d_row5_col2,#T_f507d_row11_col2{\n",
       "            background-color:  #f7fcf5;\n",
       "            color:  #000000;\n",
       "        }#T_f507d_row6_col0{\n",
       "            background-color:  #e8f6e4;\n",
       "            color:  #000000;\n",
       "        }#T_f507d_row6_col2{\n",
       "            background-color:  #f3faf0;\n",
       "            color:  #000000;\n",
       "        }#T_f507d_row7_col0{\n",
       "            background-color:  #91d28e;\n",
       "            color:  #000000;\n",
       "        }#T_f507d_row7_col1{\n",
       "            background-color:  #a2d99c;\n",
       "            color:  #000000;\n",
       "        }#T_f507d_row8_col1{\n",
       "            background-color:  #006c2c;\n",
       "            color:  #f1f1f1;\n",
       "        }#T_f507d_row8_col2{\n",
       "            background-color:  #e4f5df;\n",
       "            color:  #000000;\n",
       "        }#T_f507d_row9_col0{\n",
       "            background-color:  #f4fbf1;\n",
       "            color:  #000000;\n",
       "        }#T_f507d_row9_col1{\n",
       "            background-color:  #eaf7e6;\n",
       "            color:  #000000;\n",
       "        }#T_f507d_row9_col2{\n",
       "            background-color:  #f1faee;\n",
       "            color:  #000000;\n",
       "        }#T_f507d_row10_col0{\n",
       "            background-color:  #53b466;\n",
       "            color:  #000000;\n",
       "        }#T_f507d_row10_col1{\n",
       "            background-color:  #46ae60;\n",
       "            color:  #000000;\n",
       "        }#T_f507d_row11_col0{\n",
       "            background-color:  #f6fcf4;\n",
       "            color:  #000000;\n",
       "        }#T_f507d_row11_col1{\n",
       "            background-color:  #f5fbf2;\n",
       "            color:  #000000;\n",
       "        }</style><table id=\"T_f507d_\" ><thead>    <tr>        <th class=\"blank level0\" ></th>        <th class=\"col_heading level0 col0\" >na_sales</th>        <th class=\"col_heading level0 col1\" >eu_sales</th>        <th class=\"col_heading level0 col2\" >jp_sales</th>    </tr>    <tr>        <th class=\"index_name level0\" >genre</th>        <th class=\"blank\" ></th>        <th class=\"blank\" ></th>        <th class=\"blank\" ></th>    </tr></thead><tbody>\n",
       "                <tr>\n",
       "                        <th id=\"T_f507d_level0_row0\" class=\"row_heading level0 row0\" >Action</th>\n",
       "                        <td id=\"T_f507d_row0_col0\" class=\"data row0 col0\" >25.5%</td>\n",
       "                        <td id=\"T_f507d_row0_col1\" class=\"data row0 col1\" >27.6%</td>\n",
       "                        <td id=\"T_f507d_row0_col2\" class=\"data row0 col2\" >31.8%</td>\n",
       "            </tr>\n",
       "            <tr>\n",
       "                        <th id=\"T_f507d_level0_row1\" class=\"row_heading level0 row1\" >Adventure</th>\n",
       "                        <td id=\"T_f507d_row1_col0\" class=\"data row1 col0\" >2.0%</td>\n",
       "                        <td id=\"T_f507d_row1_col1\" class=\"data row1 col1\" >2.4%</td>\n",
       "                        <td id=\"T_f507d_row1_col2\" class=\"data row1 col2\" >3.9%</td>\n",
       "            </tr>\n",
       "            <tr>\n",
       "                        <th id=\"T_f507d_level0_row2\" class=\"row_heading level0 row2\" >Fighting</th>\n",
       "                        <td id=\"T_f507d_row2_col0\" class=\"data row2 col0\" >4.4%</td>\n",
       "                        <td id=\"T_f507d_row2_col1\" class=\"data row2 col1\" >2.5%</td>\n",
       "                        <td id=\"T_f507d_row2_col2\" class=\"data row2 col2\" >6.8%</td>\n",
       "            </tr>\n",
       "            <tr>\n",
       "                        <th id=\"T_f507d_level0_row3\" class=\"row_heading level0 row3\" >Misc</th>\n",
       "                        <td id=\"T_f507d_row3_col0\" class=\"data row3 col0\" >5.3%</td>\n",
       "                        <td id=\"T_f507d_row3_col1\" class=\"data row3 col1\" >4.8%</td>\n",
       "                        <td id=\"T_f507d_row3_col2\" class=\"data row3 col2\" >6.0%</td>\n",
       "            </tr>\n",
       "            <tr>\n",
       "                        <th id=\"T_f507d_level0_row4\" class=\"row_heading level0 row4\" >Platform</th>\n",
       "                        <td id=\"T_f507d_row4_col0\" class=\"data row4 col0\" >2.4%</td>\n",
       "                        <td id=\"T_f507d_row4_col1\" class=\"data row4 col1\" >2.5%</td>\n",
       "                        <td id=\"T_f507d_row4_col2\" class=\"data row4 col2\" >2.9%</td>\n",
       "            </tr>\n",
       "            <tr>\n",
       "                        <th id=\"T_f507d_level0_row5\" class=\"row_heading level0 row5\" >Puzzle</th>\n",
       "                        <td id=\"T_f507d_row5_col0\" class=\"data row5 col0\" >0.2%</td>\n",
       "                        <td id=\"T_f507d_row5_col1\" class=\"data row5 col1\" >0.2%</td>\n",
       "                        <td id=\"T_f507d_row5_col2\" class=\"data row5 col2\" >1.0%</td>\n",
       "            </tr>\n",
       "            <tr>\n",
       "                        <th id=\"T_f507d_level0_row6\" class=\"row_heading level0 row6\" >Racing</th>\n",
       "                        <td id=\"T_f507d_row6_col0\" class=\"data row6 col0\" >3.1%</td>\n",
       "                        <td id=\"T_f507d_row6_col1\" class=\"data row6 col1\" >5.2%</td>\n",
       "                        <td id=\"T_f507d_row6_col2\" class=\"data row6 col2\" >1.9%</td>\n",
       "            </tr>\n",
       "            <tr>\n",
       "                        <th id=\"T_f507d_level0_row7\" class=\"row_heading level0 row7\" >Role-Playing</th>\n",
       "                        <td id=\"T_f507d_row7_col0\" class=\"data row7 col0\" >11.8%</td>\n",
       "                        <td id=\"T_f507d_row7_col1\" class=\"data row7 col1\" >10.4%</td>\n",
       "                        <td id=\"T_f507d_row7_col2\" class=\"data row7 col2\" >33.5%</td>\n",
       "            </tr>\n",
       "            <tr>\n",
       "                        <th id=\"T_f507d_level0_row8\" class=\"row_heading level0 row8\" >Shooter</th>\n",
       "                        <td id=\"T_f507d_row8_col0\" class=\"data row8 col0\" >27.8%</td>\n",
       "                        <td id=\"T_f507d_row8_col1\" class=\"data row8 col1\" >24.2%</td>\n",
       "                        <td id=\"T_f507d_row8_col2\" class=\"data row8 col2\" >5.2%</td>\n",
       "            </tr>\n",
       "            <tr>\n",
       "                        <th id=\"T_f507d_level0_row9\" class=\"row_heading level0 row9\" >Simulation</th>\n",
       "                        <td id=\"T_f507d_row9_col0\" class=\"data row9 col0\" >0.9%</td>\n",
       "                        <td id=\"T_f507d_row9_col1\" class=\"data row9 col1\" >2.7%</td>\n",
       "                        <td id=\"T_f507d_row9_col2\" class=\"data row9 col2\" >2.5%</td>\n",
       "            </tr>\n",
       "            <tr>\n",
       "                        <th id=\"T_f507d_level0_row10\" class=\"row_heading level0 row10\" >Sports</th>\n",
       "                        <td id=\"T_f507d_row10_col0\" class=\"data row10 col0\" >16.2%</td>\n",
       "                        <td id=\"T_f507d_row10_col1\" class=\"data row10 col1\" >16.9%</td>\n",
       "                        <td id=\"T_f507d_row10_col2\" class=\"data row10 col2\" >3.5%</td>\n",
       "            </tr>\n",
       "            <tr>\n",
       "                        <th id=\"T_f507d_level0_row11\" class=\"row_heading level0 row11\" >Strategy</th>\n",
       "                        <td id=\"T_f507d_row11_col0\" class=\"data row11 col0\" >0.3%</td>\n",
       "                        <td id=\"T_f507d_row11_col1\" class=\"data row11 col1\" >0.7%</td>\n",
       "                        <td id=\"T_f507d_row11_col2\" class=\"data row11 col2\" >1.0%</td>\n",
       "            </tr>\n",
       "    </tbody></table>"
      ],
      "text/plain": [
       "<pandas.io.formats.style.Styler at 0x7f2e9e443b50>"
      ]
     },
     "execution_count": 36,
     "metadata": {},
     "output_type": "execute_result"
    }
   ],
   "source": [
    "# найдём топ жанров для каждого региона \n",
    "# т.к. они отличаются, то пропущенные значения заполним нулями\n",
    "pivot_join = pivot_na.join([pivot_eu, pivot_jp], how='outer').apply(lambda col: col / col.sum(), axis=0) \\\n",
    "                .fillna(0).style.format(\"{:.1%}\") \\\n",
    "                .background_gradient(cmap='Greens', axis=0)\n",
    "pivot_join"
   ]
  },
  {
   "cell_type": "markdown",
   "metadata": {},
   "source": [
    "- В Северной Америке и Европе лидируют жанры Action (~ 30%-31%) и Shooter(~22.4% - 24.5%). Самый непопулярный жанр во всех регионах - PUzzle (менее 1%)\n",
    "- В Японии лидируют Role-Playing(34%) и Action(27.4%)."
   ]
  },
  {
   "cell_type": "markdown",
   "metadata": {},
   "source": [
    "### Влияние  рейтинга ESRB на продажи в отдельном регионе"
   ]
  },
  {
   "cell_type": "code",
   "execution_count": 37,
   "metadata": {},
   "outputs": [
    {
     "data": {
      "text/html": [
       "<style  type=\"text/css\" >\n",
       "#T_b9905_row0_col0{\n",
       "            background-color:  #a4a1cc;\n",
       "            color:  #000000;\n",
       "        }#T_b9905_row0_col1{\n",
       "            background-color:  #f3f2f8;\n",
       "            color:  #000000;\n",
       "        }#T_b9905_row0_col2{\n",
       "            background-color:  #d4d4e8;\n",
       "            color:  #000000;\n",
       "        }#T_b9905_row1_col0,#T_b9905_row1_col1,#T_b9905_row1_col2{\n",
       "            background-color:  #fcfbfd;\n",
       "            color:  #000000;\n",
       "        }#T_b9905_row2_col0,#T_b9905_row2_col2,#T_b9905_row4_col1{\n",
       "            background-color:  #3f007d;\n",
       "            color:  #f1f1f1;\n",
       "        }#T_b9905_row2_col1{\n",
       "            background-color:  #f5f4f9;\n",
       "            color:  #000000;\n",
       "        }#T_b9905_row3_col0{\n",
       "            background-color:  #f0eef5;\n",
       "            color:  #000000;\n",
       "        }#T_b9905_row3_col1{\n",
       "            background-color:  #e3e2ef;\n",
       "            color:  #000000;\n",
       "        }#T_b9905_row3_col2{\n",
       "            background-color:  #f3f1f7;\n",
       "            color:  #000000;\n",
       "        }#T_b9905_row4_col0{\n",
       "            background-color:  #a19eca;\n",
       "            color:  #000000;\n",
       "        }#T_b9905_row4_col2{\n",
       "            background-color:  #9e9bc8;\n",
       "            color:  #000000;\n",
       "        }</style><table id=\"T_b9905_\" ><thead>    <tr>        <th class=\"blank level0\" ></th>        <th class=\"col_heading level0 col0\" >eu_sales</th>        <th class=\"col_heading level0 col1\" >jp_sales</th>        <th class=\"col_heading level0 col2\" >na_sales</th>    </tr>    <tr>        <th class=\"index_name level0\" >rating</th>        <th class=\"blank\" ></th>        <th class=\"blank\" ></th>        <th class=\"blank\" ></th>    </tr></thead><tbody>\n",
       "                <tr>\n",
       "                        <th id=\"T_b9905_level0_row0\" class=\"row_heading level0 row0\" >E</th>\n",
       "                        <td id=\"T_b9905_row0_col0\" class=\"data row0 col0\" >21.4%</td>\n",
       "                        <td id=\"T_b9905_row0_col1\" class=\"data row0 col1\" >9.6%</td>\n",
       "                        <td id=\"T_b9905_row0_col2\" class=\"data row0 col2\" >17.9%</td>\n",
       "            </tr>\n",
       "            <tr>\n",
       "                        <th id=\"T_b9905_level0_row1\" class=\"row_heading level0 row1\" >E10+</th>\n",
       "                        <td id=\"T_b9905_row1_col0\" class=\"data row1 col0\" >9.7%</td>\n",
       "                        <td id=\"T_b9905_row1_col1\" class=\"data row1 col1\" >4.8%</td>\n",
       "                        <td id=\"T_b9905_row1_col2\" class=\"data row1 col2\" >11.7%</td>\n",
       "            </tr>\n",
       "            <tr>\n",
       "                        <th id=\"T_b9905_level0_row2\" class=\"row_heading level0 row2\" >M</th>\n",
       "                        <td id=\"T_b9905_row2_col0\" class=\"data row2 col0\" >34.5%</td>\n",
       "                        <td id=\"T_b9905_row2_col1\" class=\"data row2 col1\" >8.6%</td>\n",
       "                        <td id=\"T_b9905_row2_col2\" class=\"data row2 col2\" >33.9%</td>\n",
       "            </tr>\n",
       "            <tr>\n",
       "                        <th id=\"T_b9905_level0_row3\" class=\"row_heading level0 row3\" >T</th>\n",
       "                        <td id=\"T_b9905_row3_col0\" class=\"data row3 col0\" >12.6%</td>\n",
       "                        <td id=\"T_b9905_row3_col1\" class=\"data row3 col1\" >15.9%</td>\n",
       "                        <td id=\"T_b9905_row3_col2\" class=\"data row3 col2\" >13.7%</td>\n",
       "            </tr>\n",
       "            <tr>\n",
       "                        <th id=\"T_b9905_level0_row4\" class=\"row_heading level0 row4\" >unknown</th>\n",
       "                        <td id=\"T_b9905_row4_col0\" class=\"data row4 col0\" >21.8%</td>\n",
       "                        <td id=\"T_b9905_row4_col1\" class=\"data row4 col1\" >61.1%</td>\n",
       "                        <td id=\"T_b9905_row4_col2\" class=\"data row4 col2\" >22.8%</td>\n",
       "            </tr>\n",
       "    </tbody></table>"
      ],
      "text/plain": [
       "<pandas.io.formats.style.Styler at 0x7f2e9e14fdf0>"
      ]
     },
     "execution_count": 37,
     "metadata": {},
     "output_type": "execute_result"
    }
   ],
   "source": [
    "data.query('year_of_release >= 2014').pivot_table(index='rating', \\\n",
    "                 values=['na_sales', 'eu_sales', 'jp_sales'], aggfunc='sum') \\\n",
    "                .apply(lambda col: col / col.sum(), axis=0) \\\n",
    "                .style.format(\"{:.1%}\") \\\n",
    "                .background_gradient(cmap='Purples', axis=0)"
   ]
  },
  {
   "cell_type": "markdown",
   "metadata": {},
   "source": [
    "- В Северной Америке и Европе преобладают игры рейтинга M('mature') т.е. игрокам минимум 17 лет. Также категория E ('everyone) т.е. без возрастных ограничений. Значит, игры с подростковым рейтингом и рейтингом для малышей уменьшают прибыльность. \n",
    "- В Японии используется другая рейтинговая система CERO (Computer Entertainment Rating Organization) и более 50% продаж зависит именно от неё. Зависимость от ESRB незначительна и примерна одинакова во всех категориях."
   ]
  },
  {
   "cell_type": "markdown",
   "metadata": {},
   "source": [
    "## Проверка гипотез"
   ]
  },
  {
   "cell_type": "markdown",
   "metadata": {},
   "source": [
    "### Средние пользовательские рейтинги платформ Xbox One и PC одинаковые"
   ]
  },
  {
   "cell_type": "code",
   "execution_count": 38,
   "metadata": {},
   "outputs": [
    {
     "data": {
      "text/html": [
       "<div>\n",
       "<style scoped>\n",
       "    .dataframe tbody tr th:only-of-type {\n",
       "        vertical-align: middle;\n",
       "    }\n",
       "\n",
       "    .dataframe tbody tr th {\n",
       "        vertical-align: top;\n",
       "    }\n",
       "\n",
       "    .dataframe thead th {\n",
       "        text-align: right;\n",
       "    }\n",
       "</style>\n",
       "<table border=\"1\" class=\"dataframe\">\n",
       "  <thead>\n",
       "    <tr style=\"text-align: right;\">\n",
       "      <th></th>\n",
       "      <th>user_score</th>\n",
       "    </tr>\n",
       "    <tr>\n",
       "      <th>platform</th>\n",
       "      <th></th>\n",
       "    </tr>\n",
       "  </thead>\n",
       "  <tbody>\n",
       "    <tr>\n",
       "      <th>PC</th>\n",
       "      <td>7.065960</td>\n",
       "    </tr>\n",
       "    <tr>\n",
       "      <th>XOne</th>\n",
       "      <td>6.521429</td>\n",
       "    </tr>\n",
       "  </tbody>\n",
       "</table>\n",
       "</div>"
      ],
      "text/plain": [
       "          user_score\n",
       "platform            \n",
       "PC          7.065960\n",
       "XOne        6.521429"
      ]
     },
     "metadata": {},
     "output_type": "display_data"
    },
    {
     "name": "stdout",
     "output_type": "stream",
     "text": [
      "p-value: 6.518989810074553e-06\n",
      "Отвергаем нулевую гипотезу\n"
     ]
    }
   ],
   "source": [
    "# Нулевая гипотеза: Средние пользовательские рейтинги платформ Xbox One и PC одинаковые\n",
    "# Альтернативная гипотеза: Средние пользовательские рейтинги платформфы Xbox One меньше PC \n",
    "display(data.query('platform in [\"XOne\", \"PC\"]').pivot_table(index='platform', values='user_score'))\n",
    "alpha = 0.05\n",
    "\n",
    "results = st.ttest_ind(data.query('platform == \"XOne\"')['user_score'].dropna(), \\\n",
    "                       data.query('platform == \"PC\"')['user_score'].dropna(), \\\n",
    "                       alternative = 'less')\n",
    "print(f'p-value: {results.pvalue}')\n",
    "\n",
    "# проверяем p-value\n",
    "if results.pvalue < alpha:\n",
    "    print('Отвергаем нулевую гипотезу')\n",
    "else:\n",
    "    print('Нет оснований отвергнуть нулевую гипотезу')"
   ]
  },
  {
   "cell_type": "markdown",
   "metadata": {},
   "source": [
    "- Значит, средние пользовательские рейтинги платформфы Xbox One значительно меньше PC "
   ]
  },
  {
   "cell_type": "markdown",
   "metadata": {},
   "source": [
    "### Средние пользовательские рейтинги жанров Action  и Sports разные"
   ]
  },
  {
   "cell_type": "code",
   "execution_count": 39,
   "metadata": {},
   "outputs": [
    {
     "data": {
      "text/html": [
       "<div>\n",
       "<style scoped>\n",
       "    .dataframe tbody tr th:only-of-type {\n",
       "        vertical-align: middle;\n",
       "    }\n",
       "\n",
       "    .dataframe tbody tr th {\n",
       "        vertical-align: top;\n",
       "    }\n",
       "\n",
       "    .dataframe thead th {\n",
       "        text-align: right;\n",
       "    }\n",
       "</style>\n",
       "<table border=\"1\" class=\"dataframe\">\n",
       "  <thead>\n",
       "    <tr style=\"text-align: right;\">\n",
       "      <th></th>\n",
       "      <th>user_score</th>\n",
       "    </tr>\n",
       "    <tr>\n",
       "      <th>genre</th>\n",
       "      <th></th>\n",
       "    </tr>\n",
       "  </thead>\n",
       "  <tbody>\n",
       "    <tr>\n",
       "      <th>Action</th>\n",
       "      <td>7.058129</td>\n",
       "    </tr>\n",
       "    <tr>\n",
       "      <th>Sports</th>\n",
       "      <td>6.951434</td>\n",
       "    </tr>\n",
       "  </tbody>\n",
       "</table>\n",
       "</div>"
      ],
      "text/plain": [
       "        user_score\n",
       "genre             \n",
       "Action    7.058129\n",
       "Sports    6.951434"
      ]
     },
     "metadata": {},
     "output_type": "display_data"
    },
    {
     "name": "stdout",
     "output_type": "stream",
     "text": [
      "p-value: 0.07370217419278526\n",
      "Нет оснований отвергнуть нулевую гипотезу\n"
     ]
    }
   ],
   "source": [
    "# Нулевая гипотеза: Средние пользовательские рейтинги жанров Action и Sports одинаковые\n",
    "# Альтернативная гипотеза: Средние пользовательские рейтинги жанров Action и Sports разные\n",
    "display(data.query('genre in [\"Action\", \"Sports\"]').pivot_table(index='genre', values='user_score'))\n",
    "alpha = 0.05\n",
    "\n",
    "results = st.ttest_ind(data.query('genre == \"Action\"')['user_score'].dropna(), \\\n",
    "                       data.query('genre == \"Sports\"')['user_score'].dropna(), \\\n",
    "                       equal_var=False)\n",
    "print(f'p-value: {results.pvalue}')\n",
    "\n",
    "# проверяем p-value\n",
    "if results.pvalue < alpha:\n",
    "    print('Отвергаем нулевую гипотезу')\n",
    "else:\n",
    "    print('Нет оснований отвергнуть нулевую гипотезу')"
   ]
  },
  {
   "cell_type": "markdown",
   "metadata": {},
   "source": [
    "Значит, средние пользовательские рейтинги жанров Action и Sports одинаковые"
   ]
  },
  {
   "cell_type": "markdown",
   "metadata": {},
   "source": [
    "## Общий вывод"
   ]
  },
  {
   "cell_type": "markdown",
   "metadata": {},
   "source": [
    "#### Что сделали с данными\n",
    "- В ходе исследования привели названия столцов нижнему регистру\n",
    "- Удалили пропуски в столбце 'year_of_release'\n",
    "- Привели столбцы 'year_of_release' и 'user_score' к типу данных int и float соответственно\n",
    "- Некорректные значения в столбце 'user_score' заменили на NaN, а в столбце 'rating' на 'unknown'\n",
    "- Добавили столбец 'revenue' с общими продажами во всех регионах\n",
    "- Выяснили, что обычно платформа живёт 10 лет\n",
    "#### Что выяснили\n",
    "- Выявили 4 потенциально прибыльные платформы на 2017 год: 'PS4','X360','PS3','XOne'\n",
    "- Прибыльность всех топовых платформ примерно одинаково сильно зависит от критиков\n",
    "- Оценки критиков и пользователей в свою очередь сильно зависят друг от друга\n",
    "- Интервал самых распространённых оценок везде примерно одинаковый (55 - 85 баллов) и (5.5 и 8.5 баллов)\n",
    "- Самые прибыльный жанр в каждом из регионов: Shooter. Он сильно выделяется на фоне остальных (в несколько раз).\n",
    "- Самые непопулярные: Adventure, Strategy, Puzzle (они сильно меньше остальных).\n",
    "#### Портрет пользователя по регионам\n",
    "- У Северной Америки и Европы одинаковые топовые платформы, но у Запада лидирует X360 и PS4 (28% и 21.7%), а у Европы PS4 и PS3 (33.9% и 25.6%)\n",
    "- В Японии сильно вырывается в топ 3DS (50.7%), второе место - PS3 (20.4%)\n",
    "- В Северной Америке и Европе лидируют жанры Action (~ 30%-31%) и Shooter(~22.4% - 24.5%). Самый непопулярный жанр во всех регионах - PUzzle (менее 1%)\n",
    "- В Японии лидируют Role-Playing(34%) и Action(27.4%).\n",
    "- В Северной Америке и Европе преобладают игры рейтинга M('mature') т.е. игрокам минимум 17 лет. Также категория E ('everyone) т.е. без возрастных ограничений. Значит, игры с подростковым рейтингом и рейтингом для малышей уменьшают прибыльность. \n",
    "- В Японии используется другая рейтинговая система CERO (Computer Entertainment Rating Organization) и более 50% продаж зависит именно от неё. Зависимость от ESRB незначительна и примерна одинакова во всех категориях.\n",
    "#### Средние пользовательские рейтинги\n",
    "- Средние пользовательские рейтинги платформфы Xbox One значительно меньше PC\n",
    "- Средние пользовательские рейтинги жанров Action и Sports одинаковые"
   ]
  }
 ],
 "metadata": {
  "ExecuteTimeLog": [
   {
    "duration": 1297,
    "start_time": "2023-11-17T22:03:16.054Z"
   },
   {
    "duration": 104,
    "start_time": "2023-11-17T22:03:17.353Z"
   },
   {
    "duration": 0,
    "start_time": "2023-11-17T22:03:17.460Z"
   },
   {
    "duration": 0,
    "start_time": "2023-11-17T22:03:17.461Z"
   },
   {
    "duration": 0,
    "start_time": "2023-11-17T22:03:17.461Z"
   },
   {
    "duration": 0,
    "start_time": "2023-11-17T22:03:17.462Z"
   },
   {
    "duration": 0,
    "start_time": "2023-11-17T22:03:17.463Z"
   },
   {
    "duration": 0,
    "start_time": "2023-11-17T22:03:17.464Z"
   },
   {
    "duration": 0,
    "start_time": "2023-11-17T22:03:17.466Z"
   },
   {
    "duration": 0,
    "start_time": "2023-11-17T22:03:17.466Z"
   },
   {
    "duration": 0,
    "start_time": "2023-11-17T22:03:17.468Z"
   },
   {
    "duration": 0,
    "start_time": "2023-11-17T22:03:17.468Z"
   },
   {
    "duration": 0,
    "start_time": "2023-11-17T22:03:17.469Z"
   },
   {
    "duration": 0,
    "start_time": "2023-11-17T22:03:17.470Z"
   },
   {
    "duration": 0,
    "start_time": "2023-11-17T22:03:17.471Z"
   },
   {
    "duration": 0,
    "start_time": "2023-11-17T22:03:17.472Z"
   },
   {
    "duration": 0,
    "start_time": "2023-11-17T22:03:17.473Z"
   },
   {
    "duration": 0,
    "start_time": "2023-11-17T22:03:17.474Z"
   },
   {
    "duration": 0,
    "start_time": "2023-11-17T22:03:17.476Z"
   },
   {
    "duration": 1,
    "start_time": "2023-11-17T22:03:17.476Z"
   },
   {
    "duration": 0,
    "start_time": "2023-11-17T22:03:17.477Z"
   },
   {
    "duration": 0,
    "start_time": "2023-11-17T22:03:17.479Z"
   },
   {
    "duration": 0,
    "start_time": "2023-11-17T22:03:17.480Z"
   },
   {
    "duration": 0,
    "start_time": "2023-11-17T22:03:17.481Z"
   },
   {
    "duration": 0,
    "start_time": "2023-11-17T22:03:17.481Z"
   },
   {
    "duration": 0,
    "start_time": "2023-11-17T22:03:17.482Z"
   },
   {
    "duration": 1,
    "start_time": "2023-11-17T22:03:17.483Z"
   },
   {
    "duration": 0,
    "start_time": "2023-11-17T22:03:17.484Z"
   },
   {
    "duration": 0,
    "start_time": "2023-11-17T22:03:17.485Z"
   },
   {
    "duration": 0,
    "start_time": "2023-11-17T22:03:17.531Z"
   },
   {
    "duration": 0,
    "start_time": "2023-11-17T22:03:17.532Z"
   },
   {
    "duration": 0,
    "start_time": "2023-11-17T22:03:17.533Z"
   },
   {
    "duration": 0,
    "start_time": "2023-11-17T22:03:17.534Z"
   },
   {
    "duration": 0,
    "start_time": "2023-11-17T22:03:17.535Z"
   },
   {
    "duration": 0,
    "start_time": "2023-11-17T22:03:17.536Z"
   },
   {
    "duration": 0,
    "start_time": "2023-11-17T22:03:17.537Z"
   },
   {
    "duration": 0,
    "start_time": "2023-11-17T22:03:17.538Z"
   },
   {
    "duration": 0,
    "start_time": "2023-11-17T22:03:17.540Z"
   },
   {
    "duration": 13,
    "start_time": "2023-11-17T22:04:21.366Z"
   },
   {
    "duration": 3,
    "start_time": "2023-11-17T22:04:25.724Z"
   },
   {
    "duration": 14,
    "start_time": "2023-11-17T22:04:26.769Z"
   },
   {
    "duration": 15,
    "start_time": "2023-11-17T22:04:47.218Z"
   },
   {
    "duration": 194,
    "start_time": "2023-11-17T22:11:20.997Z"
   },
   {
    "duration": 1140,
    "start_time": "2023-11-17T22:11:29.506Z"
   },
   {
    "duration": 54,
    "start_time": "2023-11-17T22:11:30.648Z"
   },
   {
    "duration": 17,
    "start_time": "2023-11-17T22:11:30.704Z"
   },
   {
    "duration": 52,
    "start_time": "2023-11-17T22:11:30.723Z"
   },
   {
    "duration": 28,
    "start_time": "2023-11-17T22:11:30.778Z"
   },
   {
    "duration": 39,
    "start_time": "2023-11-17T22:11:30.808Z"
   },
   {
    "duration": 26,
    "start_time": "2023-11-17T22:11:30.849Z"
   },
   {
    "duration": 31,
    "start_time": "2023-11-17T22:11:30.877Z"
   },
   {
    "duration": 125,
    "start_time": "2023-11-17T22:11:30.909Z"
   },
   {
    "duration": 0,
    "start_time": "2023-11-17T22:11:31.037Z"
   },
   {
    "duration": 0,
    "start_time": "2023-11-17T22:11:31.038Z"
   },
   {
    "duration": 0,
    "start_time": "2023-11-17T22:11:31.039Z"
   },
   {
    "duration": 0,
    "start_time": "2023-11-17T22:11:31.040Z"
   },
   {
    "duration": 0,
    "start_time": "2023-11-17T22:11:31.041Z"
   },
   {
    "duration": 0,
    "start_time": "2023-11-17T22:11:31.042Z"
   },
   {
    "duration": 0,
    "start_time": "2023-11-17T22:11:31.042Z"
   },
   {
    "duration": 0,
    "start_time": "2023-11-17T22:11:31.043Z"
   },
   {
    "duration": 0,
    "start_time": "2023-11-17T22:11:31.044Z"
   },
   {
    "duration": 0,
    "start_time": "2023-11-17T22:11:31.045Z"
   },
   {
    "duration": 0,
    "start_time": "2023-11-17T22:11:31.046Z"
   },
   {
    "duration": 0,
    "start_time": "2023-11-17T22:11:31.047Z"
   },
   {
    "duration": 0,
    "start_time": "2023-11-17T22:11:31.048Z"
   },
   {
    "duration": 0,
    "start_time": "2023-11-17T22:11:31.049Z"
   },
   {
    "duration": 0,
    "start_time": "2023-11-17T22:11:31.049Z"
   },
   {
    "duration": 0,
    "start_time": "2023-11-17T22:11:31.050Z"
   },
   {
    "duration": 0,
    "start_time": "2023-11-17T22:11:31.051Z"
   },
   {
    "duration": 0,
    "start_time": "2023-11-17T22:11:31.052Z"
   },
   {
    "duration": 0,
    "start_time": "2023-11-17T22:11:31.053Z"
   },
   {
    "duration": 0,
    "start_time": "2023-11-17T22:11:31.054Z"
   },
   {
    "duration": 0,
    "start_time": "2023-11-17T22:11:31.055Z"
   },
   {
    "duration": 0,
    "start_time": "2023-11-17T22:11:31.056Z"
   },
   {
    "duration": 0,
    "start_time": "2023-11-17T22:11:31.057Z"
   },
   {
    "duration": 0,
    "start_time": "2023-11-17T22:11:31.058Z"
   },
   {
    "duration": 0,
    "start_time": "2023-11-17T22:11:31.059Z"
   },
   {
    "duration": 0,
    "start_time": "2023-11-17T22:11:31.060Z"
   },
   {
    "duration": 0,
    "start_time": "2023-11-17T22:11:31.061Z"
   },
   {
    "duration": 0,
    "start_time": "2023-11-17T22:11:31.062Z"
   },
   {
    "duration": 0,
    "start_time": "2023-11-17T22:11:31.063Z"
   },
   {
    "duration": 13,
    "start_time": "2023-11-17T22:13:24.860Z"
   },
   {
    "duration": 7,
    "start_time": "2023-11-17T22:13:26.466Z"
   },
   {
    "duration": 12,
    "start_time": "2023-11-17T22:17:52.426Z"
   },
   {
    "duration": 3,
    "start_time": "2023-11-17T22:17:53.501Z"
   },
   {
    "duration": 5,
    "start_time": "2023-11-17T22:17:53.748Z"
   },
   {
    "duration": 4,
    "start_time": "2023-11-17T22:17:55.034Z"
   },
   {
    "duration": 12,
    "start_time": "2023-11-17T22:18:05.425Z"
   },
   {
    "duration": 16,
    "start_time": "2023-11-17T22:19:16.581Z"
   },
   {
    "duration": 3,
    "start_time": "2023-11-17T22:19:17.632Z"
   },
   {
    "duration": 15,
    "start_time": "2023-11-17T22:19:29.742Z"
   },
   {
    "duration": 1048,
    "start_time": "2023-11-17T22:19:55.939Z"
   },
   {
    "duration": 9,
    "start_time": "2023-11-17T22:20:54.110Z"
   },
   {
    "duration": 8,
    "start_time": "2023-11-17T22:21:34.816Z"
   },
   {
    "duration": 1046,
    "start_time": "2023-11-17T22:22:03.044Z"
   },
   {
    "duration": 1127,
    "start_time": "2023-11-17T22:22:46.738Z"
   },
   {
    "duration": 5,
    "start_time": "2023-11-17T22:23:29.512Z"
   },
   {
    "duration": 3,
    "start_time": "2023-11-17T22:23:37.379Z"
   },
   {
    "duration": 58,
    "start_time": "2023-11-17T22:23:37.712Z"
   },
   {
    "duration": 12,
    "start_time": "2023-11-17T22:23:38.218Z"
   },
   {
    "duration": 13,
    "start_time": "2023-11-17T22:23:38.386Z"
   },
   {
    "duration": 4,
    "start_time": "2023-11-17T22:23:39.543Z"
   },
   {
    "duration": 17,
    "start_time": "2023-11-17T22:23:40.485Z"
   },
   {
    "duration": 5,
    "start_time": "2023-11-17T22:23:41.441Z"
   },
   {
    "duration": 5,
    "start_time": "2023-11-17T22:23:42.071Z"
   },
   {
    "duration": 23,
    "start_time": "2023-11-17T22:23:43.413Z"
   },
   {
    "duration": 12,
    "start_time": "2023-11-17T22:23:45.952Z"
   },
   {
    "duration": 13,
    "start_time": "2023-11-17T22:24:17.391Z"
   },
   {
    "duration": 12,
    "start_time": "2023-11-17T22:24:54.188Z"
   },
   {
    "duration": 8,
    "start_time": "2023-11-17T22:24:54.587Z"
   },
   {
    "duration": 5,
    "start_time": "2023-11-17T22:24:54.963Z"
   },
   {
    "duration": 5,
    "start_time": "2023-11-17T22:24:55.572Z"
   },
   {
    "duration": 6,
    "start_time": "2023-11-17T22:24:56.387Z"
   },
   {
    "duration": 9,
    "start_time": "2023-11-17T22:24:56.897Z"
   },
   {
    "duration": 323,
    "start_time": "2023-11-17T22:24:57.033Z"
   },
   {
    "duration": 298,
    "start_time": "2023-11-17T22:24:57.492Z"
   },
   {
    "duration": 297,
    "start_time": "2023-11-17T22:24:57.792Z"
   },
   {
    "duration": 229,
    "start_time": "2023-11-17T22:24:58.174Z"
   },
   {
    "duration": 7,
    "start_time": "2023-11-17T22:24:58.711Z"
   },
   {
    "duration": 133,
    "start_time": "2023-11-17T22:24:58.877Z"
   },
   {
    "duration": 10,
    "start_time": "2023-11-17T22:24:59.213Z"
   },
   {
    "duration": 9,
    "start_time": "2023-11-17T22:24:59.375Z"
   },
   {
    "duration": 128,
    "start_time": "2023-11-17T22:24:59.569Z"
   },
   {
    "duration": 220,
    "start_time": "2023-11-17T22:24:59.699Z"
   },
   {
    "duration": 1848,
    "start_time": "2023-11-17T22:25:00.072Z"
   },
   {
    "duration": 1826,
    "start_time": "2023-11-17T22:25:01.922Z"
   },
   {
    "duration": 1675,
    "start_time": "2023-11-17T22:25:03.750Z"
   },
   {
    "duration": 1867,
    "start_time": "2023-11-17T22:25:05.430Z"
   },
   {
    "duration": 6,
    "start_time": "2023-11-17T22:25:07.299Z"
   },
   {
    "duration": 157,
    "start_time": "2023-11-17T22:25:07.306Z"
   },
   {
    "duration": 255,
    "start_time": "2023-11-17T22:25:07.464Z"
   },
   {
    "duration": 40,
    "start_time": "2023-11-17T22:25:07.722Z"
   },
   {
    "duration": 20,
    "start_time": "2023-11-17T22:25:07.764Z"
   },
   {
    "duration": 53,
    "start_time": "2023-11-17T22:25:07.786Z"
   },
   {
    "duration": 17,
    "start_time": "2023-11-17T22:25:07.841Z"
   },
   {
    "duration": 22,
    "start_time": "2023-11-17T22:25:07.987Z"
   },
   {
    "duration": 21,
    "start_time": "2023-11-17T22:25:08.700Z"
   },
   {
    "duration": 25,
    "start_time": "2023-11-17T22:25:09.514Z"
   },
   {
    "duration": 10,
    "start_time": "2023-11-17T22:25:39.807Z"
   },
   {
    "duration": 8,
    "start_time": "2023-11-17T22:26:51.807Z"
   },
   {
    "duration": 14,
    "start_time": "2023-11-17T22:27:32.529Z"
   },
   {
    "duration": 13,
    "start_time": "2023-11-17T22:27:50.530Z"
   },
   {
    "duration": 3,
    "start_time": "2023-11-17T22:30:39.964Z"
   },
   {
    "duration": 56,
    "start_time": "2023-11-17T22:30:40.368Z"
   },
   {
    "duration": 17,
    "start_time": "2023-11-17T22:30:41.081Z"
   },
   {
    "duration": 15,
    "start_time": "2023-11-17T22:30:41.331Z"
   },
   {
    "duration": 4,
    "start_time": "2023-11-17T22:30:42.282Z"
   },
   {
    "duration": 17,
    "start_time": "2023-11-17T22:30:42.745Z"
   },
   {
    "duration": 4,
    "start_time": "2023-11-17T22:30:43.205Z"
   },
   {
    "duration": 5,
    "start_time": "2023-11-17T22:30:43.416Z"
   },
   {
    "duration": 14,
    "start_time": "2023-11-17T22:30:43.687Z"
   },
   {
    "duration": 9,
    "start_time": "2023-11-17T22:30:44.247Z"
   },
   {
    "duration": 20,
    "start_time": "2023-11-17T22:32:19.323Z"
   },
   {
    "duration": 7,
    "start_time": "2023-11-17T22:32:51.538Z"
   },
   {
    "duration": 13,
    "start_time": "2023-11-17T22:33:01.765Z"
   },
   {
    "duration": 14,
    "start_time": "2023-11-17T22:33:07.512Z"
   },
   {
    "duration": 13,
    "start_time": "2023-11-17T22:33:12.170Z"
   },
   {
    "duration": 7,
    "start_time": "2023-11-17T22:35:31.299Z"
   },
   {
    "duration": 7,
    "start_time": "2023-11-17T22:36:21.550Z"
   },
   {
    "duration": 9,
    "start_time": "2023-11-17T22:36:36.488Z"
   },
   {
    "duration": 4,
    "start_time": "2023-11-17T22:36:50.254Z"
   },
   {
    "duration": 9,
    "start_time": "2023-11-17T22:37:24.743Z"
   },
   {
    "duration": 3,
    "start_time": "2023-11-17T22:38:30.778Z"
   },
   {
    "duration": 54,
    "start_time": "2023-11-17T22:38:31.084Z"
   },
   {
    "duration": 15,
    "start_time": "2023-11-17T22:38:31.526Z"
   },
   {
    "duration": 13,
    "start_time": "2023-11-17T22:38:31.692Z"
   },
   {
    "duration": 3,
    "start_time": "2023-11-17T22:38:32.719Z"
   },
   {
    "duration": 16,
    "start_time": "2023-11-17T22:38:33.588Z"
   },
   {
    "duration": 4,
    "start_time": "2023-11-17T22:38:33.926Z"
   },
   {
    "duration": 5,
    "start_time": "2023-11-17T22:38:34.350Z"
   },
   {
    "duration": 7,
    "start_time": "2023-11-17T22:38:35.127Z"
   },
   {
    "duration": 20,
    "start_time": "2023-11-17T22:38:37.557Z"
   },
   {
    "duration": 9,
    "start_time": "2023-11-17T22:38:38.812Z"
   },
   {
    "duration": 6,
    "start_time": "2023-11-17T22:38:40.060Z"
   },
   {
    "duration": 4,
    "start_time": "2023-11-17T22:38:40.751Z"
   },
   {
    "duration": 1042,
    "start_time": "2023-11-17T22:38:54.183Z"
   },
   {
    "duration": 52,
    "start_time": "2023-11-17T22:38:55.227Z"
   },
   {
    "duration": 17,
    "start_time": "2023-11-17T22:38:55.281Z"
   },
   {
    "duration": 13,
    "start_time": "2023-11-17T22:38:55.300Z"
   },
   {
    "duration": 3,
    "start_time": "2023-11-17T22:38:55.315Z"
   },
   {
    "duration": 27,
    "start_time": "2023-11-17T22:38:55.319Z"
   },
   {
    "duration": 4,
    "start_time": "2023-11-17T22:38:55.348Z"
   },
   {
    "duration": 11,
    "start_time": "2023-11-17T22:38:55.353Z"
   },
   {
    "duration": 8,
    "start_time": "2023-11-17T22:38:55.366Z"
   },
   {
    "duration": 14,
    "start_time": "2023-11-17T22:38:55.375Z"
   },
   {
    "duration": 6,
    "start_time": "2023-11-17T22:38:55.390Z"
   },
   {
    "duration": 5,
    "start_time": "2023-11-17T22:38:55.398Z"
   },
   {
    "duration": 9,
    "start_time": "2023-11-17T22:38:55.404Z"
   },
   {
    "duration": 15,
    "start_time": "2023-11-17T22:38:55.416Z"
   },
   {
    "duration": 300,
    "start_time": "2023-11-17T22:38:55.432Z"
   },
   {
    "duration": 269,
    "start_time": "2023-11-17T22:38:55.734Z"
   },
   {
    "duration": 257,
    "start_time": "2023-11-17T22:38:56.005Z"
   },
   {
    "duration": 224,
    "start_time": "2023-11-17T22:38:56.263Z"
   },
   {
    "duration": 6,
    "start_time": "2023-11-17T22:38:56.488Z"
   },
   {
    "duration": 145,
    "start_time": "2023-11-17T22:38:56.495Z"
   },
   {
    "duration": 9,
    "start_time": "2023-11-17T22:38:56.641Z"
   },
   {
    "duration": 11,
    "start_time": "2023-11-17T22:38:56.652Z"
   },
   {
    "duration": 138,
    "start_time": "2023-11-17T22:38:56.664Z"
   },
   {
    "duration": 203,
    "start_time": "2023-11-17T22:38:56.804Z"
   },
   {
    "duration": 1779,
    "start_time": "2023-11-17T22:38:57.009Z"
   },
   {
    "duration": 1830,
    "start_time": "2023-11-17T22:38:58.789Z"
   },
   {
    "duration": 1754,
    "start_time": "2023-11-17T22:39:00.620Z"
   },
   {
    "duration": 1736,
    "start_time": "2023-11-17T22:39:02.376Z"
   },
   {
    "duration": 5,
    "start_time": "2023-11-17T22:39:04.114Z"
   },
   {
    "duration": 151,
    "start_time": "2023-11-17T22:39:04.120Z"
   },
   {
    "duration": 231,
    "start_time": "2023-11-17T22:39:04.272Z"
   },
   {
    "duration": 38,
    "start_time": "2023-11-17T22:39:04.505Z"
   },
   {
    "duration": 15,
    "start_time": "2023-11-17T22:39:04.545Z"
   },
   {
    "duration": 31,
    "start_time": "2023-11-17T22:39:04.562Z"
   },
   {
    "duration": 15,
    "start_time": "2023-11-17T22:39:04.595Z"
   },
   {
    "duration": 34,
    "start_time": "2023-11-17T22:39:04.612Z"
   },
   {
    "duration": 20,
    "start_time": "2023-11-17T22:39:04.647Z"
   },
   {
    "duration": 21,
    "start_time": "2023-11-17T22:39:04.668Z"
   },
   {
    "duration": 1307,
    "start_time": "2023-11-18T07:42:59.451Z"
   },
   {
    "duration": 181,
    "start_time": "2023-11-18T07:43:00.760Z"
   },
   {
    "duration": 101,
    "start_time": "2023-11-18T07:43:31.921Z"
   },
   {
    "duration": 1460,
    "start_time": "2023-11-18T07:43:46.653Z"
   },
   {
    "duration": 1413,
    "start_time": "2023-11-18T07:43:52.041Z"
   },
   {
    "duration": 6,
    "start_time": "2023-11-18T07:44:00.334Z"
   },
   {
    "duration": 1569,
    "start_time": "2023-11-18T07:44:15.268Z"
   },
   {
    "duration": 5,
    "start_time": "2023-11-18T07:44:25.238Z"
   },
   {
    "duration": 1490,
    "start_time": "2023-11-18T07:45:04.447Z"
   },
   {
    "duration": 4,
    "start_time": "2023-11-18T07:45:10.875Z"
   },
   {
    "duration": 17,
    "start_time": "2023-11-18T07:45:11.339Z"
   },
   {
    "duration": 5,
    "start_time": "2023-11-18T07:45:11.744Z"
   },
   {
    "duration": 5,
    "start_time": "2023-11-18T07:45:11.879Z"
   },
   {
    "duration": 13,
    "start_time": "2023-11-18T07:45:12.025Z"
   },
   {
    "duration": 8,
    "start_time": "2023-11-18T07:45:12.206Z"
   },
   {
    "duration": 5,
    "start_time": "2023-11-18T07:45:13.506Z"
   },
   {
    "duration": 3,
    "start_time": "2023-11-18T07:45:19.683Z"
   },
   {
    "duration": 52,
    "start_time": "2023-11-18T07:45:20.040Z"
   },
   {
    "duration": 17,
    "start_time": "2023-11-18T07:45:20.722Z"
   },
   {
    "duration": 14,
    "start_time": "2023-11-18T07:45:20.876Z"
   },
   {
    "duration": 3,
    "start_time": "2023-11-18T07:45:21.451Z"
   },
   {
    "duration": 15,
    "start_time": "2023-11-18T07:45:21.799Z"
   },
   {
    "duration": 5,
    "start_time": "2023-11-18T07:45:22.328Z"
   },
   {
    "duration": 5,
    "start_time": "2023-11-18T07:45:22.701Z"
   },
   {
    "duration": 8,
    "start_time": "2023-11-18T07:45:22.909Z"
   },
   {
    "duration": 8,
    "start_time": "2023-11-18T07:45:23.232Z"
   },
   {
    "duration": 5,
    "start_time": "2023-11-18T07:45:24.065Z"
   },
   {
    "duration": 4,
    "start_time": "2023-11-18T07:45:24.434Z"
   },
   {
    "duration": 5,
    "start_time": "2023-11-18T07:45:44.487Z"
   },
   {
    "duration": 54,
    "start_time": "2023-11-18T07:46:10.948Z"
   },
   {
    "duration": 7,
    "start_time": "2023-11-18T07:46:17.703Z"
   },
   {
    "duration": 5,
    "start_time": "2023-11-18T07:47:11.368Z"
   },
   {
    "duration": 51,
    "start_time": "2023-11-18T07:47:15.989Z"
   },
   {
    "duration": 13,
    "start_time": "2023-11-18T07:47:16.421Z"
   },
   {
    "duration": 13,
    "start_time": "2023-11-18T07:47:16.579Z"
   },
   {
    "duration": 3,
    "start_time": "2023-11-18T07:47:17.059Z"
   },
   {
    "duration": 14,
    "start_time": "2023-11-18T07:47:17.653Z"
   },
   {
    "duration": 4,
    "start_time": "2023-11-18T07:47:17.981Z"
   },
   {
    "duration": 4,
    "start_time": "2023-11-18T07:47:18.186Z"
   },
   {
    "duration": 7,
    "start_time": "2023-11-18T07:47:18.334Z"
   },
   {
    "duration": 7,
    "start_time": "2023-11-18T07:47:18.508Z"
   },
   {
    "duration": 5,
    "start_time": "2023-11-18T07:47:18.704Z"
   },
   {
    "duration": 5,
    "start_time": "2023-11-18T07:47:18.860Z"
   },
   {
    "duration": 4,
    "start_time": "2023-11-18T07:47:19.034Z"
   },
   {
    "duration": 5,
    "start_time": "2023-11-18T07:47:30.387Z"
   },
   {
    "duration": 11,
    "start_time": "2023-11-18T07:48:13.248Z"
   },
   {
    "duration": 5,
    "start_time": "2023-11-18T07:48:16.842Z"
   },
   {
    "duration": 5,
    "start_time": "2023-11-18T07:49:01.509Z"
   },
   {
    "duration": 6,
    "start_time": "2023-11-18T07:50:07.742Z"
   },
   {
    "duration": 3,
    "start_time": "2023-11-18T07:50:08.439Z"
   },
   {
    "duration": 6,
    "start_time": "2023-11-18T07:50:09.369Z"
   },
   {
    "duration": 4,
    "start_time": "2023-11-18T07:50:14.424Z"
   },
   {
    "duration": 3,
    "start_time": "2023-11-18T07:50:38.166Z"
   },
   {
    "duration": 54,
    "start_time": "2023-11-18T07:50:38.870Z"
   },
   {
    "duration": 13,
    "start_time": "2023-11-18T07:50:39.367Z"
   },
   {
    "duration": 15,
    "start_time": "2023-11-18T07:50:39.503Z"
   },
   {
    "duration": 4,
    "start_time": "2023-11-18T07:50:40.014Z"
   },
   {
    "duration": 18,
    "start_time": "2023-11-18T07:50:40.308Z"
   },
   {
    "duration": 5,
    "start_time": "2023-11-18T07:50:40.660Z"
   },
   {
    "duration": 5,
    "start_time": "2023-11-18T07:50:41.203Z"
   },
   {
    "duration": 8,
    "start_time": "2023-11-18T07:50:41.395Z"
   },
   {
    "duration": 5,
    "start_time": "2023-11-18T07:50:41.592Z"
   },
   {
    "duration": 8,
    "start_time": "2023-11-18T07:50:42.199Z"
   },
   {
    "duration": 5,
    "start_time": "2023-11-18T07:50:42.801Z"
   },
   {
    "duration": 4,
    "start_time": "2023-11-18T07:50:43.505Z"
   },
   {
    "duration": 6,
    "start_time": "2023-11-18T07:52:20.060Z"
   },
   {
    "duration": 10,
    "start_time": "2023-11-18T07:52:35.931Z"
   },
   {
    "duration": 9,
    "start_time": "2023-11-18T07:53:10.528Z"
   },
   {
    "duration": 298,
    "start_time": "2023-11-18T07:53:13.791Z"
   },
   {
    "duration": 4,
    "start_time": "2023-11-18T07:53:15.114Z"
   },
   {
    "duration": 1242,
    "start_time": "2023-11-18T10:01:40.411Z"
   },
   {
    "duration": 56,
    "start_time": "2023-11-18T10:01:41.655Z"
   },
   {
    "duration": 17,
    "start_time": "2023-11-18T10:01:41.712Z"
   },
   {
    "duration": 31,
    "start_time": "2023-11-18T10:01:41.731Z"
   },
   {
    "duration": 5,
    "start_time": "2023-11-18T10:01:41.764Z"
   },
   {
    "duration": 22,
    "start_time": "2023-11-18T10:01:41.771Z"
   },
   {
    "duration": 8,
    "start_time": "2023-11-18T10:01:41.794Z"
   },
   {
    "duration": 6,
    "start_time": "2023-11-18T10:01:41.803Z"
   },
   {
    "duration": 10,
    "start_time": "2023-11-18T10:01:41.810Z"
   },
   {
    "duration": 11,
    "start_time": "2023-11-18T10:01:41.821Z"
   },
   {
    "duration": 20,
    "start_time": "2023-11-18T10:01:41.834Z"
   },
   {
    "duration": 6,
    "start_time": "2023-11-18T10:01:41.856Z"
   },
   {
    "duration": 6,
    "start_time": "2023-11-18T10:01:41.864Z"
   },
   {
    "duration": 5,
    "start_time": "2023-11-18T10:01:41.874Z"
   },
   {
    "duration": 9,
    "start_time": "2023-11-18T10:01:41.881Z"
   },
   {
    "duration": 353,
    "start_time": "2023-11-18T10:01:41.892Z"
   },
   {
    "duration": 313,
    "start_time": "2023-11-18T10:01:42.248Z"
   },
   {
    "duration": 312,
    "start_time": "2023-11-18T10:01:42.563Z"
   },
   {
    "duration": 256,
    "start_time": "2023-11-18T10:01:42.877Z"
   },
   {
    "duration": 7,
    "start_time": "2023-11-18T10:01:43.135Z"
   },
   {
    "duration": 167,
    "start_time": "2023-11-18T10:01:43.143Z"
   },
   {
    "duration": 10,
    "start_time": "2023-11-18T10:01:43.312Z"
   },
   {
    "duration": 31,
    "start_time": "2023-11-18T10:01:43.323Z"
   },
   {
    "duration": 137,
    "start_time": "2023-11-18T10:01:43.356Z"
   },
   {
    "duration": 209,
    "start_time": "2023-11-18T10:01:43.495Z"
   },
   {
    "duration": 1802,
    "start_time": "2023-11-18T10:01:43.706Z"
   },
   {
    "duration": 1923,
    "start_time": "2023-11-18T10:01:45.510Z"
   },
   {
    "duration": 1779,
    "start_time": "2023-11-18T10:01:47.434Z"
   },
   {
    "duration": 1797,
    "start_time": "2023-11-18T10:01:49.215Z"
   },
   {
    "duration": 17,
    "start_time": "2023-11-18T10:01:51.014Z"
   },
   {
    "duration": 160,
    "start_time": "2023-11-18T10:01:51.033Z"
   },
   {
    "duration": 252,
    "start_time": "2023-11-18T10:01:51.195Z"
   },
   {
    "duration": 30,
    "start_time": "2023-11-18T10:01:51.449Z"
   },
   {
    "duration": 16,
    "start_time": "2023-11-18T10:01:51.481Z"
   },
   {
    "duration": 47,
    "start_time": "2023-11-18T10:01:51.498Z"
   },
   {
    "duration": 19,
    "start_time": "2023-11-18T10:01:51.547Z"
   },
   {
    "duration": 28,
    "start_time": "2023-11-18T10:01:51.568Z"
   },
   {
    "duration": 43,
    "start_time": "2023-11-18T10:01:51.598Z"
   },
   {
    "duration": 23,
    "start_time": "2023-11-18T10:01:51.643Z"
   },
   {
    "duration": 1135,
    "start_time": "2023-11-18T11:59:27.249Z"
   },
   {
    "duration": 54,
    "start_time": "2023-11-18T11:59:28.386Z"
   },
   {
    "duration": 16,
    "start_time": "2023-11-18T11:59:28.442Z"
   },
   {
    "duration": 19,
    "start_time": "2023-11-18T11:59:28.459Z"
   },
   {
    "duration": 3,
    "start_time": "2023-11-18T11:59:28.481Z"
   },
   {
    "duration": 21,
    "start_time": "2023-11-18T11:59:28.485Z"
   },
   {
    "duration": 5,
    "start_time": "2023-11-18T11:59:28.508Z"
   },
   {
    "duration": 7,
    "start_time": "2023-11-18T11:59:28.531Z"
   },
   {
    "duration": 9,
    "start_time": "2023-11-18T11:59:28.539Z"
   },
   {
    "duration": 14,
    "start_time": "2023-11-18T11:59:28.550Z"
   },
   {
    "duration": 10,
    "start_time": "2023-11-18T11:59:28.566Z"
   },
   {
    "duration": 10,
    "start_time": "2023-11-18T11:59:28.578Z"
   },
   {
    "duration": 10,
    "start_time": "2023-11-18T11:59:28.590Z"
   },
   {
    "duration": 27,
    "start_time": "2023-11-18T11:59:28.604Z"
   },
   {
    "duration": 10,
    "start_time": "2023-11-18T11:59:28.632Z"
   },
   {
    "duration": 331,
    "start_time": "2023-11-18T11:59:28.644Z"
   },
   {
    "duration": 296,
    "start_time": "2023-11-18T11:59:28.977Z"
   },
   {
    "duration": 263,
    "start_time": "2023-11-18T11:59:29.275Z"
   },
   {
    "duration": 239,
    "start_time": "2023-11-18T11:59:29.540Z"
   },
   {
    "duration": 8,
    "start_time": "2023-11-18T11:59:29.781Z"
   },
   {
    "duration": 145,
    "start_time": "2023-11-18T11:59:29.791Z"
   },
   {
    "duration": 11,
    "start_time": "2023-11-18T11:59:29.938Z"
   },
   {
    "duration": 13,
    "start_time": "2023-11-18T11:59:29.950Z"
   },
   {
    "duration": 151,
    "start_time": "2023-11-18T11:59:29.965Z"
   },
   {
    "duration": 242,
    "start_time": "2023-11-18T11:59:30.117Z"
   },
   {
    "duration": 1815,
    "start_time": "2023-11-18T11:59:30.361Z"
   },
   {
    "duration": 1808,
    "start_time": "2023-11-18T11:59:32.178Z"
   },
   {
    "duration": 1777,
    "start_time": "2023-11-18T11:59:33.988Z"
   },
   {
    "duration": 1817,
    "start_time": "2023-11-18T11:59:35.767Z"
   },
   {
    "duration": 7,
    "start_time": "2023-11-18T11:59:37.585Z"
   },
   {
    "duration": 164,
    "start_time": "2023-11-18T11:59:37.593Z"
   },
   {
    "duration": 263,
    "start_time": "2023-11-18T11:59:37.760Z"
   },
   {
    "duration": 32,
    "start_time": "2023-11-18T11:59:38.025Z"
   },
   {
    "duration": 15,
    "start_time": "2023-11-18T11:59:38.059Z"
   },
   {
    "duration": 25,
    "start_time": "2023-11-18T11:59:38.076Z"
   },
   {
    "duration": 36,
    "start_time": "2023-11-18T11:59:38.102Z"
   },
   {
    "duration": 21,
    "start_time": "2023-11-18T11:59:38.140Z"
   },
   {
    "duration": 20,
    "start_time": "2023-11-18T11:59:38.162Z"
   },
   {
    "duration": 47,
    "start_time": "2023-11-18T11:59:38.184Z"
   },
   {
    "duration": 24,
    "start_time": "2023-11-18T12:02:06.293Z"
   },
   {
    "duration": 5,
    "start_time": "2023-11-18T12:03:37.018Z"
   },
   {
    "duration": 30,
    "start_time": "2023-11-18T12:20:33.974Z"
   },
   {
    "duration": 1164,
    "start_time": "2023-11-18T12:20:52.067Z"
   },
   {
    "duration": 54,
    "start_time": "2023-11-18T12:20:53.232Z"
   },
   {
    "duration": 16,
    "start_time": "2023-11-18T12:20:53.288Z"
   },
   {
    "duration": 15,
    "start_time": "2023-11-18T12:20:53.306Z"
   },
   {
    "duration": 10,
    "start_time": "2023-11-18T12:20:53.322Z"
   },
   {
    "duration": 19,
    "start_time": "2023-11-18T12:20:53.333Z"
   },
   {
    "duration": 4,
    "start_time": "2023-11-18T12:20:53.354Z"
   },
   {
    "duration": 6,
    "start_time": "2023-11-18T12:20:53.360Z"
   },
   {
    "duration": 11,
    "start_time": "2023-11-18T12:20:53.367Z"
   },
   {
    "duration": 5,
    "start_time": "2023-11-18T12:20:53.380Z"
   },
   {
    "duration": 15,
    "start_time": "2023-11-18T12:20:53.386Z"
   },
   {
    "duration": 12,
    "start_time": "2023-11-18T12:20:53.403Z"
   },
   {
    "duration": 5,
    "start_time": "2023-11-18T12:20:53.430Z"
   },
   {
    "duration": 17,
    "start_time": "2023-11-18T12:20:53.437Z"
   },
   {
    "duration": 11,
    "start_time": "2023-11-18T12:20:53.456Z"
   },
   {
    "duration": 319,
    "start_time": "2023-11-18T12:20:53.469Z"
   },
   {
    "duration": 283,
    "start_time": "2023-11-18T12:20:53.790Z"
   },
   {
    "duration": 259,
    "start_time": "2023-11-18T12:20:54.074Z"
   },
   {
    "duration": 215,
    "start_time": "2023-11-18T12:20:54.335Z"
   },
   {
    "duration": 6,
    "start_time": "2023-11-18T12:20:54.552Z"
   },
   {
    "duration": 142,
    "start_time": "2023-11-18T12:20:54.559Z"
   },
   {
    "duration": 9,
    "start_time": "2023-11-18T12:20:54.702Z"
   },
   {
    "duration": 19,
    "start_time": "2023-11-18T12:20:54.713Z"
   },
   {
    "duration": 150,
    "start_time": "2023-11-18T12:20:54.734Z"
   },
   {
    "duration": 221,
    "start_time": "2023-11-18T12:20:54.885Z"
   },
   {
    "duration": 1768,
    "start_time": "2023-11-18T12:20:55.108Z"
   },
   {
    "duration": 1922,
    "start_time": "2023-11-18T12:20:56.877Z"
   },
   {
    "duration": 1701,
    "start_time": "2023-11-18T12:20:58.802Z"
   },
   {
    "duration": 1774,
    "start_time": "2023-11-18T12:21:00.505Z"
   },
   {
    "duration": 9,
    "start_time": "2023-11-18T12:21:02.281Z"
   },
   {
    "duration": 182,
    "start_time": "2023-11-18T12:21:02.291Z"
   },
   {
    "duration": 234,
    "start_time": "2023-11-18T12:21:02.474Z"
   },
   {
    "duration": 37,
    "start_time": "2023-11-18T12:21:02.710Z"
   },
   {
    "duration": 16,
    "start_time": "2023-11-18T12:21:02.749Z"
   },
   {
    "duration": 27,
    "start_time": "2023-11-18T12:21:02.766Z"
   },
   {
    "duration": 16,
    "start_time": "2023-11-18T12:21:02.795Z"
   },
   {
    "duration": 37,
    "start_time": "2023-11-18T12:21:02.812Z"
   },
   {
    "duration": 21,
    "start_time": "2023-11-18T12:21:02.850Z"
   },
   {
    "duration": 21,
    "start_time": "2023-11-18T12:21:02.872Z"
   },
   {
    "duration": 45,
    "start_time": "2023-11-18T18:19:11.524Z"
   },
   {
    "duration": 5,
    "start_time": "2023-11-18T18:19:18.534Z"
   },
   {
    "duration": 1279,
    "start_time": "2023-11-18T18:19:24.140Z"
   },
   {
    "duration": 92,
    "start_time": "2023-11-18T18:19:25.421Z"
   },
   {
    "duration": 16,
    "start_time": "2023-11-18T18:19:25.514Z"
   },
   {
    "duration": 13,
    "start_time": "2023-11-18T18:19:25.532Z"
   },
   {
    "duration": 3,
    "start_time": "2023-11-18T18:19:25.748Z"
   },
   {
    "duration": 16,
    "start_time": "2023-11-18T18:19:26.430Z"
   },
   {
    "duration": 4,
    "start_time": "2023-11-18T18:19:27.601Z"
   },
   {
    "duration": 4,
    "start_time": "2023-11-18T18:19:27.752Z"
   },
   {
    "duration": 7,
    "start_time": "2023-11-18T18:19:27.934Z"
   },
   {
    "duration": 5,
    "start_time": "2023-11-18T18:19:30.428Z"
   },
   {
    "duration": 8,
    "start_time": "2023-11-18T18:19:30.614Z"
   },
   {
    "duration": 5,
    "start_time": "2023-11-18T18:19:30.815Z"
   },
   {
    "duration": 5,
    "start_time": "2023-11-18T18:19:31.006Z"
   },
   {
    "duration": 7,
    "start_time": "2023-11-18T18:19:33.272Z"
   },
   {
    "duration": 60,
    "start_time": "2023-11-18T18:20:19.532Z"
   },
   {
    "duration": 1102,
    "start_time": "2023-11-18T18:20:28.535Z"
   },
   {
    "duration": 53,
    "start_time": "2023-11-18T18:20:29.639Z"
   },
   {
    "duration": 15,
    "start_time": "2023-11-18T18:20:29.694Z"
   },
   {
    "duration": 17,
    "start_time": "2023-11-18T18:20:29.710Z"
   },
   {
    "duration": 2,
    "start_time": "2023-11-18T18:20:29.728Z"
   },
   {
    "duration": 17,
    "start_time": "2023-11-18T18:20:29.732Z"
   },
   {
    "duration": 15,
    "start_time": "2023-11-18T18:20:29.751Z"
   },
   {
    "duration": 5,
    "start_time": "2023-11-18T18:20:29.768Z"
   },
   {
    "duration": 6,
    "start_time": "2023-11-18T18:20:29.774Z"
   },
   {
    "duration": 5,
    "start_time": "2023-11-18T18:20:29.782Z"
   },
   {
    "duration": 11,
    "start_time": "2023-11-18T18:20:29.788Z"
   },
   {
    "duration": 10,
    "start_time": "2023-11-18T18:20:29.800Z"
   },
   {
    "duration": 29,
    "start_time": "2023-11-18T18:20:29.811Z"
   },
   {
    "duration": 16,
    "start_time": "2023-11-18T18:20:29.841Z"
   },
   {
    "duration": 20,
    "start_time": "2023-11-18T18:20:29.858Z"
   },
   {
    "duration": 303,
    "start_time": "2023-11-18T18:20:29.879Z"
   },
   {
    "duration": 277,
    "start_time": "2023-11-18T18:20:30.183Z"
   },
   {
    "duration": 265,
    "start_time": "2023-11-18T18:20:30.462Z"
   },
   {
    "duration": 236,
    "start_time": "2023-11-18T18:20:30.729Z"
   },
   {
    "duration": 6,
    "start_time": "2023-11-18T18:20:30.966Z"
   },
   {
    "duration": 140,
    "start_time": "2023-11-18T18:20:30.974Z"
   },
   {
    "duration": 8,
    "start_time": "2023-11-18T18:20:31.116Z"
   },
   {
    "duration": 25,
    "start_time": "2023-11-18T18:20:31.125Z"
   },
   {
    "duration": 184,
    "start_time": "2023-11-18T18:20:31.151Z"
   },
   {
    "duration": 216,
    "start_time": "2023-11-18T18:20:31.336Z"
   },
   {
    "duration": 1804,
    "start_time": "2023-11-18T18:20:31.554Z"
   },
   {
    "duration": 1824,
    "start_time": "2023-11-18T18:20:33.360Z"
   },
   {
    "duration": 1669,
    "start_time": "2023-11-18T18:20:35.188Z"
   },
   {
    "duration": 1690,
    "start_time": "2023-11-18T18:20:36.859Z"
   },
   {
    "duration": 7,
    "start_time": "2023-11-18T18:20:38.550Z"
   },
   {
    "duration": 136,
    "start_time": "2023-11-18T18:20:38.558Z"
   },
   {
    "duration": 221,
    "start_time": "2023-11-18T18:20:38.696Z"
   },
   {
    "duration": 36,
    "start_time": "2023-11-18T18:20:38.918Z"
   },
   {
    "duration": 14,
    "start_time": "2023-11-18T18:20:38.955Z"
   },
   {
    "duration": 61,
    "start_time": "2023-11-18T18:20:38.970Z"
   },
   {
    "duration": 34,
    "start_time": "2023-11-18T18:20:39.033Z"
   },
   {
    "duration": 32,
    "start_time": "2023-11-18T18:20:39.069Z"
   },
   {
    "duration": 23,
    "start_time": "2023-11-18T18:20:39.103Z"
   },
   {
    "duration": 95,
    "start_time": "2023-11-18T18:20:39.128Z"
   },
   {
    "duration": 0,
    "start_time": "2023-11-18T18:20:39.224Z"
   },
   {
    "duration": 242,
    "start_time": "2023-11-18T18:23:52.105Z"
   },
   {
    "duration": 230,
    "start_time": "2023-11-18T18:23:59.073Z"
   },
   {
    "duration": 73,
    "start_time": "2023-11-18T18:33:35.866Z"
   },
   {
    "duration": 83,
    "start_time": "2023-11-18T18:34:03.747Z"
   },
   {
    "duration": 214,
    "start_time": "2023-11-18T18:35:55.424Z"
   },
   {
    "duration": 208,
    "start_time": "2023-11-18T18:36:14.844Z"
   },
   {
    "duration": 27,
    "start_time": "2023-11-18T18:37:26.582Z"
   },
   {
    "duration": 28,
    "start_time": "2023-11-18T18:37:39.748Z"
   },
   {
    "duration": 1039,
    "start_time": "2023-11-18T18:39:24.589Z"
   },
   {
    "duration": 53,
    "start_time": "2023-11-18T18:39:25.630Z"
   },
   {
    "duration": 15,
    "start_time": "2023-11-18T18:39:25.684Z"
   },
   {
    "duration": 18,
    "start_time": "2023-11-18T18:39:25.700Z"
   },
   {
    "duration": 2,
    "start_time": "2023-11-18T18:39:25.720Z"
   },
   {
    "duration": 17,
    "start_time": "2023-11-18T18:39:25.723Z"
   },
   {
    "duration": 6,
    "start_time": "2023-11-18T18:39:25.741Z"
   },
   {
    "duration": 35,
    "start_time": "2023-11-18T18:39:25.748Z"
   },
   {
    "duration": 22,
    "start_time": "2023-11-18T18:39:25.784Z"
   },
   {
    "duration": 4,
    "start_time": "2023-11-18T18:39:25.807Z"
   },
   {
    "duration": 11,
    "start_time": "2023-11-18T18:39:25.812Z"
   },
   {
    "duration": 5,
    "start_time": "2023-11-18T18:39:25.824Z"
   },
   {
    "duration": 5,
    "start_time": "2023-11-18T18:39:25.830Z"
   },
   {
    "duration": 8,
    "start_time": "2023-11-18T18:39:25.838Z"
   },
   {
    "duration": 6,
    "start_time": "2023-11-18T18:39:25.847Z"
   },
   {
    "duration": 308,
    "start_time": "2023-11-18T18:39:25.854Z"
   },
   {
    "duration": 268,
    "start_time": "2023-11-18T18:39:26.164Z"
   },
   {
    "duration": 250,
    "start_time": "2023-11-18T18:39:26.434Z"
   },
   {
    "duration": 206,
    "start_time": "2023-11-18T18:39:26.685Z"
   },
   {
    "duration": 6,
    "start_time": "2023-11-18T18:39:26.893Z"
   },
   {
    "duration": 127,
    "start_time": "2023-11-18T18:39:26.900Z"
   },
   {
    "duration": 17,
    "start_time": "2023-11-18T18:39:27.028Z"
   },
   {
    "duration": 8,
    "start_time": "2023-11-18T18:39:27.047Z"
   },
   {
    "duration": 139,
    "start_time": "2023-11-18T18:39:27.056Z"
   },
   {
    "duration": 213,
    "start_time": "2023-11-18T18:39:27.196Z"
   },
   {
    "duration": 1787,
    "start_time": "2023-11-18T18:39:27.411Z"
   },
   {
    "duration": 1793,
    "start_time": "2023-11-18T18:39:29.199Z"
   },
   {
    "duration": 1713,
    "start_time": "2023-11-18T18:39:30.993Z"
   },
   {
    "duration": 1732,
    "start_time": "2023-11-18T18:39:32.707Z"
   },
   {
    "duration": 7,
    "start_time": "2023-11-18T18:39:34.440Z"
   },
   {
    "duration": 156,
    "start_time": "2023-11-18T18:39:34.449Z"
   },
   {
    "duration": 229,
    "start_time": "2023-11-18T18:39:34.606Z"
   },
   {
    "duration": 33,
    "start_time": "2023-11-18T18:39:34.836Z"
   },
   {
    "duration": 16,
    "start_time": "2023-11-18T18:39:34.870Z"
   },
   {
    "duration": 24,
    "start_time": "2023-11-18T18:39:34.888Z"
   },
   {
    "duration": 36,
    "start_time": "2023-11-18T18:39:34.914Z"
   },
   {
    "duration": 22,
    "start_time": "2023-11-18T18:39:34.951Z"
   },
   {
    "duration": 21,
    "start_time": "2023-11-18T18:39:34.975Z"
   },
   {
    "duration": 48,
    "start_time": "2023-11-18T18:39:34.998Z"
   }
  ],
  "kernelspec": {
   "display_name": "Python 3 (ipykernel)",
   "language": "python",
   "name": "python3"
  },
  "language_info": {
   "codemirror_mode": {
    "name": "ipython",
    "version": 3
   },
   "file_extension": ".py",
   "mimetype": "text/x-python",
   "name": "python",
   "nbconvert_exporter": "python",
   "pygments_lexer": "ipython3",
   "version": "3.11.4"
  },
  "toc": {
   "base_numbering": 1,
   "nav_menu": {},
   "number_sections": true,
   "sideBar": true,
   "skip_h1_title": true,
   "title_cell": "Table of Contents",
   "title_sidebar": "Contents",
   "toc_cell": false,
   "toc_position": {},
   "toc_section_display": true,
   "toc_window_display": false
  }
 },
 "nbformat": 4,
 "nbformat_minor": 2
}
