{
 "cells": [
  {
   "cell_type": "markdown",
   "metadata": {},
   "source": [
    "# Определение стоимости автомобилей"
   ]
  },
  {
   "cell_type": "markdown",
   "metadata": {},
   "source": [
    "Сервис по продаже автомобилей с пробегом «Не бит, не крашен» разрабатывает приложение для привлечения новых клиентов. В нём можно быстро узнать рыночную стоимость своего автомобиля. В вашем распоряжении исторические данные: технические характеристики, комплектации и цены автомобилей. Вам нужно построить модель для определения стоимости. \n",
    "\n",
    "Заказчику важны:\n",
    "\n",
    "- качество предсказания;\n",
    "- скорость предсказания;\n",
    "- время обучения."
   ]
  },
  {
   "cell_type": "markdown",
   "metadata": {},
   "source": [
    "## Библиотеки"
   ]
  },
  {
   "cell_type": "code",
   "execution_count": 1,
   "metadata": {},
   "outputs": [],
   "source": [
    "!pip install -U scikit-learn -q"
   ]
  },
  {
   "cell_type": "code",
   "execution_count": 2,
   "metadata": {},
   "outputs": [],
   "source": [
    "import warnings\n",
    "\n",
    "warnings.filterwarnings('ignore')"
   ]
  },
  {
   "cell_type": "code",
   "execution_count": 3,
   "metadata": {},
   "outputs": [],
   "source": [
    "# библиотеки\n",
    "from time import time\n",
    "\n",
    "\n",
    "from sklearn.metrics import mean_squared_error \n",
    "\n",
    "from catboost import CatBoostRegressor\n",
    "from lightgbm import LGBMRegressor\n",
    "import lightgbm as lgb\n",
    "\n",
    "import pandas as pd\n",
    "import seaborn as sns\n",
    "import matplotlib.pyplot as plt\n",
    "from scipy import stats as st\n",
    "import numpy as np\n",
    "\n",
    "\n",
    "from sklearn.preprocessing import (\n",
    "    StandardScaler,\n",
    "    MinMaxScaler,\n",
    "    RobustScaler,\n",
    "    OneHotEncoder,\n",
    "    OrdinalEncoder\n",
    ")\n",
    "\n",
    "from sklearn.model_selection import train_test_split, cross_val_score\n",
    "from sklearn.model_selection import RandomizedSearchCV\n",
    "from sklearn.linear_model import LinearRegression\n",
    "from sklearn.tree import DecisionTreeRegressor\n",
    "from sklearn.dummy import DummyRegressor\n",
    "\n",
    "from sklearn.pipeline import Pipeline\n",
    "from sklearn.compose import ColumnTransformer\n",
    "from sklearn.impute import SimpleImputer"
   ]
  },
  {
   "cell_type": "markdown",
   "metadata": {},
   "source": [
    "## Данные"
   ]
  },
  {
   "cell_type": "code",
   "execution_count": 4,
   "metadata": {},
   "outputs": [],
   "source": [
    "# загрузка данных\n",
    "data = pd.read_csv('https://code.s3.yandex.net/datasets/autos.csv')"
   ]
  },
  {
   "cell_type": "code",
   "execution_count": 5,
   "metadata": {},
   "outputs": [
    {
     "data": {
      "text/html": [
       "<div>\n",
       "<style scoped>\n",
       "    .dataframe tbody tr th:only-of-type {\n",
       "        vertical-align: middle;\n",
       "    }\n",
       "\n",
       "    .dataframe tbody tr th {\n",
       "        vertical-align: top;\n",
       "    }\n",
       "\n",
       "    .dataframe thead th {\n",
       "        text-align: right;\n",
       "    }\n",
       "</style>\n",
       "<table border=\"1\" class=\"dataframe\">\n",
       "  <thead>\n",
       "    <tr style=\"text-align: right;\">\n",
       "      <th></th>\n",
       "      <th>DateCrawled</th>\n",
       "      <th>Price</th>\n",
       "      <th>VehicleType</th>\n",
       "      <th>RegistrationYear</th>\n",
       "      <th>Gearbox</th>\n",
       "      <th>Power</th>\n",
       "      <th>Model</th>\n",
       "      <th>Kilometer</th>\n",
       "      <th>RegistrationMonth</th>\n",
       "      <th>FuelType</th>\n",
       "      <th>Brand</th>\n",
       "      <th>Repaired</th>\n",
       "      <th>DateCreated</th>\n",
       "      <th>NumberOfPictures</th>\n",
       "      <th>PostalCode</th>\n",
       "      <th>LastSeen</th>\n",
       "    </tr>\n",
       "  </thead>\n",
       "  <tbody>\n",
       "    <tr>\n",
       "      <th>0</th>\n",
       "      <td>2016-03-24 11:52:17</td>\n",
       "      <td>480</td>\n",
       "      <td>NaN</td>\n",
       "      <td>1993</td>\n",
       "      <td>manual</td>\n",
       "      <td>0</td>\n",
       "      <td>golf</td>\n",
       "      <td>150000</td>\n",
       "      <td>0</td>\n",
       "      <td>petrol</td>\n",
       "      <td>volkswagen</td>\n",
       "      <td>NaN</td>\n",
       "      <td>2016-03-24 00:00:00</td>\n",
       "      <td>0</td>\n",
       "      <td>70435</td>\n",
       "      <td>2016-04-07 03:16:57</td>\n",
       "    </tr>\n",
       "    <tr>\n",
       "      <th>1</th>\n",
       "      <td>2016-03-24 10:58:45</td>\n",
       "      <td>18300</td>\n",
       "      <td>coupe</td>\n",
       "      <td>2011</td>\n",
       "      <td>manual</td>\n",
       "      <td>190</td>\n",
       "      <td>NaN</td>\n",
       "      <td>125000</td>\n",
       "      <td>5</td>\n",
       "      <td>gasoline</td>\n",
       "      <td>audi</td>\n",
       "      <td>yes</td>\n",
       "      <td>2016-03-24 00:00:00</td>\n",
       "      <td>0</td>\n",
       "      <td>66954</td>\n",
       "      <td>2016-04-07 01:46:50</td>\n",
       "    </tr>\n",
       "    <tr>\n",
       "      <th>2</th>\n",
       "      <td>2016-03-14 12:52:21</td>\n",
       "      <td>9800</td>\n",
       "      <td>suv</td>\n",
       "      <td>2004</td>\n",
       "      <td>auto</td>\n",
       "      <td>163</td>\n",
       "      <td>grand</td>\n",
       "      <td>125000</td>\n",
       "      <td>8</td>\n",
       "      <td>gasoline</td>\n",
       "      <td>jeep</td>\n",
       "      <td>NaN</td>\n",
       "      <td>2016-03-14 00:00:00</td>\n",
       "      <td>0</td>\n",
       "      <td>90480</td>\n",
       "      <td>2016-04-05 12:47:46</td>\n",
       "    </tr>\n",
       "    <tr>\n",
       "      <th>3</th>\n",
       "      <td>2016-03-17 16:54:04</td>\n",
       "      <td>1500</td>\n",
       "      <td>small</td>\n",
       "      <td>2001</td>\n",
       "      <td>manual</td>\n",
       "      <td>75</td>\n",
       "      <td>golf</td>\n",
       "      <td>150000</td>\n",
       "      <td>6</td>\n",
       "      <td>petrol</td>\n",
       "      <td>volkswagen</td>\n",
       "      <td>no</td>\n",
       "      <td>2016-03-17 00:00:00</td>\n",
       "      <td>0</td>\n",
       "      <td>91074</td>\n",
       "      <td>2016-03-17 17:40:17</td>\n",
       "    </tr>\n",
       "    <tr>\n",
       "      <th>4</th>\n",
       "      <td>2016-03-31 17:25:20</td>\n",
       "      <td>3600</td>\n",
       "      <td>small</td>\n",
       "      <td>2008</td>\n",
       "      <td>manual</td>\n",
       "      <td>69</td>\n",
       "      <td>fabia</td>\n",
       "      <td>90000</td>\n",
       "      <td>7</td>\n",
       "      <td>gasoline</td>\n",
       "      <td>skoda</td>\n",
       "      <td>no</td>\n",
       "      <td>2016-03-31 00:00:00</td>\n",
       "      <td>0</td>\n",
       "      <td>60437</td>\n",
       "      <td>2016-04-06 10:17:21</td>\n",
       "    </tr>\n",
       "  </tbody>\n",
       "</table>\n",
       "</div>"
      ],
      "text/plain": [
       "           DateCrawled  Price VehicleType  RegistrationYear Gearbox  Power  \\\n",
       "0  2016-03-24 11:52:17    480         NaN              1993  manual      0   \n",
       "1  2016-03-24 10:58:45  18300       coupe              2011  manual    190   \n",
       "2  2016-03-14 12:52:21   9800         suv              2004    auto    163   \n",
       "3  2016-03-17 16:54:04   1500       small              2001  manual     75   \n",
       "4  2016-03-31 17:25:20   3600       small              2008  manual     69   \n",
       "\n",
       "   Model  Kilometer  RegistrationMonth  FuelType       Brand Repaired  \\\n",
       "0   golf     150000                  0    petrol  volkswagen      NaN   \n",
       "1    NaN     125000                  5  gasoline        audi      yes   \n",
       "2  grand     125000                  8  gasoline        jeep      NaN   \n",
       "3   golf     150000                  6    petrol  volkswagen       no   \n",
       "4  fabia      90000                  7  gasoline       skoda       no   \n",
       "\n",
       "           DateCreated  NumberOfPictures  PostalCode             LastSeen  \n",
       "0  2016-03-24 00:00:00                 0       70435  2016-04-07 03:16:57  \n",
       "1  2016-03-24 00:00:00                 0       66954  2016-04-07 01:46:50  \n",
       "2  2016-03-14 00:00:00                 0       90480  2016-04-05 12:47:46  \n",
       "3  2016-03-17 00:00:00                 0       91074  2016-03-17 17:40:17  \n",
       "4  2016-03-31 00:00:00                 0       60437  2016-04-06 10:17:21  "
      ]
     },
     "execution_count": 5,
     "metadata": {},
     "output_type": "execute_result"
    }
   ],
   "source": [
    "data.head(5)"
   ]
  },
  {
   "cell_type": "markdown",
   "metadata": {},
   "source": [
    "- Столбец **DateCrawled** повторяет дату из столбца **DateCreated**,\n",
    "он не несёт смысла\n",
    "- Также столбцы **NumberOfPictures** и **PostalCode** неинформативны\n",
    "- Столбцы **LastSeen**, **RegistrationMonth** и **DateCreated** тоже удалим"
   ]
  },
  {
   "cell_type": "code",
   "execution_count": 6,
   "metadata": {},
   "outputs": [],
   "source": [
    "# оставим год скачивания для дальнейшей фильтрации, потом удалим этот столбец\n",
    "data['DateCrawled'] = pd.to_datetime(data['DateCrawled'])\n",
    "data['YearCrawled'] = data['DateCrawled'].dt.year"
   ]
  },
  {
   "cell_type": "code",
   "execution_count": 7,
   "metadata": {},
   "outputs": [],
   "source": [
    "# удалим неинформативные столбцы\n",
    "data = data.drop(['DateCrawled', 'NumberOfPictures', 'PostalCode', 'LastSeen', 'DateCreated', 'RegistrationMonth'], axis=1)"
   ]
  },
  {
   "cell_type": "code",
   "execution_count": 8,
   "metadata": {},
   "outputs": [
    {
     "data": {
      "text/plain": [
       "(354369, 11)"
      ]
     },
     "execution_count": 8,
     "metadata": {},
     "output_type": "execute_result"
    }
   ],
   "source": [
    "# посмотрим на размех данных\n",
    "data.shape"
   ]
  },
  {
   "cell_type": "code",
   "execution_count": 9,
   "metadata": {},
   "outputs": [],
   "source": [
    "# посмотрим на распределение данных\n",
    "#sns.pairplot(data.select_dtypes(include=['number']))\n",
    "#plt.show()"
   ]
  },
  {
   "cell_type": "markdown",
   "metadata": {},
   "source": [
    "## Подготовка данных"
   ]
  },
  {
   "cell_type": "code",
   "execution_count": 10,
   "metadata": {},
   "outputs": [],
   "source": [
    "# создадим копию основного датафрейма\n",
    "df = data.copy()"
   ]
  },
  {
   "cell_type": "code",
   "execution_count": 11,
   "metadata": {
    "scrolled": true
   },
   "outputs": [
    {
     "name": "stdout",
     "output_type": "stream",
     "text": [
      "<class 'pandas.core.frame.DataFrame'>\n",
      "RangeIndex: 354369 entries, 0 to 354368\n",
      "Data columns (total 11 columns):\n",
      " #   Column            Non-Null Count   Dtype \n",
      "---  ------            --------------   ----- \n",
      " 0   Price             354369 non-null  int64 \n",
      " 1   VehicleType       316879 non-null  object\n",
      " 2   RegistrationYear  354369 non-null  int64 \n",
      " 3   Gearbox           334536 non-null  object\n",
      " 4   Power             354369 non-null  int64 \n",
      " 5   Model             334664 non-null  object\n",
      " 6   Kilometer         354369 non-null  int64 \n",
      " 7   FuelType          321474 non-null  object\n",
      " 8   Brand             354369 non-null  object\n",
      " 9   Repaired          283215 non-null  object\n",
      " 10  YearCrawled       354369 non-null  int32 \n",
      "dtypes: int32(1), int64(4), object(6)\n",
      "memory usage: 28.4+ MB\n"
     ]
    }
   ],
   "source": [
    "# проверим типы данных\n",
    "data.info()"
   ]
  },
  {
   "cell_type": "code",
   "execution_count": 12,
   "metadata": {
    "scrolled": true
   },
   "outputs": [
    {
     "data": {
      "image/png": "[encoded data removed]",
      "text/plain": [
       "<Figure size 1700x800 with 1 Axes>"
      ]
     },
     "metadata": {},
     "output_type": "display_data"
    }
   ],
   "source": [
    "# создадим функцию для проверки процента пропусков по столбцам\n",
    "def percent_hbar(df, old_threshold=None):\n",
    "    percent_of_nulls = (df.isnull().sum()/len(df)*100).sort_values().round(2)\n",
    "    threshold = percent_of_nulls.mean()\n",
    "    ax = percent_of_nulls.plot(kind='barh', figsize=(17, 8), title='% of NaN (из {} строк)'.format(len(df)), \n",
    "                               color='#10bf92', legend=False, fontsize=12)\n",
    "    ax.set_xlabel('Count of NaN')\n",
    "    dict_percent = dict(percent_of_nulls)\n",
    "    i = 0\n",
    "    for k in dict_percent:\n",
    "        color = 'blue'\n",
    "        if dict_percent[k] > 0:\n",
    "            if dict_percent[k] > threshold:\n",
    "                color = 'red'\n",
    "            ax.text(dict_percent[k]+0.1, i + 0.09, str(dict_percent[k])+'%', color=color, \n",
    "                    fontweight='bold', fontsize='large')\n",
    "        i += 0.98\n",
    "    if old_threshold is not None:\n",
    "        plt.axvline(x=old_threshold,linewidth=1, color='r', linestyle='--')\n",
    "        ax.text(old_threshold+0.3, 10, '{0:.2%}'.format(old_threshold/100), color='r', fontweight='bold', fontsize='large')\n",
    "        plt.axvline(x=threshold,linewidth=1, color='green', linestyle='--')\n",
    "        ax.text(threshold+0.3, 7, '{0:.2%}'.format(threshold/100), color='green', fontweight='bold', fontsize='large')\n",
    "\n",
    "    return ax, threshold\n",
    "\n",
    "plot, threshold = percent_hbar(data)"
   ]
  },
  {
   "cell_type": "code",
   "execution_count": 13,
   "metadata": {},
   "outputs": [],
   "source": [
    "# Функция для заполнения пропущенных значений наиболее часто встречающимся типом в каждой группе\n",
    "def fill_most_common(group):\n",
    "    return group.fillna(group.mode().iloc[0])\n",
    "\n",
    "# Функция для выбора столбца и применения функции заполнения пропущенных значений\n",
    "def filling(column_name):\n",
    "    data[column_name] = data.groupby('Model')[column_name].transform(fill_most_common)"
   ]
  },
  {
   "cell_type": "code",
   "execution_count": 14,
   "metadata": {},
   "outputs": [],
   "source": [
    "# заполним пропущенные значения в 'VehicleType'\n",
    "filling('VehicleType')"
   ]
  },
  {
   "cell_type": "code",
   "execution_count": 15,
   "metadata": {},
   "outputs": [
    {
     "data": {
      "text/plain": [
       "5.56"
      ]
     },
     "execution_count": 15,
     "metadata": {},
     "output_type": "execute_result"
    }
   ],
   "source": [
    "# рассчитаем новый процент прощенных значений в 'VehicleType' после заполнения пропусков\n",
    "round((data['VehicleType'].isna().sum() / len(data['VehicleType'])) * 100, 2)"
   ]
  },
  {
   "cell_type": "markdown",
   "metadata": {},
   "source": [
    "- теперь процент пропущенных значений в столбце 'VehicleType' около 5.5% значит их можно удалить\n",
    "- пропущенные значения остались т.к. некоторые значения в 'Model' были пропущены"
   ]
  },
  {
   "cell_type": "code",
   "execution_count": 16,
   "metadata": {},
   "outputs": [],
   "source": [
    "data = data.dropna(subset=['VehicleType', 'Model'])"
   ]
  },
  {
   "cell_type": "code",
   "execution_count": 17,
   "metadata": {},
   "outputs": [],
   "source": [
    "# заполним пропущенные значения в 'FuelType' и 'Gearbox'\n",
    "filling('FuelType')\n",
    "filling('Gearbox')"
   ]
  },
  {
   "cell_type": "code",
   "execution_count": 18,
   "metadata": {},
   "outputs": [],
   "source": [
    "# тут ничего предположить нельзя поэтому пропущенные значения заполним как 'unknown'\n",
    "data['Repaired'] = data['Repaired'].fillna('unknown')"
   ]
  },
  {
   "cell_type": "code",
   "execution_count": 19,
   "metadata": {},
   "outputs": [
    {
     "data": {
      "text/plain": [
       "Price               0\n",
       "VehicleType         0\n",
       "RegistrationYear    0\n",
       "Gearbox             0\n",
       "Power               0\n",
       "Model               0\n",
       "Kilometer           0\n",
       "FuelType            0\n",
       "Brand               0\n",
       "Repaired            0\n",
       "YearCrawled         0\n",
       "dtype: int64"
      ]
     },
     "execution_count": 19,
     "metadata": {},
     "output_type": "execute_result"
    }
   ],
   "source": [
    "# проверка\n",
    "data.isna().sum()"
   ]
  },
  {
   "cell_type": "markdown",
   "metadata": {},
   "source": [
    "- успешно избавились от пропущенных значений"
   ]
  },
  {
   "cell_type": "code",
   "execution_count": 20,
   "metadata": {},
   "outputs": [],
   "source": [
    "# проверим значения месяцев\n",
    "# data['RegistrationMonth'].unique()"
   ]
  },
  {
   "cell_type": "markdown",
   "metadata": {},
   "source": [
    "- есть и месяц под номер **'0'** и под номером **'1'** - скорее всего в обоих случаях имеется в виду 'январь'"
   ]
  },
  {
   "cell_type": "code",
   "execution_count": 21,
   "metadata": {},
   "outputs": [],
   "source": [
    "# заменим 0 на 1\n",
    "# data['RegistrationMonth'] = data['RegistrationMonth'].replace(0, 1)"
   ]
  },
  {
   "cell_type": "code",
   "execution_count": 22,
   "metadata": {},
   "outputs": [
    {
     "data": {
      "text/plain": [
       "47466"
      ]
     },
     "execution_count": 22,
     "metadata": {},
     "output_type": "execute_result"
    }
   ],
   "source": [
    "# проверим дубликаты\n",
    "data.duplicated().sum()"
   ]
  },
  {
   "cell_type": "code",
   "execution_count": 23,
   "metadata": {},
   "outputs": [],
   "source": [
    "data = data.drop_duplicates()"
   ]
  },
  {
   "cell_type": "markdown",
   "metadata": {},
   "source": [
    "### Аномалии"
   ]
  },
  {
   "cell_type": "code",
   "execution_count": 24,
   "metadata": {},
   "outputs": [
    {
     "data": {
      "text/html": [
       "<div>\n",
       "<style scoped>\n",
       "    .dataframe tbody tr th:only-of-type {\n",
       "        vertical-align: middle;\n",
       "    }\n",
       "\n",
       "    .dataframe tbody tr th {\n",
       "        vertical-align: top;\n",
       "    }\n",
       "\n",
       "    .dataframe thead th {\n",
       "        text-align: right;\n",
       "    }\n",
       "</style>\n",
       "<table border=\"1\" class=\"dataframe\">\n",
       "  <thead>\n",
       "    <tr style=\"text-align: right;\">\n",
       "      <th></th>\n",
       "      <th>Price</th>\n",
       "      <th>RegistrationYear</th>\n",
       "      <th>Power</th>\n",
       "      <th>Kilometer</th>\n",
       "      <th>YearCrawled</th>\n",
       "    </tr>\n",
       "  </thead>\n",
       "  <tbody>\n",
       "    <tr>\n",
       "      <th>count</th>\n",
       "      <td>287198.000000</td>\n",
       "      <td>287198.00000</td>\n",
       "      <td>287198.000000</td>\n",
       "      <td>287198.000000</td>\n",
       "      <td>287198.0</td>\n",
       "    </tr>\n",
       "    <tr>\n",
       "      <th>mean</th>\n",
       "      <td>4614.997208</td>\n",
       "      <td>2004.08647</td>\n",
       "      <td>112.857499</td>\n",
       "      <td>127306.266060</td>\n",
       "      <td>2016.0</td>\n",
       "    </tr>\n",
       "    <tr>\n",
       "      <th>std</th>\n",
       "      <td>4593.260837</td>\n",
       "      <td>74.19102</td>\n",
       "      <td>197.371757</td>\n",
       "      <td>38017.689136</td>\n",
       "      <td>0.0</td>\n",
       "    </tr>\n",
       "    <tr>\n",
       "      <th>min</th>\n",
       "      <td>0.000000</td>\n",
       "      <td>1000.00000</td>\n",
       "      <td>0.000000</td>\n",
       "      <td>5000.000000</td>\n",
       "      <td>2016.0</td>\n",
       "    </tr>\n",
       "    <tr>\n",
       "      <th>25%</th>\n",
       "      <td>1199.000000</td>\n",
       "      <td>1999.00000</td>\n",
       "      <td>72.000000</td>\n",
       "      <td>125000.000000</td>\n",
       "      <td>2016.0</td>\n",
       "    </tr>\n",
       "    <tr>\n",
       "      <th>50%</th>\n",
       "      <td>2950.000000</td>\n",
       "      <td>2003.00000</td>\n",
       "      <td>105.000000</td>\n",
       "      <td>150000.000000</td>\n",
       "      <td>2016.0</td>\n",
       "    </tr>\n",
       "    <tr>\n",
       "      <th>75%</th>\n",
       "      <td>6700.000000</td>\n",
       "      <td>2008.00000</td>\n",
       "      <td>143.000000</td>\n",
       "      <td>150000.000000</td>\n",
       "      <td>2016.0</td>\n",
       "    </tr>\n",
       "    <tr>\n",
       "      <th>max</th>\n",
       "      <td>20000.000000</td>\n",
       "      <td>9999.00000</td>\n",
       "      <td>20000.000000</td>\n",
       "      <td>150000.000000</td>\n",
       "      <td>2016.0</td>\n",
       "    </tr>\n",
       "  </tbody>\n",
       "</table>\n",
       "</div>"
      ],
      "text/plain": [
       "               Price  RegistrationYear          Power      Kilometer  \\\n",
       "count  287198.000000      287198.00000  287198.000000  287198.000000   \n",
       "mean     4614.997208        2004.08647     112.857499  127306.266060   \n",
       "std      4593.260837          74.19102     197.371757   38017.689136   \n",
       "min         0.000000        1000.00000       0.000000    5000.000000   \n",
       "25%      1199.000000        1999.00000      72.000000  125000.000000   \n",
       "50%      2950.000000        2003.00000     105.000000  150000.000000   \n",
       "75%      6700.000000        2008.00000     143.000000  150000.000000   \n",
       "max     20000.000000        9999.00000   20000.000000  150000.000000   \n",
       "\n",
       "       YearCrawled  \n",
       "count     287198.0  \n",
       "mean        2016.0  \n",
       "std            0.0  \n",
       "min         2016.0  \n",
       "25%         2016.0  \n",
       "50%         2016.0  \n",
       "75%         2016.0  \n",
       "max         2016.0  "
      ]
     },
     "execution_count": 24,
     "metadata": {},
     "output_type": "execute_result"
    }
   ],
   "source": [
    "data.describe()"
   ]
  },
  {
   "cell_type": "markdown",
   "metadata": {},
   "source": [
    "- данные с ценой и мощностью = 0 явно ошибочные\n",
    "- также есть аномалия в мощности равная 20 тыс. л.с.\n",
    "- также 1000-й год регистрации выглядит подозрительно,\n",
    "    а до года регистрации = 9999 нам ждать ещё более 7000 лет   \n"
   ]
  },
  {
   "cell_type": "code",
   "execution_count": 25,
   "metadata": {},
   "outputs": [],
   "source": [
    "num_cols = ['RegistrationYear', 'Power', 'Kilometer', 'Price']"
   ]
  },
  {
   "cell_type": "markdown",
   "metadata": {},
   "source": [
    "### RegistrationYear"
   ]
  },
  {
   "cell_type": "markdown",
   "metadata": {},
   "source": [
    "- раритеты до 70-ых годов не акутальны для предсказания моделей ввиду своей редкости"
   ]
  },
  {
   "cell_type": "code",
   "execution_count": 26,
   "metadata": {},
   "outputs": [],
   "source": [
    "data = data.query('1970 <= RegistrationYear')"
   ]
  },
  {
   "cell_type": "markdown",
   "metadata": {},
   "source": [
    "- проверим год регистрации по верхней границе "
   ]
  },
  {
   "cell_type": "code",
   "execution_count": 27,
   "metadata": {},
   "outputs": [
    {
     "name": "stdout",
     "output_type": "stream",
     "text": [
      "11337\n"
     ]
    }
   ],
   "source": [
    "count = np.where(data['YearCrawled'] < data['RegistrationYear'], 1, 0).sum()\n",
    "\n",
    "print(count)"
   ]
  },
  {
   "cell_type": "markdown",
   "metadata": {},
   "source": [
    "- количество приемлимо, значит избавимся от невозможных значений"
   ]
  },
  {
   "cell_type": "code",
   "execution_count": 28,
   "metadata": {},
   "outputs": [],
   "source": [
    "data = data[data['YearCrawled'] >= data['RegistrationYear']]"
   ]
  },
  {
   "cell_type": "code",
   "execution_count": 29,
   "metadata": {},
   "outputs": [],
   "source": [
    "# удалим ненужный столбец\n",
    "data = data.drop(['YearCrawled'], axis = 1)"
   ]
  },
  {
   "cell_type": "markdown",
   "metadata": {},
   "source": [
    "### Power"
   ]
  },
  {
   "cell_type": "code",
   "execution_count": 30,
   "metadata": {},
   "outputs": [
    {
     "data": {
      "image/png": "[encoded data removed]",
      "text/plain": [
       "<Figure size 640x480 with 1 Axes>"
      ]
     },
     "metadata": {},
     "output_type": "display_data"
    }
   ],
   "source": [
    "sns.histplot(data['RegistrationYear'], bins=5)\n",
    "plt.show()"
   ]
  },
  {
   "cell_type": "markdown",
   "metadata": {},
   "source": [
    "- обычно мощность автомобилей не превышает 1200 - 1500 л.с. и то это большая редкость (у большинства это 200-300 л.с.)\n",
    "- наш анализ выше показал, что у 75% автомобилей максимальная мощность - 143 л.с.\n",
    "- учитывая, что максимальная цена в наших данных это 20 тыс.евро, то мощность машин за такую стоимсть вряд ли превысит 600 л.с."
   ]
  },
  {
   "cell_type": "code",
   "execution_count": 31,
   "metadata": {},
   "outputs": [],
   "source": [
    "data = data.query('10 < Power <= 600')"
   ]
  },
  {
   "cell_type": "code",
   "execution_count": 32,
   "metadata": {
    "scrolled": true
   },
   "outputs": [
    {
     "data": {
      "image/png": "[encoded data removed]",
      "text/plain": [
       "<Figure size 640x480 with 1 Axes>"
      ]
     },
     "metadata": {},
     "output_type": "display_data"
    }
   ],
   "source": [
    "sns.histplot(data['Power'], bins=5)\n",
    "plt.show()"
   ]
  },
  {
   "cell_type": "markdown",
   "metadata": {},
   "source": [
    "### Kilometer"
   ]
  },
  {
   "cell_type": "code",
   "execution_count": 33,
   "metadata": {
    "scrolled": true
   },
   "outputs": [
    {
     "data": {
      "image/png": "[encoded data removed]",
      "text/plain": [
       "<Figure size 640x480 with 1 Axes>"
      ]
     },
     "metadata": {},
     "output_type": "display_data"
    }
   ],
   "source": [
    "sns.histplot(data['Kilometer'], bins=5)\n",
    "plt.show()"
   ]
  },
  {
   "cell_type": "markdown",
   "metadata": {},
   "source": [
    "- у километров аномалий нет"
   ]
  },
  {
   "cell_type": "markdown",
   "metadata": {},
   "source": [
    "### Price"
   ]
  },
  {
   "cell_type": "markdown",
   "metadata": {},
   "source": [
    "- купить автомобиль до 500 евро практически невозможно. Самый дешёвый, что я нашёл: Lada (ВАЗ) 2104, 2004 за 50 000 тыс.руб. это как раз около 500 евро"
   ]
  },
  {
   "cell_type": "code",
   "execution_count": 34,
   "metadata": {},
   "outputs": [],
   "source": [
    "data = data.query('Price >= 500')"
   ]
  },
  {
   "cell_type": "code",
   "execution_count": 35,
   "metadata": {},
   "outputs": [
    {
     "data": {
      "image/png": "[encoded data removed]",
      "text/plain": [
       "<Figure size 640x480 with 1 Axes>"
      ]
     },
     "metadata": {},
     "output_type": "display_data"
    }
   ],
   "source": [
    "sns.histplot(data['Price'], bins=5)\n",
    "plt.show()"
   ]
  },
  {
   "cell_type": "markdown",
   "metadata": {},
   "source": [
    "- цены также распределены адекватно"
   ]
  },
  {
   "cell_type": "markdown",
   "metadata": {},
   "source": [
    "****"
   ]
  },
  {
   "cell_type": "markdown",
   "metadata": {},
   "source": [
    "- разобьём данные на тренировочную, валидационную и тестовую выборки "
   ]
  },
  {
   "cell_type": "code",
   "execution_count": 36,
   "metadata": {},
   "outputs": [],
   "source": [
    "# целевой признак\n",
    "y = data['Price']"
   ]
  },
  {
   "cell_type": "code",
   "execution_count": 37,
   "metadata": {},
   "outputs": [],
   "source": [
    "# удалим целевой признак из общих данных\n",
    "X = data.drop(['Price'], axis = 1)"
   ]
  },
  {
   "cell_type": "code",
   "execution_count": 38,
   "metadata": {},
   "outputs": [],
   "source": [
    "X_train, X_test, y_train, y_test = train_test_split(X, y, \n",
    "                                                    test_size = 0.2,\n",
    "                                                    random_state = 42)"
   ]
  },
  {
   "cell_type": "code",
   "execution_count": 39,
   "metadata": {},
   "outputs": [],
   "source": [
    "ohe_columns = ['Gearbox', 'FuelType', 'Repaired']\n",
    "ord_columns = ['VehicleType', 'Model', 'Brand', 'Kilometer']"
   ]
  },
  {
   "cell_type": "code",
   "execution_count": 40,
   "metadata": {},
   "outputs": [],
   "source": [
    "num_columns = ['RegistrationYear', 'Power']"
   ]
  },
  {
   "cell_type": "code",
   "execution_count": 41,
   "metadata": {},
   "outputs": [],
   "source": [
    "ohe_pipe = Pipeline(\n",
    "    [\n",
    "        (\n",
    "            'ohe', \n",
    "            OneHotEncoder(drop='first', handle_unknown='ignore', sparse_output=False)\n",
    "        )\n",
    "    ]\n",
    ")"
   ]
  },
  {
   "cell_type": "code",
   "execution_count": 42,
   "metadata": {},
   "outputs": [],
   "source": [
    "ord_pipe = Pipeline(\n",
    "    [\n",
    "         (\n",
    "            'simpleImputer_before_ord', \n",
    "            SimpleImputer(missing_values=np.nan, strategy='most_frequent')\n",
    "        ),\n",
    "        (\n",
    "            'ord',  \n",
    "            OrdinalEncoder(handle_unknown='use_encoded_value', unknown_value = -1)\n",
    "        ),\n",
    "        (\n",
    "            'simpleImputer_after_ord', \n",
    "            SimpleImputer(missing_values=np.nan, strategy='most_frequent')\n",
    "        )\n",
    "    ]\n",
    ")"
   ]
  },
  {
   "cell_type": "code",
   "execution_count": 43,
   "metadata": {},
   "outputs": [],
   "source": [
    "data_preprocessor = ColumnTransformer(\n",
    "    [\n",
    "        ('ohe', ohe_pipe, ohe_columns),\n",
    "        ('ord', ord_pipe, ord_columns),\n",
    "        ('num', StandardScaler(), num_columns)\n",
    "    ], \n",
    "    remainder='passthrough'\n",
    ")"
   ]
  },
  {
   "cell_type": "code",
   "execution_count": 44,
   "metadata": {},
   "outputs": [],
   "source": [
    "X_train_processed = pd.DataFrame(data_preprocessor.fit_transform(X_train), columns = data_preprocessor.get_feature_names_out())\n",
    "X_test_processed = pd.DataFrame(data_preprocessor.transform(X_test), columns = data_preprocessor.get_feature_names_out())"
   ]
  },
  {
   "cell_type": "markdown",
   "metadata": {},
   "source": [
    "## Обучение моделей"
   ]
  },
  {
   "cell_type": "code",
   "execution_count": 45,
   "metadata": {},
   "outputs": [],
   "source": [
    "# итоговый пайплайн: подготовка данных и модель\n",
    "RANDOM_STATE = 42\n",
    "\n",
    "pipe_final = Pipeline(\n",
    "    [\n",
    "        ('preprocessor', data_preprocessor),\n",
    "        ('models', DecisionTreeRegressor(random_state = RANDOM_STATE))\n",
    "    ]\n",
    ")"
   ]
  },
  {
   "cell_type": "code",
   "execution_count": 46,
   "metadata": {},
   "outputs": [],
   "source": [
    "fit = []\n",
    "predict = []\n",
    "rmse = []\n",
    "model = ['DecisionTreeRegressor', 'CatBoost', 'LightGBM']"
   ]
  },
  {
   "cell_type": "markdown",
   "metadata": {},
   "source": [
    "### DecisionTreeRegressor"
   ]
  },
  {
   "cell_type": "code",
   "execution_count": 47,
   "metadata": {},
   "outputs": [],
   "source": [
    "params = [\n",
    "    \n",
    "    # словарь для модели DecisionTreeRegressor()\n",
    "    {\n",
    "        'models': [DecisionTreeRegressor(random_state = RANDOM_STATE)],\n",
    "        'models__max_depth': range(2, 5),\n",
    "        'models__max_features': range(2, 40),\n",
    "        'models__min_samples_leaf': range(2, 13),\n",
    "        'preprocessor__num': [StandardScaler(), MinMaxScaler(), RobustScaler(), 'passthrough']  \n",
    "    }\n",
    "]"
   ]
  },
  {
   "cell_type": "code",
   "execution_count": 48,
   "metadata": {},
   "outputs": [],
   "source": [
    "random_1 = RandomizedSearchCV(\n",
    "    pipe_final, \n",
    "    params, \n",
    "    cv=5,\n",
    "    scoring='neg_mean_squared_error',\n",
    "    n_jobs=-1,\n",
    "    random_state=RANDOM_STATE\n",
    "    \n",
    ")"
   ]
  },
  {
   "cell_type": "code",
   "execution_count": 49,
   "metadata": {
    "scrolled": true
   },
   "outputs": [
    {
     "data": {
      "text/html": [
       "<style>#sk-container-id-1 {\n",
       "  /* Definition of color scheme common for light and dark mode */\n",
       "  --sklearn-color-text: black;\n",
       "  --sklearn-color-line: gray;\n",
       "  /* Definition of color scheme for unfitted estimators */\n",
       "  --sklearn-color-unfitted-level-0: #fff5e6;\n",
       "  --sklearn-color-unfitted-level-1: #f6e4d2;\n",
       "  --sklearn-color-unfitted-level-2: #ffe0b3;\n",
       "  --sklearn-color-unfitted-level-3: chocolate;\n",
       "  /* Definition of color scheme for fitted estimators */\n",
       "  --sklearn-color-fitted-level-0: #f0f8ff;\n",
       "  --sklearn-color-fitted-level-1: #d4ebff;\n",
       "  --sklearn-color-fitted-level-2: #b3dbfd;\n",
       "  --sklearn-color-fitted-level-3: cornflowerblue;\n",
       "\n",
       "  /* Specific color for light theme */\n",
       "  --sklearn-color-text-on-default-background: var(--sg-text-color, var(--theme-code-foreground, var(--jp-content-font-color1, black)));\n",
       "  --sklearn-color-background: var(--sg-background-color, var(--theme-background, var(--jp-layout-color0, white)));\n",
       "  --sklearn-color-border-box: var(--sg-text-color, var(--theme-code-foreground, var(--jp-content-font-color1, black)));\n",
       "  --sklearn-color-icon: #696969;\n",
       "\n",
       "  @media (prefers-color-scheme: dark) {\n",
       "    /* Redefinition of color scheme for dark theme */\n",
       "    --sklearn-color-text-on-default-background: var(--sg-text-color, var(--theme-code-foreground, var(--jp-content-font-color1, white)));\n",
       "    --sklearn-color-background: var(--sg-background-color, var(--theme-background, var(--jp-layout-color0, #111)));\n",
       "    --sklearn-color-border-box: var(--sg-text-color, var(--theme-code-foreground, var(--jp-content-font-color1, white)));\n",
       "    --sklearn-color-icon: #878787;\n",
       "  }\n",
       "}\n",
       "\n",
       "#sk-container-id-1 {\n",
       "  color: var(--sklearn-color-text);\n",
       "}\n",
       "\n",
       "#sk-container-id-1 pre {\n",
       "  padding: 0;\n",
       "}\n",
       "\n",
       "#sk-container-id-1 input.sk-hidden--visually {\n",
       "  border: 0;\n",
       "  clip: rect(1px 1px 1px 1px);\n",
       "  clip: rect(1px, 1px, 1px, 1px);\n",
       "  height: 1px;\n",
       "  margin: -1px;\n",
       "  overflow: hidden;\n",
       "  padding: 0;\n",
       "  position: absolute;\n",
       "  width: 1px;\n",
       "}\n",
       "\n",
       "#sk-container-id-1 div.sk-dashed-wrapped {\n",
       "  border: 1px dashed var(--sklearn-color-line);\n",
       "  margin: 0 0.4em 0.5em 0.4em;\n",
       "  box-sizing: border-box;\n",
       "  padding-bottom: 0.4em;\n",
       "  background-color: var(--sklearn-color-background);\n",
       "}\n",
       "\n",
       "#sk-container-id-1 div.sk-container {\n",
       "  /* jupyter's `normalize.less` sets `[hidden] { display: none; }`\n",
       "     but bootstrap.min.css set `[hidden] { display: none !important; }`\n",
       "     so we also need the `!important` here to be able to override the\n",
       "     default hidden behavior on the sphinx rendered scikit-learn.org.\n",
       "     See: https://github.com/scikit-learn/scikit-learn/issues/21755 */\n",
       "  display: inline-block !important;\n",
       "  position: relative;\n",
       "}\n",
       "\n",
       "#sk-container-id-1 div.sk-text-repr-fallback {\n",
       "  display: none;\n",
       "}\n",
       "\n",
       "div.sk-parallel-item,\n",
       "div.sk-serial,\n",
       "div.sk-item {\n",
       "  /* draw centered vertical line to link estimators */\n",
       "  background-image: linear-gradient(var(--sklearn-color-text-on-default-background), var(--sklearn-color-text-on-default-background));\n",
       "  background-size: 2px 100%;\n",
       "  background-repeat: no-repeat;\n",
       "  background-position: center center;\n",
       "}\n",
       "\n",
       "/* Parallel-specific style estimator block */\n",
       "\n",
       "#sk-container-id-1 div.sk-parallel-item::after {\n",
       "  content: \"\";\n",
       "  width: 100%;\n",
       "  border-bottom: 2px solid var(--sklearn-color-text-on-default-background);\n",
       "  flex-grow: 1;\n",
       "}\n",
       "\n",
       "#sk-container-id-1 div.sk-parallel {\n",
       "  display: flex;\n",
       "  align-items: stretch;\n",
       "  justify-content: center;\n",
       "  background-color: var(--sklearn-color-background);\n",
       "  position: relative;\n",
       "}\n",
       "\n",
       "#sk-container-id-1 div.sk-parallel-item {\n",
       "  display: flex;\n",
       "  flex-direction: column;\n",
       "}\n",
       "\n",
       "#sk-container-id-1 div.sk-parallel-item:first-child::after {\n",
       "  align-self: flex-end;\n",
       "  width: 50%;\n",
       "}\n",
       "\n",
       "#sk-container-id-1 div.sk-parallel-item:last-child::after {\n",
       "  align-self: flex-start;\n",
       "  width: 50%;\n",
       "}\n",
       "\n",
       "#sk-container-id-1 div.sk-parallel-item:only-child::after {\n",
       "  width: 0;\n",
       "}\n",
       "\n",
       "/* Serial-specific style estimator block */\n",
       "\n",
       "#sk-container-id-1 div.sk-serial {\n",
       "  display: flex;\n",
       "  flex-direction: column;\n",
       "  align-items: center;\n",
       "  background-color: var(--sklearn-color-background);\n",
       "  padding-right: 1em;\n",
       "  padding-left: 1em;\n",
       "}\n",
       "\n",
       "\n",
       "/* Toggleable style: style used for estimator/Pipeline/ColumnTransformer box that is\n",
       "clickable and can be expanded/collapsed.\n",
       "- Pipeline and ColumnTransformer use this feature and define the default style\n",
       "- Estimators will overwrite some part of the style using the `sk-estimator` class\n",
       "*/\n",
       "\n",
       "/* Pipeline and ColumnTransformer style (default) */\n",
       "\n",
       "#sk-container-id-1 div.sk-toggleable {\n",
       "  /* Default theme specific background. It is overwritten whether we have a\n",
       "  specific estimator or a Pipeline/ColumnTransformer */\n",
       "  background-color: var(--sklearn-color-background);\n",
       "}\n",
       "\n",
       "/* Toggleable label */\n",
       "#sk-container-id-1 label.sk-toggleable__label {\n",
       "  cursor: pointer;\n",
       "  display: block;\n",
       "  width: 100%;\n",
       "  margin-bottom: 0;\n",
       "  padding: 0.5em;\n",
       "  box-sizing: border-box;\n",
       "  text-align: center;\n",
       "}\n",
       "\n",
       "#sk-container-id-1 label.sk-toggleable__label-arrow:before {\n",
       "  /* Arrow on the left of the label */\n",
       "  content: \"▸\";\n",
       "  float: left;\n",
       "  margin-right: 0.25em;\n",
       "  color: var(--sklearn-color-icon);\n",
       "}\n",
       "\n",
       "#sk-container-id-1 label.sk-toggleable__label-arrow:hover:before {\n",
       "  color: var(--sklearn-color-text);\n",
       "}\n",
       "\n",
       "/* Toggleable content - dropdown */\n",
       "\n",
       "#sk-container-id-1 div.sk-toggleable__content {\n",
       "  max-height: 0;\n",
       "  max-width: 0;\n",
       "  overflow: hidden;\n",
       "  text-align: left;\n",
       "  /* unfitted */\n",
       "  background-color: var(--sklearn-color-unfitted-level-0);\n",
       "}\n",
       "\n",
       "#sk-container-id-1 div.sk-toggleable__content.fitted {\n",
       "  /* fitted */\n",
       "  background-color: var(--sklearn-color-fitted-level-0);\n",
       "}\n",
       "\n",
       "#sk-container-id-1 div.sk-toggleable__content pre {\n",
       "  margin: 0.2em;\n",
       "  border-radius: 0.25em;\n",
       "  color: var(--sklearn-color-text);\n",
       "  /* unfitted */\n",
       "  background-color: var(--sklearn-color-unfitted-level-0);\n",
       "}\n",
       "\n",
       "#sk-container-id-1 div.sk-toggleable__content.fitted pre {\n",
       "  /* unfitted */\n",
       "  background-color: var(--sklearn-color-fitted-level-0);\n",
       "}\n",
       "\n",
       "#sk-container-id-1 input.sk-toggleable__control:checked~div.sk-toggleable__content {\n",
       "  /* Expand drop-down */\n",
       "  max-height: 200px;\n",
       "  max-width: 100%;\n",
       "  overflow: auto;\n",
       "}\n",
       "\n",
       "#sk-container-id-1 input.sk-toggleable__control:checked~label.sk-toggleable__label-arrow:before {\n",
       "  content: \"▾\";\n",
       "}\n",
       "\n",
       "/* Pipeline/ColumnTransformer-specific style */\n",
       "\n",
       "#sk-container-id-1 div.sk-label input.sk-toggleable__control:checked~label.sk-toggleable__label {\n",
       "  color: var(--sklearn-color-text);\n",
       "  background-color: var(--sklearn-color-unfitted-level-2);\n",
       "}\n",
       "\n",
       "#sk-container-id-1 div.sk-label.fitted input.sk-toggleable__control:checked~label.sk-toggleable__label {\n",
       "  background-color: var(--sklearn-color-fitted-level-2);\n",
       "}\n",
       "\n",
       "/* Estimator-specific style */\n",
       "\n",
       "/* Colorize estimator box */\n",
       "#sk-container-id-1 div.sk-estimator input.sk-toggleable__control:checked~label.sk-toggleable__label {\n",
       "  /* unfitted */\n",
       "  background-color: var(--sklearn-color-unfitted-level-2);\n",
       "}\n",
       "\n",
       "#sk-container-id-1 div.sk-estimator.fitted input.sk-toggleable__control:checked~label.sk-toggleable__label {\n",
       "  /* fitted */\n",
       "  background-color: var(--sklearn-color-fitted-level-2);\n",
       "}\n",
       "\n",
       "#sk-container-id-1 div.sk-label label.sk-toggleable__label,\n",
       "#sk-container-id-1 div.sk-label label {\n",
       "  /* The background is the default theme color */\n",
       "  color: var(--sklearn-color-text-on-default-background);\n",
       "}\n",
       "\n",
       "/* On hover, darken the color of the background */\n",
       "#sk-container-id-1 div.sk-label:hover label.sk-toggleable__label {\n",
       "  color: var(--sklearn-color-text);\n",
       "  background-color: var(--sklearn-color-unfitted-level-2);\n",
       "}\n",
       "\n",
       "/* Label box, darken color on hover, fitted */\n",
       "#sk-container-id-1 div.sk-label.fitted:hover label.sk-toggleable__label.fitted {\n",
       "  color: var(--sklearn-color-text);\n",
       "  background-color: var(--sklearn-color-fitted-level-2);\n",
       "}\n",
       "\n",
       "/* Estimator label */\n",
       "\n",
       "#sk-container-id-1 div.sk-label label {\n",
       "  font-family: monospace;\n",
       "  font-weight: bold;\n",
       "  display: inline-block;\n",
       "  line-height: 1.2em;\n",
       "}\n",
       "\n",
       "#sk-container-id-1 div.sk-label-container {\n",
       "  text-align: center;\n",
       "}\n",
       "\n",
       "/* Estimator-specific */\n",
       "#sk-container-id-1 div.sk-estimator {\n",
       "  font-family: monospace;\n",
       "  border: 1px dotted var(--sklearn-color-border-box);\n",
       "  border-radius: 0.25em;\n",
       "  box-sizing: border-box;\n",
       "  margin-bottom: 0.5em;\n",
       "  /* unfitted */\n",
       "  background-color: var(--sklearn-color-unfitted-level-0);\n",
       "}\n",
       "\n",
       "#sk-container-id-1 div.sk-estimator.fitted {\n",
       "  /* fitted */\n",
       "  background-color: var(--sklearn-color-fitted-level-0);\n",
       "}\n",
       "\n",
       "/* on hover */\n",
       "#sk-container-id-1 div.sk-estimator:hover {\n",
       "  /* unfitted */\n",
       "  background-color: var(--sklearn-color-unfitted-level-2);\n",
       "}\n",
       "\n",
       "#sk-container-id-1 div.sk-estimator.fitted:hover {\n",
       "  /* fitted */\n",
       "  background-color: var(--sklearn-color-fitted-level-2);\n",
       "}\n",
       "\n",
       "/* Specification for estimator info (e.g. \"i\" and \"?\") */\n",
       "\n",
       "/* Common style for \"i\" and \"?\" */\n",
       "\n",
       ".sk-estimator-doc-link,\n",
       "a:link.sk-estimator-doc-link,\n",
       "a:visited.sk-estimator-doc-link {\n",
       "  float: right;\n",
       "  font-size: smaller;\n",
       "  line-height: 1em;\n",
       "  font-family: monospace;\n",
       "  background-color: var(--sklearn-color-background);\n",
       "  border-radius: 1em;\n",
       "  height: 1em;\n",
       "  width: 1em;\n",
       "  text-decoration: none !important;\n",
       "  margin-left: 1ex;\n",
       "  /* unfitted */\n",
       "  border: var(--sklearn-color-unfitted-level-1) 1pt solid;\n",
       "  color: var(--sklearn-color-unfitted-level-1);\n",
       "}\n",
       "\n",
       ".sk-estimator-doc-link.fitted,\n",
       "a:link.sk-estimator-doc-link.fitted,\n",
       "a:visited.sk-estimator-doc-link.fitted {\n",
       "  /* fitted */\n",
       "  border: var(--sklearn-color-fitted-level-1) 1pt solid;\n",
       "  color: var(--sklearn-color-fitted-level-1);\n",
       "}\n",
       "\n",
       "/* On hover */\n",
       "div.sk-estimator:hover .sk-estimator-doc-link:hover,\n",
       ".sk-estimator-doc-link:hover,\n",
       "div.sk-label-container:hover .sk-estimator-doc-link:hover,\n",
       ".sk-estimator-doc-link:hover {\n",
       "  /* unfitted */\n",
       "  background-color: var(--sklearn-color-unfitted-level-3);\n",
       "  color: var(--sklearn-color-background);\n",
       "  text-decoration: none;\n",
       "}\n",
       "\n",
       "div.sk-estimator.fitted:hover .sk-estimator-doc-link.fitted:hover,\n",
       ".sk-estimator-doc-link.fitted:hover,\n",
       "div.sk-label-container:hover .sk-estimator-doc-link.fitted:hover,\n",
       ".sk-estimator-doc-link.fitted:hover {\n",
       "  /* fitted */\n",
       "  background-color: var(--sklearn-color-fitted-level-3);\n",
       "  color: var(--sklearn-color-background);\n",
       "  text-decoration: none;\n",
       "}\n",
       "\n",
       "/* Span, style for the box shown on hovering the info icon */\n",
       ".sk-estimator-doc-link span {\n",
       "  display: none;\n",
       "  z-index: 9999;\n",
       "  position: relative;\n",
       "  font-weight: normal;\n",
       "  right: .2ex;\n",
       "  padding: .5ex;\n",
       "  margin: .5ex;\n",
       "  width: min-content;\n",
       "  min-width: 20ex;\n",
       "  max-width: 50ex;\n",
       "  color: var(--sklearn-color-text);\n",
       "  box-shadow: 2pt 2pt 4pt #999;\n",
       "  /* unfitted */\n",
       "  background: var(--sklearn-color-unfitted-level-0);\n",
       "  border: .5pt solid var(--sklearn-color-unfitted-level-3);\n",
       "}\n",
       "\n",
       ".sk-estimator-doc-link.fitted span {\n",
       "  /* fitted */\n",
       "  background: var(--sklearn-color-fitted-level-0);\n",
       "  border: var(--sklearn-color-fitted-level-3);\n",
       "}\n",
       "\n",
       ".sk-estimator-doc-link:hover span {\n",
       "  display: block;\n",
       "}\n",
       "\n",
       "/* \"?\"-specific style due to the `<a>` HTML tag */\n",
       "\n",
       "#sk-container-id-1 a.estimator_doc_link {\n",
       "  float: right;\n",
       "  font-size: 1rem;\n",
       "  line-height: 1em;\n",
       "  font-family: monospace;\n",
       "  background-color: var(--sklearn-color-background);\n",
       "  border-radius: 1rem;\n",
       "  height: 1rem;\n",
       "  width: 1rem;\n",
       "  text-decoration: none;\n",
       "  /* unfitted */\n",
       "  color: var(--sklearn-color-unfitted-level-1);\n",
       "  border: var(--sklearn-color-unfitted-level-1) 1pt solid;\n",
       "}\n",
       "\n",
       "#sk-container-id-1 a.estimator_doc_link.fitted {\n",
       "  /* fitted */\n",
       "  border: var(--sklearn-color-fitted-level-1) 1pt solid;\n",
       "  color: var(--sklearn-color-fitted-level-1);\n",
       "}\n",
       "\n",
       "/* On hover */\n",
       "#sk-container-id-1 a.estimator_doc_link:hover {\n",
       "  /* unfitted */\n",
       "  background-color: var(--sklearn-color-unfitted-level-3);\n",
       "  color: var(--sklearn-color-background);\n",
       "  text-decoration: none;\n",
       "}\n",
       "\n",
       "#sk-container-id-1 a.estimator_doc_link.fitted:hover {\n",
       "  /* fitted */\n",
       "  background-color: var(--sklearn-color-fitted-level-3);\n",
       "}\n",
       "</style><div id=\"sk-container-id-1\" class=\"sk-top-container\"><div class=\"sk-text-repr-fallback\"><pre>Pipeline(steps=[(&#x27;preprocessor&#x27;,\n",
       "                 ColumnTransformer(remainder=&#x27;passthrough&#x27;,\n",
       "                                   transformers=[(&#x27;ohe&#x27;,\n",
       "                                                  Pipeline(steps=[(&#x27;ohe&#x27;,\n",
       "                                                                   OneHotEncoder(drop=&#x27;first&#x27;,\n",
       "                                                                                 handle_unknown=&#x27;ignore&#x27;,\n",
       "                                                                                 sparse_output=False))]),\n",
       "                                                  [&#x27;Gearbox&#x27;, &#x27;FuelType&#x27;,\n",
       "                                                   &#x27;Repaired&#x27;]),\n",
       "                                                 (&#x27;ord&#x27;,\n",
       "                                                  Pipeline(steps=[(&#x27;simpleImputer_before_ord&#x27;,\n",
       "                                                                   SimpleImputer(strategy=&#x27;most_frequent&#x27;)),\n",
       "                                                                  (&#x27;ord&#x27;,\n",
       "                                                                   OrdinalEncoder(handle_unknown=&#x27;use_encoded_value&#x27;,\n",
       "                                                                                  unknown_value=-1)),\n",
       "                                                                  (&#x27;simpleImputer_after_ord&#x27;,\n",
       "                                                                   SimpleImputer(strategy=&#x27;most_frequent&#x27;))]),\n",
       "                                                  [&#x27;VehicleType&#x27;, &#x27;Model&#x27;,\n",
       "                                                   &#x27;Brand&#x27;, &#x27;Kilometer&#x27;]),\n",
       "                                                 (&#x27;num&#x27;, RobustScaler(),\n",
       "                                                  [&#x27;RegistrationYear&#x27;,\n",
       "                                                   &#x27;Power&#x27;])])),\n",
       "                (&#x27;models&#x27;,\n",
       "                 DecisionTreeRegressor(max_depth=4, max_features=26,\n",
       "                                       min_samples_leaf=8, random_state=42))])</pre><b>In a Jupyter environment, please rerun this cell to show the HTML representation or trust the notebook. <br />On GitHub, the HTML representation is unable to render, please try loading this page with nbviewer.org.</b></div><div class=\"sk-container\" hidden><div class=\"sk-item sk-dashed-wrapped\"><div class=\"sk-label-container\"><div class=\"sk-label fitted sk-toggleable\"><input class=\"sk-toggleable__control sk-hidden--visually\" id=\"sk-estimator-id-1\" type=\"checkbox\" ><label for=\"sk-estimator-id-1\" class=\"sk-toggleable__label fitted sk-toggleable__label-arrow fitted\">&nbsp;&nbsp;Pipeline<a class=\"sk-estimator-doc-link fitted\" rel=\"noreferrer\" target=\"_blank\" href=\"https://scikit-learn.org/1.4/modules/generated/sklearn.pipeline.Pipeline.html\">?<span>Documentation for Pipeline</span></a><span class=\"sk-estimator-doc-link fitted\">i<span>Fitted</span></span></label><div class=\"sk-toggleable__content fitted\"><pre>Pipeline(steps=[(&#x27;preprocessor&#x27;,\n",
       "                 ColumnTransformer(remainder=&#x27;passthrough&#x27;,\n",
       "                                   transformers=[(&#x27;ohe&#x27;,\n",
       "                                                  Pipeline(steps=[(&#x27;ohe&#x27;,\n",
       "                                                                   OneHotEncoder(drop=&#x27;first&#x27;,\n",
       "                                                                                 handle_unknown=&#x27;ignore&#x27;,\n",
       "                                                                                 sparse_output=False))]),\n",
       "                                                  [&#x27;Gearbox&#x27;, &#x27;FuelType&#x27;,\n",
       "                                                   &#x27;Repaired&#x27;]),\n",
       "                                                 (&#x27;ord&#x27;,\n",
       "                                                  Pipeline(steps=[(&#x27;simpleImputer_before_ord&#x27;,\n",
       "                                                                   SimpleImputer(strategy=&#x27;most_frequent&#x27;)),\n",
       "                                                                  (&#x27;ord&#x27;,\n",
       "                                                                   OrdinalEncoder(handle_unknown=&#x27;use_encoded_value&#x27;,\n",
       "                                                                                  unknown_value=-1)),\n",
       "                                                                  (&#x27;simpleImputer_after_ord&#x27;,\n",
       "                                                                   SimpleImputer(strategy=&#x27;most_frequent&#x27;))]),\n",
       "                                                  [&#x27;VehicleType&#x27;, &#x27;Model&#x27;,\n",
       "                                                   &#x27;Brand&#x27;, &#x27;Kilometer&#x27;]),\n",
       "                                                 (&#x27;num&#x27;, RobustScaler(),\n",
       "                                                  [&#x27;RegistrationYear&#x27;,\n",
       "                                                   &#x27;Power&#x27;])])),\n",
       "                (&#x27;models&#x27;,\n",
       "                 DecisionTreeRegressor(max_depth=4, max_features=26,\n",
       "                                       min_samples_leaf=8, random_state=42))])</pre></div> </div></div><div class=\"sk-serial\"><div class=\"sk-item sk-dashed-wrapped\"><div class=\"sk-label-container\"><div class=\"sk-label fitted sk-toggleable\"><input class=\"sk-toggleable__control sk-hidden--visually\" id=\"sk-estimator-id-2\" type=\"checkbox\" ><label for=\"sk-estimator-id-2\" class=\"sk-toggleable__label fitted sk-toggleable__label-arrow fitted\">&nbsp;preprocessor: ColumnTransformer<a class=\"sk-estimator-doc-link fitted\" rel=\"noreferrer\" target=\"_blank\" href=\"https://scikit-learn.org/1.4/modules/generated/sklearn.compose.ColumnTransformer.html\">?<span>Documentation for preprocessor: ColumnTransformer</span></a></label><div class=\"sk-toggleable__content fitted\"><pre>ColumnTransformer(remainder=&#x27;passthrough&#x27;,\n",
       "                  transformers=[(&#x27;ohe&#x27;,\n",
       "                                 Pipeline(steps=[(&#x27;ohe&#x27;,\n",
       "                                                  OneHotEncoder(drop=&#x27;first&#x27;,\n",
       "                                                                handle_unknown=&#x27;ignore&#x27;,\n",
       "                                                                sparse_output=False))]),\n",
       "                                 [&#x27;Gearbox&#x27;, &#x27;FuelType&#x27;, &#x27;Repaired&#x27;]),\n",
       "                                (&#x27;ord&#x27;,\n",
       "                                 Pipeline(steps=[(&#x27;simpleImputer_before_ord&#x27;,\n",
       "                                                  SimpleImputer(strategy=&#x27;most_frequent&#x27;)),\n",
       "                                                 (&#x27;ord&#x27;,\n",
       "                                                  OrdinalEncoder(handle_unknown=&#x27;use_encoded_value&#x27;,\n",
       "                                                                 unknown_value=-1)),\n",
       "                                                 (&#x27;simpleImputer_after_ord&#x27;,\n",
       "                                                  SimpleImputer(strategy=&#x27;most_frequent&#x27;))]),\n",
       "                                 [&#x27;VehicleType&#x27;, &#x27;Model&#x27;, &#x27;Brand&#x27;,\n",
       "                                  &#x27;Kilometer&#x27;]),\n",
       "                                (&#x27;num&#x27;, RobustScaler(),\n",
       "                                 [&#x27;RegistrationYear&#x27;, &#x27;Power&#x27;])])</pre></div> </div></div><div class=\"sk-parallel\"><div class=\"sk-parallel-item\"><div class=\"sk-item\"><div class=\"sk-label-container\"><div class=\"sk-label fitted sk-toggleable\"><input class=\"sk-toggleable__control sk-hidden--visually\" id=\"sk-estimator-id-3\" type=\"checkbox\" ><label for=\"sk-estimator-id-3\" class=\"sk-toggleable__label fitted sk-toggleable__label-arrow fitted\">ohe</label><div class=\"sk-toggleable__content fitted\"><pre>[&#x27;Gearbox&#x27;, &#x27;FuelType&#x27;, &#x27;Repaired&#x27;]</pre></div> </div></div><div class=\"sk-serial\"><div class=\"sk-item\"><div class=\"sk-serial\"><div class=\"sk-item\"><div class=\"sk-estimator fitted sk-toggleable\"><input class=\"sk-toggleable__control sk-hidden--visually\" id=\"sk-estimator-id-4\" type=\"checkbox\" ><label for=\"sk-estimator-id-4\" class=\"sk-toggleable__label fitted sk-toggleable__label-arrow fitted\">&nbsp;OneHotEncoder<a class=\"sk-estimator-doc-link fitted\" rel=\"noreferrer\" target=\"_blank\" href=\"https://scikit-learn.org/1.4/modules/generated/sklearn.preprocessing.OneHotEncoder.html\">?<span>Documentation for OneHotEncoder</span></a></label><div class=\"sk-toggleable__content fitted\"><pre>OneHotEncoder(drop=&#x27;first&#x27;, handle_unknown=&#x27;ignore&#x27;, sparse_output=False)</pre></div> </div></div></div></div></div></div></div><div class=\"sk-parallel-item\"><div class=\"sk-item\"><div class=\"sk-label-container\"><div class=\"sk-label fitted sk-toggleable\"><input class=\"sk-toggleable__control sk-hidden--visually\" id=\"sk-estimator-id-5\" type=\"checkbox\" ><label for=\"sk-estimator-id-5\" class=\"sk-toggleable__label fitted sk-toggleable__label-arrow fitted\">ord</label><div class=\"sk-toggleable__content fitted\"><pre>[&#x27;VehicleType&#x27;, &#x27;Model&#x27;, &#x27;Brand&#x27;, &#x27;Kilometer&#x27;]</pre></div> </div></div><div class=\"sk-serial\"><div class=\"sk-item\"><div class=\"sk-serial\"><div class=\"sk-item\"><div class=\"sk-estimator fitted sk-toggleable\"><input class=\"sk-toggleable__control sk-hidden--visually\" id=\"sk-estimator-id-6\" type=\"checkbox\" ><label for=\"sk-estimator-id-6\" class=\"sk-toggleable__label fitted sk-toggleable__label-arrow fitted\">&nbsp;SimpleImputer<a class=\"sk-estimator-doc-link fitted\" rel=\"noreferrer\" target=\"_blank\" href=\"https://scikit-learn.org/1.4/modules/generated/sklearn.impute.SimpleImputer.html\">?<span>Documentation for SimpleImputer</span></a></label><div class=\"sk-toggleable__content fitted\"><pre>SimpleImputer(strategy=&#x27;most_frequent&#x27;)</pre></div> </div></div><div class=\"sk-item\"><div class=\"sk-estimator fitted sk-toggleable\"><input class=\"sk-toggleable__control sk-hidden--visually\" id=\"sk-estimator-id-7\" type=\"checkbox\" ><label for=\"sk-estimator-id-7\" class=\"sk-toggleable__label fitted sk-toggleable__label-arrow fitted\">&nbsp;OrdinalEncoder<a class=\"sk-estimator-doc-link fitted\" rel=\"noreferrer\" target=\"_blank\" href=\"https://scikit-learn.org/1.4/modules/generated/sklearn.preprocessing.OrdinalEncoder.html\">?<span>Documentation for OrdinalEncoder</span></a></label><div class=\"sk-toggleable__content fitted\"><pre>OrdinalEncoder(handle_unknown=&#x27;use_encoded_value&#x27;, unknown_value=-1)</pre></div> </div></div><div class=\"sk-item\"><div class=\"sk-estimator fitted sk-toggleable\"><input class=\"sk-toggleable__control sk-hidden--visually\" id=\"sk-estimator-id-8\" type=\"checkbox\" ><label for=\"sk-estimator-id-8\" class=\"sk-toggleable__label fitted sk-toggleable__label-arrow fitted\">&nbsp;SimpleImputer<a class=\"sk-estimator-doc-link fitted\" rel=\"noreferrer\" target=\"_blank\" href=\"https://scikit-learn.org/1.4/modules/generated/sklearn.impute.SimpleImputer.html\">?<span>Documentation for SimpleImputer</span></a></label><div class=\"sk-toggleable__content fitted\"><pre>SimpleImputer(strategy=&#x27;most_frequent&#x27;)</pre></div> </div></div></div></div></div></div></div><div class=\"sk-parallel-item\"><div class=\"sk-item\"><div class=\"sk-label-container\"><div class=\"sk-label fitted sk-toggleable\"><input class=\"sk-toggleable__control sk-hidden--visually\" id=\"sk-estimator-id-9\" type=\"checkbox\" ><label for=\"sk-estimator-id-9\" class=\"sk-toggleable__label fitted sk-toggleable__label-arrow fitted\">num</label><div class=\"sk-toggleable__content fitted\"><pre>[&#x27;RegistrationYear&#x27;, &#x27;Power&#x27;]</pre></div> </div></div><div class=\"sk-serial\"><div class=\"sk-item\"><div class=\"sk-estimator fitted sk-toggleable\"><input class=\"sk-toggleable__control sk-hidden--visually\" id=\"sk-estimator-id-10\" type=\"checkbox\" ><label for=\"sk-estimator-id-10\" class=\"sk-toggleable__label fitted sk-toggleable__label-arrow fitted\">&nbsp;RobustScaler<a class=\"sk-estimator-doc-link fitted\" rel=\"noreferrer\" target=\"_blank\" href=\"https://scikit-learn.org/1.4/modules/generated/sklearn.preprocessing.RobustScaler.html\">?<span>Documentation for RobustScaler</span></a></label><div class=\"sk-toggleable__content fitted\"><pre>RobustScaler()</pre></div> </div></div></div></div></div><div class=\"sk-parallel-item\"><div class=\"sk-item\"><div class=\"sk-label-container\"><div class=\"sk-label fitted sk-toggleable\"><input class=\"sk-toggleable__control sk-hidden--visually\" id=\"sk-estimator-id-11\" type=\"checkbox\" ><label for=\"sk-estimator-id-11\" class=\"sk-toggleable__label fitted sk-toggleable__label-arrow fitted\">remainder</label><div class=\"sk-toggleable__content fitted\"><pre>[]</pre></div> </div></div><div class=\"sk-serial\"><div class=\"sk-item\"><div class=\"sk-estimator fitted sk-toggleable\"><input class=\"sk-toggleable__control sk-hidden--visually\" id=\"sk-estimator-id-12\" type=\"checkbox\" ><label for=\"sk-estimator-id-12\" class=\"sk-toggleable__label fitted sk-toggleable__label-arrow fitted\">passthrough</label><div class=\"sk-toggleable__content fitted\"><pre>passthrough</pre></div> </div></div></div></div></div></div></div><div class=\"sk-item\"><div class=\"sk-estimator fitted sk-toggleable\"><input class=\"sk-toggleable__control sk-hidden--visually\" id=\"sk-estimator-id-13\" type=\"checkbox\" ><label for=\"sk-estimator-id-13\" class=\"sk-toggleable__label fitted sk-toggleable__label-arrow fitted\">&nbsp;DecisionTreeRegressor<a class=\"sk-estimator-doc-link fitted\" rel=\"noreferrer\" target=\"_blank\" href=\"https://scikit-learn.org/1.4/modules/generated/sklearn.tree.DecisionTreeRegressor.html\">?<span>Documentation for DecisionTreeRegressor</span></a></label><div class=\"sk-toggleable__content fitted\"><pre>DecisionTreeRegressor(max_depth=4, max_features=26, min_samples_leaf=8,\n",
       "                      random_state=42)</pre></div> </div></div></div></div></div></div>"
      ],
      "text/plain": [
       "Pipeline(steps=[('preprocessor',\n",
       "                 ColumnTransformer(remainder='passthrough',\n",
       "                                   transformers=[('ohe',\n",
       "                                                  Pipeline(steps=[('ohe',\n",
       "                                                                   OneHotEncoder(drop='first',\n",
       "                                                                                 handle_unknown='ignore',\n",
       "                                                                                 sparse_output=False))]),\n",
       "                                                  ['Gearbox', 'FuelType',\n",
       "                                                   'Repaired']),\n",
       "                                                 ('ord',\n",
       "                                                  Pipeline(steps=[('simpleImputer_before_ord',\n",
       "                                                                   SimpleImputer(strategy='most_frequent')),\n",
       "                                                                  ('ord',\n",
       "                                                                   OrdinalEncoder(handle_unknown='use_encoded_value',\n",
       "                                                                                  unknown_value=-1)),\n",
       "                                                                  ('simpleImputer_after_ord',\n",
       "                                                                   SimpleImputer(strategy='most_frequent'))]),\n",
       "                                                  ['VehicleType', 'Model',\n",
       "                                                   'Brand', 'Kilometer']),\n",
       "                                                 ('num', RobustScaler(),\n",
       "                                                  ['RegistrationYear',\n",
       "                                                   'Power'])])),\n",
       "                ('models',\n",
       "                 DecisionTreeRegressor(max_depth=4, max_features=26,\n",
       "                                       min_samples_leaf=8, random_state=42))])"
      ]
     },
     "execution_count": 49,
     "metadata": {},
     "output_type": "execute_result"
    }
   ],
   "source": [
    "random_1.fit(X_train, y_train)\n",
    "random_1.best_estimator_"
   ]
  },
  {
   "cell_type": "code",
   "execution_count": 50,
   "metadata": {},
   "outputs": [],
   "source": [
    "start = time()\n",
    "random_1.fit(X_train, y_train)\n",
    "end = time()\n",
    "fit.append(end - start)"
   ]
  },
  {
   "cell_type": "code",
   "execution_count": 51,
   "metadata": {},
   "outputs": [],
   "source": [
    "best_model = random_1.best_estimator_"
   ]
  },
  {
   "cell_type": "code",
   "execution_count": 52,
   "metadata": {},
   "outputs": [],
   "source": [
    "start = time()\n",
    "predictions_1 = best_model.predict(X_train)\n",
    "end = time()\n",
    "predict.append(end-start)"
   ]
  },
  {
   "cell_type": "code",
   "execution_count": 53,
   "metadata": {},
   "outputs": [
    {
     "data": {
      "text/plain": [
       "2646.392095176481"
      ]
     },
     "execution_count": 53,
     "metadata": {},
     "output_type": "execute_result"
    }
   ],
   "source": [
    "rmse_tree = (-random_1.best_score_) ** 0.5\n",
    "rmse.append(rmse_tree)\n",
    "rmse_tree"
   ]
  },
  {
   "cell_type": "markdown",
   "metadata": {},
   "source": [
    "### CatBoost"
   ]
  },
  {
   "cell_type": "code",
   "execution_count": 54,
   "metadata": {},
   "outputs": [
    {
     "name": "stdout",
     "output_type": "stream",
     "text": [
      "RMSE при depth = 3 и iterations = 30: 1947.7464562389498\n",
      "RMSE при depth = 3 и iterations = 40: 1895.305668419465\n",
      "RMSE при depth = 3 и iterations = 50: 1859.6342474040214\n",
      "RMSE при depth = 3 и iterations = 60: 1834.38525247748\n",
      "RMSE при depth = 6 и iterations = 30: 1764.2250273860827\n",
      "RMSE при depth = 6 и iterations = 40: 1729.7671391836832\n",
      "RMSE при depth = 6 и iterations = 50: 1706.0589441383574\n",
      "RMSE при depth = 6 и iterations = 60: 1691.358756062459\n",
      "RMSE при depth = 9 и iterations = 30: 1683.9788333657873\n",
      "RMSE при depth = 9 и iterations = 40: 1659.3651578758008\n",
      "RMSE при depth = 9 и iterations = 50: 1643.2851234859897\n",
      "RMSE при depth = 9 и iterations = 60: 1631.5320421536762\n"
     ]
    }
   ],
   "source": [
    "for depth in range(3, 10, 3):\n",
    "    for iterations in range(30, 61, 10):\n",
    "        gatto = CatBoostRegressor(random_seed=42,\n",
    "                        loss_function='RMSE',\n",
    "                        silent=True,\n",
    "                        iterations = iterations,\n",
    "                        depth=depth,\n",
    "                        border_count=None)\n",
    "        mse = cross_val_score(gatto, X_train_processed, y_train, cv=5, scoring='neg_mean_squared_error')\n",
    "        rmse_2 = (-mse.mean()) ** 0.5\n",
    "        print(f\"RMSE при depth = {depth} и iterations = {iterations}: {rmse_2}\")"
   ]
  },
  {
   "cell_type": "code",
   "execution_count": 55,
   "metadata": {},
   "outputs": [],
   "source": [
    "# лучший показатель RMSE у последней модели\n",
    "# результат будет уже сохранён в переменную, поэтому сразу добавим её\n",
    "rmse_gatto = rmse_2\n",
    "rmse.append(rmse_gatto)"
   ]
  },
  {
   "cell_type": "code",
   "execution_count": 56,
   "metadata": {},
   "outputs": [],
   "source": [
    "gatto = CatBoostRegressor(random_seed=42,\n",
    "                        loss_function='RMSE',\n",
    "                        silent=True,\n",
    "                        iterations = 60,\n",
    "                        depth=9,\n",
    "                        border_count=None)"
   ]
  },
  {
   "cell_type": "code",
   "execution_count": 57,
   "metadata": {},
   "outputs": [],
   "source": [
    "start = time()\n",
    "gatto.fit(X_train_processed, y_train)\n",
    "end = time()\n",
    "fit.append(end-start)"
   ]
  },
  {
   "cell_type": "code",
   "execution_count": 58,
   "metadata": {},
   "outputs": [],
   "source": [
    "start = time()\n",
    "y_pred_2 = gatto.predict(X_train_processed)\n",
    "end = time()\n",
    "predict.append(end-start)"
   ]
  },
  {
   "cell_type": "markdown",
   "metadata": {},
   "source": [
    "### LightGBM"
   ]
  },
  {
   "cell_type": "code",
   "execution_count": 59,
   "metadata": {},
   "outputs": [],
   "source": [
    "gbm = lgb.LGBMRegressor(boosting_type='gbdt', verbose=0, seed=42)\n",
    "\n",
    "\n",
    "params = {\n",
    "    'learning_rate': np.logspace(-5, 0, 5),\n",
    "    'n_estimators': [30, 5],\n",
    "    'num_leaves': [20, 30, 40],\n",
    "}\n",
    "\n",
    "random_3 = RandomizedSearchCV(gbm,\n",
    "                        params,\n",
    "                        cv=3,\n",
    "                        scoring='neg_mean_squared_error',\n",
    "                        verbose=True,\n",
    "                        random_state=RANDOM_STATE)"
   ]
  },
  {
   "cell_type": "code",
   "execution_count": 60,
   "metadata": {
    "scrolled": true
   },
   "outputs": [
    {
     "name": "stdout",
     "output_type": "stream",
     "text": [
      "Fitting 3 folds for each of 10 candidates, totalling 30 fits\n"
     ]
    }
   ],
   "source": [
    "start = time()\n",
    "random_3.fit(X_train_processed, y_train)\n",
    "end = time()\n",
    "fit.append(end-start)"
   ]
  },
  {
   "cell_type": "code",
   "execution_count": 61,
   "metadata": {},
   "outputs": [],
   "source": [
    "start = time()\n",
    "y_pred_3 = random_3.best_estimator_.predict(X_train_processed)\n",
    "end = time()\n",
    "predict.append(end-start)"
   ]
  },
  {
   "cell_type": "code",
   "execution_count": 62,
   "metadata": {},
   "outputs": [
    {
     "data": {
      "text/plain": [
       "1771.377475545716"
      ]
     },
     "execution_count": 62,
     "metadata": {},
     "output_type": "execute_result"
    }
   ],
   "source": [
    "mse = cross_val_score(random_3.best_estimator_, X_train_processed, y_train, cv=5, scoring='neg_mean_squared_error')\n",
    "rmse_gbm = (-mse.mean()) ** 0.5\n",
    "rmse.append(rmse_gbm)\n",
    "rmse_gbm"
   ]
  },
  {
   "cell_type": "markdown",
   "metadata": {},
   "source": [
    "## Анализ моделей"
   ]
  },
  {
   "cell_type": "markdown",
   "metadata": {},
   "source": [
    "### Анализ"
   ]
  },
  {
   "cell_type": "code",
   "execution_count": 63,
   "metadata": {},
   "outputs": [
    {
     "data": {
      "text/html": [
       "<div>\n",
       "<style scoped>\n",
       "    .dataframe tbody tr th:only-of-type {\n",
       "        vertical-align: middle;\n",
       "    }\n",
       "\n",
       "    .dataframe tbody tr th {\n",
       "        vertical-align: top;\n",
       "    }\n",
       "\n",
       "    .dataframe thead th {\n",
       "        text-align: right;\n",
       "    }\n",
       "</style>\n",
       "<table border=\"1\" class=\"dataframe\">\n",
       "  <thead>\n",
       "    <tr style=\"text-align: right;\">\n",
       "      <th></th>\n",
       "      <th>model</th>\n",
       "      <th>fit_time</th>\n",
       "      <th>predict_time</th>\n",
       "      <th>RMSE</th>\n",
       "    </tr>\n",
       "  </thead>\n",
       "  <tbody>\n",
       "    <tr>\n",
       "      <th>0</th>\n",
       "      <td>DecisionTreeRegressor</td>\n",
       "      <td>5.092191</td>\n",
       "      <td>0.190829</td>\n",
       "      <td>2646.392095</td>\n",
       "    </tr>\n",
       "    <tr>\n",
       "      <th>1</th>\n",
       "      <td>CatBoost</td>\n",
       "      <td>0.566194</td>\n",
       "      <td>0.017965</td>\n",
       "      <td>1631.532042</td>\n",
       "    </tr>\n",
       "    <tr>\n",
       "      <th>2</th>\n",
       "      <td>LightGBM</td>\n",
       "      <td>3.301443</td>\n",
       "      <td>0.042334</td>\n",
       "      <td>1771.377476</td>\n",
       "    </tr>\n",
       "  </tbody>\n",
       "</table>\n",
       "</div>"
      ],
      "text/plain": [
       "                   model  fit_time  predict_time         RMSE\n",
       "0  DecisionTreeRegressor  5.092191      0.190829  2646.392095\n",
       "1               CatBoost  0.566194      0.017965  1631.532042\n",
       "2               LightGBM  3.301443      0.042334  1771.377476"
      ]
     },
     "execution_count": 63,
     "metadata": {},
     "output_type": "execute_result"
    }
   ],
   "source": [
    "table = pd.DataFrame({\n",
    "    'model': model,\n",
    "    'fit_time': fit,\n",
    "    'predict_time': predict,\n",
    "    'RMSE': rmse\n",
    "})\n",
    "\n",
    "table"
   ]
  },
  {
   "cell_type": "markdown",
   "metadata": {},
   "source": [
    "### Проверка лучшей модели на адекватность"
   ]
  },
  {
   "cell_type": "code",
   "execution_count": 64,
   "metadata": {},
   "outputs": [],
   "source": [
    "model_dummy = DummyRegressor(strategy=\"mean\")"
   ]
  },
  {
   "cell_type": "code",
   "execution_count": 65,
   "metadata": {},
   "outputs": [
    {
     "name": "stdout",
     "output_type": "stream",
     "text": [
      "0.00039196014404296875\n"
     ]
    }
   ],
   "source": [
    "start = time()\n",
    "model_dummy.fit(X_train_processed, y_train)\n",
    "end = time()\n",
    "print(end - start)"
   ]
  },
  {
   "cell_type": "code",
   "execution_count": 66,
   "metadata": {},
   "outputs": [
    {
     "name": "stdout",
     "output_type": "stream",
     "text": [
      "0.0005540847778320312\n"
     ]
    }
   ],
   "source": [
    "start = time()\n",
    "dummy_pred = model_dummy.predict(X_test_processed)\n",
    "end = time()\n",
    "print(end - start)"
   ]
  },
  {
   "cell_type": "code",
   "execution_count": 67,
   "metadata": {},
   "outputs": [
    {
     "name": "stdout",
     "output_type": "stream",
     "text": [
      "4647.321765531935\n"
     ]
    }
   ],
   "source": [
    "rmse_dummy = mean_squared_error(y_test, dummy_pred) ** 0.5\n",
    "print(rmse_dummy)"
   ]
  },
  {
   "cell_type": "markdown",
   "metadata": {},
   "source": [
    "### Вывод"
   ]
  },
  {
   "cell_type": "markdown",
   "metadata": {},
   "source": [
    "У **CatBoost** значимо лучшие показатели по всем параметрам среди моделей DecisionTreeRegressor и LightGBM. Также видим, что все модели адекватные т.к. их RMSE намного меньше по сравнению с Dummy моделью"
   ]
  },
  {
   "cell_type": "code",
   "execution_count": 68,
   "metadata": {},
   "outputs": [
    {
     "data": {
      "text/plain": [
       "1643.4000402458619"
      ]
     },
     "execution_count": 68,
     "metadata": {},
     "output_type": "execute_result"
    }
   ],
   "source": [
    "# посчитаем rmse для модели СatBoost на тестовых данных\n",
    "mean_squared_error(y_test, gatto.predict(X_test_processed)) ** 0.5"
   ]
  },
  {
   "cell_type": "markdown",
   "metadata": {},
   "source": [
    "- результат хороший, модель адекватна"
   ]
  }
 ],
 "metadata": {
  "ExecuteTimeLog": [
   {
    "duration": 377,
    "start_time": "2024-03-24T17:47:15.886Z"
   },
   {
    "duration": 2965,
    "start_time": "2024-03-24T17:47:26.627Z"
   },
   {
    "duration": 877,
    "start_time": "2024-03-24T17:48:21.929Z"
   },
   {
    "duration": 938,
    "start_time": "2024-03-24T17:49:17.437Z"
   },
   {
    "duration": 870,
    "start_time": "2024-03-24T17:49:25.154Z"
   },
   {
    "duration": 13,
    "start_time": "2024-03-24T17:49:36.616Z"
   },
   {
    "duration": 4,
    "start_time": "2024-03-24T17:50:10.677Z"
   },
   {
    "duration": 3,
    "start_time": "2024-03-24T17:50:37.500Z"
   },
   {
    "duration": 40,
    "start_time": "2024-03-24T17:50:56.512Z"
   },
   {
    "duration": 96,
    "start_time": "2024-03-24T17:51:08.560Z"
   },
   {
    "duration": 12,
    "start_time": "2024-03-24T17:51:26.066Z"
   },
   {
    "duration": 13,
    "start_time": "2024-03-24T17:51:35.626Z"
   },
   {
    "duration": 14,
    "start_time": "2024-03-24T17:51:38.720Z"
   },
   {
    "duration": 871,
    "start_time": "2024-03-24T17:51:42.342Z"
   },
   {
    "duration": 39,
    "start_time": "2024-03-24T17:51:45.935Z"
   },
   {
    "duration": 138,
    "start_time": "2024-03-24T17:53:16.998Z"
   },
   {
    "duration": 834,
    "start_time": "2024-03-24T17:57:02.717Z"
   },
   {
    "duration": 14,
    "start_time": "2024-03-24T17:57:03.553Z"
   },
   {
    "duration": 35,
    "start_time": "2024-03-24T18:03:28.145Z"
   },
   {
    "duration": 23,
    "start_time": "2024-03-24T18:03:34.251Z"
   },
   {
    "duration": 28,
    "start_time": "2024-03-24T18:03:38.607Z"
   },
   {
    "duration": 1126,
    "start_time": "2024-03-24T18:05:10.359Z"
   },
   {
    "duration": 885,
    "start_time": "2024-03-24T18:05:11.487Z"
   },
   {
    "duration": 26,
    "start_time": "2024-03-24T18:05:12.374Z"
   },
   {
    "duration": 35,
    "start_time": "2024-03-24T18:05:12.403Z"
   },
   {
    "duration": 6,
    "start_time": "2024-03-24T18:05:12.439Z"
   },
   {
    "duration": 3,
    "start_time": "2024-03-24T18:05:12.447Z"
   },
   {
    "duration": 129,
    "start_time": "2024-03-24T18:06:36.166Z"
   },
   {
    "duration": 96,
    "start_time": "2024-03-24T18:08:25.058Z"
   },
   {
    "duration": 34,
    "start_time": "2024-03-24T18:08:30.232Z"
   },
   {
    "duration": 433,
    "start_time": "2024-03-24T18:17:10.610Z"
   },
   {
    "duration": 3566,
    "start_time": "2024-03-24T18:17:44.538Z"
   },
   {
    "duration": 20,
    "start_time": "2024-03-24T18:18:08.798Z"
   },
   {
    "duration": 6405,
    "start_time": "2024-03-24T18:18:46.072Z"
   },
   {
    "duration": 21,
    "start_time": "2024-03-24T18:18:52.479Z"
   },
   {
    "duration": 1158,
    "start_time": "2024-03-24T18:19:14.276Z"
   },
   {
    "duration": 911,
    "start_time": "2024-03-24T18:19:15.436Z"
   },
   {
    "duration": 19,
    "start_time": "2024-03-24T18:19:16.349Z"
   },
   {
    "duration": 44,
    "start_time": "2024-03-24T18:19:16.370Z"
   },
   {
    "duration": 133,
    "start_time": "2024-03-24T18:19:16.416Z"
   },
   {
    "duration": 37,
    "start_time": "2024-03-24T18:19:16.551Z"
   },
   {
    "duration": 415,
    "start_time": "2024-03-24T18:19:16.590Z"
   },
   {
    "duration": 0,
    "start_time": "2024-03-24T18:19:17.006Z"
   },
   {
    "duration": 0,
    "start_time": "2024-03-24T18:19:17.008Z"
   },
   {
    "duration": 0,
    "start_time": "2024-03-24T18:19:17.009Z"
   },
   {
    "duration": 42,
    "start_time": "2024-03-24T18:19:47.837Z"
   },
   {
    "duration": 6296,
    "start_time": "2024-03-24T18:19:50.312Z"
   },
   {
    "duration": 19,
    "start_time": "2024-03-24T18:19:58.287Z"
   },
   {
    "duration": 48,
    "start_time": "2024-03-24T18:21:24.234Z"
   },
   {
    "duration": 11,
    "start_time": "2024-03-24T18:22:13.429Z"
   },
   {
    "duration": 9,
    "start_time": "2024-03-24T18:23:21.252Z"
   },
   {
    "duration": 12,
    "start_time": "2024-03-24T18:23:47.264Z"
   },
   {
    "duration": 7,
    "start_time": "2024-03-24T18:23:53.301Z"
   },
   {
    "duration": 7,
    "start_time": "2024-03-24T18:24:05.618Z"
   },
   {
    "duration": 67,
    "start_time": "2024-03-24T18:24:37.854Z"
   },
   {
    "duration": 6,
    "start_time": "2024-03-24T18:24:59.111Z"
   },
   {
    "duration": 3,
    "start_time": "2024-03-24T18:25:31.657Z"
   },
   {
    "duration": 3,
    "start_time": "2024-03-24T18:25:47.570Z"
   },
   {
    "duration": 60,
    "start_time": "2024-03-24T18:26:49.486Z"
   },
   {
    "duration": 34,
    "start_time": "2024-03-24T18:26:55.720Z"
   },
   {
    "duration": 248,
    "start_time": "2024-03-24T18:27:25.382Z"
   },
   {
    "duration": 294,
    "start_time": "2024-03-24T18:28:23.268Z"
   },
   {
    "duration": 20,
    "start_time": "2024-03-24T18:28:26.684Z"
   },
   {
    "duration": 92,
    "start_time": "2024-03-24T18:28:57.245Z"
   },
   {
    "duration": 11,
    "start_time": "2024-03-24T18:29:29.196Z"
   },
   {
    "duration": 22,
    "start_time": "2024-03-24T18:29:40.580Z"
   },
   {
    "duration": 21,
    "start_time": "2024-03-24T18:30:41.104Z"
   },
   {
    "duration": 25,
    "start_time": "2024-03-24T18:31:02.584Z"
   },
   {
    "duration": 13,
    "start_time": "2024-03-24T18:31:35.937Z"
   },
   {
    "duration": 14,
    "start_time": "2024-03-24T18:40:25.560Z"
   },
   {
    "duration": 195,
    "start_time": "2024-03-24T18:40:33.093Z"
   },
   {
    "duration": 89,
    "start_time": "2024-03-24T18:40:38.023Z"
   },
   {
    "duration": 539,
    "start_time": "2024-03-24T18:41:05.008Z"
   },
   {
    "duration": 474,
    "start_time": "2024-03-24T18:41:10.079Z"
   },
   {
    "duration": 1133,
    "start_time": "2024-03-24T18:41:30.107Z"
   },
   {
    "duration": 950,
    "start_time": "2024-03-24T18:41:31.243Z"
   },
   {
    "duration": 23,
    "start_time": "2024-03-24T18:41:32.195Z"
   },
   {
    "duration": 52,
    "start_time": "2024-03-24T18:41:32.220Z"
   },
   {
    "duration": 4,
    "start_time": "2024-03-24T18:41:32.275Z"
   },
   {
    "duration": 169,
    "start_time": "2024-03-24T18:41:32.280Z"
   },
   {
    "duration": 35,
    "start_time": "2024-03-24T18:41:32.450Z"
   },
   {
    "duration": 6835,
    "start_time": "2024-03-24T18:41:32.487Z"
   },
   {
    "duration": 29,
    "start_time": "2024-03-24T18:41:39.324Z"
   },
   {
    "duration": 41,
    "start_time": "2024-03-24T18:41:39.355Z"
   },
   {
    "duration": 239,
    "start_time": "2024-03-24T18:41:39.398Z"
   },
   {
    "duration": 326,
    "start_time": "2024-03-24T18:41:39.640Z"
   },
   {
    "duration": 98,
    "start_time": "2024-03-24T18:41:39.968Z"
   },
   {
    "duration": 595,
    "start_time": "2024-03-24T18:41:40.068Z"
   },
   {
    "duration": 0,
    "start_time": "2024-03-24T18:41:40.665Z"
   },
   {
    "duration": 0,
    "start_time": "2024-03-24T18:41:40.666Z"
   },
   {
    "duration": 34,
    "start_time": "2024-03-24T18:42:14.998Z"
   },
   {
    "duration": 319,
    "start_time": "2024-03-24T18:42:41.705Z"
   },
   {
    "duration": 241,
    "start_time": "2024-03-24T18:43:06.708Z"
   },
   {
    "duration": 5,
    "start_time": "2024-03-24T18:43:47.682Z"
   },
   {
    "duration": 10,
    "start_time": "2024-03-24T18:44:40.166Z"
   },
   {
    "duration": 56,
    "start_time": "2024-03-24T18:44:50.688Z"
   },
   {
    "duration": 1189,
    "start_time": "2024-03-24T18:45:22.561Z"
   },
   {
    "duration": 923,
    "start_time": "2024-03-24T18:45:23.752Z"
   },
   {
    "duration": 25,
    "start_time": "2024-03-24T18:45:24.677Z"
   },
   {
    "duration": 45,
    "start_time": "2024-03-24T18:45:24.704Z"
   },
   {
    "duration": 4,
    "start_time": "2024-03-24T18:45:24.765Z"
   },
   {
    "duration": 142,
    "start_time": "2024-03-24T18:45:24.771Z"
   },
   {
    "duration": 30,
    "start_time": "2024-03-24T18:45:24.915Z"
   },
   {
    "duration": 6869,
    "start_time": "2024-03-24T18:45:24.947Z"
   },
   {
    "duration": 31,
    "start_time": "2024-03-24T18:45:31.817Z"
   },
   {
    "duration": 34,
    "start_time": "2024-03-24T18:45:31.864Z"
   },
   {
    "duration": 221,
    "start_time": "2024-03-24T18:45:31.900Z"
   },
   {
    "duration": 274,
    "start_time": "2024-03-24T18:45:32.123Z"
   },
   {
    "duration": 101,
    "start_time": "2024-03-24T18:45:32.399Z"
   },
   {
    "duration": 594,
    "start_time": "2024-03-24T18:45:32.501Z"
   },
   {
    "duration": 0,
    "start_time": "2024-03-24T18:45:33.097Z"
   },
   {
    "duration": 0,
    "start_time": "2024-03-24T18:45:33.098Z"
   },
   {
    "duration": 0,
    "start_time": "2024-03-24T18:45:33.099Z"
   },
   {
    "duration": 56,
    "start_time": "2024-03-24T18:45:42.822Z"
   },
   {
    "duration": 18,
    "start_time": "2024-03-24T18:46:41.134Z"
   },
   {
    "duration": 16,
    "start_time": "2024-03-24T18:47:02.335Z"
   },
   {
    "duration": 64,
    "start_time": "2024-03-24T18:47:17.293Z"
   },
   {
    "duration": 12,
    "start_time": "2024-03-24T18:47:41.004Z"
   },
   {
    "duration": 4,
    "start_time": "2024-03-24T18:47:49.287Z"
   },
   {
    "duration": 61,
    "start_time": "2024-03-24T18:51:04.502Z"
   },
   {
    "duration": 708,
    "start_time": "2024-03-24T18:51:09.147Z"
   },
   {
    "duration": 382,
    "start_time": "2024-03-24T18:53:53.055Z"
   },
   {
    "duration": 323,
    "start_time": "2024-03-24T18:54:49.964Z"
   },
   {
    "duration": 314,
    "start_time": "2024-03-24T18:54:56.586Z"
   },
   {
    "duration": 236,
    "start_time": "2024-03-24T18:55:03.239Z"
   },
   {
    "duration": 308,
    "start_time": "2024-03-24T18:55:08.188Z"
   },
   {
    "duration": 305,
    "start_time": "2024-03-24T18:55:53.954Z"
   },
   {
    "duration": 1125,
    "start_time": "2024-03-24T19:05:56.429Z"
   },
   {
    "duration": 879,
    "start_time": "2024-03-24T19:05:57.556Z"
   },
   {
    "duration": 17,
    "start_time": "2024-03-24T19:05:58.436Z"
   },
   {
    "duration": 31,
    "start_time": "2024-03-24T19:05:58.455Z"
   },
   {
    "duration": 13,
    "start_time": "2024-03-24T19:05:58.488Z"
   },
   {
    "duration": 366,
    "start_time": "2024-03-24T19:05:58.503Z"
   },
   {
    "duration": 146,
    "start_time": "2024-03-24T19:05:58.871Z"
   },
   {
    "duration": 33,
    "start_time": "2024-03-24T19:05:59.019Z"
   },
   {
    "duration": 3410,
    "start_time": "2024-03-24T19:05:59.064Z"
   },
   {
    "duration": 24,
    "start_time": "2024-03-24T19:06:02.477Z"
   },
   {
    "duration": 46,
    "start_time": "2024-03-24T19:06:02.502Z"
   },
   {
    "duration": 232,
    "start_time": "2024-03-24T19:06:02.551Z"
   },
   {
    "duration": 231,
    "start_time": "2024-03-24T19:06:02.785Z"
   },
   {
    "duration": 93,
    "start_time": "2024-03-24T19:06:03.017Z"
   },
   {
    "duration": 603,
    "start_time": "2024-03-24T19:06:03.111Z"
   },
   {
    "duration": 0,
    "start_time": "2024-03-24T19:06:03.716Z"
   },
   {
    "duration": 0,
    "start_time": "2024-03-24T19:06:03.717Z"
   },
   {
    "duration": 0,
    "start_time": "2024-03-24T19:06:03.719Z"
   },
   {
    "duration": 0,
    "start_time": "2024-03-24T19:06:03.720Z"
   },
   {
    "duration": 63,
    "start_time": "2024-03-24T19:07:07.634Z"
   },
   {
    "duration": 15,
    "start_time": "2024-03-24T19:07:12.492Z"
   },
   {
    "duration": 509,
    "start_time": "2024-03-24T19:07:22.153Z"
   },
   {
    "duration": 4,
    "start_time": "2024-03-24T19:07:43.130Z"
   },
   {
    "duration": 4,
    "start_time": "2024-03-24T19:07:55.398Z"
   },
   {
    "duration": 56,
    "start_time": "2024-03-24T19:08:20.385Z"
   },
   {
    "duration": 520,
    "start_time": "2024-03-24T19:08:24.242Z"
   },
   {
    "duration": 522,
    "start_time": "2024-03-24T19:08:36.181Z"
   },
   {
    "duration": 559,
    "start_time": "2024-03-24T19:08:56.143Z"
   },
   {
    "duration": 389,
    "start_time": "2024-03-24T19:09:16.984Z"
   },
   {
    "duration": 7,
    "start_time": "2024-03-24T19:09:50.032Z"
   },
   {
    "duration": 6,
    "start_time": "2024-03-24T19:09:59.732Z"
   },
   {
    "duration": 9,
    "start_time": "2024-03-24T19:10:10.816Z"
   },
   {
    "duration": 6328,
    "start_time": "2024-03-24T19:10:51.467Z"
   },
   {
    "duration": 3015,
    "start_time": "2024-03-24T19:11:07.533Z"
   },
   {
    "duration": 1182,
    "start_time": "2024-03-24T19:11:10.551Z"
   },
   {
    "duration": 880,
    "start_time": "2024-03-24T19:11:11.735Z"
   },
   {
    "duration": 16,
    "start_time": "2024-03-24T19:11:12.617Z"
   },
   {
    "duration": 41,
    "start_time": "2024-03-24T19:11:12.635Z"
   },
   {
    "duration": 4,
    "start_time": "2024-03-24T19:11:12.678Z"
   },
   {
    "duration": 375,
    "start_time": "2024-03-24T19:11:12.684Z"
   },
   {
    "duration": 137,
    "start_time": "2024-03-24T19:11:13.061Z"
   },
   {
    "duration": 29,
    "start_time": "2024-03-24T19:11:13.200Z"
   },
   {
    "duration": 3409,
    "start_time": "2024-03-24T19:11:13.233Z"
   },
   {
    "duration": 27,
    "start_time": "2024-03-24T19:11:16.643Z"
   },
   {
    "duration": 32,
    "start_time": "2024-03-24T19:11:16.672Z"
   },
   {
    "duration": 243,
    "start_time": "2024-03-24T19:11:16.706Z"
   },
   {
    "duration": 254,
    "start_time": "2024-03-24T19:11:16.950Z"
   },
   {
    "duration": 123,
    "start_time": "2024-03-24T19:11:17.205Z"
   },
   {
    "duration": 462,
    "start_time": "2024-03-24T19:11:17.329Z"
   },
   {
    "duration": 0,
    "start_time": "2024-03-24T19:11:17.793Z"
   },
   {
    "duration": 0,
    "start_time": "2024-03-24T19:11:17.794Z"
   },
   {
    "duration": 0,
    "start_time": "2024-03-24T19:11:17.795Z"
   },
   {
    "duration": 74,
    "start_time": "2024-03-24T19:13:05.480Z"
   },
   {
    "duration": 45,
    "start_time": "2024-03-24T19:13:15.293Z"
   },
   {
    "duration": 23,
    "start_time": "2024-03-24T19:14:01.416Z"
   },
   {
    "duration": 8,
    "start_time": "2024-03-24T19:14:17.271Z"
   },
   {
    "duration": 54,
    "start_time": "2024-03-24T19:14:23.824Z"
   },
   {
    "duration": 56,
    "start_time": "2024-03-24T19:14:27.158Z"
   },
   {
    "duration": 22,
    "start_time": "2024-03-24T19:16:03.886Z"
   },
   {
    "duration": 6,
    "start_time": "2024-03-24T19:17:46.760Z"
   },
   {
    "duration": 109,
    "start_time": "2024-03-24T19:20:53.375Z"
   },
   {
    "duration": 95,
    "start_time": "2024-03-24T19:21:09.401Z"
   },
   {
    "duration": 89,
    "start_time": "2024-03-24T19:21:13.060Z"
   },
   {
    "duration": 30,
    "start_time": "2024-03-24T19:21:26.255Z"
   },
   {
    "duration": 100,
    "start_time": "2024-03-24T19:25:58.287Z"
   },
   {
    "duration": 12,
    "start_time": "2024-03-24T19:27:12.394Z"
   },
   {
    "duration": 91,
    "start_time": "2024-03-24T19:27:15.603Z"
   },
   {
    "duration": 11,
    "start_time": "2024-03-24T19:27:17.260Z"
   },
   {
    "duration": 16,
    "start_time": "2024-03-24T19:28:07.266Z"
   },
   {
    "duration": 89,
    "start_time": "2024-03-24T19:28:21.021Z"
   },
   {
    "duration": 101,
    "start_time": "2024-03-24T19:28:33.871Z"
   },
   {
    "duration": 92,
    "start_time": "2024-03-24T19:29:02.305Z"
   },
   {
    "duration": 124,
    "start_time": "2024-03-24T19:29:11.946Z"
   },
   {
    "duration": 88,
    "start_time": "2024-03-24T19:29:16.536Z"
   },
   {
    "duration": 85,
    "start_time": "2024-03-24T19:30:08.302Z"
   },
   {
    "duration": 94,
    "start_time": "2024-03-24T19:30:11.231Z"
   },
   {
    "duration": 91,
    "start_time": "2024-03-24T19:30:29.450Z"
   },
   {
    "duration": 2941,
    "start_time": "2024-03-24T19:49:04.248Z"
   },
   {
    "duration": 1118,
    "start_time": "2024-03-24T19:49:07.192Z"
   },
   {
    "duration": 948,
    "start_time": "2024-03-24T19:49:08.312Z"
   },
   {
    "duration": 18,
    "start_time": "2024-03-24T19:49:09.262Z"
   },
   {
    "duration": 30,
    "start_time": "2024-03-24T19:49:09.282Z"
   },
   {
    "duration": 6,
    "start_time": "2024-03-24T19:49:09.314Z"
   },
   {
    "duration": 388,
    "start_time": "2024-03-24T19:49:09.322Z"
   },
   {
    "duration": 167,
    "start_time": "2024-03-24T19:49:09.712Z"
   },
   {
    "duration": 29,
    "start_time": "2024-03-24T19:49:09.881Z"
   },
   {
    "duration": 3275,
    "start_time": "2024-03-24T19:49:09.912Z"
   },
   {
    "duration": 20,
    "start_time": "2024-03-24T19:49:13.189Z"
   },
   {
    "duration": 38,
    "start_time": "2024-03-24T19:49:13.211Z"
   },
   {
    "duration": 220,
    "start_time": "2024-03-24T19:49:13.266Z"
   },
   {
    "duration": 212,
    "start_time": "2024-03-24T19:49:13.487Z"
   },
   {
    "duration": 87,
    "start_time": "2024-03-24T19:49:13.701Z"
   },
   {
    "duration": 191,
    "start_time": "2024-03-24T19:49:13.789Z"
   },
   {
    "duration": 106,
    "start_time": "2024-03-24T19:49:13.981Z"
   },
   {
    "duration": 0,
    "start_time": "2024-03-24T19:49:14.089Z"
   },
   {
    "duration": 0,
    "start_time": "2024-03-24T19:49:14.091Z"
   },
   {
    "duration": 350,
    "start_time": "2024-03-24T19:49:48.794Z"
   },
   {
    "duration": 333,
    "start_time": "2024-03-24T19:49:56.729Z"
   },
   {
    "duration": 4,
    "start_time": "2024-03-24T19:51:18.736Z"
   },
   {
    "duration": 451,
    "start_time": "2024-03-24T19:53:13.006Z"
   },
   {
    "duration": 57,
    "start_time": "2024-03-24T19:54:06.914Z"
   },
   {
    "duration": 471,
    "start_time": "2024-03-24T19:55:13.495Z"
   },
   {
    "duration": 39,
    "start_time": "2024-03-24T19:56:20.941Z"
   },
   {
    "duration": 3,
    "start_time": "2024-03-24T19:57:13.689Z"
   },
   {
    "duration": 39,
    "start_time": "2024-03-24T19:57:14.349Z"
   },
   {
    "duration": 38,
    "start_time": "2024-03-24T19:57:29.320Z"
   },
   {
    "duration": 4,
    "start_time": "2024-03-24T19:58:16.846Z"
   },
   {
    "duration": 41,
    "start_time": "2024-03-24T19:58:17.743Z"
   },
   {
    "duration": 5,
    "start_time": "2024-03-24T19:59:25.845Z"
   },
   {
    "duration": 43,
    "start_time": "2024-03-24T19:59:27.535Z"
   },
   {
    "duration": 3,
    "start_time": "2024-03-24T20:00:52.467Z"
   },
   {
    "duration": 45,
    "start_time": "2024-03-24T20:00:54.383Z"
   },
   {
    "duration": 42,
    "start_time": "2024-03-24T20:02:29.016Z"
   },
   {
    "duration": 3071,
    "start_time": "2024-03-24T20:03:45.921Z"
   },
   {
    "duration": 3,
    "start_time": "2024-03-24T20:03:48.994Z"
   },
   {
    "duration": 927,
    "start_time": "2024-03-24T20:03:48.999Z"
   },
   {
    "duration": 16,
    "start_time": "2024-03-24T20:03:49.928Z"
   },
   {
    "duration": 31,
    "start_time": "2024-03-24T20:03:49.946Z"
   },
   {
    "duration": 4,
    "start_time": "2024-03-24T20:03:49.979Z"
   },
   {
    "duration": 351,
    "start_time": "2024-03-24T20:03:49.985Z"
   },
   {
    "duration": 49,
    "start_time": "2024-03-24T20:04:09.185Z"
   },
   {
    "duration": 382,
    "start_time": "2024-03-24T20:05:01.344Z"
   },
   {
    "duration": 493,
    "start_time": "2024-03-24T20:06:10.300Z"
   },
   {
    "duration": 524,
    "start_time": "2024-03-24T20:07:08.718Z"
   },
   {
    "duration": 370,
    "start_time": "2024-03-24T20:07:44.431Z"
   },
   {
    "duration": 404,
    "start_time": "2024-03-24T20:08:27.658Z"
   },
   {
    "duration": 361,
    "start_time": "2024-03-24T20:08:31.376Z"
   },
   {
    "duration": 131,
    "start_time": "2024-03-24T20:08:46.245Z"
   },
   {
    "duration": 935,
    "start_time": "2024-03-24T20:08:58.140Z"
   },
   {
    "duration": 156,
    "start_time": "2024-03-24T20:09:03.871Z"
   },
   {
    "duration": 393,
    "start_time": "2024-03-24T20:09:19.515Z"
   },
   {
    "duration": 156,
    "start_time": "2024-03-24T20:09:22.444Z"
   },
   {
    "duration": 961,
    "start_time": "2024-03-24T20:09:36.849Z"
   },
   {
    "duration": 436,
    "start_time": "2024-03-24T20:09:40.577Z"
   },
   {
    "duration": 456,
    "start_time": "2024-03-24T20:09:45.986Z"
   },
   {
    "duration": 432,
    "start_time": "2024-03-24T20:09:49.699Z"
   },
   {
    "duration": 80,
    "start_time": "2024-03-24T20:10:26.329Z"
   },
   {
    "duration": 341,
    "start_time": "2024-03-24T20:11:03.883Z"
   },
   {
    "duration": 147,
    "start_time": "2024-03-24T20:11:07.118Z"
   },
   {
    "duration": 28,
    "start_time": "2024-03-24T20:14:25.281Z"
   },
   {
    "duration": 1041,
    "start_time": "2024-03-24T20:15:13.916Z"
   },
   {
    "duration": 1011,
    "start_time": "2024-03-24T20:15:24.052Z"
   },
   {
    "duration": 988,
    "start_time": "2024-03-24T20:15:34.909Z"
   },
   {
    "duration": 33,
    "start_time": "2024-03-24T20:15:51.133Z"
   },
   {
    "duration": 2905,
    "start_time": "2024-03-24T20:16:05.634Z"
   },
   {
    "duration": 1225,
    "start_time": "2024-03-24T20:16:08.542Z"
   },
   {
    "duration": 949,
    "start_time": "2024-03-24T20:16:09.769Z"
   },
   {
    "duration": 23,
    "start_time": "2024-03-24T20:16:10.720Z"
   },
   {
    "duration": 40,
    "start_time": "2024-03-24T20:16:10.745Z"
   },
   {
    "duration": 16,
    "start_time": "2024-03-24T20:16:10.788Z"
   },
   {
    "duration": 45,
    "start_time": "2024-03-24T20:16:10.805Z"
   },
   {
    "duration": 349,
    "start_time": "2024-03-24T20:16:10.852Z"
   },
   {
    "duration": 386,
    "start_time": "2024-03-24T20:16:11.203Z"
   },
   {
    "duration": 33,
    "start_time": "2024-03-24T20:16:11.592Z"
   },
   {
    "duration": 121,
    "start_time": "2024-03-24T20:16:11.627Z"
   },
   {
    "duration": 39,
    "start_time": "2024-03-24T20:16:11.750Z"
   },
   {
    "duration": 3449,
    "start_time": "2024-03-24T20:16:11.790Z"
   },
   {
    "duration": 30,
    "start_time": "2024-03-24T20:16:15.241Z"
   },
   {
    "duration": 32,
    "start_time": "2024-03-24T20:16:15.273Z"
   },
   {
    "duration": 2,
    "start_time": "2024-03-24T20:16:15.307Z"
   },
   {
    "duration": 27,
    "start_time": "2024-03-24T20:16:15.311Z"
   },
   {
    "duration": 19,
    "start_time": "2024-03-24T20:16:25.886Z"
   },
   {
    "duration": 31,
    "start_time": "2024-03-24T20:16:34.058Z"
   },
   {
    "duration": 19,
    "start_time": "2024-03-24T20:17:14.660Z"
   },
   {
    "duration": 318,
    "start_time": "2024-03-24T20:17:23.878Z"
   },
   {
    "duration": 29,
    "start_time": "2024-03-24T20:17:44.878Z"
   },
   {
    "duration": 20,
    "start_time": "2024-03-24T20:19:00.056Z"
   },
   {
    "duration": 51,
    "start_time": "2024-03-24T20:22:16.126Z"
   },
   {
    "duration": 102,
    "start_time": "2024-03-24T20:22:23.837Z"
   },
   {
    "duration": 50,
    "start_time": "2024-03-24T20:22:35.487Z"
   },
   {
    "duration": 90,
    "start_time": "2024-03-24T20:22:37.632Z"
   },
   {
    "duration": 107,
    "start_time": "2024-03-24T20:24:15.578Z"
   },
   {
    "duration": 101,
    "start_time": "2024-03-24T20:24:24.965Z"
   },
   {
    "duration": 67,
    "start_time": "2024-03-24T20:25:28.297Z"
   },
   {
    "duration": 65,
    "start_time": "2024-03-24T20:25:33.719Z"
   },
   {
    "duration": 64,
    "start_time": "2024-03-24T20:25:46.955Z"
   },
   {
    "duration": 3,
    "start_time": "2024-03-24T20:26:13.689Z"
   },
   {
    "duration": 94,
    "start_time": "2024-03-24T20:26:20.872Z"
   },
   {
    "duration": 5,
    "start_time": "2024-03-24T20:26:45.046Z"
   },
   {
    "duration": 8,
    "start_time": "2024-03-24T20:26:45.411Z"
   },
   {
    "duration": 4,
    "start_time": "2024-03-24T20:27:11.017Z"
   },
   {
    "duration": 8,
    "start_time": "2024-03-24T20:27:14.968Z"
   },
   {
    "duration": 5,
    "start_time": "2024-03-24T20:27:29.632Z"
   },
   {
    "duration": 52,
    "start_time": "2024-03-24T20:29:03.508Z"
   },
   {
    "duration": 86,
    "start_time": "2024-03-24T20:29:04.530Z"
   },
   {
    "duration": 14,
    "start_time": "2024-03-24T20:29:19.264Z"
   },
   {
    "duration": 178,
    "start_time": "2024-03-24T20:33:41.778Z"
   },
   {
    "duration": 191,
    "start_time": "2024-03-24T20:33:51.353Z"
   },
   {
    "duration": 341,
    "start_time": "2024-03-24T20:34:01.109Z"
   },
   {
    "duration": 170,
    "start_time": "2024-03-24T20:34:08.466Z"
   },
   {
    "duration": 2866,
    "start_time": "2024-03-24T20:34:16.873Z"
   },
   {
    "duration": 1142,
    "start_time": "2024-03-24T20:34:19.742Z"
   },
   {
    "duration": 827,
    "start_time": "2024-03-24T20:34:20.886Z"
   },
   {
    "duration": 17,
    "start_time": "2024-03-24T20:34:21.715Z"
   },
   {
    "duration": 41,
    "start_time": "2024-03-24T20:34:21.733Z"
   },
   {
    "duration": 6,
    "start_time": "2024-03-24T20:34:21.776Z"
   },
   {
    "duration": 49,
    "start_time": "2024-03-24T20:34:21.784Z"
   },
   {
    "duration": 401,
    "start_time": "2024-03-24T20:34:21.836Z"
   },
   {
    "duration": 383,
    "start_time": "2024-03-24T20:34:22.239Z"
   },
   {
    "duration": 20,
    "start_time": "2024-03-24T20:34:22.624Z"
   },
   {
    "duration": 62,
    "start_time": "2024-03-24T20:34:22.645Z"
   },
   {
    "duration": 265,
    "start_time": "2024-03-24T20:34:22.708Z"
   },
   {
    "duration": 0,
    "start_time": "2024-03-24T20:34:22.975Z"
   },
   {
    "duration": 0,
    "start_time": "2024-03-24T20:34:22.976Z"
   },
   {
    "duration": 0,
    "start_time": "2024-03-24T20:34:22.977Z"
   },
   {
    "duration": 0,
    "start_time": "2024-03-24T20:34:22.978Z"
   },
   {
    "duration": 0,
    "start_time": "2024-03-24T20:34:22.979Z"
   },
   {
    "duration": 0,
    "start_time": "2024-03-24T20:34:22.980Z"
   },
   {
    "duration": 0,
    "start_time": "2024-03-24T20:34:22.981Z"
   },
   {
    "duration": 0,
    "start_time": "2024-03-24T20:34:22.982Z"
   },
   {
    "duration": 175,
    "start_time": "2024-03-24T20:37:33.276Z"
   },
   {
    "duration": 26,
    "start_time": "2024-03-24T20:39:04.982Z"
   },
   {
    "duration": 301,
    "start_time": "2024-03-24T20:39:12.816Z"
   },
   {
    "duration": 68,
    "start_time": "2024-03-24T20:40:52.051Z"
   },
   {
    "duration": 301,
    "start_time": "2024-03-24T20:40:55.748Z"
   },
   {
    "duration": 5,
    "start_time": "2024-03-24T20:42:39.858Z"
   },
   {
    "duration": 205,
    "start_time": "2024-03-24T20:42:44.364Z"
   },
   {
    "duration": 280,
    "start_time": "2024-03-24T20:43:58.545Z"
   },
   {
    "duration": 2916,
    "start_time": "2024-03-24T20:45:31.866Z"
   },
   {
    "duration": 1140,
    "start_time": "2024-03-24T20:45:34.784Z"
   },
   {
    "duration": 892,
    "start_time": "2024-03-24T20:45:35.926Z"
   },
   {
    "duration": 17,
    "start_time": "2024-03-24T20:45:36.820Z"
   },
   {
    "duration": 40,
    "start_time": "2024-03-24T20:45:36.839Z"
   },
   {
    "duration": 5,
    "start_time": "2024-03-24T20:45:36.881Z"
   },
   {
    "duration": 43,
    "start_time": "2024-03-24T20:45:36.888Z"
   },
   {
    "duration": 342,
    "start_time": "2024-03-24T20:45:36.932Z"
   },
   {
    "duration": 312,
    "start_time": "2024-03-24T20:45:37.276Z"
   },
   {
    "duration": 19,
    "start_time": "2024-03-24T20:45:37.590Z"
   },
   {
    "duration": 84,
    "start_time": "2024-03-24T20:45:37.611Z"
   },
   {
    "duration": 22,
    "start_time": "2024-03-24T20:45:37.697Z"
   },
   {
    "duration": 316,
    "start_time": "2024-03-24T20:45:37.721Z"
   },
   {
    "duration": 0,
    "start_time": "2024-03-24T20:45:38.039Z"
   },
   {
    "duration": 0,
    "start_time": "2024-03-24T20:45:38.040Z"
   },
   {
    "duration": 0,
    "start_time": "2024-03-24T20:45:38.041Z"
   },
   {
    "duration": 0,
    "start_time": "2024-03-24T20:45:38.042Z"
   },
   {
    "duration": 0,
    "start_time": "2024-03-24T20:45:38.043Z"
   },
   {
    "duration": 0,
    "start_time": "2024-03-24T20:45:38.045Z"
   },
   {
    "duration": 0,
    "start_time": "2024-03-24T20:45:38.046Z"
   },
   {
    "duration": 0,
    "start_time": "2024-03-24T20:45:38.065Z"
   },
   {
    "duration": 301,
    "start_time": "2024-03-24T20:45:42.606Z"
   },
   {
    "duration": 113,
    "start_time": "2024-03-24T20:46:53.921Z"
   },
   {
    "duration": 296,
    "start_time": "2024-03-24T20:49:52.789Z"
   },
   {
    "duration": 97,
    "start_time": "2024-03-24T20:49:59.848Z"
   },
   {
    "duration": 268,
    "start_time": "2024-03-24T20:51:59.742Z"
   },
   {
    "duration": 97,
    "start_time": "2024-03-24T20:52:02.844Z"
   },
   {
    "duration": 83,
    "start_time": "2024-03-24T20:52:29.581Z"
   },
   {
    "duration": 243,
    "start_time": "2024-03-24T20:52:43.136Z"
   },
   {
    "duration": 64,
    "start_time": "2024-03-24T20:53:02.504Z"
   },
   {
    "duration": 3,
    "start_time": "2024-03-24T20:53:06.233Z"
   },
   {
    "duration": 239,
    "start_time": "2024-03-24T20:53:41.063Z"
   },
   {
    "duration": 263,
    "start_time": "2024-03-24T20:54:09.629Z"
   },
   {
    "duration": 2770,
    "start_time": "2024-03-24T20:54:19.553Z"
   },
   {
    "duration": 1062,
    "start_time": "2024-03-24T20:54:22.325Z"
   },
   {
    "duration": 854,
    "start_time": "2024-03-24T20:54:23.389Z"
   },
   {
    "duration": 25,
    "start_time": "2024-03-24T20:54:24.246Z"
   },
   {
    "duration": 31,
    "start_time": "2024-03-24T20:54:24.272Z"
   },
   {
    "duration": 6,
    "start_time": "2024-03-24T20:54:24.305Z"
   },
   {
    "duration": 58,
    "start_time": "2024-03-24T20:54:24.313Z"
   },
   {
    "duration": 337,
    "start_time": "2024-03-24T20:54:24.372Z"
   },
   {
    "duration": 2,
    "start_time": "2024-03-24T20:54:24.711Z"
   },
   {
    "duration": 3,
    "start_time": "2024-03-24T20:54:24.717Z"
   },
   {
    "duration": 324,
    "start_time": "2024-03-24T20:54:24.722Z"
   },
   {
    "duration": 21,
    "start_time": "2024-03-24T20:54:25.047Z"
   },
   {
    "duration": 70,
    "start_time": "2024-03-24T20:54:25.070Z"
   },
   {
    "duration": 284,
    "start_time": "2024-03-24T20:54:25.141Z"
   },
   {
    "duration": 24,
    "start_time": "2024-03-24T20:54:25.427Z"
   },
   {
    "duration": 104,
    "start_time": "2024-03-24T20:54:25.453Z"
   },
   {
    "duration": 113,
    "start_time": "2024-03-24T20:54:25.565Z"
   },
   {
    "duration": 47,
    "start_time": "2024-03-24T20:54:25.680Z"
   },
   {
    "duration": 2944,
    "start_time": "2024-03-24T20:54:25.729Z"
   },
   {
    "duration": 22,
    "start_time": "2024-03-24T20:54:28.675Z"
   },
   {
    "duration": 30,
    "start_time": "2024-03-24T20:54:28.699Z"
   },
   {
    "duration": 3,
    "start_time": "2024-03-24T20:54:28.731Z"
   },
   {
    "duration": 4,
    "start_time": "2024-03-24T20:54:28.736Z"
   },
   {
    "duration": 536,
    "start_time": "2024-03-24T20:55:08.029Z"
   },
   {
    "duration": 87,
    "start_time": "2024-03-24T20:55:11.804Z"
   },
   {
    "duration": 92,
    "start_time": "2024-03-24T20:58:34.165Z"
   },
   {
    "duration": 16,
    "start_time": "2024-03-24T21:00:46.997Z"
   },
   {
    "duration": 111,
    "start_time": "2024-03-24T21:00:50.171Z"
   },
   {
    "duration": 8,
    "start_time": "2024-03-24T21:01:51.657Z"
   },
   {
    "duration": 14,
    "start_time": "2024-03-24T21:02:45.072Z"
   },
   {
    "duration": 107,
    "start_time": "2024-03-24T21:02:55.919Z"
   },
   {
    "duration": 13,
    "start_time": "2024-03-24T21:03:00.528Z"
   },
   {
    "duration": 8,
    "start_time": "2024-03-24T21:03:23.044Z"
   },
   {
    "duration": 6,
    "start_time": "2024-03-24T21:10:51.048Z"
   },
   {
    "duration": 6,
    "start_time": "2024-03-24T21:10:54.678Z"
   },
   {
    "duration": 7,
    "start_time": "2024-03-24T21:11:00.277Z"
   },
   {
    "duration": 7,
    "start_time": "2024-03-24T21:11:03.696Z"
   },
   {
    "duration": 170,
    "start_time": "2024-03-24T21:11:49.048Z"
   },
   {
    "duration": 180,
    "start_time": "2024-03-24T21:12:18.229Z"
   },
   {
    "duration": 222,
    "start_time": "2024-03-24T21:12:39.794Z"
   },
   {
    "duration": 18,
    "start_time": "2024-03-24T21:12:43.178Z"
   },
   {
    "duration": 15,
    "start_time": "2024-03-24T21:13:08.508Z"
   },
   {
    "duration": 26,
    "start_time": "2024-03-24T21:15:56.791Z"
   },
   {
    "duration": 8,
    "start_time": "2024-03-24T21:16:03.054Z"
   },
   {
    "duration": 23,
    "start_time": "2024-03-24T21:16:05.873Z"
   },
   {
    "duration": 25,
    "start_time": "2024-03-24T21:16:12.763Z"
   },
   {
    "duration": 3,
    "start_time": "2024-03-24T21:19:14.483Z"
   },
   {
    "duration": 29,
    "start_time": "2024-03-24T21:19:14.953Z"
   },
   {
    "duration": 51,
    "start_time": "2024-03-24T21:19:54.051Z"
   },
   {
    "duration": 50,
    "start_time": "2024-03-24T21:20:08.048Z"
   },
   {
    "duration": 985,
    "start_time": "2024-03-24T21:21:58.732Z"
   },
   {
    "duration": 0,
    "start_time": "2024-03-24T21:21:59.719Z"
   },
   {
    "duration": 2861,
    "start_time": "2024-03-24T21:22:11.642Z"
   },
   {
    "duration": 1150,
    "start_time": "2024-03-24T21:22:14.506Z"
   },
   {
    "duration": 912,
    "start_time": "2024-03-24T21:22:15.658Z"
   },
   {
    "duration": 15,
    "start_time": "2024-03-24T21:22:16.572Z"
   },
   {
    "duration": 40,
    "start_time": "2024-03-24T21:22:16.588Z"
   },
   {
    "duration": 17,
    "start_time": "2024-03-24T21:22:16.629Z"
   },
   {
    "duration": 42,
    "start_time": "2024-03-24T21:22:16.647Z"
   },
   {
    "duration": 111,
    "start_time": "2024-03-24T21:22:16.690Z"
   },
   {
    "duration": 94,
    "start_time": "2024-03-24T21:22:16.803Z"
   },
   {
    "duration": 334,
    "start_time": "2024-03-24T21:22:16.900Z"
   },
   {
    "duration": 4,
    "start_time": "2024-03-24T21:22:17.236Z"
   },
   {
    "duration": 6,
    "start_time": "2024-03-24T21:22:17.242Z"
   },
   {
    "duration": 313,
    "start_time": "2024-03-24T21:22:17.250Z"
   },
   {
    "duration": 20,
    "start_time": "2024-03-24T21:22:17.565Z"
   },
   {
    "duration": 61,
    "start_time": "2024-03-24T21:22:17.587Z"
   },
   {
    "duration": 548,
    "start_time": "2024-03-24T21:22:17.650Z"
   },
   {
    "duration": 21,
    "start_time": "2024-03-24T21:22:18.199Z"
   },
   {
    "duration": 96,
    "start_time": "2024-03-24T21:22:18.222Z"
   },
   {
    "duration": 5,
    "start_time": "2024-03-24T21:22:18.319Z"
   },
   {
    "duration": 7,
    "start_time": "2024-03-24T21:22:18.326Z"
   },
   {
    "duration": 189,
    "start_time": "2024-03-24T21:22:18.335Z"
   },
   {
    "duration": 228,
    "start_time": "2024-03-24T21:22:18.526Z"
   },
   {
    "duration": 3,
    "start_time": "2024-03-24T21:22:18.756Z"
   },
   {
    "duration": 18,
    "start_time": "2024-03-24T21:22:18.764Z"
   },
   {
    "duration": 78,
    "start_time": "2024-03-24T21:27:07.999Z"
   },
   {
    "duration": 82480,
    "start_time": "2024-03-24T21:29:31.232Z"
   },
   {
    "duration": 3000,
    "start_time": "2024-03-24T21:38:51.492Z"
   },
   {
    "duration": 1208,
    "start_time": "2024-03-24T21:38:54.494Z"
   },
   {
    "duration": 906,
    "start_time": "2024-03-24T21:38:55.704Z"
   },
   {
    "duration": 16,
    "start_time": "2024-03-24T21:38:56.612Z"
   },
   {
    "duration": 37,
    "start_time": "2024-03-24T21:38:56.629Z"
   },
   {
    "duration": 7,
    "start_time": "2024-03-24T21:38:56.670Z"
   },
   {
    "duration": 2,
    "start_time": "2024-03-24T21:38:56.679Z"
   },
   {
    "duration": 40,
    "start_time": "2024-03-24T21:38:56.682Z"
   },
   {
    "duration": 129,
    "start_time": "2024-03-24T21:38:56.723Z"
   },
   {
    "duration": 97,
    "start_time": "2024-03-24T21:38:56.854Z"
   },
   {
    "duration": 346,
    "start_time": "2024-03-24T21:38:56.952Z"
   },
   {
    "duration": 3,
    "start_time": "2024-03-24T21:38:57.300Z"
   },
   {
    "duration": 18,
    "start_time": "2024-03-24T21:38:57.304Z"
   },
   {
    "duration": 318,
    "start_time": "2024-03-24T21:38:57.324Z"
   },
   {
    "duration": 35,
    "start_time": "2024-03-24T21:38:57.644Z"
   },
   {
    "duration": 76,
    "start_time": "2024-03-24T21:38:57.681Z"
   },
   {
    "duration": 550,
    "start_time": "2024-03-24T21:38:57.759Z"
   },
   {
    "duration": 21,
    "start_time": "2024-03-24T21:38:58.310Z"
   },
   {
    "duration": 97,
    "start_time": "2024-03-24T21:38:58.333Z"
   },
   {
    "duration": 5,
    "start_time": "2024-03-24T21:38:58.432Z"
   },
   {
    "duration": 5,
    "start_time": "2024-03-24T21:38:58.439Z"
   },
   {
    "duration": 210,
    "start_time": "2024-03-24T21:38:58.445Z"
   },
   {
    "duration": 244,
    "start_time": "2024-03-24T21:38:58.656Z"
   },
   {
    "duration": 3,
    "start_time": "2024-03-24T21:38:58.901Z"
   },
   {
    "duration": 19,
    "start_time": "2024-03-24T21:38:58.905Z"
   },
   {
    "duration": 115,
    "start_time": "2024-03-24T21:38:58.926Z"
   },
   {
    "duration": 23,
    "start_time": "2024-03-24T21:39:31.072Z"
   },
   {
    "duration": 18,
    "start_time": "2024-03-24T21:42:16.477Z"
   },
   {
    "duration": 61,
    "start_time": "2024-03-24T21:47:35.053Z"
   },
   {
    "duration": 3041,
    "start_time": "2024-03-24T21:47:44.987Z"
   },
   {
    "duration": 1232,
    "start_time": "2024-03-24T21:47:48.031Z"
   },
   {
    "duration": 922,
    "start_time": "2024-03-24T21:47:49.265Z"
   },
   {
    "duration": 18,
    "start_time": "2024-03-24T21:47:50.189Z"
   },
   {
    "duration": 37,
    "start_time": "2024-03-24T21:47:50.209Z"
   },
   {
    "duration": 7,
    "start_time": "2024-03-24T21:47:50.248Z"
   },
   {
    "duration": 4,
    "start_time": "2024-03-24T21:47:50.257Z"
   },
   {
    "duration": 40,
    "start_time": "2024-03-24T21:47:50.266Z"
   },
   {
    "duration": 124,
    "start_time": "2024-03-24T21:47:50.308Z"
   },
   {
    "duration": 370,
    "start_time": "2024-03-24T21:47:50.436Z"
   },
   {
    "duration": 3,
    "start_time": "2024-03-24T21:47:50.807Z"
   },
   {
    "duration": 8,
    "start_time": "2024-03-24T21:47:50.811Z"
   },
   {
    "duration": 319,
    "start_time": "2024-03-24T21:47:50.821Z"
   },
   {
    "duration": 23,
    "start_time": "2024-03-24T21:47:51.143Z"
   },
   {
    "duration": 73,
    "start_time": "2024-03-24T21:47:51.169Z"
   },
   {
    "duration": 587,
    "start_time": "2024-03-24T21:47:51.244Z"
   },
   {
    "duration": 21,
    "start_time": "2024-03-24T21:47:51.833Z"
   },
   {
    "duration": 99,
    "start_time": "2024-03-24T21:47:51.856Z"
   },
   {
    "duration": 13,
    "start_time": "2024-03-24T21:47:51.956Z"
   },
   {
    "duration": 12,
    "start_time": "2024-03-24T21:47:51.971Z"
   },
   {
    "duration": 173,
    "start_time": "2024-03-24T21:47:51.985Z"
   },
   {
    "duration": 226,
    "start_time": "2024-03-24T21:47:52.159Z"
   },
   {
    "duration": 4,
    "start_time": "2024-03-24T21:47:52.386Z"
   },
   {
    "duration": 25,
    "start_time": "2024-03-24T21:47:52.392Z"
   },
   {
    "duration": 90,
    "start_time": "2024-03-24T21:47:52.419Z"
   },
   {
    "duration": 3,
    "start_time": "2024-03-24T21:47:52.510Z"
   },
   {
    "duration": 25,
    "start_time": "2024-03-24T21:47:52.515Z"
   },
   {
    "duration": 18,
    "start_time": "2024-03-24T21:47:52.543Z"
   },
   {
    "duration": 12,
    "start_time": "2024-03-24T21:47:52.563Z"
   },
   {
    "duration": 783,
    "start_time": "2024-03-24T21:47:52.576Z"
   },
   {
    "duration": 637,
    "start_time": "2024-03-24T21:50:38.114Z"
   },
   {
    "duration": 82,
    "start_time": "2024-03-24T21:54:31.126Z"
   },
   {
    "duration": 3,
    "start_time": "2024-03-24T21:54:31.836Z"
   },
   {
    "duration": 3,
    "start_time": "2024-03-24T21:54:32.199Z"
   },
   {
    "duration": 3,
    "start_time": "2024-03-24T21:54:32.521Z"
   },
   {
    "duration": 3,
    "start_time": "2024-03-24T21:54:32.911Z"
   },
   {
    "duration": 817,
    "start_time": "2024-03-24T21:54:33.593Z"
   },
   {
    "duration": 116,
    "start_time": "2024-03-24T21:54:40.229Z"
   },
   {
    "duration": 13,
    "start_time": "2024-03-24T22:01:32.932Z"
   },
   {
    "duration": 13,
    "start_time": "2024-03-24T22:03:21.021Z"
   },
   {
    "duration": 14,
    "start_time": "2024-03-24T22:03:35.681Z"
   },
   {
    "duration": 11,
    "start_time": "2024-03-24T22:03:39.721Z"
   },
   {
    "duration": 47,
    "start_time": "2024-03-24T22:03:54.775Z"
   },
   {
    "duration": 3,
    "start_time": "2024-03-24T22:04:08.216Z"
   },
   {
    "duration": 3,
    "start_time": "2024-03-24T22:04:09.782Z"
   },
   {
    "duration": 4,
    "start_time": "2024-03-24T22:13:45.736Z"
   },
   {
    "duration": 3,
    "start_time": "2024-03-24T22:13:46.621Z"
   },
   {
    "duration": 2747,
    "start_time": "2024-03-24T22:15:12.533Z"
   },
   {
    "duration": 3,
    "start_time": "2024-03-24T22:15:15.283Z"
   },
   {
    "duration": 1261,
    "start_time": "2024-03-24T22:15:15.287Z"
   },
   {
    "duration": 828,
    "start_time": "2024-03-24T22:15:16.549Z"
   },
   {
    "duration": 15,
    "start_time": "2024-03-24T22:15:17.379Z"
   },
   {
    "duration": 21,
    "start_time": "2024-03-24T22:15:17.396Z"
   },
   {
    "duration": 13,
    "start_time": "2024-03-24T22:15:17.418Z"
   },
   {
    "duration": 6,
    "start_time": "2024-03-24T22:15:17.433Z"
   },
   {
    "duration": 52,
    "start_time": "2024-03-24T22:15:17.440Z"
   },
   {
    "duration": 103,
    "start_time": "2024-03-24T22:15:17.494Z"
   },
   {
    "duration": 359,
    "start_time": "2024-03-24T22:15:17.598Z"
   },
   {
    "duration": 3,
    "start_time": "2024-03-24T22:15:17.958Z"
   },
   {
    "duration": 10,
    "start_time": "2024-03-24T22:15:17.963Z"
   },
   {
    "duration": 285,
    "start_time": "2024-03-24T22:15:17.974Z"
   },
   {
    "duration": 20,
    "start_time": "2024-03-24T22:15:18.260Z"
   },
   {
    "duration": 65,
    "start_time": "2024-03-24T22:15:18.282Z"
   },
   {
    "duration": 504,
    "start_time": "2024-03-24T22:15:18.348Z"
   },
   {
    "duration": 25,
    "start_time": "2024-03-24T22:15:18.854Z"
   },
   {
    "duration": 124,
    "start_time": "2024-03-24T22:15:18.880Z"
   },
   {
    "duration": 6,
    "start_time": "2024-03-24T22:15:19.005Z"
   },
   {
    "duration": 7,
    "start_time": "2024-03-24T22:15:19.013Z"
   },
   {
    "duration": 165,
    "start_time": "2024-03-24T22:15:19.022Z"
   },
   {
    "duration": 162,
    "start_time": "2024-03-24T22:15:19.188Z"
   },
   {
    "duration": 3,
    "start_time": "2024-03-24T22:15:19.351Z"
   },
   {
    "duration": 31,
    "start_time": "2024-03-24T22:15:19.365Z"
   },
   {
    "duration": 70,
    "start_time": "2024-03-24T22:15:19.398Z"
   },
   {
    "duration": 3,
    "start_time": "2024-03-24T22:15:19.469Z"
   },
   {
    "duration": 17,
    "start_time": "2024-03-24T22:15:19.475Z"
   },
   {
    "duration": 13,
    "start_time": "2024-03-24T22:15:19.493Z"
   },
   {
    "duration": 11,
    "start_time": "2024-03-24T22:15:19.508Z"
   },
   {
    "duration": 797,
    "start_time": "2024-03-24T22:15:19.521Z"
   },
   {
    "duration": 3,
    "start_time": "2024-03-24T22:15:20.320Z"
   },
   {
    "duration": 7,
    "start_time": "2024-03-24T22:15:20.324Z"
   },
   {
    "duration": 8,
    "start_time": "2024-03-24T22:15:20.332Z"
   },
   {
    "duration": 2829,
    "start_time": "2024-03-24T22:18:09.602Z"
   },
   {
    "duration": 2,
    "start_time": "2024-03-24T22:18:12.433Z"
   },
   {
    "duration": 1295,
    "start_time": "2024-03-24T22:18:12.437Z"
   },
   {
    "duration": 812,
    "start_time": "2024-03-24T22:18:13.734Z"
   },
   {
    "duration": 22,
    "start_time": "2024-03-24T22:18:14.548Z"
   },
   {
    "duration": 32,
    "start_time": "2024-03-24T22:18:14.571Z"
   },
   {
    "duration": 12,
    "start_time": "2024-03-24T22:18:14.605Z"
   },
   {
    "duration": 33,
    "start_time": "2024-03-24T22:18:14.619Z"
   },
   {
    "duration": 60,
    "start_time": "2024-03-24T22:18:14.654Z"
   },
   {
    "duration": 93,
    "start_time": "2024-03-24T22:18:14.716Z"
   },
   {
    "duration": 302,
    "start_time": "2024-03-24T22:18:14.811Z"
   },
   {
    "duration": 3,
    "start_time": "2024-03-24T22:18:15.115Z"
   },
   {
    "duration": 40,
    "start_time": "2024-03-24T22:18:15.119Z"
   },
   {
    "duration": 294,
    "start_time": "2024-03-24T22:18:15.161Z"
   },
   {
    "duration": 20,
    "start_time": "2024-03-24T22:18:15.456Z"
   },
   {
    "duration": 105,
    "start_time": "2024-03-24T22:18:15.477Z"
   },
   {
    "duration": 512,
    "start_time": "2024-03-24T22:18:15.584Z"
   },
   {
    "duration": 20,
    "start_time": "2024-03-24T22:18:16.097Z"
   },
   {
    "duration": 104,
    "start_time": "2024-03-24T22:18:16.118Z"
   },
   {
    "duration": 17,
    "start_time": "2024-03-24T22:18:16.223Z"
   },
   {
    "duration": 28,
    "start_time": "2024-03-24T22:18:16.241Z"
   },
   {
    "duration": 166,
    "start_time": "2024-03-24T22:18:16.271Z"
   },
   {
    "duration": 160,
    "start_time": "2024-03-24T22:18:16.438Z"
   },
   {
    "duration": 2,
    "start_time": "2024-03-24T22:18:16.600Z"
   },
   {
    "duration": 41,
    "start_time": "2024-03-24T22:18:16.604Z"
   },
   {
    "duration": 69,
    "start_time": "2024-03-24T22:18:16.646Z"
   },
   {
    "duration": 2,
    "start_time": "2024-03-24T22:18:16.717Z"
   },
   {
    "duration": 26,
    "start_time": "2024-03-24T22:18:16.720Z"
   },
   {
    "duration": 29,
    "start_time": "2024-03-24T22:18:16.747Z"
   },
   {
    "duration": 25,
    "start_time": "2024-03-24T22:18:16.778Z"
   },
   {
    "duration": 782,
    "start_time": "2024-03-24T22:18:16.805Z"
   },
   {
    "duration": 3,
    "start_time": "2024-03-24T22:18:17.589Z"
   },
   {
    "duration": 4,
    "start_time": "2024-03-24T22:18:17.593Z"
   },
   {
    "duration": 8,
    "start_time": "2024-03-24T22:18:17.599Z"
   },
   {
    "duration": 2879,
    "start_time": "2024-03-24T22:19:04.688Z"
   },
   {
    "duration": 3,
    "start_time": "2024-03-24T22:19:07.569Z"
   },
   {
    "duration": 1230,
    "start_time": "2024-03-24T22:19:07.574Z"
   },
   {
    "duration": 836,
    "start_time": "2024-03-24T22:19:08.806Z"
   },
   {
    "duration": 14,
    "start_time": "2024-03-24T22:19:09.644Z"
   },
   {
    "duration": 21,
    "start_time": "2024-03-24T22:19:09.665Z"
   },
   {
    "duration": 6,
    "start_time": "2024-03-24T22:19:09.687Z"
   },
   {
    "duration": 5,
    "start_time": "2024-03-24T22:19:09.695Z"
   },
   {
    "duration": 36,
    "start_time": "2024-03-24T22:19:09.702Z"
   },
   {
    "duration": 116,
    "start_time": "2024-03-24T22:19:09.739Z"
   },
   {
    "duration": 310,
    "start_time": "2024-03-24T22:19:09.865Z"
   },
   {
    "duration": 3,
    "start_time": "2024-03-24T22:19:10.176Z"
   },
   {
    "duration": 4,
    "start_time": "2024-03-24T22:19:10.180Z"
   },
   {
    "duration": 287,
    "start_time": "2024-03-24T22:19:10.187Z"
   },
   {
    "duration": 18,
    "start_time": "2024-03-24T22:19:10.475Z"
   },
   {
    "duration": 76,
    "start_time": "2024-03-24T22:19:10.494Z"
   },
   {
    "duration": 496,
    "start_time": "2024-03-24T22:19:10.571Z"
   },
   {
    "duration": 20,
    "start_time": "2024-03-24T22:19:11.068Z"
   },
   {
    "duration": 89,
    "start_time": "2024-03-24T22:19:11.090Z"
   },
   {
    "duration": 5,
    "start_time": "2024-03-24T22:19:11.180Z"
   },
   {
    "duration": 5,
    "start_time": "2024-03-24T22:19:11.186Z"
   },
   {
    "duration": 158,
    "start_time": "2024-03-24T22:19:11.192Z"
   },
   {
    "duration": 155,
    "start_time": "2024-03-24T22:19:11.351Z"
   },
   {
    "duration": 3,
    "start_time": "2024-03-24T22:19:11.507Z"
   },
   {
    "duration": 25,
    "start_time": "2024-03-24T22:19:11.511Z"
   },
   {
    "duration": 73,
    "start_time": "2024-03-24T22:19:11.538Z"
   },
   {
    "duration": 3,
    "start_time": "2024-03-24T22:19:11.612Z"
   },
   {
    "duration": 10,
    "start_time": "2024-03-24T22:19:11.616Z"
   },
   {
    "duration": 4,
    "start_time": "2024-03-24T22:19:11.627Z"
   },
   {
    "duration": 3,
    "start_time": "2024-03-24T22:19:11.633Z"
   },
   {
    "duration": 768,
    "start_time": "2024-03-24T22:19:11.637Z"
   },
   {
    "duration": 3,
    "start_time": "2024-03-24T22:19:12.407Z"
   },
   {
    "duration": 4,
    "start_time": "2024-03-24T22:19:12.412Z"
   },
   {
    "duration": 4,
    "start_time": "2024-03-24T22:19:12.417Z"
   },
   {
    "duration": 128,
    "start_time": "2024-03-24T22:23:40.758Z"
   },
   {
    "duration": 44,
    "start_time": "2024-03-24T22:27:26.497Z"
   },
   {
    "duration": 4,
    "start_time": "2024-03-24T22:28:43.049Z"
   },
   {
    "duration": 12,
    "start_time": "2024-03-24T22:31:19.325Z"
   },
   {
    "duration": 4,
    "start_time": "2024-03-24T22:31:28.995Z"
   },
   {
    "duration": 5,
    "start_time": "2024-03-24T22:32:26.672Z"
   },
   {
    "duration": 75,
    "start_time": "2024-03-24T22:33:06.048Z"
   },
   {
    "duration": 3,
    "start_time": "2024-03-24T22:33:10.065Z"
   },
   {
    "duration": 7434,
    "start_time": "2024-03-24T22:33:11.875Z"
   },
   {
    "duration": 2868,
    "start_time": "2024-03-24T22:33:46.830Z"
   },
   {
    "duration": 3,
    "start_time": "2024-03-24T22:33:49.700Z"
   },
   {
    "duration": 1266,
    "start_time": "2024-03-24T22:33:49.704Z"
   },
   {
    "duration": 862,
    "start_time": "2024-03-24T22:33:50.972Z"
   },
   {
    "duration": 30,
    "start_time": "2024-03-24T22:33:51.836Z"
   },
   {
    "duration": 31,
    "start_time": "2024-03-24T22:33:51.868Z"
   },
   {
    "duration": 8,
    "start_time": "2024-03-24T22:33:51.901Z"
   },
   {
    "duration": 6,
    "start_time": "2024-03-24T22:33:51.910Z"
   },
   {
    "duration": 48,
    "start_time": "2024-03-24T22:33:51.918Z"
   },
   {
    "duration": 111,
    "start_time": "2024-03-24T22:33:51.968Z"
   },
   {
    "duration": 336,
    "start_time": "2024-03-24T22:33:52.081Z"
   },
   {
    "duration": 3,
    "start_time": "2024-03-24T22:33:52.418Z"
   },
   {
    "duration": 19,
    "start_time": "2024-03-24T22:33:52.423Z"
   },
   {
    "duration": 324,
    "start_time": "2024-03-24T22:33:52.443Z"
   },
   {
    "duration": 20,
    "start_time": "2024-03-24T22:33:52.769Z"
   },
   {
    "duration": 79,
    "start_time": "2024-03-24T22:33:52.791Z"
   },
   {
    "duration": 597,
    "start_time": "2024-03-24T22:33:52.872Z"
   },
   {
    "duration": 22,
    "start_time": "2024-03-24T22:33:53.470Z"
   },
   {
    "duration": 93,
    "start_time": "2024-03-24T22:33:53.494Z"
   },
   {
    "duration": 7,
    "start_time": "2024-03-24T22:33:53.588Z"
   },
   {
    "duration": 13,
    "start_time": "2024-03-24T22:33:53.597Z"
   },
   {
    "duration": 164,
    "start_time": "2024-03-24T22:33:53.611Z"
   },
   {
    "duration": 170,
    "start_time": "2024-03-24T22:33:53.776Z"
   },
   {
    "duration": 3,
    "start_time": "2024-03-24T22:33:53.947Z"
   },
   {
    "duration": 28,
    "start_time": "2024-03-24T22:33:53.951Z"
   },
   {
    "duration": 70,
    "start_time": "2024-03-24T22:33:53.980Z"
   },
   {
    "duration": 3,
    "start_time": "2024-03-24T22:33:54.052Z"
   },
   {
    "duration": 2,
    "start_time": "2024-03-24T22:33:54.067Z"
   },
   {
    "duration": 12,
    "start_time": "2024-03-24T22:33:54.071Z"
   },
   {
    "duration": 6,
    "start_time": "2024-03-24T22:33:54.085Z"
   },
   {
    "duration": 784,
    "start_time": "2024-03-24T22:33:54.093Z"
   },
   {
    "duration": 3,
    "start_time": "2024-03-24T22:33:54.879Z"
   },
   {
    "duration": 5,
    "start_time": "2024-03-24T22:33:54.883Z"
   },
   {
    "duration": 18,
    "start_time": "2024-03-24T22:33:54.889Z"
   },
   {
    "duration": 7320,
    "start_time": "2024-03-24T22:33:54.909Z"
   },
   {
    "duration": 4,
    "start_time": "2024-03-24T22:34:02.231Z"
   },
   {
    "duration": 28,
    "start_time": "2024-03-24T22:34:02.237Z"
   },
   {
    "duration": 0,
    "start_time": "2024-03-24T22:34:02.267Z"
   },
   {
    "duration": 10,
    "start_time": "2024-03-24T22:35:06.250Z"
   },
   {
    "duration": 3,
    "start_time": "2024-03-24T22:35:37.747Z"
   },
   {
    "duration": 49128,
    "start_time": "2024-03-24T22:36:47.859Z"
   },
   {
    "duration": 167,
    "start_time": "2024-03-24T22:41:34.210Z"
   },
   {
    "duration": 59,
    "start_time": "2024-03-24T22:42:19.172Z"
   },
   {
    "duration": 10,
    "start_time": "2024-03-24T22:43:40.244Z"
   },
   {
    "duration": 4,
    "start_time": "2024-03-24T22:43:42.352Z"
   },
   {
    "duration": 3,
    "start_time": "2024-03-24T22:45:35.597Z"
   },
   {
    "duration": 9,
    "start_time": "2024-03-24T22:50:56.117Z"
   },
   {
    "duration": 6,
    "start_time": "2024-03-24T22:51:38.316Z"
   },
   {
    "duration": 6,
    "start_time": "2024-03-24T22:51:41.453Z"
   },
   {
    "duration": 4,
    "start_time": "2024-03-24T22:51:47.057Z"
   },
   {
    "duration": 6,
    "start_time": "2024-03-24T22:51:52.953Z"
   },
   {
    "duration": 3,
    "start_time": "2024-03-24T22:53:40.071Z"
   },
   {
    "duration": 3,
    "start_time": "2024-03-24T22:53:43.380Z"
   },
   {
    "duration": 3,
    "start_time": "2024-03-24T22:53:48.021Z"
   },
   {
    "duration": 3,
    "start_time": "2024-03-24T22:53:53.133Z"
   },
   {
    "duration": 2,
    "start_time": "2024-03-24T22:53:57.247Z"
   },
   {
    "duration": 3,
    "start_time": "2024-03-24T22:54:04.824Z"
   },
   {
    "duration": 4,
    "start_time": "2024-03-24T22:57:07.040Z"
   },
   {
    "duration": 59,
    "start_time": "2024-03-24T23:00:37.000Z"
   },
   {
    "duration": 77,
    "start_time": "2024-03-24T23:00:48.761Z"
   },
   {
    "duration": 5,
    "start_time": "2024-03-24T23:01:19.555Z"
   },
   {
    "duration": 1705,
    "start_time": "2024-03-24T23:01:25.187Z"
   },
   {
    "duration": 25969,
    "start_time": "2024-03-24T23:03:01.741Z"
   },
   {
    "duration": 2519,
    "start_time": "2024-03-24T23:05:39.250Z"
   },
   {
    "duration": 2268,
    "start_time": "2024-03-24T23:06:43.544Z"
   },
   {
    "duration": 36,
    "start_time": "2024-03-24T23:07:35.908Z"
   },
   {
    "duration": 32,
    "start_time": "2024-03-24T23:07:50.907Z"
   },
   {
    "duration": 6,
    "start_time": "2024-03-24T23:08:01.966Z"
   },
   {
    "duration": 2844,
    "start_time": "2024-03-24T23:25:33.118Z"
   },
   {
    "duration": 2,
    "start_time": "2024-03-24T23:25:35.964Z"
   },
   {
    "duration": 1282,
    "start_time": "2024-03-24T23:25:35.967Z"
   },
   {
    "duration": 822,
    "start_time": "2024-03-24T23:25:37.251Z"
   },
   {
    "duration": 17,
    "start_time": "2024-03-24T23:25:38.075Z"
   },
   {
    "duration": 26,
    "start_time": "2024-03-24T23:25:38.093Z"
   },
   {
    "duration": 5,
    "start_time": "2024-03-24T23:25:38.121Z"
   },
   {
    "duration": 3,
    "start_time": "2024-03-24T23:25:38.127Z"
   },
   {
    "duration": 58,
    "start_time": "2024-03-24T23:25:38.131Z"
   },
   {
    "duration": 108,
    "start_time": "2024-03-24T23:25:38.190Z"
   },
   {
    "duration": 326,
    "start_time": "2024-03-24T23:25:38.300Z"
   },
   {
    "duration": 3,
    "start_time": "2024-03-24T23:25:38.628Z"
   },
   {
    "duration": 6,
    "start_time": "2024-03-24T23:25:38.633Z"
   },
   {
    "duration": 293,
    "start_time": "2024-03-24T23:25:38.642Z"
   },
   {
    "duration": 31,
    "start_time": "2024-03-24T23:25:38.937Z"
   },
   {
    "duration": 71,
    "start_time": "2024-03-24T23:25:38.970Z"
   },
   {
    "duration": 557,
    "start_time": "2024-03-24T23:25:39.042Z"
   },
   {
    "duration": 19,
    "start_time": "2024-03-24T23:25:39.601Z"
   },
   {
    "duration": 89,
    "start_time": "2024-03-24T23:25:39.621Z"
   },
   {
    "duration": 5,
    "start_time": "2024-03-24T23:25:39.711Z"
   },
   {
    "duration": 5,
    "start_time": "2024-03-24T23:25:39.717Z"
   },
   {
    "duration": 163,
    "start_time": "2024-03-24T23:25:39.723Z"
   },
   {
    "duration": 159,
    "start_time": "2024-03-24T23:25:39.887Z"
   },
   {
    "duration": 3,
    "start_time": "2024-03-24T23:25:40.047Z"
   },
   {
    "duration": 28,
    "start_time": "2024-03-24T23:25:40.051Z"
   },
   {
    "duration": 65,
    "start_time": "2024-03-24T23:25:40.080Z"
   },
   {
    "duration": 3,
    "start_time": "2024-03-24T23:25:40.147Z"
   },
   {
    "duration": 14,
    "start_time": "2024-03-24T23:25:40.151Z"
   },
   {
    "duration": 19,
    "start_time": "2024-03-24T23:25:40.166Z"
   },
   {
    "duration": 3,
    "start_time": "2024-03-24T23:25:40.186Z"
   },
   {
    "duration": 734,
    "start_time": "2024-03-24T23:25:40.190Z"
   },
   {
    "duration": 2,
    "start_time": "2024-03-24T23:25:40.926Z"
   },
   {
    "duration": 11,
    "start_time": "2024-03-24T23:25:40.930Z"
   },
   {
    "duration": 6,
    "start_time": "2024-03-24T23:25:40.942Z"
   },
   {
    "duration": 53319,
    "start_time": "2024-03-24T23:25:40.949Z"
   },
   {
    "duration": 198,
    "start_time": "2024-03-24T23:26:34.270Z"
   },
   {
    "duration": 5,
    "start_time": "2024-03-24T23:26:34.470Z"
   },
   {
    "duration": 65,
    "start_time": "2024-03-24T23:26:34.476Z"
   },
   {
    "duration": 0,
    "start_time": "2024-03-24T23:26:34.543Z"
   },
   {
    "duration": 0,
    "start_time": "2024-03-24T23:26:34.544Z"
   },
   {
    "duration": 0,
    "start_time": "2024-03-24T23:26:34.546Z"
   },
   {
    "duration": 0,
    "start_time": "2024-03-24T23:26:34.547Z"
   },
   {
    "duration": 105392,
    "start_time": "2024-03-24T23:27:23.834Z"
   },
   {
    "duration": 3170,
    "start_time": "2024-03-24T23:29:33.850Z"
   },
   {
    "duration": 39,
    "start_time": "2024-03-24T23:29:41.016Z"
   },
   {
    "duration": 5,
    "start_time": "2024-03-24T23:29:42.344Z"
   },
   {
    "duration": 4,
    "start_time": "2024-03-24T23:29:48.602Z"
   },
   {
    "duration": 224,
    "start_time": "2024-03-24T23:29:50.275Z"
   },
   {
    "duration": 4,
    "start_time": "2024-03-24T23:30:20.299Z"
   },
   {
    "duration": 1104,
    "start_time": "2024-03-24T23:30:22.490Z"
   },
   {
    "duration": 94127,
    "start_time": "2024-03-24T23:31:38.653Z"
   },
   {
    "duration": 54,
    "start_time": "2024-03-24T23:33:30.021Z"
   },
   {
    "duration": 4,
    "start_time": "2024-03-24T23:34:19.859Z"
   },
   {
    "duration": 4,
    "start_time": "2024-03-24T23:35:49.990Z"
   },
   {
    "duration": 49778,
    "start_time": "2024-03-24T23:35:51.096Z"
   },
   {
    "duration": 2799,
    "start_time": "2024-03-24T23:41:25.003Z"
   },
   {
    "duration": 3,
    "start_time": "2024-03-24T23:41:27.804Z"
   },
   {
    "duration": 1272,
    "start_time": "2024-03-24T23:41:27.808Z"
   },
   {
    "duration": 827,
    "start_time": "2024-03-24T23:41:29.082Z"
   },
   {
    "duration": 17,
    "start_time": "2024-03-24T23:41:29.910Z"
   },
   {
    "duration": 22,
    "start_time": "2024-03-24T23:41:29.928Z"
   },
   {
    "duration": 16,
    "start_time": "2024-03-24T23:41:29.952Z"
   },
   {
    "duration": 3,
    "start_time": "2024-03-24T23:41:29.970Z"
   },
   {
    "duration": 39,
    "start_time": "2024-03-24T23:41:29.975Z"
   },
   {
    "duration": 115,
    "start_time": "2024-03-24T23:41:30.017Z"
   },
   {
    "duration": 313,
    "start_time": "2024-03-24T23:41:30.134Z"
   },
   {
    "duration": 3,
    "start_time": "2024-03-24T23:41:30.448Z"
   },
   {
    "duration": 27,
    "start_time": "2024-03-24T23:41:30.452Z"
   },
   {
    "duration": 325,
    "start_time": "2024-03-24T23:41:30.480Z"
   },
   {
    "duration": 18,
    "start_time": "2024-03-24T23:41:30.806Z"
   },
   {
    "duration": 165,
    "start_time": "2024-03-24T23:41:30.826Z"
   },
   {
    "duration": 601,
    "start_time": "2024-03-24T23:41:30.993Z"
   },
   {
    "duration": 20,
    "start_time": "2024-03-24T23:41:31.596Z"
   },
   {
    "duration": 95,
    "start_time": "2024-03-24T23:41:31.617Z"
   },
   {
    "duration": 25,
    "start_time": "2024-03-24T23:41:31.713Z"
   },
   {
    "duration": 12,
    "start_time": "2024-03-24T23:41:31.740Z"
   },
   {
    "duration": 157,
    "start_time": "2024-03-24T23:41:31.753Z"
   },
   {
    "duration": 166,
    "start_time": "2024-03-24T23:41:31.911Z"
   },
   {
    "duration": 3,
    "start_time": "2024-03-24T23:41:32.078Z"
   },
   {
    "duration": 39,
    "start_time": "2024-03-24T23:41:32.082Z"
   },
   {
    "duration": 69,
    "start_time": "2024-03-24T23:41:32.122Z"
   },
   {
    "duration": 3,
    "start_time": "2024-03-24T23:41:32.193Z"
   },
   {
    "duration": 13,
    "start_time": "2024-03-24T23:41:32.199Z"
   },
   {
    "duration": 10,
    "start_time": "2024-03-24T23:41:32.213Z"
   },
   {
    "duration": 4,
    "start_time": "2024-03-24T23:41:32.224Z"
   },
   {
    "duration": 784,
    "start_time": "2024-03-24T23:41:32.229Z"
   },
   {
    "duration": 3,
    "start_time": "2024-03-24T23:41:33.015Z"
   },
   {
    "duration": 5,
    "start_time": "2024-03-24T23:41:33.019Z"
   },
   {
    "duration": 7,
    "start_time": "2024-03-24T23:41:33.025Z"
   },
   {
    "duration": 4,
    "start_time": "2024-03-24T23:41:33.033Z"
   },
   {
    "duration": 63158,
    "start_time": "2024-03-24T23:41:33.038Z"
   },
   {
    "duration": 0,
    "start_time": "2024-03-24T23:42:36.197Z"
   },
   {
    "duration": 0,
    "start_time": "2024-03-24T23:42:36.198Z"
   },
   {
    "duration": 0,
    "start_time": "2024-03-24T23:42:36.199Z"
   },
   {
    "duration": 0,
    "start_time": "2024-03-24T23:42:36.200Z"
   },
   {
    "duration": 0,
    "start_time": "2024-03-24T23:42:36.201Z"
   },
   {
    "duration": 0,
    "start_time": "2024-03-24T23:42:36.202Z"
   },
   {
    "duration": 0,
    "start_time": "2024-03-24T23:42:36.203Z"
   },
   {
    "duration": 0,
    "start_time": "2024-03-24T23:42:36.204Z"
   },
   {
    "duration": 0,
    "start_time": "2024-03-24T23:42:36.205Z"
   },
   {
    "duration": 0,
    "start_time": "2024-03-24T23:42:36.206Z"
   },
   {
    "duration": 0,
    "start_time": "2024-03-24T23:42:36.207Z"
   },
   {
    "duration": 0,
    "start_time": "2024-03-24T23:42:36.208Z"
   },
   {
    "duration": 58155,
    "start_time": "2024-03-24T23:45:15.406Z"
   },
   {
    "duration": 45682,
    "start_time": "2024-03-24T23:46:21.474Z"
   },
   {
    "duration": 153,
    "start_time": "2024-03-24T23:47:07.158Z"
   },
   {
    "duration": 6,
    "start_time": "2024-03-24T23:47:07.312Z"
   },
   {
    "duration": 4,
    "start_time": "2024-03-24T23:47:07.319Z"
   },
   {
    "duration": 105378,
    "start_time": "2024-03-24T23:47:07.325Z"
   },
   {
    "duration": 3031,
    "start_time": "2024-03-24T23:48:52.705Z"
   },
   {
    "duration": 38,
    "start_time": "2024-03-24T23:48:55.738Z"
   },
   {
    "duration": 6,
    "start_time": "2024-03-24T23:48:55.777Z"
   },
   {
    "duration": 19,
    "start_time": "2024-03-24T23:48:55.784Z"
   },
   {
    "duration": 17,
    "start_time": "2024-03-24T23:48:55.804Z"
   },
   {
    "duration": 51952,
    "start_time": "2024-03-24T23:48:55.823Z"
   },
   {
    "duration": 200,
    "start_time": "2024-03-24T23:49:47.780Z"
   },
   {
    "duration": 87,
    "start_time": "2024-03-24T23:49:47.982Z"
   },
   {
    "duration": 2644,
    "start_time": "2024-03-25T00:05:19.241Z"
   },
   {
    "duration": 4,
    "start_time": "2024-03-25T00:05:21.888Z"
   },
   {
    "duration": 1234,
    "start_time": "2024-03-25T00:05:21.893Z"
   },
   {
    "duration": 819,
    "start_time": "2024-03-25T00:05:23.128Z"
   },
   {
    "duration": 21,
    "start_time": "2024-03-25T00:05:23.948Z"
   },
   {
    "duration": 37,
    "start_time": "2024-03-25T00:05:23.970Z"
   },
   {
    "duration": 10,
    "start_time": "2024-03-25T00:05:24.008Z"
   },
   {
    "duration": 10,
    "start_time": "2024-03-25T00:05:24.020Z"
   },
   {
    "duration": 37,
    "start_time": "2024-03-25T00:05:24.031Z"
   },
   {
    "duration": 110,
    "start_time": "2024-03-25T00:05:24.071Z"
   },
   {
    "duration": 315,
    "start_time": "2024-03-25T00:05:24.183Z"
   },
   {
    "duration": 3,
    "start_time": "2024-03-25T00:05:24.500Z"
   },
   {
    "duration": 5,
    "start_time": "2024-03-25T00:05:24.504Z"
   },
   {
    "duration": 325,
    "start_time": "2024-03-25T00:05:24.510Z"
   },
   {
    "duration": 19,
    "start_time": "2024-03-25T00:05:24.836Z"
   },
   {
    "duration": 68,
    "start_time": "2024-03-25T00:05:24.865Z"
   },
   {
    "duration": 592,
    "start_time": "2024-03-25T00:05:24.935Z"
   },
   {
    "duration": 20,
    "start_time": "2024-03-25T00:05:25.528Z"
   },
   {
    "duration": 90,
    "start_time": "2024-03-25T00:05:25.550Z"
   },
   {
    "duration": 5,
    "start_time": "2024-03-25T00:05:25.642Z"
   },
   {
    "duration": 17,
    "start_time": "2024-03-25T00:05:25.648Z"
   },
   {
    "duration": 145,
    "start_time": "2024-03-25T00:05:25.667Z"
   },
   {
    "duration": 159,
    "start_time": "2024-03-25T00:05:25.814Z"
   },
   {
    "duration": 3,
    "start_time": "2024-03-25T00:05:25.974Z"
   },
   {
    "duration": 23,
    "start_time": "2024-03-25T00:05:25.978Z"
   },
   {
    "duration": 80,
    "start_time": "2024-03-25T00:05:26.002Z"
   },
   {
    "duration": 2,
    "start_time": "2024-03-25T00:05:26.084Z"
   },
   {
    "duration": 3,
    "start_time": "2024-03-25T00:05:26.090Z"
   },
   {
    "duration": 4,
    "start_time": "2024-03-25T00:05:26.094Z"
   },
   {
    "duration": 7,
    "start_time": "2024-03-25T00:05:26.100Z"
   },
   {
    "duration": 767,
    "start_time": "2024-03-25T00:05:26.108Z"
   },
   {
    "duration": 3,
    "start_time": "2024-03-25T00:05:26.877Z"
   },
   {
    "duration": 5,
    "start_time": "2024-03-25T00:05:26.882Z"
   },
   {
    "duration": 4,
    "start_time": "2024-03-25T00:05:26.889Z"
   },
   {
    "duration": 3,
    "start_time": "2024-03-25T00:05:26.894Z"
   },
   {
    "duration": 60236,
    "start_time": "2024-03-25T00:05:26.898Z"
   },
   {
    "duration": 176,
    "start_time": "2024-03-25T00:06:27.136Z"
   },
   {
    "duration": 5,
    "start_time": "2024-03-25T00:06:27.313Z"
   },
   {
    "duration": 107205,
    "start_time": "2024-03-25T00:06:27.320Z"
   },
   {
    "duration": 2961,
    "start_time": "2024-03-25T00:08:14.526Z"
   },
   {
    "duration": 38,
    "start_time": "2024-03-25T00:08:17.488Z"
   },
   {
    "duration": 6,
    "start_time": "2024-03-25T00:08:17.527Z"
   },
   {
    "duration": 4,
    "start_time": "2024-03-25T00:08:17.534Z"
   },
   {
    "duration": 48027,
    "start_time": "2024-03-25T00:08:17.540Z"
   },
   {
    "duration": 102,
    "start_time": "2024-03-25T00:09:05.568Z"
   },
   {
    "duration": 5,
    "start_time": "2024-03-25T00:09:05.671Z"
   },
   {
    "duration": 18,
    "start_time": "2024-03-25T00:09:05.677Z"
   },
   {
    "duration": 6753,
    "start_time": "2024-03-25T18:23:25.364Z"
   },
   {
    "duration": 3,
    "start_time": "2024-03-25T18:23:32.120Z"
   },
   {
    "duration": 1593,
    "start_time": "2024-03-25T18:23:32.125Z"
   },
   {
    "duration": 1213,
    "start_time": "2024-03-25T18:23:33.720Z"
   },
   {
    "duration": 17,
    "start_time": "2024-03-25T18:23:34.936Z"
   },
   {
    "duration": 33,
    "start_time": "2024-03-25T18:23:34.954Z"
   },
   {
    "duration": 40,
    "start_time": "2024-03-25T18:23:34.988Z"
   },
   {
    "duration": 25,
    "start_time": "2024-03-25T18:23:35.029Z"
   },
   {
    "duration": 70,
    "start_time": "2024-03-25T18:23:35.055Z"
   },
   {
    "duration": 97,
    "start_time": "2024-03-25T18:23:35.127Z"
   },
   {
    "duration": 350,
    "start_time": "2024-03-25T18:23:35.226Z"
   },
   {
    "duration": 3,
    "start_time": "2024-03-25T18:23:35.577Z"
   },
   {
    "duration": 121,
    "start_time": "2024-03-25T18:23:35.582Z"
   },
   {
    "duration": 451,
    "start_time": "2024-03-25T18:23:35.707Z"
   },
   {
    "duration": 226,
    "start_time": "2024-03-25T18:23:36.159Z"
   },
   {
    "duration": 285,
    "start_time": "2024-03-25T18:23:36.386Z"
   },
   {
    "duration": 563,
    "start_time": "2024-03-25T18:23:36.673Z"
   },
   {
    "duration": 23,
    "start_time": "2024-03-25T18:23:37.238Z"
   },
   {
    "duration": 120,
    "start_time": "2024-03-25T18:23:37.263Z"
   },
   {
    "duration": 15,
    "start_time": "2024-03-25T18:23:37.384Z"
   },
   {
    "duration": 5,
    "start_time": "2024-03-25T18:23:37.401Z"
   },
   {
    "duration": 164,
    "start_time": "2024-03-25T18:23:37.408Z"
   },
   {
    "duration": 173,
    "start_time": "2024-03-25T18:23:37.574Z"
   },
   {
    "duration": 2,
    "start_time": "2024-03-25T18:23:37.749Z"
   },
   {
    "duration": 31,
    "start_time": "2024-03-25T18:23:37.753Z"
   },
   {
    "duration": 80,
    "start_time": "2024-03-25T18:23:37.786Z"
   },
   {
    "duration": 3,
    "start_time": "2024-03-25T18:23:37.867Z"
   },
   {
    "duration": 2971,
    "start_time": "2024-03-25T18:27:08.704Z"
   },
   {
    "duration": 4,
    "start_time": "2024-03-25T18:27:11.677Z"
   },
   {
    "duration": 1288,
    "start_time": "2024-03-25T18:27:11.683Z"
   },
   {
    "duration": 892,
    "start_time": "2024-03-25T18:27:12.973Z"
   },
   {
    "duration": 16,
    "start_time": "2024-03-25T18:27:13.867Z"
   },
   {
    "duration": 32,
    "start_time": "2024-03-25T18:27:13.886Z"
   },
   {
    "duration": 6,
    "start_time": "2024-03-25T18:27:13.920Z"
   },
   {
    "duration": 14,
    "start_time": "2024-03-25T18:27:13.928Z"
   },
   {
    "duration": 42,
    "start_time": "2024-03-25T18:27:13.944Z"
   },
   {
    "duration": 107,
    "start_time": "2024-03-25T18:27:13.988Z"
   },
   {
    "duration": 309,
    "start_time": "2024-03-25T18:27:14.097Z"
   },
   {
    "duration": 3,
    "start_time": "2024-03-25T18:27:14.408Z"
   },
   {
    "duration": 9,
    "start_time": "2024-03-25T18:27:14.412Z"
   },
   {
    "duration": 310,
    "start_time": "2024-03-25T18:27:14.422Z"
   },
   {
    "duration": 18,
    "start_time": "2024-03-25T18:27:14.734Z"
   },
   {
    "duration": 76,
    "start_time": "2024-03-25T18:27:14.754Z"
   },
   {
    "duration": 574,
    "start_time": "2024-03-25T18:27:14.831Z"
   },
   {
    "duration": 21,
    "start_time": "2024-03-25T18:27:15.407Z"
   },
   {
    "duration": 103,
    "start_time": "2024-03-25T18:27:15.430Z"
   },
   {
    "duration": 1539,
    "start_time": "2024-03-25T18:27:15.535Z"
   },
   {
    "duration": 0,
    "start_time": "2024-03-25T18:27:17.076Z"
   },
   {
    "duration": 0,
    "start_time": "2024-03-25T18:27:17.078Z"
   },
   {
    "duration": 0,
    "start_time": "2024-03-25T18:27:17.078Z"
   },
   {
    "duration": 0,
    "start_time": "2024-03-25T18:27:17.079Z"
   },
   {
    "duration": 0,
    "start_time": "2024-03-25T18:27:17.080Z"
   },
   {
    "duration": 0,
    "start_time": "2024-03-25T18:27:17.081Z"
   },
   {
    "duration": 0,
    "start_time": "2024-03-25T18:27:17.082Z"
   },
   {
    "duration": 0,
    "start_time": "2024-03-25T18:27:17.084Z"
   },
   {
    "duration": 0,
    "start_time": "2024-03-25T18:27:17.085Z"
   },
   {
    "duration": 0,
    "start_time": "2024-03-25T18:27:17.085Z"
   },
   {
    "duration": 0,
    "start_time": "2024-03-25T18:27:17.086Z"
   },
   {
    "duration": 0,
    "start_time": "2024-03-25T18:27:17.087Z"
   },
   {
    "duration": 0,
    "start_time": "2024-03-25T18:27:17.088Z"
   },
   {
    "duration": 0,
    "start_time": "2024-03-25T18:27:17.089Z"
   },
   {
    "duration": 0,
    "start_time": "2024-03-25T18:27:17.090Z"
   },
   {
    "duration": 0,
    "start_time": "2024-03-25T18:27:17.091Z"
   },
   {
    "duration": 0,
    "start_time": "2024-03-25T18:27:17.091Z"
   },
   {
    "duration": 0,
    "start_time": "2024-03-25T18:27:17.093Z"
   },
   {
    "duration": 0,
    "start_time": "2024-03-25T18:27:17.093Z"
   },
   {
    "duration": 0,
    "start_time": "2024-03-25T18:27:17.095Z"
   },
   {
    "duration": 0,
    "start_time": "2024-03-25T18:27:17.096Z"
   },
   {
    "duration": 0,
    "start_time": "2024-03-25T18:27:17.097Z"
   },
   {
    "duration": 0,
    "start_time": "2024-03-25T18:27:17.098Z"
   },
   {
    "duration": 0,
    "start_time": "2024-03-25T18:27:17.098Z"
   },
   {
    "duration": 0,
    "start_time": "2024-03-25T18:27:17.099Z"
   },
   {
    "duration": 0,
    "start_time": "2024-03-25T18:27:17.100Z"
   },
   {
    "duration": 0,
    "start_time": "2024-03-25T18:27:17.101Z"
   },
   {
    "duration": 0,
    "start_time": "2024-03-25T18:27:17.102Z"
   },
   {
    "duration": 2,
    "start_time": "2024-03-25T18:28:52.278Z"
   },
   {
    "duration": 2937,
    "start_time": "2024-03-25T18:29:07.731Z"
   },
   {
    "duration": 3,
    "start_time": "2024-03-25T18:29:10.671Z"
   },
   {
    "duration": 1389,
    "start_time": "2024-03-25T18:29:10.675Z"
   },
   {
    "duration": 934,
    "start_time": "2024-03-25T18:29:12.066Z"
   },
   {
    "duration": 16,
    "start_time": "2024-03-25T18:29:13.003Z"
   },
   {
    "duration": 50,
    "start_time": "2024-03-25T18:29:13.020Z"
   },
   {
    "duration": 30,
    "start_time": "2024-03-25T18:29:13.071Z"
   },
   {
    "duration": 31,
    "start_time": "2024-03-25T18:29:13.102Z"
   },
   {
    "duration": 71,
    "start_time": "2024-03-25T18:29:13.135Z"
   },
   {
    "duration": 125,
    "start_time": "2024-03-25T18:29:13.207Z"
   },
   {
    "duration": 363,
    "start_time": "2024-03-25T18:29:13.333Z"
   },
   {
    "duration": 3,
    "start_time": "2024-03-25T18:29:13.698Z"
   },
   {
    "duration": 24,
    "start_time": "2024-03-25T18:29:13.703Z"
   },
   {
    "duration": 342,
    "start_time": "2024-03-25T18:29:13.731Z"
   },
   {
    "duration": 21,
    "start_time": "2024-03-25T18:29:14.075Z"
   },
   {
    "duration": 88,
    "start_time": "2024-03-25T18:29:14.098Z"
   },
   {
    "duration": 554,
    "start_time": "2024-03-25T18:29:14.188Z"
   },
   {
    "duration": 23,
    "start_time": "2024-03-25T18:29:14.744Z"
   },
   {
    "duration": 122,
    "start_time": "2024-03-25T18:29:14.769Z"
   },
   {
    "duration": 28,
    "start_time": "2024-03-25T18:29:14.894Z"
   },
   {
    "duration": 28,
    "start_time": "2024-03-25T18:29:14.924Z"
   },
   {
    "duration": 162,
    "start_time": "2024-03-25T18:29:14.953Z"
   },
   {
    "duration": 162,
    "start_time": "2024-03-25T18:29:15.117Z"
   },
   {
    "duration": 3,
    "start_time": "2024-03-25T18:29:15.281Z"
   },
   {
    "duration": 87,
    "start_time": "2024-03-25T18:29:15.293Z"
   },
   {
    "duration": 84,
    "start_time": "2024-03-25T18:29:15.381Z"
   },
   {
    "duration": 3,
    "start_time": "2024-03-25T18:29:15.466Z"
   },
   {
    "duration": 20,
    "start_time": "2024-03-25T18:29:15.471Z"
   },
   {
    "duration": 41,
    "start_time": "2024-03-25T18:29:15.493Z"
   },
   {
    "duration": 29,
    "start_time": "2024-03-25T18:29:15.536Z"
   },
   {
    "duration": 22,
    "start_time": "2024-03-25T18:29:15.566Z"
   },
   {
    "duration": 1613,
    "start_time": "2024-03-25T18:29:15.589Z"
   },
   {
    "duration": 0,
    "start_time": "2024-03-25T18:29:17.204Z"
   },
   {
    "duration": 0,
    "start_time": "2024-03-25T18:29:17.205Z"
   },
   {
    "duration": 0,
    "start_time": "2024-03-25T18:29:17.207Z"
   },
   {
    "duration": 0,
    "start_time": "2024-03-25T18:29:17.208Z"
   },
   {
    "duration": 0,
    "start_time": "2024-03-25T18:29:17.209Z"
   },
   {
    "duration": 0,
    "start_time": "2024-03-25T18:29:17.210Z"
   },
   {
    "duration": 1,
    "start_time": "2024-03-25T18:29:17.211Z"
   },
   {
    "duration": 0,
    "start_time": "2024-03-25T18:29:17.213Z"
   },
   {
    "duration": 0,
    "start_time": "2024-03-25T18:29:17.214Z"
   },
   {
    "duration": 0,
    "start_time": "2024-03-25T18:29:17.215Z"
   },
   {
    "duration": 0,
    "start_time": "2024-03-25T18:29:17.216Z"
   },
   {
    "duration": 0,
    "start_time": "2024-03-25T18:29:17.217Z"
   },
   {
    "duration": 0,
    "start_time": "2024-03-25T18:29:17.218Z"
   },
   {
    "duration": 0,
    "start_time": "2024-03-25T18:29:17.219Z"
   },
   {
    "duration": 0,
    "start_time": "2024-03-25T18:29:17.221Z"
   },
   {
    "duration": 0,
    "start_time": "2024-03-25T18:29:17.222Z"
   },
   {
    "duration": 17,
    "start_time": "2024-03-25T18:43:34.239Z"
   },
   {
    "duration": 3041,
    "start_time": "2024-03-25T18:44:08.804Z"
   },
   {
    "duration": 2,
    "start_time": "2024-03-25T18:44:11.848Z"
   },
   {
    "duration": 1340,
    "start_time": "2024-03-25T18:44:11.851Z"
   },
   {
    "duration": 913,
    "start_time": "2024-03-25T18:44:13.194Z"
   },
   {
    "duration": 15,
    "start_time": "2024-03-25T18:44:14.110Z"
   },
   {
    "duration": 26,
    "start_time": "2024-03-25T18:44:14.127Z"
   },
   {
    "duration": 5,
    "start_time": "2024-03-25T18:44:14.155Z"
   },
   {
    "duration": 4,
    "start_time": "2024-03-25T18:44:14.161Z"
   },
   {
    "duration": 54,
    "start_time": "2024-03-25T18:44:14.167Z"
   },
   {
    "duration": 104,
    "start_time": "2024-03-25T18:44:14.223Z"
   },
   {
    "duration": 331,
    "start_time": "2024-03-25T18:44:14.328Z"
   },
   {
    "duration": 3,
    "start_time": "2024-03-25T18:44:14.660Z"
   },
   {
    "duration": 14,
    "start_time": "2024-03-25T18:44:14.664Z"
   },
   {
    "duration": 377,
    "start_time": "2024-03-25T18:44:14.681Z"
   },
   {
    "duration": 19,
    "start_time": "2024-03-25T18:44:15.059Z"
   },
   {
    "duration": 137,
    "start_time": "2024-03-25T18:44:15.080Z"
   },
   {
    "duration": 583,
    "start_time": "2024-03-25T18:44:15.219Z"
   },
   {
    "duration": 21,
    "start_time": "2024-03-25T18:44:15.803Z"
   },
   {
    "duration": 123,
    "start_time": "2024-03-25T18:44:15.826Z"
   },
   {
    "duration": 24,
    "start_time": "2024-03-25T18:44:15.951Z"
   },
   {
    "duration": 33,
    "start_time": "2024-03-25T18:44:15.977Z"
   },
   {
    "duration": 165,
    "start_time": "2024-03-25T18:44:16.012Z"
   },
   {
    "duration": 157,
    "start_time": "2024-03-25T18:44:16.179Z"
   },
   {
    "duration": 2,
    "start_time": "2024-03-25T18:44:16.338Z"
   },
   {
    "duration": 56,
    "start_time": "2024-03-25T18:44:16.342Z"
   },
   {
    "duration": 85,
    "start_time": "2024-03-25T18:44:16.400Z"
   },
   {
    "duration": 3,
    "start_time": "2024-03-25T18:44:16.486Z"
   },
   {
    "duration": 60,
    "start_time": "2024-03-25T18:44:16.490Z"
   },
   {
    "duration": 84,
    "start_time": "2024-03-25T18:44:16.552Z"
   },
   {
    "duration": 28,
    "start_time": "2024-03-25T18:44:16.637Z"
   },
   {
    "duration": 37,
    "start_time": "2024-03-25T18:44:16.667Z"
   },
   {
    "duration": 770,
    "start_time": "2024-03-25T18:44:16.706Z"
   },
   {
    "duration": 2,
    "start_time": "2024-03-25T18:44:17.478Z"
   },
   {
    "duration": 23,
    "start_time": "2024-03-25T18:44:17.482Z"
   },
   {
    "duration": 35,
    "start_time": "2024-03-25T18:44:17.507Z"
   },
   {
    "duration": 36,
    "start_time": "2024-03-25T18:44:17.544Z"
   },
   {
    "duration": 38297,
    "start_time": "2024-03-25T18:44:17.582Z"
   },
   {
    "duration": 145,
    "start_time": "2024-03-25T18:44:55.880Z"
   },
   {
    "duration": 119,
    "start_time": "2024-03-25T18:44:56.026Z"
   },
   {
    "duration": 0,
    "start_time": "2024-03-25T18:44:56.146Z"
   },
   {
    "duration": 0,
    "start_time": "2024-03-25T18:44:56.147Z"
   },
   {
    "duration": 0,
    "start_time": "2024-03-25T18:44:56.148Z"
   },
   {
    "duration": 0,
    "start_time": "2024-03-25T18:44:56.149Z"
   },
   {
    "duration": 0,
    "start_time": "2024-03-25T18:44:56.151Z"
   },
   {
    "duration": 0,
    "start_time": "2024-03-25T18:44:56.151Z"
   },
   {
    "duration": 0,
    "start_time": "2024-03-25T18:44:56.152Z"
   },
   {
    "duration": 0,
    "start_time": "2024-03-25T18:44:56.154Z"
   },
   {
    "duration": 1,
    "start_time": "2024-03-25T18:44:56.154Z"
   },
   {
    "duration": 323,
    "start_time": "2024-03-25T18:45:41.407Z"
   },
   {
    "duration": 246,
    "start_time": "2024-03-25T18:45:52.675Z"
   },
   {
    "duration": 391,
    "start_time": "2024-03-25T18:45:57.287Z"
   },
   {
    "duration": 254,
    "start_time": "2024-03-25T18:46:00.192Z"
   },
   {
    "duration": 3,
    "start_time": "2024-03-25T18:51:31.817Z"
   },
   {
    "duration": 4,
    "start_time": "2024-03-25T18:52:14.402Z"
   },
   {
    "duration": 3,
    "start_time": "2024-03-25T18:52:26.458Z"
   },
   {
    "duration": 13,
    "start_time": "2024-03-25T18:53:01.318Z"
   },
   {
    "duration": 5,
    "start_time": "2024-03-25T18:53:33.288Z"
   },
   {
    "duration": 4,
    "start_time": "2024-03-25T18:53:33.627Z"
   },
   {
    "duration": 104,
    "start_time": "2024-03-25T18:53:34.065Z"
   },
   {
    "duration": 47,
    "start_time": "2024-03-25T18:54:42.614Z"
   },
   {
    "duration": 2992,
    "start_time": "2024-03-25T18:54:56.215Z"
   },
   {
    "duration": 3,
    "start_time": "2024-03-25T18:54:59.209Z"
   },
   {
    "duration": 10,
    "start_time": "2024-03-25T18:54:59.214Z"
   },
   {
    "duration": 836,
    "start_time": "2024-03-25T18:54:59.225Z"
   },
   {
    "duration": 14,
    "start_time": "2024-03-25T18:55:00.063Z"
   },
   {
    "duration": 64,
    "start_time": "2024-03-25T18:55:00.078Z"
   },
   {
    "duration": 51,
    "start_time": "2024-03-25T18:55:00.144Z"
   },
   {
    "duration": 258,
    "start_time": "2024-03-25T18:55:00.197Z"
   },
   {
    "duration": 415,
    "start_time": "2024-03-25T18:55:00.457Z"
   },
   {
    "duration": 151,
    "start_time": "2024-03-25T18:55:00.874Z"
   },
   {
    "duration": 306,
    "start_time": "2024-03-25T18:55:01.026Z"
   },
   {
    "duration": 3,
    "start_time": "2024-03-25T18:55:01.334Z"
   },
   {
    "duration": 108,
    "start_time": "2024-03-25T18:55:01.339Z"
   },
   {
    "duration": 493,
    "start_time": "2024-03-25T18:55:01.450Z"
   },
   {
    "duration": 19,
    "start_time": "2024-03-25T18:55:01.945Z"
   },
   {
    "duration": 88,
    "start_time": "2024-03-25T18:55:01.966Z"
   },
   {
    "duration": 514,
    "start_time": "2024-03-25T18:55:02.056Z"
   },
   {
    "duration": 26,
    "start_time": "2024-03-25T18:55:02.572Z"
   },
   {
    "duration": 179,
    "start_time": "2024-03-25T18:55:02.600Z"
   },
   {
    "duration": 160,
    "start_time": "2024-03-25T18:55:02.781Z"
   },
   {
    "duration": 36,
    "start_time": "2024-03-25T18:55:02.943Z"
   },
   {
    "duration": 167,
    "start_time": "2024-03-25T18:55:02.981Z"
   },
   {
    "duration": 154,
    "start_time": "2024-03-25T18:55:03.150Z"
   },
   {
    "duration": 239,
    "start_time": "2024-03-25T18:59:05.937Z"
   },
   {
    "duration": 247,
    "start_time": "2024-03-25T18:59:13.919Z"
   },
   {
    "duration": 4268,
    "start_time": "2024-03-25T18:59:59.483Z"
   },
   {
    "duration": 403,
    "start_time": "2024-03-25T19:00:12.345Z"
   },
   {
    "duration": 22,
    "start_time": "2024-03-25T19:00:59.807Z"
   },
   {
    "duration": 260,
    "start_time": "2024-03-25T19:01:00.234Z"
   },
   {
    "duration": 21,
    "start_time": "2024-03-25T19:02:10.954Z"
   },
   {
    "duration": 232,
    "start_time": "2024-03-25T19:02:11.975Z"
   },
   {
    "duration": 22,
    "start_time": "2024-03-25T19:02:26.915Z"
   },
   {
    "duration": 253,
    "start_time": "2024-03-25T19:02:28.037Z"
   },
   {
    "duration": 21,
    "start_time": "2024-03-25T19:04:10.574Z"
   },
   {
    "duration": 248,
    "start_time": "2024-03-25T19:04:11.239Z"
   },
   {
    "duration": 246,
    "start_time": "2024-03-25T19:04:23.878Z"
   },
   {
    "duration": 2,
    "start_time": "2024-03-25T19:05:16.017Z"
   },
   {
    "duration": 248,
    "start_time": "2024-03-25T19:05:53.699Z"
   },
   {
    "duration": 22,
    "start_time": "2024-03-25T19:07:14.915Z"
   },
   {
    "duration": 229,
    "start_time": "2024-03-25T19:07:16.633Z"
   },
   {
    "duration": 20,
    "start_time": "2024-03-25T19:11:34.662Z"
   },
   {
    "duration": 245,
    "start_time": "2024-03-25T19:11:35.794Z"
   },
   {
    "duration": 21,
    "start_time": "2024-03-25T19:11:39.903Z"
   },
   {
    "duration": 248,
    "start_time": "2024-03-25T19:11:41.110Z"
   },
   {
    "duration": 21,
    "start_time": "2024-03-25T19:11:47.764Z"
   },
   {
    "duration": 239,
    "start_time": "2024-03-25T19:11:48.125Z"
   },
   {
    "duration": 21,
    "start_time": "2024-03-25T19:11:51.335Z"
   },
   {
    "duration": 251,
    "start_time": "2024-03-25T19:11:51.588Z"
   },
   {
    "duration": 21,
    "start_time": "2024-03-25T19:13:03.056Z"
   },
   {
    "duration": 236,
    "start_time": "2024-03-25T19:13:03.216Z"
   },
   {
    "duration": 12,
    "start_time": "2024-03-25T19:13:15.673Z"
   },
   {
    "duration": 145,
    "start_time": "2024-03-25T19:13:16.029Z"
   },
   {
    "duration": 6,
    "start_time": "2024-03-25T19:13:25.181Z"
   },
   {
    "duration": 128,
    "start_time": "2024-03-25T19:13:25.475Z"
   },
   {
    "duration": 2895,
    "start_time": "2024-03-25T19:13:34.239Z"
   },
   {
    "duration": 3,
    "start_time": "2024-03-25T19:13:37.137Z"
   },
   {
    "duration": 14,
    "start_time": "2024-03-25T19:13:37.141Z"
   },
   {
    "duration": 823,
    "start_time": "2024-03-25T19:13:37.157Z"
   },
   {
    "duration": 14,
    "start_time": "2024-03-25T19:13:37.982Z"
   },
   {
    "duration": 22,
    "start_time": "2024-03-25T19:13:37.997Z"
   },
   {
    "duration": 16,
    "start_time": "2024-03-25T19:13:38.020Z"
   },
   {
    "duration": 29,
    "start_time": "2024-03-25T19:13:38.037Z"
   },
   {
    "duration": 66,
    "start_time": "2024-03-25T19:13:38.067Z"
   },
   {
    "duration": 98,
    "start_time": "2024-03-25T19:13:38.134Z"
   },
   {
    "duration": 305,
    "start_time": "2024-03-25T19:13:38.233Z"
   },
   {
    "duration": 3,
    "start_time": "2024-03-25T19:13:38.539Z"
   },
   {
    "duration": 22,
    "start_time": "2024-03-25T19:13:38.543Z"
   },
   {
    "duration": 311,
    "start_time": "2024-03-25T19:13:38.568Z"
   },
   {
    "duration": 18,
    "start_time": "2024-03-25T19:13:38.881Z"
   },
   {
    "duration": 102,
    "start_time": "2024-03-25T19:13:38.901Z"
   },
   {
    "duration": 528,
    "start_time": "2024-03-25T19:13:39.005Z"
   },
   {
    "duration": 21,
    "start_time": "2024-03-25T19:13:39.535Z"
   },
   {
    "duration": 104,
    "start_time": "2024-03-25T19:13:39.557Z"
   },
   {
    "duration": 10,
    "start_time": "2024-03-25T19:13:39.663Z"
   },
   {
    "duration": 18,
    "start_time": "2024-03-25T19:13:39.674Z"
   },
   {
    "duration": 163,
    "start_time": "2024-03-25T19:13:39.694Z"
   },
   {
    "duration": 159,
    "start_time": "2024-03-25T19:13:39.859Z"
   },
   {
    "duration": 47,
    "start_time": "2024-03-25T19:13:40.019Z"
   },
   {
    "duration": 2,
    "start_time": "2024-03-25T19:13:40.068Z"
   },
   {
    "duration": 84,
    "start_time": "2024-03-25T19:13:40.071Z"
   },
   {
    "duration": 248,
    "start_time": "2024-03-25T19:13:40.157Z"
   },
   {
    "duration": 20,
    "start_time": "2024-03-25T19:13:40.406Z"
   },
   {
    "duration": 221,
    "start_time": "2024-03-25T19:13:40.427Z"
   },
   {
    "duration": 20,
    "start_time": "2024-03-25T19:14:09.953Z"
   },
   {
    "duration": 227,
    "start_time": "2024-03-25T19:14:10.191Z"
   },
   {
    "duration": 2970,
    "start_time": "2024-03-25T19:14:17.112Z"
   },
   {
    "duration": 3,
    "start_time": "2024-03-25T19:14:20.085Z"
   },
   {
    "duration": 23,
    "start_time": "2024-03-25T19:14:20.090Z"
   },
   {
    "duration": 816,
    "start_time": "2024-03-25T19:14:20.115Z"
   },
   {
    "duration": 14,
    "start_time": "2024-03-25T19:14:20.933Z"
   },
   {
    "duration": 40,
    "start_time": "2024-03-25T19:14:20.948Z"
   },
   {
    "duration": 4,
    "start_time": "2024-03-25T19:14:20.990Z"
   },
   {
    "duration": 24,
    "start_time": "2024-03-25T19:14:20.995Z"
   },
   {
    "duration": 19,
    "start_time": "2024-03-25T19:14:21.021Z"
   },
   {
    "duration": 98,
    "start_time": "2024-03-25T19:14:21.042Z"
   },
   {
    "duration": 310,
    "start_time": "2024-03-25T19:14:21.142Z"
   },
   {
    "duration": 4,
    "start_time": "2024-03-25T19:14:21.453Z"
   },
   {
    "duration": 26,
    "start_time": "2024-03-25T19:14:21.458Z"
   },
   {
    "duration": 298,
    "start_time": "2024-03-25T19:14:21.487Z"
   },
   {
    "duration": 19,
    "start_time": "2024-03-25T19:14:21.787Z"
   },
   {
    "duration": 66,
    "start_time": "2024-03-25T19:14:21.807Z"
   },
   {
    "duration": 527,
    "start_time": "2024-03-25T19:14:21.875Z"
   },
   {
    "duration": 22,
    "start_time": "2024-03-25T19:14:22.404Z"
   },
   {
    "duration": 95,
    "start_time": "2024-03-25T19:14:22.427Z"
   },
   {
    "duration": 25,
    "start_time": "2024-03-25T19:14:22.523Z"
   },
   {
    "duration": 17,
    "start_time": "2024-03-25T19:14:22.549Z"
   },
   {
    "duration": 153,
    "start_time": "2024-03-25T19:14:22.567Z"
   },
   {
    "duration": 155,
    "start_time": "2024-03-25T19:14:22.721Z"
   },
   {
    "duration": 55,
    "start_time": "2024-03-25T19:14:22.878Z"
   },
   {
    "duration": 3,
    "start_time": "2024-03-25T19:14:22.935Z"
   },
   {
    "duration": 52,
    "start_time": "2024-03-25T19:14:22.939Z"
   },
   {
    "duration": 252,
    "start_time": "2024-03-25T19:14:22.992Z"
   },
   {
    "duration": 21,
    "start_time": "2024-03-25T19:14:23.245Z"
   },
   {
    "duration": 240,
    "start_time": "2024-03-25T19:14:23.268Z"
   },
   {
    "duration": 20,
    "start_time": "2024-03-25T19:18:12.127Z"
   },
   {
    "duration": 233,
    "start_time": "2024-03-25T19:18:12.993Z"
   },
   {
    "duration": 20,
    "start_time": "2024-03-25T19:18:21.830Z"
   },
   {
    "duration": 211,
    "start_time": "2024-03-25T19:18:22.197Z"
   },
   {
    "duration": 235,
    "start_time": "2024-03-25T19:22:09.134Z"
   },
   {
    "duration": 213,
    "start_time": "2024-03-25T19:24:33.002Z"
   },
   {
    "duration": 177,
    "start_time": "2024-03-25T19:24:45.948Z"
   },
   {
    "duration": 162,
    "start_time": "2024-03-25T19:24:53.396Z"
   },
   {
    "duration": 284,
    "start_time": "2024-03-25T19:25:25.510Z"
   },
   {
    "duration": 25,
    "start_time": "2024-03-25T19:26:22.499Z"
   },
   {
    "duration": 209,
    "start_time": "2024-03-25T19:26:29.210Z"
   },
   {
    "duration": 517,
    "start_time": "2024-03-25T19:27:22.899Z"
   },
   {
    "duration": 209,
    "start_time": "2024-03-25T19:27:46.807Z"
   },
   {
    "duration": 223,
    "start_time": "2024-03-25T19:27:57.463Z"
   },
   {
    "duration": 207,
    "start_time": "2024-03-25T19:28:24.330Z"
   },
   {
    "duration": 17,
    "start_time": "2024-03-25T19:32:36.403Z"
   },
   {
    "duration": 218,
    "start_time": "2024-03-25T19:32:36.958Z"
   },
   {
    "duration": 227,
    "start_time": "2024-03-25T19:32:53.943Z"
   },
   {
    "duration": 1478,
    "start_time": "2024-03-25T19:33:31.494Z"
   },
   {
    "duration": 238,
    "start_time": "2024-03-25T19:33:34.483Z"
   },
   {
    "duration": 4,
    "start_time": "2024-03-25T19:36:12.120Z"
   },
   {
    "duration": 5,
    "start_time": "2024-03-25T19:38:30.682Z"
   },
   {
    "duration": 6,
    "start_time": "2024-03-25T19:38:40.063Z"
   },
   {
    "duration": 3,
    "start_time": "2024-03-25T19:41:25.350Z"
   },
   {
    "duration": 2933,
    "start_time": "2024-03-25T19:41:43.038Z"
   },
   {
    "duration": 3,
    "start_time": "2024-03-25T19:41:45.974Z"
   },
   {
    "duration": 23,
    "start_time": "2024-03-25T19:41:45.979Z"
   },
   {
    "duration": 876,
    "start_time": "2024-03-25T19:41:46.004Z"
   },
   {
    "duration": 13,
    "start_time": "2024-03-25T19:41:46.882Z"
   },
   {
    "duration": 44,
    "start_time": "2024-03-25T19:41:46.897Z"
   },
   {
    "duration": 18,
    "start_time": "2024-03-25T19:41:46.942Z"
   },
   {
    "duration": 32,
    "start_time": "2024-03-25T19:41:46.963Z"
   },
   {
    "duration": 45,
    "start_time": "2024-03-25T19:41:46.997Z"
   },
   {
    "duration": 94,
    "start_time": "2024-03-25T19:41:47.044Z"
   },
   {
    "duration": 310,
    "start_time": "2024-03-25T19:41:47.140Z"
   },
   {
    "duration": 4,
    "start_time": "2024-03-25T19:41:47.452Z"
   },
   {
    "duration": 20,
    "start_time": "2024-03-25T19:41:47.457Z"
   },
   {
    "duration": 328,
    "start_time": "2024-03-25T19:41:47.481Z"
   },
   {
    "duration": 18,
    "start_time": "2024-03-25T19:41:47.811Z"
   },
   {
    "duration": 76,
    "start_time": "2024-03-25T19:41:47.830Z"
   },
   {
    "duration": 504,
    "start_time": "2024-03-25T19:41:47.908Z"
   },
   {
    "duration": 21,
    "start_time": "2024-03-25T19:41:48.414Z"
   },
   {
    "duration": 103,
    "start_time": "2024-03-25T19:41:48.437Z"
   },
   {
    "duration": 9,
    "start_time": "2024-03-25T19:41:48.541Z"
   },
   {
    "duration": 71,
    "start_time": "2024-03-25T19:41:48.552Z"
   },
   {
    "duration": 164,
    "start_time": "2024-03-25T19:41:48.624Z"
   },
   {
    "duration": 165,
    "start_time": "2024-03-25T19:41:48.794Z"
   },
   {
    "duration": 51,
    "start_time": "2024-03-25T19:41:48.961Z"
   },
   {
    "duration": 3,
    "start_time": "2024-03-25T19:41:49.014Z"
   },
   {
    "duration": 49,
    "start_time": "2024-03-25T19:41:49.018Z"
   },
   {
    "duration": 241,
    "start_time": "2024-03-25T19:41:49.069Z"
   },
   {
    "duration": 20,
    "start_time": "2024-03-25T19:41:49.311Z"
   },
   {
    "duration": 242,
    "start_time": "2024-03-25T19:41:49.332Z"
   },
   {
    "duration": 246,
    "start_time": "2024-03-25T19:41:49.575Z"
   },
   {
    "duration": 18,
    "start_time": "2024-03-25T19:41:49.822Z"
   },
   {
    "duration": 254,
    "start_time": "2024-03-25T19:41:49.842Z"
   },
   {
    "duration": 3,
    "start_time": "2024-03-25T19:41:50.098Z"
   },
   {
    "duration": 27,
    "start_time": "2024-03-25T19:41:50.104Z"
   },
   {
    "duration": 66,
    "start_time": "2024-03-25T19:41:50.132Z"
   },
   {
    "duration": 3,
    "start_time": "2024-03-25T19:41:50.199Z"
   },
   {
    "duration": 6,
    "start_time": "2024-03-25T19:41:50.204Z"
   },
   {
    "duration": 8,
    "start_time": "2024-03-25T19:41:50.212Z"
   },
   {
    "duration": 14,
    "start_time": "2024-03-25T19:41:50.222Z"
   },
   {
    "duration": 14,
    "start_time": "2024-03-25T19:41:50.237Z"
   },
   {
    "duration": 386,
    "start_time": "2024-03-25T19:41:50.254Z"
   },
   {
    "duration": 0,
    "start_time": "2024-03-25T19:41:50.641Z"
   },
   {
    "duration": 0,
    "start_time": "2024-03-25T19:41:50.642Z"
   },
   {
    "duration": 4,
    "start_time": "2024-03-25T19:44:04.314Z"
   },
   {
    "duration": 3,
    "start_time": "2024-03-25T19:44:05.896Z"
   },
   {
    "duration": 772,
    "start_time": "2024-03-25T19:44:06.609Z"
   },
   {
    "duration": 4,
    "start_time": "2024-03-25T19:44:13.201Z"
   },
   {
    "duration": 3,
    "start_time": "2024-03-25T19:44:14.216Z"
   },
   {
    "duration": 3,
    "start_time": "2024-03-25T19:44:15.974Z"
   },
   {
    "duration": 3,
    "start_time": "2024-03-25T19:44:18.399Z"
   },
   {
    "duration": 33919,
    "start_time": "2024-03-25T19:44:18.938Z"
   },
   {
    "duration": 141,
    "start_time": "2024-03-25T19:44:52.858Z"
   },
   {
    "duration": 6,
    "start_time": "2024-03-25T19:44:53.000Z"
   },
   {
    "duration": 57,
    "start_time": "2024-03-25T19:49:02.836Z"
   },
   {
    "duration": 785,
    "start_time": "2024-03-25T20:29:13.380Z"
   },
   {
    "duration": 2920,
    "start_time": "2024-03-25T20:29:26.842Z"
   },
   {
    "duration": 3,
    "start_time": "2024-03-25T20:29:29.764Z"
   },
   {
    "duration": 1339,
    "start_time": "2024-03-25T20:29:29.768Z"
   },
   {
    "duration": 926,
    "start_time": "2024-03-25T20:29:31.112Z"
   },
   {
    "duration": 16,
    "start_time": "2024-03-25T20:29:32.039Z"
   },
   {
    "duration": 54,
    "start_time": "2024-03-25T20:29:32.057Z"
   },
   {
    "duration": 53,
    "start_time": "2024-03-25T20:29:32.113Z"
   },
   {
    "duration": 91,
    "start_time": "2024-03-25T20:29:32.168Z"
   },
   {
    "duration": 71,
    "start_time": "2024-03-25T20:29:32.260Z"
   },
   {
    "duration": 100,
    "start_time": "2024-03-25T20:29:32.333Z"
   },
   {
    "duration": 3074,
    "start_time": "2024-03-25T20:30:54.889Z"
   },
   {
    "duration": 2,
    "start_time": "2024-03-25T20:30:57.965Z"
   },
   {
    "duration": 1338,
    "start_time": "2024-03-25T20:30:57.969Z"
   },
   {
    "duration": 900,
    "start_time": "2024-03-25T20:30:59.308Z"
   },
   {
    "duration": 17,
    "start_time": "2024-03-25T20:31:00.211Z"
   },
   {
    "duration": 145,
    "start_time": "2024-03-25T20:31:00.229Z"
   },
   {
    "duration": 123,
    "start_time": "2024-03-25T20:31:00.375Z"
   },
   {
    "duration": 142,
    "start_time": "2024-03-25T20:31:00.499Z"
   },
   {
    "duration": 106,
    "start_time": "2024-03-25T20:31:00.642Z"
   },
   {
    "duration": 133,
    "start_time": "2024-03-25T20:31:00.750Z"
   },
   {
    "duration": 357,
    "start_time": "2024-03-25T20:31:00.884Z"
   },
   {
    "duration": 3,
    "start_time": "2024-03-25T20:31:01.242Z"
   },
   {
    "duration": 50,
    "start_time": "2024-03-25T20:31:01.246Z"
   },
   {
    "duration": 376,
    "start_time": "2024-03-25T20:31:01.299Z"
   },
   {
    "duration": 20,
    "start_time": "2024-03-25T20:31:01.677Z"
   },
   {
    "duration": 142,
    "start_time": "2024-03-25T20:31:01.699Z"
   },
   {
    "duration": 516,
    "start_time": "2024-03-25T20:31:01.842Z"
   },
   {
    "duration": 22,
    "start_time": "2024-03-25T20:31:02.360Z"
   },
   {
    "duration": 364,
    "start_time": "2024-03-25T20:31:02.384Z"
   },
   {
    "duration": 38,
    "start_time": "2024-03-25T20:31:02.749Z"
   },
   {
    "duration": 33,
    "start_time": "2024-03-25T20:31:02.789Z"
   },
   {
    "duration": 216,
    "start_time": "2024-03-25T20:31:02.824Z"
   },
   {
    "duration": 164,
    "start_time": "2024-03-25T20:31:03.042Z"
   },
   {
    "duration": 48,
    "start_time": "2024-03-25T20:31:03.207Z"
   },
   {
    "duration": 20,
    "start_time": "2024-03-25T20:31:03.257Z"
   },
   {
    "duration": 43,
    "start_time": "2024-03-25T20:31:03.279Z"
   },
   {
    "duration": 249,
    "start_time": "2024-03-25T20:31:03.324Z"
   },
   {
    "duration": 25,
    "start_time": "2024-03-25T20:31:03.575Z"
   },
   {
    "duration": 327,
    "start_time": "2024-03-25T20:31:03.601Z"
   },
   {
    "duration": 263,
    "start_time": "2024-03-25T20:31:03.930Z"
   },
   {
    "duration": 24,
    "start_time": "2024-03-25T20:31:04.195Z"
   },
   {
    "duration": 261,
    "start_time": "2024-03-25T20:31:04.221Z"
   },
   {
    "duration": 2,
    "start_time": "2024-03-25T20:31:04.484Z"
   },
   {
    "duration": 11,
    "start_time": "2024-03-25T20:31:04.493Z"
   },
   {
    "duration": 70,
    "start_time": "2024-03-25T20:31:04.506Z"
   },
   {
    "duration": 3,
    "start_time": "2024-03-25T20:31:04.578Z"
   },
   {
    "duration": 17,
    "start_time": "2024-03-25T20:31:04.582Z"
   },
   {
    "duration": 24,
    "start_time": "2024-03-25T20:31:04.600Z"
   },
   {
    "duration": 7,
    "start_time": "2024-03-25T20:31:04.626Z"
   },
   {
    "duration": 4,
    "start_time": "2024-03-25T20:31:04.635Z"
   },
   {
    "duration": 768,
    "start_time": "2024-03-25T20:31:04.644Z"
   },
   {
    "duration": 3,
    "start_time": "2024-03-25T20:31:05.414Z"
   },
   {
    "duration": 28,
    "start_time": "2024-03-25T20:31:05.418Z"
   },
   {
    "duration": 17,
    "start_time": "2024-03-25T20:31:05.448Z"
   },
   {
    "duration": 22,
    "start_time": "2024-03-25T20:31:05.467Z"
   },
   {
    "duration": 38267,
    "start_time": "2024-03-25T20:31:05.491Z"
   },
   {
    "duration": 85,
    "start_time": "2024-03-25T20:31:43.760Z"
   },
   {
    "duration": 5,
    "start_time": "2024-03-25T20:31:43.847Z"
   },
   {
    "duration": 101530,
    "start_time": "2024-03-25T20:31:43.854Z"
   },
   {
    "duration": 2717,
    "start_time": "2024-03-25T20:33:25.386Z"
   },
   {
    "duration": 20,
    "start_time": "2024-03-25T20:33:28.104Z"
   },
   {
    "duration": 36,
    "start_time": "2024-03-25T20:33:28.126Z"
   },
   {
    "duration": 11,
    "start_time": "2024-03-25T20:33:28.164Z"
   },
   {
    "duration": 48626,
    "start_time": "2024-03-25T20:33:28.177Z"
   },
   {
    "duration": 124,
    "start_time": "2024-03-25T20:34:16.805Z"
   },
   {
    "duration": 6,
    "start_time": "2024-03-25T20:34:16.994Z"
   },
   {
    "duration": 24,
    "start_time": "2024-03-25T20:34:17.001Z"
   },
   {
    "duration": 4,
    "start_time": "2024-03-25T20:36:00.418Z"
   },
   {
    "duration": 37939,
    "start_time": "2024-03-25T20:36:46.128Z"
   },
   {
    "duration": 38445,
    "start_time": "2024-03-25T20:37:33.786Z"
   },
   {
    "duration": 4,
    "start_time": "2024-03-25T20:38:12.233Z"
   },
   {
    "duration": 5,
    "start_time": "2024-03-25T20:38:19.665Z"
   },
   {
    "duration": 3,
    "start_time": "2024-03-25T20:38:57.233Z"
   },
   {
    "duration": 11,
    "start_time": "2024-03-25T20:39:26.949Z"
   },
   {
    "duration": 40823,
    "start_time": "2024-03-25T20:40:53.386Z"
   },
   {
    "duration": 3057,
    "start_time": "2024-03-25T20:42:27.944Z"
   },
   {
    "duration": 4,
    "start_time": "2024-03-25T20:42:31.004Z"
   },
   {
    "duration": 1446,
    "start_time": "2024-03-25T20:42:31.010Z"
   },
   {
    "duration": 987,
    "start_time": "2024-03-25T20:42:32.459Z"
   },
   {
    "duration": 21,
    "start_time": "2024-03-25T20:42:33.448Z"
   },
   {
    "duration": 48,
    "start_time": "2024-03-25T20:42:33.471Z"
   },
   {
    "duration": 16,
    "start_time": "2024-03-25T20:42:33.521Z"
   },
   {
    "duration": 23,
    "start_time": "2024-03-25T20:42:33.539Z"
   },
   {
    "duration": 60,
    "start_time": "2024-03-25T20:42:33.564Z"
   },
   {
    "duration": 105,
    "start_time": "2024-03-25T20:42:33.627Z"
   },
   {
    "duration": 361,
    "start_time": "2024-03-25T20:42:33.734Z"
   },
   {
    "duration": 4,
    "start_time": "2024-03-25T20:42:34.097Z"
   },
   {
    "duration": 74,
    "start_time": "2024-03-25T20:42:34.102Z"
   },
   {
    "duration": 422,
    "start_time": "2024-03-25T20:42:34.178Z"
   },
   {
    "duration": 20,
    "start_time": "2024-03-25T20:42:34.602Z"
   },
   {
    "duration": 85,
    "start_time": "2024-03-25T20:42:34.624Z"
   },
   {
    "duration": 552,
    "start_time": "2024-03-25T20:42:34.711Z"
   },
   {
    "duration": 21,
    "start_time": "2024-03-25T20:42:35.265Z"
   },
   {
    "duration": 128,
    "start_time": "2024-03-25T20:42:35.293Z"
   },
   {
    "duration": 4,
    "start_time": "2024-03-25T20:42:35.423Z"
   },
   {
    "duration": 7,
    "start_time": "2024-03-25T20:42:35.429Z"
   },
   {
    "duration": 161,
    "start_time": "2024-03-25T20:42:35.438Z"
   },
   {
    "duration": 164,
    "start_time": "2024-03-25T20:42:35.601Z"
   },
   {
    "duration": 61,
    "start_time": "2024-03-25T20:42:35.767Z"
   },
   {
    "duration": 13,
    "start_time": "2024-03-25T20:42:35.829Z"
   },
   {
    "duration": 59,
    "start_time": "2024-03-25T20:42:35.844Z"
   },
   {
    "duration": 314,
    "start_time": "2024-03-25T20:42:35.905Z"
   },
   {
    "duration": 30,
    "start_time": "2024-03-25T20:42:36.224Z"
   },
   {
    "duration": 273,
    "start_time": "2024-03-25T20:42:36.256Z"
   },
   {
    "duration": 313,
    "start_time": "2024-03-25T20:42:36.530Z"
   },
   {
    "duration": 18,
    "start_time": "2024-03-25T20:42:36.844Z"
   },
   {
    "duration": 249,
    "start_time": "2024-03-25T20:42:36.864Z"
   },
   {
    "duration": 2,
    "start_time": "2024-03-25T20:42:37.115Z"
   },
   {
    "duration": 62,
    "start_time": "2024-03-25T20:42:37.118Z"
   },
   {
    "duration": 73,
    "start_time": "2024-03-25T20:42:37.182Z"
   },
   {
    "duration": 4,
    "start_time": "2024-03-25T20:42:37.256Z"
   },
   {
    "duration": 34,
    "start_time": "2024-03-25T20:42:37.261Z"
   },
   {
    "duration": 7,
    "start_time": "2024-03-25T20:42:37.296Z"
   },
   {
    "duration": 6,
    "start_time": "2024-03-25T20:42:37.304Z"
   },
   {
    "duration": 15,
    "start_time": "2024-03-25T20:42:37.312Z"
   },
   {
    "duration": 795,
    "start_time": "2024-03-25T20:42:37.329Z"
   },
   {
    "duration": 3,
    "start_time": "2024-03-25T20:42:38.126Z"
   },
   {
    "duration": 42,
    "start_time": "2024-03-25T20:42:38.130Z"
   },
   {
    "duration": 19,
    "start_time": "2024-03-25T20:42:38.174Z"
   },
   {
    "duration": 15,
    "start_time": "2024-03-25T20:42:38.195Z"
   },
   {
    "duration": 38403,
    "start_time": "2024-03-25T20:42:38.212Z"
   },
   {
    "duration": 94,
    "start_time": "2024-03-25T20:43:16.616Z"
   },
   {
    "duration": 5,
    "start_time": "2024-03-25T20:43:16.712Z"
   },
   {
    "duration": 103346,
    "start_time": "2024-03-25T20:43:16.719Z"
   },
   {
    "duration": 125,
    "start_time": "2024-03-25T20:45:00.066Z"
   },
   {
    "duration": 0,
    "start_time": "2024-03-25T20:45:00.193Z"
   },
   {
    "duration": 0,
    "start_time": "2024-03-25T20:45:00.195Z"
   },
   {
    "duration": 0,
    "start_time": "2024-03-25T20:45:00.196Z"
   },
   {
    "duration": 0,
    "start_time": "2024-03-25T20:45:00.198Z"
   },
   {
    "duration": 0,
    "start_time": "2024-03-25T20:45:00.199Z"
   },
   {
    "duration": 0,
    "start_time": "2024-03-25T20:45:00.201Z"
   },
   {
    "duration": 0,
    "start_time": "2024-03-25T20:45:00.202Z"
   },
   {
    "duration": 3,
    "start_time": "2024-03-25T20:49:00.205Z"
   },
   {
    "duration": 2849,
    "start_time": "2024-03-25T20:49:17.208Z"
   },
   {
    "duration": 20,
    "start_time": "2024-03-25T20:49:23.709Z"
   },
   {
    "duration": 6,
    "start_time": "2024-03-25T20:49:30.833Z"
   },
   {
    "duration": 4,
    "start_time": "2024-03-25T20:49:39.976Z"
   },
   {
    "duration": 9,
    "start_time": "2024-03-25T20:49:40.814Z"
   },
   {
    "duration": 44638,
    "start_time": "2024-03-25T20:49:48.661Z"
   },
   {
    "duration": 24,
    "start_time": "2024-03-25T20:50:59.758Z"
   },
   {
    "duration": 6,
    "start_time": "2024-03-25T20:51:01.405Z"
   },
   {
    "duration": 11,
    "start_time": "2024-03-25T20:51:03.108Z"
   },
   {
    "duration": 5,
    "start_time": "2024-03-25T20:53:14.357Z"
   },
   {
    "duration": 6,
    "start_time": "2024-03-25T20:53:16.695Z"
   },
   {
    "duration": 4,
    "start_time": "2024-03-25T21:19:47.598Z"
   },
   {
    "duration": 12,
    "start_time": "2024-03-25T21:55:58.414Z"
   },
   {
    "duration": 3,
    "start_time": "2024-03-25T21:56:11.160Z"
   },
   {
    "duration": 5,
    "start_time": "2024-03-25T21:56:11.480Z"
   },
   {
    "duration": 3,
    "start_time": "2024-03-25T21:56:12.206Z"
   },
   {
    "duration": 9,
    "start_time": "2024-03-25T21:57:47.461Z"
   },
   {
    "duration": 4,
    "start_time": "2024-03-25T21:57:50.472Z"
   },
   {
    "duration": 6,
    "start_time": "2024-03-25T21:57:51.040Z"
   },
   {
    "duration": 3,
    "start_time": "2024-03-25T22:00:25.659Z"
   },
   {
    "duration": 4,
    "start_time": "2024-03-25T22:00:26.166Z"
   },
   {
    "duration": 3,
    "start_time": "2024-03-25T22:00:35.990Z"
   },
   {
    "duration": 4,
    "start_time": "2024-03-25T22:00:36.372Z"
   },
   {
    "duration": 3,
    "start_time": "2024-03-25T22:00:37.253Z"
   },
   {
    "duration": 4,
    "start_time": "2024-03-25T22:00:37.759Z"
   },
   {
    "duration": 14,
    "start_time": "2024-03-25T22:00:39.061Z"
   },
   {
    "duration": 4,
    "start_time": "2024-03-25T22:01:06.051Z"
   },
   {
    "duration": 3016,
    "start_time": "2024-03-25T22:01:13.655Z"
   },
   {
    "duration": 3,
    "start_time": "2024-03-25T22:01:16.673Z"
   },
   {
    "duration": 1442,
    "start_time": "2024-03-25T22:01:16.678Z"
   },
   {
    "duration": 955,
    "start_time": "2024-03-25T22:01:18.122Z"
   },
   {
    "duration": 22,
    "start_time": "2024-03-25T22:01:19.079Z"
   },
   {
    "duration": 36,
    "start_time": "2024-03-25T22:01:19.103Z"
   },
   {
    "duration": 25,
    "start_time": "2024-03-25T22:01:19.141Z"
   },
   {
    "duration": 39,
    "start_time": "2024-03-25T22:01:19.168Z"
   },
   {
    "duration": 46,
    "start_time": "2024-03-25T22:01:19.209Z"
   },
   {
    "duration": 132,
    "start_time": "2024-03-25T22:01:19.259Z"
   },
   {
    "duration": 352,
    "start_time": "2024-03-25T22:01:19.393Z"
   },
   {
    "duration": 3,
    "start_time": "2024-03-25T22:01:19.747Z"
   },
   {
    "duration": 21,
    "start_time": "2024-03-25T22:01:19.752Z"
   },
   {
    "duration": 320,
    "start_time": "2024-03-25T22:01:19.774Z"
   },
   {
    "duration": 19,
    "start_time": "2024-03-25T22:01:20.096Z"
   },
   {
    "duration": 106,
    "start_time": "2024-03-25T22:01:20.116Z"
   },
   {
    "duration": 610,
    "start_time": "2024-03-25T22:01:20.224Z"
   },
   {
    "duration": 23,
    "start_time": "2024-03-25T22:01:20.836Z"
   },
   {
    "duration": 122,
    "start_time": "2024-03-25T22:01:20.861Z"
   },
   {
    "duration": 30,
    "start_time": "2024-03-25T22:01:20.985Z"
   },
   {
    "duration": 25,
    "start_time": "2024-03-25T22:01:21.017Z"
   },
   {
    "duration": 185,
    "start_time": "2024-03-25T22:01:21.044Z"
   },
   {
    "duration": 168,
    "start_time": "2024-03-25T22:01:21.230Z"
   },
   {
    "duration": 57,
    "start_time": "2024-03-25T22:01:21.399Z"
   },
   {
    "duration": 3,
    "start_time": "2024-03-25T22:01:21.457Z"
   },
   {
    "duration": 57,
    "start_time": "2024-03-25T22:01:21.461Z"
   },
   {
    "duration": 261,
    "start_time": "2024-03-25T22:01:21.519Z"
   },
   {
    "duration": 27,
    "start_time": "2024-03-25T22:01:21.785Z"
   },
   {
    "duration": 266,
    "start_time": "2024-03-25T22:01:21.814Z"
   },
   {
    "duration": 316,
    "start_time": "2024-03-25T22:01:22.082Z"
   },
   {
    "duration": 20,
    "start_time": "2024-03-25T22:01:22.400Z"
   },
   {
    "duration": 254,
    "start_time": "2024-03-25T22:01:22.422Z"
   },
   {
    "duration": 2,
    "start_time": "2024-03-25T22:01:22.678Z"
   },
   {
    "duration": 23,
    "start_time": "2024-03-25T22:01:22.681Z"
   },
   {
    "duration": 83,
    "start_time": "2024-03-25T22:01:22.706Z"
   },
   {
    "duration": 3,
    "start_time": "2024-03-25T22:01:22.791Z"
   },
   {
    "duration": 29,
    "start_time": "2024-03-25T22:01:22.795Z"
   },
   {
    "duration": 4,
    "start_time": "2024-03-25T22:01:22.826Z"
   },
   {
    "duration": 4,
    "start_time": "2024-03-25T22:01:22.831Z"
   },
   {
    "duration": 23,
    "start_time": "2024-03-25T22:01:22.836Z"
   },
   {
    "duration": 811,
    "start_time": "2024-03-25T22:01:22.860Z"
   },
   {
    "duration": 3,
    "start_time": "2024-03-25T22:01:23.673Z"
   },
   {
    "duration": 7,
    "start_time": "2024-03-25T22:01:23.677Z"
   },
   {
    "duration": 16,
    "start_time": "2024-03-25T22:01:23.686Z"
   },
   {
    "duration": 12,
    "start_time": "2024-03-25T22:01:23.703Z"
   },
   {
    "duration": 37406,
    "start_time": "2024-03-25T22:01:23.717Z"
   },
   {
    "duration": 79,
    "start_time": "2024-03-25T22:02:01.125Z"
   },
   {
    "duration": 5,
    "start_time": "2024-03-25T22:02:01.206Z"
   },
   {
    "duration": 104801,
    "start_time": "2024-03-25T22:02:01.212Z"
   },
   {
    "duration": 3,
    "start_time": "2024-03-25T22:03:46.014Z"
   },
   {
    "duration": 2710,
    "start_time": "2024-03-25T22:03:46.019Z"
   },
   {
    "duration": 21,
    "start_time": "2024-03-25T22:03:48.731Z"
   },
   {
    "duration": 27,
    "start_time": "2024-03-25T22:03:48.754Z"
   },
   {
    "duration": 29,
    "start_time": "2024-03-25T22:03:48.782Z"
   },
   {
    "duration": 40986,
    "start_time": "2024-03-25T22:03:48.812Z"
   },
   {
    "duration": 102,
    "start_time": "2024-03-25T22:04:29.800Z"
   },
   {
    "duration": 6,
    "start_time": "2024-03-25T22:04:29.904Z"
   },
   {
    "duration": 3,
    "start_time": "2024-03-25T22:04:29.912Z"
   },
   {
    "duration": 5,
    "start_time": "2024-03-25T22:04:29.916Z"
   },
   {
    "duration": 72,
    "start_time": "2024-03-25T22:04:29.923Z"
   },
   {
    "duration": 23,
    "start_time": "2024-03-25T22:04:29.997Z"
   },
   {
    "duration": 42,
    "start_time": "2024-03-25T22:04:30.022Z"
   },
   {
    "duration": 114,
    "start_time": "2024-03-25T22:20:52.449Z"
   },
   {
    "duration": 22,
    "start_time": "2024-03-25T22:21:00.722Z"
   },
   {
    "duration": 3103,
    "start_time": "2024-03-25T22:22:13.517Z"
   },
   {
    "duration": 4,
    "start_time": "2024-03-25T22:22:16.623Z"
   },
   {
    "duration": 1297,
    "start_time": "2024-03-25T22:22:16.629Z"
   },
   {
    "duration": 889,
    "start_time": "2024-03-25T22:22:17.928Z"
   },
   {
    "duration": 18,
    "start_time": "2024-03-25T22:22:18.818Z"
   },
   {
    "duration": 29,
    "start_time": "2024-03-25T22:22:18.837Z"
   },
   {
    "duration": 15,
    "start_time": "2024-03-25T22:22:18.868Z"
   },
   {
    "duration": 17,
    "start_time": "2024-03-25T22:22:18.885Z"
   },
   {
    "duration": 62,
    "start_time": "2024-03-25T22:22:18.904Z"
   },
   {
    "duration": 110,
    "start_time": "2024-03-25T22:22:18.969Z"
   },
   {
    "duration": 331,
    "start_time": "2024-03-25T22:22:19.080Z"
   },
   {
    "duration": 4,
    "start_time": "2024-03-25T22:22:19.413Z"
   },
   {
    "duration": 57,
    "start_time": "2024-03-25T22:22:19.419Z"
   },
   {
    "duration": 364,
    "start_time": "2024-03-25T22:22:19.477Z"
   },
   {
    "duration": 21,
    "start_time": "2024-03-25T22:22:19.843Z"
   },
   {
    "duration": 97,
    "start_time": "2024-03-25T22:22:19.865Z"
   },
   {
    "duration": 533,
    "start_time": "2024-03-25T22:22:19.963Z"
   },
   {
    "duration": 21,
    "start_time": "2024-03-25T22:22:20.498Z"
   },
   {
    "duration": 112,
    "start_time": "2024-03-25T22:22:20.521Z"
   },
   {
    "duration": 20,
    "start_time": "2024-03-25T22:22:20.635Z"
   },
   {
    "duration": 80,
    "start_time": "2024-03-25T22:22:20.656Z"
   },
   {
    "duration": 181,
    "start_time": "2024-03-25T22:22:20.738Z"
   },
   {
    "duration": 173,
    "start_time": "2024-03-25T22:22:20.921Z"
   },
   {
    "duration": 47,
    "start_time": "2024-03-25T22:22:21.095Z"
   },
   {
    "duration": 3,
    "start_time": "2024-03-25T22:22:21.143Z"
   },
   {
    "duration": 66,
    "start_time": "2024-03-25T22:22:21.147Z"
   },
   {
    "duration": 272,
    "start_time": "2024-03-25T22:22:21.215Z"
   },
   {
    "duration": 22,
    "start_time": "2024-03-25T22:22:21.493Z"
   },
   {
    "duration": 246,
    "start_time": "2024-03-25T22:22:21.516Z"
   },
   {
    "duration": 335,
    "start_time": "2024-03-25T22:22:21.764Z"
   },
   {
    "duration": 19,
    "start_time": "2024-03-25T22:22:22.101Z"
   },
   {
    "duration": 277,
    "start_time": "2024-03-25T22:22:22.121Z"
   },
   {
    "duration": 2,
    "start_time": "2024-03-25T22:22:22.400Z"
   },
   {
    "duration": 56,
    "start_time": "2024-03-25T22:22:22.403Z"
   },
   {
    "duration": 114,
    "start_time": "2024-03-25T22:22:22.460Z"
   },
   {
    "duration": 3,
    "start_time": "2024-03-25T22:22:22.575Z"
   },
   {
    "duration": 43,
    "start_time": "2024-03-25T22:22:22.579Z"
   },
   {
    "duration": 29,
    "start_time": "2024-03-25T22:22:22.624Z"
   },
   {
    "duration": 38,
    "start_time": "2024-03-25T22:22:22.655Z"
   },
   {
    "duration": 50,
    "start_time": "2024-03-25T22:22:22.695Z"
   },
   {
    "duration": 808,
    "start_time": "2024-03-25T22:22:22.747Z"
   },
   {
    "duration": 3,
    "start_time": "2024-03-25T22:22:23.557Z"
   },
   {
    "duration": 64,
    "start_time": "2024-03-25T22:22:23.562Z"
   },
   {
    "duration": 48,
    "start_time": "2024-03-25T22:22:23.628Z"
   },
   {
    "duration": 67,
    "start_time": "2024-03-25T22:22:23.678Z"
   },
   {
    "duration": 35957,
    "start_time": "2024-03-25T22:22:23.747Z"
   },
   {
    "duration": 89,
    "start_time": "2024-03-25T22:22:59.705Z"
   },
   {
    "duration": 4,
    "start_time": "2024-03-25T22:22:59.796Z"
   },
   {
    "duration": 104510,
    "start_time": "2024-03-25T22:22:59.802Z"
   },
   {
    "duration": 3,
    "start_time": "2024-03-25T22:24:44.314Z"
   },
   {
    "duration": 2674,
    "start_time": "2024-03-25T22:24:44.318Z"
   },
   {
    "duration": 20,
    "start_time": "2024-03-25T22:24:46.993Z"
   },
   {
    "duration": 6,
    "start_time": "2024-03-25T22:24:47.014Z"
   },
   {
    "duration": 4,
    "start_time": "2024-03-25T22:24:47.021Z"
   },
   {
    "duration": 48075,
    "start_time": "2024-03-25T22:24:47.026Z"
   },
   {
    "duration": 97,
    "start_time": "2024-03-25T22:25:35.102Z"
   },
   {
    "duration": 43,
    "start_time": "2024-03-25T22:25:35.200Z"
   },
   {
    "duration": 24,
    "start_time": "2024-03-25T22:25:35.244Z"
   },
   {
    "duration": 42,
    "start_time": "2024-03-25T22:25:35.269Z"
   },
   {
    "duration": 63,
    "start_time": "2024-03-25T22:25:35.313Z"
   },
   {
    "duration": 35,
    "start_time": "2024-03-25T22:25:35.378Z"
   },
   {
    "duration": 78,
    "start_time": "2024-03-25T22:25:35.414Z"
   },
   {
    "duration": 36,
    "start_time": "2024-03-25T22:25:35.493Z"
   },
   {
    "duration": 6886,
    "start_time": "2024-03-26T21:50:08.511Z"
   },
   {
    "duration": 3,
    "start_time": "2024-03-26T21:50:15.399Z"
   },
   {
    "duration": 1438,
    "start_time": "2024-03-26T21:50:15.403Z"
   },
   {
    "duration": 2931,
    "start_time": "2024-03-26T21:50:16.843Z"
   },
   {
    "duration": 17,
    "start_time": "2024-03-26T21:50:19.776Z"
   },
   {
    "duration": 22,
    "start_time": "2024-03-26T21:50:19.794Z"
   },
   {
    "duration": 19,
    "start_time": "2024-03-26T21:50:19.818Z"
   },
   {
    "duration": 4,
    "start_time": "2024-03-26T21:50:19.839Z"
   },
   {
    "duration": 40,
    "start_time": "2024-03-26T21:50:19.845Z"
   },
   {
    "duration": 97,
    "start_time": "2024-03-26T21:50:19.887Z"
   },
   {
    "duration": 317,
    "start_time": "2024-03-26T21:50:19.985Z"
   },
   {
    "duration": 4,
    "start_time": "2024-03-26T21:50:20.304Z"
   },
   {
    "duration": 4,
    "start_time": "2024-03-26T21:50:20.321Z"
   },
   {
    "duration": 304,
    "start_time": "2024-03-26T21:50:20.330Z"
   },
   {
    "duration": 20,
    "start_time": "2024-03-26T21:50:20.635Z"
   },
   {
    "duration": 85,
    "start_time": "2024-03-26T21:50:20.666Z"
   },
   {
    "duration": 523,
    "start_time": "2024-03-26T21:50:20.753Z"
   },
   {
    "duration": 21,
    "start_time": "2024-03-26T21:50:21.277Z"
   },
   {
    "duration": 102,
    "start_time": "2024-03-26T21:50:21.299Z"
   },
   {
    "duration": 4,
    "start_time": "2024-03-26T21:50:21.402Z"
   },
   {
    "duration": 19,
    "start_time": "2024-03-26T21:50:21.407Z"
   },
   {
    "duration": 151,
    "start_time": "2024-03-26T21:50:21.427Z"
   },
   {
    "duration": 158,
    "start_time": "2024-03-26T21:50:21.579Z"
   },
   {
    "duration": 56,
    "start_time": "2024-03-26T21:50:21.739Z"
   },
   {
    "duration": 2,
    "start_time": "2024-03-26T21:50:21.797Z"
   },
   {
    "duration": 37,
    "start_time": "2024-03-26T21:50:21.801Z"
   },
   {
    "duration": 259,
    "start_time": "2024-03-26T21:50:21.840Z"
   },
   {
    "duration": 20,
    "start_time": "2024-03-26T21:50:22.101Z"
   },
   {
    "duration": 313,
    "start_time": "2024-03-26T21:50:22.123Z"
   },
   {
    "duration": 237,
    "start_time": "2024-03-26T21:50:22.437Z"
   },
   {
    "duration": 19,
    "start_time": "2024-03-26T21:50:22.676Z"
   },
   {
    "duration": 243,
    "start_time": "2024-03-26T21:50:22.697Z"
   },
   {
    "duration": 2,
    "start_time": "2024-03-26T21:50:22.942Z"
   },
   {
    "duration": 46,
    "start_time": "2024-03-26T21:50:22.946Z"
   },
   {
    "duration": 62,
    "start_time": "2024-03-26T21:50:22.994Z"
   },
   {
    "duration": 2,
    "start_time": "2024-03-26T21:50:23.058Z"
   },
   {
    "duration": 29,
    "start_time": "2024-03-26T21:50:23.062Z"
   },
   {
    "duration": 17,
    "start_time": "2024-03-26T21:50:23.092Z"
   },
   {
    "duration": 27,
    "start_time": "2024-03-26T21:50:23.111Z"
   },
   {
    "duration": 10,
    "start_time": "2024-03-26T21:50:23.140Z"
   },
   {
    "duration": 797,
    "start_time": "2024-03-26T21:50:23.153Z"
   },
   {
    "duration": 2,
    "start_time": "2024-03-26T21:50:23.952Z"
   },
   {
    "duration": 28,
    "start_time": "2024-03-26T21:50:23.965Z"
   },
   {
    "duration": 58,
    "start_time": "2024-03-26T21:50:23.995Z"
   },
   {
    "duration": 0,
    "start_time": "2024-03-26T21:50:24.055Z"
   },
   {
    "duration": 3,
    "start_time": "2024-03-26T21:50:32.733Z"
   },
   {
    "duration": 3,
    "start_time": "2024-03-26T21:50:37.111Z"
   },
   {
    "duration": 107,
    "start_time": "2024-03-26T21:50:51.593Z"
   },
   {
    "duration": 10,
    "start_time": "2024-03-26T21:51:05.948Z"
   },
   {
    "duration": 9,
    "start_time": "2024-03-26T21:51:28.093Z"
   },
   {
    "duration": 34892,
    "start_time": "2024-03-26T21:52:46.552Z"
   },
   {
    "duration": 2,
    "start_time": "2024-03-26T21:53:54.932Z"
   },
   {
    "duration": 47,
    "start_time": "2024-03-26T21:54:25.559Z"
   },
   {
    "duration": 419,
    "start_time": "2024-03-26T21:54:50.296Z"
   },
   {
    "duration": 378,
    "start_time": "2024-03-26T21:54:59.806Z"
   },
   {
    "duration": 382,
    "start_time": "2024-03-26T21:55:04.823Z"
   },
   {
    "duration": 12,
    "start_time": "2024-03-26T21:55:43.580Z"
   },
   {
    "duration": 7,
    "start_time": "2024-03-26T21:55:51.476Z"
   },
   {
    "duration": 4,
    "start_time": "2024-03-26T22:02:12.360Z"
   },
   {
    "duration": 2959,
    "start_time": "2024-03-26T22:05:33.761Z"
   },
   {
    "duration": 2,
    "start_time": "2024-03-26T22:05:36.723Z"
   },
   {
    "duration": 1280,
    "start_time": "2024-03-26T22:05:36.727Z"
   },
   {
    "duration": 858,
    "start_time": "2024-03-26T22:05:38.009Z"
   },
   {
    "duration": 17,
    "start_time": "2024-03-26T22:05:38.868Z"
   },
   {
    "duration": 26,
    "start_time": "2024-03-26T22:05:38.887Z"
   },
   {
    "duration": 5,
    "start_time": "2024-03-26T22:05:38.915Z"
   },
   {
    "duration": 4,
    "start_time": "2024-03-26T22:05:38.921Z"
   },
   {
    "duration": 58,
    "start_time": "2024-03-26T22:05:38.927Z"
   },
   {
    "duration": 106,
    "start_time": "2024-03-26T22:05:38.989Z"
   },
   {
    "duration": 317,
    "start_time": "2024-03-26T22:05:39.097Z"
   },
   {
    "duration": 4,
    "start_time": "2024-03-26T22:05:39.415Z"
   },
   {
    "duration": 13,
    "start_time": "2024-03-26T22:05:39.420Z"
   },
   {
    "duration": 312,
    "start_time": "2024-03-26T22:05:39.434Z"
   },
   {
    "duration": 22,
    "start_time": "2024-03-26T22:05:39.747Z"
   },
   {
    "duration": 83,
    "start_time": "2024-03-26T22:05:39.770Z"
   },
   {
    "duration": 500,
    "start_time": "2024-03-26T22:05:39.865Z"
   },
   {
    "duration": 21,
    "start_time": "2024-03-26T22:05:40.367Z"
   },
   {
    "duration": 96,
    "start_time": "2024-03-26T22:05:40.389Z"
   },
   {
    "duration": 2,
    "start_time": "2024-03-26T22:05:40.486Z"
   },
   {
    "duration": 4,
    "start_time": "2024-03-26T22:05:40.489Z"
   },
   {
    "duration": 151,
    "start_time": "2024-03-26T22:05:40.495Z"
   },
   {
    "duration": 159,
    "start_time": "2024-03-26T22:05:40.648Z"
   },
   {
    "duration": 46,
    "start_time": "2024-03-26T22:05:40.808Z"
   },
   {
    "duration": 2,
    "start_time": "2024-03-26T22:05:40.865Z"
   },
   {
    "duration": 30,
    "start_time": "2024-03-26T22:05:40.869Z"
   },
   {
    "duration": 252,
    "start_time": "2024-03-26T22:05:40.900Z"
   },
   {
    "duration": 24,
    "start_time": "2024-03-26T22:05:41.155Z"
   },
   {
    "duration": 248,
    "start_time": "2024-03-26T22:05:41.180Z"
   },
   {
    "duration": 297,
    "start_time": "2024-03-26T22:05:41.430Z"
   },
   {
    "duration": 18,
    "start_time": "2024-03-26T22:05:41.729Z"
   },
   {
    "duration": 241,
    "start_time": "2024-03-26T22:05:41.748Z"
   },
   {
    "duration": 3,
    "start_time": "2024-03-26T22:05:41.990Z"
   },
   {
    "duration": 12,
    "start_time": "2024-03-26T22:05:41.994Z"
   },
   {
    "duration": 76,
    "start_time": "2024-03-26T22:05:42.008Z"
   },
   {
    "duration": 2,
    "start_time": "2024-03-26T22:05:42.086Z"
   },
   {
    "duration": 4,
    "start_time": "2024-03-26T22:05:42.090Z"
   },
   {
    "duration": 3,
    "start_time": "2024-03-26T22:05:42.095Z"
   },
   {
    "duration": 4,
    "start_time": "2024-03-26T22:05:42.099Z"
   },
   {
    "duration": 3,
    "start_time": "2024-03-26T22:05:42.104Z"
   },
   {
    "duration": 787,
    "start_time": "2024-03-26T22:05:42.109Z"
   },
   {
    "duration": 3,
    "start_time": "2024-03-26T22:05:42.898Z"
   },
   {
    "duration": 5,
    "start_time": "2024-03-26T22:05:42.902Z"
   },
   {
    "duration": 5,
    "start_time": "2024-03-26T22:05:42.908Z"
   },
   {
    "duration": 3,
    "start_time": "2024-03-26T22:05:42.914Z"
   },
   {
    "duration": 34254,
    "start_time": "2024-03-26T22:05:42.918Z"
   },
   {
    "duration": 3,
    "start_time": "2024-03-26T22:06:17.175Z"
   },
   {
    "duration": 385,
    "start_time": "2024-03-26T22:06:17.179Z"
   },
   {
    "duration": 6,
    "start_time": "2024-03-26T22:06:17.566Z"
   },
   {
    "duration": 4,
    "start_time": "2024-03-26T22:06:17.574Z"
   },
   {
    "duration": 90804,
    "start_time": "2024-03-26T22:06:17.580Z"
   },
   {
    "duration": 3,
    "start_time": "2024-03-26T22:07:48.386Z"
   },
   {
    "duration": 2460,
    "start_time": "2024-03-26T22:07:48.391Z"
   },
   {
    "duration": 21,
    "start_time": "2024-03-26T22:07:50.853Z"
   },
   {
    "duration": 6,
    "start_time": "2024-03-26T22:07:50.875Z"
   },
   {
    "duration": 5,
    "start_time": "2024-03-26T22:07:50.883Z"
   },
   {
    "duration": 47091,
    "start_time": "2024-03-26T22:07:50.889Z"
   },
   {
    "duration": 98,
    "start_time": "2024-03-26T22:08:37.982Z"
   },
   {
    "duration": 5,
    "start_time": "2024-03-26T22:08:38.082Z"
   },
   {
    "duration": 79,
    "start_time": "2024-03-26T22:08:38.088Z"
   },
   {
    "duration": 23,
    "start_time": "2024-03-26T22:08:38.168Z"
   },
   {
    "duration": 26,
    "start_time": "2024-03-26T22:08:38.193Z"
   },
   {
    "duration": 30,
    "start_time": "2024-03-26T22:08:38.220Z"
   },
   {
    "duration": 16,
    "start_time": "2024-03-26T22:08:38.252Z"
   },
   {
    "duration": 42,
    "start_time": "2024-03-26T22:08:38.270Z"
   },
   {
    "duration": 6761,
    "start_time": "2024-03-27T21:32:32.521Z"
   },
   {
    "duration": 3,
    "start_time": "2024-03-27T21:32:41.539Z"
   },
   {
    "duration": 1481,
    "start_time": "2024-03-27T21:32:42.202Z"
   },
   {
    "duration": 2991,
    "start_time": "2024-03-27T21:32:43.685Z"
   },
   {
    "duration": 17,
    "start_time": "2024-03-27T21:32:46.678Z"
   },
   {
    "duration": 23,
    "start_time": "2024-03-27T21:32:46.696Z"
   },
   {
    "duration": 4,
    "start_time": "2024-03-27T21:32:48.268Z"
   },
   {
    "duration": 2,
    "start_time": "2024-03-27T21:32:48.436Z"
   },
   {
    "duration": 33,
    "start_time": "2024-03-27T21:32:48.760Z"
   },
   {
    "duration": 107,
    "start_time": "2024-03-27T21:32:48.919Z"
   },
   {
    "duration": 312,
    "start_time": "2024-03-27T21:32:49.071Z"
   },
   {
    "duration": 2,
    "start_time": "2024-03-27T21:32:49.385Z"
   },
   {
    "duration": 3,
    "start_time": "2024-03-27T21:32:49.463Z"
   },
   {
    "duration": 304,
    "start_time": "2024-03-27T21:32:49.608Z"
   },
   {
    "duration": 19,
    "start_time": "2024-03-27T21:32:49.914Z"
   },
   {
    "duration": 68,
    "start_time": "2024-03-27T21:32:50.099Z"
   },
   {
    "duration": 521,
    "start_time": "2024-03-27T21:32:50.262Z"
   },
   {
    "duration": 22,
    "start_time": "2024-03-27T21:32:50.785Z"
   },
   {
    "duration": 94,
    "start_time": "2024-03-27T21:32:50.809Z"
   },
   {
    "duration": 2,
    "start_time": "2024-03-27T21:32:51.323Z"
   },
   {
    "duration": 3,
    "start_time": "2024-03-27T21:32:51.642Z"
   },
   {
    "duration": 149,
    "start_time": "2024-03-27T21:32:52.554Z"
   },
   {
    "duration": 159,
    "start_time": "2024-03-27T21:32:52.732Z"
   },
   {
    "duration": 52,
    "start_time": "2024-03-27T21:32:53.526Z"
   },
   {
    "duration": 4,
    "start_time": "2024-03-27T21:32:53.871Z"
   },
   {
    "duration": 36,
    "start_time": "2024-03-27T21:32:54.393Z"
   },
   {
    "duration": 256,
    "start_time": "2024-03-27T21:32:55.290Z"
   },
   {
    "duration": 26,
    "start_time": "2024-03-27T21:33:10.952Z"
   },
   {
    "duration": 17,
    "start_time": "2024-03-27T21:33:14.969Z"
   },
   {
    "duration": 928,
    "start_time": "2024-03-27T21:33:30.630Z"
   },
   {
    "duration": 22,
    "start_time": "2024-03-27T21:33:38.213Z"
   },
   {
    "duration": 123,
    "start_time": "2024-03-27T21:34:20.108Z"
   },
   {
    "duration": 16,
    "start_time": "2024-03-27T21:34:26.226Z"
   },
   {
    "duration": 106,
    "start_time": "2024-03-27T21:35:21.594Z"
   },
   {
    "duration": 32,
    "start_time": "2024-03-27T21:36:33.677Z"
   },
   {
    "duration": 37,
    "start_time": "2024-03-27T21:36:49.028Z"
   },
   {
    "duration": 32,
    "start_time": "2024-03-27T21:36:57.409Z"
   },
   {
    "duration": 38,
    "start_time": "2024-03-27T21:37:46.140Z"
   },
   {
    "duration": 32,
    "start_time": "2024-03-27T21:38:36.603Z"
   },
   {
    "duration": 121,
    "start_time": "2024-03-27T21:38:55.237Z"
   },
   {
    "duration": 11,
    "start_time": "2024-03-27T21:39:02.090Z"
   },
   {
    "duration": 3027,
    "start_time": "2024-03-27T21:39:32.645Z"
   },
   {
    "duration": 3,
    "start_time": "2024-03-27T21:39:35.674Z"
   },
   {
    "duration": 66,
    "start_time": "2024-03-27T21:39:35.679Z"
   },
   {
    "duration": 912,
    "start_time": "2024-03-27T21:39:35.746Z"
   },
   {
    "duration": 865,
    "start_time": "2024-03-27T21:39:58.311Z"
   },
   {
    "duration": 124,
    "start_time": "2024-03-27T21:39:59.968Z"
   },
   {
    "duration": 4,
    "start_time": "2024-03-27T21:40:09.264Z"
   },
   {
    "duration": 43,
    "start_time": "2024-03-27T21:40:41.425Z"
   },
   {
    "duration": 47,
    "start_time": "2024-03-27T21:42:14.099Z"
   },
   {
    "duration": 42,
    "start_time": "2024-03-27T21:44:06.508Z"
   },
   {
    "duration": 48,
    "start_time": "2024-03-27T21:44:43.149Z"
   },
   {
    "duration": 42,
    "start_time": "2024-03-27T21:44:44.317Z"
   },
   {
    "duration": 38,
    "start_time": "2024-03-27T21:45:36.352Z"
   },
   {
    "duration": 49,
    "start_time": "2024-03-27T21:49:02.365Z"
   },
   {
    "duration": 28,
    "start_time": "2024-03-27T21:49:24.315Z"
   },
   {
    "duration": 22,
    "start_time": "2024-03-27T21:50:17.723Z"
   },
   {
    "duration": 15,
    "start_time": "2024-03-27T21:55:08.423Z"
   },
   {
    "duration": 4,
    "start_time": "2024-03-27T21:56:50.641Z"
   },
   {
    "duration": 2946,
    "start_time": "2024-03-27T21:57:04.869Z"
   },
   {
    "duration": 3,
    "start_time": "2024-03-27T21:57:07.818Z"
   },
   {
    "duration": 1300,
    "start_time": "2024-03-27T21:57:07.822Z"
   },
   {
    "duration": 896,
    "start_time": "2024-03-27T21:57:09.124Z"
   },
   {
    "duration": 16,
    "start_time": "2024-03-27T21:57:10.022Z"
   },
   {
    "duration": 127,
    "start_time": "2024-03-27T21:57:10.040Z"
   },
   {
    "duration": 0,
    "start_time": "2024-03-27T21:57:10.171Z"
   },
   {
    "duration": 0,
    "start_time": "2024-03-27T21:57:10.173Z"
   },
   {
    "duration": 0,
    "start_time": "2024-03-27T21:57:10.174Z"
   },
   {
    "duration": 0,
    "start_time": "2024-03-27T21:57:10.182Z"
   },
   {
    "duration": 0,
    "start_time": "2024-03-27T21:57:10.183Z"
   },
   {
    "duration": 1,
    "start_time": "2024-03-27T21:57:10.184Z"
   },
   {
    "duration": 0,
    "start_time": "2024-03-27T21:57:10.186Z"
   },
   {
    "duration": 0,
    "start_time": "2024-03-27T21:57:10.188Z"
   },
   {
    "duration": 0,
    "start_time": "2024-03-27T21:57:10.190Z"
   },
   {
    "duration": 0,
    "start_time": "2024-03-27T21:57:10.191Z"
   },
   {
    "duration": 0,
    "start_time": "2024-03-27T21:57:10.192Z"
   },
   {
    "duration": 0,
    "start_time": "2024-03-27T21:57:10.194Z"
   },
   {
    "duration": 0,
    "start_time": "2024-03-27T21:57:10.195Z"
   },
   {
    "duration": 0,
    "start_time": "2024-03-27T21:57:10.197Z"
   },
   {
    "duration": 0,
    "start_time": "2024-03-27T21:57:10.198Z"
   },
   {
    "duration": 0,
    "start_time": "2024-03-27T21:57:10.199Z"
   },
   {
    "duration": 0,
    "start_time": "2024-03-27T21:57:10.201Z"
   },
   {
    "duration": 0,
    "start_time": "2024-03-27T21:57:10.202Z"
   },
   {
    "duration": 0,
    "start_time": "2024-03-27T21:57:10.204Z"
   },
   {
    "duration": 0,
    "start_time": "2024-03-27T21:57:10.205Z"
   },
   {
    "duration": 0,
    "start_time": "2024-03-27T21:57:10.206Z"
   },
   {
    "duration": 0,
    "start_time": "2024-03-27T21:57:10.208Z"
   },
   {
    "duration": 0,
    "start_time": "2024-03-27T21:57:10.209Z"
   },
   {
    "duration": 0,
    "start_time": "2024-03-27T21:57:10.210Z"
   },
   {
    "duration": 0,
    "start_time": "2024-03-27T21:57:10.210Z"
   },
   {
    "duration": 0,
    "start_time": "2024-03-27T21:57:10.211Z"
   },
   {
    "duration": 0,
    "start_time": "2024-03-27T21:57:10.213Z"
   },
   {
    "duration": 0,
    "start_time": "2024-03-27T21:57:10.214Z"
   },
   {
    "duration": 0,
    "start_time": "2024-03-27T21:57:10.216Z"
   },
   {
    "duration": 0,
    "start_time": "2024-03-27T21:57:10.217Z"
   },
   {
    "duration": 0,
    "start_time": "2024-03-27T21:57:10.218Z"
   },
   {
    "duration": 0,
    "start_time": "2024-03-27T21:57:10.219Z"
   },
   {
    "duration": 0,
    "start_time": "2024-03-27T21:57:10.220Z"
   },
   {
    "duration": 0,
    "start_time": "2024-03-27T21:57:10.283Z"
   },
   {
    "duration": 0,
    "start_time": "2024-03-27T21:57:10.285Z"
   },
   {
    "duration": 0,
    "start_time": "2024-03-27T21:57:10.286Z"
   },
   {
    "duration": 0,
    "start_time": "2024-03-27T21:57:10.287Z"
   },
   {
    "duration": 0,
    "start_time": "2024-03-27T21:57:10.289Z"
   },
   {
    "duration": 0,
    "start_time": "2024-03-27T21:57:10.290Z"
   },
   {
    "duration": 0,
    "start_time": "2024-03-27T21:57:10.291Z"
   },
   {
    "duration": 0,
    "start_time": "2024-03-27T21:57:10.292Z"
   },
   {
    "duration": 0,
    "start_time": "2024-03-27T21:57:10.294Z"
   },
   {
    "duration": 0,
    "start_time": "2024-03-27T21:57:10.295Z"
   },
   {
    "duration": 0,
    "start_time": "2024-03-27T21:57:10.297Z"
   },
   {
    "duration": 0,
    "start_time": "2024-03-27T21:57:10.298Z"
   },
   {
    "duration": 0,
    "start_time": "2024-03-27T21:57:10.299Z"
   },
   {
    "duration": 0,
    "start_time": "2024-03-27T21:57:10.301Z"
   },
   {
    "duration": 0,
    "start_time": "2024-03-27T21:57:10.302Z"
   },
   {
    "duration": 0,
    "start_time": "2024-03-27T21:57:10.303Z"
   },
   {
    "duration": 0,
    "start_time": "2024-03-27T21:57:10.304Z"
   },
   {
    "duration": 0,
    "start_time": "2024-03-27T21:57:10.306Z"
   },
   {
    "duration": 0,
    "start_time": "2024-03-27T21:57:10.307Z"
   },
   {
    "duration": 0,
    "start_time": "2024-03-27T21:57:10.308Z"
   },
   {
    "duration": 0,
    "start_time": "2024-03-27T21:57:10.310Z"
   },
   {
    "duration": 0,
    "start_time": "2024-03-27T21:57:10.311Z"
   },
   {
    "duration": 0,
    "start_time": "2024-03-27T21:57:10.312Z"
   },
   {
    "duration": 0,
    "start_time": "2024-03-27T21:57:10.313Z"
   },
   {
    "duration": 0,
    "start_time": "2024-03-27T21:57:10.314Z"
   },
   {
    "duration": 0,
    "start_time": "2024-03-27T21:57:10.315Z"
   },
   {
    "duration": 0,
    "start_time": "2024-03-27T21:57:10.316Z"
   },
   {
    "duration": 0,
    "start_time": "2024-03-27T21:57:10.317Z"
   },
   {
    "duration": 0,
    "start_time": "2024-03-27T21:57:10.318Z"
   },
   {
    "duration": 0,
    "start_time": "2024-03-27T21:57:10.319Z"
   },
   {
    "duration": 136,
    "start_time": "2024-03-27T21:58:11.456Z"
   },
   {
    "duration": 2986,
    "start_time": "2024-03-27T21:58:18.763Z"
   },
   {
    "duration": 4,
    "start_time": "2024-03-27T21:58:21.752Z"
   },
   {
    "duration": 1369,
    "start_time": "2024-03-27T21:58:21.757Z"
   },
   {
    "duration": 909,
    "start_time": "2024-03-27T21:58:23.128Z"
   },
   {
    "duration": 17,
    "start_time": "2024-03-27T21:58:24.039Z"
   },
   {
    "duration": 158,
    "start_time": "2024-03-27T21:58:24.058Z"
   },
   {
    "duration": 58,
    "start_time": "2024-03-27T21:58:24.218Z"
   },
   {
    "duration": 6,
    "start_time": "2024-03-27T21:58:24.278Z"
   },
   {
    "duration": 5,
    "start_time": "2024-03-27T21:58:24.286Z"
   },
   {
    "duration": 38,
    "start_time": "2024-03-27T21:58:24.292Z"
   },
   {
    "duration": 123,
    "start_time": "2024-03-27T21:58:24.331Z"
   },
   {
    "duration": 338,
    "start_time": "2024-03-27T21:58:24.456Z"
   },
   {
    "duration": 3,
    "start_time": "2024-03-27T21:58:24.796Z"
   },
   {
    "duration": 4,
    "start_time": "2024-03-27T21:58:24.802Z"
   },
   {
    "duration": 311,
    "start_time": "2024-03-27T21:58:24.807Z"
   },
   {
    "duration": 19,
    "start_time": "2024-03-27T21:58:25.120Z"
   },
   {
    "duration": 85,
    "start_time": "2024-03-27T21:58:25.140Z"
   },
   {
    "duration": 536,
    "start_time": "2024-03-27T21:58:25.227Z"
   },
   {
    "duration": 24,
    "start_time": "2024-03-27T21:58:25.765Z"
   },
   {
    "duration": 100,
    "start_time": "2024-03-27T21:58:25.790Z"
   },
   {
    "duration": 7,
    "start_time": "2024-03-27T21:58:25.892Z"
   },
   {
    "duration": 11,
    "start_time": "2024-03-27T21:58:25.900Z"
   },
   {
    "duration": 152,
    "start_time": "2024-03-27T21:58:25.913Z"
   },
   {
    "duration": 167,
    "start_time": "2024-03-27T21:58:26.067Z"
   },
   {
    "duration": 63,
    "start_time": "2024-03-27T21:58:26.235Z"
   },
   {
    "duration": 3,
    "start_time": "2024-03-27T21:58:26.300Z"
   },
   {
    "duration": 23,
    "start_time": "2024-03-27T21:58:26.305Z"
   },
   {
    "duration": 1236,
    "start_time": "2024-03-27T21:58:26.330Z"
   },
   {
    "duration": 0,
    "start_time": "2024-03-27T21:58:27.568Z"
   },
   {
    "duration": 0,
    "start_time": "2024-03-27T21:58:27.569Z"
   },
   {
    "duration": 0,
    "start_time": "2024-03-27T21:58:27.571Z"
   },
   {
    "duration": 0,
    "start_time": "2024-03-27T21:58:27.572Z"
   },
   {
    "duration": 0,
    "start_time": "2024-03-27T21:58:27.573Z"
   },
   {
    "duration": 0,
    "start_time": "2024-03-27T21:58:27.574Z"
   },
   {
    "duration": 0,
    "start_time": "2024-03-27T21:58:27.576Z"
   },
   {
    "duration": 0,
    "start_time": "2024-03-27T21:58:27.577Z"
   },
   {
    "duration": 0,
    "start_time": "2024-03-27T21:58:27.578Z"
   },
   {
    "duration": 0,
    "start_time": "2024-03-27T21:58:27.579Z"
   },
   {
    "duration": 0,
    "start_time": "2024-03-27T21:58:27.580Z"
   },
   {
    "duration": 0,
    "start_time": "2024-03-27T21:58:27.581Z"
   },
   {
    "duration": 0,
    "start_time": "2024-03-27T21:58:27.582Z"
   },
   {
    "duration": 0,
    "start_time": "2024-03-27T21:58:27.583Z"
   },
   {
    "duration": 0,
    "start_time": "2024-03-27T21:58:27.584Z"
   },
   {
    "duration": 0,
    "start_time": "2024-03-27T21:58:27.585Z"
   },
   {
    "duration": 0,
    "start_time": "2024-03-27T21:58:27.586Z"
   },
   {
    "duration": 0,
    "start_time": "2024-03-27T21:58:27.587Z"
   },
   {
    "duration": 0,
    "start_time": "2024-03-27T21:58:27.588Z"
   },
   {
    "duration": 0,
    "start_time": "2024-03-27T21:58:27.589Z"
   },
   {
    "duration": 0,
    "start_time": "2024-03-27T21:58:27.590Z"
   },
   {
    "duration": 0,
    "start_time": "2024-03-27T21:58:27.591Z"
   },
   {
    "duration": 0,
    "start_time": "2024-03-27T21:58:27.592Z"
   },
   {
    "duration": 0,
    "start_time": "2024-03-27T21:58:27.593Z"
   },
   {
    "duration": 0,
    "start_time": "2024-03-27T21:58:27.594Z"
   },
   {
    "duration": 0,
    "start_time": "2024-03-27T21:58:27.595Z"
   },
   {
    "duration": 0,
    "start_time": "2024-03-27T21:58:27.596Z"
   },
   {
    "duration": 0,
    "start_time": "2024-03-27T21:58:27.597Z"
   },
   {
    "duration": 0,
    "start_time": "2024-03-27T21:58:27.598Z"
   },
   {
    "duration": 0,
    "start_time": "2024-03-27T21:58:27.599Z"
   },
   {
    "duration": 0,
    "start_time": "2024-03-27T21:58:27.600Z"
   },
   {
    "duration": 0,
    "start_time": "2024-03-27T21:58:27.601Z"
   },
   {
    "duration": 0,
    "start_time": "2024-03-27T21:58:27.603Z"
   },
   {
    "duration": 0,
    "start_time": "2024-03-27T21:58:27.603Z"
   },
   {
    "duration": 0,
    "start_time": "2024-03-27T21:58:27.604Z"
   },
   {
    "duration": 0,
    "start_time": "2024-03-27T21:58:27.605Z"
   },
   {
    "duration": 0,
    "start_time": "2024-03-27T21:58:27.606Z"
   },
   {
    "duration": 0,
    "start_time": "2024-03-27T21:58:27.607Z"
   },
   {
    "duration": 0,
    "start_time": "2024-03-27T21:58:27.608Z"
   },
   {
    "duration": 0,
    "start_time": "2024-03-27T21:58:27.609Z"
   },
   {
    "duration": 0,
    "start_time": "2024-03-27T21:58:27.610Z"
   },
   {
    "duration": 13,
    "start_time": "2024-03-27T21:59:19.036Z"
   },
   {
    "duration": 937,
    "start_time": "2024-03-27T21:59:47.160Z"
   },
   {
    "duration": 83,
    "start_time": "2024-03-27T22:00:07.339Z"
   },
   {
    "duration": 4,
    "start_time": "2024-03-27T22:00:31.088Z"
   },
   {
    "duration": 2931,
    "start_time": "2024-03-27T22:00:48.321Z"
   },
   {
    "duration": 2,
    "start_time": "2024-03-27T22:00:51.255Z"
   },
   {
    "duration": 1336,
    "start_time": "2024-03-27T22:00:51.259Z"
   },
   {
    "duration": 932,
    "start_time": "2024-03-27T22:00:52.597Z"
   },
   {
    "duration": 16,
    "start_time": "2024-03-27T22:00:53.531Z"
   },
   {
    "duration": 145,
    "start_time": "2024-03-27T22:00:53.548Z"
   },
   {
    "duration": 51,
    "start_time": "2024-03-27T22:00:53.695Z"
   },
   {
    "duration": 4,
    "start_time": "2024-03-27T22:00:53.747Z"
   },
   {
    "duration": 2,
    "start_time": "2024-03-27T22:00:53.753Z"
   },
   {
    "duration": 56,
    "start_time": "2024-03-27T22:00:53.758Z"
   },
   {
    "duration": 140,
    "start_time": "2024-03-27T22:00:53.815Z"
   },
   {
    "duration": 362,
    "start_time": "2024-03-27T22:00:53.957Z"
   },
   {
    "duration": 3,
    "start_time": "2024-03-27T22:00:54.321Z"
   },
   {
    "duration": 5,
    "start_time": "2024-03-27T22:00:54.326Z"
   },
   {
    "duration": 316,
    "start_time": "2024-03-27T22:00:54.332Z"
   },
   {
    "duration": 20,
    "start_time": "2024-03-27T22:00:54.650Z"
   },
   {
    "duration": 69,
    "start_time": "2024-03-27T22:00:54.681Z"
   },
   {
    "duration": 507,
    "start_time": "2024-03-27T22:00:54.752Z"
   },
   {
    "duration": 23,
    "start_time": "2024-03-27T22:00:55.261Z"
   },
   {
    "duration": 102,
    "start_time": "2024-03-27T22:00:55.286Z"
   },
   {
    "duration": 2,
    "start_time": "2024-03-27T22:00:55.390Z"
   },
   {
    "duration": 3,
    "start_time": "2024-03-27T22:00:55.394Z"
   },
   {
    "duration": 164,
    "start_time": "2024-03-27T22:00:55.399Z"
   },
   {
    "duration": 191,
    "start_time": "2024-03-27T22:00:55.564Z"
   },
   {
    "duration": 65,
    "start_time": "2024-03-27T22:00:55.757Z"
   },
   {
    "duration": 3,
    "start_time": "2024-03-27T22:00:55.824Z"
   },
   {
    "duration": 29,
    "start_time": "2024-03-27T22:00:55.828Z"
   },
   {
    "duration": 20,
    "start_time": "2024-03-27T22:00:55.863Z"
   },
   {
    "duration": 20,
    "start_time": "2024-03-27T22:00:55.884Z"
   },
   {
    "duration": 16,
    "start_time": "2024-03-27T22:00:55.906Z"
   },
   {
    "duration": 260,
    "start_time": "2024-03-27T22:00:55.924Z"
   },
   {
    "duration": 21,
    "start_time": "2024-03-27T22:00:56.186Z"
   },
   {
    "duration": 236,
    "start_time": "2024-03-27T22:00:56.208Z"
   },
   {
    "duration": 301,
    "start_time": "2024-03-27T22:00:56.446Z"
   },
   {
    "duration": 19,
    "start_time": "2024-03-27T22:00:56.748Z"
   },
   {
    "duration": 248,
    "start_time": "2024-03-27T22:00:56.768Z"
   },
   {
    "duration": 3,
    "start_time": "2024-03-27T22:00:57.018Z"
   },
   {
    "duration": 13,
    "start_time": "2024-03-27T22:00:57.022Z"
   },
   {
    "duration": 75,
    "start_time": "2024-03-27T22:00:57.036Z"
   },
   {
    "duration": 3,
    "start_time": "2024-03-27T22:00:57.113Z"
   },
   {
    "duration": 15,
    "start_time": "2024-03-27T22:00:57.117Z"
   },
   {
    "duration": 11,
    "start_time": "2024-03-27T22:00:57.133Z"
   },
   {
    "duration": 5,
    "start_time": "2024-03-27T22:00:57.145Z"
   },
   {
    "duration": 4,
    "start_time": "2024-03-27T22:00:57.152Z"
   },
   {
    "duration": 698,
    "start_time": "2024-03-27T22:00:57.157Z"
   },
   {
    "duration": 3,
    "start_time": "2024-03-27T22:00:57.856Z"
   },
   {
    "duration": 11,
    "start_time": "2024-03-27T22:00:57.861Z"
   },
   {
    "duration": 9,
    "start_time": "2024-03-27T22:00:57.873Z"
   },
   {
    "duration": 4,
    "start_time": "2024-03-27T22:00:57.883Z"
   },
   {
    "duration": 36499,
    "start_time": "2024-03-27T22:00:57.888Z"
   },
   {
    "duration": 3,
    "start_time": "2024-03-27T22:01:34.389Z"
   },
   {
    "duration": 395,
    "start_time": "2024-03-27T22:01:34.394Z"
   },
   {
    "duration": 8,
    "start_time": "2024-03-27T22:01:34.791Z"
   },
   {
    "duration": 6,
    "start_time": "2024-03-27T22:01:34.801Z"
   },
   {
    "duration": 91532,
    "start_time": "2024-03-27T22:01:34.809Z"
   },
   {
    "duration": 4,
    "start_time": "2024-03-27T22:03:06.343Z"
   },
   {
    "duration": 2561,
    "start_time": "2024-03-27T22:03:06.348Z"
   },
   {
    "duration": 19,
    "start_time": "2024-03-27T22:03:08.911Z"
   },
   {
    "duration": 5,
    "start_time": "2024-03-27T22:03:08.931Z"
   },
   {
    "duration": 8,
    "start_time": "2024-03-27T22:03:08.938Z"
   },
   {
    "duration": 189136,
    "start_time": "2024-03-27T22:03:08.948Z"
   },
   {
    "duration": 104,
    "start_time": "2024-03-27T22:06:18.085Z"
   },
   {
    "duration": 5,
    "start_time": "2024-03-27T22:06:18.191Z"
   },
   {
    "duration": 3,
    "start_time": "2024-03-27T22:06:18.197Z"
   },
   {
    "duration": 9,
    "start_time": "2024-03-27T22:06:18.202Z"
   },
   {
    "duration": 69,
    "start_time": "2024-03-27T22:06:18.212Z"
   },
   {
    "duration": 5,
    "start_time": "2024-03-27T22:06:18.283Z"
   },
   {
    "duration": 11,
    "start_time": "2024-03-27T22:06:18.289Z"
   },
   {
    "duration": 32,
    "start_time": "2024-03-27T22:06:18.302Z"
   },
   {
    "duration": 3,
    "start_time": "2024-03-27T22:13:19.560Z"
   },
   {
    "duration": 112,
    "start_time": "2024-03-27T22:13:29.489Z"
   },
   {
    "duration": 89,
    "start_time": "2024-03-27T22:13:38.998Z"
   },
   {
    "duration": 9,
    "start_time": "2024-03-27T22:14:29.092Z"
   },
   {
    "duration": 6,
    "start_time": "2024-03-27T22:14:37.693Z"
   },
   {
    "duration": 2966,
    "start_time": "2024-03-27T22:15:51.308Z"
   },
   {
    "duration": 3,
    "start_time": "2024-03-27T22:15:54.277Z"
   },
   {
    "duration": 1336,
    "start_time": "2024-03-27T22:15:54.281Z"
   },
   {
    "duration": 930,
    "start_time": "2024-03-27T22:15:55.619Z"
   },
   {
    "duration": 17,
    "start_time": "2024-03-27T22:15:56.551Z"
   },
   {
    "duration": 147,
    "start_time": "2024-03-27T22:15:56.570Z"
   },
   {
    "duration": 54,
    "start_time": "2024-03-27T22:15:56.719Z"
   },
   {
    "duration": 11,
    "start_time": "2024-03-27T22:15:56.774Z"
   },
   {
    "duration": 5,
    "start_time": "2024-03-27T22:15:56.787Z"
   },
   {
    "duration": 44,
    "start_time": "2024-03-27T22:15:56.795Z"
   },
   {
    "duration": 160,
    "start_time": "2024-03-27T22:15:56.841Z"
   },
   {
    "duration": 327,
    "start_time": "2024-03-27T22:15:57.002Z"
   },
   {
    "duration": 4,
    "start_time": "2024-03-27T22:15:57.331Z"
   },
   {
    "duration": 4,
    "start_time": "2024-03-27T22:15:57.336Z"
   },
   {
    "duration": 313,
    "start_time": "2024-03-27T22:15:57.341Z"
   },
   {
    "duration": 19,
    "start_time": "2024-03-27T22:15:57.656Z"
   },
   {
    "duration": 72,
    "start_time": "2024-03-27T22:15:57.682Z"
   },
   {
    "duration": 537,
    "start_time": "2024-03-27T22:15:57.756Z"
   },
   {
    "duration": 33,
    "start_time": "2024-03-27T22:15:58.295Z"
   },
   {
    "duration": 103,
    "start_time": "2024-03-27T22:15:58.330Z"
   },
   {
    "duration": 3,
    "start_time": "2024-03-27T22:15:58.434Z"
   },
   {
    "duration": 3,
    "start_time": "2024-03-27T22:15:58.438Z"
   },
   {
    "duration": 170,
    "start_time": "2024-03-27T22:15:58.443Z"
   },
   {
    "duration": 173,
    "start_time": "2024-03-27T22:15:58.615Z"
   },
   {
    "duration": 54,
    "start_time": "2024-03-27T22:15:58.789Z"
   },
   {
    "duration": 3,
    "start_time": "2024-03-27T22:15:58.844Z"
   },
   {
    "duration": 37,
    "start_time": "2024-03-27T22:15:58.848Z"
   },
   {
    "duration": 5,
    "start_time": "2024-03-27T22:15:58.889Z"
   },
   {
    "duration": 20,
    "start_time": "2024-03-27T22:15:58.896Z"
   },
   {
    "duration": 15,
    "start_time": "2024-03-27T22:15:58.918Z"
   },
   {
    "duration": 261,
    "start_time": "2024-03-27T22:15:58.935Z"
   },
   {
    "duration": 19,
    "start_time": "2024-03-27T22:15:59.198Z"
   },
   {
    "duration": 231,
    "start_time": "2024-03-27T22:15:59.219Z"
   },
   {
    "duration": 333,
    "start_time": "2024-03-27T22:15:59.452Z"
   },
   {
    "duration": 19,
    "start_time": "2024-03-27T22:15:59.787Z"
   },
   {
    "duration": 266,
    "start_time": "2024-03-27T22:15:59.808Z"
   },
   {
    "duration": 7,
    "start_time": "2024-03-27T22:16:00.075Z"
   },
   {
    "duration": 46,
    "start_time": "2024-03-27T22:16:00.083Z"
   },
   {
    "duration": 90,
    "start_time": "2024-03-27T22:16:00.130Z"
   },
   {
    "duration": 2,
    "start_time": "2024-03-27T22:16:00.222Z"
   },
   {
    "duration": 50,
    "start_time": "2024-03-27T22:16:00.226Z"
   },
   {
    "duration": 113,
    "start_time": "2024-03-27T22:16:00.278Z"
   },
   {
    "duration": 77,
    "start_time": "2024-03-27T22:16:00.393Z"
   },
   {
    "duration": 43,
    "start_time": "2024-03-27T22:16:00.472Z"
   },
   {
    "duration": 808,
    "start_time": "2024-03-27T22:16:00.516Z"
   },
   {
    "duration": 3,
    "start_time": "2024-03-27T22:16:01.326Z"
   },
   {
    "duration": 89,
    "start_time": "2024-03-27T22:16:01.331Z"
   },
   {
    "duration": 69,
    "start_time": "2024-03-27T22:16:01.422Z"
   },
   {
    "duration": 59,
    "start_time": "2024-03-27T22:16:01.493Z"
   },
   {
    "duration": 39051,
    "start_time": "2024-03-27T22:16:01.554Z"
   },
   {
    "duration": 2,
    "start_time": "2024-03-27T22:16:40.607Z"
   },
   {
    "duration": 38367,
    "start_time": "2024-03-27T22:16:40.611Z"
   },
   {
    "duration": 3,
    "start_time": "2024-03-27T22:17:18.980Z"
   },
   {
    "duration": 98,
    "start_time": "2024-03-27T22:17:18.985Z"
   },
   {
    "duration": 5,
    "start_time": "2024-03-27T22:17:19.084Z"
   },
   {
    "duration": 90836,
    "start_time": "2024-03-27T22:17:19.091Z"
   },
   {
    "duration": 4,
    "start_time": "2024-03-27T22:18:49.930Z"
   },
   {
    "duration": 2508,
    "start_time": "2024-03-27T22:18:49.936Z"
   },
   {
    "duration": 4,
    "start_time": "2024-03-27T22:18:52.477Z"
   },
   {
    "duration": 2971,
    "start_time": "2024-03-27T22:22:59.634Z"
   },
   {
    "duration": 3,
    "start_time": "2024-03-27T22:23:02.607Z"
   },
   {
    "duration": 1323,
    "start_time": "2024-03-27T22:23:02.612Z"
   },
   {
    "duration": 940,
    "start_time": "2024-03-27T22:23:03.938Z"
   },
   {
    "duration": 17,
    "start_time": "2024-03-27T22:23:04.879Z"
   },
   {
    "duration": 147,
    "start_time": "2024-03-27T22:23:04.899Z"
   },
   {
    "duration": 57,
    "start_time": "2024-03-27T22:23:05.048Z"
   },
   {
    "duration": 4,
    "start_time": "2024-03-27T22:23:05.107Z"
   },
   {
    "duration": 16,
    "start_time": "2024-03-27T22:23:05.112Z"
   },
   {
    "duration": 38,
    "start_time": "2024-03-27T22:23:05.131Z"
   },
   {
    "duration": 124,
    "start_time": "2024-03-27T22:23:05.170Z"
   },
   {
    "duration": 336,
    "start_time": "2024-03-27T22:23:05.296Z"
   },
   {
    "duration": 3,
    "start_time": "2024-03-27T22:23:05.634Z"
   },
   {
    "duration": 15,
    "start_time": "2024-03-27T22:23:05.639Z"
   },
   {
    "duration": 320,
    "start_time": "2024-03-27T22:23:05.655Z"
   },
   {
    "duration": 25,
    "start_time": "2024-03-27T22:23:05.977Z"
   },
   {
    "duration": 72,
    "start_time": "2024-03-27T22:23:06.003Z"
   },
   {
    "duration": 516,
    "start_time": "2024-03-27T22:23:06.077Z"
   },
   {
    "duration": 22,
    "start_time": "2024-03-27T22:23:06.595Z"
   },
   {
    "duration": 97,
    "start_time": "2024-03-27T22:23:06.619Z"
   },
   {
    "duration": 2,
    "start_time": "2024-03-27T22:23:06.718Z"
   },
   {
    "duration": 4,
    "start_time": "2024-03-27T22:23:06.722Z"
   },
   {
    "duration": 158,
    "start_time": "2024-03-27T22:23:06.727Z"
   },
   {
    "duration": 165,
    "start_time": "2024-03-27T22:23:06.887Z"
   },
   {
    "duration": 83,
    "start_time": "2024-03-27T22:23:07.054Z"
   },
   {
    "duration": 3,
    "start_time": "2024-03-27T22:23:07.139Z"
   },
   {
    "duration": 105,
    "start_time": "2024-03-27T22:23:07.144Z"
   },
   {
    "duration": 29,
    "start_time": "2024-03-27T22:23:07.253Z"
   },
   {
    "duration": 39,
    "start_time": "2024-03-27T22:23:07.283Z"
   },
   {
    "duration": 16,
    "start_time": "2024-03-27T22:23:07.324Z"
   },
   {
    "duration": 275,
    "start_time": "2024-03-27T22:23:07.342Z"
   },
   {
    "duration": 21,
    "start_time": "2024-03-27T22:23:07.618Z"
   },
   {
    "duration": 235,
    "start_time": "2024-03-27T22:23:07.640Z"
   },
   {
    "duration": 320,
    "start_time": "2024-03-27T22:23:07.877Z"
   },
   {
    "duration": 19,
    "start_time": "2024-03-27T22:23:08.199Z"
   },
   {
    "duration": 244,
    "start_time": "2024-03-27T22:23:08.220Z"
   },
   {
    "duration": 3,
    "start_time": "2024-03-27T22:23:08.465Z"
   },
   {
    "duration": 21,
    "start_time": "2024-03-27T22:23:08.469Z"
   },
   {
    "duration": 56,
    "start_time": "2024-03-27T22:23:08.492Z"
   },
   {
    "duration": 3,
    "start_time": "2024-03-27T22:23:08.550Z"
   },
   {
    "duration": 5,
    "start_time": "2024-03-27T22:23:08.554Z"
   },
   {
    "duration": 22,
    "start_time": "2024-03-27T22:23:08.560Z"
   },
   {
    "duration": 22,
    "start_time": "2024-03-27T22:23:08.584Z"
   },
   {
    "duration": 7,
    "start_time": "2024-03-27T22:23:08.608Z"
   },
   {
    "duration": 709,
    "start_time": "2024-03-27T22:23:08.617Z"
   },
   {
    "duration": 3,
    "start_time": "2024-03-27T22:23:09.328Z"
   },
   {
    "duration": 9,
    "start_time": "2024-03-27T22:23:09.332Z"
   },
   {
    "duration": 4,
    "start_time": "2024-03-27T22:23:09.342Z"
   },
   {
    "duration": 4,
    "start_time": "2024-03-27T22:23:09.347Z"
   },
   {
    "duration": 38404,
    "start_time": "2024-03-27T22:23:09.352Z"
   },
   {
    "duration": 35970,
    "start_time": "2024-03-27T22:23:47.758Z"
   },
   {
    "duration": 3,
    "start_time": "2024-03-27T22:24:23.729Z"
   },
   {
    "duration": 76,
    "start_time": "2024-03-27T22:24:23.733Z"
   },
   {
    "duration": 5,
    "start_time": "2024-03-27T22:24:23.810Z"
   },
   {
    "duration": 88791,
    "start_time": "2024-03-27T22:24:23.816Z"
   },
   {
    "duration": 3,
    "start_time": "2024-03-27T22:25:52.608Z"
   },
   {
    "duration": 2510,
    "start_time": "2024-03-27T22:25:52.612Z"
   },
   {
    "duration": 21,
    "start_time": "2024-03-27T22:25:55.123Z"
   },
   {
    "duration": 12,
    "start_time": "2024-03-27T22:25:55.145Z"
   },
   {
    "duration": 4,
    "start_time": "2024-03-27T22:25:55.159Z"
   },
   {
    "duration": 2910,
    "start_time": "2024-03-27T22:30:11.730Z"
   },
   {
    "duration": 3,
    "start_time": "2024-03-27T22:30:14.642Z"
   },
   {
    "duration": 1336,
    "start_time": "2024-03-27T22:30:14.647Z"
   },
   {
    "duration": 886,
    "start_time": "2024-03-27T22:30:15.985Z"
   },
   {
    "duration": 22,
    "start_time": "2024-03-27T22:30:16.873Z"
   },
   {
    "duration": 168,
    "start_time": "2024-03-27T22:30:16.897Z"
   },
   {
    "duration": 61,
    "start_time": "2024-03-27T22:30:17.067Z"
   },
   {
    "duration": 4,
    "start_time": "2024-03-27T22:30:17.129Z"
   },
   {
    "duration": 6,
    "start_time": "2024-03-27T22:30:17.135Z"
   },
   {
    "duration": 46,
    "start_time": "2024-03-27T22:30:17.145Z"
   },
   {
    "duration": 117,
    "start_time": "2024-03-27T22:30:17.193Z"
   },
   {
    "duration": 334,
    "start_time": "2024-03-27T22:30:17.312Z"
   },
   {
    "duration": 3,
    "start_time": "2024-03-27T22:30:17.647Z"
   },
   {
    "duration": 9,
    "start_time": "2024-03-27T22:30:17.652Z"
   },
   {
    "duration": 308,
    "start_time": "2024-03-27T22:30:17.663Z"
   },
   {
    "duration": 21,
    "start_time": "2024-03-27T22:30:17.973Z"
   },
   {
    "duration": 64,
    "start_time": "2024-03-27T22:30:17.996Z"
   },
   {
    "duration": 522,
    "start_time": "2024-03-27T22:30:18.062Z"
   },
   {
    "duration": 21,
    "start_time": "2024-03-27T22:30:18.585Z"
   },
   {
    "duration": 95,
    "start_time": "2024-03-27T22:30:18.608Z"
   },
   {
    "duration": 2,
    "start_time": "2024-03-27T22:30:18.704Z"
   },
   {
    "duration": 5,
    "start_time": "2024-03-27T22:30:18.708Z"
   },
   {
    "duration": 170,
    "start_time": "2024-03-27T22:30:18.714Z"
   },
   {
    "duration": 172,
    "start_time": "2024-03-27T22:30:18.886Z"
   },
   {
    "duration": 57,
    "start_time": "2024-03-27T22:30:19.060Z"
   },
   {
    "duration": 2,
    "start_time": "2024-03-27T22:30:19.119Z"
   },
   {
    "duration": 24,
    "start_time": "2024-03-27T22:30:19.122Z"
   },
   {
    "duration": 4,
    "start_time": "2024-03-27T22:30:19.150Z"
   },
   {
    "duration": 43,
    "start_time": "2024-03-27T22:30:19.156Z"
   },
   {
    "duration": 15,
    "start_time": "2024-03-27T22:30:19.201Z"
   },
   {
    "duration": 255,
    "start_time": "2024-03-27T22:30:19.217Z"
   },
   {
    "duration": 27,
    "start_time": "2024-03-27T22:30:19.474Z"
   },
   {
    "duration": 240,
    "start_time": "2024-03-27T22:30:19.503Z"
   },
   {
    "duration": 356,
    "start_time": "2024-03-27T22:30:19.744Z"
   },
   {
    "duration": 18,
    "start_time": "2024-03-27T22:30:20.101Z"
   },
   {
    "duration": 259,
    "start_time": "2024-03-27T22:30:20.121Z"
   },
   {
    "duration": 3,
    "start_time": "2024-03-27T22:30:20.381Z"
   },
   {
    "duration": 27,
    "start_time": "2024-03-27T22:30:20.385Z"
   },
   {
    "duration": 51,
    "start_time": "2024-03-27T22:30:20.414Z"
   },
   {
    "duration": 2,
    "start_time": "2024-03-27T22:30:20.467Z"
   },
   {
    "duration": 13,
    "start_time": "2024-03-27T22:30:20.471Z"
   },
   {
    "duration": 4,
    "start_time": "2024-03-27T22:30:20.485Z"
   },
   {
    "duration": 11,
    "start_time": "2024-03-27T22:30:20.490Z"
   },
   {
    "duration": 3,
    "start_time": "2024-03-27T22:30:20.503Z"
   },
   {
    "duration": 719,
    "start_time": "2024-03-27T22:30:20.507Z"
   },
   {
    "duration": 3,
    "start_time": "2024-03-27T22:30:21.227Z"
   },
   {
    "duration": 6,
    "start_time": "2024-03-27T22:30:21.232Z"
   },
   {
    "duration": 13,
    "start_time": "2024-03-27T22:30:21.239Z"
   },
   {
    "duration": 9,
    "start_time": "2024-03-27T22:30:21.254Z"
   },
   {
    "duration": 2939,
    "start_time": "2024-03-27T22:36:04.191Z"
   },
   {
    "duration": 3,
    "start_time": "2024-03-27T22:36:07.133Z"
   },
   {
    "duration": 1308,
    "start_time": "2024-03-27T22:36:07.137Z"
   },
   {
    "duration": 894,
    "start_time": "2024-03-27T22:36:08.447Z"
   },
   {
    "duration": 17,
    "start_time": "2024-03-27T22:36:09.343Z"
   },
   {
    "duration": 161,
    "start_time": "2024-03-27T22:36:09.361Z"
   },
   {
    "duration": 58,
    "start_time": "2024-03-27T22:36:09.524Z"
   },
   {
    "duration": 4,
    "start_time": "2024-03-27T22:36:09.584Z"
   },
   {
    "duration": 4,
    "start_time": "2024-03-27T22:36:09.589Z"
   },
   {
    "duration": 43,
    "start_time": "2024-03-27T22:36:09.595Z"
   },
   {
    "duration": 117,
    "start_time": "2024-03-27T22:36:09.639Z"
   },
   {
    "duration": 342,
    "start_time": "2024-03-27T22:36:09.757Z"
   },
   {
    "duration": 3,
    "start_time": "2024-03-27T22:36:10.101Z"
   },
   {
    "duration": 12,
    "start_time": "2024-03-27T22:36:10.106Z"
   },
   {
    "duration": 313,
    "start_time": "2024-03-27T22:36:10.120Z"
   },
   {
    "duration": 23,
    "start_time": "2024-03-27T22:36:10.435Z"
   },
   {
    "duration": 106,
    "start_time": "2024-03-27T22:36:10.459Z"
   },
   {
    "duration": 555,
    "start_time": "2024-03-27T22:36:10.567Z"
   },
   {
    "duration": 21,
    "start_time": "2024-03-27T22:36:11.124Z"
   },
   {
    "duration": 94,
    "start_time": "2024-03-27T22:36:11.146Z"
   },
   {
    "duration": 2,
    "start_time": "2024-03-27T22:36:11.241Z"
   },
   {
    "duration": 5,
    "start_time": "2024-03-27T22:36:11.245Z"
   },
   {
    "duration": 160,
    "start_time": "2024-03-27T22:36:11.251Z"
   },
   {
    "duration": 163,
    "start_time": "2024-03-27T22:36:11.412Z"
   },
   {
    "duration": 56,
    "start_time": "2024-03-27T22:36:11.577Z"
   },
   {
    "duration": 2,
    "start_time": "2024-03-27T22:36:11.635Z"
   },
   {
    "duration": 27,
    "start_time": "2024-03-27T22:36:11.638Z"
   },
   {
    "duration": 16,
    "start_time": "2024-03-27T22:36:11.669Z"
   },
   {
    "duration": 19,
    "start_time": "2024-03-27T22:36:11.686Z"
   },
   {
    "duration": 14,
    "start_time": "2024-03-27T22:36:11.706Z"
   },
   {
    "duration": 266,
    "start_time": "2024-03-27T22:36:11.722Z"
   },
   {
    "duration": 20,
    "start_time": "2024-03-27T22:36:11.989Z"
   },
   {
    "duration": 238,
    "start_time": "2024-03-27T22:36:12.011Z"
   },
   {
    "duration": 361,
    "start_time": "2024-03-27T22:36:12.250Z"
   },
   {
    "duration": 18,
    "start_time": "2024-03-27T22:36:12.613Z"
   },
   {
    "duration": 242,
    "start_time": "2024-03-27T22:36:12.632Z"
   },
   {
    "duration": 6,
    "start_time": "2024-03-27T22:36:12.876Z"
   },
   {
    "duration": 12,
    "start_time": "2024-03-27T22:36:12.884Z"
   },
   {
    "duration": 53,
    "start_time": "2024-03-27T22:36:12.897Z"
   },
   {
    "duration": 2,
    "start_time": "2024-03-27T22:36:12.952Z"
   },
   {
    "duration": 20,
    "start_time": "2024-03-27T22:36:12.956Z"
   },
   {
    "duration": 23,
    "start_time": "2024-03-27T22:36:12.978Z"
   },
   {
    "duration": 15,
    "start_time": "2024-03-27T22:36:13.003Z"
   },
   {
    "duration": 18,
    "start_time": "2024-03-27T22:36:13.019Z"
   },
   {
    "duration": 742,
    "start_time": "2024-03-27T22:36:13.040Z"
   },
   {
    "duration": 2,
    "start_time": "2024-03-27T22:36:13.784Z"
   },
   {
    "duration": 13,
    "start_time": "2024-03-27T22:36:13.788Z"
   },
   {
    "duration": 5,
    "start_time": "2024-03-27T22:36:13.803Z"
   },
   {
    "duration": 3,
    "start_time": "2024-03-27T22:36:13.810Z"
   },
   {
    "duration": 35098,
    "start_time": "2024-03-27T22:36:13.815Z"
   },
   {
    "duration": 37665,
    "start_time": "2024-03-27T22:36:48.915Z"
   },
   {
    "duration": 3,
    "start_time": "2024-03-27T22:37:26.582Z"
   },
   {
    "duration": 75,
    "start_time": "2024-03-27T22:37:26.586Z"
   },
   {
    "duration": 19,
    "start_time": "2024-03-27T22:37:26.663Z"
   },
   {
    "duration": 89230,
    "start_time": "2024-03-27T22:37:26.684Z"
   },
   {
    "duration": 3,
    "start_time": "2024-03-27T22:38:55.916Z"
   },
   {
    "duration": 2653,
    "start_time": "2024-03-27T22:38:55.921Z"
   },
   {
    "duration": 20,
    "start_time": "2024-03-27T22:38:58.576Z"
   },
   {
    "duration": 5,
    "start_time": "2024-03-27T22:38:58.597Z"
   },
   {
    "duration": 3,
    "start_time": "2024-03-27T22:38:58.604Z"
   },
   {
    "duration": 2983,
    "start_time": "2024-03-27T22:48:32.903Z"
   },
   {
    "duration": 3,
    "start_time": "2024-03-27T22:48:35.889Z"
   },
   {
    "duration": 1304,
    "start_time": "2024-03-27T22:48:35.893Z"
   },
   {
    "duration": 914,
    "start_time": "2024-03-27T22:48:37.198Z"
   },
   {
    "duration": 16,
    "start_time": "2024-03-27T22:48:38.114Z"
   },
   {
    "duration": 143,
    "start_time": "2024-03-27T22:48:38.132Z"
   },
   {
    "duration": 51,
    "start_time": "2024-03-27T22:48:38.281Z"
   },
   {
    "duration": 3,
    "start_time": "2024-03-27T22:48:38.334Z"
   },
   {
    "duration": 2,
    "start_time": "2024-03-27T22:48:38.339Z"
   },
   {
    "duration": 55,
    "start_time": "2024-03-27T22:48:38.343Z"
   },
   {
    "duration": 100,
    "start_time": "2024-03-27T22:48:38.399Z"
   },
   {
    "duration": 383,
    "start_time": "2024-03-27T22:48:38.501Z"
   },
   {
    "duration": 3,
    "start_time": "2024-03-27T22:48:38.886Z"
   },
   {
    "duration": 7,
    "start_time": "2024-03-27T22:48:38.893Z"
   },
   {
    "duration": 322,
    "start_time": "2024-03-27T22:48:38.902Z"
   },
   {
    "duration": 23,
    "start_time": "2024-03-27T22:48:39.226Z"
   },
   {
    "duration": 75,
    "start_time": "2024-03-27T22:48:39.251Z"
   },
   {
    "duration": 529,
    "start_time": "2024-03-27T22:48:39.327Z"
   },
   {
    "duration": 24,
    "start_time": "2024-03-27T22:48:39.858Z"
   },
   {
    "duration": 99,
    "start_time": "2024-03-27T22:48:39.884Z"
   },
   {
    "duration": 7,
    "start_time": "2024-03-27T22:48:39.985Z"
   },
   {
    "duration": 17,
    "start_time": "2024-03-27T22:48:39.993Z"
   },
   {
    "duration": 157,
    "start_time": "2024-03-27T22:48:40.011Z"
   },
   {
    "duration": 174,
    "start_time": "2024-03-27T22:48:40.170Z"
   },
   {
    "duration": 75,
    "start_time": "2024-03-27T22:48:40.346Z"
   },
   {
    "duration": 3,
    "start_time": "2024-03-27T22:48:40.423Z"
   },
   {
    "duration": 24,
    "start_time": "2024-03-27T22:48:40.427Z"
   },
   {
    "duration": 5,
    "start_time": "2024-03-27T22:48:40.453Z"
   },
   {
    "duration": 19,
    "start_time": "2024-03-27T22:48:40.482Z"
   },
   {
    "duration": 15,
    "start_time": "2024-03-27T22:48:40.503Z"
   },
   {
    "duration": 260,
    "start_time": "2024-03-27T22:48:40.520Z"
   },
   {
    "duration": 20,
    "start_time": "2024-03-27T22:48:40.782Z"
   },
   {
    "duration": 238,
    "start_time": "2024-03-27T22:48:40.803Z"
   },
   {
    "duration": 298,
    "start_time": "2024-03-27T22:48:41.042Z"
   },
   {
    "duration": 18,
    "start_time": "2024-03-27T22:48:41.341Z"
   },
   {
    "duration": 245,
    "start_time": "2024-03-27T22:48:41.361Z"
   },
   {
    "duration": 2,
    "start_time": "2024-03-27T22:48:41.608Z"
   },
   {
    "duration": 12,
    "start_time": "2024-03-27T22:48:41.612Z"
   },
   {
    "duration": 64,
    "start_time": "2024-03-27T22:48:41.626Z"
   },
   {
    "duration": 3,
    "start_time": "2024-03-27T22:48:41.691Z"
   },
   {
    "duration": 10,
    "start_time": "2024-03-27T22:48:41.698Z"
   },
   {
    "duration": 24,
    "start_time": "2024-03-27T22:48:41.710Z"
   },
   {
    "duration": 4,
    "start_time": "2024-03-27T22:48:41.736Z"
   },
   {
    "duration": 5,
    "start_time": "2024-03-27T22:48:41.741Z"
   },
   {
    "duration": 711,
    "start_time": "2024-03-27T22:48:41.748Z"
   },
   {
    "duration": 3,
    "start_time": "2024-03-27T22:48:42.461Z"
   },
   {
    "duration": 17,
    "start_time": "2024-03-27T22:48:42.465Z"
   },
   {
    "duration": 6,
    "start_time": "2024-03-27T22:48:42.483Z"
   },
   {
    "duration": 9,
    "start_time": "2024-03-27T22:48:42.490Z"
   },
   {
    "duration": 35240,
    "start_time": "2024-03-27T22:48:42.501Z"
   },
   {
    "duration": 38460,
    "start_time": "2024-03-27T22:49:17.743Z"
   },
   {
    "duration": 3,
    "start_time": "2024-03-27T22:49:56.205Z"
   },
   {
    "duration": 82,
    "start_time": "2024-03-27T22:49:56.209Z"
   },
   {
    "duration": 5,
    "start_time": "2024-03-27T22:49:56.293Z"
   },
   {
    "duration": 89876,
    "start_time": "2024-03-27T22:49:56.299Z"
   },
   {
    "duration": 3,
    "start_time": "2024-03-27T22:51:26.177Z"
   },
   {
    "duration": 2526,
    "start_time": "2024-03-27T22:51:26.182Z"
   },
   {
    "duration": 33,
    "start_time": "2024-03-27T22:51:28.710Z"
   },
   {
    "duration": 6,
    "start_time": "2024-03-27T22:51:28.745Z"
   },
   {
    "duration": 20,
    "start_time": "2024-03-27T22:51:28.753Z"
   },
   {
    "duration": 2845,
    "start_time": "2024-03-28T17:20:35.260Z"
   },
   {
    "duration": 3,
    "start_time": "2024-03-28T17:20:38.108Z"
   },
   {
    "duration": 1251,
    "start_time": "2024-03-28T17:20:38.112Z"
   },
   {
    "duration": 2939,
    "start_time": "2024-03-28T17:20:39.365Z"
   },
   {
    "duration": 16,
    "start_time": "2024-03-28T17:20:42.306Z"
   },
   {
    "duration": 143,
    "start_time": "2024-03-28T17:20:42.324Z"
   },
   {
    "duration": 53,
    "start_time": "2024-03-28T17:20:42.468Z"
   },
   {
    "duration": 4,
    "start_time": "2024-03-28T17:20:42.523Z"
   },
   {
    "duration": 3,
    "start_time": "2024-03-28T17:20:42.529Z"
   },
   {
    "duration": 54,
    "start_time": "2024-03-28T17:20:42.535Z"
   },
   {
    "duration": 134,
    "start_time": "2024-03-28T17:20:42.591Z"
   },
   {
    "duration": 345,
    "start_time": "2024-03-28T17:20:42.726Z"
   },
   {
    "duration": 5,
    "start_time": "2024-03-28T17:20:43.073Z"
   },
   {
    "duration": 6,
    "start_time": "2024-03-28T17:20:43.080Z"
   },
   {
    "duration": 321,
    "start_time": "2024-03-28T17:20:43.088Z"
   },
   {
    "duration": 19,
    "start_time": "2024-03-28T17:20:43.411Z"
   },
   {
    "duration": 78,
    "start_time": "2024-03-28T17:20:43.431Z"
   },
   {
    "duration": 504,
    "start_time": "2024-03-28T17:20:43.510Z"
   },
   {
    "duration": 21,
    "start_time": "2024-03-28T17:20:44.015Z"
   },
   {
    "duration": 113,
    "start_time": "2024-03-28T17:20:44.038Z"
   },
   {
    "duration": 22,
    "start_time": "2024-03-28T17:20:44.152Z"
   },
   {
    "duration": 9,
    "start_time": "2024-03-28T17:20:44.175Z"
   },
   {
    "duration": 146,
    "start_time": "2024-03-28T17:20:44.185Z"
   },
   {
    "duration": 177,
    "start_time": "2024-03-28T17:20:44.332Z"
   },
   {
    "duration": 58,
    "start_time": "2024-03-28T17:20:44.510Z"
   },
   {
    "duration": 2,
    "start_time": "2024-03-28T17:20:44.570Z"
   },
   {
    "duration": 28,
    "start_time": "2024-03-28T17:20:44.573Z"
   },
   {
    "duration": 5,
    "start_time": "2024-03-28T17:20:44.604Z"
   },
   {
    "duration": 19,
    "start_time": "2024-03-28T17:20:44.611Z"
   },
   {
    "duration": 15,
    "start_time": "2024-03-28T17:21:23.347Z"
   },
   {
    "duration": 42,
    "start_time": "2024-03-28T17:39:21.828Z"
   },
   {
    "duration": 7,
    "start_time": "2024-03-28T17:41:37.547Z"
   },
   {
    "duration": 7,
    "start_time": "2024-03-28T17:45:48.289Z"
   },
   {
    "duration": 6687,
    "start_time": "2024-03-28T17:51:02.123Z"
   },
   {
    "duration": 3,
    "start_time": "2024-03-28T17:51:08.812Z"
   },
   {
    "duration": 1377,
    "start_time": "2024-03-28T17:51:08.816Z"
   },
   {
    "duration": 2826,
    "start_time": "2024-03-28T17:51:10.195Z"
   },
   {
    "duration": 16,
    "start_time": "2024-03-28T17:51:13.022Z"
   },
   {
    "duration": 120,
    "start_time": "2024-03-28T17:51:13.039Z"
   },
   {
    "duration": 45,
    "start_time": "2024-03-28T17:51:13.160Z"
   },
   {
    "duration": 4,
    "start_time": "2024-03-28T17:51:13.206Z"
   },
   {
    "duration": 3,
    "start_time": "2024-03-28T17:51:13.211Z"
   },
   {
    "duration": 52,
    "start_time": "2024-03-28T17:51:13.217Z"
   },
   {
    "duration": 98,
    "start_time": "2024-03-28T17:51:13.271Z"
   },
   {
    "duration": 302,
    "start_time": "2024-03-28T17:51:13.371Z"
   },
   {
    "duration": 2,
    "start_time": "2024-03-28T17:51:13.675Z"
   },
   {
    "duration": 6,
    "start_time": "2024-03-28T17:51:13.679Z"
   },
   {
    "duration": 273,
    "start_time": "2024-03-28T17:51:13.686Z"
   },
   {
    "duration": 17,
    "start_time": "2024-03-28T17:51:13.961Z"
   },
   {
    "duration": 66,
    "start_time": "2024-03-28T17:51:13.979Z"
   },
   {
    "duration": 461,
    "start_time": "2024-03-28T17:51:14.046Z"
   },
   {
    "duration": 20,
    "start_time": "2024-03-28T17:51:14.508Z"
   },
   {
    "duration": 98,
    "start_time": "2024-03-28T17:51:14.530Z"
   },
   {
    "duration": 6,
    "start_time": "2024-03-28T17:51:14.630Z"
   },
   {
    "duration": 8,
    "start_time": "2024-03-28T17:51:14.637Z"
   },
   {
    "duration": 139,
    "start_time": "2024-03-28T17:51:14.646Z"
   },
   {
    "duration": 158,
    "start_time": "2024-03-28T17:51:14.787Z"
   },
   {
    "duration": 49,
    "start_time": "2024-03-28T17:51:14.946Z"
   },
   {
    "duration": 2,
    "start_time": "2024-03-28T17:51:14.996Z"
   },
   {
    "duration": 20,
    "start_time": "2024-03-28T17:51:15.000Z"
   },
   {
    "duration": 21,
    "start_time": "2024-03-28T17:51:15.024Z"
   },
   {
    "duration": 17,
    "start_time": "2024-03-28T17:51:15.047Z"
   },
   {
    "duration": 13,
    "start_time": "2024-03-28T17:51:15.065Z"
   },
   {
    "duration": 230,
    "start_time": "2024-03-28T17:51:15.079Z"
   },
   {
    "duration": 19,
    "start_time": "2024-03-28T17:51:15.310Z"
   },
   {
    "duration": 271,
    "start_time": "2024-03-28T17:51:15.331Z"
   },
   {
    "duration": 232,
    "start_time": "2024-03-28T17:51:15.604Z"
   },
   {
    "duration": 17,
    "start_time": "2024-03-28T17:51:15.838Z"
   },
   {
    "duration": 210,
    "start_time": "2024-03-28T17:51:15.857Z"
   },
   {
    "duration": 3,
    "start_time": "2024-03-28T17:51:16.068Z"
   },
   {
    "duration": 12,
    "start_time": "2024-03-28T17:51:16.072Z"
   },
   {
    "duration": 36,
    "start_time": "2024-03-28T17:51:16.085Z"
   },
   {
    "duration": 3,
    "start_time": "2024-03-28T17:51:16.122Z"
   },
   {
    "duration": 3,
    "start_time": "2024-03-28T17:51:16.145Z"
   },
   {
    "duration": 3,
    "start_time": "2024-03-28T17:51:16.149Z"
   },
   {
    "duration": 4,
    "start_time": "2024-03-28T17:51:16.153Z"
   },
   {
    "duration": 16,
    "start_time": "2024-03-28T17:51:16.158Z"
   },
   {
    "duration": 661,
    "start_time": "2024-03-28T17:51:16.175Z"
   },
   {
    "duration": 0,
    "start_time": "2024-03-28T17:51:16.837Z"
   },
   {
    "duration": 0,
    "start_time": "2024-03-28T17:51:16.839Z"
   },
   {
    "duration": 0,
    "start_time": "2024-03-28T17:51:16.839Z"
   },
   {
    "duration": 0,
    "start_time": "2024-03-28T17:51:16.840Z"
   },
   {
    "duration": 0,
    "start_time": "2024-03-28T17:51:16.845Z"
   },
   {
    "duration": 0,
    "start_time": "2024-03-28T17:51:16.846Z"
   },
   {
    "duration": 0,
    "start_time": "2024-03-28T17:51:16.847Z"
   },
   {
    "duration": 0,
    "start_time": "2024-03-28T17:51:16.848Z"
   },
   {
    "duration": 0,
    "start_time": "2024-03-28T17:51:16.849Z"
   },
   {
    "duration": 0,
    "start_time": "2024-03-28T17:51:16.849Z"
   },
   {
    "duration": 0,
    "start_time": "2024-03-28T17:51:16.850Z"
   },
   {
    "duration": 0,
    "start_time": "2024-03-28T17:51:16.851Z"
   },
   {
    "duration": 0,
    "start_time": "2024-03-28T17:51:16.852Z"
   },
   {
    "duration": 0,
    "start_time": "2024-03-28T17:51:16.853Z"
   },
   {
    "duration": 0,
    "start_time": "2024-03-28T17:51:16.854Z"
   },
   {
    "duration": 0,
    "start_time": "2024-03-28T17:51:16.855Z"
   },
   {
    "duration": 0,
    "start_time": "2024-03-28T17:51:16.856Z"
   },
   {
    "duration": 0,
    "start_time": "2024-03-28T17:51:16.857Z"
   },
   {
    "duration": 0,
    "start_time": "2024-03-28T17:51:16.858Z"
   },
   {
    "duration": 0,
    "start_time": "2024-03-28T17:51:16.859Z"
   },
   {
    "duration": 0,
    "start_time": "2024-03-28T17:51:16.860Z"
   },
   {
    "duration": 0,
    "start_time": "2024-03-28T17:51:16.861Z"
   },
   {
    "duration": 0,
    "start_time": "2024-03-28T17:51:16.862Z"
   },
   {
    "duration": 0,
    "start_time": "2024-03-28T17:51:16.863Z"
   },
   {
    "duration": 673,
    "start_time": "2024-03-28T17:51:30.534Z"
   },
   {
    "duration": 2,
    "start_time": "2024-03-28T17:51:32.580Z"
   },
   {
    "duration": 3,
    "start_time": "2024-03-28T17:51:34.783Z"
   },
   {
    "duration": 4,
    "start_time": "2024-03-28T17:51:37.103Z"
   },
   {
    "duration": 3,
    "start_time": "2024-03-28T17:51:40.215Z"
   },
   {
    "duration": 33908,
    "start_time": "2024-03-28T17:51:42.730Z"
   },
   {
    "duration": 33756,
    "start_time": "2024-03-28T17:52:16.639Z"
   },
   {
    "duration": 2,
    "start_time": "2024-03-28T17:52:50.397Z"
   },
   {
    "duration": 423,
    "start_time": "2024-03-28T17:52:50.401Z"
   },
   {
    "duration": 5,
    "start_time": "2024-03-28T17:52:50.825Z"
   },
   {
    "duration": 82745,
    "start_time": "2024-03-28T17:52:50.831Z"
   },
   {
    "duration": 3,
    "start_time": "2024-03-28T17:54:13.577Z"
   },
   {
    "duration": 7,
    "start_time": "2024-03-28T17:54:13.581Z"
   },
   {
    "duration": 2344,
    "start_time": "2024-03-28T17:54:13.590Z"
   },
   {
    "duration": 80,
    "start_time": "2024-03-28T17:54:15.937Z"
   },
   {
    "duration": 11,
    "start_time": "2024-03-28T17:54:16.018Z"
   },
   {
    "duration": 0,
    "start_time": "2024-03-28T17:54:16.031Z"
   },
   {
    "duration": 0,
    "start_time": "2024-03-28T17:54:16.032Z"
   },
   {
    "duration": 0,
    "start_time": "2024-03-28T17:54:16.033Z"
   },
   {
    "duration": 0,
    "start_time": "2024-03-28T17:54:16.034Z"
   },
   {
    "duration": 0,
    "start_time": "2024-03-28T17:54:16.045Z"
   },
   {
    "duration": 0,
    "start_time": "2024-03-28T17:54:16.046Z"
   },
   {
    "duration": 0,
    "start_time": "2024-03-28T17:54:16.047Z"
   },
   {
    "duration": 0,
    "start_time": "2024-03-28T17:54:16.048Z"
   },
   {
    "duration": 0,
    "start_time": "2024-03-28T17:54:16.049Z"
   },
   {
    "duration": 9,
    "start_time": "2024-03-28T17:55:01.645Z"
   },
   {
    "duration": 4,
    "start_time": "2024-03-28T17:55:20.006Z"
   },
   {
    "duration": 35579,
    "start_time": "2024-03-28T17:55:22.774Z"
   },
   {
    "duration": 415,
    "start_time": "2024-03-28T17:56:04.730Z"
   },
   {
    "duration": 8495,
    "start_time": "2024-03-28T17:56:05.860Z"
   },
   {
    "duration": 9,
    "start_time": "2024-03-28T17:56:20.666Z"
   },
   {
    "duration": 2,
    "start_time": "2024-03-28T17:56:27.117Z"
   },
   {
    "duration": 4,
    "start_time": "2024-03-28T17:56:27.660Z"
   },
   {
    "duration": 3,
    "start_time": "2024-03-28T17:56:28.046Z"
   },
   {
    "duration": 4,
    "start_time": "2024-03-28T17:56:30.858Z"
   },
   {
    "duration": 28,
    "start_time": "2024-03-28T17:56:37.715Z"
   },
   {
    "duration": 84834,
    "start_time": "2024-03-28T17:56:53.789Z"
   },
   {
    "duration": 2670,
    "start_time": "2024-03-28T18:00:19.857Z"
   },
   {
    "duration": 3,
    "start_time": "2024-03-28T18:00:22.529Z"
   },
   {
    "duration": 1197,
    "start_time": "2024-03-28T18:00:22.533Z"
   },
   {
    "duration": 773,
    "start_time": "2024-03-28T18:00:23.732Z"
   },
   {
    "duration": 15,
    "start_time": "2024-03-28T18:00:24.506Z"
   },
   {
    "duration": 131,
    "start_time": "2024-03-28T18:00:24.523Z"
   },
   {
    "duration": 50,
    "start_time": "2024-03-28T18:00:24.655Z"
   },
   {
    "duration": 4,
    "start_time": "2024-03-28T18:00:24.706Z"
   },
   {
    "duration": 4,
    "start_time": "2024-03-28T18:00:24.711Z"
   },
   {
    "duration": 50,
    "start_time": "2024-03-28T18:00:24.717Z"
   },
   {
    "duration": 110,
    "start_time": "2024-03-28T18:00:24.768Z"
   },
   {
    "duration": 302,
    "start_time": "2024-03-28T18:00:24.880Z"
   },
   {
    "duration": 3,
    "start_time": "2024-03-28T18:00:25.183Z"
   },
   {
    "duration": 3,
    "start_time": "2024-03-28T18:00:25.188Z"
   },
   {
    "duration": 277,
    "start_time": "2024-03-28T18:00:25.193Z"
   },
   {
    "duration": 19,
    "start_time": "2024-03-28T18:00:25.472Z"
   },
   {
    "duration": 63,
    "start_time": "2024-03-28T18:00:25.492Z"
   },
   {
    "duration": 455,
    "start_time": "2024-03-28T18:00:25.557Z"
   },
   {
    "duration": 19,
    "start_time": "2024-03-28T18:00:26.013Z"
   },
   {
    "duration": 91,
    "start_time": "2024-03-28T18:00:26.033Z"
   },
   {
    "duration": 2,
    "start_time": "2024-03-28T18:00:26.126Z"
   },
   {
    "duration": 20,
    "start_time": "2024-03-28T18:00:26.130Z"
   },
   {
    "duration": 174,
    "start_time": "2024-03-28T18:00:26.151Z"
   },
   {
    "duration": 168,
    "start_time": "2024-03-28T18:00:26.326Z"
   },
   {
    "duration": 56,
    "start_time": "2024-03-28T18:00:26.496Z"
   },
   {
    "duration": 2,
    "start_time": "2024-03-28T18:00:26.553Z"
   },
   {
    "duration": 21,
    "start_time": "2024-03-28T18:00:26.557Z"
   },
   {
    "duration": 4,
    "start_time": "2024-03-28T18:00:26.582Z"
   },
   {
    "duration": 23,
    "start_time": "2024-03-28T18:00:26.588Z"
   },
   {
    "duration": 37,
    "start_time": "2024-03-28T18:00:26.612Z"
   },
   {
    "duration": 220,
    "start_time": "2024-03-28T18:00:26.651Z"
   },
   {
    "duration": 18,
    "start_time": "2024-03-28T18:00:26.872Z"
   },
   {
    "duration": 216,
    "start_time": "2024-03-28T18:00:26.892Z"
   },
   {
    "duration": 303,
    "start_time": "2024-03-28T18:00:27.110Z"
   },
   {
    "duration": 16,
    "start_time": "2024-03-28T18:00:27.414Z"
   },
   {
    "duration": 256,
    "start_time": "2024-03-28T18:00:27.432Z"
   },
   {
    "duration": 3,
    "start_time": "2024-03-28T18:00:27.690Z"
   },
   {
    "duration": 12,
    "start_time": "2024-03-28T18:00:27.694Z"
   },
   {
    "duration": 57,
    "start_time": "2024-03-28T18:00:27.708Z"
   },
   {
    "duration": 3,
    "start_time": "2024-03-28T18:00:27.766Z"
   },
   {
    "duration": 4,
    "start_time": "2024-03-28T18:00:27.770Z"
   },
   {
    "duration": 12,
    "start_time": "2024-03-28T18:00:27.775Z"
   },
   {
    "duration": 6,
    "start_time": "2024-03-28T18:00:27.788Z"
   },
   {
    "duration": 5,
    "start_time": "2024-03-28T18:00:27.796Z"
   },
   {
    "duration": 677,
    "start_time": "2024-03-28T18:00:27.802Z"
   },
   {
    "duration": 2,
    "start_time": "2024-03-28T18:00:28.481Z"
   },
   {
    "duration": 18,
    "start_time": "2024-03-28T18:00:28.485Z"
   },
   {
    "duration": 5,
    "start_time": "2024-03-28T18:00:28.504Z"
   },
   {
    "duration": 6,
    "start_time": "2024-03-28T18:00:28.510Z"
   },
   {
    "duration": 34075,
    "start_time": "2024-03-28T18:00:28.518Z"
   },
   {
    "duration": 35432,
    "start_time": "2024-03-28T18:01:02.594Z"
   },
   {
    "duration": 2,
    "start_time": "2024-03-28T18:01:38.027Z"
   },
   {
    "duration": 437,
    "start_time": "2024-03-28T18:01:38.031Z"
   },
   {
    "duration": 3,
    "start_time": "2024-03-28T18:01:38.470Z"
   },
   {
    "duration": 88245,
    "start_time": "2024-03-28T18:01:38.474Z"
   },
   {
    "duration": 2,
    "start_time": "2024-03-28T18:03:06.721Z"
   },
   {
    "duration": 8,
    "start_time": "2024-03-28T18:03:06.725Z"
   },
   {
    "duration": 2398,
    "start_time": "2024-03-28T18:03:06.734Z"
   },
   {
    "duration": 79,
    "start_time": "2024-03-28T18:03:09.133Z"
   },
   {
    "duration": 3,
    "start_time": "2024-03-28T18:03:09.214Z"
   },
   {
    "duration": 42041,
    "start_time": "2024-03-28T18:03:09.219Z"
   },
   {
    "duration": 396,
    "start_time": "2024-03-28T18:03:51.262Z"
   },
   {
    "duration": 7192,
    "start_time": "2024-03-28T18:03:51.660Z"
   },
   {
    "duration": 8,
    "start_time": "2024-03-28T18:03:58.853Z"
   },
   {
    "duration": 30,
    "start_time": "2024-03-28T18:03:58.862Z"
   },
   {
    "duration": 13,
    "start_time": "2024-03-28T18:03:58.893Z"
   },
   {
    "duration": 24,
    "start_time": "2024-03-28T18:03:58.907Z"
   },
   {
    "duration": 20,
    "start_time": "2024-03-28T18:03:58.932Z"
   },
   {
    "duration": 55,
    "start_time": "2024-03-28T18:03:58.953Z"
   }
  ],
  "kernelspec": {
   "display_name": "Python 3 (ipykernel)",
   "language": "python",
   "name": "python3"
  },
  "language_info": {
   "codemirror_mode": {
    "name": "ipython",
    "version": 3
   },
   "file_extension": ".py",
   "mimetype": "text/x-python",
   "name": "python",
   "nbconvert_exporter": "python",
   "pygments_lexer": "ipython3",
   "version": "3.11.4"
  },
  "toc": {
   "base_numbering": 1,
   "nav_menu": {},
   "number_sections": true,
   "sideBar": true,
   "skip_h1_title": true,
   "title_cell": "Table of Contents",
   "title_sidebar": "Contents",
   "toc_cell": false,
   "toc_position": {},
   "toc_section_display": true,
   "toc_window_display": true
  }
 },
 "nbformat": 4,
 "nbformat_minor": 4
}
