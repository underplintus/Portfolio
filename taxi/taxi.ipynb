{
 "cells": [
  {
   "cell_type": "markdown",
   "metadata": {
    "toc": true
   },
   "source": [
    "<h1>Содержание<span class=\"tocSkip\"></span></h1>\n",
    "<div class=\"toc\"><ul class=\"toc-item\"><li><span><a href=\"#Подготовка\" data-toc-modified-id=\"Подготовка-1\"><span class=\"toc-item-num\">1&nbsp;&nbsp;</span>Подготовка</a></span></li><li><span><a href=\"#Анализ\" data-toc-modified-id=\"Анализ-2\"><span class=\"toc-item-num\">2&nbsp;&nbsp;</span>Анализ</a></span></li><li><span><a href=\"#Обучение\" data-toc-modified-id=\"Обучение-3\"><span class=\"toc-item-num\">3&nbsp;&nbsp;</span>Обучение</a></span></li><li><span><a href=\"#LinearRegression\" data-toc-modified-id=\"LinearRegression-4\"><span class=\"toc-item-num\">4&nbsp;&nbsp;</span>LinearRegression</a></span></li><li><span><a href=\"#CatBoost\" data-toc-modified-id=\"CatBoost-5\"><span class=\"toc-item-num\">5&nbsp;&nbsp;</span>CatBoost</a></span></li><li><span><a href=\"#LightGBM\" data-toc-modified-id=\"LightGBM-6\"><span class=\"toc-item-num\">6&nbsp;&nbsp;</span>LightGBM</a></span></li><li><span><a href=\"#Анализ-моделей\" data-toc-modified-id=\"Анализ-моделей-7\"><span class=\"toc-item-num\">7&nbsp;&nbsp;</span>Анализ моделей</a></span></li><li><span><a href=\"#Проверка-лучшей-модели-на-адекватность\" data-toc-modified-id=\"Проверка-лучшей-модели-на-адекватность-8\"><span class=\"toc-item-num\">8&nbsp;&nbsp;</span>Проверка лучшей модели на адекватность</a></span></li><li><span><a href=\"#Тестирование--и-вывод\" data-toc-modified-id=\"Тестирование--и-вывод-9\"><span class=\"toc-item-num\">9&nbsp;&nbsp;</span>Тестирование  и вывод</a></span></li></ul></div>"
   ]
  },
  {
   "cell_type": "markdown",
   "metadata": {},
   "source": [
    "#  Прогнозирование заказов такси"
   ]
  },
  {
   "cell_type": "markdown",
   "metadata": {},
   "source": [
    "Компания «Чётенькое такси» собрала исторические данные о заказах такси в аэропортах. Чтобы привлекать больше водителей в период пиковой нагрузки, нужно спрогнозировать количество заказов такси на следующий час. Постройте модель для такого предсказания.\n",
    "\n",
    "Значение метрики *RMSE* на тестовой выборке должно быть не больше 48.\n",
    "\n",
    "Нужно сделать:\n",
    "\n",
    "1. Загрузить данные и выполнить их ресемплирование по одному часу.\n",
    "2. Проанализировать данные.\n",
    "3. Обучить разные модели с различными гиперпараметрами. Сделать тестовую выборку размером 10% от исходных данных.\n",
    "4. Проверить данные на тестовой выборке и сделать выводы.\n",
    "\n",
    "\n",
    "Данные лежат в файле `taxi.csv`. Количество заказов находится в столбце `num_orders` (от англ. *number of orders*, «число заказов»)."
   ]
  },
  {
   "cell_type": "markdown",
   "metadata": {},
   "source": [
    "## Подготовка"
   ]
  },
  {
   "cell_type": "code",
   "execution_count": 1,
   "metadata": {},
   "outputs": [],
   "source": [
    "!pip install statsmodels -q"
   ]
  },
  {
   "cell_type": "code",
   "execution_count": 2,
   "metadata": {},
   "outputs": [],
   "source": [
    "import warnings\n",
    "warnings.filterwarnings('ignore')"
   ]
  },
  {
   "cell_type": "code",
   "execution_count": 3,
   "metadata": {},
   "outputs": [],
   "source": [
    "# библиотеки\n",
    "import pandas as pd\n",
    "import numpy as np\n",
    "import matplotlib.pyplot as plt\n",
    "\n",
    "from statsmodels.tsa.seasonal import seasonal_decompose\n",
    "from sklearn.metrics import mean_squared_error\n",
    "from sklearn.linear_model import LinearRegression\n",
    "from catboost import CatBoostRegressor\n",
    "from lightgbm import LGBMRegressor\n",
    "import lightgbm as lgb\n",
    "import statsmodels.tsa.stattools as ts\n",
    "from statsmodels.tsa.stattools import adfuller\n",
    "\n",
    "from sklearn.model_selection import train_test_split, RandomizedSearchCV, TimeSeriesSplit, cross_val_score"
   ]
  },
  {
   "cell_type": "code",
   "execution_count": 4,
   "metadata": {},
   "outputs": [],
   "source": [
    "data = pd.read_csv('https://code.s3.yandex.net/datasets/taxi.csv', index_col=[0], parse_dates = [0])"
   ]
  },
  {
   "cell_type": "code",
   "execution_count": 5,
   "metadata": {},
   "outputs": [
    {
     "data": {
      "text/html": [
       "<div>\n",
       "<style scoped>\n",
       "    .dataframe tbody tr th:only-of-type {\n",
       "        vertical-align: middle;\n",
       "    }\n",
       "\n",
       "    .dataframe tbody tr th {\n",
       "        vertical-align: top;\n",
       "    }\n",
       "\n",
       "    .dataframe thead th {\n",
       "        text-align: right;\n",
       "    }\n",
       "</style>\n",
       "<table border=\"1\" class=\"dataframe\">\n",
       "  <thead>\n",
       "    <tr style=\"text-align: right;\">\n",
       "      <th></th>\n",
       "      <th>num_orders</th>\n",
       "    </tr>\n",
       "    <tr>\n",
       "      <th>datetime</th>\n",
       "      <th></th>\n",
       "    </tr>\n",
       "  </thead>\n",
       "  <tbody>\n",
       "    <tr>\n",
       "      <th>2018-03-01 00:00:00</th>\n",
       "      <td>9</td>\n",
       "    </tr>\n",
       "    <tr>\n",
       "      <th>2018-03-01 00:10:00</th>\n",
       "      <td>14</td>\n",
       "    </tr>\n",
       "    <tr>\n",
       "      <th>2018-03-01 00:20:00</th>\n",
       "      <td>28</td>\n",
       "    </tr>\n",
       "    <tr>\n",
       "      <th>2018-03-01 00:30:00</th>\n",
       "      <td>20</td>\n",
       "    </tr>\n",
       "    <tr>\n",
       "      <th>2018-03-01 00:40:00</th>\n",
       "      <td>32</td>\n",
       "    </tr>\n",
       "  </tbody>\n",
       "</table>\n",
       "</div>"
      ],
      "text/plain": [
       "                     num_orders\n",
       "datetime                       \n",
       "2018-03-01 00:00:00           9\n",
       "2018-03-01 00:10:00          14\n",
       "2018-03-01 00:20:00          28\n",
       "2018-03-01 00:30:00          20\n",
       "2018-03-01 00:40:00          32"
      ]
     },
     "execution_count": 5,
     "metadata": {},
     "output_type": "execute_result"
    }
   ],
   "source": [
    "data.head(5)"
   ]
  },
  {
   "cell_type": "markdown",
   "metadata": {
    "jupyter": {
     "source_hidden": true
    }
   },
   "source": [
    "<div class=\"alert alert-warning\">\n",
    "    <h2> Комментарий ревьюера <a class=\"tocSkip\"> </h2>\n",
    "    \n",
    "<b>Некоторые замечания и рекомендации⚠️:</b> \n",
    "Для демонстрации DataFrame не стоит выводить все строки разом - это несколько усложнит визуальное восприятие. Чтобы показать просто пару строк - лучше использовать методы `head()/tail()/sample()`, если нужно оценить количество строк - можно использовать метод `shape` или функцию `len`:)"
   ]
  },
  {
   "cell_type": "code",
   "execution_count": 6,
   "metadata": {},
   "outputs": [
    {
     "name": "stdout",
     "output_type": "stream",
     "text": [
      "<class 'pandas.core.frame.DataFrame'>\n",
      "DatetimeIndex: 26496 entries, 2018-03-01 00:00:00 to 2018-08-31 23:50:00\n",
      "Data columns (total 1 columns):\n",
      " #   Column      Non-Null Count  Dtype\n",
      "---  ------      --------------  -----\n",
      " 0   num_orders  26496 non-null  int64\n",
      "dtypes: int64(1)\n",
      "memory usage: 414.0 KB\n"
     ]
    }
   ],
   "source": [
    "data.info()"
   ]
  },
  {
   "cell_type": "code",
   "execution_count": 7,
   "metadata": {},
   "outputs": [],
   "source": [
    "data.sort_index(inplace=True)"
   ]
  },
  {
   "cell_type": "code",
   "execution_count": 8,
   "metadata": {},
   "outputs": [
    {
     "data": {
      "text/plain": [
       "num_orders    0\n",
       "dtype: int64"
      ]
     },
     "execution_count": 8,
     "metadata": {},
     "output_type": "execute_result"
    }
   ],
   "source": [
    "data.isna().sum()"
   ]
  },
  {
   "cell_type": "code",
   "execution_count": 9,
   "metadata": {},
   "outputs": [
    {
     "data": {
      "text/plain": [
       "True"
      ]
     },
     "execution_count": 9,
     "metadata": {},
     "output_type": "execute_result"
    }
   ],
   "source": [
    "data.index.is_monotonic_increasing"
   ]
  },
  {
   "cell_type": "markdown",
   "metadata": {},
   "source": [
    "- Пропусков нет, последовательность соблюдается"
   ]
  },
  {
   "cell_type": "code",
   "execution_count": 10,
   "metadata": {},
   "outputs": [],
   "source": [
    "#  выполним их ресемплирование по одному часу.\n",
    "data = data.resample('1H').sum()"
   ]
  },
  {
   "cell_type": "code",
   "execution_count": 11,
   "metadata": {},
   "outputs": [
    {
     "name": "stdout",
     "output_type": "stream",
     "text": [
      "Временной промежуток данных: 2018-03-01 00:00:00 - 2018-08-31 23:00:00\n"
     ]
    }
   ],
   "source": [
    "print(f\"Временной промежуток данных: {data.index.min()} - {data.index.max()}\")"
   ]
  },
  {
   "cell_type": "markdown",
   "metadata": {},
   "source": [
    "## Анализ"
   ]
  },
  {
   "cell_type": "code",
   "execution_count": 12,
   "metadata": {},
   "outputs": [],
   "source": [
    "decomposed = seasonal_decompose(data['2018-04':'2018-04'])"
   ]
  },
  {
   "cell_type": "code",
   "execution_count": 13,
   "metadata": {},
   "outputs": [
    {
     "data": {
      "image/png": "[encoded data removed]",
      "text/plain": [
       "<Figure size 864x1008 with 3 Axes>"
      ]
     },
     "metadata": {
      "needs_background": "light"
     },
     "output_type": "display_data"
    }
   ],
   "source": [
    "plt.figure(figsize=(12, 14))\n",
    "plt.subplot(311)\n",
    "decomposed.trend.plot(ax=plt.gca())\n",
    "plt.title('Trend')\n",
    "plt.xlabel('April')\n",
    "plt.ylabel('orders')\n",
    "plt.subplot(312)\n",
    "decomposed.seasonal.plot(ax=plt.gca())\n",
    "plt.title('Seasonality')\n",
    "plt.xlabel('April')\n",
    "plt.ylabel('orders')\n",
    "plt.subplot(313)\n",
    "decomposed.resid.plot(ax=plt.gca())\n",
    "plt.title('Residuals')\n",
    "plt.xlabel('April')\n",
    "plt.ylabel('orders')\n",
    "plt.tight_layout()"
   ]
  },
  {
   "cell_type": "markdown",
   "metadata": {},
   "source": [
    "- к воскресенью обычно падает спрос, а в понелельник как раз возрастает, всё-таки начало рабочей недели   \n",
    "_P.S. 1 апреля 2018 - это воскресенье_"
   ]
  },
  {
   "cell_type": "code",
   "execution_count": 14,
   "metadata": {},
   "outputs": [
    {
     "data": {
      "image/png": "[encoded data removed]",
      "text/plain": [
       "<Figure size 864x360 with 1 Axes>"
      ]
     },
     "metadata": {
      "needs_background": "light"
     },
     "output_type": "display_data"
    }
   ],
   "source": [
    "decomposed = seasonal_decompose(data)\n",
    "plt.figure(figsize=(12, 5))\n",
    "decomposed.trend.plot(ax=plt.gca())\n",
    "plt.ylabel('orders')\n",
    "plt.title('Trend');"
   ]
  },
  {
   "cell_type": "markdown",
   "metadata": {},
   "source": [
    "- заметен тренд роста спроса к лету и далее на протяжении тёплого периода"
   ]
  },
  {
   "cell_type": "code",
   "execution_count": 15,
   "metadata": {},
   "outputs": [],
   "source": [
    "decomposed = seasonal_decompose(data['2018-04-01':'2018-04-03'])"
   ]
  },
  {
   "cell_type": "code",
   "execution_count": 16,
   "metadata": {
    "scrolled": true
   },
   "outputs": [
    {
     "data": {
      "image/png": "[encoded data removed]",
      "text/plain": [
       "<Figure size 864x1008 with 3 Axes>"
      ]
     },
     "metadata": {
      "needs_background": "light"
     },
     "output_type": "display_data"
    }
   ],
   "source": [
    "plt.figure(figsize=(12, 14))\n",
    "plt.subplot(311)\n",
    "decomposed.trend.plot(ax=plt.gca())\n",
    "plt.title('Trend')\n",
    "plt.xlabel('1st –– 3rd of April 2018')\n",
    "plt.ylabel('orders')\n",
    "plt.subplot(312)\n",
    "decomposed.seasonal.plot(ax=plt.gca())\n",
    "plt.title('Seasonality')\n",
    "plt.xlabel('1st –– 3rd of April 2018il')\n",
    "plt.ylabel('orders')\n",
    "plt.subplot(313)\n",
    "decomposed.resid.plot(ax=plt.gca())\n",
    "plt.title('Residuals')\n",
    "plt.xlabel('1st –– 3rd of April 2018')\n",
    "plt.ylabel('orders')\n",
    "plt.tight_layout()"
   ]
  },
  {
   "cell_type": "markdown",
   "metadata": {},
   "source": [
    "- наблюдается суточная сезонность, обычно максимальное число заказов достигается в 12 часов ночи (00:00)    \n",
    "- часто самолёты прибывают вечером и пока люди получат багаж они как раз и выходят из аэропорта около 00:00"
   ]
  },
  {
   "cell_type": "code",
   "execution_count": 17,
   "metadata": {},
   "outputs": [],
   "source": [
    "dff = data.copy()\n",
    "dff['mean'] = dff['num_orders'].shift().rolling(15).mean()\n",
    "dff['std'] = dff['num_orders'].shift().rolling(15).std()"
   ]
  },
  {
   "cell_type": "code",
   "execution_count": 18,
   "metadata": {},
   "outputs": [
    {
     "data": {
      "image/png": "[encoded data removed]",
      "text/plain": [
       "<Figure size 864x1008 with 1 Axes>"
      ]
     },
     "metadata": {
      "needs_background": "light"
     },
     "output_type": "display_data"
    }
   ],
   "source": [
    "plt.figure(figsize=(12, 14))\n",
    "plt.subplot(311)\n",
    "dff.plot(ax=plt.gca()) \n",
    "plt.title('Trend')\n",
    "plt.xlabel('1st March –– 31st August')\n",
    "plt.ylabel('orders')\n",
    "plt.show()"
   ]
  },
  {
   "cell_type": "markdown",
   "metadata": {},
   "source": [
    "- сглаженное среднее увеличивается со временем, значит ряд не стационарен\n",
    "- дополнительно проверим это на тесте Дики — Фуллера "
   ]
  },
  {
   "cell_type": "markdown",
   "metadata": {},
   "source": [
    "- формулируем гипотезы:    \n",
    "- - H0: временной ряд не стационарный\n",
    "- - H1: временной ряд стационарный"
   ]
  },
  {
   "cell_type": "code",
   "execution_count": 19,
   "metadata": {},
   "outputs": [
    {
     "data": {
      "text/plain": [
       "(-3.0689242890279558,\n",
       " 0.028940051402612906,\n",
       " 30,\n",
       " 4385,\n",
       " {'1%': -3.431842162413052,\n",
       "  '5%': -2.8621993540813637,\n",
       "  '10%': -2.567120978470452},\n",
       " 41728.71357827463)"
      ]
     },
     "execution_count": 19,
     "metadata": {},
     "output_type": "execute_result"
    }
   ],
   "source": [
    "# проведём тест Дики — Фуллера \n",
    "adfuller(data)"
   ]
  },
  {
   "cell_type": "markdown",
   "metadata": {},
   "source": [
    "- Статистика теста: -3.06892\n",
    "- p-value: 0.02894"
   ]
  },
  {
   "cell_type": "markdown",
   "metadata": {},
   "source": [
    "Поскольку p-value < 0.05, мы отвергаем нулевую гипотезу. Это означает, что временной ряд является стационарным.                            \n",
    "В то же время p-value > 0.01, это означает, что временной ряд является не стационарным.      \n",
    "Т.к. графический анализ, который мы провели выше указывает на наличие тренда и изменение скользящего среднего во времени, то нулевая гипотеза не отвергаеися и значит **ряд является не стационарным.**"
   ]
  },
  {
   "cell_type": "code",
   "execution_count": 20,
   "metadata": {},
   "outputs": [],
   "source": [
    "# напишем функцию для создания обучающих признаков\n",
    "def make_features(data, max_lag, rolling_mean_size):\n",
    "    data['hour'] = data.index.hour\n",
    "    data['dayofweek'] = data.index.dayofweek\n",
    "    for lag in range(1, max_lag + 1):\n",
    "        data['lag_{}'.format(lag)] = data['num_orders'].shift(lag)\n",
    "        \n",
    "    data['rolling_mean'] = data['num_orders'].shift().rolling(rolling_mean_size).mean()\n",
    "    return data"
   ]
  },
  {
   "cell_type": "code",
   "execution_count": 21,
   "metadata": {},
   "outputs": [
    {
     "name": "stdout",
     "output_type": "stream",
     "text": [
      "Лучший показатель rmse на кросс-валидации: 25.012912535906302\n",
      "Размер скользящего окна: 16\n",
      "Максимальное смещение: 50\n"
     ]
    }
   ],
   "source": [
    "# в этом цикле будем осуществлять подбор лучших параметров, чтобы RMSE модели \n",
    "# на тестовой выборке не превоскодило значение 48\n",
    "RMSE = 48\n",
    "\n",
    "best_lag = 0\n",
    "best_rolling = 0\n",
    "\n",
    "\n",
    "for lag in range(20, 71, 5):\n",
    "    for rolling in range(1, 21, 5):\n",
    "        df = make_features(data, lag, rolling)\n",
    "        train, test = train_test_split(df, shuffle=False, test_size = 0.1)\n",
    "        train = train.dropna()\n",
    "        X_train = train.drop('num_orders', axis = 1)\n",
    "        y_train = train['num_orders']\n",
    "        X_test = test.drop('num_orders', axis = 1)\n",
    "        y_test = test['num_orders']\n",
    "        \n",
    "        model = LinearRegression()\n",
    "        rmse = cross_val_score(model,\n",
    "                X_train, \n",
    "                y_train, \n",
    "                cv = TimeSeriesSplit(n_splits=4), \n",
    "                n_jobs = -1, \n",
    "                scoring = 'neg_root_mean_squared_error').mean() * (-1)\n",
    "        if rmse < RMSE:\n",
    "            RMSE = rmse\n",
    "            best_rolling = rolling\n",
    "            best_lag = lag\n",
    "print(f'Лучший показатель rmse на кросс-валидации: {RMSE}')\n",
    "print(f'Размер скользящего окна: {best_rolling}')\n",
    "print(f'Максимальное смещение: {best_lag}')"
   ]
  },
  {
   "cell_type": "code",
   "execution_count": 22,
   "metadata": {},
   "outputs": [],
   "source": [
    "data = make_features(data, best_lag, best_rolling)\n",
    "train, test = train_test_split(data, shuffle=False, test_size = 0.1)\n",
    "train = train.dropna()\n",
    "X_train = train.drop('num_orders', axis = 1)\n",
    "y_train = train['num_orders']\n",
    "X_test = test.drop('num_orders', axis = 1)\n",
    "y_test = test['num_orders']"
   ]
  },
  {
   "cell_type": "markdown",
   "metadata": {},
   "source": [
    "- подобрали подходящие параметры для добавления признаков, чтобы RMSE на тестовой выборке не превосходило 48"
   ]
  },
  {
   "cell_type": "markdown",
   "metadata": {},
   "source": [
    "## Обучение"
   ]
  },
  {
   "cell_type": "code",
   "execution_count": 23,
   "metadata": {},
   "outputs": [],
   "source": [
    "models = ['LinearRegression', 'CatBoost', 'LightGBM']\n",
    "results = list()"
   ]
  },
  {
   "cell_type": "markdown",
   "metadata": {},
   "source": [
    "## LinearRegression"
   ]
  },
  {
   "cell_type": "code",
   "execution_count": 24,
   "metadata": {},
   "outputs": [
    {
     "name": "stdout",
     "output_type": "stream",
     "text": [
      "RMSE с кросс-валидации: 25.21910697410158\n"
     ]
    }
   ],
   "source": [
    "model = LinearRegression()\n",
    "rmse = cross_val_score(model,\n",
    "                X_train, \n",
    "                y_train, \n",
    "                cv = TimeSeriesSplit(n_splits=4), \n",
    "                n_jobs = -1, \n",
    "                scoring = 'neg_root_mean_squared_error').mean() * (-1)\n",
    "print(\"RMSE с кросс-валидации:\", rmse)"
   ]
  },
  {
   "cell_type": "code",
   "execution_count": 25,
   "metadata": {},
   "outputs": [],
   "source": [
    "results.append(rmse)"
   ]
  },
  {
   "cell_type": "markdown",
   "metadata": {},
   "source": [
    "## CatBoost"
   ]
  },
  {
   "cell_type": "code",
   "execution_count": 26,
   "metadata": {},
   "outputs": [],
   "source": [
    "RANDOM_STATE = 42\n",
    "\n",
    "params = [\n",
    "    \n",
    "    # словарь для модели DecisionTreeRegressor()\n",
    "    {\n",
    "       'max_depth': range(1, 8, 2),\n",
    "        'iterations': range(10, 30, 5),\n",
    "        'learning_rate': np.arange(0.01, 0.5, 0.05)\n",
    "    }\n",
    "]"
   ]
  },
  {
   "cell_type": "code",
   "execution_count": 27,
   "metadata": {},
   "outputs": [],
   "source": [
    "tcv = TimeSeriesSplit(n_splits=4)\n",
    "gatto = CatBoostRegressor(random_seed=42,\n",
    "                        loss_function='RMSE',\n",
    "                        silent=True,\n",
    "                        border_count=None)\n",
    "\n",
    "random_1 = RandomizedSearchCV(\n",
    "    gatto, \n",
    "    params, \n",
    "    cv=tcv,\n",
    "    scoring='neg_root_mean_squared_error',\n",
    "    n_jobs=-1,\n",
    "    random_state=RANDOM_STATE,\n",
    ")"
   ]
  },
  {
   "cell_type": "code",
   "execution_count": 28,
   "metadata": {},
   "outputs": [
    {
     "name": "stdout",
     "output_type": "stream",
     "text": [
      "RMSE с кросс-валидации: 25.539811334147966\n"
     ]
    }
   ],
   "source": [
    "random_1.fit(X_train, y_train)\n",
    "rmse_1 = random_1.best_score_ * (-1)\n",
    "print(\"RMSE с кросс-валидации:\", rmse_1)"
   ]
  },
  {
   "cell_type": "code",
   "execution_count": 29,
   "metadata": {},
   "outputs": [],
   "source": [
    "best_model_1 = random_1.best_estimator_"
   ]
  },
  {
   "cell_type": "code",
   "execution_count": 30,
   "metadata": {},
   "outputs": [],
   "source": [
    "results.append(rmse_1)"
   ]
  },
  {
   "cell_type": "markdown",
   "metadata": {},
   "source": [
    "## LightGBM"
   ]
  },
  {
   "cell_type": "code",
   "execution_count": 31,
   "metadata": {},
   "outputs": [],
   "source": [
    "gbm = lgb.LGBMRegressor(boosting_type='gbdt', verbose=0, seed=42)\n",
    "\n",
    "\n",
    "params = {\n",
    "    'learning_rate': np.logspace(-5, 0, 5),\n",
    "    'n_estimators': [30, 5],\n",
    "    'num_leaves': [20, 30, 40],\n",
    "}\n",
    "\n",
    "random_2 = RandomizedSearchCV(gbm,\n",
    "                        params,\n",
    "                        cv=tcv,\n",
    "                        scoring='neg_root_mean_squared_error',\n",
    "                        verbose=True,\n",
    "                        random_state=RANDOM_STATE)"
   ]
  },
  {
   "cell_type": "code",
   "execution_count": 32,
   "metadata": {
    "scrolled": true
   },
   "outputs": [
    {
     "name": "stdout",
     "output_type": "stream",
     "text": [
      "Fitting 4 folds for each of 10 candidates, totalling 40 fits\n",
      "[LightGBM] [Warning] Auto-choosing col-wise multi-threading, the overhead of testing was 0.000957 seconds.\n",
      "You can set `force_col_wise=true` to remove the overhead.\n",
      "[LightGBM] [Warning] Auto-choosing row-wise multi-threading, the overhead of testing was 0.100657 seconds.\n",
      "You can set `force_row_wise=true` to remove the overhead.\n",
      "And if memory is not enough, you can set `force_col_wise=true`.\n",
      "[LightGBM] [Warning] Auto-choosing col-wise multi-threading, the overhead of testing was 0.195912 seconds.\n",
      "You can set `force_col_wise=true` to remove the overhead.\n",
      "[LightGBM] [Warning] Auto-choosing col-wise multi-threading, the overhead of testing was 0.189623 seconds.\n",
      "You can set `force_col_wise=true` to remove the overhead.\n",
      "[LightGBM] [Warning] Auto-choosing col-wise multi-threading, the overhead of testing was 0.196113 seconds.\n",
      "You can set `force_col_wise=true` to remove the overhead.\n",
      "[LightGBM] [Warning] Auto-choosing col-wise multi-threading, the overhead of testing was 0.194090 seconds.\n",
      "You can set `force_col_wise=true` to remove the overhead.\n",
      "[LightGBM] [Warning] Auto-choosing col-wise multi-threading, the overhead of testing was 0.001290 seconds.\n",
      "You can set `force_col_wise=true` to remove the overhead.\n",
      "[LightGBM] [Warning] Auto-choosing row-wise multi-threading, the overhead of testing was 0.103395 seconds.\n",
      "You can set `force_row_wise=true` to remove the overhead.\n",
      "And if memory is not enough, you can set `force_col_wise=true`.\n",
      "[LightGBM] [Warning] Auto-choosing col-wise multi-threading, the overhead of testing was 0.112228 seconds.\n",
      "You can set `force_col_wise=true` to remove the overhead.\n",
      "[LightGBM] [Warning] No further splits with positive gain, best gain: -inf\n",
      "[LightGBM] [Warning] No further splits with positive gain, best gain: -inf\n",
      "[LightGBM] [Warning] No further splits with positive gain, best gain: -inf\n",
      "[LightGBM] [Warning] No further splits with positive gain, best gain: -inf\n",
      "[LightGBM] [Warning] No further splits with positive gain, best gain: -inf\n",
      "[LightGBM] [Warning] Auto-choosing row-wise multi-threading, the overhead of testing was 0.096595 seconds.\n",
      "You can set `force_row_wise=true` to remove the overhead.\n",
      "And if memory is not enough, you can set `force_col_wise=true`.\n",
      "[LightGBM] [Warning] Auto-choosing row-wise multi-threading, the overhead of testing was 0.096292 seconds.\n",
      "You can set `force_row_wise=true` to remove the overhead.\n",
      "And if memory is not enough, you can set `force_col_wise=true`.\n",
      "[LightGBM] [Warning] Auto-choosing col-wise multi-threading, the overhead of testing was 0.188086 seconds.\n",
      "You can set `force_col_wise=true` to remove the overhead.\n",
      "[LightGBM] [Warning] Auto-choosing col-wise multi-threading, the overhead of testing was 0.199745 seconds.\n",
      "You can set `force_col_wise=true` to remove the overhead.\n",
      "[LightGBM] [Warning] No further splits with positive gain, best gain: -inf\n",
      "[LightGBM] [Warning] No further splits with positive gain, best gain: -inf\n",
      "[LightGBM] [Warning] No further splits with positive gain, best gain: -inf\n",
      "[LightGBM] [Warning] No further splits with positive gain, best gain: -inf\n",
      "[LightGBM] [Warning] No further splits with positive gain, best gain: -inf\n",
      "[LightGBM] [Warning] Auto-choosing row-wise multi-threading, the overhead of testing was 0.098655 seconds.\n",
      "You can set `force_row_wise=true` to remove the overhead.\n",
      "And if memory is not enough, you can set `force_col_wise=true`.\n",
      "[LightGBM] [Warning] Auto-choosing col-wise multi-threading, the overhead of testing was 0.192903 seconds.\n",
      "You can set `force_col_wise=true` to remove the overhead.\n",
      "[LightGBM] [Warning] Auto-choosing row-wise multi-threading, the overhead of testing was 0.094197 seconds.\n",
      "You can set `force_row_wise=true` to remove the overhead.\n",
      "And if memory is not enough, you can set `force_col_wise=true`.\n",
      "[LightGBM] [Warning] Auto-choosing col-wise multi-threading, the overhead of testing was 0.180544 seconds.\n",
      "You can set `force_col_wise=true` to remove the overhead.\n",
      "[LightGBM] [Warning] No further splits with positive gain, best gain: -inf\n",
      "[LightGBM] [Warning] No further splits with positive gain, best gain: -inf\n",
      "[LightGBM] [Warning] No further splits with positive gain, best gain: -inf\n",
      "[LightGBM] [Warning] No further splits with positive gain, best gain: -inf\n",
      "[LightGBM] [Warning] No further splits with positive gain, best gain: -inf\n",
      "[LightGBM] [Warning] No further splits with positive gain, best gain: -inf\n",
      "[LightGBM] [Warning] No further splits with positive gain, best gain: -inf\n",
      "[LightGBM] [Warning] No further splits with positive gain, best gain: -inf\n",
      "[LightGBM] [Warning] No further splits with positive gain, best gain: -inf\n",
      "[LightGBM] [Warning] No further splits with positive gain, best gain: -inf\n",
      "[LightGBM] [Warning] No further splits with positive gain, best gain: -inf\n",
      "[LightGBM] [Warning] No further splits with positive gain, best gain: -inf\n",
      "[LightGBM] [Warning] No further splits with positive gain, best gain: -inf\n",
      "[LightGBM] [Warning] No further splits with positive gain, best gain: -inf\n",
      "[LightGBM] [Warning] No further splits with positive gain, best gain: -inf\n",
      "[LightGBM] [Warning] No further splits with positive gain, best gain: -inf\n",
      "[LightGBM] [Warning] No further splits with positive gain, best gain: -inf\n",
      "[LightGBM] [Warning] No further splits with positive gain, best gain: -inf\n",
      "[LightGBM] [Warning] No further splits with positive gain, best gain: -inf\n",
      "[LightGBM] [Warning] No further splits with positive gain, best gain: -inf\n",
      "[LightGBM] [Warning] No further splits with positive gain, best gain: -inf\n",
      "[LightGBM] [Warning] No further splits with positive gain, best gain: -inf\n",
      "[LightGBM] [Warning] No further splits with positive gain, best gain: -inf\n",
      "[LightGBM] [Warning] No further splits with positive gain, best gain: -inf\n",
      "[LightGBM] [Warning] No further splits with positive gain, best gain: -inf\n",
      "[LightGBM] [Warning] No further splits with positive gain, best gain: -inf\n",
      "[LightGBM] [Warning] No further splits with positive gain, best gain: -inf\n",
      "[LightGBM] [Warning] No further splits with positive gain, best gain: -inf\n",
      "[LightGBM] [Warning] No further splits with positive gain, best gain: -inf\n",
      "[LightGBM] [Warning] No further splits with positive gain, best gain: -inf\n",
      "[LightGBM] [Warning] Auto-choosing col-wise multi-threading, the overhead of testing was 0.195092 seconds.\n",
      "You can set `force_col_wise=true` to remove the overhead.\n",
      "[LightGBM] [Warning] Auto-choosing row-wise multi-threading, the overhead of testing was 0.112489 seconds.\n",
      "You can set `force_row_wise=true` to remove the overhead.\n",
      "And if memory is not enough, you can set `force_col_wise=true`.\n",
      "[LightGBM] [Warning] Auto-choosing col-wise multi-threading, the overhead of testing was 0.196816 seconds.\n",
      "You can set `force_col_wise=true` to remove the overhead.\n",
      "[LightGBM] [Warning] Auto-choosing col-wise multi-threading, the overhead of testing was 0.120076 seconds.\n",
      "You can set `force_col_wise=true` to remove the overhead.\n",
      "[LightGBM] [Warning] Auto-choosing col-wise multi-threading, the overhead of testing was 0.120389 seconds.\n",
      "You can set `force_col_wise=true` to remove the overhead.\n",
      "[LightGBM] [Warning] Auto-choosing row-wise multi-threading, the overhead of testing was 0.034586 seconds.\n",
      "You can set `force_row_wise=true` to remove the overhead.\n",
      "And if memory is not enough, you can set `force_col_wise=true`.\n",
      "[LightGBM] [Warning] Auto-choosing row-wise multi-threading, the overhead of testing was 0.105565 seconds.\n",
      "You can set `force_row_wise=true` to remove the overhead.\n",
      "And if memory is not enough, you can set `force_col_wise=true`.\n",
      "[LightGBM] [Warning] Auto-choosing col-wise multi-threading, the overhead of testing was 0.001051 seconds.\n",
      "You can set `force_col_wise=true` to remove the overhead.\n",
      "[LightGBM] [Warning] No further splits with positive gain, best gain: -inf\n",
      "[LightGBM] [Warning] No further splits with positive gain, best gain: -inf\n",
      "[LightGBM] [Warning] Auto-choosing col-wise multi-threading, the overhead of testing was 0.199243 seconds.\n",
      "You can set `force_col_wise=true` to remove the overhead.\n",
      "[LightGBM] [Warning] Auto-choosing col-wise multi-threading, the overhead of testing was 0.139493 seconds.\n",
      "You can set `force_col_wise=true` to remove the overhead.\n",
      "[LightGBM] [Warning] Auto-choosing col-wise multi-threading, the overhead of testing was 0.199106 seconds.\n",
      "You can set `force_col_wise=true` to remove the overhead.\n",
      "[LightGBM] [Warning] Auto-choosing col-wise multi-threading, the overhead of testing was 0.204263 seconds.\n",
      "You can set `force_col_wise=true` to remove the overhead.\n",
      "[LightGBM] [Warning] Auto-choosing row-wise multi-threading, the overhead of testing was 0.114906 seconds.\n",
      "You can set `force_row_wise=true` to remove the overhead.\n",
      "And if memory is not enough, you can set `force_col_wise=true`.\n",
      "[LightGBM] [Warning] Auto-choosing col-wise multi-threading, the overhead of testing was 0.200381 seconds.\n",
      "You can set `force_col_wise=true` to remove the overhead.\n",
      "[LightGBM] [Warning] Auto-choosing col-wise multi-threading, the overhead of testing was 0.195953 seconds.\n",
      "You can set `force_col_wise=true` to remove the overhead.\n",
      "[LightGBM] [Warning] Auto-choosing col-wise multi-threading, the overhead of testing was 0.000968 seconds.\n",
      "You can set `force_col_wise=true` to remove the overhead.\n",
      "[LightGBM] [Warning] Auto-choosing col-wise multi-threading, the overhead of testing was 0.115838 seconds.\n",
      "You can set `force_col_wise=true` to remove the overhead.\n",
      "[LightGBM] [Warning] Auto-choosing col-wise multi-threading, the overhead of testing was 0.185398 seconds.\n",
      "You can set `force_col_wise=true` to remove the overhead.\n",
      "[LightGBM] [Warning] Auto-choosing col-wise multi-threading, the overhead of testing was 0.001624 seconds.\n",
      "You can set `force_col_wise=true` to remove the overhead.\n",
      "[LightGBM] [Warning] Auto-choosing col-wise multi-threading, the overhead of testing was 0.110843 seconds.\n",
      "You can set `force_col_wise=true` to remove the overhead.\n",
      "[LightGBM] [Warning] Auto-choosing row-wise multi-threading, the overhead of testing was 0.094491 seconds.\n",
      "You can set `force_row_wise=true` to remove the overhead.\n",
      "And if memory is not enough, you can set `force_col_wise=true`.\n",
      "[LightGBM] [Warning] Auto-choosing col-wise multi-threading, the overhead of testing was 0.112639 seconds.\n",
      "You can set `force_col_wise=true` to remove the overhead.\n",
      "[LightGBM] [Warning] Auto-choosing col-wise multi-threading, the overhead of testing was 0.096539 seconds.\n",
      "You can set `force_col_wise=true` to remove the overhead.\n",
      "[LightGBM] [Warning] Auto-choosing col-wise multi-threading, the overhead of testing was 0.180037 seconds.\n",
      "You can set `force_col_wise=true` to remove the overhead.\n"
     ]
    }
   ],
   "source": [
    "random_2.fit(X_train, y_train)\n",
    "rmse_2 = random_2.best_score_ * (-1)"
   ]
  },
  {
   "cell_type": "code",
   "execution_count": 33,
   "metadata": {},
   "outputs": [
    {
     "name": "stdout",
     "output_type": "stream",
     "text": [
      "RMSE с кросс-валидации: 29.824415638212333\n"
     ]
    }
   ],
   "source": [
    "print(\"RMSE с кросс-валидации:\", rmse_2)"
   ]
  },
  {
   "cell_type": "code",
   "execution_count": 34,
   "metadata": {},
   "outputs": [],
   "source": [
    "best_model_2 = random_2.best_estimator_"
   ]
  },
  {
   "cell_type": "code",
   "execution_count": 35,
   "metadata": {},
   "outputs": [],
   "source": [
    "results.append(rmse_2)"
   ]
  },
  {
   "cell_type": "markdown",
   "metadata": {},
   "source": [
    "- у всех моделей RMSE на кросс-валидации не превосходит отметку в 48"
   ]
  },
  {
   "cell_type": "markdown",
   "metadata": {},
   "source": [
    "## Анализ моделей"
   ]
  },
  {
   "cell_type": "code",
   "execution_count": 36,
   "metadata": {},
   "outputs": [
    {
     "data": {
      "text/html": [
       "<div>\n",
       "<style scoped>\n",
       "    .dataframe tbody tr th:only-of-type {\n",
       "        vertical-align: middle;\n",
       "    }\n",
       "\n",
       "    .dataframe tbody tr th {\n",
       "        vertical-align: top;\n",
       "    }\n",
       "\n",
       "    .dataframe thead th {\n",
       "        text-align: right;\n",
       "    }\n",
       "</style>\n",
       "<table border=\"1\" class=\"dataframe\">\n",
       "  <thead>\n",
       "    <tr style=\"text-align: right;\">\n",
       "      <th></th>\n",
       "      <th>model</th>\n",
       "      <th>RMSE</th>\n",
       "    </tr>\n",
       "  </thead>\n",
       "  <tbody>\n",
       "    <tr>\n",
       "      <th>0</th>\n",
       "      <td>LinearRegression</td>\n",
       "      <td>25.219107</td>\n",
       "    </tr>\n",
       "    <tr>\n",
       "      <th>1</th>\n",
       "      <td>CatBoost</td>\n",
       "      <td>25.539811</td>\n",
       "    </tr>\n",
       "    <tr>\n",
       "      <th>2</th>\n",
       "      <td>LightGBM</td>\n",
       "      <td>29.824416</td>\n",
       "    </tr>\n",
       "  </tbody>\n",
       "</table>\n",
       "</div>"
      ],
      "text/plain": [
       "              model       RMSE\n",
       "0  LinearRegression  25.219107\n",
       "1          CatBoost  25.539811\n",
       "2          LightGBM  29.824416"
      ]
     },
     "execution_count": 36,
     "metadata": {},
     "output_type": "execute_result"
    }
   ],
   "source": [
    "table = pd.DataFrame({\n",
    "    'model': models,\n",
    "    'RMSE': results\n",
    "})\n",
    "\n",
    "table"
   ]
  },
  {
   "cell_type": "markdown",
   "metadata": {},
   "source": [
    "В целом все модели примерно одинаково хороши.   \n",
    "**Лучшая модель –– LinearRegression** \n"
   ]
  },
  {
   "cell_type": "markdown",
   "metadata": {},
   "source": [
    "## Проверка лучшей модели на адекватность"
   ]
  },
  {
   "cell_type": "code",
   "execution_count": 37,
   "metadata": {
    "scrolled": true
   },
   "outputs": [
    {
     "name": "stdout",
     "output_type": "stream",
     "text": [
      "RMSE: 58.856486242815066\n"
     ]
    }
   ],
   "source": [
    "# Прогноз с использованием предыдущего значения ряда\n",
    "pred_previous = test['num_orders'].shift()\n",
    "\n",
    "# Заполнение первого значения предыдущим значением ряда\n",
    "pred_previous.iloc[0] = train['num_orders'].iloc[-1]\n",
    "\n",
    "# Вычисление MAE\n",
    "rmse = mean_squared_error(test['num_orders'], pred_previous) ** 0.5\n",
    "print('RMSE:', rmse)"
   ]
  },
  {
   "cell_type": "markdown",
   "metadata": {},
   "source": [
    "- выбранная модель адекватна, всё в порядке"
   ]
  },
  {
   "cell_type": "code",
   "execution_count": 38,
   "metadata": {},
   "outputs": [
    {
     "name": "stdout",
     "output_type": "stream",
     "text": [
      "RMSE лучшей модели на тестовой выборке: 41.859592682838624\n"
     ]
    }
   ],
   "source": [
    "model.fit(X_train, y_train)\n",
    "pred = model.predict(X_test)\n",
    "rmse = mean_squared_error(y_test, pred) ** 0.5\n",
    "print('RMSE лучшей модели на тестовой выборке:', rmse)"
   ]
  },
  {
   "cell_type": "markdown",
   "metadata": {},
   "source": [
    "## Тестирование  и вывод"
   ]
  },
  {
   "cell_type": "code",
   "execution_count": 39,
   "metadata": {},
   "outputs": [],
   "source": [
    "preds = pd.DataFrame(pred, index = y_test.index)"
   ]
  },
  {
   "cell_type": "code",
   "execution_count": 40,
   "metadata": {},
   "outputs": [
    {
     "data": {
      "image/png": "[encoded data removed]",
      "text/plain": [
       "<Figure size 1080x360 with 1 Axes>"
      ]
     },
     "metadata": {
      "needs_background": "light"
     },
     "output_type": "display_data"
    }
   ],
   "source": [
    "plt.figure(figsize=(15, 5))\n",
    "\n",
    "plt.subplot()\n",
    "\n",
    "y_test['2018-08-12':'2018-08-14'].plot(ax=plt.gca(), label='Реальные данные')\n",
    "preds['2018-08-12':'2018-08-14'].plot(ax=plt.gca(), label='Предсказание модели')\n",
    "\n",
    "plt.legend(['Реальные данные', 'Предсказание модели'])\n",
    "plt.xlabel('Время')\n",
    "plt.ylabel('Количество заказов в час')\n",
    "\n",
    "plt.title('Сравнение предсказанных и реальных данных за 2 дня')\n",
    "plt.show()"
   ]
  },
  {
   "cell_type": "markdown",
   "metadata": {},
   "source": [
    "- модель хорошо предсказывает спрос, достаточно точно устанавливая максимумы и минимумы на графике\n"
   ]
  }
 ],
 "metadata": {
  "ExecuteTimeLog": [
   {
    "duration": 351,
    "start_time": "2024-03-30T19:18:22.025Z"
   },
   {
    "duration": 202,
    "start_time": "2024-03-30T19:18:50.962Z"
   },
   {
    "duration": 15,
    "start_time": "2024-03-30T19:18:54.412Z"
   },
   {
    "duration": 66,
    "start_time": "2024-03-30T19:19:59.231Z"
   },
   {
    "duration": 6,
    "start_time": "2024-03-30T19:20:12.938Z"
   },
   {
    "duration": 12,
    "start_time": "2024-03-30T19:20:19.360Z"
   },
   {
    "duration": 9,
    "start_time": "2024-03-30T19:20:53.590Z"
   },
   {
    "duration": 12,
    "start_time": "2024-03-30T19:20:56.165Z"
   },
   {
    "duration": 10,
    "start_time": "2024-03-30T19:21:01.311Z"
   },
   {
    "duration": 76,
    "start_time": "2024-03-30T19:21:38.546Z"
   },
   {
    "duration": 6,
    "start_time": "2024-03-30T19:21:39.707Z"
   },
   {
    "duration": 9,
    "start_time": "2024-03-30T19:21:41.991Z"
   },
   {
    "duration": 976,
    "start_time": "2024-03-30T19:21:53.712Z"
   },
   {
    "duration": 3,
    "start_time": "2024-03-30T19:22:00.576Z"
   },
   {
    "duration": 7,
    "start_time": "2024-03-30T19:22:03.243Z"
   },
   {
    "duration": 8,
    "start_time": "2024-03-30T19:22:09.988Z"
   },
   {
    "duration": 3,
    "start_time": "2024-03-30T19:22:19.041Z"
   },
   {
    "duration": 6,
    "start_time": "2024-03-30T19:22:36.795Z"
   },
   {
    "duration": 7,
    "start_time": "2024-03-30T19:22:45.722Z"
   },
   {
    "duration": 4,
    "start_time": "2024-03-30T19:28:55.453Z"
   },
   {
    "duration": 6,
    "start_time": "2024-03-30T19:29:47.299Z"
   },
   {
    "duration": 51,
    "start_time": "2024-03-31T12:21:58.032Z"
   },
   {
    "duration": 407,
    "start_time": "2024-03-31T12:22:03.711Z"
   },
   {
    "duration": 185,
    "start_time": "2024-03-31T12:22:04.120Z"
   },
   {
    "duration": 13,
    "start_time": "2024-03-31T12:22:04.306Z"
   },
   {
    "duration": 24,
    "start_time": "2024-03-31T12:22:04.321Z"
   },
   {
    "duration": 2,
    "start_time": "2024-03-31T12:22:04.348Z"
   },
   {
    "duration": 16,
    "start_time": "2024-03-31T12:22:04.351Z"
   },
   {
    "duration": 12,
    "start_time": "2024-03-31T12:22:04.368Z"
   },
   {
    "duration": 14,
    "start_time": "2024-03-31T12:22:04.381Z"
   },
   {
    "duration": 11,
    "start_time": "2024-03-31T12:22:04.396Z"
   },
   {
    "duration": 66,
    "start_time": "2024-03-31T12:26:36.789Z"
   },
   {
    "duration": 482,
    "start_time": "2024-03-31T12:26:48.900Z"
   },
   {
    "duration": 12,
    "start_time": "2024-03-31T12:26:51.663Z"
   },
   {
    "duration": 39,
    "start_time": "2024-03-31T12:27:06.752Z"
   },
   {
    "duration": 457,
    "start_time": "2024-03-31T12:27:23.398Z"
   },
   {
    "duration": 791,
    "start_time": "2024-03-31T12:27:27.228Z"
   },
   {
    "duration": 9,
    "start_time": "2024-03-31T12:28:08.192Z"
   },
   {
    "duration": 652,
    "start_time": "2024-03-31T12:33:49.316Z"
   },
   {
    "duration": 690,
    "start_time": "2024-03-31T12:34:14.363Z"
   },
   {
    "duration": 617,
    "start_time": "2024-03-31T12:34:25.038Z"
   },
   {
    "duration": 517,
    "start_time": "2024-03-31T12:35:00.979Z"
   },
   {
    "duration": 272,
    "start_time": "2024-03-31T12:36:57.603Z"
   },
   {
    "duration": 209,
    "start_time": "2024-03-31T12:37:57.734Z"
   },
   {
    "duration": 266,
    "start_time": "2024-03-31T12:38:28.722Z"
   },
   {
    "duration": 3,
    "start_time": "2024-03-31T12:39:06.241Z"
   },
   {
    "duration": 198,
    "start_time": "2024-03-31T12:39:09.806Z"
   },
   {
    "duration": 11,
    "start_time": "2024-03-31T13:02:27.088Z"
   },
   {
    "duration": 1170,
    "start_time": "2024-03-31T13:02:27.101Z"
   },
   {
    "duration": 78,
    "start_time": "2024-03-31T13:02:28.272Z"
   },
   {
    "duration": 13,
    "start_time": "2024-03-31T13:02:28.352Z"
   },
   {
    "duration": 29,
    "start_time": "2024-03-31T13:02:28.368Z"
   },
   {
    "duration": 6,
    "start_time": "2024-03-31T13:02:28.399Z"
   },
   {
    "duration": 19,
    "start_time": "2024-03-31T13:02:28.406Z"
   },
   {
    "duration": 5,
    "start_time": "2024-03-31T13:02:28.427Z"
   },
   {
    "duration": 28,
    "start_time": "2024-03-31T13:02:28.435Z"
   },
   {
    "duration": 44,
    "start_time": "2024-03-31T13:02:28.464Z"
   },
   {
    "duration": 596,
    "start_time": "2024-03-31T13:02:28.509Z"
   },
   {
    "duration": 206,
    "start_time": "2024-03-31T13:02:33.318Z"
   },
   {
    "duration": 4,
    "start_time": "2024-03-31T13:05:27.060Z"
   },
   {
    "duration": 90,
    "start_time": "2024-03-31T13:08:58.465Z"
   },
   {
    "duration": 3,
    "start_time": "2024-03-31T13:09:02.726Z"
   },
   {
    "duration": 9,
    "start_time": "2024-03-31T13:11:10.605Z"
   },
   {
    "duration": 662,
    "start_time": "2024-03-31T13:11:11.243Z"
   },
   {
    "duration": 488,
    "start_time": "2024-03-31T13:11:23.833Z"
   },
   {
    "duration": 835,
    "start_time": "2024-03-31T13:11:31.954Z"
   },
   {
    "duration": 790,
    "start_time": "2024-03-31T13:11:38.739Z"
   },
   {
    "duration": 10,
    "start_time": "2024-03-31T13:13:28.756Z"
   },
   {
    "duration": 240,
    "start_time": "2024-03-31T13:13:39.481Z"
   },
   {
    "duration": 239,
    "start_time": "2024-03-31T13:13:47.807Z"
   },
   {
    "duration": 4,
    "start_time": "2024-03-31T13:14:52.827Z"
   },
   {
    "duration": 14,
    "start_time": "2024-03-31T13:29:08.805Z"
   },
   {
    "duration": 16,
    "start_time": "2024-03-31T13:29:29.132Z"
   },
   {
    "duration": 372,
    "start_time": "2024-03-31T13:29:47.773Z"
   },
   {
    "duration": 25,
    "start_time": "2024-03-31T13:29:52.883Z"
   },
   {
    "duration": 4,
    "start_time": "2024-03-31T13:30:07.634Z"
   },
   {
    "duration": 23,
    "start_time": "2024-03-31T13:30:13.344Z"
   },
   {
    "duration": 36,
    "start_time": "2024-03-31T13:30:21.649Z"
   },
   {
    "duration": 30,
    "start_time": "2024-03-31T13:30:36.265Z"
   },
   {
    "duration": 32,
    "start_time": "2024-03-31T13:30:50.986Z"
   },
   {
    "duration": 35,
    "start_time": "2024-03-31T13:30:58.528Z"
   },
   {
    "duration": 23,
    "start_time": "2024-03-31T13:31:07.115Z"
   },
   {
    "duration": 8,
    "start_time": "2024-03-31T13:34:02.914Z"
   },
   {
    "duration": 1420,
    "start_time": "2024-03-31T13:34:02.924Z"
   },
   {
    "duration": 106,
    "start_time": "2024-03-31T13:34:04.346Z"
   },
   {
    "duration": 12,
    "start_time": "2024-03-31T13:34:04.454Z"
   },
   {
    "duration": 9,
    "start_time": "2024-03-31T13:34:04.468Z"
   },
   {
    "duration": 2,
    "start_time": "2024-03-31T13:34:04.479Z"
   },
   {
    "duration": 9,
    "start_time": "2024-03-31T13:34:04.483Z"
   },
   {
    "duration": 7,
    "start_time": "2024-03-31T13:34:04.493Z"
   },
   {
    "duration": 11,
    "start_time": "2024-03-31T13:34:04.501Z"
   },
   {
    "duration": 3,
    "start_time": "2024-03-31T13:34:04.514Z"
   },
   {
    "duration": 14,
    "start_time": "2024-03-31T13:34:04.518Z"
   },
   {
    "duration": 900,
    "start_time": "2024-03-31T13:34:04.533Z"
   },
   {
    "duration": 233,
    "start_time": "2024-03-31T13:34:05.435Z"
   },
   {
    "duration": 4,
    "start_time": "2024-03-31T13:34:05.672Z"
   },
   {
    "duration": 95802,
    "start_time": "2024-03-31T13:34:05.678Z"
   },
   {
    "duration": 97,
    "start_time": "2024-03-31T13:36:34.632Z"
   },
   {
    "duration": 202,
    "start_time": "2024-03-31T13:36:47.374Z"
   },
   {
    "duration": 98,
    "start_time": "2024-03-31T13:37:00.180Z"
   },
   {
    "duration": 76,
    "start_time": "2024-03-31T13:37:23.506Z"
   },
   {
    "duration": 126,
    "start_time": "2024-03-31T13:37:33.756Z"
   },
   {
    "duration": 192,
    "start_time": "2024-03-31T13:37:49.191Z"
   },
   {
    "duration": 10,
    "start_time": "2024-03-31T18:53:46.909Z"
   },
   {
    "duration": 1571,
    "start_time": "2024-03-31T18:53:46.921Z"
   },
   {
    "duration": 181,
    "start_time": "2024-03-31T18:53:48.494Z"
   },
   {
    "duration": 11,
    "start_time": "2024-03-31T18:53:48.677Z"
   },
   {
    "duration": 10,
    "start_time": "2024-03-31T18:53:48.689Z"
   },
   {
    "duration": 3,
    "start_time": "2024-03-31T18:53:48.700Z"
   },
   {
    "duration": 6,
    "start_time": "2024-03-31T18:53:48.704Z"
   },
   {
    "duration": 5,
    "start_time": "2024-03-31T18:53:48.712Z"
   },
   {
    "duration": 40,
    "start_time": "2024-03-31T18:53:48.718Z"
   },
   {
    "duration": 4,
    "start_time": "2024-03-31T18:53:48.762Z"
   },
   {
    "duration": 44,
    "start_time": "2024-03-31T18:53:48.767Z"
   },
   {
    "duration": 874,
    "start_time": "2024-03-31T18:53:48.813Z"
   },
   {
    "duration": 214,
    "start_time": "2024-03-31T18:53:49.689Z"
   },
   {
    "duration": 4,
    "start_time": "2024-03-31T18:53:49.904Z"
   },
   {
    "duration": 102355,
    "start_time": "2024-03-31T18:53:49.909Z"
   },
   {
    "duration": 400,
    "start_time": "2024-03-31T18:55:32.271Z"
   },
   {
    "duration": 59,
    "start_time": "2024-04-01T15:56:24.152Z"
   },
   {
    "duration": 8,
    "start_time": "2024-04-01T15:56:38.891Z"
   },
   {
    "duration": 15,
    "start_time": "2024-04-01T16:00:20.884Z"
   },
   {
    "duration": 9,
    "start_time": "2024-04-01T16:00:34.369Z"
   },
   {
    "duration": 1683,
    "start_time": "2024-04-01T16:00:34.381Z"
   },
   {
    "duration": 136,
    "start_time": "2024-04-01T16:00:36.069Z"
   },
   {
    "duration": 14,
    "start_time": "2024-04-01T16:00:36.206Z"
   },
   {
    "duration": 11,
    "start_time": "2024-04-01T16:00:36.222Z"
   },
   {
    "duration": 8,
    "start_time": "2024-04-01T16:00:36.235Z"
   },
   {
    "duration": 10,
    "start_time": "2024-04-01T16:00:36.244Z"
   },
   {
    "duration": 6,
    "start_time": "2024-04-01T16:00:36.270Z"
   },
   {
    "duration": 14,
    "start_time": "2024-04-01T16:00:36.280Z"
   },
   {
    "duration": 21,
    "start_time": "2024-04-01T16:00:36.296Z"
   },
   {
    "duration": 25,
    "start_time": "2024-04-01T16:00:36.318Z"
   },
   {
    "duration": 961,
    "start_time": "2024-04-01T16:00:36.344Z"
   },
   {
    "duration": 246,
    "start_time": "2024-04-01T16:00:37.307Z"
   },
   {
    "duration": 4,
    "start_time": "2024-04-01T16:00:37.555Z"
   },
   {
    "duration": 129220,
    "start_time": "2024-04-01T16:00:37.570Z"
   },
   {
    "duration": 488,
    "start_time": "2024-04-01T16:02:46.795Z"
   },
   {
    "duration": 15,
    "start_time": "2024-04-01T16:51:35.103Z"
   },
   {
    "duration": 36010,
    "start_time": "2024-04-01T16:55:17.672Z"
   },
   {
    "duration": 3,
    "start_time": "2024-04-01T17:01:04.988Z"
   },
   {
    "duration": 2,
    "start_time": "2024-04-01T17:02:16.309Z"
   },
   {
    "duration": 3,
    "start_time": "2024-04-01T17:02:37.049Z"
   },
   {
    "duration": 14,
    "start_time": "2024-04-01T17:03:14.509Z"
   },
   {
    "duration": 110,
    "start_time": "2024-04-01T17:05:05.074Z"
   },
   {
    "duration": 22,
    "start_time": "2024-04-01T17:17:56.405Z"
   },
   {
    "duration": 32413,
    "start_time": "2024-04-01T17:18:07.322Z"
   },
   {
    "duration": 3,
    "start_time": "2024-04-01T17:22:07.612Z"
   },
   {
    "duration": 4,
    "start_time": "2024-04-01T17:22:59.869Z"
   },
   {
    "duration": 17,
    "start_time": "2024-04-01T17:29:12.613Z"
   },
   {
    "duration": 10,
    "start_time": "2024-04-01T17:30:01.083Z"
   },
   {
    "duration": 4,
    "start_time": "2024-04-01T17:30:25.599Z"
   },
   {
    "duration": 12,
    "start_time": "2024-04-01T17:30:34.796Z"
   },
   {
    "duration": 14,
    "start_time": "2024-04-01T17:30:39.935Z"
   },
   {
    "duration": 3,
    "start_time": "2024-04-01T17:30:52.251Z"
   },
   {
    "duration": 3,
    "start_time": "2024-04-01T17:30:54.412Z"
   },
   {
    "duration": 16,
    "start_time": "2024-04-01T17:30:56.037Z"
   },
   {
    "duration": 3,
    "start_time": "2024-04-01T17:33:04.234Z"
   },
   {
    "duration": 3,
    "start_time": "2024-04-01T17:33:04.747Z"
   },
   {
    "duration": 15,
    "start_time": "2024-04-01T17:33:05.296Z"
   },
   {
    "duration": 4,
    "start_time": "2024-04-01T17:33:15.600Z"
   },
   {
    "duration": 3,
    "start_time": "2024-04-01T17:33:15.857Z"
   },
   {
    "duration": 14,
    "start_time": "2024-04-01T17:33:16.311Z"
   },
   {
    "duration": 3,
    "start_time": "2024-04-01T17:34:38.924Z"
   },
   {
    "duration": 15,
    "start_time": "2024-04-01T17:34:39.436Z"
   },
   {
    "duration": 3,
    "start_time": "2024-04-01T17:34:52.035Z"
   },
   {
    "duration": 14,
    "start_time": "2024-04-01T17:34:52.587Z"
   },
   {
    "duration": 3,
    "start_time": "2024-04-01T17:35:41.429Z"
   },
   {
    "duration": 9,
    "start_time": "2024-04-01T17:35:42.361Z"
   },
   {
    "duration": 14,
    "start_time": "2024-04-01T17:35:43.083Z"
   },
   {
    "duration": 3,
    "start_time": "2024-04-01T17:35:49.818Z"
   },
   {
    "duration": 13,
    "start_time": "2024-04-01T17:35:50.615Z"
   },
   {
    "duration": 3,
    "start_time": "2024-04-01T17:39:41.399Z"
   },
   {
    "duration": 3,
    "start_time": "2024-04-01T17:39:41.644Z"
   },
   {
    "duration": 14,
    "start_time": "2024-04-01T17:39:42.077Z"
   },
   {
    "duration": 9,
    "start_time": "2024-04-01T17:39:42.644Z"
   },
   {
    "duration": 8,
    "start_time": "2024-04-01T17:39:57.150Z"
   },
   {
    "duration": 12,
    "start_time": "2024-04-01T17:40:06.757Z"
   },
   {
    "duration": 8,
    "start_time": "2024-04-01T17:40:44.951Z"
   },
   {
    "duration": 1400,
    "start_time": "2024-04-01T17:40:44.960Z"
   },
   {
    "duration": 148,
    "start_time": "2024-04-01T17:40:46.362Z"
   },
   {
    "duration": 12,
    "start_time": "2024-04-01T17:40:46.512Z"
   },
   {
    "duration": 14,
    "start_time": "2024-04-01T17:40:46.526Z"
   },
   {
    "duration": 8,
    "start_time": "2024-04-01T17:40:46.542Z"
   },
   {
    "duration": 8,
    "start_time": "2024-04-01T17:40:46.551Z"
   },
   {
    "duration": 11,
    "start_time": "2024-04-01T17:40:46.560Z"
   },
   {
    "duration": 28,
    "start_time": "2024-04-01T17:40:46.572Z"
   },
   {
    "duration": 12,
    "start_time": "2024-04-01T17:40:46.603Z"
   },
   {
    "duration": 18,
    "start_time": "2024-04-01T17:40:46.617Z"
   },
   {
    "duration": 876,
    "start_time": "2024-04-01T17:40:46.637Z"
   },
   {
    "duration": 300,
    "start_time": "2024-04-01T17:40:47.514Z"
   },
   {
    "duration": 3,
    "start_time": "2024-04-01T17:40:47.816Z"
   },
   {
    "duration": 15553,
    "start_time": "2024-04-01T17:40:47.821Z"
   },
   {
    "duration": 111,
    "start_time": "2024-04-01T17:41:03.377Z"
   },
   {
    "duration": 15,
    "start_time": "2024-04-01T17:41:03.490Z"
   },
   {
    "duration": 5,
    "start_time": "2024-04-01T17:41:03.507Z"
   },
   {
    "duration": 116,
    "start_time": "2024-04-01T17:41:03.514Z"
   },
   {
    "duration": 0,
    "start_time": "2024-04-01T17:41:03.632Z"
   },
   {
    "duration": 0,
    "start_time": "2024-04-01T17:41:03.632Z"
   },
   {
    "duration": 0,
    "start_time": "2024-04-01T17:41:03.634Z"
   },
   {
    "duration": 0,
    "start_time": "2024-04-01T17:41:03.635Z"
   },
   {
    "duration": 0,
    "start_time": "2024-04-01T17:41:03.636Z"
   },
   {
    "duration": 3,
    "start_time": "2024-04-01T17:50:21.129Z"
   },
   {
    "duration": 3,
    "start_time": "2024-04-01T17:50:21.444Z"
   },
   {
    "duration": 778,
    "start_time": "2024-04-01T17:50:24.370Z"
   },
   {
    "duration": 770,
    "start_time": "2024-04-01T17:50:44.156Z"
   },
   {
    "duration": 756,
    "start_time": "2024-04-01T17:50:53.344Z"
   },
   {
    "duration": 3,
    "start_time": "2024-04-01T17:51:10.070Z"
   },
   {
    "duration": 5,
    "start_time": "2024-04-01T17:51:54.453Z"
   },
   {
    "duration": 51,
    "start_time": "2024-04-01T17:52:03.480Z"
   },
   {
    "duration": 48,
    "start_time": "2024-04-01T17:52:39.029Z"
   },
   {
    "duration": 4,
    "start_time": "2024-04-01T17:57:27.550Z"
   },
   {
    "duration": 36,
    "start_time": "2024-04-01T17:57:32.589Z"
   },
   {
    "duration": 4,
    "start_time": "2024-04-01T17:58:14.317Z"
   },
   {
    "duration": 896,
    "start_time": "2024-04-01T17:58:14.933Z"
   },
   {
    "duration": 4,
    "start_time": "2024-04-01T17:58:22.723Z"
   },
   {
    "duration": 37,
    "start_time": "2024-04-01T17:58:24.179Z"
   },
   {
    "duration": 4,
    "start_time": "2024-04-01T17:58:35.239Z"
   },
   {
    "duration": 1211,
    "start_time": "2024-04-01T17:58:36.172Z"
   },
   {
    "duration": 4,
    "start_time": "2024-04-01T17:58:39.257Z"
   },
   {
    "duration": 36,
    "start_time": "2024-04-01T17:58:40.507Z"
   },
   {
    "duration": 3,
    "start_time": "2024-04-01T17:59:44.599Z"
   },
   {
    "duration": 3,
    "start_time": "2024-04-01T17:59:44.905Z"
   },
   {
    "duration": 1483,
    "start_time": "2024-04-01T17:59:46.044Z"
   },
   {
    "duration": 5,
    "start_time": "2024-04-01T17:59:48.901Z"
   },
   {
    "duration": 53,
    "start_time": "2024-04-01T17:59:51.020Z"
   },
   {
    "duration": 21,
    "start_time": "2024-04-01T18:00:27.856Z"
   },
   {
    "duration": 3,
    "start_time": "2024-04-01T18:00:29.500Z"
   },
   {
    "duration": 4,
    "start_time": "2024-04-01T18:00:30.403Z"
   },
   {
    "duration": 3,
    "start_time": "2024-04-01T18:00:33.463Z"
   },
   {
    "duration": 3,
    "start_time": "2024-04-01T18:00:33.906Z"
   },
   {
    "duration": 1422,
    "start_time": "2024-04-01T18:00:34.645Z"
   },
   {
    "duration": 4,
    "start_time": "2024-04-01T18:00:36.070Z"
   },
   {
    "duration": 80,
    "start_time": "2024-04-01T18:00:36.076Z"
   },
   {
    "duration": 8421,
    "start_time": "2024-04-01T18:01:17.183Z"
   },
   {
    "duration": 3,
    "start_time": "2024-04-01T18:04:28.270Z"
   },
   {
    "duration": 3,
    "start_time": "2024-04-01T18:05:38.466Z"
   },
   {
    "duration": 10,
    "start_time": "2024-04-01T18:05:39.315Z"
   },
   {
    "duration": 55,
    "start_time": "2024-04-01T18:05:55.525Z"
   },
   {
    "duration": 3,
    "start_time": "2024-04-01T18:06:00.296Z"
   },
   {
    "duration": 8274,
    "start_time": "2024-04-01T18:06:01.779Z"
   },
   {
    "duration": 4,
    "start_time": "2024-04-01T18:06:22.193Z"
   },
   {
    "duration": 3,
    "start_time": "2024-04-01T18:06:22.788Z"
   },
   {
    "duration": 60043,
    "start_time": "2024-04-01T18:06:23.615Z"
   },
   {
    "duration": 3,
    "start_time": "2024-04-01T18:07:30.115Z"
   },
   {
    "duration": 798,
    "start_time": "2024-04-01T18:07:32.624Z"
   },
   {
    "duration": 3,
    "start_time": "2024-04-01T18:07:44.037Z"
   },
   {
    "duration": 4,
    "start_time": "2024-04-01T18:08:11.929Z"
   },
   {
    "duration": 1471,
    "start_time": "2024-04-01T18:08:39.142Z"
   },
   {
    "duration": 709,
    "start_time": "2024-04-01T18:08:55.280Z"
   },
   {
    "duration": 4,
    "start_time": "2024-04-01T18:09:01.548Z"
   },
   {
    "duration": 3,
    "start_time": "2024-04-01T18:10:27.820Z"
   },
   {
    "duration": 4,
    "start_time": "2024-04-01T18:11:00.270Z"
   },
   {
    "duration": 2112,
    "start_time": "2024-04-01T18:11:24.959Z"
   },
   {
    "duration": 200,
    "start_time": "2024-04-01T18:13:00.278Z"
   },
   {
    "duration": 26,
    "start_time": "2024-04-01T18:13:43.834Z"
   },
   {
    "duration": 19,
    "start_time": "2024-04-01T18:14:37.755Z"
   },
   {
    "duration": 4,
    "start_time": "2024-04-01T18:14:50.657Z"
   },
   {
    "duration": 4,
    "start_time": "2024-04-01T18:14:59.525Z"
   },
   {
    "duration": 4,
    "start_time": "2024-04-01T18:15:41.881Z"
   },
   {
    "duration": 550599,
    "start_time": "2024-04-01T18:15:42.386Z"
   },
   {
    "duration": 8,
    "start_time": "2024-04-01T20:12:26.483Z"
   },
   {
    "duration": 1749,
    "start_time": "2024-04-01T20:12:26.494Z"
   },
   {
    "duration": 521,
    "start_time": "2024-04-01T20:12:28.245Z"
   },
   {
    "duration": 12,
    "start_time": "2024-04-01T20:12:28.769Z"
   },
   {
    "duration": 14,
    "start_time": "2024-04-01T20:12:28.783Z"
   },
   {
    "duration": 3,
    "start_time": "2024-04-01T20:12:28.799Z"
   },
   {
    "duration": 15,
    "start_time": "2024-04-01T20:12:28.803Z"
   },
   {
    "duration": 5,
    "start_time": "2024-04-01T20:12:28.819Z"
   },
   {
    "duration": 21,
    "start_time": "2024-04-01T20:12:28.826Z"
   },
   {
    "duration": 4,
    "start_time": "2024-04-01T20:12:28.851Z"
   },
   {
    "duration": 33,
    "start_time": "2024-04-01T20:12:28.857Z"
   },
   {
    "duration": 905,
    "start_time": "2024-04-01T20:12:28.893Z"
   },
   {
    "duration": 309,
    "start_time": "2024-04-01T20:12:29.799Z"
   },
   {
    "duration": 4,
    "start_time": "2024-04-01T20:12:30.110Z"
   },
   {
    "duration": 11758,
    "start_time": "2024-04-01T20:12:30.116Z"
   },
   {
    "duration": 115,
    "start_time": "2024-04-01T20:12:41.878Z"
   },
   {
    "duration": 3,
    "start_time": "2024-04-01T20:12:41.995Z"
   },
   {
    "duration": 14,
    "start_time": "2024-04-01T20:12:41.999Z"
   },
   {
    "duration": 133,
    "start_time": "2024-04-01T20:12:42.015Z"
   },
   {
    "duration": 0,
    "start_time": "2024-04-01T20:12:42.150Z"
   },
   {
    "duration": 0,
    "start_time": "2024-04-01T20:12:42.151Z"
   },
   {
    "duration": 0,
    "start_time": "2024-04-01T20:12:42.152Z"
   },
   {
    "duration": 0,
    "start_time": "2024-04-01T20:12:42.153Z"
   },
   {
    "duration": 0,
    "start_time": "2024-04-01T20:12:42.155Z"
   },
   {
    "duration": 0,
    "start_time": "2024-04-01T20:12:42.155Z"
   },
   {
    "duration": 0,
    "start_time": "2024-04-01T20:12:42.157Z"
   },
   {
    "duration": 0,
    "start_time": "2024-04-01T20:12:42.158Z"
   },
   {
    "duration": 0,
    "start_time": "2024-04-01T20:12:42.173Z"
   },
   {
    "duration": 0,
    "start_time": "2024-04-01T20:12:42.174Z"
   },
   {
    "duration": 0,
    "start_time": "2024-04-01T20:12:42.176Z"
   },
   {
    "duration": 0,
    "start_time": "2024-04-01T20:12:42.178Z"
   },
   {
    "duration": 0,
    "start_time": "2024-04-01T20:12:42.179Z"
   },
   {
    "duration": 0,
    "start_time": "2024-04-01T20:12:42.180Z"
   },
   {
    "duration": 30,
    "start_time": "2024-04-01T20:14:43.332Z"
   },
   {
    "duration": 11,
    "start_time": "2024-04-01T20:34:25.230Z"
   },
   {
    "duration": 6,
    "start_time": "2024-04-01T20:43:01.123Z"
   },
   {
    "duration": 5,
    "start_time": "2024-04-01T20:47:00.147Z"
   },
   {
    "duration": 18,
    "start_time": "2024-04-01T20:48:44.229Z"
   },
   {
    "duration": 3,
    "start_time": "2024-04-01T20:49:01.640Z"
   },
   {
    "duration": 13,
    "start_time": "2024-04-01T20:49:07.385Z"
   },
   {
    "duration": 218,
    "start_time": "2024-04-01T20:49:16.064Z"
   },
   {
    "duration": 1897,
    "start_time": "2024-04-01T20:49:16.377Z"
   },
   {
    "duration": 3,
    "start_time": "2024-04-01T20:49:18.276Z"
   },
   {
    "duration": 3,
    "start_time": "2024-04-01T20:49:19.750Z"
   },
   {
    "duration": 4,
    "start_time": "2024-04-01T20:49:20.247Z"
   },
   {
    "duration": 56893,
    "start_time": "2024-04-01T20:49:20.827Z"
   },
   {
    "duration": 3,
    "start_time": "2024-04-01T20:50:17.721Z"
   },
   {
    "duration": 798,
    "start_time": "2024-04-01T20:50:17.725Z"
   },
   {
    "duration": 3,
    "start_time": "2024-04-01T20:50:18.526Z"
   },
   {
    "duration": 6,
    "start_time": "2024-04-01T20:50:18.530Z"
   },
   {
    "duration": 16143,
    "start_time": "2024-04-01T20:50:18.538Z"
   },
   {
    "duration": 2,
    "start_time": "2024-04-01T20:50:34.683Z"
   },
   {
    "duration": 955,
    "start_time": "2024-04-01T20:50:34.687Z"
   },
   {
    "duration": 3,
    "start_time": "2024-04-01T20:50:35.644Z"
   },
   {
    "duration": 24,
    "start_time": "2024-04-01T20:50:35.650Z"
   },
   {
    "duration": 4,
    "start_time": "2024-04-01T20:51:50.038Z"
   },
   {
    "duration": 37989,
    "start_time": "2024-04-01T20:51:50.790Z"
   },
   {
    "duration": 3,
    "start_time": "2024-04-01T20:52:34.105Z"
   },
   {
    "duration": 781,
    "start_time": "2024-04-01T20:52:34.797Z"
   },
   {
    "duration": 2,
    "start_time": "2024-04-01T20:52:39.144Z"
   },
   {
    "duration": 18,
    "start_time": "2024-04-01T20:52:40.470Z"
   },
   {
    "duration": 3,
    "start_time": "2024-04-01T20:53:37.872Z"
   },
   {
    "duration": 143,
    "start_time": "2024-04-01T20:53:38.639Z"
   },
   {
    "duration": 2,
    "start_time": "2024-04-01T20:53:42.896Z"
   },
   {
    "duration": 4,
    "start_time": "2024-04-01T20:53:52.552Z"
   },
   {
    "duration": 50303,
    "start_time": "2024-04-01T20:53:53.980Z"
   },
   {
    "duration": 9,
    "start_time": "2024-04-01T20:55:02.599Z"
   },
   {
    "duration": 1565,
    "start_time": "2024-04-01T20:55:02.610Z"
   },
   {
    "duration": 82,
    "start_time": "2024-04-01T20:55:04.177Z"
   },
   {
    "duration": 12,
    "start_time": "2024-04-01T20:55:04.261Z"
   },
   {
    "duration": 24,
    "start_time": "2024-04-01T20:55:04.275Z"
   },
   {
    "duration": 13,
    "start_time": "2024-04-01T20:55:04.300Z"
   },
   {
    "duration": 13,
    "start_time": "2024-04-01T20:55:04.314Z"
   },
   {
    "duration": 7,
    "start_time": "2024-04-01T20:55:04.329Z"
   },
   {
    "duration": 22,
    "start_time": "2024-04-01T20:55:04.337Z"
   },
   {
    "duration": 7,
    "start_time": "2024-04-01T20:55:04.363Z"
   },
   {
    "duration": 11,
    "start_time": "2024-04-01T20:55:04.372Z"
   },
   {
    "duration": 866,
    "start_time": "2024-04-01T20:55:04.384Z"
   },
   {
    "duration": 312,
    "start_time": "2024-04-01T20:55:05.251Z"
   },
   {
    "duration": 8,
    "start_time": "2024-04-01T20:55:05.565Z"
   },
   {
    "duration": 11198,
    "start_time": "2024-04-01T20:55:05.575Z"
   },
   {
    "duration": 108,
    "start_time": "2024-04-01T20:55:16.776Z"
   },
   {
    "duration": 3,
    "start_time": "2024-04-01T20:55:16.886Z"
   },
   {
    "duration": 23,
    "start_time": "2024-04-01T20:55:16.890Z"
   },
   {
    "duration": 68,
    "start_time": "2024-04-01T20:55:16.915Z"
   },
   {
    "duration": 1804,
    "start_time": "2024-04-01T20:55:17.075Z"
   },
   {
    "duration": 3,
    "start_time": "2024-04-01T20:55:18.882Z"
   },
   {
    "duration": 16,
    "start_time": "2024-04-01T20:55:18.975Z"
   },
   {
    "duration": 8,
    "start_time": "2024-04-01T20:55:19.073Z"
   },
   {
    "duration": 56488,
    "start_time": "2024-04-01T20:55:19.083Z"
   },
   {
    "duration": 3,
    "start_time": "2024-04-01T20:56:15.573Z"
   },
   {
    "duration": 1529,
    "start_time": "2024-04-01T20:56:15.578Z"
   },
   {
    "duration": 3,
    "start_time": "2024-04-01T20:56:17.108Z"
   },
   {
    "duration": 60,
    "start_time": "2024-04-01T20:56:17.114Z"
   },
   {
    "duration": 36902,
    "start_time": "2024-04-01T20:56:17.175Z"
   },
   {
    "duration": 2,
    "start_time": "2024-04-01T20:56:54.079Z"
   },
   {
    "duration": 290,
    "start_time": "2024-04-01T20:56:54.083Z"
   },
   {
    "duration": 3,
    "start_time": "2024-04-01T20:56:54.375Z"
   },
   {
    "duration": 21,
    "start_time": "2024-04-01T20:56:54.380Z"
   },
   {
    "duration": 8,
    "start_time": "2024-04-01T20:56:54.402Z"
   },
   {
    "duration": 3,
    "start_time": "2024-04-01T21:02:12.067Z"
   },
   {
    "duration": 208,
    "start_time": "2024-04-01T21:02:12.371Z"
   },
   {
    "duration": 12,
    "start_time": "2024-04-01T21:02:38.541Z"
   },
   {
    "duration": 9,
    "start_time": "2024-04-01T21:03:34.603Z"
   },
   {
    "duration": 15,
    "start_time": "2024-04-01T21:03:38.670Z"
   },
   {
    "duration": 15,
    "start_time": "2024-04-01T21:03:44.022Z"
   },
   {
    "duration": 252,
    "start_time": "2024-04-01T21:05:04.974Z"
   },
   {
    "duration": 295,
    "start_time": "2024-04-01T21:06:45.409Z"
   },
   {
    "duration": 91,
    "start_time": "2024-04-01T21:07:14.567Z"
   },
   {
    "duration": 231,
    "start_time": "2024-04-01T21:07:26.410Z"
   },
   {
    "duration": 232,
    "start_time": "2024-04-01T21:07:40.230Z"
   },
   {
    "duration": 316,
    "start_time": "2024-04-01T21:08:05.363Z"
   },
   {
    "duration": 238,
    "start_time": "2024-04-01T21:08:25.689Z"
   },
   {
    "duration": 244,
    "start_time": "2024-04-01T21:08:33.821Z"
   },
   {
    "duration": 152,
    "start_time": "2024-04-01T21:09:23.977Z"
   },
   {
    "duration": 152,
    "start_time": "2024-04-01T21:09:34.035Z"
   },
   {
    "duration": 147,
    "start_time": "2024-04-01T21:09:49.307Z"
   },
   {
    "duration": 231,
    "start_time": "2024-04-01T21:10:04.964Z"
   },
   {
    "duration": 176,
    "start_time": "2024-04-01T21:10:28.607Z"
   },
   {
    "duration": 11,
    "start_time": "2024-04-01T21:10:42.349Z"
   },
   {
    "duration": 7,
    "start_time": "2024-04-01T21:10:52.546Z"
   },
   {
    "duration": 8,
    "start_time": "2024-04-01T21:25:20.402Z"
   },
   {
    "duration": 1521,
    "start_time": "2024-04-01T21:25:20.411Z"
   },
   {
    "duration": 177,
    "start_time": "2024-04-01T21:25:21.933Z"
   },
   {
    "duration": 13,
    "start_time": "2024-04-01T21:25:22.112Z"
   },
   {
    "duration": 13,
    "start_time": "2024-04-01T21:25:22.127Z"
   },
   {
    "duration": 4,
    "start_time": "2024-04-01T21:25:22.142Z"
   },
   {
    "duration": 29,
    "start_time": "2024-04-01T21:25:22.148Z"
   },
   {
    "duration": 4,
    "start_time": "2024-04-01T21:25:22.179Z"
   },
   {
    "duration": 10,
    "start_time": "2024-04-01T21:25:22.185Z"
   },
   {
    "duration": 4,
    "start_time": "2024-04-01T21:25:22.199Z"
   },
   {
    "duration": 18,
    "start_time": "2024-04-01T21:25:22.205Z"
   },
   {
    "duration": 870,
    "start_time": "2024-04-01T21:25:22.224Z"
   },
   {
    "duration": 305,
    "start_time": "2024-04-01T21:25:23.095Z"
   },
   {
    "duration": 5,
    "start_time": "2024-04-01T21:25:23.402Z"
   },
   {
    "duration": 11365,
    "start_time": "2024-04-01T21:25:23.409Z"
   },
   {
    "duration": 110,
    "start_time": "2024-04-01T21:25:34.776Z"
   },
   {
    "duration": 3,
    "start_time": "2024-04-01T21:25:34.887Z"
   },
   {
    "duration": 16,
    "start_time": "2024-04-01T21:25:34.892Z"
   },
   {
    "duration": 267,
    "start_time": "2024-04-01T21:25:34.910Z"
   },
   {
    "duration": 2105,
    "start_time": "2024-04-01T21:25:35.179Z"
   },
   {
    "duration": 3,
    "start_time": "2024-04-01T21:25:37.286Z"
   },
   {
    "duration": 99,
    "start_time": "2024-04-01T21:25:37.374Z"
   },
   {
    "duration": 12,
    "start_time": "2024-04-01T21:25:37.475Z"
   },
   {
    "duration": 57673,
    "start_time": "2024-04-01T21:25:37.488Z"
   },
   {
    "duration": 2,
    "start_time": "2024-04-01T21:26:35.163Z"
   },
   {
    "duration": 1159,
    "start_time": "2024-04-01T21:26:35.167Z"
   },
   {
    "duration": 2,
    "start_time": "2024-04-01T21:26:36.328Z"
   },
   {
    "duration": 24,
    "start_time": "2024-04-01T21:26:36.333Z"
   },
   {
    "duration": 63715,
    "start_time": "2024-04-01T21:26:36.359Z"
   },
   {
    "duration": 4,
    "start_time": "2024-04-01T21:27:40.076Z"
   },
   {
    "duration": 303,
    "start_time": "2024-04-01T21:27:40.081Z"
   },
   {
    "duration": 2,
    "start_time": "2024-04-01T21:27:40.386Z"
   },
   {
    "duration": 85,
    "start_time": "2024-04-01T21:27:40.389Z"
   },
   {
    "duration": 29,
    "start_time": "2024-04-01T21:27:40.476Z"
   },
   {
    "duration": 22,
    "start_time": "2024-04-01T21:27:40.507Z"
   },
   {
    "duration": 258,
    "start_time": "2024-04-01T21:27:40.531Z"
   },
   {
    "duration": 7,
    "start_time": "2024-04-02T13:33:04.524Z"
   },
   {
    "duration": 1592,
    "start_time": "2024-04-02T13:33:04.961Z"
   },
   {
    "duration": 108,
    "start_time": "2024-04-02T13:33:07.228Z"
   },
   {
    "duration": 12,
    "start_time": "2024-04-02T13:33:07.948Z"
   },
   {
    "duration": 10,
    "start_time": "2024-04-02T13:33:08.219Z"
   },
   {
    "duration": 2,
    "start_time": "2024-04-02T13:33:08.473Z"
   },
   {
    "duration": 5,
    "start_time": "2024-04-02T13:33:08.541Z"
   },
   {
    "duration": 4,
    "start_time": "2024-04-02T13:33:08.688Z"
   },
   {
    "duration": 9,
    "start_time": "2024-04-02T13:33:08.958Z"
   },
   {
    "duration": 3,
    "start_time": "2024-04-02T13:33:09.240Z"
   },
   {
    "duration": 11,
    "start_time": "2024-04-02T13:33:09.833Z"
   },
   {
    "duration": 819,
    "start_time": "2024-04-02T13:33:09.913Z"
   },
   {
    "duration": 290,
    "start_time": "2024-04-02T13:33:10.733Z"
   },
   {
    "duration": 3,
    "start_time": "2024-04-02T13:33:11.030Z"
   },
   {
    "duration": 36424,
    "start_time": "2024-04-02T13:33:11.943Z"
   },
   {
    "duration": 970,
    "start_time": "2024-04-02T13:33:48.369Z"
   },
   {
    "duration": 866,
    "start_time": "2024-04-02T13:34:17.027Z"
   },
   {
    "duration": 7,
    "start_time": "2024-04-02T13:35:46.176Z"
   },
   {
    "duration": 1341,
    "start_time": "2024-04-02T13:35:46.186Z"
   },
   {
    "duration": 80,
    "start_time": "2024-04-02T13:35:47.528Z"
   },
   {
    "duration": 11,
    "start_time": "2024-04-02T13:35:47.610Z"
   },
   {
    "duration": 9,
    "start_time": "2024-04-02T13:35:47.623Z"
   },
   {
    "duration": 9,
    "start_time": "2024-04-02T13:35:47.634Z"
   },
   {
    "duration": 22,
    "start_time": "2024-04-02T13:35:47.644Z"
   },
   {
    "duration": 16,
    "start_time": "2024-04-02T13:35:47.668Z"
   },
   {
    "duration": 34,
    "start_time": "2024-04-02T13:35:47.685Z"
   },
   {
    "duration": 11,
    "start_time": "2024-04-02T13:35:47.721Z"
   },
   {
    "duration": 38,
    "start_time": "2024-04-02T13:35:47.734Z"
   },
   {
    "duration": 818,
    "start_time": "2024-04-02T13:35:47.774Z"
   },
   {
    "duration": 290,
    "start_time": "2024-04-02T13:35:48.594Z"
   },
   {
    "duration": 4,
    "start_time": "2024-04-02T13:35:48.888Z"
   },
   {
    "duration": 35674,
    "start_time": "2024-04-02T13:35:48.894Z"
   },
   {
    "duration": 101,
    "start_time": "2024-04-02T13:36:24.569Z"
   },
   {
    "duration": 3,
    "start_time": "2024-04-02T13:36:24.671Z"
   },
   {
    "duration": 5,
    "start_time": "2024-04-02T13:36:24.676Z"
   },
   {
    "duration": 187,
    "start_time": "2024-04-02T13:36:24.683Z"
   },
   {
    "duration": 801,
    "start_time": "2024-04-02T13:36:24.871Z"
   },
   {
    "duration": 92,
    "start_time": "2024-04-02T13:36:25.674Z"
   },
   {
    "duration": 112,
    "start_time": "2024-04-02T13:36:25.768Z"
   },
   {
    "duration": 21,
    "start_time": "2024-04-02T13:36:25.882Z"
   },
   {
    "duration": 48082,
    "start_time": "2024-04-02T13:36:25.905Z"
   },
   {
    "duration": 3,
    "start_time": "2024-04-02T13:37:13.988Z"
   },
   {
    "duration": 698,
    "start_time": "2024-04-02T13:37:13.993Z"
   },
   {
    "duration": 3,
    "start_time": "2024-04-02T13:37:14.692Z"
   },
   {
    "duration": 7,
    "start_time": "2024-04-02T13:37:14.696Z"
   },
   {
    "duration": 40172,
    "start_time": "2024-04-02T13:37:14.704Z"
   },
   {
    "duration": 2,
    "start_time": "2024-04-02T13:37:54.877Z"
   },
   {
    "duration": 203,
    "start_time": "2024-04-02T13:37:54.965Z"
   },
   {
    "duration": 3,
    "start_time": "2024-04-02T13:37:55.169Z"
   },
   {
    "duration": 9,
    "start_time": "2024-04-02T13:37:55.173Z"
   },
   {
    "duration": 6,
    "start_time": "2024-04-02T13:37:55.183Z"
   },
   {
    "duration": 16,
    "start_time": "2024-04-02T13:37:55.191Z"
   },
   {
    "duration": 207,
    "start_time": "2024-04-02T13:37:55.266Z"
   },
   {
    "duration": 4,
    "start_time": "2024-04-02T13:38:58.528Z"
   },
   {
    "duration": 877,
    "start_time": "2024-04-02T13:39:04.991Z"
   },
   {
    "duration": 3,
    "start_time": "2024-04-02T13:39:19.980Z"
   },
   {
    "duration": 752,
    "start_time": "2024-04-02T13:39:23.914Z"
   },
   {
    "duration": 958,
    "start_time": "2024-04-02T13:40:13.818Z"
   },
   {
    "duration": 4,
    "start_time": "2024-04-02T13:40:25.162Z"
   },
   {
    "duration": 729,
    "start_time": "2024-04-02T13:40:27.337Z"
   },
   {
    "duration": 10,
    "start_time": "2024-04-02T13:49:32.059Z"
   },
   {
    "duration": 2640,
    "start_time": "2024-04-02T13:54:53.835Z"
   },
   {
    "duration": 32,
    "start_time": "2024-04-02T13:55:05.970Z"
   },
   {
    "duration": 123,
    "start_time": "2024-04-02T13:55:24.239Z"
   },
   {
    "duration": 36,
    "start_time": "2024-04-02T13:55:37.308Z"
   },
   {
    "duration": 66,
    "start_time": "2024-04-02T13:55:46.142Z"
   },
   {
    "duration": 7,
    "start_time": "2024-04-02T13:55:52.284Z"
   },
   {
    "duration": 20842,
    "start_time": "2024-04-02T13:56:10.625Z"
   },
   {
    "duration": 2342,
    "start_time": "2024-04-02T14:05:16.236Z"
   },
   {
    "duration": 3,
    "start_time": "2024-04-02T14:05:18.580Z"
   },
   {
    "duration": 1415,
    "start_time": "2024-04-02T14:05:18.585Z"
   },
   {
    "duration": 75,
    "start_time": "2024-04-02T14:05:20.002Z"
   },
   {
    "duration": 10,
    "start_time": "2024-04-02T14:05:20.079Z"
   },
   {
    "duration": 14,
    "start_time": "2024-04-02T14:05:20.091Z"
   },
   {
    "duration": 17,
    "start_time": "2024-04-02T14:05:20.107Z"
   },
   {
    "duration": 13,
    "start_time": "2024-04-02T14:05:20.126Z"
   },
   {
    "duration": 14,
    "start_time": "2024-04-02T14:05:20.141Z"
   },
   {
    "duration": 13,
    "start_time": "2024-04-02T14:05:20.157Z"
   },
   {
    "duration": 4,
    "start_time": "2024-04-02T14:05:20.172Z"
   },
   {
    "duration": 19,
    "start_time": "2024-04-02T14:05:20.178Z"
   },
   {
    "duration": 828,
    "start_time": "2024-04-02T14:05:20.200Z"
   },
   {
    "duration": 296,
    "start_time": "2024-04-02T14:05:21.031Z"
   },
   {
    "duration": 1837,
    "start_time": "2024-04-02T14:05:21.329Z"
   },
   {
    "duration": 5,
    "start_time": "2024-04-02T14:05:23.169Z"
   },
   {
    "duration": 35301,
    "start_time": "2024-04-02T14:05:23.177Z"
   },
   {
    "duration": 115,
    "start_time": "2024-04-02T14:05:58.570Z"
   },
   {
    "duration": 2,
    "start_time": "2024-04-02T14:05:58.686Z"
   },
   {
    "duration": 6,
    "start_time": "2024-04-02T14:05:58.690Z"
   },
   {
    "duration": 869,
    "start_time": "2024-04-02T14:05:58.697Z"
   },
   {
    "duration": 3,
    "start_time": "2024-04-02T14:05:59.568Z"
   },
   {
    "duration": 4,
    "start_time": "2024-04-02T14:05:59.573Z"
   },
   {
    "duration": 6,
    "start_time": "2024-04-02T14:05:59.579Z"
   },
   {
    "duration": 24566,
    "start_time": "2024-04-02T14:05:59.586Z"
   },
   {
    "duration": 2,
    "start_time": "2024-04-02T14:06:24.153Z"
   },
   {
    "duration": 2377,
    "start_time": "2024-04-02T14:06:24.157Z"
   },
   {
    "duration": 2,
    "start_time": "2024-04-02T14:06:26.536Z"
   },
   {
    "duration": 6,
    "start_time": "2024-04-02T14:06:26.540Z"
   },
   {
    "duration": 20034,
    "start_time": "2024-04-02T14:06:26.547Z"
   },
   {
    "duration": 3,
    "start_time": "2024-04-02T14:06:46.664Z"
   },
   {
    "duration": 1008,
    "start_time": "2024-04-02T14:06:46.669Z"
   },
   {
    "duration": 2,
    "start_time": "2024-04-02T14:06:47.678Z"
   },
   {
    "duration": 95,
    "start_time": "2024-04-02T14:06:47.682Z"
   },
   {
    "duration": 6,
    "start_time": "2024-04-02T14:06:47.779Z"
   },
   {
    "duration": 77,
    "start_time": "2024-04-02T14:06:47.787Z"
   },
   {
    "duration": 13,
    "start_time": "2024-04-02T14:06:47.867Z"
   },
   {
    "duration": 290,
    "start_time": "2024-04-02T14:06:47.882Z"
   },
   {
    "duration": 23900,
    "start_time": "2024-04-02T14:11:46.285Z"
   },
   {
    "duration": 55,
    "start_time": "2024-04-02T14:12:39.724Z"
   },
   {
    "duration": 875,
    "start_time": "2024-04-02T14:12:44.491Z"
   },
   {
    "duration": 20009,
    "start_time": "2024-04-02T14:16:01.265Z"
   },
   {
    "duration": 3,
    "start_time": "2024-04-02T14:16:48.494Z"
   },
   {
    "duration": 2280,
    "start_time": "2024-04-02T14:19:13.726Z"
   },
   {
    "duration": 3,
    "start_time": "2024-04-02T14:19:16.008Z"
   },
   {
    "duration": 1429,
    "start_time": "2024-04-02T14:19:16.013Z"
   },
   {
    "duration": 86,
    "start_time": "2024-04-02T14:19:17.444Z"
   },
   {
    "duration": 9,
    "start_time": "2024-04-02T14:19:17.532Z"
   },
   {
    "duration": 20,
    "start_time": "2024-04-02T14:19:17.543Z"
   },
   {
    "duration": 3,
    "start_time": "2024-04-02T14:19:17.564Z"
   },
   {
    "duration": 9,
    "start_time": "2024-04-02T14:19:17.568Z"
   },
   {
    "duration": 5,
    "start_time": "2024-04-02T14:19:17.578Z"
   },
   {
    "duration": 14,
    "start_time": "2024-04-02T14:19:17.584Z"
   },
   {
    "duration": 5,
    "start_time": "2024-04-02T14:19:17.599Z"
   },
   {
    "duration": 9,
    "start_time": "2024-04-02T14:19:17.605Z"
   },
   {
    "duration": 853,
    "start_time": "2024-04-02T14:19:17.615Z"
   },
   {
    "duration": 295,
    "start_time": "2024-04-02T14:19:18.471Z"
   },
   {
    "duration": 1898,
    "start_time": "2024-04-02T14:19:18.768Z"
   },
   {
    "duration": 96,
    "start_time": "2024-04-02T14:19:20.668Z"
   },
   {
    "duration": 39804,
    "start_time": "2024-04-02T14:19:20.766Z"
   },
   {
    "duration": 116,
    "start_time": "2024-04-02T14:20:00.573Z"
   },
   {
    "duration": 33,
    "start_time": "2024-04-02T14:20:00.692Z"
   },
   {
    "duration": 811,
    "start_time": "2024-04-02T14:20:00.764Z"
   },
   {
    "duration": 6,
    "start_time": "2024-04-02T14:20:01.665Z"
   },
   {
    "duration": 122,
    "start_time": "2024-04-02T14:20:01.673Z"
   },
   {
    "duration": 36,
    "start_time": "2024-04-02T14:20:01.796Z"
   },
   {
    "duration": 25557,
    "start_time": "2024-04-02T14:20:01.833Z"
   },
   {
    "duration": 2,
    "start_time": "2024-04-02T14:20:27.391Z"
   },
   {
    "duration": 6,
    "start_time": "2024-04-02T14:20:27.395Z"
   },
   {
    "duration": 6,
    "start_time": "2024-04-02T14:20:27.402Z"
   },
   {
    "duration": 2392,
    "start_time": "2024-04-02T14:23:56.385Z"
   },
   {
    "duration": 2,
    "start_time": "2024-04-02T14:23:58.780Z"
   },
   {
    "duration": 1486,
    "start_time": "2024-04-02T14:23:58.784Z"
   },
   {
    "duration": 70,
    "start_time": "2024-04-02T14:24:00.272Z"
   },
   {
    "duration": 10,
    "start_time": "2024-04-02T14:24:00.344Z"
   },
   {
    "duration": 57,
    "start_time": "2024-04-02T14:24:00.355Z"
   },
   {
    "duration": 27,
    "start_time": "2024-04-02T14:24:00.414Z"
   },
   {
    "duration": 77,
    "start_time": "2024-04-02T14:24:00.443Z"
   },
   {
    "duration": 90,
    "start_time": "2024-04-02T14:24:00.521Z"
   },
   {
    "duration": 58,
    "start_time": "2024-04-02T14:24:00.613Z"
   },
   {
    "duration": 51,
    "start_time": "2024-04-02T14:24:00.673Z"
   },
   {
    "duration": 39,
    "start_time": "2024-04-02T14:24:00.726Z"
   },
   {
    "duration": 809,
    "start_time": "2024-04-02T14:24:00.767Z"
   },
   {
    "duration": 298,
    "start_time": "2024-04-02T14:24:01.578Z"
   },
   {
    "duration": 2092,
    "start_time": "2024-04-02T14:24:01.877Z"
   },
   {
    "duration": 4,
    "start_time": "2024-04-02T14:24:04.064Z"
   },
   {
    "duration": 37694,
    "start_time": "2024-04-02T14:24:04.070Z"
   },
   {
    "duration": 114,
    "start_time": "2024-04-02T14:24:41.767Z"
   },
   {
    "duration": 3,
    "start_time": "2024-04-02T14:24:41.882Z"
   },
   {
    "duration": 880,
    "start_time": "2024-04-02T14:24:41.887Z"
   },
   {
    "duration": 3,
    "start_time": "2024-04-02T14:24:42.769Z"
   },
   {
    "duration": 6,
    "start_time": "2024-04-02T14:24:42.774Z"
   },
   {
    "duration": 8,
    "start_time": "2024-04-02T14:24:42.865Z"
   },
   {
    "duration": 25273,
    "start_time": "2024-04-02T14:24:42.874Z"
   },
   {
    "duration": 3,
    "start_time": "2024-04-02T14:25:08.148Z"
   },
   {
    "duration": 5,
    "start_time": "2024-04-02T14:25:08.152Z"
   },
   {
    "duration": 5,
    "start_time": "2024-04-02T14:25:08.158Z"
   },
   {
    "duration": 21809,
    "start_time": "2024-04-02T14:25:08.165Z"
   },
   {
    "duration": 3,
    "start_time": "2024-04-02T14:25:29.976Z"
   },
   {
    "duration": 15,
    "start_time": "2024-04-02T14:25:29.980Z"
   },
   {
    "duration": 25,
    "start_time": "2024-04-02T14:25:29.997Z"
   },
   {
    "duration": 8,
    "start_time": "2024-04-02T14:25:30.065Z"
   },
   {
    "duration": 36,
    "start_time": "2024-04-02T14:25:30.074Z"
   },
   {
    "duration": 64,
    "start_time": "2024-04-02T14:25:30.112Z"
   },
   {
    "duration": 100,
    "start_time": "2024-04-02T14:25:30.178Z"
   },
   {
    "duration": 263,
    "start_time": "2024-04-02T14:25:30.280Z"
   },
   {
    "duration": 113,
    "start_time": "2024-04-02T14:28:30.711Z"
   },
   {
    "duration": 58,
    "start_time": "2024-04-02T14:29:07.712Z"
   },
   {
    "duration": 49,
    "start_time": "2024-04-02T21:09:54.227Z"
   },
   {
    "duration": 2969,
    "start_time": "2024-04-02T21:10:11.096Z"
   },
   {
    "duration": 3,
    "start_time": "2024-04-02T21:10:14.068Z"
   },
   {
    "duration": 1859,
    "start_time": "2024-04-02T21:10:14.072Z"
   },
   {
    "duration": 152,
    "start_time": "2024-04-02T21:10:15.933Z"
   },
   {
    "duration": 12,
    "start_time": "2024-04-02T21:10:16.088Z"
   },
   {
    "duration": 13,
    "start_time": "2024-04-02T21:10:16.102Z"
   },
   {
    "duration": 3,
    "start_time": "2024-04-02T21:10:16.117Z"
   },
   {
    "duration": 10,
    "start_time": "2024-04-02T21:10:16.122Z"
   },
   {
    "duration": 9,
    "start_time": "2024-04-02T21:10:16.133Z"
   },
   {
    "duration": 39,
    "start_time": "2024-04-02T21:10:16.144Z"
   },
   {
    "duration": 5,
    "start_time": "2024-04-02T21:10:16.185Z"
   },
   {
    "duration": 39,
    "start_time": "2024-04-02T21:10:16.192Z"
   },
   {
    "duration": 1033,
    "start_time": "2024-04-02T21:10:16.233Z"
   },
   {
    "duration": 314,
    "start_time": "2024-04-02T21:10:17.270Z"
   },
   {
    "duration": 11,
    "start_time": "2024-04-02T21:10:17.586Z"
   },
   {
    "duration": 584,
    "start_time": "2024-04-02T21:10:17.599Z"
   },
   {
    "duration": 567,
    "start_time": "2024-04-02T21:11:09.503Z"
   },
   {
    "duration": 574,
    "start_time": "2024-04-02T21:11:23.297Z"
   },
   {
    "duration": 285,
    "start_time": "2024-04-02T21:15:01.363Z"
   },
   {
    "duration": 351,
    "start_time": "2024-04-02T21:15:40.061Z"
   },
   {
    "duration": 269,
    "start_time": "2024-04-02T21:15:51.376Z"
   },
   {
    "duration": 257,
    "start_time": "2024-04-02T21:15:57.384Z"
   },
   {
    "duration": 355,
    "start_time": "2024-04-02T21:16:04.546Z"
   },
   {
    "duration": 2459,
    "start_time": "2024-04-02T21:19:13.510Z"
   },
   {
    "duration": 3,
    "start_time": "2024-04-02T21:19:15.971Z"
   },
   {
    "duration": 1464,
    "start_time": "2024-04-02T21:19:15.975Z"
   },
   {
    "duration": 70,
    "start_time": "2024-04-02T21:19:17.441Z"
   },
   {
    "duration": 13,
    "start_time": "2024-04-02T21:19:17.513Z"
   },
   {
    "duration": 13,
    "start_time": "2024-04-02T21:19:17.527Z"
   },
   {
    "duration": 3,
    "start_time": "2024-04-02T21:19:17.541Z"
   },
   {
    "duration": 9,
    "start_time": "2024-04-02T21:19:17.546Z"
   },
   {
    "duration": 24,
    "start_time": "2024-04-02T21:19:17.557Z"
   },
   {
    "duration": 8,
    "start_time": "2024-04-02T21:19:17.583Z"
   },
   {
    "duration": 3,
    "start_time": "2024-04-02T21:19:17.593Z"
   },
   {
    "duration": 25,
    "start_time": "2024-04-02T21:19:17.597Z"
   },
   {
    "duration": 805,
    "start_time": "2024-04-02T21:19:17.625Z"
   },
   {
    "duration": 339,
    "start_time": "2024-04-02T21:19:18.432Z"
   },
   {
    "duration": 12,
    "start_time": "2024-04-02T21:19:18.773Z"
   },
   {
    "duration": 568,
    "start_time": "2024-04-02T21:19:18.786Z"
   },
   {
    "duration": 260,
    "start_time": "2024-04-02T21:19:19.355Z"
   },
   {
    "duration": 1865,
    "start_time": "2024-04-02T21:19:19.616Z"
   },
   {
    "duration": 6,
    "start_time": "2024-04-02T21:19:21.483Z"
   },
   {
    "duration": 37006,
    "start_time": "2024-04-02T21:19:21.581Z"
   },
   {
    "duration": 115,
    "start_time": "2024-04-02T21:19:58.589Z"
   },
   {
    "duration": 3,
    "start_time": "2024-04-02T21:19:58.706Z"
   },
   {
    "duration": 709,
    "start_time": "2024-04-02T21:19:58.781Z"
   },
   {
    "duration": 90,
    "start_time": "2024-04-02T21:19:59.492Z"
   },
   {
    "duration": 6,
    "start_time": "2024-04-02T21:19:59.584Z"
   },
   {
    "duration": 87,
    "start_time": "2024-04-02T21:19:59.592Z"
   },
   {
    "duration": 32174,
    "start_time": "2024-04-02T21:19:59.681Z"
   },
   {
    "duration": 3,
    "start_time": "2024-04-02T21:20:31.857Z"
   },
   {
    "duration": 15,
    "start_time": "2024-04-02T21:20:31.862Z"
   },
   {
    "duration": 6,
    "start_time": "2024-04-02T21:20:31.879Z"
   },
   {
    "duration": 19703,
    "start_time": "2024-04-02T21:20:31.886Z"
   },
   {
    "duration": 4,
    "start_time": "2024-04-02T21:20:51.590Z"
   },
   {
    "duration": 106,
    "start_time": "2024-04-02T21:20:51.595Z"
   },
   {
    "duration": 7,
    "start_time": "2024-04-02T21:20:51.702Z"
   },
   {
    "duration": 11,
    "start_time": "2024-04-02T21:20:51.711Z"
   },
   {
    "duration": 5,
    "start_time": "2024-04-02T21:20:51.723Z"
   },
   {
    "duration": 156,
    "start_time": "2024-04-02T21:20:51.730Z"
   },
   {
    "duration": 104,
    "start_time": "2024-04-02T21:20:51.888Z"
   },
   {
    "duration": 254,
    "start_time": "2024-04-02T21:20:52.081Z"
   },
   {
    "duration": 158,
    "start_time": "2024-04-02T21:21:54.521Z"
   },
   {
    "duration": 3,
    "start_time": "2024-04-02T21:21:58.154Z"
   },
   {
    "duration": 180,
    "start_time": "2024-04-02T21:21:59.268Z"
   },
   {
    "duration": 2450,
    "start_time": "2024-04-02T21:22:18.553Z"
   },
   {
    "duration": 2,
    "start_time": "2024-04-02T21:22:21.006Z"
   },
   {
    "duration": 1574,
    "start_time": "2024-04-02T21:22:21.010Z"
   },
   {
    "duration": 78,
    "start_time": "2024-04-02T21:22:22.585Z"
   },
   {
    "duration": 10,
    "start_time": "2024-04-02T21:22:22.665Z"
   },
   {
    "duration": 46,
    "start_time": "2024-04-02T21:22:22.677Z"
   },
   {
    "duration": 34,
    "start_time": "2024-04-02T21:22:22.724Z"
   },
   {
    "duration": 75,
    "start_time": "2024-04-02T21:22:22.760Z"
   },
   {
    "duration": 82,
    "start_time": "2024-04-02T21:22:22.837Z"
   },
   {
    "duration": 34,
    "start_time": "2024-04-02T21:22:22.920Z"
   },
   {
    "duration": 21,
    "start_time": "2024-04-02T21:22:22.955Z"
   },
   {
    "duration": 21,
    "start_time": "2024-04-02T21:22:22.978Z"
   },
   {
    "duration": 888,
    "start_time": "2024-04-02T21:22:23.001Z"
   },
   {
    "duration": 288,
    "start_time": "2024-04-02T21:22:23.892Z"
   },
   {
    "duration": 10,
    "start_time": "2024-04-02T21:22:24.181Z"
   },
   {
    "duration": 613,
    "start_time": "2024-04-02T21:22:24.192Z"
   },
   {
    "duration": 280,
    "start_time": "2024-04-02T21:22:24.807Z"
   },
   {
    "duration": 2094,
    "start_time": "2024-04-02T21:22:25.088Z"
   },
   {
    "duration": 5,
    "start_time": "2024-04-02T21:22:27.184Z"
   },
   {
    "duration": 36506,
    "start_time": "2024-04-02T21:22:27.280Z"
   },
   {
    "duration": 112,
    "start_time": "2024-04-02T21:23:03.789Z"
   },
   {
    "duration": 6,
    "start_time": "2024-04-02T21:23:03.902Z"
   },
   {
    "duration": 771,
    "start_time": "2024-04-02T21:23:03.909Z"
   },
   {
    "duration": 94,
    "start_time": "2024-04-02T21:23:04.687Z"
   },
   {
    "duration": 5,
    "start_time": "2024-04-02T21:23:04.782Z"
   },
   {
    "duration": 5,
    "start_time": "2024-04-02T21:23:04.788Z"
   },
   {
    "duration": 29300,
    "start_time": "2024-04-02T21:23:04.794Z"
   },
   {
    "duration": 3,
    "start_time": "2024-04-02T21:23:34.095Z"
   },
   {
    "duration": 27,
    "start_time": "2024-04-02T21:23:34.099Z"
   },
   {
    "duration": 16,
    "start_time": "2024-04-02T21:23:34.128Z"
   },
   {
    "duration": 19835,
    "start_time": "2024-04-02T21:23:34.146Z"
   },
   {
    "duration": 4,
    "start_time": "2024-04-02T21:23:53.983Z"
   },
   {
    "duration": 10,
    "start_time": "2024-04-02T21:23:53.989Z"
   },
   {
    "duration": 5,
    "start_time": "2024-04-02T21:23:54.000Z"
   },
   {
    "duration": 10,
    "start_time": "2024-04-02T21:23:54.007Z"
   },
   {
    "duration": 16,
    "start_time": "2024-04-02T21:23:54.018Z"
   },
   {
    "duration": 153,
    "start_time": "2024-04-02T21:23:54.035Z"
   },
   {
    "duration": 91,
    "start_time": "2024-04-02T21:23:54.190Z"
   },
   {
    "duration": 206,
    "start_time": "2024-04-02T21:23:54.283Z"
   },
   {
    "duration": 15894,
    "start_time": "2024-04-03T13:52:54.172Z"
   },
   {
    "duration": 8,
    "start_time": "2024-04-03T13:53:10.070Z"
   },
   {
    "duration": 6294,
    "start_time": "2024-04-03T13:53:10.089Z"
   },
   {
    "duration": 484,
    "start_time": "2024-04-03T13:53:16.386Z"
   },
   {
    "duration": 95,
    "start_time": "2024-04-03T13:53:16.872Z"
   },
   {
    "duration": 109,
    "start_time": "2024-04-03T13:53:16.969Z"
   },
   {
    "duration": 3,
    "start_time": "2024-04-03T13:53:17.080Z"
   },
   {
    "duration": 99,
    "start_time": "2024-04-03T13:53:17.168Z"
   },
   {
    "duration": 5,
    "start_time": "2024-04-03T13:53:17.269Z"
   },
   {
    "duration": 92,
    "start_time": "2024-04-03T13:53:17.277Z"
   },
   {
    "duration": 101,
    "start_time": "2024-04-03T13:53:17.371Z"
   },
   {
    "duration": 104,
    "start_time": "2024-04-03T13:53:17.474Z"
   },
   {
    "duration": 5595,
    "start_time": "2024-04-03T13:53:17.581Z"
   },
   {
    "duration": 2208,
    "start_time": "2024-04-03T13:53:23.177Z"
   },
   {
    "duration": 2984,
    "start_time": "2024-04-03T18:54:28.148Z"
   },
   {
    "duration": 3,
    "start_time": "2024-04-03T18:54:31.135Z"
   },
   {
    "duration": 1793,
    "start_time": "2024-04-03T18:54:31.140Z"
   },
   {
    "duration": 105,
    "start_time": "2024-04-03T18:54:32.935Z"
   },
   {
    "duration": 10,
    "start_time": "2024-04-03T18:54:33.042Z"
   },
   {
    "duration": 10,
    "start_time": "2024-04-03T18:54:33.053Z"
   },
   {
    "duration": 12,
    "start_time": "2024-04-03T18:54:33.065Z"
   },
   {
    "duration": 6,
    "start_time": "2024-04-03T18:54:33.079Z"
   },
   {
    "duration": 17,
    "start_time": "2024-04-03T18:54:33.086Z"
   },
   {
    "duration": 12,
    "start_time": "2024-04-03T18:54:33.105Z"
   },
   {
    "duration": 3,
    "start_time": "2024-04-03T18:54:33.119Z"
   },
   {
    "duration": 16,
    "start_time": "2024-04-03T18:54:33.123Z"
   },
   {
    "duration": 1040,
    "start_time": "2024-04-03T18:54:33.141Z"
   },
   {
    "duration": 238,
    "start_time": "2024-04-03T18:54:34.183Z"
   },
   {
    "duration": 9,
    "start_time": "2024-04-03T18:54:34.423Z"
   },
   {
    "duration": 631,
    "start_time": "2024-04-03T18:54:34.435Z"
   },
   {
    "duration": 8,
    "start_time": "2024-04-03T18:54:35.075Z"
   },
   {
    "duration": 7,
    "start_time": "2024-04-03T18:54:49.189Z"
   },
   {
    "duration": 285,
    "start_time": "2024-04-03T18:55:14.226Z"
   },
   {
    "duration": 6,
    "start_time": "2024-04-03T18:55:50.881Z"
   },
   {
    "duration": 310,
    "start_time": "2024-04-03T18:56:37.360Z"
   },
   {
    "duration": 484,
    "start_time": "2024-04-03T18:56:45.434Z"
   },
   {
    "duration": 305,
    "start_time": "2024-04-03T18:56:50.478Z"
   },
   {
    "duration": 290,
    "start_time": "2024-04-03T18:58:06.999Z"
   },
   {
    "duration": 128,
    "start_time": "2024-04-03T19:06:29.116Z"
   },
   {
    "duration": 3,
    "start_time": "2024-04-03T19:06:36.745Z"
   },
   {
    "duration": 123,
    "start_time": "2024-04-03T19:06:42.722Z"
   },
   {
    "duration": 2557,
    "start_time": "2024-04-03T19:28:13.502Z"
   },
   {
    "duration": 3,
    "start_time": "2024-04-03T19:28:16.061Z"
   },
   {
    "duration": 1534,
    "start_time": "2024-04-03T19:28:16.065Z"
   },
   {
    "duration": 98,
    "start_time": "2024-04-03T19:28:17.603Z"
   },
   {
    "duration": 11,
    "start_time": "2024-04-03T19:28:17.704Z"
   },
   {
    "duration": 10,
    "start_time": "2024-04-03T19:28:17.717Z"
   },
   {
    "duration": 3,
    "start_time": "2024-04-03T19:28:17.729Z"
   },
   {
    "duration": 36,
    "start_time": "2024-04-03T19:28:17.734Z"
   },
   {
    "duration": 21,
    "start_time": "2024-04-03T19:28:17.771Z"
   },
   {
    "duration": 10,
    "start_time": "2024-04-03T19:28:17.793Z"
   },
   {
    "duration": 3,
    "start_time": "2024-04-03T19:28:17.805Z"
   },
   {
    "duration": 11,
    "start_time": "2024-04-03T19:28:17.809Z"
   },
   {
    "duration": 956,
    "start_time": "2024-04-03T19:28:17.822Z"
   },
   {
    "duration": 324,
    "start_time": "2024-04-03T19:28:18.789Z"
   },
   {
    "duration": 11,
    "start_time": "2024-04-03T19:28:19.114Z"
   },
   {
    "duration": 661,
    "start_time": "2024-04-03T19:28:19.126Z"
   },
   {
    "duration": 7,
    "start_time": "2024-04-03T19:28:19.789Z"
   },
   {
    "duration": 305,
    "start_time": "2024-04-03T19:28:19.798Z"
   },
   {
    "duration": 6077,
    "start_time": "2024-04-03T19:28:20.104Z"
   },
   {
    "duration": 11,
    "start_time": "2024-04-03T19:28:26.183Z"
   },
   {
    "duration": 61542,
    "start_time": "2024-04-03T19:28:26.266Z"
   },
   {
    "duration": 163,
    "start_time": "2024-04-03T19:29:27.810Z"
   },
   {
    "duration": 4,
    "start_time": "2024-04-03T19:29:27.975Z"
   },
   {
    "duration": 1791,
    "start_time": "2024-04-03T19:29:27.981Z"
   },
   {
    "duration": 10,
    "start_time": "2024-04-03T19:29:29.779Z"
   },
   {
    "duration": 8,
    "start_time": "2024-04-03T19:29:29.868Z"
   },
   {
    "duration": 19,
    "start_time": "2024-04-03T19:29:29.881Z"
   },
   {
    "duration": 24876,
    "start_time": "2024-04-03T19:29:29.902Z"
   },
   {
    "duration": 3,
    "start_time": "2024-04-03T19:29:54.780Z"
   },
   {
    "duration": 8,
    "start_time": "2024-04-03T19:29:54.785Z"
   },
   {
    "duration": 6,
    "start_time": "2024-04-03T19:29:54.795Z"
   },
   {
    "duration": 2694,
    "start_time": "2024-04-03T19:38:49.306Z"
   },
   {
    "duration": 3,
    "start_time": "2024-04-03T19:38:52.002Z"
   },
   {
    "duration": 1495,
    "start_time": "2024-04-03T19:38:52.006Z"
   },
   {
    "duration": 63,
    "start_time": "2024-04-03T19:38:53.503Z"
   },
   {
    "duration": 15,
    "start_time": "2024-04-03T19:38:53.568Z"
   },
   {
    "duration": 22,
    "start_time": "2024-04-03T19:38:53.585Z"
   },
   {
    "duration": 13,
    "start_time": "2024-04-03T19:38:53.608Z"
   },
   {
    "duration": 21,
    "start_time": "2024-04-03T19:38:53.622Z"
   },
   {
    "duration": 28,
    "start_time": "2024-04-03T19:38:53.645Z"
   },
   {
    "duration": 24,
    "start_time": "2024-04-03T19:38:53.676Z"
   },
   {
    "duration": 21,
    "start_time": "2024-04-03T19:38:53.701Z"
   },
   {
    "duration": 31,
    "start_time": "2024-04-03T19:38:53.724Z"
   },
   {
    "duration": 916,
    "start_time": "2024-04-03T19:38:53.756Z"
   },
   {
    "duration": 342,
    "start_time": "2024-04-03T19:38:54.675Z"
   },
   {
    "duration": 9,
    "start_time": "2024-04-03T19:38:55.019Z"
   },
   {
    "duration": 658,
    "start_time": "2024-04-03T19:38:55.029Z"
   },
   {
    "duration": 7,
    "start_time": "2024-04-03T19:38:55.689Z"
   },
   {
    "duration": 352,
    "start_time": "2024-04-03T19:38:55.698Z"
   },
   {
    "duration": 3823,
    "start_time": "2024-04-03T19:38:56.051Z"
   },
   {
    "duration": 7,
    "start_time": "2024-04-03T19:38:59.875Z"
   },
   {
    "duration": 48993,
    "start_time": "2024-04-03T19:38:59.885Z"
   },
   {
    "duration": 192,
    "start_time": "2024-04-03T19:39:48.881Z"
   },
   {
    "duration": 3,
    "start_time": "2024-04-03T19:39:49.074Z"
   },
   {
    "duration": 1506,
    "start_time": "2024-04-03T19:39:49.079Z"
   },
   {
    "duration": 7,
    "start_time": "2024-04-03T19:39:50.678Z"
   },
   {
    "duration": 45,
    "start_time": "2024-04-03T19:39:50.768Z"
   },
   {
    "duration": 51,
    "start_time": "2024-04-03T19:39:50.815Z"
   },
   {
    "duration": 25185,
    "start_time": "2024-04-03T19:39:50.870Z"
   },
   {
    "duration": 2,
    "start_time": "2024-04-03T19:40:16.057Z"
   },
   {
    "duration": 7,
    "start_time": "2024-04-03T19:40:16.061Z"
   },
   {
    "duration": 19,
    "start_time": "2024-04-03T19:40:16.071Z"
   },
   {
    "duration": 640688,
    "start_time": "2024-04-03T19:40:16.092Z"
   },
   {
    "duration": 5,
    "start_time": "2024-04-03T19:50:56.782Z"
   },
   {
    "duration": 26,
    "start_time": "2024-04-03T19:50:56.789Z"
   },
   {
    "duration": 22,
    "start_time": "2024-04-03T19:50:56.817Z"
   },
   {
    "duration": 37,
    "start_time": "2024-04-03T19:50:56.840Z"
   },
   {
    "duration": 10,
    "start_time": "2024-04-03T19:50:56.879Z"
   },
   {
    "duration": 79,
    "start_time": "2024-04-03T19:50:56.891Z"
   },
   {
    "duration": 106,
    "start_time": "2024-04-03T19:50:56.972Z"
   },
   {
    "duration": 262,
    "start_time": "2024-04-03T19:50:57.080Z"
   }
  ],
  "kernelspec": {
   "display_name": "Python 3 (ipykernel)",
   "language": "python",
   "name": "python3"
  },
  "language_info": {
   "codemirror_mode": {
    "name": "ipython",
    "version": 3
   },
   "file_extension": ".py",
   "mimetype": "text/x-python",
   "name": "python",
   "nbconvert_exporter": "python",
   "pygments_lexer": "ipython3",
   "version": "3.11.4"
  },
  "toc": {
   "base_numbering": 1,
   "nav_menu": {},
   "number_sections": true,
   "sideBar": true,
   "skip_h1_title": true,
   "title_cell": "Содержание",
   "title_sidebar": "Contents",
   "toc_cell": true,
   "toc_position": {},
   "toc_section_display": true,
   "toc_window_display": true
  }
 },
 "nbformat": 4,
 "nbformat_minor": 4
}
