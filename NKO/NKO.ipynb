{
 "cells": [
  {
   "cell_type": "markdown",
   "id": "58f18027-516e-4b0c-b5f1-a022be4b9237",
   "metadata": {},
   "source": [
    "<div class=\"alert alert-warning\">\n",
    "    <h2> 💡Oпрос населения по темам, посвященным формированию гражданского общества в России. <a class=\"tocSkip\"> </h2>\n",
    "    \n",
    "</div>"
   ]
  },
  {
   "cell_type": "markdown",
   "id": "055adfd4-74b0-425c-92b6-0ce5f5df3484",
   "metadata": {},
   "source": [
    "## Загрузка данных"
   ]
  },
  {
   "cell_type": "code",
   "execution_count": 1,
   "id": "c539dc33-f899-4776-849d-ce7b1a0faddf",
   "metadata": {},
   "outputs": [],
   "source": [
    "import warnings\n",
    "\n",
    "warnings.filterwarnings('ignore')"
   ]
  },
  {
   "cell_type": "code",
   "execution_count": 2,
   "id": "2bf9d67f-3dff-4cd1-8506-959765d42cca",
   "metadata": {},
   "outputs": [],
   "source": [
    "# библиотеки\n",
    "import numpy as np\n",
    "import pandas as pd\n",
    "import seaborn as sns\n",
    "import matplotlib.pyplot as plt\n",
    "\n",
    "\n",
    "from sklearn.preprocessing import (\n",
    "    StandardScaler,\n",
    "    MinMaxScaler,\n",
    "    RobustScaler,\n",
    "    OneHotEncoder,\n",
    "    OrdinalEncoder,\n",
    "    LabelEncoder\n",
    ")\n",
    "\n",
    "\n",
    "from sklearn.metrics import accuracy_score\n",
    "from sklearn.model_selection import cross_val_score\n",
    "\n",
    "\n",
    "\n",
    "from sklearn.linear_model import LogisticRegression\n",
    "from sklearn.neighbors import KNeighborsClassifier\n",
    "from sklearn.tree import DecisionTreeClassifier\n",
    "from sklearn.ensemble import RandomForestClassifier\n",
    "from catboost import CatBoostClassifier\n",
    "from sklearn import svm\n",
    "from sklearn.svm import SVC\n",
    "\n",
    "\n",
    "from sklearn.model_selection import train_test_split\n",
    "from sklearn.pipeline import Pipeline\n",
    "from sklearn.compose import ColumnTransformer\n",
    "from sklearn.impute import SimpleImputer\n",
    "\n",
    "\n",
    "from sklearn.model_selection import RandomizedSearchCV\n",
    "from sklearn.model_selection import GridSearchCV\n",
    "from optuna.integration import OptunaSearchCV\n",
    "import optuna\n",
    "\n",
    "\n",
    "from sklearn.cluster import KMeans\n",
    "from sklearn.decomposition import PCA\n",
    "from sklearn.cluster import AgglomerativeClustering\n",
    "from scipy.cluster.hierarchy import dendrogram, linkage\n",
    "\n",
    "\n",
    "from sklearn.feature_extraction.text import TfidfVectorizer\n",
    "from sklearn.feature_extraction.text import CountVectorizer\n",
    "from sklearn.naive_bayes import MultinomialNB\n",
    "from imblearn.over_sampling import SMOTE"
   ]
  },
  {
   "cell_type": "code",
   "execution_count": 3,
   "id": "10e65868-9940-4163-a735-5809eb59198a",
   "metadata": {},
   "outputs": [
    {
     "name": "stdout",
     "output_type": "stream",
     "text": [
      "Note: you may need to restart the kernel to use updated packages.\n"
     ]
    }
   ],
   "source": [
    "pip install notebook-as-pdf -q"
   ]
  },
  {
   "cell_type": "code",
   "execution_count": 4,
   "id": "c2b9f54a-b65c-4545-8bea-c05d50984a18",
   "metadata": {},
   "outputs": [],
   "source": [
    "# загрузка данных\n",
    "data = pd.read_excel('/Users/vladimirkalinovskii/Desktop/trash/курсовая 1/883_ИМД-2.xlsx', index_col=0)"
   ]
  },
  {
   "cell_type": "code",
   "execution_count": 5,
   "id": "b55d5aa9-c4a9-4551-af99-6ccf5fc6e839",
   "metadata": {},
   "outputs": [
    {
     "data": {
      "text/html": [
       "<div>\n",
       "<style scoped>\n",
       "    .dataframe tbody tr th:only-of-type {\n",
       "        vertical-align: middle;\n",
       "    }\n",
       "\n",
       "    .dataframe tbody tr th {\n",
       "        vertical-align: top;\n",
       "    }\n",
       "\n",
       "    .dataframe thead th {\n",
       "        text-align: right;\n",
       "    }\n",
       "</style>\n",
       "<table border=\"1\" class=\"dataframe\">\n",
       "  <thead>\n",
       "    <tr style=\"text-align: right;\">\n",
       "      <th></th>\n",
       "      <th>REGION</th>\n",
       "      <th>FO</th>\n",
       "      <th>Q1010</th>\n",
       "      <th>S1</th>\n",
       "      <th>S2</th>\n",
       "      <th>S3</th>\n",
       "      <th>S3_AGE</th>\n",
       "      <th>S4</th>\n",
       "      <th>Q1</th>\n",
       "      <th>Q2</th>\n",
       "      <th>...</th>\n",
       "      <th>D6</th>\n",
       "      <th>D6_DR</th>\n",
       "      <th>D7</th>\n",
       "      <th>D7_DR</th>\n",
       "      <th>D8</th>\n",
       "      <th>D8_DR</th>\n",
       "      <th>D9</th>\n",
       "      <th>D10</th>\n",
       "      <th>D10_DR</th>\n",
       "      <th>D11</th>\n",
       "    </tr>\n",
       "    <tr>\n",
       "      <th>ID</th>\n",
       "      <th></th>\n",
       "      <th></th>\n",
       "      <th></th>\n",
       "      <th></th>\n",
       "      <th></th>\n",
       "      <th></th>\n",
       "      <th></th>\n",
       "      <th></th>\n",
       "      <th></th>\n",
       "      <th></th>\n",
       "      <th></th>\n",
       "      <th></th>\n",
       "      <th></th>\n",
       "      <th></th>\n",
       "      <th></th>\n",
       "      <th></th>\n",
       "      <th></th>\n",
       "      <th></th>\n",
       "      <th></th>\n",
       "      <th></th>\n",
       "      <th></th>\n",
       "    </tr>\n",
       "  </thead>\n",
       "  <tbody>\n",
       "    <tr>\n",
       "      <th>Идентификатор респондента</th>\n",
       "      <td>Region. Отметьте Ваш регион</td>\n",
       "      <td>FO. Федеральный округ</td>\n",
       "      <td>Место опроса</td>\n",
       "      <td>S1. Тип населённого пункта, где живёт респондент</td>\n",
       "      <td>S2. Пол респондента</td>\n",
       "      <td>S3. Скажите, пожалуйста, сколько лет Вам испол...</td>\n",
       "      <td>(Запишите) (лет)</td>\n",
       "      <td>S4. Какое у Вас образование?</td>\n",
       "      <td>Q1. Как Вы считаете, большинству людей можно д...</td>\n",
       "      <td>Q2. А если говорить о людях, которые окружают ...</td>\n",
       "      <td>...</td>\n",
       "      <td>D6. В какой отрасли Вы работаете, какова сфера...</td>\n",
       "      <td>Другое (уточните)</td>\n",
       "      <td>D7. Членом или сторонником какой политической ...</td>\n",
       "      <td>Другое (уточнить)</td>\n",
       "      <td>D8. Считаете ли Вы себя верующим человеком? И ...</td>\n",
       "      <td>Другое (уточнить )</td>\n",
       "      <td>D9. Какое место занимает религия в Вашей жизни?</td>\n",
       "      <td>D10. В чём выражается Ваша принадлежность к ве...</td>\n",
       "      <td>Другое (уточнить )</td>\n",
       "      <td>D11. Как Вы оцениваете состояние своего здоровья?</td>\n",
       "    </tr>\n",
       "    <tr>\n",
       "      <th>063a20a33e679b4</th>\n",
       "      <td>Приморский край</td>\n",
       "      <td>Дальневосточный федеральный округ</td>\n",
       "      <td>Надеждинский муниципальный район</td>\n",
       "      <td>Село</td>\n",
       "      <td>Мужчина</td>\n",
       "      <td>60+ лет</td>\n",
       "      <td>70</td>\n",
       "      <td>Среднее специальное (колледж, техникум, медици...</td>\n",
       "      <td>Большинству людей можно доверять</td>\n",
       "      <td>Большинству можно доверять</td>\n",
       "      <td>...</td>\n",
       "      <td>NaN</td>\n",
       "      <td>NaN</td>\n",
       "      <td>Не являюсь членом или сторонником какой-либо п...</td>\n",
       "      <td>NaN</td>\n",
       "      <td>Верующим человеком себя не считаю</td>\n",
       "      <td>NaN</td>\n",
       "      <td>NaN</td>\n",
       "      <td>NaN</td>\n",
       "      <td>NaN</td>\n",
       "      <td>Среднее</td>\n",
       "    </tr>\n",
       "    <tr>\n",
       "      <th>06539b004760a54</th>\n",
       "      <td>Саратовская область</td>\n",
       "      <td>Приволжский федеральный округ</td>\n",
       "      <td>Энгельсский муниципальный район</td>\n",
       "      <td>Село</td>\n",
       "      <td>Мужчина</td>\n",
       "      <td>60+ лет</td>\n",
       "      <td>71</td>\n",
       "      <td>Среднее общее (школа)</td>\n",
       "      <td>Большинству людей можно доверять</td>\n",
       "      <td>Большинству можно доверять</td>\n",
       "      <td>...</td>\n",
       "      <td>NaN</td>\n",
       "      <td>NaN</td>\n",
       "      <td>Не являюсь членом или сторонником какой-либо п...</td>\n",
       "      <td>NaN</td>\n",
       "      <td>Верующим человеком себя не считаю</td>\n",
       "      <td>NaN</td>\n",
       "      <td>NaN</td>\n",
       "      <td>NaN</td>\n",
       "      <td>NaN</td>\n",
       "      <td>Плохое</td>\n",
       "    </tr>\n",
       "    <tr>\n",
       "      <th>06e85272a3a11d4</th>\n",
       "      <td>Республика Дагестан</td>\n",
       "      <td>Северо-Кавказский федеральный округ</td>\n",
       "      <td>г. Буйнакск</td>\n",
       "      <td>Город с населением от 50 до 100 тыс.</td>\n",
       "      <td>Женщина</td>\n",
       "      <td>35-44 года</td>\n",
       "      <td>44</td>\n",
       "      <td>Высшее (диплом специалиста, бакалавра, магистра)</td>\n",
       "      <td>В отношениях с людьми следует быть осторожными</td>\n",
       "      <td>В отношениях с людьми моего окружения следует ...</td>\n",
       "      <td>...</td>\n",
       "      <td>Сфера услуг, сервиса, бытового обслуживания</td>\n",
       "      <td>NaN</td>\n",
       "      <td>Не являюсь членом или сторонником какой-либо п...</td>\n",
       "      <td>NaN</td>\n",
       "      <td>Мусульманин</td>\n",
       "      <td>NaN</td>\n",
       "      <td>Очень важное</td>\n",
       "      <td>Стараюсь выполнять религиозные предписания, ре...</td>\n",
       "      <td>NaN</td>\n",
       "      <td>Среднее</td>\n",
       "    </tr>\n",
       "    <tr>\n",
       "      <th>06470c0967c0d24</th>\n",
       "      <td>Пермский край</td>\n",
       "      <td>Приволжский федеральный округ</td>\n",
       "      <td>г. Березники</td>\n",
       "      <td>Город с населением от 100 до 500 тыс.</td>\n",
       "      <td>Мужчина</td>\n",
       "      <td>35-44 года</td>\n",
       "      <td>43</td>\n",
       "      <td>Среднее специальное (колледж, техникум, медици...</td>\n",
       "      <td>В отношениях с людьми следует быть осторожными</td>\n",
       "      <td>В отношениях с людьми моего окружения следует ...</td>\n",
       "      <td>...</td>\n",
       "      <td>Промышленное производство (в т.ч. добывающие о...</td>\n",
       "      <td>NaN</td>\n",
       "      <td>Не являюсь членом или сторонником какой-либо п...</td>\n",
       "      <td>NaN</td>\n",
       "      <td>Православный</td>\n",
       "      <td>NaN</td>\n",
       "      <td>Затрудняюсь ответить</td>\n",
       "      <td>/НЕ НА КАРТОЧКЕ / Затрудняюсь ответить</td>\n",
       "      <td>NaN</td>\n",
       "      <td>Хорошее</td>\n",
       "    </tr>\n",
       "  </tbody>\n",
       "</table>\n",
       "<p>5 rows × 500 columns</p>\n",
       "</div>"
      ],
      "text/plain": [
       "                                                REGION  \\\n",
       "ID                                                       \n",
       "Идентификатор респондента  Region. Отметьте Ваш регион   \n",
       "063a20a33e679b4                        Приморский край   \n",
       "06539b004760a54                    Саратовская область   \n",
       "06e85272a3a11d4                    Республика Дагестан   \n",
       "06470c0967c0d24                          Пермский край   \n",
       "\n",
       "                                                            FO  \\\n",
       "ID                                                               \n",
       "Идентификатор респондента                FO. Федеральный округ   \n",
       "063a20a33e679b4              Дальневосточный федеральный округ   \n",
       "06539b004760a54                  Приволжский федеральный округ   \n",
       "06e85272a3a11d4            Северо-Кавказский федеральный округ   \n",
       "06470c0967c0d24                  Приволжский федеральный округ   \n",
       "\n",
       "                                                      Q1010  \\\n",
       "ID                                                            \n",
       "Идентификатор респондента                      Место опроса   \n",
       "063a20a33e679b4            Надеждинский муниципальный район   \n",
       "06539b004760a54             Энгельсский муниципальный район   \n",
       "06e85272a3a11d4                                 г. Буйнакск   \n",
       "06470c0967c0d24                                г. Березники   \n",
       "\n",
       "                                                                         S1  \\\n",
       "ID                                                                            \n",
       "Идентификатор респондента  S1. Тип населённого пункта, где живёт респондент   \n",
       "063a20a33e679b4                                                        Село   \n",
       "06539b004760a54                                                        Село   \n",
       "06e85272a3a11d4                        Город с населением от 50 до 100 тыс.   \n",
       "06470c0967c0d24                       Город с населением от 100 до 500 тыс.   \n",
       "\n",
       "                                            S2  \\\n",
       "ID                                               \n",
       "Идентификатор респондента  S2. Пол респондента   \n",
       "063a20a33e679b4                        Мужчина   \n",
       "06539b004760a54                        Мужчина   \n",
       "06e85272a3a11d4                        Женщина   \n",
       "06470c0967c0d24                        Мужчина   \n",
       "\n",
       "                                                                          S3  \\\n",
       "ID                                                                             \n",
       "Идентификатор респондента  S3. Скажите, пожалуйста, сколько лет Вам испол...   \n",
       "063a20a33e679b4                                                      60+ лет   \n",
       "06539b004760a54                                                      60+ лет   \n",
       "06e85272a3a11d4                                                   35-44 года   \n",
       "06470c0967c0d24                                                   35-44 года   \n",
       "\n",
       "                                     S3_AGE  \\\n",
       "ID                                            \n",
       "Идентификатор респондента  (Запишите) (лет)   \n",
       "063a20a33e679b4                          70   \n",
       "06539b004760a54                          71   \n",
       "06e85272a3a11d4                          44   \n",
       "06470c0967c0d24                          43   \n",
       "\n",
       "                                                                          S4  \\\n",
       "ID                                                                             \n",
       "Идентификатор респондента                       S4. Какое у Вас образование?   \n",
       "063a20a33e679b4            Среднее специальное (колледж, техникум, медици...   \n",
       "06539b004760a54                                        Среднее общее (школа)   \n",
       "06e85272a3a11d4             Высшее (диплом специалиста, бакалавра, магистра)   \n",
       "06470c0967c0d24            Среднее специальное (колледж, техникум, медици...   \n",
       "\n",
       "                                                                          Q1  \\\n",
       "ID                                                                             \n",
       "Идентификатор респондента  Q1. Как Вы считаете, большинству людей можно д...   \n",
       "063a20a33e679b4                             Большинству людей можно доверять   \n",
       "06539b004760a54                             Большинству людей можно доверять   \n",
       "06e85272a3a11d4               В отношениях с людьми следует быть осторожными   \n",
       "06470c0967c0d24               В отношениях с людьми следует быть осторожными   \n",
       "\n",
       "                                                                          Q2  \\\n",
       "ID                                                                             \n",
       "Идентификатор респондента  Q2. А если говорить о людях, которые окружают ...   \n",
       "063a20a33e679b4                                   Большинству можно доверять   \n",
       "06539b004760a54                                   Большинству можно доверять   \n",
       "06e85272a3a11d4            В отношениях с людьми моего окружения следует ...   \n",
       "06470c0967c0d24            В отношениях с людьми моего окружения следует ...   \n",
       "\n",
       "                           ...  \\\n",
       "ID                         ...   \n",
       "Идентификатор респондента  ...   \n",
       "063a20a33e679b4            ...   \n",
       "06539b004760a54            ...   \n",
       "06e85272a3a11d4            ...   \n",
       "06470c0967c0d24            ...   \n",
       "\n",
       "                                                                          D6  \\\n",
       "ID                                                                             \n",
       "Идентификатор респондента  D6. В какой отрасли Вы работаете, какова сфера...   \n",
       "063a20a33e679b4                                                          NaN   \n",
       "06539b004760a54                                                          NaN   \n",
       "06e85272a3a11d4                  Сфера услуг, сервиса, бытового обслуживания   \n",
       "06470c0967c0d24            Промышленное производство (в т.ч. добывающие о...   \n",
       "\n",
       "                                       D6_DR  \\\n",
       "ID                                             \n",
       "Идентификатор респондента  Другое (уточните)   \n",
       "063a20a33e679b4                          NaN   \n",
       "06539b004760a54                          NaN   \n",
       "06e85272a3a11d4                          NaN   \n",
       "06470c0967c0d24                          NaN   \n",
       "\n",
       "                                                                          D7  \\\n",
       "ID                                                                             \n",
       "Идентификатор респондента  D7. Членом или сторонником какой политической ...   \n",
       "063a20a33e679b4            Не являюсь членом или сторонником какой-либо п...   \n",
       "06539b004760a54            Не являюсь членом или сторонником какой-либо п...   \n",
       "06e85272a3a11d4            Не являюсь членом или сторонником какой-либо п...   \n",
       "06470c0967c0d24            Не являюсь членом или сторонником какой-либо п...   \n",
       "\n",
       "                                       D7_DR  \\\n",
       "ID                                             \n",
       "Идентификатор респондента  Другое (уточнить)   \n",
       "063a20a33e679b4                          NaN   \n",
       "06539b004760a54                          NaN   \n",
       "06e85272a3a11d4                          NaN   \n",
       "06470c0967c0d24                          NaN   \n",
       "\n",
       "                                                                          D8  \\\n",
       "ID                                                                             \n",
       "Идентификатор респондента  D8. Считаете ли Вы себя верующим человеком? И ...   \n",
       "063a20a33e679b4                            Верующим человеком себя не считаю   \n",
       "06539b004760a54                            Верующим человеком себя не считаю   \n",
       "06e85272a3a11d4                                                  Мусульманин   \n",
       "06470c0967c0d24                                                 Православный   \n",
       "\n",
       "                                        D8_DR  \\\n",
       "ID                                              \n",
       "Идентификатор респондента  Другое (уточнить )   \n",
       "063a20a33e679b4                           NaN   \n",
       "06539b004760a54                           NaN   \n",
       "06e85272a3a11d4                           NaN   \n",
       "06470c0967c0d24                           NaN   \n",
       "\n",
       "                                                                        D9  \\\n",
       "ID                                                                           \n",
       "Идентификатор респондента  D9. Какое место занимает религия в Вашей жизни?   \n",
       "063a20a33e679b4                                                        NaN   \n",
       "06539b004760a54                                                        NaN   \n",
       "06e85272a3a11d4                                               Очень важное   \n",
       "06470c0967c0d24                                       Затрудняюсь ответить   \n",
       "\n",
       "                                                                         D10  \\\n",
       "ID                                                                             \n",
       "Идентификатор респондента  D10. В чём выражается Ваша принадлежность к ве...   \n",
       "063a20a33e679b4                                                          NaN   \n",
       "06539b004760a54                                                          NaN   \n",
       "06e85272a3a11d4            Стараюсь выполнять религиозные предписания, ре...   \n",
       "06470c0967c0d24                       /НЕ НА КАРТОЧКЕ / Затрудняюсь ответить   \n",
       "\n",
       "                                       D10_DR  \\\n",
       "ID                                              \n",
       "Идентификатор респондента  Другое (уточнить )   \n",
       "063a20a33e679b4                           NaN   \n",
       "06539b004760a54                           NaN   \n",
       "06e85272a3a11d4                           NaN   \n",
       "06470c0967c0d24                           NaN   \n",
       "\n",
       "                                                                         D11  \n",
       "ID                                                                            \n",
       "Идентификатор респондента  D11. Как Вы оцениваете состояние своего здоровья?  \n",
       "063a20a33e679b4                                                      Среднее  \n",
       "06539b004760a54                                                       Плохое  \n",
       "06e85272a3a11d4                                                      Среднее  \n",
       "06470c0967c0d24                                                      Хорошее  \n",
       "\n",
       "[5 rows x 500 columns]"
      ]
     },
     "execution_count": 5,
     "metadata": {},
     "output_type": "execute_result"
    }
   ],
   "source": [
    "data.head()"
   ]
  },
  {
   "cell_type": "code",
   "execution_count": 6,
   "id": "a25a56db-e59b-4258-913a-339dd729ed24",
   "metadata": {},
   "outputs": [
    {
     "data": {
      "text/plain": [
       "(2003, 500)"
      ]
     },
     "execution_count": 6,
     "metadata": {},
     "output_type": "execute_result"
    }
   ],
   "source": [
    "# проверим кол-во строк и столбцов\n",
    "data.shape"
   ]
  },
  {
   "cell_type": "markdown",
   "id": "6453fbbd-5ec0-4fc4-9e76-87bb77420e69",
   "metadata": {},
   "source": [
    "<div class=\"alert alert-warning\">\n",
    "    <h2> 1️⃣ Рассмотрим первые 8 столбцов <a class=\"tocSkip\"> </h2>\n",
    "    \n",
    "</div>"
   ]
  },
  {
   "cell_type": "markdown",
   "id": "380c9719-caa4-4a1e-95c8-645fee32740a",
   "metadata": {},
   "source": [
    "## Предобработка данных "
   ]
  },
  {
   "cell_type": "markdown",
   "id": "68db7483-bfcb-4bd3-adf2-1d8997be4633",
   "metadata": {},
   "source": [
    "**т.к. датасет крайне объёмный в плане столбцов (500 штук) для начала возьмём первые 8, чтобы посмотреть на данные и осознать как дальше с ними работать**"
   ]
  },
  {
   "cell_type": "code",
   "execution_count": 7,
   "id": "54d8d81d-9708-4f9c-8550-2c78c15d87eb",
   "metadata": {},
   "outputs": [],
   "source": [
    "df_education = data.iloc[1:, :9]"
   ]
  },
  {
   "cell_type": "code",
   "execution_count": 8,
   "id": "5dbfb50f-15a5-48eb-9554-0f6f633547b3",
   "metadata": {},
   "outputs": [],
   "source": [
    "# конвертируем Идентификатор респондента из индекса в столбец\n",
    "df_education.reset_index(inplace= True , level = ['ID'])"
   ]
  },
  {
   "cell_type": "code",
   "execution_count": 9,
   "id": "2a9f1b12-53de-4b93-80ed-d53d6322aeb0",
   "metadata": {},
   "outputs": [
    {
     "data": {
      "text/html": [
       "<div>\n",
       "<style scoped>\n",
       "    .dataframe tbody tr th:only-of-type {\n",
       "        vertical-align: middle;\n",
       "    }\n",
       "\n",
       "    .dataframe tbody tr th {\n",
       "        vertical-align: top;\n",
       "    }\n",
       "\n",
       "    .dataframe thead th {\n",
       "        text-align: right;\n",
       "    }\n",
       "</style>\n",
       "<table border=\"1\" class=\"dataframe\">\n",
       "  <thead>\n",
       "    <tr style=\"text-align: right;\">\n",
       "      <th></th>\n",
       "      <th>ID</th>\n",
       "      <th>REGION</th>\n",
       "      <th>FO</th>\n",
       "      <th>Q1010</th>\n",
       "      <th>S1</th>\n",
       "      <th>S2</th>\n",
       "      <th>S3</th>\n",
       "      <th>S3_AGE</th>\n",
       "      <th>S4</th>\n",
       "      <th>Q1</th>\n",
       "    </tr>\n",
       "  </thead>\n",
       "  <tbody>\n",
       "    <tr>\n",
       "      <th>0</th>\n",
       "      <td>063a20a33e679b4</td>\n",
       "      <td>Приморский край</td>\n",
       "      <td>Дальневосточный федеральный округ</td>\n",
       "      <td>Надеждинский муниципальный район</td>\n",
       "      <td>Село</td>\n",
       "      <td>Мужчина</td>\n",
       "      <td>60+ лет</td>\n",
       "      <td>70</td>\n",
       "      <td>Среднее специальное (колледж, техникум, медици...</td>\n",
       "      <td>Большинству людей можно доверять</td>\n",
       "    </tr>\n",
       "    <tr>\n",
       "      <th>1</th>\n",
       "      <td>06539b004760a54</td>\n",
       "      <td>Саратовская область</td>\n",
       "      <td>Приволжский федеральный округ</td>\n",
       "      <td>Энгельсский муниципальный район</td>\n",
       "      <td>Село</td>\n",
       "      <td>Мужчина</td>\n",
       "      <td>60+ лет</td>\n",
       "      <td>71</td>\n",
       "      <td>Среднее общее (школа)</td>\n",
       "      <td>Большинству людей можно доверять</td>\n",
       "    </tr>\n",
       "    <tr>\n",
       "      <th>2</th>\n",
       "      <td>06e85272a3a11d4</td>\n",
       "      <td>Республика Дагестан</td>\n",
       "      <td>Северо-Кавказский федеральный округ</td>\n",
       "      <td>г. Буйнакск</td>\n",
       "      <td>Город с населением от 50 до 100 тыс.</td>\n",
       "      <td>Женщина</td>\n",
       "      <td>35-44 года</td>\n",
       "      <td>44</td>\n",
       "      <td>Высшее (диплом специалиста, бакалавра, магистра)</td>\n",
       "      <td>В отношениях с людьми следует быть осторожными</td>\n",
       "    </tr>\n",
       "  </tbody>\n",
       "</table>\n",
       "</div>"
      ],
      "text/plain": [
       "                ID               REGION                                   FO  \\\n",
       "0  063a20a33e679b4      Приморский край    Дальневосточный федеральный округ   \n",
       "1  06539b004760a54  Саратовская область        Приволжский федеральный округ   \n",
       "2  06e85272a3a11d4  Республика Дагестан  Северо-Кавказский федеральный округ   \n",
       "\n",
       "                              Q1010                                    S1  \\\n",
       "0  Надеждинский муниципальный район                                  Село   \n",
       "1   Энгельсский муниципальный район                                  Село   \n",
       "2                       г. Буйнакск  Город с населением от 50 до 100 тыс.   \n",
       "\n",
       "        S2          S3 S3_AGE  \\\n",
       "0  Мужчина     60+ лет     70   \n",
       "1  Мужчина     60+ лет     71   \n",
       "2  Женщина  35-44 года     44   \n",
       "\n",
       "                                                  S4  \\\n",
       "0  Среднее специальное (колледж, техникум, медици...   \n",
       "1                              Среднее общее (школа)   \n",
       "2   Высшее (диплом специалиста, бакалавра, магистра)   \n",
       "\n",
       "                                               Q1  \n",
       "0                Большинству людей можно доверять  \n",
       "1                Большинству людей можно доверять  \n",
       "2  В отношениях с людьми следует быть осторожными  "
      ]
     },
     "execution_count": 9,
     "metadata": {},
     "output_type": "execute_result"
    }
   ],
   "source": [
    "df_education.head(3)"
   ]
  },
  {
   "cell_type": "code",
   "execution_count": 10,
   "id": "e92c584c-ea4b-47d3-92c9-9ef1609ae645",
   "metadata": {},
   "outputs": [
    {
     "data": {
      "text/plain": [
       "ID        0\n",
       "REGION    0\n",
       "FO        0\n",
       "Q1010     0\n",
       "S1        0\n",
       "S2        0\n",
       "S3        0\n",
       "S3_AGE    0\n",
       "S4        0\n",
       "Q1        0\n",
       "dtype: int64"
      ]
     },
     "execution_count": 10,
     "metadata": {},
     "output_type": "execute_result"
    }
   ],
   "source": [
    "# проверим данные на наличие пропусков\n",
    "df_education.isna().sum()"
   ]
  },
  {
   "cell_type": "code",
   "execution_count": 11,
   "id": "3e1e9404-500e-49c0-b679-e9cb50e63d32",
   "metadata": {},
   "outputs": [
    {
     "data": {
      "text/plain": [
       "0"
      ]
     },
     "execution_count": 11,
     "metadata": {},
     "output_type": "execute_result"
    }
   ],
   "source": [
    "# проверим наличие дубликатов\n",
    "df_education.duplicated().sum()"
   ]
  },
  {
   "cell_type": "markdown",
   "id": "2d552329-ca6c-4a59-8dbc-bc25bdf67789",
   "metadata": {},
   "source": [
    "## Исследовательский анализ данных"
   ]
  },
  {
   "cell_type": "code",
   "execution_count": 12,
   "id": "701c8564-c899-4549-93d8-bcc5abbd618f",
   "metadata": {},
   "outputs": [
    {
     "data": {
      "text/plain": [
       "REGION\n",
       "Город Москва                         170\n",
       "Город Санкт-Петербург                 73\n",
       "Республика Дагестан                   69\n",
       "Ставропольский край                   65\n",
       "Ростовская область                    49\n",
       "Приморский край                       45\n",
       "Республика Крым                       44\n",
       "Омская область                        44\n",
       "Республика Коми                       44\n",
       "Удмуртская Республика                 43\n",
       "Кировская область                     43\n",
       "Краснодарский край                    43\n",
       "Ульяновская область                   42\n",
       "Саратовская область                   42\n",
       "Алтайский край                        42\n",
       "Астраханская область                  42\n",
       "Иркутская область                     42\n",
       "Республика Татарстан                  41\n",
       "Новосибирская область                 40\n",
       "Ленинградская область                 40\n",
       "Самарская область                     40\n",
       "Республика Башкортостан               40\n",
       "Красноярский край                     39\n",
       "Чувашская Республика                  39\n",
       "Тверская область                      38\n",
       "Ивановская область                    38\n",
       "Свердловская область                  38\n",
       "Тамбовская область                    37\n",
       "Московская область                    37\n",
       "Пермский край                         36\n",
       "Нижегородская область                 36\n",
       "Амурская область                      36\n",
       "Воронежская область                   35\n",
       "Волгоградская область                 35\n",
       "Курская область                       35\n",
       "Челябинская область                   34\n",
       "Калининградская область               33\n",
       "Ханты Мансийский автономный округ     33\n",
       "Забайкальский край                    32\n",
       "Липецкая область                      32\n",
       "Тюменская область                     32\n",
       "Ярославская область                   32\n",
       "Курганская область                    32\n",
       "Тульская область                      29\n",
       "Томская область                       28\n",
       "Владимирская область                  27\n",
       "Белгородская область                  25\n",
       "Севастополь                           11\n",
       "Name: count, dtype: int64"
      ]
     },
     "execution_count": 12,
     "metadata": {},
     "output_type": "execute_result"
    }
   ],
   "source": [
    "# посмотрим из какого региона поучавствовало больше всего людей\n",
    "df_education['REGION'].value_counts()"
   ]
  },
  {
   "cell_type": "code",
   "execution_count": 13,
   "id": "851e7e10-3c18-4866-bca4-c083c3703e0b",
   "metadata": {},
   "outputs": [],
   "source": [
    "# выделим топ-5 городов\n",
    "lst = ['Город Москва', 'Город Санкт-Петербург', 'Республика Дагестан', 'Ставропольский край', 'Ростовская область']"
   ]
  },
  {
   "cell_type": "code",
   "execution_count": 14,
   "id": "0727def6-ee98-4708-9476-98631a152c87",
   "metadata": {},
   "outputs": [
    {
     "data": {
      "text/html": [
       "<div>\n",
       "<style scoped>\n",
       "    .dataframe tbody tr th:only-of-type {\n",
       "        vertical-align: middle;\n",
       "    }\n",
       "\n",
       "    .dataframe tbody tr th {\n",
       "        vertical-align: top;\n",
       "    }\n",
       "\n",
       "    .dataframe thead th {\n",
       "        text-align: right;\n",
       "    }\n",
       "</style>\n",
       "<table border=\"1\" class=\"dataframe\">\n",
       "  <thead>\n",
       "    <tr style=\"text-align: right;\">\n",
       "      <th>S2</th>\n",
       "      <th>Женщина</th>\n",
       "      <th>Мужчина</th>\n",
       "    </tr>\n",
       "    <tr>\n",
       "      <th>REGION</th>\n",
       "      <th></th>\n",
       "      <th></th>\n",
       "    </tr>\n",
       "  </thead>\n",
       "  <tbody>\n",
       "    <tr>\n",
       "      <th>Город Москва</th>\n",
       "      <td>46.0</td>\n",
       "      <td>42.5</td>\n",
       "    </tr>\n",
       "    <tr>\n",
       "      <th>Город Санкт-Петербург</th>\n",
       "      <td>45.5</td>\n",
       "      <td>41.0</td>\n",
       "    </tr>\n",
       "    <tr>\n",
       "      <th>Республика Дагестан</th>\n",
       "      <td>46.0</td>\n",
       "      <td>38.5</td>\n",
       "    </tr>\n",
       "    <tr>\n",
       "      <th>Ростовская область</th>\n",
       "      <td>48.0</td>\n",
       "      <td>42.0</td>\n",
       "    </tr>\n",
       "    <tr>\n",
       "      <th>Ставропольский край</th>\n",
       "      <td>50.0</td>\n",
       "      <td>47.0</td>\n",
       "    </tr>\n",
       "  </tbody>\n",
       "</table>\n",
       "</div>"
      ],
      "text/plain": [
       "S2                    Женщина Мужчина\n",
       "REGION                               \n",
       "Город Москва             46.0    42.5\n",
       "Город Санкт-Петербург    45.5    41.0\n",
       "Республика Дагестан      46.0    38.5\n",
       "Ростовская область       48.0    42.0\n",
       "Ставропольский край      50.0    47.0"
      ]
     },
     "execution_count": 14,
     "metadata": {},
     "output_type": "execute_result"
    }
   ],
   "source": [
    "# проверим медианный возраст в топ-5 городах по кол-ву опрошенных по разделению на женщин и мужчин\n",
    "pivot_age = df_education.query('REGION in @lst').pivot_table(index=\"REGION\", values=\"S3_AGE\", columns=['S2'], aggfunc = 'median')\n",
    "pivot_age"
   ]
  },
  {
   "cell_type": "code",
   "execution_count": 15,
   "id": "c57b93df-fa4a-499c-ae96-4f979d65a48a",
   "metadata": {},
   "outputs": [
    {
     "data": {
      "image/png": "[encoded data removed]",
      "text/plain": [
       "<Figure size 640x480 with 1 Axes>"
      ]
     },
     "metadata": {},
     "output_type": "display_data"
    }
   ],
   "source": [
    "ax = sns.barplot(x='REGION', y='S3_AGE', data=df_education.query('REGION in @lst'), \\\n",
    "            hue='S2', palette='Purples')\n",
    "ax.set_title('медианный возраст в топ-5 городах по кол-ву опрошенных', fontsize = 12)\n",
    "plt.xticks(rotation = 25)\n",
    "plt.show()"
   ]
  },
  {
   "cell_type": "code",
   "execution_count": 16,
   "id": "970318ab-209c-406d-8e48-a1fd7ffcf3e9",
   "metadata": {},
   "outputs": [
    {
     "data": {
      "text/plain": [
       "S4\n",
       "Среднее специальное (колледж, техникум, медицинское училище и т.п.)    768\n",
       "Высшее (диплом специалиста, бакалавра, магистра)                       553\n",
       "Среднее общее (школа)                                                  350\n",
       "Неполное среднее или ниже                                              207\n",
       "Незаконченное высшее (обучение в вузе без получения диплома)            70\n",
       "Начальное профессиональное (ПТУ, профессиональный лицей и т.п.)         52\n",
       "Аспирантура, учёная степень, звание                                      2\n",
       "Name: count, dtype: int64"
      ]
     },
     "execution_count": 16,
     "metadata": {},
     "output_type": "execute_result"
    }
   ],
   "source": [
    "# посмотрим на распределение образования среди респондентов\n",
    "df_education['S4'].value_counts()"
   ]
  },
  {
   "cell_type": "code",
   "execution_count": 17,
   "id": "387d188a-de51-4fff-97bc-67f4f79da926",
   "metadata": {},
   "outputs": [],
   "source": [
    "data['S4'] = data['S4'].replace('Среднее специальное (колледж, техникум, медицинское училище и т.п.) ', 'Среднее специальное ')"
   ]
  },
  {
   "cell_type": "code",
   "execution_count": 18,
   "id": "546d97b5-2c6e-463e-9dce-1b044b8b8a9f",
   "metadata": {},
   "outputs": [
    {
     "data": {
      "image/png": "[encoded data removed]",
      "text/plain": [
       "<Figure size 640x480 with 1 Axes>"
      ]
     },
     "metadata": {},
     "output_type": "display_data"
    }
   ],
   "source": [
    "ax = df_education['S4'].value_counts().sort_values().plot(kind='barh')"
   ]
  },
  {
   "cell_type": "markdown",
   "id": "49c31d97-7788-43f4-be50-22eaf1ceb526",
   "metadata": {},
   "source": [
    "<div style=\"border:solid Chocolate 2px; padding: 40px\">\n",
    "\n",
    "\n",
    "<h2> 1️⃣Вывод исследовательского анализа: <a class=\"tocSkip\"> </h2> \n",
    "    \n",
    "    \n",
    "- Топ-5 городов по количеству опрошенных: Город Москва, Город Санкт-Петербург, Республика Дагестан, Ставропольский край, Ростовская область\n",
    "- Самый возрастные респонденты из Ставропольского края, медианный возраст среди женщин - 50 и мужчин - 47\n",
    "- В опросе учавствовало больше женщин чем мужчин и они были как правило старше\n",
    "- У 38.4% среднее специальное образрвание и всего 2 окончили аспирантуру"
   ]
  },
  {
   "cell_type": "markdown",
   "id": "ceeecf68-a406-4f11-b544-d257c5705cc0",
   "metadata": {},
   "source": [
    "<div class=\"alert alert-warning\">\n",
    "    <h2>  2️⃣Рассмотрим срез по столбцам [Q1 : Q6]<a class=\"tocSkip\"> </h2>\n",
    "    \n",
    "</div>"
   ]
  },
  {
   "cell_type": "markdown",
   "id": "79e5acf7-6798-4b4f-b52b-a19ffc38a460",
   "metadata": {},
   "source": [
    "## Предобработка данных"
   ]
  },
  {
   "cell_type": "code",
   "execution_count": 19,
   "id": "6fd1bb33-d8a3-4068-8858-561cad8f3ee1",
   "metadata": {
    "scrolled": true
   },
   "outputs": [
    {
     "data": {
      "text/html": [
       "<div>\n",
       "<style scoped>\n",
       "    .dataframe tbody tr th:only-of-type {\n",
       "        vertical-align: middle;\n",
       "    }\n",
       "\n",
       "    .dataframe tbody tr th {\n",
       "        vertical-align: top;\n",
       "    }\n",
       "\n",
       "    .dataframe thead th {\n",
       "        text-align: right;\n",
       "    }\n",
       "</style>\n",
       "<table border=\"1\" class=\"dataframe\">\n",
       "  <thead>\n",
       "    <tr style=\"text-align: right;\">\n",
       "      <th></th>\n",
       "      <th>Q1</th>\n",
       "      <th>Q2</th>\n",
       "      <th>Q3</th>\n",
       "      <th>Q4</th>\n",
       "      <th>Q5</th>\n",
       "      <th>Q6</th>\n",
       "    </tr>\n",
       "    <tr>\n",
       "      <th>ID</th>\n",
       "      <th></th>\n",
       "      <th></th>\n",
       "      <th></th>\n",
       "      <th></th>\n",
       "      <th></th>\n",
       "      <th></th>\n",
       "    </tr>\n",
       "  </thead>\n",
       "  <tbody>\n",
       "    <tr>\n",
       "      <th>063a20a33e679b4</th>\n",
       "      <td>Большинству людей можно доверять</td>\n",
       "      <td>Большинству можно доверять</td>\n",
       "      <td>Безусловно, согласия, сплоченности</td>\n",
       "      <td>Безусловно, согласия, сплоченности</td>\n",
       "      <td>Скорее к первым (к готовым объединяться)</td>\n",
       "      <td>Да, приходилось</td>\n",
       "    </tr>\n",
       "    <tr>\n",
       "      <th>06539b004760a54</th>\n",
       "      <td>Большинству людей можно доверять</td>\n",
       "      <td>Большинству можно доверять</td>\n",
       "      <td>/НЕ НА КАРТОЧКЕ/ Затрудняюсь ответить</td>\n",
       "      <td>Скорее согласия, сплоченности</td>\n",
       "      <td>Безусловно, к первым (к готовым объединяться)</td>\n",
       "      <td>Нет, не приходилось</td>\n",
       "    </tr>\n",
       "    <tr>\n",
       "      <th>06e85272a3a11d4</th>\n",
       "      <td>В отношениях с людьми следует быть осторожными</td>\n",
       "      <td>В отношениях с людьми моего окружения следует ...</td>\n",
       "      <td>Скорее несогласия, разобщенности</td>\n",
       "      <td>Безусловно, несогласия, разобщенности</td>\n",
       "      <td>Безусловно, к первым (к готовым объединяться)</td>\n",
       "      <td>Да, приходилось</td>\n",
       "    </tr>\n",
       "  </tbody>\n",
       "</table>\n",
       "</div>"
      ],
      "text/plain": [
       "                                                             Q1  \\\n",
       "ID                                                                \n",
       "063a20a33e679b4                Большинству людей можно доверять   \n",
       "06539b004760a54                Большинству людей можно доверять   \n",
       "06e85272a3a11d4  В отношениях с людьми следует быть осторожными   \n",
       "\n",
       "                                                                Q2  \\\n",
       "ID                                                                   \n",
       "063a20a33e679b4                         Большинству можно доверять   \n",
       "06539b004760a54                         Большинству можно доверять   \n",
       "06e85272a3a11d4  В отношениях с людьми моего окружения следует ...   \n",
       "\n",
       "                                                    Q3  \\\n",
       "ID                                                       \n",
       "063a20a33e679b4     Безусловно, согласия, сплоченности   \n",
       "06539b004760a54  /НЕ НА КАРТОЧКЕ/ Затрудняюсь ответить   \n",
       "06e85272a3a11d4       Скорее несогласия, разобщенности   \n",
       "\n",
       "                                                    Q4  \\\n",
       "ID                                                       \n",
       "063a20a33e679b4     Безусловно, согласия, сплоченности   \n",
       "06539b004760a54          Скорее согласия, сплоченности   \n",
       "06e85272a3a11d4  Безусловно, несогласия, разобщенности   \n",
       "\n",
       "                                                            Q5  \\\n",
       "ID                                                               \n",
       "063a20a33e679b4       Скорее к первым (к готовым объединяться)   \n",
       "06539b004760a54  Безусловно, к первым (к готовым объединяться)   \n",
       "06e85272a3a11d4  Безусловно, к первым (к готовым объединяться)   \n",
       "\n",
       "                                  Q6  \n",
       "ID                                    \n",
       "063a20a33e679b4      Да, приходилось  \n",
       "06539b004760a54  Нет, не приходилось  \n",
       "06e85272a3a11d4      Да, приходилось  "
      ]
     },
     "execution_count": 19,
     "metadata": {},
     "output_type": "execute_result"
    }
   ],
   "source": [
    "df_cluster_1 = data.iloc[1:, 8:14]\n",
    "df_cluster_1.head(3)"
   ]
  },
  {
   "cell_type": "code",
   "execution_count": 20,
   "id": "53d66466-37e8-49f9-b63d-1df1b8721eee",
   "metadata": {},
   "outputs": [],
   "source": [
    "# заменим значения '/НЕ НА КАРТОЧКЕ / Затрудняюсь ответить', '/НЕ НА КАРТОЧКЕ/ Затрудняюсь ответить' на -->\n",
    "# 'Затрудняюсь ответить'\n",
    "df_cluster_1 = df_cluster_1.replace(['/НЕ НА КАРТОЧКЕ / Затрудняюсь ответить', '/НЕ НА КАРТОЧКЕ/ Затрудняюсь ответить'],\\\n",
    "                                    'Затрудняюсь ответить')"
   ]
  },
  {
   "cell_type": "code",
   "execution_count": 21,
   "id": "9017b0cf-e962-4da6-a117-3511cfdcdd4a",
   "metadata": {},
   "outputs": [],
   "source": [
    "# создадим функцию для проверки неявных дубликатов\n",
    "def uniq(data):\n",
    "    x = data.select_dtypes(include='object').columns.tolist()\n",
    "    for i in x:\n",
    "        print(i)\n",
    "        print(data[i].unique())\n",
    "        print(data[i].nunique())\n",
    "        print()\n"
   ]
  },
  {
   "cell_type": "code",
   "execution_count": 22,
   "id": "4928b79b-4b21-4413-b194-9f93a03604b0",
   "metadata": {
    "scrolled": true
   },
   "outputs": [
    {
     "name": "stdout",
     "output_type": "stream",
     "text": [
      "Q1\n",
      "['Большинству людей можно доверять'\n",
      " 'В отношениях с людьми следует быть осторожными' 'Затрудняюсь ответить']\n",
      "3\n",
      "\n",
      "Q2\n",
      "['Большинству можно доверять'\n",
      " 'В отношениях с людьми моего окружения следует быть осторожными'\n",
      " 'Затрудняюсь ответить']\n",
      "3\n",
      "\n",
      "Q3\n",
      "['Безусловно, согласия, сплоченности' 'Затрудняюсь ответить'\n",
      " 'Скорее несогласия, разобщенности'\n",
      " 'Безусловно, несогласия, разобщенности' 'Скорее согласия, сплоченности']\n",
      "5\n",
      "\n",
      "Q4\n",
      "['Безусловно, согласия, сплоченности' 'Скорее согласия, сплоченности'\n",
      " 'Безусловно, несогласия, разобщенности'\n",
      " 'Скорее несогласия, разобщенности' 'Затрудняюсь ответить']\n",
      "5\n",
      "\n",
      "Q5\n",
      "['Скорее к первым (к готовым объединяться)'\n",
      " 'Безусловно, к первым (к готовым объединяться)'\n",
      " 'Скорее ко вторым (к неготовым объединяться)'\n",
      " 'Безусловно, ко вторым (к неготовым объединяться)' 'Затрудняюсь ответить']\n",
      "5\n",
      "\n",
      "Q6\n",
      "['Да, приходилось' 'Нет, не приходилось' 'Затрудняюсь ответить']\n",
      "3\n",
      "\n"
     ]
    }
   ],
   "source": [
    "# исследуем данные на неочевидные дубликаты\n",
    "uniq(df_cluster_1)"
   ]
  },
  {
   "cell_type": "markdown",
   "id": "a27a5aa6-4f3c-4f98-8719-97daecc38ada",
   "metadata": {},
   "source": [
    "## Кодирование данных кластера 'Q1', 'Q2', 'Q3', 'Q4', 'Q5', 'Q6'"
   ]
  },
  {
   "cell_type": "markdown",
   "id": "ed18b64e-8cde-45b6-a3a7-6cda4b9e1239",
   "metadata": {},
   "source": [
    "- Q1: \"Как Вы считаете, большинству людей можно доверять или в отношениях с людьми следует быть осторожными?\"\n",
    "- Q2: \"А если говорить о людях, которые окружают лично Вас, то большинству из них можно доверять или в отношениях с ними следует быть осторожными?\"\n",
    "- Q3: \"Как Вы думаете, сегодня в нашей стране среди людей больше согласия, сплоченности или несогласия, разобщённости?\"\n",
    "- Q4: \"А если говорить о людях, которые окружают лично Вас, среди них сегодня больше согласия, сплоченности или несогласия, разобщённости?\"\n",
    "- Q5: \"Есть люди, готовые объединяться с другими людьми для каких-либо совместных действий, если их идеи и интересы совпадают. И есть люди, не готовые объединяться с другими для совместных действий, даже если их идеи и интересы совпадают. К кому Вы отнесли бы себя — к первым или ко вторым?\n",
    "\"\n",
    "- Q6: \"Если не говорить о семье и ближайших родственниках, за последний год, Вам приходилось или не приходилось оказывать по собственной инициативе помощь кому-либо, совершать поступки на благо других людей, заниматься благотворительностью?\""
   ]
  },
  {
   "cell_type": "code",
   "execution_count": 23,
   "id": "a2d6e5d8-1721-4301-8540-452338c52e2d",
   "metadata": {},
   "outputs": [],
   "source": [
    "columns = ['Q1', 'Q2', 'Q3', 'Q4', 'Q5', 'Q6']"
   ]
  },
  {
   "cell_type": "code",
   "execution_count": 24,
   "id": "0a5ca20d-6266-44df-bad7-f2cc99ddb24b",
   "metadata": {},
   "outputs": [],
   "source": [
    "# создание пайплайна\n",
    "ord_pipe = Pipeline(\n",
    "    [\n",
    "         (\n",
    "            'simpleImputer_before_ord', \n",
    "            SimpleImputer(missing_values=np.nan, strategy='most_frequent')\n",
    "        ),\n",
    "        (\n",
    "            'ord',  \n",
    "            OrdinalEncoder(categories=[\n",
    "\n",
    "                ['Большинству людей можно доверять',\n",
    "                'В отношениях с людьми следует быть осторожными', 'Затрудняюсь ответить'],\n",
    "                    \n",
    "                ['Большинству можно доверять',\n",
    "                 'В отношениях с людьми моего окружения следует быть осторожными',\n",
    "                 'Затрудняюсь ответить'],\n",
    "                    \n",
    "                ['Безусловно, согласия, сплоченности', 'Затрудняюсь ответить',\n",
    "                 'Скорее несогласия, разобщенности',\n",
    "                 'Безусловно, несогласия, разобщенности', 'Скорее согласия, сплоченности'],\n",
    "\n",
    "                ['Безусловно, согласия, сплоченности', 'Скорее согласия, сплоченности',\n",
    "                 'Безусловно, несогласия, разобщенности',\n",
    "                 'Скорее несогласия, разобщенности', 'Затрудняюсь ответить'],\n",
    "\n",
    "                ['Скорее к первым (к готовым объединяться)',\n",
    "                 'Безусловно, к первым (к готовым объединяться)',\n",
    "                 'Скорее ко вторым (к неготовым объединяться)',\n",
    "                 'Безусловно, ко вторым (к неготовым объединяться)', 'Затрудняюсь ответить'],\n",
    "\n",
    "                ['Да, приходилось', 'Нет, не приходилось', 'Затрудняюсь ответить'] \n",
    "                    \n",
    "                ])\n",
    "        ),\n",
    "        (\n",
    "            'simpleImputer_after_ord', \n",
    "            SimpleImputer(missing_values=np.nan, strategy='most_frequent')\n",
    "        )\n",
    "    ]\n",
    ")"
   ]
  },
  {
   "cell_type": "code",
   "execution_count": 25,
   "id": "41553fe4-556c-4074-b22b-0d6d2e33b104",
   "metadata": {},
   "outputs": [],
   "source": [
    "data_preprocessor = ColumnTransformer(\n",
    "    [\n",
    "        ('ord', ord_pipe, columns)\n",
    "    ], \n",
    "    remainder='passthrough'\n",
    ")"
   ]
  },
  {
   "cell_type": "code",
   "execution_count": 26,
   "id": "e1f59c0b-b1e5-499e-a112-5f4550a8531e",
   "metadata": {},
   "outputs": [],
   "source": [
    "# кодируем данные\n",
    "cluster_1 = pd.DataFrame(data_preprocessor.fit_transform(df_cluster_1), columns = data_preprocessor.get_feature_names_out())"
   ]
  },
  {
   "cell_type": "code",
   "execution_count": 27,
   "id": "fe975d1d-a9db-4f23-98e9-b9b8d113d687",
   "metadata": {
    "scrolled": true
   },
   "outputs": [
    {
     "data": {
      "text/html": [
       "<div>\n",
       "<style scoped>\n",
       "    .dataframe tbody tr th:only-of-type {\n",
       "        vertical-align: middle;\n",
       "    }\n",
       "\n",
       "    .dataframe tbody tr th {\n",
       "        vertical-align: top;\n",
       "    }\n",
       "\n",
       "    .dataframe thead th {\n",
       "        text-align: right;\n",
       "    }\n",
       "</style>\n",
       "<table border=\"1\" class=\"dataframe\">\n",
       "  <thead>\n",
       "    <tr style=\"text-align: right;\">\n",
       "      <th></th>\n",
       "      <th>Q1</th>\n",
       "      <th>Q2</th>\n",
       "      <th>Q3</th>\n",
       "      <th>Q4</th>\n",
       "      <th>Q5</th>\n",
       "      <th>Q6</th>\n",
       "    </tr>\n",
       "  </thead>\n",
       "  <tbody>\n",
       "    <tr>\n",
       "      <th>0</th>\n",
       "      <td>0.0</td>\n",
       "      <td>0.0</td>\n",
       "      <td>0.0</td>\n",
       "      <td>0.0</td>\n",
       "      <td>0.0</td>\n",
       "      <td>0.0</td>\n",
       "    </tr>\n",
       "    <tr>\n",
       "      <th>1</th>\n",
       "      <td>0.0</td>\n",
       "      <td>0.0</td>\n",
       "      <td>1.0</td>\n",
       "      <td>1.0</td>\n",
       "      <td>1.0</td>\n",
       "      <td>1.0</td>\n",
       "    </tr>\n",
       "    <tr>\n",
       "      <th>2</th>\n",
       "      <td>1.0</td>\n",
       "      <td>1.0</td>\n",
       "      <td>2.0</td>\n",
       "      <td>2.0</td>\n",
       "      <td>1.0</td>\n",
       "      <td>0.0</td>\n",
       "    </tr>\n",
       "    <tr>\n",
       "      <th>3</th>\n",
       "      <td>1.0</td>\n",
       "      <td>1.0</td>\n",
       "      <td>3.0</td>\n",
       "      <td>1.0</td>\n",
       "      <td>2.0</td>\n",
       "      <td>1.0</td>\n",
       "    </tr>\n",
       "    <tr>\n",
       "      <th>4</th>\n",
       "      <td>0.0</td>\n",
       "      <td>0.0</td>\n",
       "      <td>1.0</td>\n",
       "      <td>0.0</td>\n",
       "      <td>1.0</td>\n",
       "      <td>1.0</td>\n",
       "    </tr>\n",
       "  </tbody>\n",
       "</table>\n",
       "</div>"
      ],
      "text/plain": [
       "    Q1   Q2   Q3   Q4   Q5   Q6\n",
       "0  0.0  0.0  0.0  0.0  0.0  0.0\n",
       "1  0.0  0.0  1.0  1.0  1.0  1.0\n",
       "2  1.0  1.0  2.0  2.0  1.0  0.0\n",
       "3  1.0  1.0  3.0  1.0  2.0  1.0\n",
       "4  0.0  0.0  1.0  0.0  1.0  1.0"
      ]
     },
     "execution_count": 27,
     "metadata": {},
     "output_type": "execute_result"
    }
   ],
   "source": [
    "cluster_1.columns = ['Q1', 'Q2', 'Q3', 'Q4', 'Q5', 'Q6']\n",
    "cluster_1.head(5)"
   ]
  },
  {
   "cell_type": "markdown",
   "id": "c43319a5-8aea-4321-80e1-9afbb2448551",
   "metadata": {},
   "source": [
    "- **В пайплайне закодировал столбцы ['Q1', 'Q2', 'Q3', 'Q4', 'Q5', 'Q6'] через OrdinalEncoder. Пропущенных значений быть не должно, но в случае, если они обнаружатся до или появятся после кодирования - они будут заменены на самое частое значение соответствующей категории.**\n",
    "- **Каждый из ответов был закодирован целым числом, далее мы рассмотрим какому ответу соответсвует каждое из чисел**"
   ]
  },
  {
   "cell_type": "markdown",
   "id": "acfe7fa6-bb84-4c3e-a20a-fe5fe0997a6e",
   "metadata": {},
   "source": [
    "## Кластеризация"
   ]
  },
  {
   "cell_type": "markdown",
   "id": "d9e4ca2b-fa5f-4ab9-8f34-28f4a57eab1c",
   "metadata": {},
   "source": [
    "****"
   ]
  },
  {
   "cell_type": "markdown",
   "id": "0e995cbe-65ba-43ce-b3d2-c8ebd8063a8a",
   "metadata": {},
   "source": [
    "### Q4 и Q5"
   ]
  },
  {
   "cell_type": "markdown",
   "id": "b410ddce-0bb4-4986-9e01-55fc01c32fae",
   "metadata": {},
   "source": [
    "**Q4** - среди людей окружающих вас больше согласия, сплоченности или несогласия, разобщённости?"
   ]
  },
  {
   "cell_type": "markdown",
   "id": "946bb495-5826-4c2d-a572-683ad9cea1b7",
   "metadata": {},
   "source": [
    "**Q5** - вы бы отнесли себя к людям **готовым** объединяться или **не готовым** объединяться?"
   ]
  },
  {
   "cell_type": "code",
   "execution_count": 28,
   "id": "c4de082d-ce8a-4234-a63e-224b057a781a",
   "metadata": {},
   "outputs": [],
   "source": [
    "# выбираем стообцы Q4 и Q5 для кластеризации\n",
    "df_normalized = pd.DataFrame(cluster_1[['Q4', 'Q5']])\n",
    "\n",
    "# Применяем Agglomerative Clustering\n",
    "# разделим ланные на три кластера\n",
    "agg_clustering = AgglomerativeClustering(n_clusters=3)\n",
    "clusters = agg_clustering.fit_predict(df_normalized)\n",
    "\n",
    "# Добавляем метки кластеров в датафрейм\n",
    "df_normalized['Cluster'] = clusters"
   ]
  },
  {
   "cell_type": "code",
   "execution_count": 29,
   "id": "e4f9207c-7c07-4cf7-adf8-6481e68323a7",
   "metadata": {},
   "outputs": [
    {
     "data": {
      "image/png": "[encoded data removed]",
      "text/plain": [
       "<Figure size 640x480 with 1 Axes>"
      ]
     },
     "metadata": {},
     "output_type": "display_data"
    }
   ],
   "source": [
    "sns.histplot(data=df_normalized, x='Cluster', bins=range(4), kde=False, color='skyblue', edgecolor='black')\n",
    "plt.show()"
   ]
  },
  {
   "cell_type": "markdown",
   "id": "bd8963bb-f74d-4854-b85c-1af3d93e9774",
   "metadata": {},
   "source": [
    "- самым объёмным получился кластер номер 2. Кластеры 1 и 3 примерно одинаковы по количеству"
   ]
  },
  {
   "cell_type": "markdown",
   "id": "92bdf791-c5d8-4fb3-9b55-b8c40ee6fd57",
   "metadata": {},
   "source": [
    "****"
   ]
  },
  {
   "cell_type": "markdown",
   "id": "55ea5e5c-95e1-4ac3-88bf-d2f298a094de",
   "metadata": {},
   "source": [
    "**Q4**    \n",
    "- 0 - \"Безусловно, согласия, сплоченности\"\n",
    "- 1 - \"Скорее согласия, сплоченности\"\n",
    "- 2 - \"Безусловно, несогласия, разобщенности\"\n",
    "- 3 - \"Скорее несогласия, разобщенности\"\n",
    "- 4 - \"Затрудняюсь ответить\""
   ]
  },
  {
   "cell_type": "markdown",
   "id": "7ce7bcad-014e-4577-9c14-dc1e3ada0c3d",
   "metadata": {},
   "source": [
    "**Q5**\n",
    "- 0 - \"Скорее к первым (к готовым объединяться)\"\n",
    "- 1 - \"Безусловно, к первым (к готовым объединяться)\"\n",
    "- 2 - \"Скорее ко вторым (к неготовым объединяться)\"\n",
    "- 3 - \"Безусловно, ко вторым (к неготовым объединяться)\"\n",
    "- 4 - \"Затрудняюсь ответить\""
   ]
  },
  {
   "cell_type": "markdown",
   "id": "46fbdee4-c359-4ac2-b590-d2a47145b288",
   "metadata": {},
   "source": [
    "****"
   ]
  },
  {
   "cell_type": "markdown",
   "id": "68691c45-4b85-42ab-8e31-98342f36ad45",
   "metadata": {},
   "source": [
    "### Рассмотрим кластеры более детально"
   ]
  },
  {
   "cell_type": "markdown",
   "id": "7c3e7d22-cf43-46de-9c66-eed91939d8fb",
   "metadata": {},
   "source": [
    "### Cluster 1"
   ]
  },
  {
   "cell_type": "code",
   "execution_count": 30,
   "id": "718eebed-9a2f-423c-ba6f-c78a5a705ef9",
   "metadata": {},
   "outputs": [
    {
     "data": {
      "image/png": "[encoded data removed]",
      "text/plain": [
       "<Figure size 640x480 with 1 Axes>"
      ]
     },
     "metadata": {},
     "output_type": "display_data"
    }
   ],
   "source": [
    "df = df_normalized.query('Cluster == 0')\n",
    "ax = sns.histplot(data = df[['Q4', 'Q5']])"
   ]
  },
  {
   "cell_type": "code",
   "execution_count": 31,
   "id": "382ef5eb-3798-40d3-a1bb-59eb51dea1f2",
   "metadata": {},
   "outputs": [
    {
     "name": "stdout",
     "output_type": "stream",
     "text": [
      "Количество людей в кластере 0: 448\n"
     ]
    }
   ],
   "source": [
    "print(f\"Количество людей в кластере 0: {df.shape[0]}\")"
   ]
  },
  {
   "cell_type": "markdown",
   "id": "c6d84cd0-c8b5-4885-9fc8-6311b1de4828",
   "metadata": {},
   "source": [
    "- В первом кластере наибольшее количество людей под критерием Q4 с метками 3 и 4 т.е. в их окружении** скорее больше** несогласия, разобщенности либо они затруднились в ответе \n",
    "- наибольшее количество людей под критерием Q5 с метками 0 и 1 т.е. они скорее и много кто **безусловно** готов объдиняться."
   ]
  },
  {
   "cell_type": "markdown",
   "id": "b7ac394f-4be6-438a-adeb-12c5df560f53",
   "metadata": {},
   "source": [
    "Значит, _у 448 людей_, которые **скорее и безусловно _готовы объединяться_ с другими** для совместных действий в окружении **_скорее больше несогласия, разобщенности_**"
   ]
  },
  {
   "cell_type": "markdown",
   "id": "2a96df59-8ee7-453a-9822-548aaac0866a",
   "metadata": {},
   "source": [
    "### Cluster 2"
   ]
  },
  {
   "cell_type": "code",
   "execution_count": 32,
   "id": "2ff6b738-da0b-4974-b886-e446da3c9621",
   "metadata": {},
   "outputs": [
    {
     "data": {
      "image/png": "[encoded data removed]",
      "text/plain": [
       "<Figure size 640x480 with 1 Axes>"
      ]
     },
     "metadata": {},
     "output_type": "display_data"
    }
   ],
   "source": [
    "df = df_normalized.query('Cluster == 1')\n",
    "ax = sns.histplot(data = df[['Q4', 'Q5']])"
   ]
  },
  {
   "cell_type": "code",
   "execution_count": 33,
   "id": "3a237a58-1eb6-4f0d-9f59-fbc23ff70178",
   "metadata": {},
   "outputs": [
    {
     "name": "stdout",
     "output_type": "stream",
     "text": [
      "Количество людей в кластере 1: 1190\n"
     ]
    }
   ],
   "source": [
    "print(f\"Количество людей в кластере 1: {df.shape[0]}\")"
   ]
  },
  {
   "cell_type": "markdown",
   "id": "bcb88e2e-e53d-4039-b1b1-1a6a33a6b5aa",
   "metadata": {},
   "source": [
    "- Во втором кластере наибольшее количество людей под критерием Q4 с метками 0 и 1 т.е. в их окружении **скорее и безусловно** больше согласия, сплоченности\n",
    "- наибольшее количество людей под критерием Q5 с метками 0 и 1 т.е. они скорее и много кто **безусловно** готов объдиняться."
   ]
  },
  {
   "cell_type": "markdown",
   "id": "827ad38f-5e16-4e09-ab1a-f6d2bf365093",
   "metadata": {},
   "source": [
    "Значит, _у 1190 людей_ в окружении **больше согласия** и они также сами **готовы объединяться с другими** для совместных действий"
   ]
  },
  {
   "cell_type": "markdown",
   "id": "760bd756-8c58-4bb7-8a38-2be7637f805b",
   "metadata": {},
   "source": [
    "### Cluster 3"
   ]
  },
  {
   "cell_type": "code",
   "execution_count": 34,
   "id": "edcdd60a-2854-41f1-acf7-4f978c71accf",
   "metadata": {},
   "outputs": [
    {
     "data": {
      "image/png": "[encoded data removed]",
      "text/plain": [
       "<Figure size 640x480 with 1 Axes>"
      ]
     },
     "metadata": {},
     "output_type": "display_data"
    }
   ],
   "source": [
    "df = df_normalized.query('Cluster == 2')\n",
    "ax = sns.histplot(data = df[['Q4', 'Q5']])"
   ]
  },
  {
   "cell_type": "code",
   "execution_count": 35,
   "id": "8f24a84f-fca6-49c4-8458-1a0b776b4bfe",
   "metadata": {},
   "outputs": [
    {
     "name": "stdout",
     "output_type": "stream",
     "text": [
      "Количество людей в кластере 2: 364\n"
     ]
    }
   ],
   "source": [
    "print(f\"Количество людей в кластере 2: {df.shape[0]}\")"
   ]
  },
  {
   "cell_type": "markdown",
   "id": "e05e97a8-bb3f-468a-8f75-c2bc68ccd3fa",
   "metadata": {},
   "source": [
    "- Во втором кластере наибольшее количество людей под критерием Q4 с меткой 1 т.е. в их окружении скорее больше согласия, сплоченности\n",
    "- наибольшее количество людей под критерием Q5 с меткой 2 т.е. они скорее не готовы объдиняться."
   ]
  },
  {
   "cell_type": "markdown",
   "id": "0759daa3-e64a-4457-a17f-91ed6d7475fa",
   "metadata": {},
   "source": [
    "Значит, _у 364 людей_ в окржуние присутствует **скорее согласие и сплочённость**, но они всё равно скорее **не готовы** объединяться с другими для совместных действий"
   ]
  },
  {
   "cell_type": "markdown",
   "id": "0dd32c1e-8315-4698-bee0-372a2ff53b9f",
   "metadata": {},
   "source": [
    "<div style=\"border:solid Chocolate 2px; padding: 40px\">\n",
    "\n",
    "\n",
    "<h2> 2️⃣Вывод по кластеризации Q4 и Q5: <a class=\"tocSkip\"> </h2> \n",
    "    \n",
    "    Удалось разбить данные на 3 кластера:\n",
    "- **Кластер №1: 448 человека**\n",
    "  - _у 448 людей_, которые **скорее и безусловно _готовы объединяться_ с другими** для совместных действий в окружении **_скорее больше несогласия, разобщенности_**\n",
    "-  **Кластер №2: 1190 человек**\n",
    "    -  у 1190 людей в окружении **больше согласия** и они также сами **готовы объединяться** с другими для совместных действий\n",
    "- **Кластер №3: 364 человека**\n",
    "    - у 364 людей в окржуние присутствует **скорее согласие и сплочённость**, но они всё равно **скорее не готовы объединяться** с другими для совместных действий      \n",
    "       \n",
    "<h2> ‼️Заключение <a class=\"tocSkip\"> </h2> \n",
    "\n",
    "  **Значит, большинство - более 50% живут в сплочённом обществе и готовы объединяться с другими, около 25% - инициативные люди, которые не живут в сплочённом обществе, но готовы объединяться с другими людьми для дальнейшего сотрудничества, чтобы это изменить. Остальные 25% скорее всего интроверты и стеснительные люди, которые живут в сплочённом обществе, но инициатив у них нет и возможно сотрудничать с новыми людьми они даже боятся**"
   ]
  },
  {
   "cell_type": "markdown",
   "id": "1dbedcb2-ba75-41f1-8b2b-2da0c7e69922",
   "metadata": {},
   "source": [
    "****"
   ]
  },
  {
   "cell_type": "markdown",
   "id": "a4f4d64a-78fc-4289-beba-c07ac928d697",
   "metadata": {},
   "source": [
    "<div class=\"alert alert-warning\">\n",
    "    <h2> 3️⃣Проверка самых часто встречаемых ответов в больших тестовых вопросах Q7 и Q8<a class=\"tocSkip\"> </h2>\n",
    "    \n",
    "</div>"
   ]
  },
  {
   "cell_type": "markdown",
   "id": "4d848d5c-6793-405e-a151-78b616fe657a",
   "metadata": {},
   "source": [
    "### Рассмотрим вопрос Q7: \"О каких общественных, некоммерческих организациях и инициативах В ВАШЕМ ГОРОДЕ (СЕЛЕ, ПОСЁЛКЕ) Вы знаете или хотя бы слышали?\""
   ]
  },
  {
   "cell_type": "code",
   "execution_count": 36,
   "id": "fffdbb04-92af-4d8d-8688-abab9f6cbc85",
   "metadata": {},
   "outputs": [
    {
     "data": {
      "text/html": [
       "<div>\n",
       "<style scoped>\n",
       "    .dataframe tbody tr th:only-of-type {\n",
       "        vertical-align: middle;\n",
       "    }\n",
       "\n",
       "    .dataframe tbody tr th {\n",
       "        vertical-align: top;\n",
       "    }\n",
       "\n",
       "    .dataframe thead th {\n",
       "        text-align: right;\n",
       "    }\n",
       "</style>\n",
       "<table border=\"1\" class=\"dataframe\">\n",
       "  <thead>\n",
       "    <tr style=\"text-align: right;\">\n",
       "      <th></th>\n",
       "      <th>Q7_1</th>\n",
       "      <th>Q7_2</th>\n",
       "      <th>Q7_3</th>\n",
       "      <th>Q7_4</th>\n",
       "      <th>Q7_5</th>\n",
       "      <th>Q7_6</th>\n",
       "      <th>Q7_7</th>\n",
       "      <th>Q7_8</th>\n",
       "      <th>Q7_9</th>\n",
       "      <th>Q7_10</th>\n",
       "      <th>...</th>\n",
       "      <th>Q7_18</th>\n",
       "      <th>Q7_19</th>\n",
       "      <th>Q7_20</th>\n",
       "      <th>Q7_21</th>\n",
       "      <th>Q7_22</th>\n",
       "      <th>Q7_23</th>\n",
       "      <th>Q7_24</th>\n",
       "      <th>Q7_25</th>\n",
       "      <th>Q7_26</th>\n",
       "      <th>Q7_97</th>\n",
       "    </tr>\n",
       "    <tr>\n",
       "      <th>ID</th>\n",
       "      <th></th>\n",
       "      <th></th>\n",
       "      <th></th>\n",
       "      <th></th>\n",
       "      <th></th>\n",
       "      <th></th>\n",
       "      <th></th>\n",
       "      <th></th>\n",
       "      <th></th>\n",
       "      <th></th>\n",
       "      <th></th>\n",
       "      <th></th>\n",
       "      <th></th>\n",
       "      <th></th>\n",
       "      <th></th>\n",
       "      <th></th>\n",
       "      <th></th>\n",
       "      <th></th>\n",
       "      <th></th>\n",
       "      <th></th>\n",
       "      <th></th>\n",
       "    </tr>\n",
       "  </thead>\n",
       "  <tbody>\n",
       "    <tr>\n",
       "      <th>063a20a33e679b4</th>\n",
       "      <td>НЕ ВЫБРАН</td>\n",
       "      <td>ВЫБРАН</td>\n",
       "      <td>НЕ ВЫБРАН</td>\n",
       "      <td>НЕ ВЫБРАН</td>\n",
       "      <td>НЕ ВЫБРАН</td>\n",
       "      <td>НЕ ВЫБРАН</td>\n",
       "      <td>ВЫБРАН</td>\n",
       "      <td>НЕ ВЫБРАН</td>\n",
       "      <td>НЕ ВЫБРАН</td>\n",
       "      <td>НЕ ВЫБРАН</td>\n",
       "      <td>...</td>\n",
       "      <td>НЕ ВЫБРАН</td>\n",
       "      <td>НЕ ВЫБРАН</td>\n",
       "      <td>НЕ ВЫБРАН</td>\n",
       "      <td>НЕ ВЫБРАН</td>\n",
       "      <td>НЕ ВЫБРАН</td>\n",
       "      <td>НЕ ВЫБРАН</td>\n",
       "      <td>НЕ ВЫБРАН</td>\n",
       "      <td>НЕ ВЫБРАН</td>\n",
       "      <td>НЕ ВЫБРАН</td>\n",
       "      <td>НЕ ВЫБРАН</td>\n",
       "    </tr>\n",
       "    <tr>\n",
       "      <th>06539b004760a54</th>\n",
       "      <td>НЕ ВЫБРАН</td>\n",
       "      <td>НЕ ВЫБРАН</td>\n",
       "      <td>НЕ ВЫБРАН</td>\n",
       "      <td>НЕ ВЫБРАН</td>\n",
       "      <td>НЕ ВЫБРАН</td>\n",
       "      <td>НЕ ВЫБРАН</td>\n",
       "      <td>НЕ ВЫБРАН</td>\n",
       "      <td>НЕ ВЫБРАН</td>\n",
       "      <td>НЕ ВЫБРАН</td>\n",
       "      <td>НЕ ВЫБРАН</td>\n",
       "      <td>...</td>\n",
       "      <td>НЕ ВЫБРАН</td>\n",
       "      <td>НЕ ВЫБРАН</td>\n",
       "      <td>НЕ ВЫБРАН</td>\n",
       "      <td>НЕ ВЫБРАН</td>\n",
       "      <td>НЕ ВЫБРАН</td>\n",
       "      <td>НЕ ВЫБРАН</td>\n",
       "      <td>НЕ ВЫБРАН</td>\n",
       "      <td>НЕ ВЫБРАН</td>\n",
       "      <td>НЕ ВЫБРАН</td>\n",
       "      <td>ВЫБРАН</td>\n",
       "    </tr>\n",
       "    <tr>\n",
       "      <th>06e85272a3a11d4</th>\n",
       "      <td>НЕ ВЫБРАН</td>\n",
       "      <td>НЕ ВЫБРАН</td>\n",
       "      <td>ВЫБРАН</td>\n",
       "      <td>НЕ ВЫБРАН</td>\n",
       "      <td>НЕ ВЫБРАН</td>\n",
       "      <td>НЕ ВЫБРАН</td>\n",
       "      <td>НЕ ВЫБРАН</td>\n",
       "      <td>НЕ ВЫБРАН</td>\n",
       "      <td>НЕ ВЫБРАН</td>\n",
       "      <td>НЕ ВЫБРАН</td>\n",
       "      <td>...</td>\n",
       "      <td>НЕ ВЫБРАН</td>\n",
       "      <td>НЕ ВЫБРАН</td>\n",
       "      <td>НЕ ВЫБРАН</td>\n",
       "      <td>НЕ ВЫБРАН</td>\n",
       "      <td>НЕ ВЫБРАН</td>\n",
       "      <td>НЕ ВЫБРАН</td>\n",
       "      <td>НЕ ВЫБРАН</td>\n",
       "      <td>НЕ ВЫБРАН</td>\n",
       "      <td>НЕ ВЫБРАН</td>\n",
       "      <td>НЕ ВЫБРАН</td>\n",
       "    </tr>\n",
       "    <tr>\n",
       "      <th>06470c0967c0d24</th>\n",
       "      <td>НЕ ВЫБРАН</td>\n",
       "      <td>НЕ ВЫБРАН</td>\n",
       "      <td>НЕ ВЫБРАН</td>\n",
       "      <td>НЕ ВЫБРАН</td>\n",
       "      <td>НЕ ВЫБРАН</td>\n",
       "      <td>НЕ ВЫБРАН</td>\n",
       "      <td>НЕ ВЫБРАН</td>\n",
       "      <td>НЕ ВЫБРАН</td>\n",
       "      <td>НЕ ВЫБРАН</td>\n",
       "      <td>НЕ ВЫБРАН</td>\n",
       "      <td>...</td>\n",
       "      <td>НЕ ВЫБРАН</td>\n",
       "      <td>НЕ ВЫБРАН</td>\n",
       "      <td>НЕ ВЫБРАН</td>\n",
       "      <td>НЕ ВЫБРАН</td>\n",
       "      <td>НЕ ВЫБРАН</td>\n",
       "      <td>НЕ ВЫБРАН</td>\n",
       "      <td>НЕ ВЫБРАН</td>\n",
       "      <td>НЕ ВЫБРАН</td>\n",
       "      <td>НЕ ВЫБРАН</td>\n",
       "      <td>ВЫБРАН</td>\n",
       "    </tr>\n",
       "    <tr>\n",
       "      <th>06c807717b98184</th>\n",
       "      <td>НЕ ВЫБРАН</td>\n",
       "      <td>НЕ ВЫБРАН</td>\n",
       "      <td>НЕ ВЫБРАН</td>\n",
       "      <td>НЕ ВЫБРАН</td>\n",
       "      <td>НЕ ВЫБРАН</td>\n",
       "      <td>ВЫБРАН</td>\n",
       "      <td>ВЫБРАН</td>\n",
       "      <td>НЕ ВЫБРАН</td>\n",
       "      <td>НЕ ВЫБРАН</td>\n",
       "      <td>НЕ ВЫБРАН</td>\n",
       "      <td>...</td>\n",
       "      <td>НЕ ВЫБРАН</td>\n",
       "      <td>НЕ ВЫБРАН</td>\n",
       "      <td>НЕ ВЫБРАН</td>\n",
       "      <td>НЕ ВЫБРАН</td>\n",
       "      <td>НЕ ВЫБРАН</td>\n",
       "      <td>НЕ ВЫБРАН</td>\n",
       "      <td>НЕ ВЫБРАН</td>\n",
       "      <td>НЕ ВЫБРАН</td>\n",
       "      <td>НЕ ВЫБРАН</td>\n",
       "      <td>НЕ ВЫБРАН</td>\n",
       "    </tr>\n",
       "  </tbody>\n",
       "</table>\n",
       "<p>5 rows × 27 columns</p>\n",
       "</div>"
      ],
      "text/plain": [
       "                      Q7_1       Q7_2       Q7_3       Q7_4       Q7_5  \\\n",
       "ID                                                                       \n",
       "063a20a33e679b4  НЕ ВЫБРАН     ВЫБРАН  НЕ ВЫБРАН  НЕ ВЫБРАН  НЕ ВЫБРАН   \n",
       "06539b004760a54  НЕ ВЫБРАН  НЕ ВЫБРАН  НЕ ВЫБРАН  НЕ ВЫБРАН  НЕ ВЫБРАН   \n",
       "06e85272a3a11d4  НЕ ВЫБРАН  НЕ ВЫБРАН     ВЫБРАН  НЕ ВЫБРАН  НЕ ВЫБРАН   \n",
       "06470c0967c0d24  НЕ ВЫБРАН  НЕ ВЫБРАН  НЕ ВЫБРАН  НЕ ВЫБРАН  НЕ ВЫБРАН   \n",
       "06c807717b98184  НЕ ВЫБРАН  НЕ ВЫБРАН  НЕ ВЫБРАН  НЕ ВЫБРАН  НЕ ВЫБРАН   \n",
       "\n",
       "                      Q7_6       Q7_7       Q7_8       Q7_9      Q7_10  ...  \\\n",
       "ID                                                                      ...   \n",
       "063a20a33e679b4  НЕ ВЫБРАН     ВЫБРАН  НЕ ВЫБРАН  НЕ ВЫБРАН  НЕ ВЫБРАН  ...   \n",
       "06539b004760a54  НЕ ВЫБРАН  НЕ ВЫБРАН  НЕ ВЫБРАН  НЕ ВЫБРАН  НЕ ВЫБРАН  ...   \n",
       "06e85272a3a11d4  НЕ ВЫБРАН  НЕ ВЫБРАН  НЕ ВЫБРАН  НЕ ВЫБРАН  НЕ ВЫБРАН  ...   \n",
       "06470c0967c0d24  НЕ ВЫБРАН  НЕ ВЫБРАН  НЕ ВЫБРАН  НЕ ВЫБРАН  НЕ ВЫБРАН  ...   \n",
       "06c807717b98184     ВЫБРАН     ВЫБРАН  НЕ ВЫБРАН  НЕ ВЫБРАН  НЕ ВЫБРАН  ...   \n",
       "\n",
       "                     Q7_18      Q7_19      Q7_20      Q7_21      Q7_22  \\\n",
       "ID                                                                       \n",
       "063a20a33e679b4  НЕ ВЫБРАН  НЕ ВЫБРАН  НЕ ВЫБРАН  НЕ ВЫБРАН  НЕ ВЫБРАН   \n",
       "06539b004760a54  НЕ ВЫБРАН  НЕ ВЫБРАН  НЕ ВЫБРАН  НЕ ВЫБРАН  НЕ ВЫБРАН   \n",
       "06e85272a3a11d4  НЕ ВЫБРАН  НЕ ВЫБРАН  НЕ ВЫБРАН  НЕ ВЫБРАН  НЕ ВЫБРАН   \n",
       "06470c0967c0d24  НЕ ВЫБРАН  НЕ ВЫБРАН  НЕ ВЫБРАН  НЕ ВЫБРАН  НЕ ВЫБРАН   \n",
       "06c807717b98184  НЕ ВЫБРАН  НЕ ВЫБРАН  НЕ ВЫБРАН  НЕ ВЫБРАН  НЕ ВЫБРАН   \n",
       "\n",
       "                     Q7_23      Q7_24      Q7_25      Q7_26      Q7_97  \n",
       "ID                                                                      \n",
       "063a20a33e679b4  НЕ ВЫБРАН  НЕ ВЫБРАН  НЕ ВЫБРАН  НЕ ВЫБРАН  НЕ ВЫБРАН  \n",
       "06539b004760a54  НЕ ВЫБРАН  НЕ ВЫБРАН  НЕ ВЫБРАН  НЕ ВЫБРАН     ВЫБРАН  \n",
       "06e85272a3a11d4  НЕ ВЫБРАН  НЕ ВЫБРАН  НЕ ВЫБРАН  НЕ ВЫБРАН  НЕ ВЫБРАН  \n",
       "06470c0967c0d24  НЕ ВЫБРАН  НЕ ВЫБРАН  НЕ ВЫБРАН  НЕ ВЫБРАН     ВЫБРАН  \n",
       "06c807717b98184  НЕ ВЫБРАН  НЕ ВЫБРАН  НЕ ВЫБРАН  НЕ ВЫБРАН  НЕ ВЫБРАН  \n",
       "\n",
       "[5 rows x 27 columns]"
      ]
     },
     "execution_count": 36,
     "metadata": {},
     "output_type": "execute_result"
    }
   ],
   "source": [
    "# посмотрим на данные\n",
    "df_q7 = data.iloc[1:, 14:41]\n",
    "df_q7.head(5)"
   ]
  },
  {
   "cell_type": "code",
   "execution_count": 37,
   "id": "d24fd433-5d37-4c2e-8d6a-58d999ec46ae",
   "metadata": {
    "scrolled": true
   },
   "outputs": [
    {
     "data": {
      "text/plain": [
       "(Q7_1     0\n",
       " Q7_2     0\n",
       " Q7_3     0\n",
       " Q7_4     0\n",
       " Q7_5     0\n",
       " Q7_6     0\n",
       " Q7_7     0\n",
       " Q7_8     0\n",
       " Q7_9     0\n",
       " Q7_10    0\n",
       " Q7_11    0\n",
       " Q7_12    0\n",
       " Q7_13    0\n",
       " Q7_14    0\n",
       " Q7_15    0\n",
       " Q7_16    0\n",
       " Q7_17    0\n",
       " Q7_18    0\n",
       " Q7_19    0\n",
       " Q7_20    0\n",
       " Q7_21    0\n",
       " Q7_22    0\n",
       " Q7_23    0\n",
       " Q7_24    0\n",
       " Q7_25    0\n",
       " Q7_26    0\n",
       " Q7_97    0\n",
       " dtype: int64,)"
      ]
     },
     "execution_count": 37,
     "metadata": {},
     "output_type": "execute_result"
    }
   ],
   "source": [
    "# проверим на пропуски\n",
    "df_q7.isna().sum(),"
   ]
  },
  {
   "cell_type": "markdown",
   "id": "2927590b-6451-4ab2-875c-f8fcc1ff95b4",
   "metadata": {},
   "source": [
    "- данные полноценны, пропусков нет"
   ]
  },
  {
   "cell_type": "code",
   "execution_count": 38,
   "id": "cb96cbec-15cf-4ed3-bab5-fb006bb07f25",
   "metadata": {},
   "outputs": [],
   "source": [
    "cols_q7 = df_q7.columns\n",
    "counts_q7 = list()\n",
    "\n",
    "for column in df_q7.columns:\n",
    "    dff = df_q7.loc[df_q7[column] == 'ВЫБРАН', column]\n",
    "    counts_q7.append(len(dff))"
   ]
  },
  {
   "cell_type": "code",
   "execution_count": 39,
   "id": "d3ac4861-3fca-4091-b4ca-a1de3e939b63",
   "metadata": {},
   "outputs": [
    {
     "data": {
      "image/png": "[encoded data removed]",
      "text/plain": [
       "<Figure size 1000x600 with 1 Axes>"
      ]
     },
     "metadata": {},
     "output_type": "display_data"
    }
   ],
   "source": [
    "# Создание DataFrame с отсортированными значениями и именами столбцов\n",
    "sorted_counts_q7 = pd.DataFrame({'Column': cols_q7, 'Count': counts_q7}).sort_values(by='Count', ascending = False)\n",
    "\n",
    "# Установка столбца 'Column' в качестве индекса\n",
    "sorted_counts_q7 = sorted_counts_q7.set_index('Column')\n",
    "\n",
    "# Создание графика\n",
    "plt.figure(figsize=(10, 6))\n",
    "\n",
    "# Построение столбчатой диаграммы\n",
    "plt.bar(sorted_counts_q7.index, height=sorted_counts_q7['Count'])\n",
    "\n",
    "# Подписи оси x с поворотом на 75 градусов\n",
    "plt.xticks(rotation=75)\n",
    "\n",
    "# Добавление горизонтальной линии для сравнения\n",
    "plt.axhline(y=620, color='red', linestyle='--', label='Сравнение')\n",
    "\n",
    "# Добавление заголовка и подписей осей\n",
    "plt.title('Количество ответов в каждом столбце Q7')\n",
    "plt.xlabel('Столбцы Q7')\n",
    "plt.ylabel('Количество ответов')\n",
    "\n",
    "# Отображение графика\n",
    "plt.tight_layout()\n",
    "plt.show()"
   ]
  },
  {
   "cell_type": "code",
   "execution_count": 40,
   "id": "4e16dbb8-2473-4730-a1de-f6dab72e99cb",
   "metadata": {},
   "outputs": [
    {
     "data": {
      "text/html": [
       "<div>\n",
       "<style scoped>\n",
       "    .dataframe tbody tr th:only-of-type {\n",
       "        vertical-align: middle;\n",
       "    }\n",
       "\n",
       "    .dataframe tbody tr th {\n",
       "        vertical-align: top;\n",
       "    }\n",
       "\n",
       "    .dataframe thead th {\n",
       "        text-align: right;\n",
       "    }\n",
       "</style>\n",
       "<table border=\"1\" class=\"dataframe\">\n",
       "  <thead>\n",
       "    <tr style=\"text-align: right;\">\n",
       "      <th></th>\n",
       "      <th>Count</th>\n",
       "    </tr>\n",
       "    <tr>\n",
       "      <th>Column</th>\n",
       "      <th></th>\n",
       "    </tr>\n",
       "  </thead>\n",
       "  <tbody>\n",
       "    <tr>\n",
       "      <th>Q7_2</th>\n",
       "      <td>787</td>\n",
       "    </tr>\n",
       "    <tr>\n",
       "      <th>Q7_5</th>\n",
       "      <td>717</td>\n",
       "    </tr>\n",
       "    <tr>\n",
       "      <th>Q7_7</th>\n",
       "      <td>634</td>\n",
       "    </tr>\n",
       "  </tbody>\n",
       "</table>\n",
       "</div>"
      ],
      "text/plain": [
       "        Count\n",
       "Column       \n",
       "Q7_2      787\n",
       "Q7_5      717\n",
       "Q7_7      634"
      ]
     },
     "execution_count": 40,
     "metadata": {},
     "output_type": "execute_result"
    }
   ],
   "source": [
    "sorted_counts_q7.head(3)"
   ]
  },
  {
   "cell_type": "markdown",
   "id": "a078ab56-4a38-417e-a834-2182f78d377d",
   "metadata": {},
   "source": [
    "**Топ-3 самыx часто встречаемых ответов в Q7 это:**\n",
    "- Q7_2 (787 ответов): \"Садовые и дачные товарищества\"\n",
    "- Q7_5 (717 ответов): \"Профсоюзы\"\n",
    "- Q7_7 (634 ответов): \"Общества инвалидов\"\n",
    "\n",
    "То есть, почти в 40% случаев люди знают о таких организациях как _Садовые и дачные товарищества_ и _Профсоюзы_. В 30% знают об _Обществе инвалидов_ и _Политических партиях_"
   ]
  },
  {
   "cell_type": "markdown",
   "id": "266f2e96-8cbf-491f-990e-1996f3ceea2c",
   "metadata": {},
   "source": [
    "### Также рассмотрим вопрос Q8: \"Откуда Вам известны эти организации и инициативы?\""
   ]
  },
  {
   "cell_type": "code",
   "execution_count": 41,
   "id": "a3d59625-cc50-4020-91d2-5f406bb145b2",
   "metadata": {},
   "outputs": [
    {
     "data": {
      "text/html": [
       "<div>\n",
       "<style scoped>\n",
       "    .dataframe tbody tr th:only-of-type {\n",
       "        vertical-align: middle;\n",
       "    }\n",
       "\n",
       "    .dataframe tbody tr th {\n",
       "        vertical-align: top;\n",
       "    }\n",
       "\n",
       "    .dataframe thead th {\n",
       "        text-align: right;\n",
       "    }\n",
       "</style>\n",
       "<table border=\"1\" class=\"dataframe\">\n",
       "  <thead>\n",
       "    <tr style=\"text-align: right;\">\n",
       "      <th></th>\n",
       "      <th>Q8_1</th>\n",
       "      <th>Q8_2</th>\n",
       "      <th>Q8_3</th>\n",
       "      <th>Q8_4</th>\n",
       "      <th>Q8_5</th>\n",
       "      <th>Q8_6</th>\n",
       "      <th>Q8_7</th>\n",
       "    </tr>\n",
       "    <tr>\n",
       "      <th>ID</th>\n",
       "      <th></th>\n",
       "      <th></th>\n",
       "      <th></th>\n",
       "      <th></th>\n",
       "      <th></th>\n",
       "      <th></th>\n",
       "      <th></th>\n",
       "    </tr>\n",
       "  </thead>\n",
       "  <tbody>\n",
       "    <tr>\n",
       "      <th>063a20a33e679b4</th>\n",
       "      <td>НЕ ВЫБРАН</td>\n",
       "      <td>НЕ ВЫБРАН</td>\n",
       "      <td>НЕ ВЫБРАН</td>\n",
       "      <td>ВЫБРАН</td>\n",
       "      <td>НЕ ВЫБРАН</td>\n",
       "      <td>НЕ ВЫБРАН</td>\n",
       "      <td>НЕ ВЫБРАН</td>\n",
       "    </tr>\n",
       "    <tr>\n",
       "      <th>06539b004760a54</th>\n",
       "      <td>NaN</td>\n",
       "      <td>NaN</td>\n",
       "      <td>NaN</td>\n",
       "      <td>NaN</td>\n",
       "      <td>NaN</td>\n",
       "      <td>NaN</td>\n",
       "      <td>NaN</td>\n",
       "    </tr>\n",
       "    <tr>\n",
       "      <th>06e85272a3a11d4</th>\n",
       "      <td>ВЫБРАН</td>\n",
       "      <td>ВЫБРАН</td>\n",
       "      <td>НЕ ВЫБРАН</td>\n",
       "      <td>НЕ ВЫБРАН</td>\n",
       "      <td>НЕ ВЫБРАН</td>\n",
       "      <td>НЕ ВЫБРАН</td>\n",
       "      <td>НЕ ВЫБРАН</td>\n",
       "    </tr>\n",
       "    <tr>\n",
       "      <th>06470c0967c0d24</th>\n",
       "      <td>NaN</td>\n",
       "      <td>NaN</td>\n",
       "      <td>NaN</td>\n",
       "      <td>NaN</td>\n",
       "      <td>NaN</td>\n",
       "      <td>NaN</td>\n",
       "      <td>NaN</td>\n",
       "    </tr>\n",
       "    <tr>\n",
       "      <th>06c807717b98184</th>\n",
       "      <td>НЕ ВЫБРАН</td>\n",
       "      <td>ВЫБРАН</td>\n",
       "      <td>НЕ ВЫБРАН</td>\n",
       "      <td>НЕ ВЫБРАН</td>\n",
       "      <td>НЕ ВЫБРАН</td>\n",
       "      <td>НЕ ВЫБРАН</td>\n",
       "      <td>НЕ ВЫБРАН</td>\n",
       "    </tr>\n",
       "  </tbody>\n",
       "</table>\n",
       "</div>"
      ],
      "text/plain": [
       "                      Q8_1       Q8_2       Q8_3       Q8_4       Q8_5  \\\n",
       "ID                                                                       \n",
       "063a20a33e679b4  НЕ ВЫБРАН  НЕ ВЫБРАН  НЕ ВЫБРАН     ВЫБРАН  НЕ ВЫБРАН   \n",
       "06539b004760a54        NaN        NaN        NaN        NaN        NaN   \n",
       "06e85272a3a11d4     ВЫБРАН     ВЫБРАН  НЕ ВЫБРАН  НЕ ВЫБРАН  НЕ ВЫБРАН   \n",
       "06470c0967c0d24        NaN        NaN        NaN        NaN        NaN   \n",
       "06c807717b98184  НЕ ВЫБРАН     ВЫБРАН  НЕ ВЫБРАН  НЕ ВЫБРАН  НЕ ВЫБРАН   \n",
       "\n",
       "                      Q8_6       Q8_7  \n",
       "ID                                     \n",
       "063a20a33e679b4  НЕ ВЫБРАН  НЕ ВЫБРАН  \n",
       "06539b004760a54        NaN        NaN  \n",
       "06e85272a3a11d4  НЕ ВЫБРАН  НЕ ВЫБРАН  \n",
       "06470c0967c0d24        NaN        NaN  \n",
       "06c807717b98184  НЕ ВЫБРАН  НЕ ВЫБРАН  "
      ]
     },
     "execution_count": 41,
     "metadata": {},
     "output_type": "execute_result"
    }
   ],
   "source": [
    "# посмотрим на данные\n",
    "df_q8 = data.iloc[1:, 44:51]\n",
    "df_q8.head(5)"
   ]
  },
  {
   "cell_type": "code",
   "execution_count": 42,
   "id": "18079b2d-e586-4ea9-bd77-e570a8351398",
   "metadata": {
    "scrolled": true
   },
   "outputs": [
    {
     "data": {
      "text/plain": [
       "Q8_1    353\n",
       "Q8_2    353\n",
       "Q8_3    353\n",
       "Q8_4    353\n",
       "Q8_5    353\n",
       "Q8_6    353\n",
       "Q8_7    353\n",
       "dtype: int64"
      ]
     },
     "execution_count": 42,
     "metadata": {},
     "output_type": "execute_result"
    }
   ],
   "source": [
    "# проверим на ниличие пропущенных значений\n",
    "df_q8.isna().sum()"
   ]
  },
  {
   "cell_type": "markdown",
   "id": "22d04f9c-bb82-438b-a761-d16886cf107d",
   "metadata": {},
   "source": [
    "- пропущено около 17.5% значений, это подозрительно т.к. на прошлый вопрос ответили все участники. Попробуем узнать в чём причина."
   ]
  },
  {
   "cell_type": "code",
   "execution_count": 43,
   "id": "c3107e64-c97e-47a7-a6f6-f7218b8e0a4f",
   "metadata": {},
   "outputs": [],
   "source": [
    "columns_to_check = df_q8.columns"
   ]
  },
  {
   "cell_type": "code",
   "execution_count": 44,
   "id": "dc3113d3-e17a-4b4b-b44c-cdb09041b16a",
   "metadata": {},
   "outputs": [],
   "source": [
    "# выберем данные в Q8, где в строках пропущены значения в каждом из столбцов\n",
    "rows_with_all_missing_values = df_q8[df_q8[columns_to_check].isnull().all(axis=1)]"
   ]
  },
  {
   "cell_type": "code",
   "execution_count": 45,
   "id": "fad2b675-8902-4902-a580-7596f2d90683",
   "metadata": {},
   "outputs": [],
   "source": [
    "# проверим данные предыдущего вопроса Q7 по индексам из Q8\n",
    "df_q7_subset = df_q7.loc[rows_with_all_missing_values.index]"
   ]
  },
  {
   "cell_type": "code",
   "execution_count": 46,
   "id": "49bdeae2-fda5-4c32-ba8a-4a46ac1c8e12",
   "metadata": {},
   "outputs": [
    {
     "data": {
      "text/html": [
       "<div>\n",
       "<style scoped>\n",
       "    .dataframe tbody tr th:only-of-type {\n",
       "        vertical-align: middle;\n",
       "    }\n",
       "\n",
       "    .dataframe tbody tr th {\n",
       "        vertical-align: top;\n",
       "    }\n",
       "\n",
       "    .dataframe thead th {\n",
       "        text-align: right;\n",
       "    }\n",
       "</style>\n",
       "<table border=\"1\" class=\"dataframe\">\n",
       "  <thead>\n",
       "    <tr style=\"text-align: right;\">\n",
       "      <th></th>\n",
       "      <th>Q7_1</th>\n",
       "      <th>Q7_2</th>\n",
       "      <th>Q7_3</th>\n",
       "      <th>Q7_4</th>\n",
       "      <th>Q7_5</th>\n",
       "      <th>Q7_6</th>\n",
       "      <th>Q7_7</th>\n",
       "      <th>Q7_8</th>\n",
       "      <th>Q7_9</th>\n",
       "      <th>Q7_10</th>\n",
       "      <th>...</th>\n",
       "      <th>Q7_18</th>\n",
       "      <th>Q7_19</th>\n",
       "      <th>Q7_20</th>\n",
       "      <th>Q7_21</th>\n",
       "      <th>Q7_22</th>\n",
       "      <th>Q7_23</th>\n",
       "      <th>Q7_24</th>\n",
       "      <th>Q7_25</th>\n",
       "      <th>Q7_26</th>\n",
       "      <th>Q7_97</th>\n",
       "    </tr>\n",
       "    <tr>\n",
       "      <th>ID</th>\n",
       "      <th></th>\n",
       "      <th></th>\n",
       "      <th></th>\n",
       "      <th></th>\n",
       "      <th></th>\n",
       "      <th></th>\n",
       "      <th></th>\n",
       "      <th></th>\n",
       "      <th></th>\n",
       "      <th></th>\n",
       "      <th></th>\n",
       "      <th></th>\n",
       "      <th></th>\n",
       "      <th></th>\n",
       "      <th></th>\n",
       "      <th></th>\n",
       "      <th></th>\n",
       "      <th></th>\n",
       "      <th></th>\n",
       "      <th></th>\n",
       "      <th></th>\n",
       "    </tr>\n",
       "  </thead>\n",
       "  <tbody>\n",
       "    <tr>\n",
       "      <th>06539b004760a54</th>\n",
       "      <td>НЕ ВЫБРАН</td>\n",
       "      <td>НЕ ВЫБРАН</td>\n",
       "      <td>НЕ ВЫБРАН</td>\n",
       "      <td>НЕ ВЫБРАН</td>\n",
       "      <td>НЕ ВЫБРАН</td>\n",
       "      <td>НЕ ВЫБРАН</td>\n",
       "      <td>НЕ ВЫБРАН</td>\n",
       "      <td>НЕ ВЫБРАН</td>\n",
       "      <td>НЕ ВЫБРАН</td>\n",
       "      <td>НЕ ВЫБРАН</td>\n",
       "      <td>...</td>\n",
       "      <td>НЕ ВЫБРАН</td>\n",
       "      <td>НЕ ВЫБРАН</td>\n",
       "      <td>НЕ ВЫБРАН</td>\n",
       "      <td>НЕ ВЫБРАН</td>\n",
       "      <td>НЕ ВЫБРАН</td>\n",
       "      <td>НЕ ВЫБРАН</td>\n",
       "      <td>НЕ ВЫБРАН</td>\n",
       "      <td>НЕ ВЫБРАН</td>\n",
       "      <td>НЕ ВЫБРАН</td>\n",
       "      <td>ВЫБРАН</td>\n",
       "    </tr>\n",
       "    <tr>\n",
       "      <th>06470c0967c0d24</th>\n",
       "      <td>НЕ ВЫБРАН</td>\n",
       "      <td>НЕ ВЫБРАН</td>\n",
       "      <td>НЕ ВЫБРАН</td>\n",
       "      <td>НЕ ВЫБРАН</td>\n",
       "      <td>НЕ ВЫБРАН</td>\n",
       "      <td>НЕ ВЫБРАН</td>\n",
       "      <td>НЕ ВЫБРАН</td>\n",
       "      <td>НЕ ВЫБРАН</td>\n",
       "      <td>НЕ ВЫБРАН</td>\n",
       "      <td>НЕ ВЫБРАН</td>\n",
       "      <td>...</td>\n",
       "      <td>НЕ ВЫБРАН</td>\n",
       "      <td>НЕ ВЫБРАН</td>\n",
       "      <td>НЕ ВЫБРАН</td>\n",
       "      <td>НЕ ВЫБРАН</td>\n",
       "      <td>НЕ ВЫБРАН</td>\n",
       "      <td>НЕ ВЫБРАН</td>\n",
       "      <td>НЕ ВЫБРАН</td>\n",
       "      <td>НЕ ВЫБРАН</td>\n",
       "      <td>НЕ ВЫБРАН</td>\n",
       "      <td>ВЫБРАН</td>\n",
       "    </tr>\n",
       "    <tr>\n",
       "      <th>066bf76d3dc27e4</th>\n",
       "      <td>НЕ ВЫБРАН</td>\n",
       "      <td>НЕ ВЫБРАН</td>\n",
       "      <td>НЕ ВЫБРАН</td>\n",
       "      <td>НЕ ВЫБРАН</td>\n",
       "      <td>НЕ ВЫБРАН</td>\n",
       "      <td>НЕ ВЫБРАН</td>\n",
       "      <td>НЕ ВЫБРАН</td>\n",
       "      <td>НЕ ВЫБРАН</td>\n",
       "      <td>НЕ ВЫБРАН</td>\n",
       "      <td>НЕ ВЫБРАН</td>\n",
       "      <td>...</td>\n",
       "      <td>НЕ ВЫБРАН</td>\n",
       "      <td>НЕ ВЫБРАН</td>\n",
       "      <td>НЕ ВЫБРАН</td>\n",
       "      <td>НЕ ВЫБРАН</td>\n",
       "      <td>НЕ ВЫБРАН</td>\n",
       "      <td>НЕ ВЫБРАН</td>\n",
       "      <td>НЕ ВЫБРАН</td>\n",
       "      <td>НЕ ВЫБРАН</td>\n",
       "      <td>НЕ ВЫБРАН</td>\n",
       "      <td>ВЫБРАН</td>\n",
       "    </tr>\n",
       "    <tr>\n",
       "      <th>0668f4925e24d94</th>\n",
       "      <td>НЕ ВЫБРАН</td>\n",
       "      <td>НЕ ВЫБРАН</td>\n",
       "      <td>НЕ ВЫБРАН</td>\n",
       "      <td>НЕ ВЫБРАН</td>\n",
       "      <td>НЕ ВЫБРАН</td>\n",
       "      <td>НЕ ВЫБРАН</td>\n",
       "      <td>НЕ ВЫБРАН</td>\n",
       "      <td>НЕ ВЫБРАН</td>\n",
       "      <td>НЕ ВЫБРАН</td>\n",
       "      <td>НЕ ВЫБРАН</td>\n",
       "      <td>...</td>\n",
       "      <td>НЕ ВЫБРАН</td>\n",
       "      <td>НЕ ВЫБРАН</td>\n",
       "      <td>НЕ ВЫБРАН</td>\n",
       "      <td>НЕ ВЫБРАН</td>\n",
       "      <td>НЕ ВЫБРАН</td>\n",
       "      <td>НЕ ВЫБРАН</td>\n",
       "      <td>НЕ ВЫБРАН</td>\n",
       "      <td>НЕ ВЫБРАН</td>\n",
       "      <td>НЕ ВЫБРАН</td>\n",
       "      <td>ВЫБРАН</td>\n",
       "    </tr>\n",
       "    <tr>\n",
       "      <th>06195549e8aba24</th>\n",
       "      <td>НЕ ВЫБРАН</td>\n",
       "      <td>НЕ ВЫБРАН</td>\n",
       "      <td>НЕ ВЫБРАН</td>\n",
       "      <td>НЕ ВЫБРАН</td>\n",
       "      <td>НЕ ВЫБРАН</td>\n",
       "      <td>НЕ ВЫБРАН</td>\n",
       "      <td>НЕ ВЫБРАН</td>\n",
       "      <td>НЕ ВЫБРАН</td>\n",
       "      <td>НЕ ВЫБРАН</td>\n",
       "      <td>НЕ ВЫБРАН</td>\n",
       "      <td>...</td>\n",
       "      <td>НЕ ВЫБРАН</td>\n",
       "      <td>НЕ ВЫБРАН</td>\n",
       "      <td>НЕ ВЫБРАН</td>\n",
       "      <td>НЕ ВЫБРАН</td>\n",
       "      <td>НЕ ВЫБРАН</td>\n",
       "      <td>НЕ ВЫБРАН</td>\n",
       "      <td>НЕ ВЫБРАН</td>\n",
       "      <td>НЕ ВЫБРАН</td>\n",
       "      <td>НЕ ВЫБРАН</td>\n",
       "      <td>ВЫБРАН</td>\n",
       "    </tr>\n",
       "  </tbody>\n",
       "</table>\n",
       "<p>5 rows × 27 columns</p>\n",
       "</div>"
      ],
      "text/plain": [
       "                      Q7_1       Q7_2       Q7_3       Q7_4       Q7_5  \\\n",
       "ID                                                                       \n",
       "06539b004760a54  НЕ ВЫБРАН  НЕ ВЫБРАН  НЕ ВЫБРАН  НЕ ВЫБРАН  НЕ ВЫБРАН   \n",
       "06470c0967c0d24  НЕ ВЫБРАН  НЕ ВЫБРАН  НЕ ВЫБРАН  НЕ ВЫБРАН  НЕ ВЫБРАН   \n",
       "066bf76d3dc27e4  НЕ ВЫБРАН  НЕ ВЫБРАН  НЕ ВЫБРАН  НЕ ВЫБРАН  НЕ ВЫБРАН   \n",
       "0668f4925e24d94  НЕ ВЫБРАН  НЕ ВЫБРАН  НЕ ВЫБРАН  НЕ ВЫБРАН  НЕ ВЫБРАН   \n",
       "06195549e8aba24  НЕ ВЫБРАН  НЕ ВЫБРАН  НЕ ВЫБРАН  НЕ ВЫБРАН  НЕ ВЫБРАН   \n",
       "\n",
       "                      Q7_6       Q7_7       Q7_8       Q7_9      Q7_10  ...  \\\n",
       "ID                                                                      ...   \n",
       "06539b004760a54  НЕ ВЫБРАН  НЕ ВЫБРАН  НЕ ВЫБРАН  НЕ ВЫБРАН  НЕ ВЫБРАН  ...   \n",
       "06470c0967c0d24  НЕ ВЫБРАН  НЕ ВЫБРАН  НЕ ВЫБРАН  НЕ ВЫБРАН  НЕ ВЫБРАН  ...   \n",
       "066bf76d3dc27e4  НЕ ВЫБРАН  НЕ ВЫБРАН  НЕ ВЫБРАН  НЕ ВЫБРАН  НЕ ВЫБРАН  ...   \n",
       "0668f4925e24d94  НЕ ВЫБРАН  НЕ ВЫБРАН  НЕ ВЫБРАН  НЕ ВЫБРАН  НЕ ВЫБРАН  ...   \n",
       "06195549e8aba24  НЕ ВЫБРАН  НЕ ВЫБРАН  НЕ ВЫБРАН  НЕ ВЫБРАН  НЕ ВЫБРАН  ...   \n",
       "\n",
       "                     Q7_18      Q7_19      Q7_20      Q7_21      Q7_22  \\\n",
       "ID                                                                       \n",
       "06539b004760a54  НЕ ВЫБРАН  НЕ ВЫБРАН  НЕ ВЫБРАН  НЕ ВЫБРАН  НЕ ВЫБРАН   \n",
       "06470c0967c0d24  НЕ ВЫБРАН  НЕ ВЫБРАН  НЕ ВЫБРАН  НЕ ВЫБРАН  НЕ ВЫБРАН   \n",
       "066bf76d3dc27e4  НЕ ВЫБРАН  НЕ ВЫБРАН  НЕ ВЫБРАН  НЕ ВЫБРАН  НЕ ВЫБРАН   \n",
       "0668f4925e24d94  НЕ ВЫБРАН  НЕ ВЫБРАН  НЕ ВЫБРАН  НЕ ВЫБРАН  НЕ ВЫБРАН   \n",
       "06195549e8aba24  НЕ ВЫБРАН  НЕ ВЫБРАН  НЕ ВЫБРАН  НЕ ВЫБРАН  НЕ ВЫБРАН   \n",
       "\n",
       "                     Q7_23      Q7_24      Q7_25      Q7_26   Q7_97  \n",
       "ID                                                                   \n",
       "06539b004760a54  НЕ ВЫБРАН  НЕ ВЫБРАН  НЕ ВЫБРАН  НЕ ВЫБРАН  ВЫБРАН  \n",
       "06470c0967c0d24  НЕ ВЫБРАН  НЕ ВЫБРАН  НЕ ВЫБРАН  НЕ ВЫБРАН  ВЫБРАН  \n",
       "066bf76d3dc27e4  НЕ ВЫБРАН  НЕ ВЫБРАН  НЕ ВЫБРАН  НЕ ВЫБРАН  ВЫБРАН  \n",
       "0668f4925e24d94  НЕ ВЫБРАН  НЕ ВЫБРАН  НЕ ВЫБРАН  НЕ ВЫБРАН  ВЫБРАН  \n",
       "06195549e8aba24  НЕ ВЫБРАН  НЕ ВЫБРАН  НЕ ВЫБРАН  НЕ ВЫБРАН  ВЫБРАН  \n",
       "\n",
       "[5 rows x 27 columns]"
      ]
     },
     "execution_count": 46,
     "metadata": {},
     "output_type": "execute_result"
    }
   ],
   "source": [
    "df_q7_subset.head(5)"
   ]
  },
  {
   "cell_type": "code",
   "execution_count": 47,
   "id": "a559f443-45ca-4a93-81e4-8d8fa7dc40de",
   "metadata": {},
   "outputs": [
    {
     "data": {
      "text/plain": [
       "353"
      ]
     },
     "execution_count": 47,
     "metadata": {},
     "output_type": "execute_result"
    }
   ],
   "source": [
    "selected_count = df_q7_subset[df_q7_subset['Q7_97'] == \"ВЫБРАН\"].shape[0]\n",
    "selected_count"
   ]
  },
  {
   "cell_type": "markdown",
   "id": "c60be4e5-0211-4ba5-a254-5c1a2e20624d",
   "metadata": {},
   "source": [
    "- количество пропущенных строк в Q8 совпадает с количеством строк в Q7, где выбрали ответ \"Ни о каких организациях не знаю и не слышал(-а)\"     \n",
    "_Это объясняет найденную аномалию, тогда всё в порядке_"
   ]
  },
  {
   "cell_type": "code",
   "execution_count": 48,
   "id": "db387769-5200-4985-ab86-e27b16ff3e73",
   "metadata": {},
   "outputs": [],
   "source": [
    "# избавимся от пропущенных значений\n",
    "df_q8 = df_q8.dropna()"
   ]
  },
  {
   "cell_type": "code",
   "execution_count": 49,
   "id": "9449e973-b303-4323-8072-fc14a27b485d",
   "metadata": {},
   "outputs": [],
   "source": [
    "cols_q8 = df_q8.columns\n",
    "counts_q8 = list()\n",
    "\n",
    "# функция для подсчёта ответов в каждом из пунктов\n",
    "for column in df_q8.columns:\n",
    "    dff = df_q8.loc[df_q8[column] == 'ВЫБРАН', column]\n",
    "    counts_q8.append(len(dff))"
   ]
  },
  {
   "cell_type": "code",
   "execution_count": 50,
   "id": "1cc5f4dd-983f-41c0-b038-421a04c4f1a4",
   "metadata": {},
   "outputs": [],
   "source": [
    "# Создание DataFrame с отсортированными значениями и именами столбцов\n",
    "sorted_counts_q8 = pd.DataFrame({'Column': cols_q8, 'Count': counts_q8}).sort_values(by='Count', ascending = False)\n",
    "\n",
    "# Установка столбца 'Column' в качестве индекса\n",
    "sorted_counts_q8 = sorted_counts_q8.set_index('Column')"
   ]
  },
  {
   "cell_type": "code",
   "execution_count": 51,
   "id": "1bf2a0ea-6fc8-4179-8144-4c2289e4eb37",
   "metadata": {},
   "outputs": [
    {
     "data": {
      "text/html": [
       "<div>\n",
       "<style scoped>\n",
       "    .dataframe tbody tr th:only-of-type {\n",
       "        vertical-align: middle;\n",
       "    }\n",
       "\n",
       "    .dataframe tbody tr th {\n",
       "        vertical-align: top;\n",
       "    }\n",
       "\n",
       "    .dataframe thead th {\n",
       "        text-align: right;\n",
       "    }\n",
       "</style>\n",
       "<table border=\"1\" class=\"dataframe\">\n",
       "  <thead>\n",
       "    <tr style=\"text-align: right;\">\n",
       "      <th></th>\n",
       "      <th>Count</th>\n",
       "    </tr>\n",
       "    <tr>\n",
       "      <th>Column</th>\n",
       "      <th></th>\n",
       "    </tr>\n",
       "  </thead>\n",
       "  <tbody>\n",
       "    <tr>\n",
       "      <th>Q8_4</th>\n",
       "      <td>952</td>\n",
       "    </tr>\n",
       "    <tr>\n",
       "      <th>Q8_7</th>\n",
       "      <td>511</td>\n",
       "    </tr>\n",
       "    <tr>\n",
       "      <th>Q8_6</th>\n",
       "      <td>387</td>\n",
       "    </tr>\n",
       "  </tbody>\n",
       "</table>\n",
       "</div>"
      ],
      "text/plain": [
       "        Count\n",
       "Column       \n",
       "Q8_4      952\n",
       "Q8_7      511\n",
       "Q8_6      387"
      ]
     },
     "execution_count": 51,
     "metadata": {},
     "output_type": "execute_result"
    }
   ],
   "source": [
    "sorted_counts_q8.head(3)"
   ]
  },
  {
   "cell_type": "code",
   "execution_count": 52,
   "id": "ca309344-33c6-4504-af2e-35338bd3116b",
   "metadata": {},
   "outputs": [
    {
     "data": {
      "image/png": "[encoded data removed]",
      "text/plain": [
       "<Figure size 1000x600 with 1 Axes>"
      ]
     },
     "metadata": {},
     "output_type": "display_data"
    }
   ],
   "source": [
    "# Создание графика\n",
    "plt.figure(figsize=(10, 6))\n",
    "\n",
    "# Построение столбчатой диаграммы\n",
    "plt.bar(sorted_counts_q8.index, height=sorted_counts_q8['Count'])\n",
    "\n",
    "# Подписи оси x с поворотом на 75 градусов\n",
    "plt.xticks(rotation=75)\n",
    "\n",
    "# Добавление горизонтальной линии для сравнения\n",
    "plt.axhline(y=361, color='red', linestyle='--', label='Сравнение')\n",
    "\n",
    "# Добавление заголовка и подписей осей\n",
    "plt.title('Количество ответов в каждом столбце Q8')\n",
    "plt.xlabel('Столбцы Q8')\n",
    "plt.ylabel('Количество ответов')\n",
    "\n",
    "# Отображение графика\n",
    "plt.tight_layout()\n",
    "plt.show()"
   ]
  },
  {
   "cell_type": "code",
   "execution_count": 53,
   "id": "c575354a-6020-4e10-b21b-6c59ea5f0c69",
   "metadata": {},
   "outputs": [
    {
     "name": "stdout",
     "output_type": "stream",
     "text": [
      "Количество людей, которые выбрали несколько ответов: 678\n"
     ]
    }
   ],
   "source": [
    "# Создаем пустой список для хранения индексов строк с несколькими вхождениями \"ВЫБРАН\"\n",
    "rows_with_multiple_choices = []\n",
    "\n",
    "# Проходим по каждой строке\n",
    "for index, row in df_q8.iterrows():\n",
    "    # Считаем количество вхождений \"ВЫБРАН\" в строке\n",
    "    count_chosen = row.eq(\"ВЫБРАН\").sum()\n",
    "    # Если количество больше одного, добавляем индекс строки в список\n",
    "    if count_chosen > 1:\n",
    "        rows_with_multiple_choices.append(index)\n",
    "\n",
    "# Выводим список индексов строк с несколькими вхождениями \"ВЫБРАН\"\n",
    "print(f\"Количество людей, которые выбрали несколько ответов: {len(rows_with_multiple_choices)}\")\n"
   ]
  },
  {
   "cell_type": "markdown",
   "id": "c7edf8b7-ea6d-471f-b05f-c68269394d48",
   "metadata": {},
   "source": [
    "- в целом это никак не влияет на наше исследование т.к. нам важно распределение признаков, по которым люди узнают об организациях "
   ]
  },
  {
   "cell_type": "markdown",
   "id": "c33ae6c2-7394-4e22-a884-6b1752e8af21",
   "metadata": {},
   "source": [
    "**Топ-3 самыx часто встречаемых ответов в Q8 это:**\n",
    "- Q8_4 (952 ответов): \"Слышал(-а) от других людей\"\n",
    "- Q8_7 (511 ответов): \"Из материалов в Интернете, соцсетей\"\n",
    "- Q8_6 (387 ответов): \"Из наружной рекламы / баннеров на улице\"\n",
    "\n",
    "То есть, почти в 50% случаев люди узнают о таких организациях от других людей. В 25% из материалов в Интернете, соцсетей и в остальном большинстве из Из наружной рекламы / баннеров на улице/ газет/ радио"
   ]
  },
  {
   "cell_type": "markdown",
   "id": "783b9277-94d6-414f-a541-563a7f53ca1a",
   "metadata": {},
   "source": [
    "<div style=\"border:solid Chocolate 2px; padding: 40px\">\n",
    "\n",
    "\n",
    "<h2> 3️⃣Вывод по большим тестовым вопросам <a class=\"tocSkip\"> </h2> \n",
    "    \n",
    "    \n",
    "- Почти в 40% случаев люди знают о таких организациях как Садовые и дачные товарищества и Профсоюзы. В 30% знают об Обществе инвалидов и Политических партиях\n",
    "- почти в 50% случаев люди узнают о таких организациях от других людей. В 25% из материалов в Интернете, соцсетей и в остальном большинстве из Из наружной рекламы / баннеров на улице/ газет/ радио"
   ]
  },
  {
   "cell_type": "markdown",
   "id": "7b9928b5-d72d-4d24-804b-cd42f576cd37",
   "metadata": {},
   "source": [
    "<div class=\"alert alert-warning\">\n",
    "    <h2> 4️⃣Машинное обучение для предсказаний пропущенных ответов в вопросе \"D9\"<a class=\"tocSkip\"> </h2>\n",
    "    \n",
    "</div>"
   ]
  },
  {
   "cell_type": "markdown",
   "id": "049b7d6e-5d20-483b-a398-1af8d192f048",
   "metadata": {},
   "source": [
    "### Обнаружили в вопросе \"Какое место занимает религия в Вашей жизни?\" 560 пропущенных ответов    "
   ]
  },
  {
   "cell_type": "markdown",
   "id": "310310be-4267-4119-98bd-adc81bc31480",
   "metadata": {},
   "source": [
    "Люди, ответившие на вопрос \"Считаете ли Вы себя верующим человеком?\" - \"Верующим человеком себя не считаю\", пропустили интересующий нас вопрос \"Какое место занимает религия в Вашей жизни?\"            \n",
    "**С помощью моделей машинного обучения попробуем предсказать, что они, при возможности, могли бы ответить**"
   ]
  },
  {
   "cell_type": "markdown",
   "id": "06f5e9b0-bcc5-4484-8aa0-d6c95b70fd3f",
   "metadata": {},
   "source": [
    "#### Предскажем возможные ответы при помощи машинного обучения"
   ]
  },
  {
   "cell_type": "code",
   "execution_count": 54,
   "id": "9d4afa04-aef0-40c1-917f-9ba6d3ee9e16",
   "metadata": {},
   "outputs": [
    {
     "data": {
      "text/plain": [
       "560"
      ]
     },
     "execution_count": 54,
     "metadata": {},
     "output_type": "execute_result"
    }
   ],
   "source": [
    "data['D9'].isnull().sum()"
   ]
  },
  {
   "cell_type": "markdown",
   "id": "5e66a993-cf66-486e-a478-99215a7cae2c",
   "metadata": {},
   "source": [
    "- 560 человек не ответили на этот вопрос"
   ]
  },
  {
   "cell_type": "code",
   "execution_count": 55,
   "id": "84d30c60-17e3-48df-a1f4-b716598533d0",
   "metadata": {},
   "outputs": [
    {
     "data": {
      "text/plain": [
       "86"
      ]
     },
     "execution_count": 55,
     "metadata": {},
     "output_type": "execute_result"
    }
   ],
   "source": [
    "# проверим сколько человек испытало трудность в ответе на этот вопрос\n",
    "data.query('D9 == \"Затрудняюсь ответить\"')['D9'].count()"
   ]
  },
  {
   "cell_type": "markdown",
   "id": "049187a1-107b-407b-8060-d3f224df4a23",
   "metadata": {},
   "source": [
    "- это всего около 4% от кол-ва всех опрошенных"
   ]
  },
  {
   "cell_type": "code",
   "execution_count": 56,
   "id": "c926f3cc-14e1-4201-b161-7dce34502505",
   "metadata": {},
   "outputs": [
    {
     "data": {
      "text/plain": [
       "(2003, 500)"
      ]
     },
     "execution_count": 56,
     "metadata": {},
     "output_type": "execute_result"
    }
   ],
   "source": [
    "data.shape"
   ]
  },
  {
   "cell_type": "code",
   "execution_count": 57,
   "id": "670cf417-09f4-4503-8df9-2eb74713edf0",
   "metadata": {},
   "outputs": [
    {
     "data": {
      "text/html": [
       "<div>\n",
       "<style scoped>\n",
       "    .dataframe tbody tr th:only-of-type {\n",
       "        vertical-align: middle;\n",
       "    }\n",
       "\n",
       "    .dataframe tbody tr th {\n",
       "        vertical-align: top;\n",
       "    }\n",
       "\n",
       "    .dataframe thead th {\n",
       "        text-align: right;\n",
       "    }\n",
       "</style>\n",
       "<table border=\"1\" class=\"dataframe\">\n",
       "  <thead>\n",
       "    <tr style=\"text-align: right;\">\n",
       "      <th></th>\n",
       "      <th>D1</th>\n",
       "      <th>D2</th>\n",
       "      <th>D3</th>\n",
       "      <th>D4</th>\n",
       "      <th>D5</th>\n",
       "      <th>D5_DR</th>\n",
       "      <th>D6</th>\n",
       "      <th>D6_DR</th>\n",
       "      <th>D7</th>\n",
       "      <th>D7_DR</th>\n",
       "      <th>D8</th>\n",
       "      <th>D8_DR</th>\n",
       "      <th>D9</th>\n",
       "      <th>D10</th>\n",
       "      <th>D10_DR</th>\n",
       "      <th>D11</th>\n",
       "    </tr>\n",
       "    <tr>\n",
       "      <th>ID</th>\n",
       "      <th></th>\n",
       "      <th></th>\n",
       "      <th></th>\n",
       "      <th></th>\n",
       "      <th></th>\n",
       "      <th></th>\n",
       "      <th></th>\n",
       "      <th></th>\n",
       "      <th></th>\n",
       "      <th></th>\n",
       "      <th></th>\n",
       "      <th></th>\n",
       "      <th></th>\n",
       "      <th></th>\n",
       "      <th></th>\n",
       "      <th></th>\n",
       "    </tr>\n",
       "  </thead>\n",
       "  <tbody>\n",
       "    <tr>\n",
       "      <th>063a20a33e679b4</th>\n",
       "      <td>На одежду, обувь денег хватает, но крупную быт...</td>\n",
       "      <td>Менее половины</td>\n",
       "      <td>Нахожусь на пенсии и не работаю</td>\n",
       "      <td>NaN</td>\n",
       "      <td>NaN</td>\n",
       "      <td>NaN</td>\n",
       "      <td>NaN</td>\n",
       "      <td>NaN</td>\n",
       "      <td>Не являюсь членом или сторонником какой-либо п...</td>\n",
       "      <td>NaN</td>\n",
       "      <td>Верующим человеком себя не считаю</td>\n",
       "      <td>NaN</td>\n",
       "      <td>NaN</td>\n",
       "      <td>NaN</td>\n",
       "      <td>NaN</td>\n",
       "      <td>Среднее</td>\n",
       "    </tr>\n",
       "    <tr>\n",
       "      <th>06539b004760a54</th>\n",
       "      <td>На одежду, обувь денег хватает, но крупную быт...</td>\n",
       "      <td>/НЕ НА КАРТОЧКЕ / Затрудняюсь ответить/отказ о...</td>\n",
       "      <td>Нахожусь на пенсии и не работаю</td>\n",
       "      <td>NaN</td>\n",
       "      <td>NaN</td>\n",
       "      <td>NaN</td>\n",
       "      <td>NaN</td>\n",
       "      <td>NaN</td>\n",
       "      <td>Не являюсь членом или сторонником какой-либо п...</td>\n",
       "      <td>NaN</td>\n",
       "      <td>Верующим человеком себя не считаю</td>\n",
       "      <td>NaN</td>\n",
       "      <td>NaN</td>\n",
       "      <td>NaN</td>\n",
       "      <td>NaN</td>\n",
       "      <td>Плохое</td>\n",
       "    </tr>\n",
       "    <tr>\n",
       "      <th>06e85272a3a11d4</th>\n",
       "      <td>На квартиру или дом денег хватает</td>\n",
       "      <td>Примерно две трети</td>\n",
       "      <td>Работаю</td>\n",
       "      <td>Самозанятый(-ая)</td>\n",
       "      <td>NaN</td>\n",
       "      <td>NaN</td>\n",
       "      <td>Сфера услуг, сервиса, бытового обслуживания</td>\n",
       "      <td>NaN</td>\n",
       "      <td>Не являюсь членом или сторонником какой-либо п...</td>\n",
       "      <td>NaN</td>\n",
       "      <td>Мусульманин</td>\n",
       "      <td>NaN</td>\n",
       "      <td>Очень важное</td>\n",
       "      <td>Стараюсь выполнять религиозные предписания, ре...</td>\n",
       "      <td>NaN</td>\n",
       "      <td>Среднее</td>\n",
       "    </tr>\n",
       "    <tr>\n",
       "      <th>06470c0967c0d24</th>\n",
       "      <td>Денег не хватает даже на питание</td>\n",
       "      <td>Почти все</td>\n",
       "      <td>Работаю</td>\n",
       "      <td>Работаю по найму</td>\n",
       "      <td>Рабочий</td>\n",
       "      <td>NaN</td>\n",
       "      <td>Промышленное производство (в т.ч. добывающие о...</td>\n",
       "      <td>NaN</td>\n",
       "      <td>Не являюсь членом или сторонником какой-либо п...</td>\n",
       "      <td>NaN</td>\n",
       "      <td>Православный</td>\n",
       "      <td>NaN</td>\n",
       "      <td>Затрудняюсь ответить</td>\n",
       "      <td>/НЕ НА КАРТОЧКЕ / Затрудняюсь ответить</td>\n",
       "      <td>NaN</td>\n",
       "      <td>Хорошее</td>\n",
       "    </tr>\n",
       "    <tr>\n",
       "      <th>06c807717b98184</th>\n",
       "      <td>На бытовую технику денег хватает, но автомобил...</td>\n",
       "      <td>Менее половины</td>\n",
       "      <td>Учусь</td>\n",
       "      <td>NaN</td>\n",
       "      <td>NaN</td>\n",
       "      <td>NaN</td>\n",
       "      <td>NaN</td>\n",
       "      <td>NaN</td>\n",
       "      <td>Не являюсь членом или сторонником какой-либо п...</td>\n",
       "      <td>NaN</td>\n",
       "      <td>Затрудняюсь ответить/отказ от ответа</td>\n",
       "      <td>NaN</td>\n",
       "      <td>Совершенно не важное</td>\n",
       "      <td>/НЕ НА КАРТОЧКЕ / Затрудняюсь ответить</td>\n",
       "      <td>NaN</td>\n",
       "      <td>Хорошее</td>\n",
       "    </tr>\n",
       "  </tbody>\n",
       "</table>\n",
       "</div>"
      ],
      "text/plain": [
       "                                                                D1  \\\n",
       "ID                                                                   \n",
       "063a20a33e679b4  На одежду, обувь денег хватает, но крупную быт...   \n",
       "06539b004760a54  На одежду, обувь денег хватает, но крупную быт...   \n",
       "06e85272a3a11d4                  На квартиру или дом денег хватает   \n",
       "06470c0967c0d24                   Денег не хватает даже на питание   \n",
       "06c807717b98184  На бытовую технику денег хватает, но автомобил...   \n",
       "\n",
       "                                                                D2  \\\n",
       "ID                                                                   \n",
       "063a20a33e679b4                                     Менее половины   \n",
       "06539b004760a54  /НЕ НА КАРТОЧКЕ / Затрудняюсь ответить/отказ о...   \n",
       "06e85272a3a11d4                                 Примерно две трети   \n",
       "06470c0967c0d24                                          Почти все   \n",
       "06c807717b98184                                     Менее половины   \n",
       "\n",
       "                                              D3                D4       D5  \\\n",
       "ID                                                                            \n",
       "063a20a33e679b4  Нахожусь на пенсии и не работаю               NaN      NaN   \n",
       "06539b004760a54  Нахожусь на пенсии и не работаю               NaN      NaN   \n",
       "06e85272a3a11d4                          Работаю  Самозанятый(-ая)      NaN   \n",
       "06470c0967c0d24                          Работаю  Работаю по найму  Рабочий   \n",
       "06c807717b98184                            Учусь               NaN      NaN   \n",
       "\n",
       "                D5_DR                                                 D6  \\\n",
       "ID                                                                         \n",
       "063a20a33e679b4   NaN                                                NaN   \n",
       "06539b004760a54   NaN                                                NaN   \n",
       "06e85272a3a11d4   NaN        Сфера услуг, сервиса, бытового обслуживания   \n",
       "06470c0967c0d24   NaN  Промышленное производство (в т.ч. добывающие о...   \n",
       "06c807717b98184   NaN                                                NaN   \n",
       "\n",
       "                D6_DR                                                 D7  \\\n",
       "ID                                                                         \n",
       "063a20a33e679b4   NaN  Не являюсь членом или сторонником какой-либо п...   \n",
       "06539b004760a54   NaN  Не являюсь членом или сторонником какой-либо п...   \n",
       "06e85272a3a11d4   NaN  Не являюсь членом или сторонником какой-либо п...   \n",
       "06470c0967c0d24   NaN  Не являюсь членом или сторонником какой-либо п...   \n",
       "06c807717b98184   NaN  Не являюсь членом или сторонником какой-либо п...   \n",
       "\n",
       "                D7_DR                                    D8 D8_DR  \\\n",
       "ID                                                                  \n",
       "063a20a33e679b4   NaN     Верующим человеком себя не считаю   NaN   \n",
       "06539b004760a54   NaN     Верующим человеком себя не считаю   NaN   \n",
       "06e85272a3a11d4   NaN                           Мусульманин   NaN   \n",
       "06470c0967c0d24   NaN                          Православный   NaN   \n",
       "06c807717b98184   NaN  Затрудняюсь ответить/отказ от ответа   NaN   \n",
       "\n",
       "                                   D9  \\\n",
       "ID                                      \n",
       "063a20a33e679b4                   NaN   \n",
       "06539b004760a54                   NaN   \n",
       "06e85272a3a11d4          Очень важное   \n",
       "06470c0967c0d24  Затрудняюсь ответить   \n",
       "06c807717b98184  Совершенно не важное   \n",
       "\n",
       "                                                               D10 D10_DR  \\\n",
       "ID                                                                          \n",
       "063a20a33e679b4                                                NaN    NaN   \n",
       "06539b004760a54                                                NaN    NaN   \n",
       "06e85272a3a11d4  Стараюсь выполнять религиозные предписания, ре...    NaN   \n",
       "06470c0967c0d24             /НЕ НА КАРТОЧКЕ / Затрудняюсь ответить    NaN   \n",
       "06c807717b98184             /НЕ НА КАРТОЧКЕ / Затрудняюсь ответить    NaN   \n",
       "\n",
       "                     D11  \n",
       "ID                        \n",
       "063a20a33e679b4  Среднее  \n",
       "06539b004760a54   Плохое  \n",
       "06e85272a3a11d4  Среднее  \n",
       "06470c0967c0d24  Хорошее  \n",
       "06c807717b98184  Хорошее  "
      ]
     },
     "execution_count": 57,
     "metadata": {},
     "output_type": "execute_result"
    }
   ],
   "source": [
    "# будем использовать данные из вопросов категории D\n",
    "df = data.iloc[1:, 484:500]\n",
    "df.head(5)"
   ]
  },
  {
   "cell_type": "code",
   "execution_count": 58,
   "id": "532350aa-51cd-41dd-9e2d-fcbbd5c300ee",
   "metadata": {},
   "outputs": [],
   "source": [
    "# заменим значения '/НЕ НА КАРТОЧКЕ / Затрудняюсь ответить', '/НЕ НА КАРТОЧКЕ/ Затрудняюсь ответить' на -->\n",
    "# 'Затрудняюсь ответить'\n",
    "df = df.replace(['/НЕ НА КАРТОЧКЕ / Затрудняюсь ответить', '/НЕ НА КАРТОЧКЕ/ Затрудняюсь ответить'],\\\n",
    "                                    'Затрудняюсь ответить')"
   ]
  },
  {
   "cell_type": "code",
   "execution_count": 59,
   "id": "a5f82423-e7a0-4919-94ac-0f9bcd306c9e",
   "metadata": {},
   "outputs": [],
   "source": [
    "imp = SimpleImputer(strategy='constant', fill_value='unknown')\n",
    "cl = ['D1', 'D2', 'D3', 'D4', 'D5', 'D6', 'D7', 'D8', 'D10', 'D11']\n",
    "df[cl] = imp.fit_transform(df[cl])\n",
    "df[cl] = pd.DataFrame(df[cl], columns = cl)"
   ]
  },
  {
   "cell_type": "markdown",
   "id": "532db014-5876-4a06-b270-e964f3a9e661",
   "metadata": {},
   "source": [
    "### Подготовка данных"
   ]
  },
  {
   "cell_type": "markdown",
   "id": "7a2a893c-3eeb-4279-9a6a-c8a7ebaad0e5",
   "metadata": {},
   "source": [
    "- **целевой признак –– \"D9\"**\n",
    "- удалим признаки 'D5_DR', 'D6_DR', 'D8_DR', 'D10_DR' т.к. это дополнительные ответы и они могут усложнить процесс, но их удаление не повлияет на предсказания т.к. дополнительных ответов крайне мало"
   ]
  },
  {
   "cell_type": "code",
   "execution_count": 60,
   "id": "d1b8dcae-27f2-4b59-bf10-616acbcb3d70",
   "metadata": {},
   "outputs": [],
   "source": [
    "# выделим тестовую выборку, где целевой признак будет состоять из пропущенных значений\n",
    "X_test_final =  df[df['D9'].isnull()].drop(['D9', 'D5_DR', 'D6_DR', 'D7_DR', 'D8_DR', 'D10_DR'], axis=1)"
   ]
  },
  {
   "cell_type": "code",
   "execution_count": 61,
   "id": "36bcd664-386f-4c32-8cd2-1767d82f879f",
   "metadata": {},
   "outputs": [],
   "source": [
    "# Создание DataFrame X без строк, где 'D9' не равен np.nan\n",
    "X = df[df['D9'].notnull()].drop(['D9', 'D5_DR', 'D6_DR', 'D7_DR', 'D8_DR', 'D10_DR'], axis=1)\n",
    "\n",
    "# Создание Series y со строками, где 'D9' равен np.nan\n",
    "y = df[df['D9'].notnull()]['D9']"
   ]
  },
  {
   "cell_type": "code",
   "execution_count": 62,
   "id": "94f250ff-f90e-4114-8ae5-e90c9e990255",
   "metadata": {
    "scrolled": true
   },
   "outputs": [],
   "source": [
    "# тестовую выборку возьмём в 20%\n",
    "RANDOM_STATE = 42\n",
    "\n",
    "X_train, X_test, y_train, y_test = train_test_split(\n",
    "    X,\n",
    "    y,\n",
    "    random_state = RANDOM_STATE,\n",
    "    test_size = 0.2)"
   ]
  },
  {
   "cell_type": "code",
   "execution_count": 63,
   "id": "a3b7082e-a83b-466f-ab80-2eb535c4ba01",
   "metadata": {},
   "outputs": [],
   "source": [
    "ohe_columns = ['D6', 'D7', 'D8']\n",
    "ord_columns = ['D1', 'D2', 'D3', 'D4', 'D5', 'D10', 'D11']"
   ]
  },
  {
   "cell_type": "code",
   "execution_count": 64,
   "id": "b4188479-78a6-4d39-a223-4a4acd240e5a",
   "metadata": {},
   "outputs": [],
   "source": [
    "# добавим кодируемые\n",
    "ord_lst = list()\n",
    "\n",
    "for i in ord_columns:\n",
    "    a = list(X[i].unique())\n",
    "    ord_lst.append(a)"
   ]
  },
  {
   "cell_type": "code",
   "execution_count": 65,
   "id": "2a0c9f66-88d8-48f2-b841-08184bd38377",
   "metadata": {},
   "outputs": [],
   "source": [
    "# кодируем часть данных через OneHotEncoder\n",
    "ohe_pipe = Pipeline(\n",
    "    [\n",
    "        (\n",
    "            'ohe', \n",
    "            OneHotEncoder(drop='first', handle_unknown='ignore', sparse_output=False)\n",
    "        )\n",
    "    ]\n",
    ")"
   ]
  },
  {
   "cell_type": "code",
   "execution_count": 66,
   "id": "0df26cc3-3e78-4a18-a46b-32db913b4bb4",
   "metadata": {},
   "outputs": [],
   "source": [
    "# кодируем часть данных через OrdinalEncoder\n",
    "ord_pipe = Pipeline(\n",
    "    [\n",
    "        (\n",
    "            'simpleImputer_before_ord', \n",
    "            SimpleImputer(missing_values=np.nan, strategy='constant', fill_value=-1)\n",
    "        ),\n",
    "        (\n",
    "            'ord',  \n",
    "            OrdinalEncoder(\n",
    "                handle_unknown='use_encoded_value', unknown_value=np.nan)\n",
    "        ),\n",
    "        (\n",
    "            'simpleImputer_after_ord', \n",
    "            SimpleImputer(missing_values=np.nan, strategy='constant', fill_value=-1)\n",
    "        )\n",
    "    ]\n",
    ")"
   ]
  },
  {
   "cell_type": "code",
   "execution_count": 67,
   "id": "9fff1b33-6e4f-4b19-b934-ef56fd51e01c",
   "metadata": {},
   "outputs": [],
   "source": [
    "data_preprocessor = ColumnTransformer(\n",
    "    [\n",
    "        ('ohe', ohe_pipe, ohe_columns),\n",
    "        ('ord', ord_pipe, ord_columns)\n",
    "    ], \n",
    "    remainder='passthrough'\n",
    ")"
   ]
  },
  {
   "cell_type": "code",
   "execution_count": 68,
   "id": "9b2d28c5-9af9-44d7-b476-b65442a40ba7",
   "metadata": {},
   "outputs": [],
   "source": [
    "# итоговый пайплайн: подготовка данных и модель\n",
    "pipe_final = Pipeline(\n",
    "    [\n",
    "        ('preprocessor', data_preprocessor),\n",
    "        ('models', DecisionTreeClassifier(random_state=RANDOM_STATE))\n",
    "    ]\n",
    ")"
   ]
  },
  {
   "cell_type": "code",
   "execution_count": 69,
   "id": "bd409f56-b395-446a-a1cc-e166a3517dab",
   "metadata": {},
   "outputs": [],
   "source": [
    "le = LabelEncoder()\n",
    "y_train_encoded = le.fit_transform(y_train)\n",
    "y_test_encoded = le.transform(y_test)"
   ]
  },
  {
   "cell_type": "code",
   "execution_count": 70,
   "id": "572981c8-d8ac-4e66-9c0d-a215c5b87999",
   "metadata": {
    "scrolled": true
   },
   "outputs": [
    {
     "data": {
      "text/html": [
       "<style>#sk-container-id-1 {\n",
       "  /* Definition of color scheme common for light and dark mode */\n",
       "  --sklearn-color-text: black;\n",
       "  --sklearn-color-line: gray;\n",
       "  /* Definition of color scheme for unfitted estimators */\n",
       "  --sklearn-color-unfitted-level-0: #fff5e6;\n",
       "  --sklearn-color-unfitted-level-1: #f6e4d2;\n",
       "  --sklearn-color-unfitted-level-2: #ffe0b3;\n",
       "  --sklearn-color-unfitted-level-3: chocolate;\n",
       "  /* Definition of color scheme for fitted estimators */\n",
       "  --sklearn-color-fitted-level-0: #f0f8ff;\n",
       "  --sklearn-color-fitted-level-1: #d4ebff;\n",
       "  --sklearn-color-fitted-level-2: #b3dbfd;\n",
       "  --sklearn-color-fitted-level-3: cornflowerblue;\n",
       "\n",
       "  /* Specific color for light theme */\n",
       "  --sklearn-color-text-on-default-background: var(--sg-text-color, var(--theme-code-foreground, var(--jp-content-font-color1, black)));\n",
       "  --sklearn-color-background: var(--sg-background-color, var(--theme-background, var(--jp-layout-color0, white)));\n",
       "  --sklearn-color-border-box: var(--sg-text-color, var(--theme-code-foreground, var(--jp-content-font-color1, black)));\n",
       "  --sklearn-color-icon: #696969;\n",
       "\n",
       "  @media (prefers-color-scheme: dark) {\n",
       "    /* Redefinition of color scheme for dark theme */\n",
       "    --sklearn-color-text-on-default-background: var(--sg-text-color, var(--theme-code-foreground, var(--jp-content-font-color1, white)));\n",
       "    --sklearn-color-background: var(--sg-background-color, var(--theme-background, var(--jp-layout-color0, #111)));\n",
       "    --sklearn-color-border-box: var(--sg-text-color, var(--theme-code-foreground, var(--jp-content-font-color1, white)));\n",
       "    --sklearn-color-icon: #878787;\n",
       "  }\n",
       "}\n",
       "\n",
       "#sk-container-id-1 {\n",
       "  color: var(--sklearn-color-text);\n",
       "}\n",
       "\n",
       "#sk-container-id-1 pre {\n",
       "  padding: 0;\n",
       "}\n",
       "\n",
       "#sk-container-id-1 input.sk-hidden--visually {\n",
       "  border: 0;\n",
       "  clip: rect(1px 1px 1px 1px);\n",
       "  clip: rect(1px, 1px, 1px, 1px);\n",
       "  height: 1px;\n",
       "  margin: -1px;\n",
       "  overflow: hidden;\n",
       "  padding: 0;\n",
       "  position: absolute;\n",
       "  width: 1px;\n",
       "}\n",
       "\n",
       "#sk-container-id-1 div.sk-dashed-wrapped {\n",
       "  border: 1px dashed var(--sklearn-color-line);\n",
       "  margin: 0 0.4em 0.5em 0.4em;\n",
       "  box-sizing: border-box;\n",
       "  padding-bottom: 0.4em;\n",
       "  background-color: var(--sklearn-color-background);\n",
       "}\n",
       "\n",
       "#sk-container-id-1 div.sk-container {\n",
       "  /* jupyter's `normalize.less` sets `[hidden] { display: none; }`\n",
       "     but bootstrap.min.css set `[hidden] { display: none !important; }`\n",
       "     so we also need the `!important` here to be able to override the\n",
       "     default hidden behavior on the sphinx rendered scikit-learn.org.\n",
       "     See: https://github.com/scikit-learn/scikit-learn/issues/21755 */\n",
       "  display: inline-block !important;\n",
       "  position: relative;\n",
       "}\n",
       "\n",
       "#sk-container-id-1 div.sk-text-repr-fallback {\n",
       "  display: none;\n",
       "}\n",
       "\n",
       "div.sk-parallel-item,\n",
       "div.sk-serial,\n",
       "div.sk-item {\n",
       "  /* draw centered vertical line to link estimators */\n",
       "  background-image: linear-gradient(var(--sklearn-color-text-on-default-background), var(--sklearn-color-text-on-default-background));\n",
       "  background-size: 2px 100%;\n",
       "  background-repeat: no-repeat;\n",
       "  background-position: center center;\n",
       "}\n",
       "\n",
       "/* Parallel-specific style estimator block */\n",
       "\n",
       "#sk-container-id-1 div.sk-parallel-item::after {\n",
       "  content: \"\";\n",
       "  width: 100%;\n",
       "  border-bottom: 2px solid var(--sklearn-color-text-on-default-background);\n",
       "  flex-grow: 1;\n",
       "}\n",
       "\n",
       "#sk-container-id-1 div.sk-parallel {\n",
       "  display: flex;\n",
       "  align-items: stretch;\n",
       "  justify-content: center;\n",
       "  background-color: var(--sklearn-color-background);\n",
       "  position: relative;\n",
       "}\n",
       "\n",
       "#sk-container-id-1 div.sk-parallel-item {\n",
       "  display: flex;\n",
       "  flex-direction: column;\n",
       "}\n",
       "\n",
       "#sk-container-id-1 div.sk-parallel-item:first-child::after {\n",
       "  align-self: flex-end;\n",
       "  width: 50%;\n",
       "}\n",
       "\n",
       "#sk-container-id-1 div.sk-parallel-item:last-child::after {\n",
       "  align-self: flex-start;\n",
       "  width: 50%;\n",
       "}\n",
       "\n",
       "#sk-container-id-1 div.sk-parallel-item:only-child::after {\n",
       "  width: 0;\n",
       "}\n",
       "\n",
       "/* Serial-specific style estimator block */\n",
       "\n",
       "#sk-container-id-1 div.sk-serial {\n",
       "  display: flex;\n",
       "  flex-direction: column;\n",
       "  align-items: center;\n",
       "  background-color: var(--sklearn-color-background);\n",
       "  padding-right: 1em;\n",
       "  padding-left: 1em;\n",
       "}\n",
       "\n",
       "\n",
       "/* Toggleable style: style used for estimator/Pipeline/ColumnTransformer box that is\n",
       "clickable and can be expanded/collapsed.\n",
       "- Pipeline and ColumnTransformer use this feature and define the default style\n",
       "- Estimators will overwrite some part of the style using the `sk-estimator` class\n",
       "*/\n",
       "\n",
       "/* Pipeline and ColumnTransformer style (default) */\n",
       "\n",
       "#sk-container-id-1 div.sk-toggleable {\n",
       "  /* Default theme specific background. It is overwritten whether we have a\n",
       "  specific estimator or a Pipeline/ColumnTransformer */\n",
       "  background-color: var(--sklearn-color-background);\n",
       "}\n",
       "\n",
       "/* Toggleable label */\n",
       "#sk-container-id-1 label.sk-toggleable__label {\n",
       "  cursor: pointer;\n",
       "  display: block;\n",
       "  width: 100%;\n",
       "  margin-bottom: 0;\n",
       "  padding: 0.5em;\n",
       "  box-sizing: border-box;\n",
       "  text-align: center;\n",
       "}\n",
       "\n",
       "#sk-container-id-1 label.sk-toggleable__label-arrow:before {\n",
       "  /* Arrow on the left of the label */\n",
       "  content: \"▸\";\n",
       "  float: left;\n",
       "  margin-right: 0.25em;\n",
       "  color: var(--sklearn-color-icon);\n",
       "}\n",
       "\n",
       "#sk-container-id-1 label.sk-toggleable__label-arrow:hover:before {\n",
       "  color: var(--sklearn-color-text);\n",
       "}\n",
       "\n",
       "/* Toggleable content - dropdown */\n",
       "\n",
       "#sk-container-id-1 div.sk-toggleable__content {\n",
       "  max-height: 0;\n",
       "  max-width: 0;\n",
       "  overflow: hidden;\n",
       "  text-align: left;\n",
       "  /* unfitted */\n",
       "  background-color: var(--sklearn-color-unfitted-level-0);\n",
       "}\n",
       "\n",
       "#sk-container-id-1 div.sk-toggleable__content.fitted {\n",
       "  /* fitted */\n",
       "  background-color: var(--sklearn-color-fitted-level-0);\n",
       "}\n",
       "\n",
       "#sk-container-id-1 div.sk-toggleable__content pre {\n",
       "  margin: 0.2em;\n",
       "  border-radius: 0.25em;\n",
       "  color: var(--sklearn-color-text);\n",
       "  /* unfitted */\n",
       "  background-color: var(--sklearn-color-unfitted-level-0);\n",
       "}\n",
       "\n",
       "#sk-container-id-1 div.sk-toggleable__content.fitted pre {\n",
       "  /* unfitted */\n",
       "  background-color: var(--sklearn-color-fitted-level-0);\n",
       "}\n",
       "\n",
       "#sk-container-id-1 input.sk-toggleable__control:checked~div.sk-toggleable__content {\n",
       "  /* Expand drop-down */\n",
       "  max-height: 200px;\n",
       "  max-width: 100%;\n",
       "  overflow: auto;\n",
       "}\n",
       "\n",
       "#sk-container-id-1 input.sk-toggleable__control:checked~label.sk-toggleable__label-arrow:before {\n",
       "  content: \"▾\";\n",
       "}\n",
       "\n",
       "/* Pipeline/ColumnTransformer-specific style */\n",
       "\n",
       "#sk-container-id-1 div.sk-label input.sk-toggleable__control:checked~label.sk-toggleable__label {\n",
       "  color: var(--sklearn-color-text);\n",
       "  background-color: var(--sklearn-color-unfitted-level-2);\n",
       "}\n",
       "\n",
       "#sk-container-id-1 div.sk-label.fitted input.sk-toggleable__control:checked~label.sk-toggleable__label {\n",
       "  background-color: var(--sklearn-color-fitted-level-2);\n",
       "}\n",
       "\n",
       "/* Estimator-specific style */\n",
       "\n",
       "/* Colorize estimator box */\n",
       "#sk-container-id-1 div.sk-estimator input.sk-toggleable__control:checked~label.sk-toggleable__label {\n",
       "  /* unfitted */\n",
       "  background-color: var(--sklearn-color-unfitted-level-2);\n",
       "}\n",
       "\n",
       "#sk-container-id-1 div.sk-estimator.fitted input.sk-toggleable__control:checked~label.sk-toggleable__label {\n",
       "  /* fitted */\n",
       "  background-color: var(--sklearn-color-fitted-level-2);\n",
       "}\n",
       "\n",
       "#sk-container-id-1 div.sk-label label.sk-toggleable__label,\n",
       "#sk-container-id-1 div.sk-label label {\n",
       "  /* The background is the default theme color */\n",
       "  color: var(--sklearn-color-text-on-default-background);\n",
       "}\n",
       "\n",
       "/* On hover, darken the color of the background */\n",
       "#sk-container-id-1 div.sk-label:hover label.sk-toggleable__label {\n",
       "  color: var(--sklearn-color-text);\n",
       "  background-color: var(--sklearn-color-unfitted-level-2);\n",
       "}\n",
       "\n",
       "/* Label box, darken color on hover, fitted */\n",
       "#sk-container-id-1 div.sk-label.fitted:hover label.sk-toggleable__label.fitted {\n",
       "  color: var(--sklearn-color-text);\n",
       "  background-color: var(--sklearn-color-fitted-level-2);\n",
       "}\n",
       "\n",
       "/* Estimator label */\n",
       "\n",
       "#sk-container-id-1 div.sk-label label {\n",
       "  font-family: monospace;\n",
       "  font-weight: bold;\n",
       "  display: inline-block;\n",
       "  line-height: 1.2em;\n",
       "}\n",
       "\n",
       "#sk-container-id-1 div.sk-label-container {\n",
       "  text-align: center;\n",
       "}\n",
       "\n",
       "/* Estimator-specific */\n",
       "#sk-container-id-1 div.sk-estimator {\n",
       "  font-family: monospace;\n",
       "  border: 1px dotted var(--sklearn-color-border-box);\n",
       "  border-radius: 0.25em;\n",
       "  box-sizing: border-box;\n",
       "  margin-bottom: 0.5em;\n",
       "  /* unfitted */\n",
       "  background-color: var(--sklearn-color-unfitted-level-0);\n",
       "}\n",
       "\n",
       "#sk-container-id-1 div.sk-estimator.fitted {\n",
       "  /* fitted */\n",
       "  background-color: var(--sklearn-color-fitted-level-0);\n",
       "}\n",
       "\n",
       "/* on hover */\n",
       "#sk-container-id-1 div.sk-estimator:hover {\n",
       "  /* unfitted */\n",
       "  background-color: var(--sklearn-color-unfitted-level-2);\n",
       "}\n",
       "\n",
       "#sk-container-id-1 div.sk-estimator.fitted:hover {\n",
       "  /* fitted */\n",
       "  background-color: var(--sklearn-color-fitted-level-2);\n",
       "}\n",
       "\n",
       "/* Specification for estimator info (e.g. \"i\" and \"?\") */\n",
       "\n",
       "/* Common style for \"i\" and \"?\" */\n",
       "\n",
       ".sk-estimator-doc-link,\n",
       "a:link.sk-estimator-doc-link,\n",
       "a:visited.sk-estimator-doc-link {\n",
       "  float: right;\n",
       "  font-size: smaller;\n",
       "  line-height: 1em;\n",
       "  font-family: monospace;\n",
       "  background-color: var(--sklearn-color-background);\n",
       "  border-radius: 1em;\n",
       "  height: 1em;\n",
       "  width: 1em;\n",
       "  text-decoration: none !important;\n",
       "  margin-left: 1ex;\n",
       "  /* unfitted */\n",
       "  border: var(--sklearn-color-unfitted-level-1) 1pt solid;\n",
       "  color: var(--sklearn-color-unfitted-level-1);\n",
       "}\n",
       "\n",
       ".sk-estimator-doc-link.fitted,\n",
       "a:link.sk-estimator-doc-link.fitted,\n",
       "a:visited.sk-estimator-doc-link.fitted {\n",
       "  /* fitted */\n",
       "  border: var(--sklearn-color-fitted-level-1) 1pt solid;\n",
       "  color: var(--sklearn-color-fitted-level-1);\n",
       "}\n",
       "\n",
       "/* On hover */\n",
       "div.sk-estimator:hover .sk-estimator-doc-link:hover,\n",
       ".sk-estimator-doc-link:hover,\n",
       "div.sk-label-container:hover .sk-estimator-doc-link:hover,\n",
       ".sk-estimator-doc-link:hover {\n",
       "  /* unfitted */\n",
       "  background-color: var(--sklearn-color-unfitted-level-3);\n",
       "  color: var(--sklearn-color-background);\n",
       "  text-decoration: none;\n",
       "}\n",
       "\n",
       "div.sk-estimator.fitted:hover .sk-estimator-doc-link.fitted:hover,\n",
       ".sk-estimator-doc-link.fitted:hover,\n",
       "div.sk-label-container:hover .sk-estimator-doc-link.fitted:hover,\n",
       ".sk-estimator-doc-link.fitted:hover {\n",
       "  /* fitted */\n",
       "  background-color: var(--sklearn-color-fitted-level-3);\n",
       "  color: var(--sklearn-color-background);\n",
       "  text-decoration: none;\n",
       "}\n",
       "\n",
       "/* Span, style for the box shown on hovering the info icon */\n",
       ".sk-estimator-doc-link span {\n",
       "  display: none;\n",
       "  z-index: 9999;\n",
       "  position: relative;\n",
       "  font-weight: normal;\n",
       "  right: .2ex;\n",
       "  padding: .5ex;\n",
       "  margin: .5ex;\n",
       "  width: min-content;\n",
       "  min-width: 20ex;\n",
       "  max-width: 50ex;\n",
       "  color: var(--sklearn-color-text);\n",
       "  box-shadow: 2pt 2pt 4pt #999;\n",
       "  /* unfitted */\n",
       "  background: var(--sklearn-color-unfitted-level-0);\n",
       "  border: .5pt solid var(--sklearn-color-unfitted-level-3);\n",
       "}\n",
       "\n",
       ".sk-estimator-doc-link.fitted span {\n",
       "  /* fitted */\n",
       "  background: var(--sklearn-color-fitted-level-0);\n",
       "  border: var(--sklearn-color-fitted-level-3);\n",
       "}\n",
       "\n",
       ".sk-estimator-doc-link:hover span {\n",
       "  display: block;\n",
       "}\n",
       "\n",
       "/* \"?\"-specific style due to the `<a>` HTML tag */\n",
       "\n",
       "#sk-container-id-1 a.estimator_doc_link {\n",
       "  float: right;\n",
       "  font-size: 1rem;\n",
       "  line-height: 1em;\n",
       "  font-family: monospace;\n",
       "  background-color: var(--sklearn-color-background);\n",
       "  border-radius: 1rem;\n",
       "  height: 1rem;\n",
       "  width: 1rem;\n",
       "  text-decoration: none;\n",
       "  /* unfitted */\n",
       "  color: var(--sklearn-color-unfitted-level-1);\n",
       "  border: var(--sklearn-color-unfitted-level-1) 1pt solid;\n",
       "}\n",
       "\n",
       "#sk-container-id-1 a.estimator_doc_link.fitted {\n",
       "  /* fitted */\n",
       "  border: var(--sklearn-color-fitted-level-1) 1pt solid;\n",
       "  color: var(--sklearn-color-fitted-level-1);\n",
       "}\n",
       "\n",
       "/* On hover */\n",
       "#sk-container-id-1 a.estimator_doc_link:hover {\n",
       "  /* unfitted */\n",
       "  background-color: var(--sklearn-color-unfitted-level-3);\n",
       "  color: var(--sklearn-color-background);\n",
       "  text-decoration: none;\n",
       "}\n",
       "\n",
       "#sk-container-id-1 a.estimator_doc_link.fitted:hover {\n",
       "  /* fitted */\n",
       "  background-color: var(--sklearn-color-fitted-level-3);\n",
       "}\n",
       "</style><div id=\"sk-container-id-1\" class=\"sk-top-container\"><div class=\"sk-text-repr-fallback\"><pre>Pipeline(steps=[(&#x27;preprocessor&#x27;,\n",
       "                 ColumnTransformer(remainder=&#x27;passthrough&#x27;,\n",
       "                                   transformers=[(&#x27;ohe&#x27;,\n",
       "                                                  Pipeline(steps=[(&#x27;ohe&#x27;,\n",
       "                                                                   OneHotEncoder(drop=&#x27;first&#x27;,\n",
       "                                                                                 handle_unknown=&#x27;ignore&#x27;,\n",
       "                                                                                 sparse_output=False))]),\n",
       "                                                  [&#x27;D6&#x27;, &#x27;D7&#x27;, &#x27;D8&#x27;]),\n",
       "                                                 (&#x27;ord&#x27;,\n",
       "                                                  Pipeline(steps=[(&#x27;simpleImputer_before_ord&#x27;,\n",
       "                                                                   SimpleImputer(fill_value=-1,\n",
       "                                                                                 strategy=&#x27;constant&#x27;)),\n",
       "                                                                  (&#x27;ord&#x27;,\n",
       "                                                                   OrdinalEncoder(handle_unknown=&#x27;use_encoded_value&#x27;,\n",
       "                                                                                  unknown_value=nan)),\n",
       "                                                                  (&#x27;simpleImputer_after_ord&#x27;,\n",
       "                                                                   SimpleImputer(fill_value=-1,\n",
       "                                                                                 strategy=&#x27;constant&#x27;))]),\n",
       "                                                  [&#x27;D1&#x27;, &#x27;D2&#x27;, &#x27;D3&#x27;, &#x27;D4&#x27;, &#x27;D5&#x27;,\n",
       "                                                   &#x27;D10&#x27;, &#x27;D11&#x27;])])),\n",
       "                (&#x27;models&#x27;, DecisionTreeClassifier(random_state=42))])</pre><b>In a Jupyter environment, please rerun this cell to show the HTML representation or trust the notebook. <br />On GitHub, the HTML representation is unable to render, please try loading this page with nbviewer.org.</b></div><div class=\"sk-container\" hidden><div class=\"sk-item sk-dashed-wrapped\"><div class=\"sk-label-container\"><div class=\"sk-label fitted sk-toggleable\"><input class=\"sk-toggleable__control sk-hidden--visually\" id=\"sk-estimator-id-1\" type=\"checkbox\" ><label for=\"sk-estimator-id-1\" class=\"sk-toggleable__label fitted sk-toggleable__label-arrow fitted\">&nbsp;&nbsp;Pipeline<a class=\"sk-estimator-doc-link fitted\" rel=\"noreferrer\" target=\"_blank\" href=\"https://scikit-learn.org/1.4/modules/generated/sklearn.pipeline.Pipeline.html\">?<span>Documentation for Pipeline</span></a><span class=\"sk-estimator-doc-link fitted\">i<span>Fitted</span></span></label><div class=\"sk-toggleable__content fitted\"><pre>Pipeline(steps=[(&#x27;preprocessor&#x27;,\n",
       "                 ColumnTransformer(remainder=&#x27;passthrough&#x27;,\n",
       "                                   transformers=[(&#x27;ohe&#x27;,\n",
       "                                                  Pipeline(steps=[(&#x27;ohe&#x27;,\n",
       "                                                                   OneHotEncoder(drop=&#x27;first&#x27;,\n",
       "                                                                                 handle_unknown=&#x27;ignore&#x27;,\n",
       "                                                                                 sparse_output=False))]),\n",
       "                                                  [&#x27;D6&#x27;, &#x27;D7&#x27;, &#x27;D8&#x27;]),\n",
       "                                                 (&#x27;ord&#x27;,\n",
       "                                                  Pipeline(steps=[(&#x27;simpleImputer_before_ord&#x27;,\n",
       "                                                                   SimpleImputer(fill_value=-1,\n",
       "                                                                                 strategy=&#x27;constant&#x27;)),\n",
       "                                                                  (&#x27;ord&#x27;,\n",
       "                                                                   OrdinalEncoder(handle_unknown=&#x27;use_encoded_value&#x27;,\n",
       "                                                                                  unknown_value=nan)),\n",
       "                                                                  (&#x27;simpleImputer_after_ord&#x27;,\n",
       "                                                                   SimpleImputer(fill_value=-1,\n",
       "                                                                                 strategy=&#x27;constant&#x27;))]),\n",
       "                                                  [&#x27;D1&#x27;, &#x27;D2&#x27;, &#x27;D3&#x27;, &#x27;D4&#x27;, &#x27;D5&#x27;,\n",
       "                                                   &#x27;D10&#x27;, &#x27;D11&#x27;])])),\n",
       "                (&#x27;models&#x27;, DecisionTreeClassifier(random_state=42))])</pre></div> </div></div><div class=\"sk-serial\"><div class=\"sk-item sk-dashed-wrapped\"><div class=\"sk-label-container\"><div class=\"sk-label fitted sk-toggleable\"><input class=\"sk-toggleable__control sk-hidden--visually\" id=\"sk-estimator-id-2\" type=\"checkbox\" ><label for=\"sk-estimator-id-2\" class=\"sk-toggleable__label fitted sk-toggleable__label-arrow fitted\">&nbsp;preprocessor: ColumnTransformer<a class=\"sk-estimator-doc-link fitted\" rel=\"noreferrer\" target=\"_blank\" href=\"https://scikit-learn.org/1.4/modules/generated/sklearn.compose.ColumnTransformer.html\">?<span>Documentation for preprocessor: ColumnTransformer</span></a></label><div class=\"sk-toggleable__content fitted\"><pre>ColumnTransformer(remainder=&#x27;passthrough&#x27;,\n",
       "                  transformers=[(&#x27;ohe&#x27;,\n",
       "                                 Pipeline(steps=[(&#x27;ohe&#x27;,\n",
       "                                                  OneHotEncoder(drop=&#x27;first&#x27;,\n",
       "                                                                handle_unknown=&#x27;ignore&#x27;,\n",
       "                                                                sparse_output=False))]),\n",
       "                                 [&#x27;D6&#x27;, &#x27;D7&#x27;, &#x27;D8&#x27;]),\n",
       "                                (&#x27;ord&#x27;,\n",
       "                                 Pipeline(steps=[(&#x27;simpleImputer_before_ord&#x27;,\n",
       "                                                  SimpleImputer(fill_value=-1,\n",
       "                                                                strategy=&#x27;constant&#x27;)),\n",
       "                                                 (&#x27;ord&#x27;,\n",
       "                                                  OrdinalEncoder(handle_unknown=&#x27;use_encoded_value&#x27;,\n",
       "                                                                 unknown_value=nan)),\n",
       "                                                 (&#x27;simpleImputer_after_ord&#x27;,\n",
       "                                                  SimpleImputer(fill_value=-1,\n",
       "                                                                strategy=&#x27;constant&#x27;))]),\n",
       "                                 [&#x27;D1&#x27;, &#x27;D2&#x27;, &#x27;D3&#x27;, &#x27;D4&#x27;, &#x27;D5&#x27;, &#x27;D10&#x27;, &#x27;D11&#x27;])])</pre></div> </div></div><div class=\"sk-parallel\"><div class=\"sk-parallel-item\"><div class=\"sk-item\"><div class=\"sk-label-container\"><div class=\"sk-label fitted sk-toggleable\"><input class=\"sk-toggleable__control sk-hidden--visually\" id=\"sk-estimator-id-3\" type=\"checkbox\" ><label for=\"sk-estimator-id-3\" class=\"sk-toggleable__label fitted sk-toggleable__label-arrow fitted\">ohe</label><div class=\"sk-toggleable__content fitted\"><pre>[&#x27;D6&#x27;, &#x27;D7&#x27;, &#x27;D8&#x27;]</pre></div> </div></div><div class=\"sk-serial\"><div class=\"sk-item\"><div class=\"sk-serial\"><div class=\"sk-item\"><div class=\"sk-estimator fitted sk-toggleable\"><input class=\"sk-toggleable__control sk-hidden--visually\" id=\"sk-estimator-id-4\" type=\"checkbox\" ><label for=\"sk-estimator-id-4\" class=\"sk-toggleable__label fitted sk-toggleable__label-arrow fitted\">&nbsp;OneHotEncoder<a class=\"sk-estimator-doc-link fitted\" rel=\"noreferrer\" target=\"_blank\" href=\"https://scikit-learn.org/1.4/modules/generated/sklearn.preprocessing.OneHotEncoder.html\">?<span>Documentation for OneHotEncoder</span></a></label><div class=\"sk-toggleable__content fitted\"><pre>OneHotEncoder(drop=&#x27;first&#x27;, handle_unknown=&#x27;ignore&#x27;, sparse_output=False)</pre></div> </div></div></div></div></div></div></div><div class=\"sk-parallel-item\"><div class=\"sk-item\"><div class=\"sk-label-container\"><div class=\"sk-label fitted sk-toggleable\"><input class=\"sk-toggleable__control sk-hidden--visually\" id=\"sk-estimator-id-5\" type=\"checkbox\" ><label for=\"sk-estimator-id-5\" class=\"sk-toggleable__label fitted sk-toggleable__label-arrow fitted\">ord</label><div class=\"sk-toggleable__content fitted\"><pre>[&#x27;D1&#x27;, &#x27;D2&#x27;, &#x27;D3&#x27;, &#x27;D4&#x27;, &#x27;D5&#x27;, &#x27;D10&#x27;, &#x27;D11&#x27;]</pre></div> </div></div><div class=\"sk-serial\"><div class=\"sk-item\"><div class=\"sk-serial\"><div class=\"sk-item\"><div class=\"sk-estimator fitted sk-toggleable\"><input class=\"sk-toggleable__control sk-hidden--visually\" id=\"sk-estimator-id-6\" type=\"checkbox\" ><label for=\"sk-estimator-id-6\" class=\"sk-toggleable__label fitted sk-toggleable__label-arrow fitted\">&nbsp;SimpleImputer<a class=\"sk-estimator-doc-link fitted\" rel=\"noreferrer\" target=\"_blank\" href=\"https://scikit-learn.org/1.4/modules/generated/sklearn.impute.SimpleImputer.html\">?<span>Documentation for SimpleImputer</span></a></label><div class=\"sk-toggleable__content fitted\"><pre>SimpleImputer(fill_value=-1, strategy=&#x27;constant&#x27;)</pre></div> </div></div><div class=\"sk-item\"><div class=\"sk-estimator fitted sk-toggleable\"><input class=\"sk-toggleable__control sk-hidden--visually\" id=\"sk-estimator-id-7\" type=\"checkbox\" ><label for=\"sk-estimator-id-7\" class=\"sk-toggleable__label fitted sk-toggleable__label-arrow fitted\">&nbsp;OrdinalEncoder<a class=\"sk-estimator-doc-link fitted\" rel=\"noreferrer\" target=\"_blank\" href=\"https://scikit-learn.org/1.4/modules/generated/sklearn.preprocessing.OrdinalEncoder.html\">?<span>Documentation for OrdinalEncoder</span></a></label><div class=\"sk-toggleable__content fitted\"><pre>OrdinalEncoder(handle_unknown=&#x27;use_encoded_value&#x27;, unknown_value=nan)</pre></div> </div></div><div class=\"sk-item\"><div class=\"sk-estimator fitted sk-toggleable\"><input class=\"sk-toggleable__control sk-hidden--visually\" id=\"sk-estimator-id-8\" type=\"checkbox\" ><label for=\"sk-estimator-id-8\" class=\"sk-toggleable__label fitted sk-toggleable__label-arrow fitted\">&nbsp;SimpleImputer<a class=\"sk-estimator-doc-link fitted\" rel=\"noreferrer\" target=\"_blank\" href=\"https://scikit-learn.org/1.4/modules/generated/sklearn.impute.SimpleImputer.html\">?<span>Documentation for SimpleImputer</span></a></label><div class=\"sk-toggleable__content fitted\"><pre>SimpleImputer(fill_value=-1, strategy=&#x27;constant&#x27;)</pre></div> </div></div></div></div></div></div></div><div class=\"sk-parallel-item\"><div class=\"sk-item\"><div class=\"sk-label-container\"><div class=\"sk-label fitted sk-toggleable\"><input class=\"sk-toggleable__control sk-hidden--visually\" id=\"sk-estimator-id-9\" type=\"checkbox\" ><label for=\"sk-estimator-id-9\" class=\"sk-toggleable__label fitted sk-toggleable__label-arrow fitted\">remainder</label><div class=\"sk-toggleable__content fitted\"><pre>[]</pre></div> </div></div><div class=\"sk-serial\"><div class=\"sk-item\"><div class=\"sk-estimator fitted sk-toggleable\"><input class=\"sk-toggleable__control sk-hidden--visually\" id=\"sk-estimator-id-10\" type=\"checkbox\" ><label for=\"sk-estimator-id-10\" class=\"sk-toggleable__label fitted sk-toggleable__label-arrow fitted\">passthrough</label><div class=\"sk-toggleable__content fitted\"><pre>passthrough</pre></div> </div></div></div></div></div></div></div><div class=\"sk-item\"><div class=\"sk-estimator fitted sk-toggleable\"><input class=\"sk-toggleable__control sk-hidden--visually\" id=\"sk-estimator-id-11\" type=\"checkbox\" ><label for=\"sk-estimator-id-11\" class=\"sk-toggleable__label fitted sk-toggleable__label-arrow fitted\">&nbsp;DecisionTreeClassifier<a class=\"sk-estimator-doc-link fitted\" rel=\"noreferrer\" target=\"_blank\" href=\"https://scikit-learn.org/1.4/modules/generated/sklearn.tree.DecisionTreeClassifier.html\">?<span>Documentation for DecisionTreeClassifier</span></a></label><div class=\"sk-toggleable__content fitted\"><pre>DecisionTreeClassifier(random_state=42)</pre></div> </div></div></div></div></div></div>"
      ],
      "text/plain": [
       "Pipeline(steps=[('preprocessor',\n",
       "                 ColumnTransformer(remainder='passthrough',\n",
       "                                   transformers=[('ohe',\n",
       "                                                  Pipeline(steps=[('ohe',\n",
       "                                                                   OneHotEncoder(drop='first',\n",
       "                                                                                 handle_unknown='ignore',\n",
       "                                                                                 sparse_output=False))]),\n",
       "                                                  ['D6', 'D7', 'D8']),\n",
       "                                                 ('ord',\n",
       "                                                  Pipeline(steps=[('simpleImputer_before_ord',\n",
       "                                                                   SimpleImputer(fill_value=-1,\n",
       "                                                                                 strategy='constant')),\n",
       "                                                                  ('ord',\n",
       "                                                                   OrdinalEncoder(handle_unknown='use_encoded_value',\n",
       "                                                                                  unknown_value=nan)),\n",
       "                                                                  ('simpleImputer_after_ord',\n",
       "                                                                   SimpleImputer(fill_value=-1,\n",
       "                                                                                 strategy='constant'))]),\n",
       "                                                  ['D1', 'D2', 'D3', 'D4', 'D5',\n",
       "                                                   'D10', 'D11'])])),\n",
       "                ('models', DecisionTreeClassifier(random_state=42))])"
      ]
     },
     "execution_count": 70,
     "metadata": {},
     "output_type": "execute_result"
    }
   ],
   "source": [
    "pipe_final.fit(X_train, y_train_encoded)"
   ]
  },
  {
   "cell_type": "markdown",
   "id": "63f42aac-da8a-4a39-b26e-cc4a4f94667b",
   "metadata": {},
   "source": [
    "### Предскажем пропущенные значения, предварительно закодировав тренировачные данные в числа"
   ]
  },
  {
   "cell_type": "code",
   "execution_count": 71,
   "id": "b12a6287-3794-45ef-984f-6f00970dbe80",
   "metadata": {},
   "outputs": [],
   "source": [
    "param_grid = [\n",
    "    # словарь для модели KNeighborsClassifier() \n",
    "    {\n",
    "        'models': [KNeighborsClassifier()],\n",
    "        'models__n_neighbors': range(1, 20),\n",
    "        'models__weights': ['uniform', 'distance'],\n",
    "        'models__algorithm': ['auto', 'ball_tree', 'kd_tree', 'brute']\n",
    "    },\n",
    "    # словарь для модели DecisionTreeClassifier()\n",
    "    {\n",
    "        'models': [DecisionTreeClassifier(random_state=RANDOM_STATE)],\n",
    "        'models__max_depth': range(2, 11),\n",
    "        'models__min_samples_split': [2, 5, 10],\n",
    "        'models__min_samples_leaf': [1, 2, 4]\n",
    "    },\n",
    "    # словарь для модели SVC()\n",
    "    {\n",
    "        'models': [SVC(kernel='linear', random_state=RANDOM_STATE)],\n",
    "        'models__C': [0.1, 1, 10, 100],\n",
    "        'models__gamma': ['scale', 'auto']\n",
    "    },\n",
    "    # словарь для модели LogisticRegression()\n",
    "    {\n",
    "        'models': [LogisticRegression(random_state=RANDOM_STATE)],\n",
    "        'models__C': [0.1, 1, 10, 100],\n",
    "        'models__solver': ['liblinear', 'saga'],\n",
    "        'models__penalty': ['l1', 'l2']\n",
    "    }\n",
    "]"
   ]
  },
  {
   "cell_type": "code",
   "execution_count": 1,
   "id": "0bbc90da-5d36-4303-a5d6-1d41d52a55b6",
   "metadata": {
    "scrolled": true
   },
   "outputs": [],
   "source": [
    "# grid_search = GridSearchCV(\n",
    "#     pipe_final, \n",
    "#     param_grid, \n",
    "#     cv=5,\n",
    "#     scoring='accuracy',\n",
    "#     n_jobs=-1\n",
    "# )\n",
    "\n",
    "#grid_search.fit(X_train, y_train)"
   ]
  },
  {
   "cell_type": "code",
   "execution_count": 73,
   "id": "98963469-9e26-485d-b069-32412fe35718",
   "metadata": {},
   "outputs": [],
   "source": [
    "model = grid_search.best_estimator_\n",
    "best_score = grid_search.best_score_"
   ]
  },
  {
   "cell_type": "code",
   "execution_count": 74,
   "id": "a77bd8d0-602d-4f0f-bca6-c2aee93204b5",
   "metadata": {},
   "outputs": [
    {
     "name": "stdout",
     "output_type": "stream",
     "text": [
      "Лучшая модель и её параметры:\n",
      "\n",
      " Pipeline(steps=[('preprocessor',\n",
      "                 ColumnTransformer(remainder='passthrough',\n",
      "                                   transformers=[('ohe',\n",
      "                                                  Pipeline(steps=[('ohe',\n",
      "                                                                   OneHotEncoder(drop='first',\n",
      "                                                                                 handle_unknown='ignore',\n",
      "                                                                                 sparse_output=False))]),\n",
      "                                                  ['D6', 'D7', 'D8']),\n",
      "                                                 ('ord',\n",
      "                                                  Pipeline(steps=[('simpleImputer_before_ord',\n",
      "                                                                   SimpleImputer(fill_value=-1,\n",
      "                                                                                 strategy='constant')),\n",
      "                                                                  ('ord',\n",
      "                                                                   OrdinalEncoder(handle_unknown='use_encoded_value',\n",
      "                                                                                  unknown_value=nan)),\n",
      "                                                                  ('simpleImputer_after_ord',\n",
      "                                                                   SimpleImputer(fill_value=-1,\n",
      "                                                                                 strategy='constant'))]),\n",
      "                                                  ['D1', 'D2', 'D3', 'D4', 'D5',\n",
      "                                                   'D10', 'D11'])])),\n",
      "                ('models',\n",
      "                 KNeighborsClassifier(algorithm='kd_tree', n_neighbors=11,\n",
      "                                      weights='distance'))])\n",
      "Метрика лучшей модели на тренировочной выборке: 0.5585582533408621\n"
     ]
    }
   ],
   "source": [
    "print('Лучшая модель и её параметры:\\n\\n', model)\n",
    "print ('Метрика лучшей модели на тренировочной выборке:', best_score)"
   ]
  },
  {
   "cell_type": "markdown",
   "id": "098873ea-955c-42b6-9e71-8e65399d2018",
   "metadata": {},
   "source": [
    "- метрика лучшей модели на кросс-валидации не самого лучшего качетсва - 0.5585. Стоит учитывать специфику данных, они текстовые, поэтому кодирование в числа, возможно не самый лучший вариант, но имеет место быть."
   ]
  },
  {
   "cell_type": "code",
   "execution_count": 75,
   "id": "e36d029c-74fe-47eb-b212-be7018f159d3",
   "metadata": {},
   "outputs": [],
   "source": [
    "# создадим списки лучших моделей\n",
    "# и их значений метрики accuracy на кросс-валидации\n",
    "mdl = list()\n",
    "acc_score = list()"
   ]
  },
  {
   "cell_type": "code",
   "execution_count": 76,
   "id": "38288c51-5bb9-489e-8f2f-9637f00c6b24",
   "metadata": {},
   "outputs": [],
   "source": [
    "acc_score.append(best_score)"
   ]
  },
  {
   "cell_type": "code",
   "execution_count": 77,
   "id": "4942e8f3-6480-4ef7-a172-90b39f859683",
   "metadata": {},
   "outputs": [],
   "source": [
    "# Получение имени лучшей модели \n",
    "best_model_name = type(model.named_steps['models']).__name__\n",
    "mdl.append(best_model_name)"
   ]
  },
  {
   "cell_type": "code",
   "execution_count": 78,
   "id": "9451b833-c041-4002-9943-4167c0a45ec3",
   "metadata": {},
   "outputs": [],
   "source": [
    "# предсказанные значения\n",
    "preds = model.predict(X_test_final)"
   ]
  },
  {
   "cell_type": "code",
   "execution_count": 79,
   "id": "7a010456-d5bb-4c4b-a882-a1a4b53317b8",
   "metadata": {},
   "outputs": [
    {
     "data": {
      "text/plain": [
       "Довольно важное         207\n",
       "Не очень важное         179\n",
       "Затрудняюсь ответить     77\n",
       "Совершенно не важное     67\n",
       "Очень важное             30\n",
       "Name: count, dtype: int64"
      ]
     },
     "execution_count": 79,
     "metadata": {},
     "output_type": "execute_result"
    }
   ],
   "source": [
    "# Создаем объект Series из предсказанных значений\n",
    "preds_series = pd.Series(preds)\n",
    "\n",
    "# Подсчитываем количество уникальных значений\n",
    "value_counts = preds_series.value_counts()\n",
    "value_counts"
   ]
  },
  {
   "cell_type": "code",
   "execution_count": 80,
   "id": "da0d2486-7652-4911-bc94-2cf236483f16",
   "metadata": {},
   "outputs": [
    {
     "data": {
      "image/png": "[encoded data removed]",
      "text/plain": [
       "<Figure size 1000x600 with 1 Axes>"
      ]
     },
     "metadata": {},
     "output_type": "display_data"
    }
   ],
   "source": [
    "# Построение гистограммы\n",
    "plt.figure(figsize=(10, 6))\n",
    "sns.histplot(preds, bins=20, kde=True)\n",
    "plt.xlabel('Предсказанные значения')\n",
    "plt.ylabel('Частота')\n",
    "plt.title('Гистограмма предсказанных значений модели')\n",
    "plt.xticks(rotation = 25)\n",
    "plt.show()"
   ]
  },
  {
   "cell_type": "markdown",
   "id": "3144ffd7-6fd3-4956-96f0-27a0d336b5da",
   "metadata": {},
   "source": [
    "- Для 37% людей, не ответивших на этот вопрос религия имеет довольно важное значение. Для 31% не очень важное и для 12% имеет совершенно не важное значение либо они затруднились ответить."
   ]
  },
  {
   "cell_type": "markdown",
   "id": "bb5c2ab5-9205-474e-ba9c-4da37cbdd5ce",
   "metadata": {},
   "source": [
    "****"
   ]
  },
  {
   "cell_type": "markdown",
   "id": "4951ed1a-4cba-4ad2-9128-c3c7e55b7051",
   "metadata": {},
   "source": [
    "### Используем новый метод кодирования текстовых данных в числовые признаки:        \n",
    "**\"Term Frequency-Inverse Document Frequency\" (TF-IDF)**"
   ]
  },
  {
   "cell_type": "markdown",
   "id": "477f2639-7b5d-485b-b49a-5415a1298917",
   "metadata": {},
   "source": [
    "**Выбирал между двумя инструментами преобразования текстовых данных в числовые признаки:**\n",
    "- CountVectorizer: часто используется, когда важно просто учитывать частоту встречаемости слов.\n",
    "- TfidfVectorizer: часто предпочтителен, когда нужно учитывать не только частоту, но и важность слова для конкретного документа в контексте всей коллекции."
   ]
  },
  {
   "cell_type": "markdown",
   "id": "10e71f55-74d9-4725-a3bf-b1140da1d67b",
   "metadata": {},
   "source": [
    "**TfidfVectorizer** будет предпочтительнее в нашем случае, учитывая специфику данных"
   ]
  },
  {
   "cell_type": "code",
   "execution_count": 81,
   "id": "0974e820-f8d3-475d-9f5b-52b3f6b47fa5",
   "metadata": {},
   "outputs": [],
   "source": [
    "df['combined'] = df['D1'] + ' ' + df['D2'] + ' ' + df['D3'] + ' ' + df['D4'] + ' ' + df['D5'] \\\n",
    "                + ' ' + df['D6'] + ' ' + df['D7'] + ' ' + df['D8'] + ' ' + df['D10'] + ' ' + df['D11']"
   ]
  },
  {
   "cell_type": "code",
   "execution_count": 82,
   "id": "722af336-4cbb-4fd5-b564-eee8ab21daff",
   "metadata": {},
   "outputs": [],
   "source": [
    "X_train = df[df['D9'].notnull()]['combined']\n",
    "y_train = df[df['D9'].notnull()]['D9']\n",
    "X_test = df[df['D9'].isnull()]['combined']"
   ]
  },
  {
   "cell_type": "code",
   "execution_count": 83,
   "id": "2fbfb517-df42-4fa6-8a1e-31aa147c022f",
   "metadata": {},
   "outputs": [],
   "source": [
    "# Преобразование текстовых данных в признаки\n",
    "vectorizer = TfidfVectorizer()\n",
    "X_train = vectorizer.fit_transform(X_train)\n",
    "X_test = vectorizer.transform(X_test)"
   ]
  },
  {
   "cell_type": "code",
   "execution_count": 84,
   "id": "d1e6ce90-9604-4f8e-ba45-f9ea285f4b23",
   "metadata": {},
   "outputs": [
    {
     "name": "stdout",
     "output_type": "stream",
     "text": [
      "Лучшие параметры: {'n_estimators': 400, 'min_samples_split': 5, 'min_samples_leaf': 2, 'max_features': 'sqrt', 'max_depth': None, 'class_weight': None, 'bootstrap': False}\n",
      "Лучшая оценка accuracy на кросс-валидации: 0.7709164978201001\n"
     ]
    }
   ],
   "source": [
    "# Балансировка классов с помощью SMOTE\n",
    "smote = SMOTE(random_state=42)\n",
    "X_train_resampled, y_train_resampled = smote.fit_resample(X_train, y_train)\n",
    "\n",
    "# Инициализация и обучение модели случайного леса\n",
    "rf_model = RandomForestClassifier(random_state=42)\n",
    "\n",
    "# Определение параметров для поиска RandomizedSearchCV\n",
    "param_grid = {\n",
    "    'n_estimators': [50, 100, 200, 300, 400],\n",
    "    'max_depth': [None, 5, 10, 20, 50],\n",
    "    'min_samples_split': [2, 5, 10, 15, 20],\n",
    "    'min_samples_leaf': [1, 2, 4, 6, 8],\n",
    "    'max_features': ['sqrt', 'log2', 0.2, 0.5, 0.8, None],\n",
    "    'bootstrap': [True, False],\n",
    "    'class_weight': [None, 'balanced', 'balanced_subsample']\n",
    "}\n",
    "\n",
    "# Создание объекта RandomizedSearchCV\n",
    "random_search = RandomizedSearchCV(rf_model,\n",
    "                                   param_grid,\n",
    "                                   n_iter=10,\n",
    "                                   cv=3,\n",
    "                                   n_jobs=-1,\n",
    "                                   scoring='accuracy',\n",
    "                                   random_state=42)\n",
    "\n",
    "# Поиск лучших параметров на обучающих данных\n",
    "random_search.fit(X_train_resampled, y_train_resampled)\n",
    "#random_search.fit(X_train, y_train)\n",
    "\n",
    "\n",
    "# Лучшие параметры и оценка модели\n",
    "best_params = random_search.best_params_\n",
    "best_score = random_search.best_score_\n",
    "print(\"Лучшие параметры:\", best_params)\n",
    "print(\"Лучшая оценка accuracy на кросс-валидации:\", best_score)\n",
    "\n",
    "# Использование лучших параметров для модели\n",
    "best_rf_model_2 = random_search.best_estimator_\n",
    "\n",
    "# Предсказание на тестовой выборке с лучшей моделью\n",
    "predictions = best_rf_model_2.predict(X_test)"
   ]
  },
  {
   "cell_type": "markdown",
   "id": "e211d57f-4c65-4238-acdd-461ed9e9c98e",
   "metadata": {},
   "source": [
    "- Здесь метрика accuracy уже более приемлема - 0.7709. Значит, этот способ кодирования данных гораздо эффективнее, также применили балансировку классов с помощью SMOTE"
   ]
  },
  {
   "cell_type": "code",
   "execution_count": 85,
   "id": "e896e356-985f-4159-9069-4198fde64fcf",
   "metadata": {},
   "outputs": [],
   "source": [
    "mdl.append(\"RandomForestClassifier\")\n",
    "acc_score.append(best_score)"
   ]
  },
  {
   "cell_type": "code",
   "execution_count": 86,
   "id": "61b42490-0b64-4b7d-9c53-1c50d1938f17",
   "metadata": {},
   "outputs": [
    {
     "data": {
      "text/plain": [
       "Не очень важное         262\n",
       "Довольно важное         165\n",
       "Совершенно не важное     93\n",
       "Затрудняюсь ответить     35\n",
       "Очень важное              5\n",
       "Name: count, dtype: int64"
      ]
     },
     "execution_count": 86,
     "metadata": {},
     "output_type": "execute_result"
    }
   ],
   "source": [
    "preds = pd.Series(predictions)\n",
    "preds.value_counts()"
   ]
  },
  {
   "cell_type": "code",
   "execution_count": 87,
   "id": "c6868b4b-d4cb-4edd-bf8d-7830e529037b",
   "metadata": {},
   "outputs": [
    {
     "data": {
      "image/png": "[encoded data removed]",
      "text/plain": [
       "<Figure size 1000x600 with 1 Axes>"
      ]
     },
     "metadata": {},
     "output_type": "display_data"
    }
   ],
   "source": [
    "# Построение гистограммы\n",
    "plt.figure(figsize=(10, 6))\n",
    "sns.histplot(preds, bins=20, kde=True)\n",
    "plt.xlabel('Предсказанные значения')\n",
    "plt.ylabel('Частота')\n",
    "plt.title('Гистограмма предсказанных значений модели')\n",
    "plt.xticks(rotation = 25)\n",
    "plt.show()"
   ]
  },
  {
   "cell_type": "markdown",
   "id": "5d1174bc-39fb-4a66-9024-5188ad35dcbb",
   "metadata": {},
   "source": [
    "**Для 46% людей, не ответивших на этот вопрос религия имеет не очень важное значение. Для 30% не очень важное и для 12% имеет довольно важное значение и для 15% совершенно не важное**"
   ]
  },
  {
   "cell_type": "markdown",
   "id": "df1e7ade-95fe-41d9-88cf-09ea241cd768",
   "metadata": {},
   "source": [
    "****"
   ]
  },
  {
   "cell_type": "markdown",
   "id": "815a0428-b132-4b5e-839f-2b7e1c11a375",
   "metadata": {},
   "source": [
    "### Применим градиентный бустинг для предсказания пропущенных ответов"
   ]
  },
  {
   "cell_type": "code",
   "execution_count": 88,
   "id": "3d5a4905-56b7-4f0f-935a-ed992731f875",
   "metadata": {
    "scrolled": true
   },
   "outputs": [
    {
     "name": "stdout",
     "output_type": "stream",
     "text": [
      "0:\tlearn: 1.5336855\ttotal: 94ms\tremaining: 46.9s\n",
      "100:\tlearn: 0.6066578\ttotal: 2.52s\tremaining: 9.97s\n",
      "200:\tlearn: 0.4335597\ttotal: 4.76s\tremaining: 7.08s\n",
      "300:\tlearn: 0.3498529\ttotal: 6.78s\tremaining: 4.48s\n",
      "400:\tlearn: 0.2936079\ttotal: 8.81s\tremaining: 2.17s\n",
      "499:\tlearn: 0.2534791\ttotal: 10.8s\tremaining: 0us\n",
      "0:\tlearn: 1.5439412\ttotal: 21.5ms\tremaining: 10.7s\n",
      "100:\tlearn: 0.7020361\ttotal: 1.49s\tremaining: 5.9s\n",
      "200:\tlearn: 0.5108787\ttotal: 3.13s\tremaining: 4.65s\n",
      "300:\tlearn: 0.4124303\ttotal: 4.72s\tremaining: 3.12s\n",
      "400:\tlearn: 0.3493205\ttotal: 6.13s\tremaining: 1.51s\n",
      "499:\tlearn: 0.3003625\ttotal: 7.63s\tremaining: 0us\n",
      "0:\tlearn: 1.5452426\ttotal: 21.3ms\tremaining: 10.6s\n",
      "100:\tlearn: 0.7091433\ttotal: 1.49s\tremaining: 5.89s\n",
      "200:\tlearn: 0.5446951\ttotal: 2.9s\tremaining: 4.31s\n",
      "300:\tlearn: 0.4584677\ttotal: 4.25s\tremaining: 2.81s\n",
      "400:\tlearn: 0.3930973\ttotal: 5.58s\tremaining: 1.38s\n",
      "499:\tlearn: 0.3462970\ttotal: 7.09s\tremaining: 0us\n",
      "0:\tlearn: 1.5353667\ttotal: 28.6ms\tremaining: 14.3s\n",
      "100:\tlearn: 0.6746210\ttotal: 1.66s\tremaining: 6.55s\n",
      "200:\tlearn: 0.5042006\ttotal: 3.22s\tremaining: 4.79s\n",
      "300:\tlearn: 0.4233795\ttotal: 4.76s\tremaining: 3.15s\n",
      "400:\tlearn: 0.3635688\ttotal: 6.41s\tremaining: 1.58s\n",
      "499:\tlearn: 0.3219913\ttotal: 7.95s\tremaining: 0us\n"
     ]
    }
   ],
   "source": [
    "# Инициализация и обучение модели CatBoost\n",
    "catboost_model = CatBoostClassifier(\n",
    "    iterations=500,  # Количество итераций\n",
    "    learning_rate=0.1,  # Скорость обучения\n",
    "    depth=6,  # Глубина деревьев\n",
    "    random_seed=42,  # Задаем случайное значение для воспроизводимости результатов\n",
    "    verbose=100  # Вывод прогресса каждые 100 итераций\n",
    ")\n",
    "\n",
    "score = cross_val_score(catboost_model, X_train_resampled, y_train_resampled, cv=3, scoring='accuracy')\n",
    "# Обучение модели на обучающих данных\n",
    "catboost_model.fit(X_train_resampled, y_train_resampled)\n",
    "\n",
    "# Предсказание на тестовой выборке\n",
    "predictions = catboost_model.predict(X_test)"
   ]
  },
  {
   "cell_type": "code",
   "execution_count": 89,
   "id": "31f53c4b-cec4-401c-b2c0-7de7df548ed7",
   "metadata": {},
   "outputs": [
    {
     "name": "stdout",
     "output_type": "stream",
     "text": [
      "0.8283132530120482\n"
     ]
    }
   ],
   "source": [
    "score = max(score)\n",
    "print(score)"
   ]
  },
  {
   "cell_type": "markdown",
   "id": "3ce0b427-be58-40a3-a926-1cdc4befc4ec",
   "metadata": {},
   "source": [
    "- Лучшая метрика accuracy на кросс-валидации: 0.8283"
   ]
  },
  {
   "cell_type": "code",
   "execution_count": 90,
   "id": "4d2c44f2-9e1a-45db-9902-0fc1985ca6c1",
   "metadata": {},
   "outputs": [],
   "source": [
    "mdl.append(\"CatBoostClassifier\")\n",
    "acc_score.append(score)"
   ]
  },
  {
   "cell_type": "code",
   "execution_count": 91,
   "id": "e387cb0b-138d-48f9-8c03-530a58a37374",
   "metadata": {},
   "outputs": [],
   "source": [
    "# Преобразуем preds в одномерный массив\n",
    "preds = predictions.flatten()\n",
    "\n",
    "# Создаем объект Series\n",
    "preds = pd.Series(preds, dtype='string')"
   ]
  },
  {
   "cell_type": "code",
   "execution_count": 92,
   "id": "e2b5e78a-7aef-4180-ae55-a789b9685f7c",
   "metadata": {},
   "outputs": [
    {
     "data": {
      "text/plain": [
       "Довольно важное         222\n",
       "Совершенно не важное    144\n",
       "Не очень важное         107\n",
       "Затрудняюсь ответить     60\n",
       "Очень важное             27\n",
       "Name: count, dtype: Int64"
      ]
     },
     "execution_count": 92,
     "metadata": {},
     "output_type": "execute_result"
    }
   ],
   "source": [
    "preds.value_counts()"
   ]
  },
  {
   "cell_type": "code",
   "execution_count": 93,
   "id": "39a0aa87-8405-42ad-b292-9f845effea36",
   "metadata": {},
   "outputs": [
    {
     "data": {
      "image/png": "[encoded data removed]",
      "text/plain": [
       "<Figure size 1000x600 with 1 Axes>"
      ]
     },
     "metadata": {},
     "output_type": "display_data"
    }
   ],
   "source": [
    "# Построение гистограммы\n",
    "plt.figure(figsize=(10, 6))\n",
    "sns.histplot(preds, bins=20, kde=True)\n",
    "plt.xlabel('Предсказанные значения')\n",
    "plt.ylabel('Частота')\n",
    "plt.title('Гистограмма предсказанных значений модели')\n",
    "plt.xticks(rotation = 25)\n",
    "plt.show()"
   ]
  },
  {
   "cell_type": "markdown",
   "id": "bfcaaaa7-26c5-4638-8cc7-4b25af3e6f77",
   "metadata": {},
   "source": [
    "**Для 40% людей, не ответивших на этот вопрос религия имеет довольно важное значение. Для 25% совершенно не важное и для 19% имеет не очень важное значение и для 15% совершенно не важное**"
   ]
  },
  {
   "cell_type": "markdown",
   "id": "fd98da31-a8b9-4360-b70a-8abae13bd7a6",
   "metadata": {},
   "source": [
    "### Создадим таблицу с моделями и значениями их метрик"
   ]
  },
  {
   "cell_type": "code",
   "execution_count": 94,
   "id": "be6ab3fb-22a4-4bf5-a785-651d624bbb05",
   "metadata": {},
   "outputs": [
    {
     "data": {
      "text/html": [
       "<div>\n",
       "<style scoped>\n",
       "    .dataframe tbody tr th:only-of-type {\n",
       "        vertical-align: middle;\n",
       "    }\n",
       "\n",
       "    .dataframe tbody tr th {\n",
       "        vertical-align: top;\n",
       "    }\n",
       "\n",
       "    .dataframe thead th {\n",
       "        text-align: right;\n",
       "    }\n",
       "</style>\n",
       "<table border=\"1\" class=\"dataframe\">\n",
       "  <thead>\n",
       "    <tr style=\"text-align: right;\">\n",
       "      <th></th>\n",
       "      <th>model</th>\n",
       "      <th>accuracy</th>\n",
       "    </tr>\n",
       "  </thead>\n",
       "  <tbody>\n",
       "    <tr>\n",
       "      <th>0</th>\n",
       "      <td>KNeighborsClassifier</td>\n",
       "      <td>0.558558</td>\n",
       "    </tr>\n",
       "    <tr>\n",
       "      <th>1</th>\n",
       "      <td>RandomForestClassifier</td>\n",
       "      <td>0.770916</td>\n",
       "    </tr>\n",
       "    <tr>\n",
       "      <th>2</th>\n",
       "      <td>CatBoostClassifier</td>\n",
       "      <td>0.828313</td>\n",
       "    </tr>\n",
       "  </tbody>\n",
       "</table>\n",
       "</div>"
      ],
      "text/plain": [
       "                    model  accuracy\n",
       "0    KNeighborsClassifier  0.558558\n",
       "1  RandomForestClassifier  0.770916\n",
       "2      CatBoostClassifier  0.828313"
      ]
     },
     "execution_count": 94,
     "metadata": {},
     "output_type": "execute_result"
    }
   ],
   "source": [
    "table = pd.DataFrame({\n",
    "    'model': mdl,\n",
    "    'accuracy': acc_score\n",
    "})\n",
    "\n",
    "table"
   ]
  },
  {
   "cell_type": "markdown",
   "id": "875c0183-0635-4b01-976d-ddea365983ce",
   "metadata": {},
   "source": [
    "- лучшая модель - **CatBoostClassifier.** Она прилично лучше по качеству чем предыдущие модели, значит, будем руководствоваться её предсказаниями."
   ]
  },
  {
   "cell_type": "markdown",
   "id": "71910223-51ea-4ef9-91b1-fb6adcb93db2",
   "metadata": {},
   "source": [
    "<div style=\"border:solid Chocolate 2px; padding: 40px\">\n",
    "\n",
    "\n",
    "<h2> 4️⃣Вывод по предсказаниям пропущенных ответов в вопросе \"D9\" <a class=\"tocSkip\"> </h2> \n",
    "    \n",
    "    \n",
    "- 1️⃣ Для предсказаний на закодированных данных через OneHotEncoder и OrdinalEncoder переберали несколько моделей и гиперпараметры для них через GridSearchCV. Лучшая модель - KNeighborsClassifier, accuracy - 0.558558.\n",
    "- 2️⃣ Для предсказаний на закодированных данных через TfidfVectorizer использовали модель - RandomForestClassifier и подбирали гиперпараметры для неё через RandomizedSearchCV. Лучшее значение метрики accuracy на кросс-валидации - 0.770916.\n",
    "- 3️⃣ Второй способ для предсказаний на закодированных данных через TfidfVectorizer была модель градиентного бустинга - CatBoostClassifier. Для неё поставили фиксированные гиперпараметры. Лучшее значение метрики accuracy на кросс-валидации - 0.828313      \n",
    "\n",
    "<h2> ‼️Заключение <a class=\"tocSkip\"> </h2> \n",
    "- лучшая модель - CatBoostClassifier. Она прилично лучше по качеству чем предыдущие модели, значит, будем руководствоваться её предсказаниями.\n",
    "- Для 40% людей, не ответивших на этот вопрос религия имеет довольно важное значение. Для 25% совершенно не важное и для 19% имеет не очень важное значение и для 15% совершенно не важное"
   ]
  },
  {
   "cell_type": "markdown",
   "id": "50af80fe-130b-4fc6-9393-edaecaab5642",
   "metadata": {},
   "source": [
    "****"
   ]
  },
  {
   "cell_type": "markdown",
   "id": "1e575c48-8944-47ce-91fd-636c59298c19",
   "metadata": {},
   "source": [
    "****"
   ]
  },
  {
   "cell_type": "markdown",
   "id": "67ffa16e-cbc6-4ff3-b1a6-0fa1add6b874",
   "metadata": {},
   "source": [
    "<div style=\"border:solid Chocolate 2px; padding: 40px\">\n",
    "\n",
    "---\n",
    "\n",
    "<h1>☝ Общий вывод по проекту</h1> \n",
    "\n",
    "---\n",
    "\n",
    "<h2 style=\"color:#ff6347;\">1️⃣ Демографический анализ:</h2> \n",
    "    \n",
    "**Проведенный анализ демографических данных позволил выявить следующие важные моменты:**\n",
    "\n",
    "- Самые многочисленные группы опрошенных представлены из следующих городов: Москва, Санкт-Петербург, Республика Дагестан, Ставропольский край и Ростовская область. Это говорит о широком географическом охвате и разнообразии представленных регионов.\n",
    "- Анализ возраста показал, что респонденты из Ставропольского края оказались самыми возрастными, с медианным возрастом женщин в 50 лет и мужчин в 47 лет. Это может указывать на более стабильные и зрелые возрастные группы в этом регионе.\n",
    "- В опросе участвовало больше женщин, чем мужчин. Это может быть связано с их большей готовностью к участию в подобного рода исследованиях, а также более высокой социальной активностью.\n",
    "- Отмечается, что 38.4% опрошенных имеют среднее специальное образование, что является наиболее распространенным уровнем образования среди респондентов. В то же время всего 2 человека из выборки окончили аспирантуру.\n",
    "\n",
    "---\n",
    "\n",
    "<h3 style=\"color:#008080;\">🔍 Выводы</h3>\n",
    "Демографический анализ позволил нам лучше понять характеристики опрошенной аудитории. Мы выяснили, что участники из различных регионов России приняли участие в исследовании, что свидетельствует о его широком охвате. Также выяснилось, что большинство опрошенных имеют среднее специальное образование, но аспирантуру закончили лишь единицы.    \n",
    "\n",
    "Самые возрастные респонденты приходятся на Ставропольский край, что может указывать на специфику данного региона. Более того, большее число женщин в опросе может говорить о более высокой активности в подобных исследованиях.     \n",
    "\n",
    "Эти результаты позволяют сделать вывод о том, что исследование позволило получить представление о разнообразии и географическом распределении опрошенных, их уровне образования и характеристиках по возрасту. Эта информация может быть полезной для дальнейшего анализа и разработки рекомендаций.    \n",
    "\n",
    "---"
   ]
  },
  {
   "cell_type": "markdown",
   "id": "bf932f74-ee4d-426d-b357-163118119dff",
   "metadata": {},
   "source": [
    "<div style=\"border:solid Chocolate 2px; padding: 40px\">\n",
    "\n",
    "---\n",
    "\n",
    "<h2 style=\"color:#ff6347;\">2️⃣ Кластеризация респондентов</h2>\n",
    "Проведенная кластеризация позволила разделить респондентов на три основных кластера с разными характеристиками и готовностью к совместным действиям:\n",
    "\n",
    "<h4 style=\"color:#4682b4;\">🕐 Кластер №1: Готовность к объединению</h4>\n",
    "Этот кластер включает в себя 448 человек, которые скорее и безусловно готовы объединяться с другими для совместных действий. Однако, в их окружении преобладает большое количество несогласий и разобщенности. Это может указывать на то, что, хотя они готовы к сотрудничеству, внешние факторы создают определенные препятствия.\n",
    "\n",
    "<h4 style=\"color:#4682b4;\">🕑 Кластер №2: Преобладание согласия</h4>\n",
    "В этот кластер входят 1190 человек, среди которых преобладает согласие в окружении. Они также готовы объединяться с другими для совместных действий. Этот кластер может представлять собой более гармоничное и сплоченное сообщество, готовое к сотрудничеству.\n",
    "\n",
    "<h4 style=\"color:#4682b4;\">🕒 Кластер №3: Согласие и сплоченность</h4>\n",
    "Кластер №3 включает 364 человека, среди которых преобладает скорее согласие и сплоченность. Однако, они всё же скорее не готовы объединяться с другими для совместных действий. Этот кластер может быть интересным, поскольку люди в нем выглядят более сплоченными, но не проявляют высокой готовности к активному сотрудничеству.\n",
    "\n",
    "<h3 style=\"color:#008080;\">🔍 Выводы</h3>\n",
    "На основе кластерного анализа можно сделать следующие выводы:\n",
    "\n",
    "- Большинство респондентов, более 50%, живут в сплоченном обществе и готовы объединяться с другими для совместных действий. Это указывает на высокий уровень социальной активности и открытости к сотрудничеству.\n",
    "- Около 25% опрошенных можно охарактеризовать как инициативныx людей, которые не живут в сплоченном обществе, но готовы объединяться с другими для дальнейшего сотрудничества.\n",
    "- Оставшиеся 25% скорее всего являются интровертами и стеснительными личностями, которые живут в сплоченном обществе, но не проявляют высокой инициативы в сотрудничестве с другими.\n",
    "\n",
    "Таким образом, кластерный анализ помог нам лучше понять социальную структуру и готовность к сотрудничеству опрошенной аудитории. Эти выводы могут быть полезны при разработке стратегий социального взаимодействия и инициатив, направленных на развитие сообщества и улучшение качества жизни его членов.\n",
    "\n",
    "---"
   ]
  },
  {
   "cell_type": "markdown",
   "id": "24126edb-91d6-43d4-b869-666b747494fc",
   "metadata": {},
   "source": [
    "<div style=\"border:solid Chocolate 2px; padding: 40px\">\n",
    "\n",
    "---\n",
    "\n",
    "<h2 style=\"color:#ff6347;\">3️⃣ Информированность об организациях</h2>\n",
    "Из анализа данных об информированности респондентов об организациях можно выделить следующие ключевые моменты:\n",
    "\n",
    "<h4 style=\"color:#4682b4;\">🧠 Информированность о различных организациях:</h4>\n",
    "\n",
    "- Садовые и дачные товарищества и Профсоюзы: Почти в 40% случаев опрошенные знают о существовании таких организаций. Это может указывать на значительный уровень информированности организациях, способствующих обеспечению личных интересов и социальных прав.\n",
    "- Общество инвалидов и Политические партии: Примерно 30% опрошенных знают об этих организациях. Эти данные могут свидетельствовать о некоторой осведомленности о социальных и политических структурах, влияющих на общественную жизнь.\n",
    "- Источники информации: Почти в 50% случаев опрошенные узнают о различных организациях от других людей. Это говорит о значительной роли устного передачи информации и социальной сети в распространении знаний.\n",
    "- Интернет и другие ресурсы: В 25% случаев опрошенные получают информацию об организациях из материалов в интернете, социальных сетях, а также из наружной рекламы, баннеров на улице, газет и радио. Это отражает важность современных информационных технологий и медиа-ресурсов в распространении информации.\n",
    "\n",
    "<h3 style=\"color:#008080;\">🔍 Выводы</h3>\n",
    "Итак, анализ информированности об организациях позволяет сделать следующие выводы:    \n",
    "\n",
    "- Высокий уровень осведомленности: Почти половина опрошенных имеют представление о различных организациях, что свидетельствует о широком круге интересов и вовлеченности в социальную жизнь.\n",
    "- Роль межличностных связей: Около половины опрошенных получают информацию о организациях от других людей. Это подчеркивает важность коммуникации и обмена знаниями в формировании представлений о социальных структурах.\n",
    "- Значение информационных технологий: Интернет и другие медиа-ресурсы играют существенную роль в распространении информации об организациях, что подчеркивает необходимость уделять внимание цифровым каналам коммуникации.\n",
    "\n",
    "Таким образом, наличие информированности об организациях среди респондентов указывает на активный уровень гражданской активности и интереса к общественным и социальным вопросам. Эти данные могут быть важными при формировании стратегий информационной политики организаций и государственных институтов, а также при разработке программ образования и социальной поддержки.\n",
    "\n",
    "---"
   ]
  },
  {
   "cell_type": "markdown",
   "id": "6ce04263-c2ef-4f87-b6aa-28a3e4272353",
   "metadata": {},
   "source": [
    "<div style=\"border:solid Chocolate 2px; padding: 40px\">\n",
    "\n",
    "---\n",
    "\n",
    "<h2 style=\"color:#ff6347;\">4️⃣ Анализ предсказания пропущенных ответов о роли религии в жизни</h2>\n",
    "После проведения машинного обучения для предсказания пропущенных ответов на вопрос о роли религии в жизни респондентов были получены следующие результаты:\n",
    "\n",
    "<h4 style=\"color:#4682b4;\">🔮 Предсказания с использованием машинного обучения:</h4>\n",
    "\n",
    "- Модель KNeighborsClassifier: При использовании OneHotEncoder и OrdinalEncoder для предсказаний на закодированных данных получили accuracy 0.558558 после подбора гиперпараметров через GridSearchCV.\n",
    "- Модель RandomForestClassifier: Используя TfidfVectorizer для предсказаний на закодированных данных, получили лучшее значение метрики accuracy на кросс-валидации - 0.770916 после подбора гиперпараметров через RandomizedSearchCV.\n",
    "- Модель CatBoostClassifier: Для предсказаний на закодированных данных через TfidfVectorizer была использована модель градиентного бустинга. Лучшее значение метрики accuracy на кросс-валидации составило 0.828313.\n",
    "\n",
    "<h3 style=\"color:#008080;\">🔍 Выводы:</h3>\n",
    "После проведения анализа результатов машинного обучения для предсказания пропущенных ответов о роли религии в жизни респондентов можно сделать следующие выводы:      \n",
    "\n",
    "- Лучшая модель - CatBoostClassifier: С уверенностью можно сказать, что модель CatBoostClassifier, демонстрирующая метрику accuracy на уровне 0.828313, является наиболее точной и эффективной для предсказания роли религии в жизни опрошенных. Благодаря её использованию мы можем получить наиболее достоверные результаты.      \n",
    "- Значимость религии в жизни респондентов: Для 40% людей, которые не ответили на данный вопрос, религия имеет довольно важное значение. Однако, для 25% опрошенных она совершенно не важна, для 19% имеет не очень важное значение, а для 15% вообще совершенно не играет роли.\n",
    "     \n",
    "Таким образом, результаты машинного обучения позволяют нам лучше понять важность религиозных убеждений в жизни нашей аудитории и принимать более обоснованные решения при анализе данных и разработке стратегий.\n",
    "\n",
    "---"
   ]
  },
  {
   "cell_type": "markdown",
   "id": "a6630fc7-0693-42da-90d0-a713324e4058",
   "metadata": {},
   "source": [
    "<div style=\"background-color:#f7f7f7; padding:20px; border: 2px solid #008080; border-radius: 5px;\">\n",
    "    <center>\n",
    "        <h1 style=\"color:#008080;\">🦄 Итоговое заключение</h1>\n",
    "    </center>\n",
    "    <hr style=\"border-top: 2px solid #008080;\">\n",
    "    <p style=\"font-size:16px;\">Проведенное исследование обладает значительной ценностью, предоставляя множество данных о респондентах. Демографический анализ позволил получить обширное представление о географическом и образовательном разнообразии участников исследования, подчеркивая его широкий охват. Кластерный анализ выявил различные социальные типы личностей, что дает базу для индивидуального подхода в планировании взаимодействия с ними. Информированность об организациях выявила значимость межличностных связей и цифровых платформ в распространении информации. Кроме того, модель машинного обучения эффективно предсказала роль религии в жизни опрошенных. Общий вывод подчеркивает важность проведенного исследования для разработки целенаправленных программ социального взаимодействия и образовательных инициатив, которые учитывают разнообразие и специфику потребностей аудитории. Полученные результаты могут служить основой для развития эффективных стратегий, направленных на улучшение качества жизни и социальной активности общества.</p>\n",
    "</div>\n"
   ]
  }
 ],
 "metadata": {
  "kernelspec": {
   "display_name": "Python 3 (ipykernel)",
   "language": "python",
   "name": "python3"
  },
  "language_info": {
   "codemirror_mode": {
    "name": "ipython",
    "version": 3
   },
   "file_extension": ".py",
   "mimetype": "text/x-python",
   "name": "python",
   "nbconvert_exporter": "python",
   "pygments_lexer": "ipython3",
   "version": "3.11.4"
  }
 },
 "nbformat": 4,
 "nbformat_minor": 5
}
