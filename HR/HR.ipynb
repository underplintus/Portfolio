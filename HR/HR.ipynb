{
 "cells": [
  {
   "cell_type": "markdown",
   "id": "3630ca2e-980c-43bb-91a6-cde6129a4073",
   "metadata": {},
   "source": [
    "## Описание проекта"
   ]
  },
  {
   "cell_type": "markdown",
   "id": "19996fa9-8fd2-4dad-a6d4-97df0d4170d0",
   "metadata": {},
   "source": [
    "HR-аналитики компании «Работа с заботой» помогают бизнесу оптимизировать управление персоналом: бизнес предоставляет данные, а аналитики предлагают, как избежать финансовых потерь и оттока сотрудников. В этом HR-аналитикам пригодится машинное обучение, с помощью которого получится быстрее и точнее отвечать на вопросы бизнеса.\n",
    "Компания предоставила данные с характеристиками сотрудников компании. Среди них — уровень удовлетворённости сотрудника работой в компании. Эту информацию получили из форм обратной связи: сотрудники заполняют тест-опросник, и по его результатам рассчитывается доля их удовлетворённости от 0 до 1, где 0 — совершенно неудовлетворён, 1 — полностью удовлетворён. \n",
    "Собирать данные такими опросниками не так легко: компания большая, и всех сотрудников надо сначала оповестить об опросе, а затем проследить, что все его прошли. "
   ]
  },
  {
   "cell_type": "markdown",
   "id": "a5889460-3182-4aaf-a0d8-d15dbb6b0353",
   "metadata": {},
   "source": [
    "Чтобы помочь HR аналитикам построим 2 модели: \n",
    "- Первая - модель, которая сможет предсказать уровень удовлетворённости сотрудника на основе данных заказчика.\n",
    "- вторая — модель, которая сможет на основе данных заказчика предсказать то, что сотрудник уволится из компании."
   ]
  },
  {
   "cell_type": "markdown",
   "id": "b0628097-063b-4b3d-b534-fbe727ae4bb6",
   "metadata": {},
   "source": [
    "## Задача 1: предсказание уровня удовлетворённости сотрудника"
   ]
  },
  {
   "cell_type": "markdown",
   "id": "52118a6d-c181-4a5d-80ab-dce8bc51baf0",
   "metadata": {},
   "source": [
    "## Описание данных"
   ]
  },
  {
   "cell_type": "markdown",
   "id": "09b7ac4a-20e9-4342-8f1e-a815cda50992",
   "metadata": {},
   "source": [
    "- id — уникальный идентификатор сотрудника;\n",
    "- dept — отдел, в котором работает сотрудник;\n",
    "- level — уровень занимаемой должности;\n",
    "- workload — уровень загруженности сотрудника;\n",
    "- employment_years — длительность работы в компании (в годах);\n",
    "- last_year_promo — показывает, было ли повышение за последний год;\n",
    "- last_year_violations — показывает, нарушал ли сотрудник трудовой договор за последний год;\n",
    "- supervisor_evaluation — оценка качества работы сотрудника, которую дал руководитель;\n",
    "- salary — ежемесячная зарплата сотрудника;\n",
    "- job_satisfaction_rate — уровень удовлетворённости сотрудника работой в компании, **целевой признак.**"
   ]
  },
  {
   "cell_type": "markdown",
   "id": "65be477a-b171-4070-8e9b-68df56f4d88d",
   "metadata": {},
   "source": [
    "## Загрузка данных"
   ]
  },
  {
   "cell_type": "code",
   "execution_count": 1,
   "id": "43b44888-d2c0-477d-ab70-a40c1c51c9a6",
   "metadata": {},
   "outputs": [],
   "source": [
    "!pip install -U scikit-learn -q"
   ]
  },
  {
   "cell_type": "code",
   "execution_count": 2,
   "id": "9151af9a-d02c-42af-9fda-ad3f462a8bf7",
   "metadata": {},
   "outputs": [],
   "source": [
    "!pip install yellowbrick -q"
   ]
  },
  {
   "cell_type": "code",
   "execution_count": 3,
   "id": "868f341c-108d-4268-90c2-261c3a8baa66",
   "metadata": {},
   "outputs": [],
   "source": [
    "!pip install shap -q"
   ]
  },
  {
   "cell_type": "code",
   "execution_count": 4,
   "id": "6b30ce1a",
   "metadata": {},
   "outputs": [],
   "source": [
    "!pip install phik -q"
   ]
  },
  {
   "cell_type": "code",
   "execution_count": 5,
   "id": "f67d9203-3fea-40f4-9fe4-06cd9a51d9e5",
   "metadata": {},
   "outputs": [],
   "source": [
    "import warnings\n",
    "\n",
    "warnings.filterwarnings('ignore')"
   ]
  },
  {
   "cell_type": "code",
   "execution_count": 6,
   "id": "856ed5c3-9562-44c6-a913-c10e7df3fb4b",
   "metadata": {},
   "outputs": [
    {
     "name": "stdout",
     "output_type": "stream",
     "text": [
      "1.4.0\n"
     ]
    }
   ],
   "source": [
    "import sklearn\n",
    "print(sklearn.__version__)"
   ]
  },
  {
   "cell_type": "code",
   "execution_count": 7,
   "id": "7820936e-7263-46ee-9a2e-d3ce6982c4b7",
   "metadata": {},
   "outputs": [],
   "source": [
    "# библиотеки\n",
    "import phik\n",
    "import shap\n",
    "import pandas as pd\n",
    "import seaborn as sns\n",
    "import matplotlib.pyplot as plt\n",
    "from scipy import stats as st\n",
    "import numpy as np\n",
    "\n",
    "from sklearn.preprocessing import (\n",
    "    StandardScaler,\n",
    "    MinMaxScaler,\n",
    "    RobustScaler,\n",
    "    OneHotEncoder,\n",
    "    OrdinalEncoder,\n",
    "    LabelEncoder\n",
    ")\n",
    "\n",
    "from sklearn.metrics import (\n",
    "    recall_score,\n",
    "    accuracy_score,\n",
    "    precision_score,\n",
    "    f1_score,\n",
    "    fbeta_score,\n",
    "    roc_curve,\n",
    "    RocCurveDisplay,\n",
    "    roc_auc_score,\n",
    "    ConfusionMatrixDisplay,\n",
    "    make_scorer\n",
    ")\n",
    "from yellowbrick.classifier.rocauc import roc_auc\n",
    "\n",
    "from sklearn.model_selection import train_test_split\n",
    "from sklearn.model_selection import RandomizedSearchCV\n",
    "from sklearn.model_selection import GridSearchCV\n",
    "from sklearn.linear_model import LinearRegression\n",
    "from sklearn.linear_model import LogisticRegression\n",
    "from sklearn.neighbors import KNeighborsClassifier\n",
    "from sklearn.tree import DecisionTreeClassifier\n",
    "from sklearn.tree import DecisionTreeRegressor\n",
    "\n",
    "from sklearn import svm\n",
    "from sklearn.svm import SVC\n",
    "\n",
    "from sklearn.pipeline import Pipeline\n",
    "from sklearn.compose import ColumnTransformer\n",
    "from sklearn.impute import SimpleImputer\n",
    "from sklearn.datasets import make_classification"
   ]
  },
  {
   "cell_type": "code",
   "execution_count": 8,
   "id": "975b9fd9-9edd-4c86-9dc4-c348a8258410",
   "metadata": {},
   "outputs": [],
   "source": [
    "# данные\n",
    "# Тренировочная выборка:\n",
    "train = pd.read_csv('https://code.s3.yandex.net/datasets/train_job_satisfaction_rate.csv')\n",
    "# Входные признаки тестовой выборки:\n",
    "test = pd.read_csv('https://code.s3.yandex.net/datasets/test_features.csv')\n",
    "# Целевой признак тестовой выборки:\n",
    "target = pd.read_csv('https://code.s3.yandex.net/datasets/test_target_job_satisfaction_rate.csv')"
   ]
  },
  {
   "cell_type": "markdown",
   "id": "be7a3526-5cc9-4281-9163-447625348170",
   "metadata": {},
   "source": [
    "## Предобработка данных"
   ]
  },
  {
   "cell_type": "markdown",
   "id": "f0883914-a78c-4cb3-9763-2c91b652d7bc",
   "metadata": {},
   "source": [
    "### Train"
   ]
  },
  {
   "cell_type": "code",
   "execution_count": 9,
   "id": "71dc7e5b-495f-4b67-94e2-77628f59ca2a",
   "metadata": {
    "scrolled": true
   },
   "outputs": [
    {
     "data": {
      "text/html": [
       "<div>\n",
       "<style scoped>\n",
       "    .dataframe tbody tr th:only-of-type {\n",
       "        vertical-align: middle;\n",
       "    }\n",
       "\n",
       "    .dataframe tbody tr th {\n",
       "        vertical-align: top;\n",
       "    }\n",
       "\n",
       "    .dataframe thead th {\n",
       "        text-align: right;\n",
       "    }\n",
       "</style>\n",
       "<table border=\"1\" class=\"dataframe\">\n",
       "  <thead>\n",
       "    <tr style=\"text-align: right;\">\n",
       "      <th></th>\n",
       "      <th>id</th>\n",
       "      <th>dept</th>\n",
       "      <th>level</th>\n",
       "      <th>workload</th>\n",
       "      <th>employment_years</th>\n",
       "      <th>last_year_promo</th>\n",
       "      <th>last_year_violations</th>\n",
       "      <th>supervisor_evaluation</th>\n",
       "      <th>salary</th>\n",
       "      <th>job_satisfaction_rate</th>\n",
       "    </tr>\n",
       "  </thead>\n",
       "  <tbody>\n",
       "    <tr>\n",
       "      <th>0</th>\n",
       "      <td>155278</td>\n",
       "      <td>sales</td>\n",
       "      <td>junior</td>\n",
       "      <td>medium</td>\n",
       "      <td>2</td>\n",
       "      <td>no</td>\n",
       "      <td>no</td>\n",
       "      <td>1</td>\n",
       "      <td>24000</td>\n",
       "      <td>0.58</td>\n",
       "    </tr>\n",
       "    <tr>\n",
       "      <th>1</th>\n",
       "      <td>653870</td>\n",
       "      <td>hr</td>\n",
       "      <td>junior</td>\n",
       "      <td>high</td>\n",
       "      <td>2</td>\n",
       "      <td>no</td>\n",
       "      <td>no</td>\n",
       "      <td>5</td>\n",
       "      <td>38400</td>\n",
       "      <td>0.76</td>\n",
       "    </tr>\n",
       "    <tr>\n",
       "      <th>2</th>\n",
       "      <td>184592</td>\n",
       "      <td>sales</td>\n",
       "      <td>junior</td>\n",
       "      <td>low</td>\n",
       "      <td>1</td>\n",
       "      <td>no</td>\n",
       "      <td>no</td>\n",
       "      <td>2</td>\n",
       "      <td>12000</td>\n",
       "      <td>0.11</td>\n",
       "    </tr>\n",
       "    <tr>\n",
       "      <th>3</th>\n",
       "      <td>171431</td>\n",
       "      <td>technology</td>\n",
       "      <td>junior</td>\n",
       "      <td>low</td>\n",
       "      <td>4</td>\n",
       "      <td>no</td>\n",
       "      <td>no</td>\n",
       "      <td>2</td>\n",
       "      <td>18000</td>\n",
       "      <td>0.37</td>\n",
       "    </tr>\n",
       "    <tr>\n",
       "      <th>4</th>\n",
       "      <td>693419</td>\n",
       "      <td>hr</td>\n",
       "      <td>junior</td>\n",
       "      <td>medium</td>\n",
       "      <td>1</td>\n",
       "      <td>no</td>\n",
       "      <td>no</td>\n",
       "      <td>3</td>\n",
       "      <td>22800</td>\n",
       "      <td>0.20</td>\n",
       "    </tr>\n",
       "  </tbody>\n",
       "</table>\n",
       "</div>"
      ],
      "text/plain": [
       "       id        dept   level workload  employment_years last_year_promo  \\\n",
       "0  155278       sales  junior   medium                 2              no   \n",
       "1  653870          hr  junior     high                 2              no   \n",
       "2  184592       sales  junior      low                 1              no   \n",
       "3  171431  technology  junior      low                 4              no   \n",
       "4  693419          hr  junior   medium                 1              no   \n",
       "\n",
       "  last_year_violations  supervisor_evaluation  salary  job_satisfaction_rate  \n",
       "0                   no                      1   24000                   0.58  \n",
       "1                   no                      5   38400                   0.76  \n",
       "2                   no                      2   12000                   0.11  \n",
       "3                   no                      2   18000                   0.37  \n",
       "4                   no                      3   22800                   0.20  "
      ]
     },
     "execution_count": 9,
     "metadata": {},
     "output_type": "execute_result"
    }
   ],
   "source": [
    "train.head(5)"
   ]
  },
  {
   "cell_type": "code",
   "execution_count": 10,
   "id": "28c79244-a108-4809-aceb-fca9dca77258",
   "metadata": {},
   "outputs": [
    {
     "data": {
      "text/plain": [
       "(4000, 10)"
      ]
     },
     "execution_count": 10,
     "metadata": {},
     "output_type": "execute_result"
    }
   ],
   "source": [
    "train.shape"
   ]
  },
  {
   "cell_type": "code",
   "execution_count": 11,
   "id": "84fd0f7e-3c0d-4eb6-8101-dd821880b6a4",
   "metadata": {},
   "outputs": [
    {
     "name": "stdout",
     "output_type": "stream",
     "text": [
      "<class 'pandas.core.frame.DataFrame'>\n",
      "RangeIndex: 4000 entries, 0 to 3999\n",
      "Data columns (total 10 columns):\n",
      " #   Column                 Non-Null Count  Dtype  \n",
      "---  ------                 --------------  -----  \n",
      " 0   id                     4000 non-null   int64  \n",
      " 1   dept                   3994 non-null   object \n",
      " 2   level                  3996 non-null   object \n",
      " 3   workload               4000 non-null   object \n",
      " 4   employment_years       4000 non-null   int64  \n",
      " 5   last_year_promo        4000 non-null   object \n",
      " 6   last_year_violations   4000 non-null   object \n",
      " 7   supervisor_evaluation  4000 non-null   int64  \n",
      " 8   salary                 4000 non-null   int64  \n",
      " 9   job_satisfaction_rate  4000 non-null   float64\n",
      "dtypes: float64(1), int64(4), object(5)\n",
      "memory usage: 312.6+ KB\n"
     ]
    }
   ],
   "source": [
    "train.info()"
   ]
  },
  {
   "cell_type": "code",
   "execution_count": 12,
   "id": "1583b223-50e7-4bcc-a2d1-cdbe13c7bc34",
   "metadata": {},
   "outputs": [
    {
     "data": {
      "text/plain": [
       "id                       0\n",
       "dept                     6\n",
       "level                    4\n",
       "workload                 0\n",
       "employment_years         0\n",
       "last_year_promo          0\n",
       "last_year_violations     0\n",
       "supervisor_evaluation    0\n",
       "salary                   0\n",
       "job_satisfaction_rate    0\n",
       "dtype: int64"
      ]
     },
     "execution_count": 12,
     "metadata": {},
     "output_type": "execute_result"
    }
   ],
   "source": [
    "train.isna().sum()"
   ]
  },
  {
   "cell_type": "code",
   "execution_count": 13,
   "id": "e9861ca3-335b-4559-af01-37621176c630",
   "metadata": {},
   "outputs": [
    {
     "data": {
      "text/plain": [
       "0"
      ]
     },
     "execution_count": 13,
     "metadata": {},
     "output_type": "execute_result"
    }
   ],
   "source": [
    "train.duplicated().sum()"
   ]
  },
  {
   "cell_type": "code",
   "execution_count": 14,
   "id": "4decd512-6cad-45ea-95cf-696fddc54898",
   "metadata": {},
   "outputs": [],
   "source": [
    "# создадим функцию для проверки неявных дубликатов\n",
    "def uniq(data):\n",
    "    x = data.select_dtypes(include='object').columns.tolist()\n",
    "    for i in x:\n",
    "        print(i)\n",
    "        print(data[i].unique())\n",
    "        print(data[i].nunique())\n",
    "        print()"
   ]
  },
  {
   "cell_type": "code",
   "execution_count": 15,
   "id": "fa1487e5-827b-4fd1-a8a7-187197d09105",
   "metadata": {
    "scrolled": true
   },
   "outputs": [
    {
     "name": "stdout",
     "output_type": "stream",
     "text": [
      "dept\n",
      "['sales' 'hr' 'technology' 'purchasing' 'marketing' nan]\n",
      "5\n",
      "\n",
      "level\n",
      "['junior' 'middle' 'sinior' nan]\n",
      "3\n",
      "\n",
      "workload\n",
      "['medium' 'high' 'low']\n",
      "3\n",
      "\n",
      "last_year_promo\n",
      "['no' 'yes']\n",
      "2\n",
      "\n",
      "last_year_violations\n",
      "['no' 'yes']\n",
      "2\n",
      "\n"
     ]
    }
   ],
   "source": [
    "uniq(train)"
   ]
  },
  {
   "cell_type": "markdown",
   "id": "22db6662-bbcc-4131-b633-8eeb3987b8de",
   "metadata": {},
   "source": [
    "- явных и неявных дубликтов нет, есть только пропуски. Посмотрим на тестовую выборку и потом удалим пропуски через пайплайн."
   ]
  },
  {
   "cell_type": "markdown",
   "id": "29841bbb-be5d-49ee-9733-1025e7ffcaad",
   "metadata": {},
   "source": [
    "### Test"
   ]
  },
  {
   "cell_type": "code",
   "execution_count": 16,
   "id": "06f523b2-7a73-4f81-9425-492f95137930",
   "metadata": {},
   "outputs": [
    {
     "data": {
      "text/html": [
       "<div>\n",
       "<style scoped>\n",
       "    .dataframe tbody tr th:only-of-type {\n",
       "        vertical-align: middle;\n",
       "    }\n",
       "\n",
       "    .dataframe tbody tr th {\n",
       "        vertical-align: top;\n",
       "    }\n",
       "\n",
       "    .dataframe thead th {\n",
       "        text-align: right;\n",
       "    }\n",
       "</style>\n",
       "<table border=\"1\" class=\"dataframe\">\n",
       "  <thead>\n",
       "    <tr style=\"text-align: right;\">\n",
       "      <th></th>\n",
       "      <th>id</th>\n",
       "      <th>dept</th>\n",
       "      <th>level</th>\n",
       "      <th>workload</th>\n",
       "      <th>employment_years</th>\n",
       "      <th>last_year_promo</th>\n",
       "      <th>last_year_violations</th>\n",
       "      <th>supervisor_evaluation</th>\n",
       "      <th>salary</th>\n",
       "    </tr>\n",
       "  </thead>\n",
       "  <tbody>\n",
       "    <tr>\n",
       "      <th>0</th>\n",
       "      <td>485046</td>\n",
       "      <td>marketing</td>\n",
       "      <td>junior</td>\n",
       "      <td>medium</td>\n",
       "      <td>2</td>\n",
       "      <td>no</td>\n",
       "      <td>no</td>\n",
       "      <td>5</td>\n",
       "      <td>28800</td>\n",
       "    </tr>\n",
       "    <tr>\n",
       "      <th>1</th>\n",
       "      <td>686555</td>\n",
       "      <td>hr</td>\n",
       "      <td>junior</td>\n",
       "      <td>medium</td>\n",
       "      <td>1</td>\n",
       "      <td>no</td>\n",
       "      <td>no</td>\n",
       "      <td>4</td>\n",
       "      <td>30000</td>\n",
       "    </tr>\n",
       "    <tr>\n",
       "      <th>2</th>\n",
       "      <td>467458</td>\n",
       "      <td>sales</td>\n",
       "      <td>middle</td>\n",
       "      <td>low</td>\n",
       "      <td>5</td>\n",
       "      <td>no</td>\n",
       "      <td>no</td>\n",
       "      <td>4</td>\n",
       "      <td>19200</td>\n",
       "    </tr>\n",
       "    <tr>\n",
       "      <th>3</th>\n",
       "      <td>418655</td>\n",
       "      <td>sales</td>\n",
       "      <td>middle</td>\n",
       "      <td>low</td>\n",
       "      <td>6</td>\n",
       "      <td>no</td>\n",
       "      <td>no</td>\n",
       "      <td>4</td>\n",
       "      <td>19200</td>\n",
       "    </tr>\n",
       "    <tr>\n",
       "      <th>4</th>\n",
       "      <td>789145</td>\n",
       "      <td>hr</td>\n",
       "      <td>middle</td>\n",
       "      <td>medium</td>\n",
       "      <td>5</td>\n",
       "      <td>no</td>\n",
       "      <td>no</td>\n",
       "      <td>5</td>\n",
       "      <td>40800</td>\n",
       "    </tr>\n",
       "  </tbody>\n",
       "</table>\n",
       "</div>"
      ],
      "text/plain": [
       "       id       dept   level workload  employment_years last_year_promo  \\\n",
       "0  485046  marketing  junior   medium                 2              no   \n",
       "1  686555         hr  junior   medium                 1              no   \n",
       "2  467458      sales  middle      low                 5              no   \n",
       "3  418655      sales  middle      low                 6              no   \n",
       "4  789145         hr  middle   medium                 5              no   \n",
       "\n",
       "  last_year_violations  supervisor_evaluation  salary  \n",
       "0                   no                      5   28800  \n",
       "1                   no                      4   30000  \n",
       "2                   no                      4   19200  \n",
       "3                   no                      4   19200  \n",
       "4                   no                      5   40800  "
      ]
     },
     "execution_count": 16,
     "metadata": {},
     "output_type": "execute_result"
    }
   ],
   "source": [
    "test.head(5)"
   ]
  },
  {
   "cell_type": "code",
   "execution_count": 17,
   "id": "d09dd97d",
   "metadata": {},
   "outputs": [
    {
     "name": "stdout",
     "output_type": "stream",
     "text": [
      "<class 'pandas.core.frame.DataFrame'>\n",
      "RangeIndex: 2000 entries, 0 to 1999\n",
      "Data columns (total 9 columns):\n",
      " #   Column                 Non-Null Count  Dtype \n",
      "---  ------                 --------------  ----- \n",
      " 0   id                     2000 non-null   int64 \n",
      " 1   dept                   1998 non-null   object\n",
      " 2   level                  1999 non-null   object\n",
      " 3   workload               2000 non-null   object\n",
      " 4   employment_years       2000 non-null   int64 \n",
      " 5   last_year_promo        2000 non-null   object\n",
      " 6   last_year_violations   2000 non-null   object\n",
      " 7   supervisor_evaluation  2000 non-null   int64 \n",
      " 8   salary                 2000 non-null   int64 \n",
      "dtypes: int64(4), object(5)\n",
      "memory usage: 140.8+ KB\n"
     ]
    }
   ],
   "source": [
    "test.info()"
   ]
  },
  {
   "cell_type": "code",
   "execution_count": 18,
   "id": "15003560-e5d8-436f-93b7-71ee6a12d2d1",
   "metadata": {},
   "outputs": [
    {
     "data": {
      "text/plain": [
       "(2000, 9)"
      ]
     },
     "execution_count": 18,
     "metadata": {},
     "output_type": "execute_result"
    }
   ],
   "source": [
    "test.shape"
   ]
  },
  {
   "cell_type": "code",
   "execution_count": 19,
   "id": "2423ed04-bd65-46c4-a486-1417069e617b",
   "metadata": {},
   "outputs": [
    {
     "data": {
      "text/plain": [
       "id                       0\n",
       "dept                     2\n",
       "level                    1\n",
       "workload                 0\n",
       "employment_years         0\n",
       "last_year_promo          0\n",
       "last_year_violations     0\n",
       "supervisor_evaluation    0\n",
       "salary                   0\n",
       "dtype: int64"
      ]
     },
     "execution_count": 19,
     "metadata": {},
     "output_type": "execute_result"
    }
   ],
   "source": [
    "test.isna().sum()"
   ]
  },
  {
   "cell_type": "code",
   "execution_count": 20,
   "id": "7e31d08a-b34b-4b57-aedb-829511014d54",
   "metadata": {},
   "outputs": [
    {
     "data": {
      "text/plain": [
       "0"
      ]
     },
     "execution_count": 20,
     "metadata": {},
     "output_type": "execute_result"
    }
   ],
   "source": [
    "test.duplicated().sum()"
   ]
  },
  {
   "cell_type": "code",
   "execution_count": 21,
   "id": "0b199b4b-6148-436e-be53-105575184317",
   "metadata": {},
   "outputs": [
    {
     "name": "stdout",
     "output_type": "stream",
     "text": [
      "dept\n",
      "['marketing' 'hr' 'sales' 'purchasing' 'technology' nan ' ']\n",
      "6\n",
      "\n",
      "level\n",
      "['junior' 'middle' 'sinior' nan]\n",
      "3\n",
      "\n",
      "workload\n",
      "['medium' 'low' 'high' ' ']\n",
      "4\n",
      "\n",
      "last_year_promo\n",
      "['no' 'yes']\n",
      "2\n",
      "\n",
      "last_year_violations\n",
      "['no' 'yes']\n",
      "2\n",
      "\n"
     ]
    }
   ],
   "source": [
    "uniq(test)"
   ]
  },
  {
   "cell_type": "markdown",
   "id": "6d9207fb-e10b-4cdf-b11d-67f1e158f7bc",
   "metadata": {},
   "source": [
    "- явных и неявных дубликтов нет, есть только пропуски.\n",
    "- **в итоге пропуски в столбцах: dept, level, workload**"
   ]
  },
  {
   "cell_type": "markdown",
   "id": "a06c40a0-7f8d-45e4-b3df-7129088003b9",
   "metadata": {},
   "source": [
    "### Target"
   ]
  },
  {
   "cell_type": "code",
   "execution_count": 22,
   "id": "66205c9e-128c-428c-9b12-7924046aa8f0",
   "metadata": {
    "scrolled": true
   },
   "outputs": [
    {
     "data": {
      "text/html": [
       "<div>\n",
       "<style scoped>\n",
       "    .dataframe tbody tr th:only-of-type {\n",
       "        vertical-align: middle;\n",
       "    }\n",
       "\n",
       "    .dataframe tbody tr th {\n",
       "        vertical-align: top;\n",
       "    }\n",
       "\n",
       "    .dataframe thead th {\n",
       "        text-align: right;\n",
       "    }\n",
       "</style>\n",
       "<table border=\"1\" class=\"dataframe\">\n",
       "  <thead>\n",
       "    <tr style=\"text-align: right;\">\n",
       "      <th></th>\n",
       "      <th>id</th>\n",
       "      <th>job_satisfaction_rate</th>\n",
       "    </tr>\n",
       "  </thead>\n",
       "  <tbody>\n",
       "    <tr>\n",
       "      <th>0</th>\n",
       "      <td>130604</td>\n",
       "      <td>0.74</td>\n",
       "    </tr>\n",
       "    <tr>\n",
       "      <th>1</th>\n",
       "      <td>825977</td>\n",
       "      <td>0.75</td>\n",
       "    </tr>\n",
       "    <tr>\n",
       "      <th>2</th>\n",
       "      <td>418490</td>\n",
       "      <td>0.60</td>\n",
       "    </tr>\n",
       "    <tr>\n",
       "      <th>3</th>\n",
       "      <td>555320</td>\n",
       "      <td>0.72</td>\n",
       "    </tr>\n",
       "    <tr>\n",
       "      <th>4</th>\n",
       "      <td>826430</td>\n",
       "      <td>0.08</td>\n",
       "    </tr>\n",
       "  </tbody>\n",
       "</table>\n",
       "</div>"
      ],
      "text/plain": [
       "       id  job_satisfaction_rate\n",
       "0  130604                   0.74\n",
       "1  825977                   0.75\n",
       "2  418490                   0.60\n",
       "3  555320                   0.72\n",
       "4  826430                   0.08"
      ]
     },
     "execution_count": 22,
     "metadata": {},
     "output_type": "execute_result"
    }
   ],
   "source": [
    "target.head(5)"
   ]
  },
  {
   "cell_type": "code",
   "execution_count": 23,
   "id": "bf801590",
   "metadata": {},
   "outputs": [
    {
     "name": "stdout",
     "output_type": "stream",
     "text": [
      "<class 'pandas.core.frame.DataFrame'>\n",
      "RangeIndex: 2000 entries, 0 to 1999\n",
      "Data columns (total 2 columns):\n",
      " #   Column                 Non-Null Count  Dtype  \n",
      "---  ------                 --------------  -----  \n",
      " 0   id                     2000 non-null   int64  \n",
      " 1   job_satisfaction_rate  2000 non-null   float64\n",
      "dtypes: float64(1), int64(1)\n",
      "memory usage: 31.4 KB\n"
     ]
    }
   ],
   "source": [
    "target.info()"
   ]
  },
  {
   "cell_type": "code",
   "execution_count": 24,
   "id": "ad68790c-ea60-425d-92cd-33538f46a5b2",
   "metadata": {},
   "outputs": [
    {
     "data": {
      "text/plain": [
       "(2000, 2)"
      ]
     },
     "execution_count": 24,
     "metadata": {},
     "output_type": "execute_result"
    }
   ],
   "source": [
    "target.shape"
   ]
  },
  {
   "cell_type": "code",
   "execution_count": 25,
   "id": "b1e8776b-7f9d-437e-93d1-ac1a220c981b",
   "metadata": {},
   "outputs": [
    {
     "data": {
      "text/plain": [
       "id                       0\n",
       "job_satisfaction_rate    0\n",
       "dtype: int64"
      ]
     },
     "execution_count": 25,
     "metadata": {},
     "output_type": "execute_result"
    }
   ],
   "source": [
    "target.isna().sum()"
   ]
  },
  {
   "cell_type": "code",
   "execution_count": 26,
   "id": "3637cf03-02ec-4670-a26c-502435ca65a0",
   "metadata": {},
   "outputs": [
    {
     "data": {
      "text/plain": [
       "0"
      ]
     },
     "execution_count": 26,
     "metadata": {},
     "output_type": "execute_result"
    }
   ],
   "source": [
    "target.duplicated().sum()"
   ]
  },
  {
   "cell_type": "markdown",
   "id": "cf6ceeb7-8210-4266-8f7e-6094418a03a1",
   "metadata": {},
   "source": [
    "- пропуски и дубликаты отсутствуют"
   ]
  },
  {
   "cell_type": "markdown",
   "id": "3abc9d9a",
   "metadata": {},
   "source": [
    "**Вывод**\n",
    "- явные и неявные дубликаты отсутвуют вданных    \n",
    "- есть пропуски и пустые значения в тестовой и тренировочной выборках в столбцах: dept, level, workload\n",
    "- во всех столбцах правильный тип данных, исправлять ничего не требуется\n",
    "- в тренировочных данных в 2 раза больше строк чем в тестовых"
   ]
  },
  {
   "cell_type": "markdown",
   "id": "bb5aa550-9eb1-43eb-a016-024dafb58542",
   "metadata": {},
   "source": [
    "### Пайплайн для пропусков"
   ]
  },
  {
   "cell_type": "code",
   "execution_count": 27,
   "id": "ec051c8c-5a19-4153-b48c-df01402214ad",
   "metadata": {},
   "outputs": [],
   "source": [
    "test = test.merge(target, on='id', how='right')"
   ]
  },
  {
   "cell_type": "code",
   "execution_count": 28,
   "id": "16ad27c4-717b-4c2d-b7b7-e136f7ceefb6",
   "metadata": {},
   "outputs": [],
   "source": [
    "columns = train.columns"
   ]
  },
  {
   "cell_type": "code",
   "execution_count": 29,
   "id": "af18adfc-4c23-4872-bae6-76e1574561a1",
   "metadata": {},
   "outputs": [],
   "source": [
    "pipe = Pipeline(\n",
    "    [\n",
    "        (\n",
    "            'simpleImputer_1', \n",
    "            SimpleImputer(missing_values=np.nan, strategy = 'most_frequent')\n",
    "        ),\n",
    "        (\n",
    "            'simpleImputer_2', \n",
    "            SimpleImputer(missing_values=' ', strategy = 'most_frequent')\n",
    "        )\n",
    "    ]\n",
    ")"
   ]
  },
  {
   "cell_type": "code",
   "execution_count": 30,
   "id": "b9902be5-3348-4db5-8051-468abf6a2380",
   "metadata": {},
   "outputs": [],
   "source": [
    "data_preprocessor = ColumnTransformer(\n",
    "    [\n",
    "        ('simpleImputer', pipe, columns)\n",
    "    ]\n",
    ")"
   ]
  },
  {
   "cell_type": "code",
   "execution_count": 31,
   "id": "2f46270d-6343-4d5d-b285-2c34724bfa1c",
   "metadata": {},
   "outputs": [],
   "source": [
    "train = pd.DataFrame(data_preprocessor.fit_transform(train), columns = columns)\n",
    "test = pd.DataFrame(data_preprocessor.transform(test), columns = columns)"
   ]
  },
  {
   "cell_type": "markdown",
   "id": "dd62a072-762b-4320-94ae-37452e753fe6",
   "metadata": {},
   "source": [
    "**Избавились от пропусков и прощенных значений**"
   ]
  },
  {
   "cell_type": "markdown",
   "id": "50fd85d5-acef-4bba-a718-fa6b24b81e16",
   "metadata": {},
   "source": [
    "## Исследовательский анализ данных"
   ]
  },
  {
   "cell_type": "code",
   "execution_count": 32,
   "id": "30b61f6f-9e24-4311-9c4d-581aacfa7d11",
   "metadata": {
    "scrolled": true
   },
   "outputs": [
    {
     "data": {
      "image/png": "[encoded data removed]",
      "text/plain": [
       "<Figure size 1000x1000 with 20 Axes>"
      ]
     },
     "metadata": {},
     "output_type": "display_data"
    }
   ],
   "source": [
    "sns.pairplot(train[['employment_years', 'supervisor_evaluation', 'salary', 'job_satisfaction_rate']])\n",
    "plt.show()"
   ]
  },
  {
   "cell_type": "code",
   "execution_count": 33,
   "id": "781f6722-cf2b-4d7f-8165-6a42fe84e0a2",
   "metadata": {},
   "outputs": [
    {
     "data": {
      "image/png": "[encoded data removed]",
      "text/plain": [
       "<Figure size 800x550 with 1 Axes>"
      ]
     },
     "metadata": {},
     "output_type": "display_data"
    }
   ],
   "source": [
    "ax1 = train.query('job_satisfaction_rate > 0.5')['level'].value_counts().plot(kind='pie',\n",
    "        autopct = '%.2f')\n",
    "ax1.set_title('job_satisfaction_rate > 0.5', fontsize = 12)\n",
    "plt.show()"
   ]
  },
  {
   "cell_type": "code",
   "execution_count": 34,
   "id": "32120fa2-852d-48a0-8dcf-0418dc855815",
   "metadata": {},
   "outputs": [
    {
     "data": {
      "image/png": "[encoded data removed]",
      "text/plain": [
       "<Figure size 800x550 with 1 Axes>"
      ]
     },
     "metadata": {},
     "output_type": "display_data"
    }
   ],
   "source": [
    "ax2 = train.query('job_satisfaction_rate < 0.5')['level'].value_counts().plot(kind='pie',\n",
    "        autopct = '%.2f')\n",
    "ax2.set_title('job_satisfaction_rate < 0.5', fontsize = 12)\n",
    "plt.show()"
   ]
  },
  {
   "cell_type": "code",
   "execution_count": 35,
   "id": "cf801d18-49a3-42f6-a44c-9ec424363f6a",
   "metadata": {},
   "outputs": [
    {
     "data": {
      "image/png": "[encoded data removed]",
      "text/plain": [
       "<Figure size 800x550 with 1 Axes>"
      ]
     },
     "metadata": {},
     "output_type": "display_data"
    }
   ],
   "source": [
    "ax = sns.boxplot(y='job_satisfaction_rate', data=train)"
   ]
  },
  {
   "cell_type": "markdown",
   "id": "f67e02ee-878d-42d9-b0fa-a628fd48fb58",
   "metadata": {},
   "source": [
    "**Уровень удовлетворённости в основном лежит в промежутке от 0.4 до 0.7**"
   ]
  },
  {
   "cell_type": "code",
   "execution_count": 36,
   "id": "372f16c9-7fc5-4eaa-a277-43e8b69e2f80",
   "metadata": {
    "scrolled": true
   },
   "outputs": [
    {
     "data": {
      "image/png": "[encoded data removed]",
      "text/plain": [
       "<Figure size 800x550 with 1 Axes>"
      ]
     },
     "metadata": {},
     "output_type": "display_data"
    }
   ],
   "source": [
    "ax = sns.barplot(x='workload', y='job_satisfaction_rate', data=train, palette='Purples')"
   ]
  },
  {
   "cell_type": "markdown",
   "id": "2c4df76c-0c82-4801-b693-13c120fe80d6",
   "metadata": {},
   "source": [
    "**Уровень удовлетворённости среди разной загруженности примерно одинаковый**"
   ]
  },
  {
   "cell_type": "code",
   "execution_count": 37,
   "id": "646628b3-0c85-4fef-b458-f32e474c6ea9",
   "metadata": {},
   "outputs": [
    {
     "data": {
      "image/png": "[encoded data removed]",
      "text/plain": [
       "<Figure size 800x550 with 1 Axes>"
      ]
     },
     "metadata": {},
     "output_type": "display_data"
    }
   ],
   "source": [
    "train.plot(x='job_satisfaction_rate',y='salary', kind='scatter')\n",
    "plt.show()"
   ]
  },
  {
   "cell_type": "markdown",
   "id": "182717f1-b9b9-4527-bc77-51da2faf3c57",
   "metadata": {},
   "source": [
    "**Уровень удовлетворённости слабо зависит от зарплаты**"
   ]
  },
  {
   "cell_type": "code",
   "execution_count": 38,
   "id": "1e8f85c4-0384-426f-971c-dff0e94c8029",
   "metadata": {},
   "outputs": [
    {
     "data": {
      "image/png": "[encoded data removed]",
      "text/plain": [
       "<Figure size 800x550 with 1 Axes>"
      ]
     },
     "metadata": {},
     "output_type": "display_data"
    }
   ],
   "source": [
    "train.plot(x='job_satisfaction_rate', y='supervisor_evaluation', kind='scatter')\n",
    "plt.show()"
   ]
  },
  {
   "cell_type": "markdown",
   "id": "88f06189-3d9a-4827-a0ff-5f1574dfa317",
   "metadata": {},
   "source": [
    "**Уровень удовлетворённости сильно зависит от оценки руководителя**"
   ]
  },
  {
   "cell_type": "code",
   "execution_count": 39,
   "id": "aeb571ea-770f-4d9e-be59-9a62c70cc004",
   "metadata": {},
   "outputs": [
    {
     "data": {
      "image/png": "[encoded data removed]",
      "text/plain": [
       "<Figure size 800x550 with 1 Axes>"
      ]
     },
     "metadata": {},
     "output_type": "display_data"
    }
   ],
   "source": [
    "sns.barplot(x='last_year_violations', y='job_satisfaction_rate', hue='dept', data=train, palette='Purples')\n",
    "plt.show()"
   ]
  },
  {
   "cell_type": "markdown",
   "id": "12ca6586-8c27-423b-84e3-f574d2da34bb",
   "metadata": {},
   "source": [
    "**Примерно половина сотрудников нарушала трудовой договор в прошлом году и сотрудников отдела продаж в этом списке было немного больше**"
   ]
  },
  {
   "cell_type": "code",
   "execution_count": 40,
   "id": "792b0b61",
   "metadata": {},
   "outputs": [],
   "source": [
    "train = train.set_index('id')\n",
    "interval_cols = ['employment_years', 'supervisor_evaluation', 'salary', 'job_satisfaction_rate']"
   ]
  },
  {
   "cell_type": "code",
   "execution_count": 41,
   "id": "fbf944b9",
   "metadata": {
    "scrolled": true
   },
   "outputs": [
    {
     "data": {
      "text/html": [
       "<div>\n",
       "<style scoped>\n",
       "    .dataframe tbody tr th:only-of-type {\n",
       "        vertical-align: middle;\n",
       "    }\n",
       "\n",
       "    .dataframe tbody tr th {\n",
       "        vertical-align: top;\n",
       "    }\n",
       "\n",
       "    .dataframe thead th {\n",
       "        text-align: right;\n",
       "    }\n",
       "</style>\n",
       "<table border=\"1\" class=\"dataframe\">\n",
       "  <thead>\n",
       "    <tr style=\"text-align: right;\">\n",
       "      <th></th>\n",
       "      <th>dept</th>\n",
       "      <th>level</th>\n",
       "      <th>workload</th>\n",
       "      <th>employment_years</th>\n",
       "      <th>last_year_promo</th>\n",
       "      <th>last_year_violations</th>\n",
       "      <th>supervisor_evaluation</th>\n",
       "      <th>salary</th>\n",
       "      <th>job_satisfaction_rate</th>\n",
       "    </tr>\n",
       "  </thead>\n",
       "  <tbody>\n",
       "    <tr>\n",
       "      <th>dept</th>\n",
       "      <td>1.000000</td>\n",
       "      <td>0.000000</td>\n",
       "      <td>0.016542</td>\n",
       "      <td>0.036815</td>\n",
       "      <td>0.000000</td>\n",
       "      <td>0.000000</td>\n",
       "      <td>0.105706</td>\n",
       "      <td>0.282657</td>\n",
       "      <td>0.082659</td>\n",
       "    </tr>\n",
       "    <tr>\n",
       "      <th>level</th>\n",
       "      <td>0.000000</td>\n",
       "      <td>1.000000</td>\n",
       "      <td>0.419591</td>\n",
       "      <td>0.682962</td>\n",
       "      <td>0.101668</td>\n",
       "      <td>0.000000</td>\n",
       "      <td>0.000000</td>\n",
       "      <td>0.717761</td>\n",
       "      <td>0.080753</td>\n",
       "    </tr>\n",
       "    <tr>\n",
       "      <th>workload</th>\n",
       "      <td>0.016542</td>\n",
       "      <td>0.419591</td>\n",
       "      <td>1.000000</td>\n",
       "      <td>0.181941</td>\n",
       "      <td>0.058663</td>\n",
       "      <td>0.000000</td>\n",
       "      <td>0.037023</td>\n",
       "      <td>0.788820</td>\n",
       "      <td>0.056128</td>\n",
       "    </tr>\n",
       "    <tr>\n",
       "      <th>employment_years</th>\n",
       "      <td>0.036815</td>\n",
       "      <td>0.682962</td>\n",
       "      <td>0.181941</td>\n",
       "      <td>1.000000</td>\n",
       "      <td>0.183579</td>\n",
       "      <td>0.056808</td>\n",
       "      <td>0.000000</td>\n",
       "      <td>0.483419</td>\n",
       "      <td>0.325603</td>\n",
       "    </tr>\n",
       "    <tr>\n",
       "      <th>last_year_promo</th>\n",
       "      <td>0.000000</td>\n",
       "      <td>0.101668</td>\n",
       "      <td>0.058663</td>\n",
       "      <td>0.183579</td>\n",
       "      <td>1.000000</td>\n",
       "      <td>0.000000</td>\n",
       "      <td>0.013681</td>\n",
       "      <td>0.215025</td>\n",
       "      <td>0.190803</td>\n",
       "    </tr>\n",
       "    <tr>\n",
       "      <th>last_year_violations</th>\n",
       "      <td>0.000000</td>\n",
       "      <td>0.000000</td>\n",
       "      <td>0.000000</td>\n",
       "      <td>0.056808</td>\n",
       "      <td>0.000000</td>\n",
       "      <td>1.000000</td>\n",
       "      <td>0.182042</td>\n",
       "      <td>0.010078</td>\n",
       "      <td>0.560348</td>\n",
       "    </tr>\n",
       "    <tr>\n",
       "      <th>supervisor_evaluation</th>\n",
       "      <td>0.105706</td>\n",
       "      <td>0.000000</td>\n",
       "      <td>0.037023</td>\n",
       "      <td>0.000000</td>\n",
       "      <td>0.013681</td>\n",
       "      <td>0.182042</td>\n",
       "      <td>1.000000</td>\n",
       "      <td>0.000000</td>\n",
       "      <td>0.764364</td>\n",
       "    </tr>\n",
       "    <tr>\n",
       "      <th>salary</th>\n",
       "      <td>0.282657</td>\n",
       "      <td>0.717761</td>\n",
       "      <td>0.788820</td>\n",
       "      <td>0.483419</td>\n",
       "      <td>0.215025</td>\n",
       "      <td>0.010078</td>\n",
       "      <td>0.000000</td>\n",
       "      <td>1.000000</td>\n",
       "      <td>0.165830</td>\n",
       "    </tr>\n",
       "    <tr>\n",
       "      <th>job_satisfaction_rate</th>\n",
       "      <td>0.082659</td>\n",
       "      <td>0.080753</td>\n",
       "      <td>0.056128</td>\n",
       "      <td>0.325603</td>\n",
       "      <td>0.190803</td>\n",
       "      <td>0.560348</td>\n",
       "      <td>0.764364</td>\n",
       "      <td>0.165830</td>\n",
       "      <td>1.000000</td>\n",
       "    </tr>\n",
       "  </tbody>\n",
       "</table>\n",
       "</div>"
      ],
      "text/plain": [
       "                           dept     level  workload  employment_years  \\\n",
       "dept                   1.000000  0.000000  0.016542          0.036815   \n",
       "level                  0.000000  1.000000  0.419591          0.682962   \n",
       "workload               0.016542  0.419591  1.000000          0.181941   \n",
       "employment_years       0.036815  0.682962  0.181941          1.000000   \n",
       "last_year_promo        0.000000  0.101668  0.058663          0.183579   \n",
       "last_year_violations   0.000000  0.000000  0.000000          0.056808   \n",
       "supervisor_evaluation  0.105706  0.000000  0.037023          0.000000   \n",
       "salary                 0.282657  0.717761  0.788820          0.483419   \n",
       "job_satisfaction_rate  0.082659  0.080753  0.056128          0.325603   \n",
       "\n",
       "                       last_year_promo  last_year_violations  \\\n",
       "dept                          0.000000              0.000000   \n",
       "level                         0.101668              0.000000   \n",
       "workload                      0.058663              0.000000   \n",
       "employment_years              0.183579              0.056808   \n",
       "last_year_promo               1.000000              0.000000   \n",
       "last_year_violations          0.000000              1.000000   \n",
       "supervisor_evaluation         0.013681              0.182042   \n",
       "salary                        0.215025              0.010078   \n",
       "job_satisfaction_rate         0.190803              0.560348   \n",
       "\n",
       "                       supervisor_evaluation    salary  job_satisfaction_rate  \n",
       "dept                                0.105706  0.282657               0.082659  \n",
       "level                               0.000000  0.717761               0.080753  \n",
       "workload                            0.037023  0.788820               0.056128  \n",
       "employment_years                    0.000000  0.483419               0.325603  \n",
       "last_year_promo                     0.013681  0.215025               0.190803  \n",
       "last_year_violations                0.182042  0.010078               0.560348  \n",
       "supervisor_evaluation               1.000000  0.000000               0.764364  \n",
       "salary                              0.000000  1.000000               0.165830  \n",
       "job_satisfaction_rate               0.764364  0.165830               1.000000  "
      ]
     },
     "execution_count": 41,
     "metadata": {},
     "output_type": "execute_result"
    }
   ],
   "source": [
    "train.phik_matrix(interval_cols = interval_cols)"
   ]
  },
  {
   "cell_type": "markdown",
   "id": "c942fc4a",
   "metadata": {},
   "source": [
    "- Наблюдается достаточно сильная зависимость между уровнем занимаемой должности и длительностью работы в компании;   между зарплатой и уровнем загруженности\n",
    "- средняя зависимость между длительностью работы в компании и зарплатой\n",
    "- также наблюдается зависимость между уровнем занимаемой должности и загруженностью\n",
    "- **самая сильная и важная для нас зависимость между оценкой качества работы сотрудника, которую дал руководитель и уровенем удовлетворённости сотрудника работой в компании (целевым признаком) = 0.764364**"
   ]
  },
  {
   "cell_type": "markdown",
   "id": "5b12bd3e-0211-4288-a768-8af7bc548d5f",
   "metadata": {},
   "source": [
    "**Вывод**\n",
    "- Уровень удовлетворённости в основном лежит в промежутке от 0.4 до 0.7\n",
    "- Уровень удовлетворённости среди разной загруженности примерно одинаковый\n",
    "- Уровень удовлетворённости слабо зависит от зарплаты\n",
    "- Уровень удовлетворённости сильно зависит от оценки руководителя\n",
    "- Примерно половина сотрудников нарушала трудовой договор в прошлом году и сотрудников отдела продаж в этом списке было немного больше\n",
    "- Наблюдается достаточно сильная зависимость между уровнем занимаемой должности и длительностью работы в компании;   между зарплатой и уровнем загруженности\n",
    "- средняя зависимость между длительностью работы в компании и зарплатой\n",
    "- также наблюдается зависимость между уровнем занимаемой должности и загруженностью\n",
    "- **самая сильная и важная для нас зависимость между оценкой качества работы сотрудника, которую дал руководитель и уровенем удовлетворённости сотрудника работой в компании (целевым признаком) = 0.764364**"
   ]
  },
  {
   "cell_type": "markdown",
   "id": "a6f333d7-873f-4845-9ffd-e9f930c81cd8",
   "metadata": {},
   "source": [
    "## Подготовка данных"
   ]
  },
  {
   "cell_type": "code",
   "execution_count": 42,
   "id": "3fb0d6d7-d3aa-4fd9-b9f7-706c6122d6d6",
   "metadata": {},
   "outputs": [],
   "source": [
    "X_train = train.drop(['job_satisfaction_rate'], axis=1)\n",
    "y_train = train['job_satisfaction_rate']\n",
    "\n",
    "X_test = test.set_index('id').drop(['job_satisfaction_rate'], axis=1)\n",
    "y_test = test['job_satisfaction_rate']"
   ]
  },
  {
   "cell_type": "code",
   "execution_count": 43,
   "id": "a4927fdc-a4ed-4e81-9793-98983a9d461b",
   "metadata": {},
   "outputs": [],
   "source": [
    "ohe_columns = ['dept', 'last_year_promo', 'last_year_violations']\n",
    "ord_columns = ['level', 'workload']\n",
    "num_columns = ['employment_years', 'supervisor_evaluation', 'salary']\n",
    "\n",
    "ohe_pipe = Pipeline(\n",
    "    [\n",
    "        (\n",
    "            'ohe', \n",
    "            OneHotEncoder(drop='first', handle_unknown='ignore', sparse_output=False)\n",
    "        )\n",
    "    ]\n",
    ")"
   ]
  },
  {
   "cell_type": "code",
   "execution_count": 44,
   "id": "58454a4a-79e6-4cfc-b051-e9b4fd83c6da",
   "metadata": {},
   "outputs": [],
   "source": [
    "ohe_pipe = Pipeline(\n",
    "    [\n",
    "        (\n",
    "            'ohe', \n",
    "            OneHotEncoder(drop='first', handle_unknown='ignore', sparse_output=False)\n",
    "        )\n",
    "    ]\n",
    ")"
   ]
  },
  {
   "cell_type": "code",
   "execution_count": 45,
   "id": "729836e7-6f02-4d7c-9548-ddd77399d6a1",
   "metadata": {},
   "outputs": [],
   "source": [
    "ord_pipe = Pipeline(\n",
    "    [\n",
    "         (\n",
    "            'simpleImputer_before_ord', \n",
    "            SimpleImputer(missing_values=np.nan, strategy='most_frequent')\n",
    "        ),\n",
    "        (\n",
    "            'ord',  \n",
    "            OrdinalEncoder()\n",
    "        ),\n",
    "        (\n",
    "            'simpleImputer_after_ord', \n",
    "            SimpleImputer(missing_values=np.nan, strategy='most_frequent')\n",
    "        )\n",
    "    ]\n",
    ")"
   ]
  },
  {
   "cell_type": "code",
   "execution_count": 46,
   "id": "c328d76a-c833-43ec-83a7-cc70840550fd",
   "metadata": {},
   "outputs": [],
   "source": [
    "data_preprocessor = ColumnTransformer(\n",
    "    [\n",
    "        ('ohe', ohe_pipe, ohe_columns),\n",
    "        ('ord', ord_pipe, ord_columns),\n",
    "        ('num', StandardScaler(), num_columns)\n",
    "    ], \n",
    "    remainder='passthrough'\n",
    ")"
   ]
  },
  {
   "cell_type": "code",
   "execution_count": 47,
   "id": "2059f9c1-41a4-4362-909b-8462209c51a9",
   "metadata": {},
   "outputs": [],
   "source": [
    "X_train_processed = pd.DataFrame(data_preprocessor.fit_transform(X_train), columns = data_preprocessor.get_feature_names_out())\n",
    "X_test_processed = pd.DataFrame(data_preprocessor.transform(X_test), columns = data_preprocessor.get_feature_names_out())"
   ]
  },
  {
   "cell_type": "markdown",
   "id": "91d297cd-f0cb-45bf-81be-4d845f874987",
   "metadata": {},
   "source": [
    "## Обучение моделей"
   ]
  },
  {
   "cell_type": "code",
   "execution_count": 48,
   "id": "56ac9f82-f780-4c87-9fba-8cb60eabe2ab",
   "metadata": {},
   "outputs": [],
   "source": [
    "# итоговый пайплайн: подготовка данных и модель\n",
    "RANDOM_STATE = 42\n",
    "\n",
    "pipe_final = Pipeline(\n",
    "    [\n",
    "        ('preprocessor', data_preprocessor),\n",
    "        ('models', LinearRegression())\n",
    "    ]\n",
    ")"
   ]
  },
  {
   "cell_type": "code",
   "execution_count": 49,
   "id": "357a3e64-7b24-4f01-a50c-78fb3c227040",
   "metadata": {},
   "outputs": [],
   "source": [
    "def smape(y_test, y_pred):\n",
    "    return np.mean(np.abs(y_test - y_pred) / ((np.abs(y_test) + np.abs(y_pred)) / 2)) * 100\n",
    "\n",
    "smape_scorer = make_scorer(smape, greater_is_better = False)"
   ]
  },
  {
   "cell_type": "code",
   "execution_count": 50,
   "id": "f284159f-f200-4649-b348-48179bd43938",
   "metadata": {},
   "outputs": [],
   "source": [
    "param_grid = [\n",
    "    \n",
    "    # словарь для модели DecisionTreeRegressor()\n",
    "    {\n",
    "        'models': [DecisionTreeRegressor(random_state=RANDOM_STATE)],\n",
    "        'models__max_depth': range(2, 20),\n",
    "        'models__max_features': range(2, 40),\n",
    "        'models__min_samples_leaf': range(2, 13),\n",
    "        'preprocessor__num': [StandardScaler(), MinMaxScaler(), RobustScaler(), 'passthrough']  \n",
    "    },\n",
    "    # словарь для модели LinearRegression()\n",
    "    {\n",
    "        'models': [LinearRegression()]\n",
    "    }\n",
    "]"
   ]
  },
  {
   "cell_type": "code",
   "execution_count": 51,
   "id": "7a1fd530-d7bf-46b9-9a8e-3d5a05351024",
   "metadata": {},
   "outputs": [
    {
     "name": "stdout",
     "output_type": "stream",
     "text": [
      "Метрика SMAPE равна: 13.688649086910122\n",
      "Лучшая модель и её параметры:\n",
      " Pipeline(steps=[('preprocessor',\n",
      "                 ColumnTransformer(remainder='passthrough',\n",
      "                                   transformers=[('ohe',\n",
      "                                                  Pipeline(steps=[('ohe',\n",
      "                                                                   OneHotEncoder(drop='first',\n",
      "                                                                                 handle_unknown='ignore',\n",
      "                                                                                 sparse_output=False))]),\n",
      "                                                  ['dept', 'last_year_promo',\n",
      "                                                   'last_year_violations']),\n",
      "                                                 ('ord',\n",
      "                                                  Pipeline(steps=[('simpleImputer_before_ord',\n",
      "                                                                   SimpleImputer(strategy='most_frequent')),\n",
      "                                                                  ('ord',\n",
      "                                                                   OrdinalEncoder()),\n",
      "                                                                  ('simpleImputer_after_ord',\n",
      "                                                                   SimpleImputer(strategy='most_frequent'))]),\n",
      "                                                  ['level', 'workload']),\n",
      "                                                 ('num', StandardScaler(),\n",
      "                                                  ['employment_years',\n",
      "                                                   'supervisor_evaluation',\n",
      "                                                   'salary'])])),\n",
      "                ('models',\n",
      "                 DecisionTreeRegressor(max_depth=18, max_features=15,\n",
      "                                       min_samples_leaf=5, random_state=42))])\n",
      "Метрика лучшей модели на тренировочной выборке: 14.950380154011418\n"
     ]
    }
   ],
   "source": [
    "random = RandomizedSearchCV(\n",
    "    pipe_final, \n",
    "    param_grid, \n",
    "    cv=5,\n",
    "    scoring=smape_scorer,\n",
    "    n_jobs=-1\n",
    ")\n",
    "random.fit(X_train, y_train)\n",
    "\n",
    "# Лучшая модель и её параметры\n",
    "best_params = random.best_params_\n",
    "\n",
    "y_test_pred = random.best_estimator_.predict(X_test)\n",
    "\n",
    " \n",
    "# Выводим значение SMAPE на тестовой выборке\n",
    "print (\"Метрика SMAPE равна:\", smape(y_test, y_test_pred))\n",
    "print ('Лучшая модель и её параметры:\\n', random.best_estimator_)\n",
    "print ('Метрика лучшей модели на тренировочной выборке:', -1* random.best_score_)"
   ]
  },
  {
   "cell_type": "markdown",
   "id": "53103d02-bb2b-4282-9432-c1938e6180be",
   "metadata": {},
   "source": [
    "**Метрика SMAPE < 15 значит эта модель нам подходит**"
   ]
  },
  {
   "cell_type": "code",
   "execution_count": 52,
   "id": "bcd338c6-1c63-4ca9-a12b-88757f80248c",
   "metadata": {},
   "outputs": [],
   "source": [
    "y_test_pred =  pd.Series(y_test_pred)"
   ]
  },
  {
   "cell_type": "markdown",
   "id": "092ebc86-dd46-4032-a229-9e45fc62dee0",
   "metadata": {},
   "source": [
    "**Вывод**\n",
    "- Линейная Логистическая и SVC модели сильно хуже DecisionTreeRegressor\n",
    "- DecisionTreeRegressor показывает хороший результат метрики SMAPE 14.11373373373441 < 15   \n",
    "  эти результаты подходят под критерии успеха"
   ]
  },
  {
   "cell_type": "markdown",
   "id": "4a85341b-b881-41e0-b2b9-d777ba3112e7",
   "metadata": {},
   "source": [
    "# Задача 2"
   ]
  },
  {
   "cell_type": "markdown",
   "id": "60356615-8e3f-47ed-b36b-3e407912ab79",
   "metadata": {},
   "source": [
    "## Загрузка данных"
   ]
  },
  {
   "cell_type": "code",
   "execution_count": 53,
   "id": "2a7e0c95-d640-498f-afd1-dc3f6a7a5979",
   "metadata": {},
   "outputs": [],
   "source": [
    "# данные\n",
    "# Тренировочная выборка:\n",
    "quit_train = pd.read_csv('https://code.s3.yandex.net/datasets/train_quit.csv')\n",
    "# Входные признаки тестовой выборки:\n",
    "quit_test = pd.read_csv('https://code.s3.yandex.net/datasets/test_features.csv')\n",
    "# Целевой признак тестовой выборки:\n",
    "quit_target = pd.read_csv('https://code.s3.yandex.net/datasets/test_target_quit.csv')"
   ]
  },
  {
   "cell_type": "markdown",
   "id": "3a597c3d-9a3e-45ca-b4b1-874f930f19a7",
   "metadata": {},
   "source": [
    "## Предобработка данных"
   ]
  },
  {
   "cell_type": "markdown",
   "id": "04ef237c",
   "metadata": {},
   "source": [
    "### quit_train"
   ]
  },
  {
   "cell_type": "code",
   "execution_count": 54,
   "id": "1f5920ef",
   "metadata": {
    "scrolled": true
   },
   "outputs": [
    {
     "data": {
      "text/html": [
       "<div>\n",
       "<style scoped>\n",
       "    .dataframe tbody tr th:only-of-type {\n",
       "        vertical-align: middle;\n",
       "    }\n",
       "\n",
       "    .dataframe tbody tr th {\n",
       "        vertical-align: top;\n",
       "    }\n",
       "\n",
       "    .dataframe thead th {\n",
       "        text-align: right;\n",
       "    }\n",
       "</style>\n",
       "<table border=\"1\" class=\"dataframe\">\n",
       "  <thead>\n",
       "    <tr style=\"text-align: right;\">\n",
       "      <th></th>\n",
       "      <th>id</th>\n",
       "      <th>dept</th>\n",
       "      <th>level</th>\n",
       "      <th>workload</th>\n",
       "      <th>employment_years</th>\n",
       "      <th>last_year_promo</th>\n",
       "      <th>last_year_violations</th>\n",
       "      <th>supervisor_evaluation</th>\n",
       "      <th>salary</th>\n",
       "      <th>quit</th>\n",
       "    </tr>\n",
       "  </thead>\n",
       "  <tbody>\n",
       "    <tr>\n",
       "      <th>0</th>\n",
       "      <td>723290</td>\n",
       "      <td>sales</td>\n",
       "      <td>middle</td>\n",
       "      <td>high</td>\n",
       "      <td>2</td>\n",
       "      <td>no</td>\n",
       "      <td>no</td>\n",
       "      <td>4</td>\n",
       "      <td>54000</td>\n",
       "      <td>no</td>\n",
       "    </tr>\n",
       "    <tr>\n",
       "      <th>1</th>\n",
       "      <td>814010</td>\n",
       "      <td>sales</td>\n",
       "      <td>junior</td>\n",
       "      <td>medium</td>\n",
       "      <td>2</td>\n",
       "      <td>no</td>\n",
       "      <td>no</td>\n",
       "      <td>4</td>\n",
       "      <td>27600</td>\n",
       "      <td>no</td>\n",
       "    </tr>\n",
       "    <tr>\n",
       "      <th>2</th>\n",
       "      <td>155091</td>\n",
       "      <td>purchasing</td>\n",
       "      <td>middle</td>\n",
       "      <td>medium</td>\n",
       "      <td>5</td>\n",
       "      <td>no</td>\n",
       "      <td>no</td>\n",
       "      <td>1</td>\n",
       "      <td>37200</td>\n",
       "      <td>no</td>\n",
       "    </tr>\n",
       "  </tbody>\n",
       "</table>\n",
       "</div>"
      ],
      "text/plain": [
       "       id        dept   level workload  employment_years last_year_promo  \\\n",
       "0  723290       sales  middle     high                 2              no   \n",
       "1  814010       sales  junior   medium                 2              no   \n",
       "2  155091  purchasing  middle   medium                 5              no   \n",
       "\n",
       "  last_year_violations  supervisor_evaluation  salary quit  \n",
       "0                   no                      4   54000   no  \n",
       "1                   no                      4   27600   no  \n",
       "2                   no                      1   37200   no  "
      ]
     },
     "execution_count": 54,
     "metadata": {},
     "output_type": "execute_result"
    }
   ],
   "source": [
    "quit_train.head(3)"
   ]
  },
  {
   "cell_type": "code",
   "execution_count": 55,
   "id": "754e2ad1",
   "metadata": {},
   "outputs": [
    {
     "name": "stdout",
     "output_type": "stream",
     "text": [
      "<class 'pandas.core.frame.DataFrame'>\n",
      "RangeIndex: 4000 entries, 0 to 3999\n",
      "Data columns (total 10 columns):\n",
      " #   Column                 Non-Null Count  Dtype \n",
      "---  ------                 --------------  ----- \n",
      " 0   id                     4000 non-null   int64 \n",
      " 1   dept                   4000 non-null   object\n",
      " 2   level                  4000 non-null   object\n",
      " 3   workload               4000 non-null   object\n",
      " 4   employment_years       4000 non-null   int64 \n",
      " 5   last_year_promo        4000 non-null   object\n",
      " 6   last_year_violations   4000 non-null   object\n",
      " 7   supervisor_evaluation  4000 non-null   int64 \n",
      " 8   salary                 4000 non-null   int64 \n",
      " 9   quit                   4000 non-null   object\n",
      "dtypes: int64(4), object(6)\n",
      "memory usage: 312.6+ KB\n"
     ]
    }
   ],
   "source": [
    "quit_train.info()"
   ]
  },
  {
   "cell_type": "code",
   "execution_count": 56,
   "id": "de8b69e6",
   "metadata": {},
   "outputs": [
    {
     "data": {
      "text/plain": [
       "(4000, 10)"
      ]
     },
     "execution_count": 56,
     "metadata": {},
     "output_type": "execute_result"
    }
   ],
   "source": [
    "quit_train.shape"
   ]
  },
  {
   "cell_type": "code",
   "execution_count": 57,
   "id": "9980f9e5",
   "metadata": {},
   "outputs": [
    {
     "data": {
      "text/plain": [
       "id                       0\n",
       "dept                     0\n",
       "level                    0\n",
       "workload                 0\n",
       "employment_years         0\n",
       "last_year_promo          0\n",
       "last_year_violations     0\n",
       "supervisor_evaluation    0\n",
       "salary                   0\n",
       "quit                     0\n",
       "dtype: int64"
      ]
     },
     "execution_count": 57,
     "metadata": {},
     "output_type": "execute_result"
    }
   ],
   "source": [
    "quit_train.isna().sum()"
   ]
  },
  {
   "cell_type": "code",
   "execution_count": 58,
   "id": "2052323e",
   "metadata": {},
   "outputs": [
    {
     "data": {
      "text/plain": [
       "0"
      ]
     },
     "execution_count": 58,
     "metadata": {},
     "output_type": "execute_result"
    }
   ],
   "source": [
    "quit_train.duplicated().sum()"
   ]
  },
  {
   "cell_type": "code",
   "execution_count": 59,
   "id": "db00282d",
   "metadata": {},
   "outputs": [
    {
     "name": "stdout",
     "output_type": "stream",
     "text": [
      "dept\n",
      "['sales' 'purchasing' 'marketing' 'technology' 'hr']\n",
      "5\n",
      "\n",
      "level\n",
      "['middle' 'junior' 'sinior']\n",
      "3\n",
      "\n",
      "workload\n",
      "['high' 'medium' 'low']\n",
      "3\n",
      "\n",
      "last_year_promo\n",
      "['no' 'yes']\n",
      "2\n",
      "\n",
      "last_year_violations\n",
      "['no' 'yes']\n",
      "2\n",
      "\n",
      "quit\n",
      "['no' 'yes']\n",
      "2\n",
      "\n"
     ]
    }
   ],
   "source": [
    "uniq(quit_train)"
   ]
  },
  {
   "cell_type": "markdown",
   "id": "687c1092",
   "metadata": {},
   "source": [
    "### quit_test"
   ]
  },
  {
   "cell_type": "code",
   "execution_count": 60,
   "id": "dd46a51b-da90-4b62-bdcc-b32503942cd2",
   "metadata": {},
   "outputs": [],
   "source": [
    "quit_test = quit_test.merge(quit_target, on='id', how='right')"
   ]
  },
  {
   "cell_type": "code",
   "execution_count": 61,
   "id": "294eee61",
   "metadata": {
    "scrolled": true
   },
   "outputs": [
    {
     "data": {
      "text/html": [
       "<div>\n",
       "<style scoped>\n",
       "    .dataframe tbody tr th:only-of-type {\n",
       "        vertical-align: middle;\n",
       "    }\n",
       "\n",
       "    .dataframe tbody tr th {\n",
       "        vertical-align: top;\n",
       "    }\n",
       "\n",
       "    .dataframe thead th {\n",
       "        text-align: right;\n",
       "    }\n",
       "</style>\n",
       "<table border=\"1\" class=\"dataframe\">\n",
       "  <thead>\n",
       "    <tr style=\"text-align: right;\">\n",
       "      <th></th>\n",
       "      <th>id</th>\n",
       "      <th>dept</th>\n",
       "      <th>level</th>\n",
       "      <th>workload</th>\n",
       "      <th>employment_years</th>\n",
       "      <th>last_year_promo</th>\n",
       "      <th>last_year_violations</th>\n",
       "      <th>supervisor_evaluation</th>\n",
       "      <th>salary</th>\n",
       "      <th>quit</th>\n",
       "    </tr>\n",
       "  </thead>\n",
       "  <tbody>\n",
       "    <tr>\n",
       "      <th>0</th>\n",
       "      <td>999029</td>\n",
       "      <td>technology</td>\n",
       "      <td>junior</td>\n",
       "      <td>medium</td>\n",
       "      <td>1</td>\n",
       "      <td>no</td>\n",
       "      <td>no</td>\n",
       "      <td>3</td>\n",
       "      <td>31200</td>\n",
       "      <td>yes</td>\n",
       "    </tr>\n",
       "    <tr>\n",
       "      <th>1</th>\n",
       "      <td>372846</td>\n",
       "      <td>sales</td>\n",
       "      <td>middle</td>\n",
       "      <td>medium</td>\n",
       "      <td>10</td>\n",
       "      <td>no</td>\n",
       "      <td>yes</td>\n",
       "      <td>2</td>\n",
       "      <td>32400</td>\n",
       "      <td>no</td>\n",
       "    </tr>\n",
       "    <tr>\n",
       "      <th>2</th>\n",
       "      <td>726767</td>\n",
       "      <td>marketing</td>\n",
       "      <td>middle</td>\n",
       "      <td>low</td>\n",
       "      <td>7</td>\n",
       "      <td>no</td>\n",
       "      <td>no</td>\n",
       "      <td>4</td>\n",
       "      <td>20400</td>\n",
       "      <td>no</td>\n",
       "    </tr>\n",
       "  </tbody>\n",
       "</table>\n",
       "</div>"
      ],
      "text/plain": [
       "       id        dept   level workload  employment_years last_year_promo  \\\n",
       "0  999029  technology  junior   medium                 1              no   \n",
       "1  372846       sales  middle   medium                10              no   \n",
       "2  726767   marketing  middle      low                 7              no   \n",
       "\n",
       "  last_year_violations  supervisor_evaluation  salary quit  \n",
       "0                   no                      3   31200  yes  \n",
       "1                  yes                      2   32400   no  \n",
       "2                   no                      4   20400   no  "
      ]
     },
     "execution_count": 61,
     "metadata": {},
     "output_type": "execute_result"
    }
   ],
   "source": [
    "quit_test.head(3)"
   ]
  },
  {
   "cell_type": "code",
   "execution_count": 62,
   "id": "83de83b2",
   "metadata": {},
   "outputs": [
    {
     "name": "stdout",
     "output_type": "stream",
     "text": [
      "<class 'pandas.core.frame.DataFrame'>\n",
      "RangeIndex: 2000 entries, 0 to 1999\n",
      "Data columns (total 10 columns):\n",
      " #   Column                 Non-Null Count  Dtype \n",
      "---  ------                 --------------  ----- \n",
      " 0   id                     2000 non-null   int64 \n",
      " 1   dept                   1998 non-null   object\n",
      " 2   level                  1999 non-null   object\n",
      " 3   workload               2000 non-null   object\n",
      " 4   employment_years       2000 non-null   int64 \n",
      " 5   last_year_promo        2000 non-null   object\n",
      " 6   last_year_violations   2000 non-null   object\n",
      " 7   supervisor_evaluation  2000 non-null   int64 \n",
      " 8   salary                 2000 non-null   int64 \n",
      " 9   quit                   2000 non-null   object\n",
      "dtypes: int64(4), object(6)\n",
      "memory usage: 156.4+ KB\n"
     ]
    }
   ],
   "source": [
    "quit_test.info()"
   ]
  },
  {
   "cell_type": "code",
   "execution_count": 63,
   "id": "d261d086",
   "metadata": {},
   "outputs": [
    {
     "data": {
      "text/plain": [
       "(2000, 10)"
      ]
     },
     "execution_count": 63,
     "metadata": {},
     "output_type": "execute_result"
    }
   ],
   "source": [
    "quit_test.shape"
   ]
  },
  {
   "cell_type": "code",
   "execution_count": 64,
   "id": "a3020a39",
   "metadata": {},
   "outputs": [
    {
     "data": {
      "text/plain": [
       "0"
      ]
     },
     "execution_count": 64,
     "metadata": {},
     "output_type": "execute_result"
    }
   ],
   "source": [
    "quit_test.duplicated().sum()"
   ]
  },
  {
   "cell_type": "code",
   "execution_count": 65,
   "id": "18292dfa",
   "metadata": {},
   "outputs": [
    {
     "data": {
      "text/plain": [
       "id                       0\n",
       "dept                     2\n",
       "level                    1\n",
       "workload                 0\n",
       "employment_years         0\n",
       "last_year_promo          0\n",
       "last_year_violations     0\n",
       "supervisor_evaluation    0\n",
       "salary                   0\n",
       "quit                     0\n",
       "dtype: int64"
      ]
     },
     "execution_count": 65,
     "metadata": {},
     "output_type": "execute_result"
    }
   ],
   "source": [
    "quit_test.isna().sum()"
   ]
  },
  {
   "cell_type": "code",
   "execution_count": 66,
   "id": "99e5c011",
   "metadata": {},
   "outputs": [
    {
     "name": "stdout",
     "output_type": "stream",
     "text": [
      "dept\n",
      "['technology' 'sales' 'marketing' 'purchasing' 'hr' nan ' ']\n",
      "6\n",
      "\n",
      "level\n",
      "['junior' 'middle' 'sinior' nan]\n",
      "3\n",
      "\n",
      "workload\n",
      "['medium' 'low' 'high' ' ']\n",
      "4\n",
      "\n",
      "last_year_promo\n",
      "['no' 'yes']\n",
      "2\n",
      "\n",
      "last_year_violations\n",
      "['no' 'yes']\n",
      "2\n",
      "\n",
      "quit\n",
      "['yes' 'no']\n",
      "2\n",
      "\n"
     ]
    }
   ],
   "source": [
    "uniq(quit_test)"
   ]
  },
  {
   "cell_type": "markdown",
   "id": "13a9e4ab",
   "metadata": {},
   "source": [
    "### quit_target"
   ]
  },
  {
   "cell_type": "code",
   "execution_count": 67,
   "id": "d9318edd",
   "metadata": {
    "scrolled": true
   },
   "outputs": [
    {
     "data": {
      "text/html": [
       "<div>\n",
       "<style scoped>\n",
       "    .dataframe tbody tr th:only-of-type {\n",
       "        vertical-align: middle;\n",
       "    }\n",
       "\n",
       "    .dataframe tbody tr th {\n",
       "        vertical-align: top;\n",
       "    }\n",
       "\n",
       "    .dataframe thead th {\n",
       "        text-align: right;\n",
       "    }\n",
       "</style>\n",
       "<table border=\"1\" class=\"dataframe\">\n",
       "  <thead>\n",
       "    <tr style=\"text-align: right;\">\n",
       "      <th></th>\n",
       "      <th>id</th>\n",
       "      <th>quit</th>\n",
       "    </tr>\n",
       "  </thead>\n",
       "  <tbody>\n",
       "    <tr>\n",
       "      <th>0</th>\n",
       "      <td>999029</td>\n",
       "      <td>yes</td>\n",
       "    </tr>\n",
       "    <tr>\n",
       "      <th>1</th>\n",
       "      <td>372846</td>\n",
       "      <td>no</td>\n",
       "    </tr>\n",
       "    <tr>\n",
       "      <th>2</th>\n",
       "      <td>726767</td>\n",
       "      <td>no</td>\n",
       "    </tr>\n",
       "  </tbody>\n",
       "</table>\n",
       "</div>"
      ],
      "text/plain": [
       "       id quit\n",
       "0  999029  yes\n",
       "1  372846   no\n",
       "2  726767   no"
      ]
     },
     "execution_count": 67,
     "metadata": {},
     "output_type": "execute_result"
    }
   ],
   "source": [
    "quit_target.head(3)"
   ]
  },
  {
   "cell_type": "code",
   "execution_count": 68,
   "id": "58ac670f",
   "metadata": {},
   "outputs": [
    {
     "name": "stdout",
     "output_type": "stream",
     "text": [
      "<class 'pandas.core.frame.DataFrame'>\n",
      "RangeIndex: 2000 entries, 0 to 1999\n",
      "Data columns (total 2 columns):\n",
      " #   Column  Non-Null Count  Dtype \n",
      "---  ------  --------------  ----- \n",
      " 0   id      2000 non-null   int64 \n",
      " 1   quit    2000 non-null   object\n",
      "dtypes: int64(1), object(1)\n",
      "memory usage: 31.4+ KB\n"
     ]
    }
   ],
   "source": [
    "quit_target.info()"
   ]
  },
  {
   "cell_type": "code",
   "execution_count": 69,
   "id": "ecbbc2d0",
   "metadata": {},
   "outputs": [
    {
     "data": {
      "text/plain": [
       "(2000, 2)"
      ]
     },
     "execution_count": 69,
     "metadata": {},
     "output_type": "execute_result"
    }
   ],
   "source": [
    "quit_target.shape"
   ]
  },
  {
   "cell_type": "code",
   "execution_count": 70,
   "id": "c4bc1472",
   "metadata": {},
   "outputs": [
    {
     "data": {
      "text/plain": [
       "id      0\n",
       "quit    0\n",
       "dtype: int64"
      ]
     },
     "execution_count": 70,
     "metadata": {},
     "output_type": "execute_result"
    }
   ],
   "source": [
    "quit_target.isna().sum()"
   ]
  },
  {
   "cell_type": "code",
   "execution_count": 71,
   "id": "e9e5d8f8",
   "metadata": {},
   "outputs": [
    {
     "data": {
      "text/plain": [
       "0"
      ]
     },
     "execution_count": 71,
     "metadata": {},
     "output_type": "execute_result"
    }
   ],
   "source": [
    "quit_target.duplicated().sum()"
   ]
  },
  {
   "cell_type": "code",
   "execution_count": 72,
   "id": "5841de1d",
   "metadata": {},
   "outputs": [
    {
     "name": "stdout",
     "output_type": "stream",
     "text": [
      "quit\n",
      "['yes' 'no']\n",
      "2\n",
      "\n"
     ]
    }
   ],
   "source": [
    "uniq(quit_target)"
   ]
  },
  {
   "cell_type": "markdown",
   "id": "d7df693e",
   "metadata": {},
   "source": [
    "**Вывод**\n",
    "- явные и неявные дубликаты отсутвуют вданных    \n",
    "- есть пропуски и пустые значения в тестовой выборке в столбцах: dept, level, workload\n",
    "- во всех столбцах правильный тип данных, исправлять ничего не требуется\n",
    "- в тренировочных данных в 2 раза больше строк чем в тестовых"
   ]
  },
  {
   "cell_type": "markdown",
   "id": "4b8a6653",
   "metadata": {},
   "source": [
    "### Пайплайн для пропусков"
   ]
  },
  {
   "cell_type": "code",
   "execution_count": 73,
   "id": "7cc8251e-ff8e-4317-b9b1-4c54fe0191a3",
   "metadata": {},
   "outputs": [],
   "source": [
    "columns = quit_train.columns\n",
    "\n",
    "pipe = Pipeline(\n",
    "    [\n",
    "        (\n",
    "            'simpleImputer_1', \n",
    "            SimpleImputer(missing_values=np.nan, strategy = 'most_frequent')\n",
    "        ),\n",
    "        (\n",
    "            'simpleImputer_2', \n",
    "            SimpleImputer(missing_values=' ', strategy = 'most_frequent')\n",
    "        )\n",
    "    ]\n",
    ")\n",
    "\n",
    "data_preprocessor = ColumnTransformer(\n",
    "    [\n",
    "        ('simpleImputer', pipe, columns)\n",
    "    ]\n",
    ")\n",
    "\n",
    "quit_train = pd.DataFrame(data_preprocessor.fit_transform(quit_train), columns = columns)\n",
    "quit_test = pd.DataFrame(data_preprocessor.transform(quit_test), columns = columns)"
   ]
  },
  {
   "cell_type": "markdown",
   "id": "ebdba17e-46df-4aea-b55d-30069cf88a43",
   "metadata": {},
   "source": [
    "## Исследовательский анализ данных"
   ]
  },
  {
   "cell_type": "code",
   "execution_count": 74,
   "id": "cbd740d6-ca97-4aaa-b6d5-5ec2c83d981f",
   "metadata": {},
   "outputs": [],
   "source": [
    "# возьмём тренировочную выборку, чтобы сделать предсказания уровеня удовлетворённости сотрудника на лучшей модели из задачи 1\n",
    "X_train_quit = quit_train.set_index('id').drop(['quit'], axis=1)"
   ]
  },
  {
   "cell_type": "code",
   "execution_count": 75,
   "id": "e2abd455-06f4-4334-9904-0c8a92d90fb2",
   "metadata": {},
   "outputs": [],
   "source": [
    "# предсказанные значения тренировочной выборки\n",
    "y_train_pred = pd.Series(random.predict(X_train_quit))"
   ]
  },
  {
   "cell_type": "code",
   "execution_count": 76,
   "id": "38c05145-dd02-4022-b7d1-02c9cae260c4",
   "metadata": {},
   "outputs": [],
   "source": [
    "# добавим данные в основной датасет\n",
    "job_prediction_train = pd.DataFrame(pd.concat([\n",
    "   y_train_pred,\n",
    "    pd.Series(X_train_quit.index)\n",
    "], axis=1))\n",
    "job_prediction_train.columns = ['job_satisfaction_rate', 'id']\n",
    "\n",
    "quit_train = quit_train.merge(job_prediction_train, on='id')"
   ]
  },
  {
   "cell_type": "code",
   "execution_count": 77,
   "id": "debae27f-68e5-40e8-a1b5-c33d33ea8c96",
   "metadata": {},
   "outputs": [],
   "source": [
    "quit_train = quit_train.set_index('id')"
   ]
  },
  {
   "cell_type": "code",
   "execution_count": 78,
   "id": "f52a7184-aa54-4ea3-95b9-fcfcddbe6d0e",
   "metadata": {},
   "outputs": [
    {
     "data": {
      "image/png": "[encoded data removed]",
      "text/plain": [
       "<Figure size 800x550 with 1 Axes>"
      ]
     },
     "metadata": {},
     "output_type": "display_data"
    }
   ],
   "source": [
    "sns.barplot(x='quit', y='job_satisfaction_rate', data=quit_train, palette='Purples')\n",
    "plt.show()"
   ]
  },
  {
   "cell_type": "markdown",
   "id": "791d68d3-dc8c-4714-924b-8afa2a0077ff",
   "metadata": {},
   "source": [
    "**У уволившихся сотрудников уровень удовлетворённости ниже 0.4**"
   ]
  },
  {
   "cell_type": "code",
   "execution_count": 79,
   "id": "f7b4362d-2405-4a26-a7a2-f355860d55f9",
   "metadata": {},
   "outputs": [
    {
     "data": {
      "image/png": "[encoded data removed]",
      "text/plain": [
       "<Figure size 800x550 with 1 Axes>"
      ]
     },
     "metadata": {},
     "output_type": "display_data"
    }
   ],
   "source": [
    "sns.barplot(x='quit', y='job_satisfaction_rate', hue='workload', data=quit_train, palette='Blues')\n",
    "plt.show()"
   ]
  },
  {
   "cell_type": "markdown",
   "id": "cac245f8-9155-460c-83bf-22e33f8fe6b6",
   "metadata": {},
   "source": [
    "**У самых неудовлетворённых сотрудников был средний уровень загруженности**"
   ]
  },
  {
   "cell_type": "code",
   "execution_count": 80,
   "id": "5faf0a2e-c7ca-4dba-aeba-2de43df5c81b",
   "metadata": {},
   "outputs": [
    {
     "data": {
      "image/png": "[encoded data removed]",
      "text/plain": [
       "<Figure size 800x550 with 1 Axes>"
      ]
     },
     "metadata": {},
     "output_type": "display_data"
    }
   ],
   "source": [
    "sns.barplot(x='dept', y='job_satisfaction_rate', hue='quit', data=quit_train, palette='Greens')\n",
    "plt.show()"
   ]
  },
  {
   "cell_type": "markdown",
   "id": "e99a6d6b-bffe-457a-8dc7-40af2a3d0264",
   "metadata": {},
   "source": [
    "**У отдела закупок наименьший уровень удовлетворённости**"
   ]
  },
  {
   "cell_type": "code",
   "execution_count": 81,
   "id": "16195ef9-258d-4dc9-a61d-062e57e74ff6",
   "metadata": {
    "scrolled": true
   },
   "outputs": [
    {
     "data": {
      "image/png": "[encoded data removed]",
      "text/plain": [
       "<Figure size 800x550 with 1 Axes>"
      ]
     },
     "metadata": {},
     "output_type": "display_data"
    }
   ],
   "source": [
    "ax = sns.boxplot(x='quit', y='job_satisfaction_rate', data=quit_train)"
   ]
  },
  {
   "cell_type": "code",
   "execution_count": 82,
   "id": "1f7f77f2",
   "metadata": {},
   "outputs": [],
   "source": [
    "quit_train['salary'] = pd.to_numeric(quit_train['salary'], errors='coerce')"
   ]
  },
  {
   "cell_type": "code",
   "execution_count": 83,
   "id": "c0eb2a1d-56d4-497d-9a3a-2d880f31c7ef",
   "metadata": {
    "scrolled": true
   },
   "outputs": [
    {
     "data": {
      "text/html": [
       "<style type=\"text/css\">\n",
       "</style>\n",
       "<table id=\"T_5ea8f\">\n",
       "  <thead>\n",
       "    <tr>\n",
       "      <th class=\"blank level0\" >&nbsp;</th>\n",
       "      <th id=\"T_5ea8f_level0_col0\" class=\"col_heading level0 col0\" >salary</th>\n",
       "    </tr>\n",
       "    <tr>\n",
       "      <th class=\"index_name level0\" >quit</th>\n",
       "      <th class=\"blank col0\" >&nbsp;</th>\n",
       "    </tr>\n",
       "  </thead>\n",
       "  <tbody>\n",
       "    <tr>\n",
       "      <th id=\"T_5ea8f_level0_row0\" class=\"row_heading level0 row0\" >no</th>\n",
       "      <td id=\"T_5ea8f_row0_col0\" class=\"data row0 col0\" >37702.23</td>\n",
       "    </tr>\n",
       "    <tr>\n",
       "      <th id=\"T_5ea8f_level0_row1\" class=\"row_heading level0 row1\" >yes</th>\n",
       "      <td id=\"T_5ea8f_row1_col0\" class=\"data row1 col0\" >23885.11</td>\n",
       "    </tr>\n",
       "  </tbody>\n",
       "</table>\n"
      ],
      "text/plain": [
       "<pandas.io.formats.style.Styler at 0x157358410>"
      ]
     },
     "metadata": {},
     "output_type": "display_data"
    }
   ],
   "source": [
    "pivot = quit_train.pivot_table(index='quit', values='salary', aggfunc='mean')\n",
    "display(pivot.style.format(\"{:.2f}\"))"
   ]
  },
  {
   "cell_type": "markdown",
   "id": "c86fb8c0",
   "metadata": {},
   "source": [
    "**У уволившихся работников зарплата была значимо ниже**"
   ]
  },
  {
   "cell_type": "code",
   "execution_count": 84,
   "id": "77c2269a",
   "metadata": {
    "scrolled": true
   },
   "outputs": [
    {
     "data": {
      "text/html": [
       "<div>\n",
       "<style scoped>\n",
       "    .dataframe tbody tr th:only-of-type {\n",
       "        vertical-align: middle;\n",
       "    }\n",
       "\n",
       "    .dataframe tbody tr th {\n",
       "        vertical-align: top;\n",
       "    }\n",
       "\n",
       "    .dataframe thead th {\n",
       "        text-align: right;\n",
       "    }\n",
       "</style>\n",
       "<table border=\"1\" class=\"dataframe\">\n",
       "  <thead>\n",
       "    <tr style=\"text-align: right;\">\n",
       "      <th></th>\n",
       "      <th>dept</th>\n",
       "      <th>level</th>\n",
       "      <th>workload</th>\n",
       "      <th>employment_years</th>\n",
       "      <th>last_year_promo</th>\n",
       "      <th>last_year_violations</th>\n",
       "      <th>supervisor_evaluation</th>\n",
       "      <th>salary</th>\n",
       "      <th>quit</th>\n",
       "      <th>job_satisfaction_rate</th>\n",
       "    </tr>\n",
       "  </thead>\n",
       "  <tbody>\n",
       "    <tr>\n",
       "      <th>dept</th>\n",
       "      <td>1.000000</td>\n",
       "      <td>0.000000</td>\n",
       "      <td>0.000000</td>\n",
       "      <td>0.000000</td>\n",
       "      <td>0.000000</td>\n",
       "      <td>0.044274</td>\n",
       "      <td>0.042772</td>\n",
       "      <td>0.280300</td>\n",
       "      <td>0.000000</td>\n",
       "      <td>0.241860</td>\n",
       "    </tr>\n",
       "    <tr>\n",
       "      <th>level</th>\n",
       "      <td>0.000000</td>\n",
       "      <td>1.000000</td>\n",
       "      <td>0.479480</td>\n",
       "      <td>0.692676</td>\n",
       "      <td>0.110585</td>\n",
       "      <td>0.000000</td>\n",
       "      <td>0.007189</td>\n",
       "      <td>0.745104</td>\n",
       "      <td>0.312799</td>\n",
       "      <td>0.210076</td>\n",
       "    </tr>\n",
       "    <tr>\n",
       "      <th>workload</th>\n",
       "      <td>0.000000</td>\n",
       "      <td>0.479480</td>\n",
       "      <td>1.000000</td>\n",
       "      <td>0.213013</td>\n",
       "      <td>0.044388</td>\n",
       "      <td>0.014063</td>\n",
       "      <td>0.000000</td>\n",
       "      <td>0.793876</td>\n",
       "      <td>0.132243</td>\n",
       "      <td>0.181619</td>\n",
       "    </tr>\n",
       "    <tr>\n",
       "      <th>employment_years</th>\n",
       "      <td>0.000000</td>\n",
       "      <td>0.692676</td>\n",
       "      <td>0.213013</td>\n",
       "      <td>1.000000</td>\n",
       "      <td>0.156494</td>\n",
       "      <td>0.000000</td>\n",
       "      <td>0.000000</td>\n",
       "      <td>0.491915</td>\n",
       "      <td>0.659093</td>\n",
       "      <td>0.431625</td>\n",
       "    </tr>\n",
       "    <tr>\n",
       "      <th>last_year_promo</th>\n",
       "      <td>0.000000</td>\n",
       "      <td>0.110585</td>\n",
       "      <td>0.044388</td>\n",
       "      <td>0.156494</td>\n",
       "      <td>1.000000</td>\n",
       "      <td>0.000000</td>\n",
       "      <td>0.032376</td>\n",
       "      <td>0.215043</td>\n",
       "      <td>0.157370</td>\n",
       "      <td>0.409814</td>\n",
       "    </tr>\n",
       "    <tr>\n",
       "      <th>last_year_violations</th>\n",
       "      <td>0.044274</td>\n",
       "      <td>0.000000</td>\n",
       "      <td>0.014063</td>\n",
       "      <td>0.000000</td>\n",
       "      <td>0.000000</td>\n",
       "      <td>1.000000</td>\n",
       "      <td>0.179228</td>\n",
       "      <td>0.086087</td>\n",
       "      <td>0.185071</td>\n",
       "      <td>0.647794</td>\n",
       "    </tr>\n",
       "    <tr>\n",
       "      <th>supervisor_evaluation</th>\n",
       "      <td>0.042772</td>\n",
       "      <td>0.007189</td>\n",
       "      <td>0.000000</td>\n",
       "      <td>0.000000</td>\n",
       "      <td>0.032376</td>\n",
       "      <td>0.179228</td>\n",
       "      <td>1.000000</td>\n",
       "      <td>0.055330</td>\n",
       "      <td>0.245489</td>\n",
       "      <td>0.782115</td>\n",
       "    </tr>\n",
       "    <tr>\n",
       "      <th>salary</th>\n",
       "      <td>0.280300</td>\n",
       "      <td>0.745104</td>\n",
       "      <td>0.793876</td>\n",
       "      <td>0.491915</td>\n",
       "      <td>0.215043</td>\n",
       "      <td>0.086087</td>\n",
       "      <td>0.055330</td>\n",
       "      <td>1.000000</td>\n",
       "      <td>0.564154</td>\n",
       "      <td>0.266530</td>\n",
       "    </tr>\n",
       "    <tr>\n",
       "      <th>quit</th>\n",
       "      <td>0.000000</td>\n",
       "      <td>0.312799</td>\n",
       "      <td>0.132243</td>\n",
       "      <td>0.659093</td>\n",
       "      <td>0.157370</td>\n",
       "      <td>0.185071</td>\n",
       "      <td>0.245489</td>\n",
       "      <td>0.564154</td>\n",
       "      <td>1.000000</td>\n",
       "      <td>0.518598</td>\n",
       "    </tr>\n",
       "    <tr>\n",
       "      <th>job_satisfaction_rate</th>\n",
       "      <td>0.241860</td>\n",
       "      <td>0.210076</td>\n",
       "      <td>0.181619</td>\n",
       "      <td>0.431625</td>\n",
       "      <td>0.409814</td>\n",
       "      <td>0.647794</td>\n",
       "      <td>0.782115</td>\n",
       "      <td>0.266530</td>\n",
       "      <td>0.518598</td>\n",
       "      <td>1.000000</td>\n",
       "    </tr>\n",
       "  </tbody>\n",
       "</table>\n",
       "</div>"
      ],
      "text/plain": [
       "                           dept     level  workload  employment_years  \\\n",
       "dept                   1.000000  0.000000  0.000000          0.000000   \n",
       "level                  0.000000  1.000000  0.479480          0.692676   \n",
       "workload               0.000000  0.479480  1.000000          0.213013   \n",
       "employment_years       0.000000  0.692676  0.213013          1.000000   \n",
       "last_year_promo        0.000000  0.110585  0.044388          0.156494   \n",
       "last_year_violations   0.044274  0.000000  0.014063          0.000000   \n",
       "supervisor_evaluation  0.042772  0.007189  0.000000          0.000000   \n",
       "salary                 0.280300  0.745104  0.793876          0.491915   \n",
       "quit                   0.000000  0.312799  0.132243          0.659093   \n",
       "job_satisfaction_rate  0.241860  0.210076  0.181619          0.431625   \n",
       "\n",
       "                       last_year_promo  last_year_violations  \\\n",
       "dept                          0.000000              0.044274   \n",
       "level                         0.110585              0.000000   \n",
       "workload                      0.044388              0.014063   \n",
       "employment_years              0.156494              0.000000   \n",
       "last_year_promo               1.000000              0.000000   \n",
       "last_year_violations          0.000000              1.000000   \n",
       "supervisor_evaluation         0.032376              0.179228   \n",
       "salary                        0.215043              0.086087   \n",
       "quit                          0.157370              0.185071   \n",
       "job_satisfaction_rate         0.409814              0.647794   \n",
       "\n",
       "                       supervisor_evaluation    salary      quit  \\\n",
       "dept                                0.042772  0.280300  0.000000   \n",
       "level                               0.007189  0.745104  0.312799   \n",
       "workload                            0.000000  0.793876  0.132243   \n",
       "employment_years                    0.000000  0.491915  0.659093   \n",
       "last_year_promo                     0.032376  0.215043  0.157370   \n",
       "last_year_violations                0.179228  0.086087  0.185071   \n",
       "supervisor_evaluation               1.000000  0.055330  0.245489   \n",
       "salary                              0.055330  1.000000  0.564154   \n",
       "quit                                0.245489  0.564154  1.000000   \n",
       "job_satisfaction_rate               0.782115  0.266530  0.518598   \n",
       "\n",
       "                       job_satisfaction_rate  \n",
       "dept                                0.241860  \n",
       "level                               0.210076  \n",
       "workload                            0.181619  \n",
       "employment_years                    0.431625  \n",
       "last_year_promo                     0.409814  \n",
       "last_year_violations                0.647794  \n",
       "supervisor_evaluation               0.782115  \n",
       "salary                              0.266530  \n",
       "quit                                0.518598  \n",
       "job_satisfaction_rate               1.000000  "
      ]
     },
     "execution_count": 84,
     "metadata": {},
     "output_type": "execute_result"
    }
   ],
   "source": [
    "interval_cols = ['employment_years', 'supervisor_evaluation', 'salary', 'job_satisfaction_rate']\n",
    "\n",
    "quit_train.phik_matrix(interval_cols = interval_cols)"
   ]
  },
  {
   "cell_type": "markdown",
   "id": "016dc426",
   "metadata": {},
   "source": [
    "- Наблюдается достаточно сильная зависимость между уровнем занимаемой должности и длительностью работы в компании;   между зарплатой и уровнем загруженности\n",
    "- средняя зависимость между длительностью работы в компании и зарплатой\n",
    "- также наблюдается зависимость между уровнем занимаемой должности и загруженностью\n",
    "- **достаточно сильная зависимость между уровнем удовлетворённости сотрудника работой в компании с увольнением сотрудника**"
   ]
  },
  {
   "cell_type": "code",
   "execution_count": 85,
   "id": "5517e812",
   "metadata": {},
   "outputs": [
    {
     "name": "stdout",
     "output_type": "stream",
     "text": [
      "p-значение: 1.0\n",
      "среднее значение удовлетворённости сотрудника выше 0.42\n"
     ]
    }
   ],
   "source": [
    "# Нулевая гипотеза: среднее значение удовлетворённости сотрудника выше 0.42\n",
    "# Альтернативная гипотеза: среднее значение удовлетворённости сотрудника ниже 0.42\n",
    "satisfaction = 0.4\n",
    "\n",
    "alpha = 0.05 # уровень статистической значимости\n",
    "\n",
    "results = st.ttest_1samp(\n",
    "    quit_train['job_satisfaction_rate'], \n",
    "    satisfaction,\n",
    "      alternative='less')\n",
    "\n",
    "print('p-значение:', results.pvalue)\n",
    "\n",
    "if (results.pvalue < alpha):\n",
    "    print('среднее значение удовлетворённости сотрудника ниже 0.42')\n",
    "else:\n",
    "    print('среднее значение удовлетворённости сотрудника выше 0.42')"
   ]
  },
  {
   "cell_type": "code",
   "execution_count": 86,
   "id": "628fe0e3",
   "metadata": {},
   "outputs": [
    {
     "name": "stdout",
     "output_type": "stream",
     "text": [
      "p-value: 1.061720914677906e-152\n",
      "среднее значение уровня удовлетворённости для не уволившихся выше чем у уволившихся сотрудников \n"
     ]
    }
   ],
   "source": [
    "# Нулевая гипотеза: среднее значение уровня удовлетворённости для не уволившихся и уволившихся сотрудников равны\n",
    "# Альтернативная гипотеза: среднее значение уровня удовлетворённости для не уволившихся выше\n",
    "# чем у уволившихся сотрудников \n",
    "\n",
    "# задаём уровень значимости\n",
    "alpha = 0.05\n",
    "\n",
    "stayed = quit_train.query('quit == \"no\"')['job_satisfaction_rate']\n",
    "left = quit_train.query('quit == \"yes\"')['job_satisfaction_rate']\n",
    "\n",
    "# проводим ttest для двух выборок, в качестве альтернативной используем одностороннюю гипотезу «больше»\n",
    "results = st.ttest_ind(stayed, left, alternative='greater')\n",
    "\n",
    "print(f'p-value: {results.pvalue}')\n",
    "\n",
    "# проверяем p-value\n",
    "if results.pvalue < alpha:\n",
    "    print('среднее значение уровня удовлетворённости для не уволившихся выше чем у уволившихся сотрудников ')\n",
    "else:\n",
    "    print('среднее значение уровня удовлетворённости для не уволившихся и уволившихся сотрудников равны')"
   ]
  },
  {
   "cell_type": "code",
   "execution_count": 87,
   "id": "7c1b61c9",
   "metadata": {
    "scrolled": true
   },
   "outputs": [
    {
     "data": {
      "text/html": [
       "<style type=\"text/css\">\n",
       "#T_33dba_row0_col0, #T_33dba_row0_col1, #T_33dba_row0_col2 {\n",
       "  background-color: #f7fbff;\n",
       "  color: #000000;\n",
       "}\n",
       "#T_33dba_row1_col0 {\n",
       "  background-color: #dfebf7;\n",
       "  color: #000000;\n",
       "}\n",
       "#T_33dba_row1_col1 {\n",
       "  background-color: #d7e6f5;\n",
       "  color: #000000;\n",
       "}\n",
       "#T_33dba_row1_col2 {\n",
       "  background-color: #3f8fc5;\n",
       "  color: #f1f1f1;\n",
       "}\n",
       "#T_33dba_row2_col0 {\n",
       "  background-color: #deebf7;\n",
       "  color: #000000;\n",
       "}\n",
       "#T_33dba_row2_col1 {\n",
       "  background-color: #d6e5f4;\n",
       "  color: #000000;\n",
       "}\n",
       "#T_33dba_row2_col2 {\n",
       "  background-color: #3383be;\n",
       "  color: #f1f1f1;\n",
       "}\n",
       "#T_33dba_row3_col0, #T_33dba_row3_col1, #T_33dba_row4_col2 {\n",
       "  background-color: #08306b;\n",
       "  color: #f1f1f1;\n",
       "}\n",
       "#T_33dba_row3_col2 {\n",
       "  background-color: #2f7fbc;\n",
       "  color: #f1f1f1;\n",
       "}\n",
       "#T_33dba_row4_col0 {\n",
       "  background-color: #75b4d8;\n",
       "  color: #000000;\n",
       "}\n",
       "#T_33dba_row4_col1 {\n",
       "  background-color: #5ba3d0;\n",
       "  color: #f1f1f1;\n",
       "}\n",
       "</style>\n",
       "<table id=\"T_33dba\">\n",
       "  <thead>\n",
       "    <tr>\n",
       "      <th class=\"blank level0\" >&nbsp;</th>\n",
       "      <th id=\"T_33dba_level0_col0\" class=\"col_heading level0 col0\" >all</th>\n",
       "      <th id=\"T_33dba_level0_col1\" class=\"col_heading level0 col1\" >left</th>\n",
       "      <th id=\"T_33dba_level0_col2\" class=\"col_heading level0 col2\" >fraction</th>\n",
       "    </tr>\n",
       "    <tr>\n",
       "      <th class=\"index_name level0\" >dept</th>\n",
       "      <th class=\"blank col0\" >&nbsp;</th>\n",
       "      <th class=\"blank col1\" >&nbsp;</th>\n",
       "      <th class=\"blank col2\" >&nbsp;</th>\n",
       "    </tr>\n",
       "  </thead>\n",
       "  <tbody>\n",
       "    <tr>\n",
       "      <th id=\"T_33dba_level0_row0\" class=\"row_heading level0 row0\" >hr</th>\n",
       "      <td id=\"T_33dba_row0_col0\" class=\"data row0 col0\" >464.0000</td>\n",
       "      <td id=\"T_33dba_row0_col1\" class=\"data row0 col1\" >116.0000</td>\n",
       "      <td id=\"T_33dba_row0_col2\" class=\"data row0 col2\" >0.2500</td>\n",
       "    </tr>\n",
       "    <tr>\n",
       "      <th id=\"T_33dba_level0_row1\" class=\"row_heading level0 row1\" >marketing</th>\n",
       "      <td id=\"T_33dba_row1_col0\" class=\"data row1 col0\" >582.0000</td>\n",
       "      <td id=\"T_33dba_row1_col1\" class=\"data row1 col1\" >163.0000</td>\n",
       "      <td id=\"T_33dba_row1_col2\" class=\"data row1 col2\" >0.2801</td>\n",
       "    </tr>\n",
       "    <tr>\n",
       "      <th id=\"T_33dba_level0_row2\" class=\"row_heading level0 row2\" >purchasing</th>\n",
       "      <td id=\"T_33dba_row2_col0\" class=\"data row2 col0\" >588.0000</td>\n",
       "      <td id=\"T_33dba_row2_col1\" class=\"data row2 col1\" >166.0000</td>\n",
       "      <td id=\"T_33dba_row2_col2\" class=\"data row2 col2\" >0.2823</td>\n",
       "    </tr>\n",
       "    <tr>\n",
       "      <th id=\"T_33dba_level0_row3\" class=\"row_heading level0 row3\" >sales</th>\n",
       "      <td id=\"T_33dba_row3_col0\" class=\"data row3 col0\" >1438.0000</td>\n",
       "      <td id=\"T_33dba_row3_col1\" class=\"data row3 col1\" >407.0000</td>\n",
       "      <td id=\"T_33dba_row3_col2\" class=\"data row3 col2\" >0.2830</td>\n",
       "    </tr>\n",
       "    <tr>\n",
       "      <th id=\"T_33dba_level0_row4\" class=\"row_heading level0 row4\" >technology</th>\n",
       "      <td id=\"T_33dba_row4_col0\" class=\"data row4 col0\" >928.0000</td>\n",
       "      <td id=\"T_33dba_row4_col1\" class=\"data row4 col1\" >276.0000</td>\n",
       "      <td id=\"T_33dba_row4_col2\" class=\"data row4 col2\" >0.2974</td>\n",
       "    </tr>\n",
       "  </tbody>\n",
       "</table>\n"
      ],
      "text/plain": [
       "<pandas.io.formats.style.Styler at 0x15752e690>"
      ]
     },
     "metadata": {},
     "output_type": "display_data"
    }
   ],
   "source": [
    "piv = quit_train.pivot_table(index = 'dept', values = 'quit', aggfunc = 'count')\n",
    "piv.columns = ['all']\n",
    "piv_1 = quit_train.query('quit == \"yes\"').pivot_table(index = 'dept', values = 'quit', aggfunc = 'count')\n",
    "piv['left'] = piv_1['quit']\n",
    "piv['fraction'] = piv['left'] / piv['all']\n",
    "display(piv.style.format(\"{:.4f}\").background_gradient(cmap='Blues', axis=0))"
   ]
  },
  {
   "cell_type": "markdown",
   "id": "950e5a5c",
   "metadata": {},
   "source": [
    "**Вывод**\n",
    "- У самых неудовлетворённых сотрудников был средний уровень загруженности\n",
    "- У отдела закупок наименьший уровень удовлетворённости\n",
    "- У уволившихся работников зарплата была значимо ниже\n",
    "- У уволившихся сотрудников уровень удовлетворённости ниже 0.4\n",
    "- среднее значение удовлетворённости сотрудника выше 0.42\n",
    "- среднее значение уровня удовлетворённости для не уволившихся выше чем у уволившихся сотрудников \n",
    "- наибольшее количество уволившихся в отделе продаж почти с самой высокой долей увольнения\n",
    "- самая высокая доля увольнения в отделе технологий - 29.74%    \n",
    "\n",
    "**т.е. стоит обратить внимание на работников отдела технологий с низкой зарплатой и низким уровнем уловлетворённости**"
   ]
  },
  {
   "cell_type": "markdown",
   "id": "c2b6b302",
   "metadata": {},
   "source": [
    "**достаточно сильная зависимость между уровнем удовлетворённости сотрудника работой в компании с увольнением сотрудника, значит добавим его во входные признаки**"
   ]
  },
  {
   "cell_type": "markdown",
   "id": "77375740-e78d-43e2-b8e9-1963c0a39eca",
   "metadata": {},
   "source": [
    "## Добавление нового входного признака"
   ]
  },
  {
   "cell_type": "code",
   "execution_count": 88,
   "id": "36b697e7-5182-4505-8d22-2887226e154d",
   "metadata": {},
   "outputs": [],
   "source": [
    "# т.к. входные данные тестовой выборки совпадают с задачей 1, то предсказанные значения у нас уже есть - y_test_pred\n",
    "job_prediction_test = pd.DataFrame(pd.concat([\n",
    "    y_test_pred,\n",
    "    pd.Series(X_test.index)\n",
    "], axis=1))\n",
    "job_prediction_test.columns = ['job_satisfaction_rate', 'id']\n",
    "\n",
    "quit_test = quit_test.merge(job_prediction_test, on='id')\n",
    "quit_test = quit_test.set_index('id')"
   ]
  },
  {
   "cell_type": "markdown",
   "id": "28c6b05c-252c-4270-98dd-e9eba46307b5",
   "metadata": {},
   "source": [
    "## Подготовка данных"
   ]
  },
  {
   "cell_type": "code",
   "execution_count": 89,
   "id": "b005cfef-8c86-49e2-b9a3-ec8d8604880a",
   "metadata": {},
   "outputs": [],
   "source": [
    "X_train = quit_train.drop(['quit'], axis=1)\n",
    "y_train = quit_train['quit']\n",
    "X_test = quit_test.drop(['quit'], axis=1)\n",
    "y_test = quit_test['quit']"
   ]
  },
  {
   "cell_type": "code",
   "execution_count": 90,
   "id": "24a28c4c-1402-4c02-a8b9-7a63d67da9a6",
   "metadata": {},
   "outputs": [
    {
     "data": {
      "text/plain": [
       "['employment_years',\n",
       " 'supervisor_evaluation',\n",
       " 'salary',\n",
       " 'job_satisfaction_rate']"
      ]
     },
     "execution_count": 90,
     "metadata": {},
     "output_type": "execute_result"
    }
   ],
   "source": [
    "# ohe_columns # ord_columns  \n",
    "num_columns.append('job_satisfaction_rate')\n",
    "num_columns"
   ]
  },
  {
   "cell_type": "code",
   "execution_count": 91,
   "id": "44dac301-8ac0-472b-bce3-85bee1b94b1d",
   "metadata": {},
   "outputs": [],
   "source": [
    "data_preprocessor = ColumnTransformer(\n",
    "    [\n",
    "        ('ohe', ohe_pipe, ohe_columns),\n",
    "        ('ord', ord_pipe, ord_columns),\n",
    "        ('num', StandardScaler(), num_columns)\n",
    "    ], \n",
    "    remainder='passthrough'\n",
    ")"
   ]
  },
  {
   "cell_type": "code",
   "execution_count": 92,
   "id": "21ff5d5c-dd5b-4224-9d2b-fca188eaadbf",
   "metadata": {},
   "outputs": [],
   "source": [
    "le = LabelEncoder()\n",
    "y_train_encoded = le.fit_transform(y_train)\n",
    "y_test_encoded = le.transform(y_test)"
   ]
  },
  {
   "cell_type": "code",
   "execution_count": 93,
   "id": "4beb4eaa-6ec5-4e4e-b1e9-fa3c73ecc356",
   "metadata": {},
   "outputs": [],
   "source": [
    "X_train_processed = pd.DataFrame(data_preprocessor.fit_transform(X_train), columns = data_preprocessor.get_feature_names_out())\n",
    "X_test_processed = pd.DataFrame(data_preprocessor.transform(X_test), columns = data_preprocessor.get_feature_names_out())"
   ]
  },
  {
   "cell_type": "markdown",
   "id": "c7da0869-bfc7-4673-a86e-cd6cabeb2723",
   "metadata": {},
   "source": [
    "## Обучение моделей"
   ]
  },
  {
   "cell_type": "code",
   "execution_count": 94,
   "id": "e1001420-7716-40d2-ba65-1ca7bd39c64a",
   "metadata": {},
   "outputs": [],
   "source": [
    "ohe_columns = ['dept', 'last_year_promo', 'last_year_violations']\n",
    "ord_columns = ['level', 'workload']\n",
    "num_columns = ['employment_years', 'supervisor_evaluation', 'salary', 'job_satisfaction_rate']"
   ]
  },
  {
   "cell_type": "code",
   "execution_count": 95,
   "id": "c52052cb",
   "metadata": {},
   "outputs": [],
   "source": [
    "ohe_pipe = Pipeline(\n",
    "    [\n",
    "        (\n",
    "            'ohe', \n",
    "            OneHotEncoder(drop='first', handle_unknown='ignore', sparse_output=False)\n",
    "        )\n",
    "    ]\n",
    ")"
   ]
  },
  {
   "cell_type": "code",
   "execution_count": 96,
   "id": "c47579b7",
   "metadata": {},
   "outputs": [],
   "source": [
    "ord_pipe = Pipeline(\n",
    "    [\n",
    "         (\n",
    "            'simpleImputer_before_ord', \n",
    "            SimpleImputer(missing_values=np.nan, strategy='most_frequent')\n",
    "        ),\n",
    "        (\n",
    "            'ord',  \n",
    "            OrdinalEncoder()\n",
    "        ),\n",
    "        (\n",
    "            'simpleImputer_after_ord', \n",
    "            SimpleImputer(missing_values=np.nan, strategy='most_frequent')\n",
    "        )\n",
    "    ]\n",
    ")"
   ]
  },
  {
   "cell_type": "code",
   "execution_count": 97,
   "id": "7d707a3f",
   "metadata": {},
   "outputs": [],
   "source": [
    "data_preprocessor = ColumnTransformer(\n",
    "    [\n",
    "        ('ohe', ohe_pipe, ohe_columns),\n",
    "        ('ord', ord_pipe, ord_columns),\n",
    "        ('num', StandardScaler(), num_columns)\n",
    "    ], \n",
    "    remainder='passthrough'\n",
    ")"
   ]
  },
  {
   "cell_type": "code",
   "execution_count": 98,
   "id": "b813cc0c",
   "metadata": {},
   "outputs": [],
   "source": [
    "# итоговый пайплайн: подготовка данных и модель\n",
    "RANDOM_STATE = 42\n",
    "\n",
    "pipe_final = Pipeline(\n",
    "    [\n",
    "        ('preprocessor', data_preprocessor),\n",
    "        ('models', LogisticRegression(random_state=RANDOM_STATE))\n",
    "    ]\n",
    ")"
   ]
  },
  {
   "cell_type": "code",
   "execution_count": 99,
   "id": "73570171",
   "metadata": {},
   "outputs": [
    {
     "name": "stdout",
     "output_type": "stream",
     "text": [
      "Метрика ROC-AUC = 0.9202788231691658 > 91     что соответствует критерию успеху\n"
     ]
    }
   ],
   "source": [
    "\n",
    "\n",
    "pipe_final.fit(X_train, y_train_encoded)\n",
    "\n",
    "y_test_pred = pipe_final.predict(X_test)\n",
    "y_test_proba = pipe_final.predict_proba(X_test)\n",
    "\n",
    "if roc_auc_score(y_test_encoded, y_test_proba[:, 1]) > 0.91:\n",
    "    print(f'Метрика ROC-AUC = {roc_auc_score(y_test_encoded, y_test_proba[:, 1])} > 91 \\\n",
    "    что соответствует критерию успеху')\n",
    "else:\n",
    "    print('Модель не соответствует критерию успеха')"
   ]
  },
  {
   "cell_type": "code",
   "execution_count": 100,
   "id": "8f679b00-3ae4-4f92-95c5-c1c6de0c59a9",
   "metadata": {},
   "outputs": [],
   "source": [
    "param_grid = [\n",
    "    # словарь для модели KNeighborsClassifier() \n",
    "    {\n",
    "        # название модели\n",
    "        'models': [KNeighborsClassifier()],\n",
    "        # указываем гиперпараметр модели n_neighbors\n",
    "        'models__n_neighbors': range(1, 20),\n",
    "        # указываем список методов масштабирования\n",
    "        'preprocessor__num': [StandardScaler(), MinMaxScaler(), RobustScaler(), 'passthrough']   \n",
    "    },\n",
    "    # словарь для модели DecisionTreeClassifier()\n",
    "    {\n",
    "        'models': [DecisionTreeClassifier(random_state=RANDOM_STATE)],\n",
    "        'models__max_depth': range(2, 11),\n",
    "        'preprocessor__num': [StandardScaler(), MinMaxScaler(), RobustScaler(), 'passthrough']  \n",
    "    }\n",
    "]"
   ]
  },
  {
   "cell_type": "code",
   "execution_count": 101,
   "id": "99e58a27-3cfd-4d85-8df3-eb446f82681d",
   "metadata": {},
   "outputs": [
    {
     "name": "stdout",
     "output_type": "stream",
     "text": [
      "Лучшая модель и её параметры:\n",
      " Pipeline(steps=[('preprocessor',\n",
      "                 ColumnTransformer(remainder='passthrough',\n",
      "                                   transformers=[('ohe',\n",
      "                                                  Pipeline(steps=[('ohe',\n",
      "                                                                   OneHotEncoder(drop='first',\n",
      "                                                                                 handle_unknown='ignore',\n",
      "                                                                                 sparse_output=False))]),\n",
      "                                                  ['dept', 'last_year_promo',\n",
      "                                                   'last_year_violations']),\n",
      "                                                 ('ord',\n",
      "                                                  Pipeline(steps=[('simpleImputer_before_ord',\n",
      "                                                                   SimpleImputer(strategy='most_frequent')),\n",
      "                                                                  ('ord',\n",
      "                                                                   OrdinalEncoder()),\n",
      "                                                                  ('simpleImputer_after_ord',\n",
      "                                                                   SimpleImputer(strategy='most_frequent'))]),\n",
      "                                                  ['level', 'workload']),\n",
      "                                                 ('num', StandardScaler(),\n",
      "                                                  ['employment_years',\n",
      "                                                   'supervisor_evaluation',\n",
      "                                                   'salary'])])),\n",
      "                ('models',\n",
      "                 DecisionTreeRegressor(max_depth=18, max_features=15,\n",
      "                                       min_samples_leaf=5, random_state=42))])\n",
      "Метрика лучшей модели на тестовой выборке: 0.9179470653311997\n"
     ]
    }
   ],
   "source": [
    "randomized_search = RandomizedSearchCV(\n",
    "    pipe_final, \n",
    "    param_grid, \n",
    "    cv=5,\n",
    "    scoring='roc_auc',\n",
    "    random_state=RANDOM_STATE,\n",
    "    n_jobs=-1\n",
    ")\n",
    "randomized_search.fit(X_train, y_train_encoded)\n",
    "\n",
    "y_test_pred = randomized_search.best_estimator_.predict(X_test)\n",
    "y_test_proba = randomized_search.best_estimator_.predict_proba(X_test)\n",
    "\n",
    "print ('Лучшая модель и её параметры:\\n', random.best_estimator_)\n",
    "print ('Метрика лучшей модели на тестовой выборке:', roc_auc_score(y_test_encoded, y_test_proba[:, 1]))"
   ]
  },
  {
   "cell_type": "code",
   "execution_count": 102,
   "id": "be4be6a0",
   "metadata": {},
   "outputs": [
    {
     "name": "stdout",
     "output_type": "stream",
     "text": [
      "Метрика ROC-AUC = 0.9179470653311997 > 91     что соответствует критерию успеху\n"
     ]
    }
   ],
   "source": [
    "if roc_auc_score(y_test_encoded, y_test_proba[:, 1]) > 0.91:\n",
    "    print(f'Метрика ROC-AUC = {roc_auc_score(y_test_encoded, y_test_proba[:, 1])} > 91 \\\n",
    "    что соответствует критерию успеху')\n",
    "else:\n",
    "    print('Модель не соответствует критерию успеха')"
   ]
  },
  {
   "cell_type": "markdown",
   "id": "09c20f2b-1eeb-4b14-b7de-bf1037a7c94d",
   "metadata": {},
   "source": [
    "**Вывод**\n",
    "- лучшая модель - логистическая регрессия\n",
    "- она справляется лучше из-за простоты, у нас не иак много входных данных и поэтому она обгоняет остальные модели"
   ]
  },
  {
   "cell_type": "markdown",
   "id": "119b879a-8450-4ee1-a4a8-b0a3ccc36fab",
   "metadata": {},
   "source": [
    "## Общий вывод"
   ]
  },
  {
   "cell_type": "markdown",
   "id": "d10356f8-1ef1-45ad-993c-61281f49af2e",
   "metadata": {},
   "source": [
    "**Задачи**\n",
    "Построить 2 модели: \n",
    "- Первая - модель, которая сможет предсказать уровень удовлетворённости сотрудника на основе данных заказчика.\n",
    "- вторая — модель, которая сможет на основе данных заказчика предсказать то, что сотрудник уволится из компании."
   ]
  },
  {
   "cell_type": "markdown",
   "id": "439c3e46-4874-4260-bfea-a690340e4f7d",
   "metadata": {},
   "source": [
    "**Этапы работы**"
   ]
  },
  {
   "cell_type": "markdown",
   "id": "ee1d9db6-3c74-409e-8413-4fdb182b17dd",
   "metadata": {},
   "source": [
    "**задача 1**\n",
    "- через пайплайн заполнили пропуски и прощенные значения самыми часто встречающимися\n",
    "- провели исследовательский анализ данных и проверили зависимость признаков от уровня удовлетворённости\n",
    "- построили модель линейной регрессии и сравнили её с DecisionTreeRegressor для которой подобрали гиперпараметры через RandomSearch.\n",
    "  Лучшая модель: DecisionTreeRegressor(max_depth=16, max_features=8,\n",
    "                                       min_samples_leaf=6, random_state=42)\n",
    "  метрика SMAPE = 14.113733"
   ]
  },
  {
   "cell_type": "markdown",
   "id": "2631ac0d-4ed1-4955-87ea-69d2c865b7e8",
   "metadata": {},
   "source": [
    "**задача 2**\n",
    "- через пайплайн заполнили пропуски и прощенные значения самыми часто встречающимися\n",
    "- провели исследовательский анализ данных и проверили зависимость признаков от увольнения\n",
    "- выяснили, что увольнение зависит от уровня удовлетворённости\n",
    "- лучшая модель - логистическая регрессия   \n",
    "  Метрика ROC-AUC = 0.920083738 "
   ]
  },
  {
   "cell_type": "markdown",
   "id": "e9c6058f-9f26-477b-b97f-4cf48f55795b",
   "metadata": {},
   "source": [
    "**Вывод**"
   ]
  },
  {
   "cell_type": "markdown",
   "id": "a963a6ac-e76f-49ed-9e92-ef1f07c1d958",
   "metadata": {},
   "source": [
    "В основном у уволившихся сотрудников был средний уровень загруженности и они были из отдела закупок. Также у них была низкая зарплата, что в сумме и уменьшило их удовлетворённость и они уволились."
   ]
  },
  {
   "cell_type": "markdown",
   "id": "984a73cb-8703-4e1f-964f-65160ac233e4",
   "metadata": {},
   "source": [
    "- Cтоит категориям со средней и высокой загруженностью поднять зарплату.\n",
    "- Также руководителям стоит быть более лояльными к сотрудникам, чтобы повышалсь их оценка и соответсвенно уровень    \n",
    "  удовлетворённости (это признак сильно играет роль в их решении об увольнении)"
   ]
  }
 ],
 "metadata": {
  "ExecuteTimeLog": [
   {
    "duration": 3127,
    "start_time": "2024-02-02T08:31:48.783Z"
   },
   {
    "duration": 2589,
    "start_time": "2024-02-02T08:31:51.913Z"
   },
   {
    "duration": 2541,
    "start_time": "2024-02-02T08:31:54.504Z"
   },
   {
    "duration": 3,
    "start_time": "2024-02-02T08:31:57.047Z"
   },
   {
    "duration": 678,
    "start_time": "2024-02-02T08:31:57.052Z"
   },
   {
    "duration": 2000,
    "start_time": "2024-02-02T08:31:57.732Z"
   },
   {
    "duration": 199,
    "start_time": "2024-02-02T08:31:59.733Z"
   },
   {
    "duration": 17,
    "start_time": "2024-02-02T08:31:59.934Z"
   },
   {
    "duration": 3,
    "start_time": "2024-02-02T08:31:59.953Z"
   },
   {
    "duration": 12,
    "start_time": "2024-02-02T08:31:59.958Z"
   },
   {
    "duration": 6,
    "start_time": "2024-02-02T08:31:59.972Z"
   },
   {
    "duration": 13,
    "start_time": "2024-02-02T08:31:59.980Z"
   },
   {
    "duration": 3,
    "start_time": "2024-02-02T08:32:00.021Z"
   },
   {
    "duration": 52,
    "start_time": "2024-02-02T08:32:00.027Z"
   },
   {
    "duration": 52,
    "start_time": "2024-02-02T08:32:00.080Z"
   },
   {
    "duration": 69,
    "start_time": "2024-02-02T08:32:00.133Z"
   },
   {
    "duration": 33,
    "start_time": "2024-02-02T08:32:00.204Z"
   },
   {
    "duration": 72,
    "start_time": "2024-02-02T08:32:00.239Z"
   },
   {
    "duration": 66,
    "start_time": "2024-02-02T08:32:00.313Z"
   },
   {
    "duration": 33,
    "start_time": "2024-02-02T08:32:00.381Z"
   },
   {
    "duration": 30,
    "start_time": "2024-02-02T08:32:00.415Z"
   },
   {
    "duration": 40,
    "start_time": "2024-02-02T08:32:00.446Z"
   },
   {
    "duration": 13,
    "start_time": "2024-02-02T08:32:00.488Z"
   },
   {
    "duration": 10,
    "start_time": "2024-02-02T08:32:00.502Z"
   },
   {
    "duration": 22,
    "start_time": "2024-02-02T08:32:00.513Z"
   },
   {
    "duration": 34,
    "start_time": "2024-02-02T08:32:00.537Z"
   },
   {
    "duration": 88,
    "start_time": "2024-02-02T08:32:00.572Z"
   },
   {
    "duration": 144,
    "start_time": "2024-02-02T08:32:00.661Z"
   },
   {
    "duration": 3920,
    "start_time": "2024-02-02T08:32:00.807Z"
   },
   {
    "duration": 7,
    "start_time": "2024-02-02T08:32:04.729Z"
   },
   {
    "duration": 106,
    "start_time": "2024-02-02T08:32:04.737Z"
   },
   {
    "duration": 200,
    "start_time": "2024-02-02T08:32:04.845Z"
   },
   {
    "duration": 309,
    "start_time": "2024-02-02T08:32:05.047Z"
   },
   {
    "duration": 295,
    "start_time": "2024-02-02T08:32:05.358Z"
   },
   {
    "duration": 249,
    "start_time": "2024-02-02T08:32:05.655Z"
   },
   {
    "duration": 305,
    "start_time": "2024-02-02T08:32:05.906Z"
   },
   {
    "duration": 580,
    "start_time": "2024-02-02T08:32:06.212Z"
   },
   {
    "duration": 8,
    "start_time": "2024-02-02T08:32:06.794Z"
   },
   {
    "duration": 3,
    "start_time": "2024-02-02T08:32:06.820Z"
   },
   {
    "duration": 29,
    "start_time": "2024-02-02T08:32:06.825Z"
   },
   {
    "duration": 3,
    "start_time": "2024-02-02T08:32:06.858Z"
   },
   {
    "duration": 7,
    "start_time": "2024-02-02T08:32:06.863Z"
   },
   {
    "duration": 50,
    "start_time": "2024-02-02T08:32:06.871Z"
   },
   {
    "duration": 3,
    "start_time": "2024-02-02T08:32:06.922Z"
   },
   {
    "duration": 37,
    "start_time": "2024-02-02T08:32:06.926Z"
   },
   {
    "duration": 160,
    "start_time": "2024-02-02T08:32:06.964Z"
   },
   {
    "duration": 99,
    "start_time": "2024-02-02T08:32:07.125Z"
   },
   {
    "duration": 1671,
    "start_time": "2024-02-02T08:32:07.227Z"
   },
   {
    "duration": 3,
    "start_time": "2024-02-02T08:32:08.899Z"
   },
   {
    "duration": 150,
    "start_time": "2024-02-02T08:32:08.904Z"
   },
   {
    "duration": 7,
    "start_time": "2024-02-02T08:32:09.055Z"
   },
   {
    "duration": 45,
    "start_time": "2024-02-02T08:32:09.063Z"
   },
   {
    "duration": 29,
    "start_time": "2024-02-02T08:32:09.109Z"
   },
   {
    "duration": 34,
    "start_time": "2024-02-02T08:32:09.139Z"
   },
   {
    "duration": 38,
    "start_time": "2024-02-02T08:32:09.175Z"
   },
   {
    "duration": 16,
    "start_time": "2024-02-02T08:32:09.215Z"
   },
   {
    "duration": 312,
    "start_time": "2024-02-02T08:32:09.232Z"
   },
   {
    "duration": 439,
    "start_time": "2024-02-02T08:32:09.546Z"
   },
   {
    "duration": 524,
    "start_time": "2024-02-02T08:32:09.986Z"
   },
   {
    "duration": 254,
    "start_time": "2024-02-02T08:32:10.512Z"
   },
   {
    "duration": 204,
    "start_time": "2024-02-02T08:32:10.767Z"
   },
   {
    "duration": 0,
    "start_time": "2024-02-02T08:32:10.973Z"
   },
   {
    "duration": 0,
    "start_time": "2024-02-02T08:32:10.974Z"
   },
   {
    "duration": 0,
    "start_time": "2024-02-02T08:32:10.975Z"
   },
   {
    "duration": 0,
    "start_time": "2024-02-02T08:32:10.976Z"
   },
   {
    "duration": 0,
    "start_time": "2024-02-02T08:32:10.978Z"
   },
   {
    "duration": 0,
    "start_time": "2024-02-02T08:32:10.979Z"
   },
   {
    "duration": 0,
    "start_time": "2024-02-02T08:32:10.980Z"
   },
   {
    "duration": 0,
    "start_time": "2024-02-02T08:32:10.981Z"
   },
   {
    "duration": 0,
    "start_time": "2024-02-02T08:32:10.982Z"
   },
   {
    "duration": 6787,
    "start_time": "2024-02-02T10:26:05.489Z"
   },
   {
    "duration": 3184,
    "start_time": "2024-02-02T10:26:12.278Z"
   },
   {
    "duration": 3703,
    "start_time": "2024-02-02T10:26:15.464Z"
   },
   {
    "duration": 3,
    "start_time": "2024-02-02T10:26:19.170Z"
   },
   {
    "duration": 678,
    "start_time": "2024-02-02T10:26:19.176Z"
   },
   {
    "duration": 1861,
    "start_time": "2024-02-02T10:26:19.857Z"
   },
   {
    "duration": 397,
    "start_time": "2024-02-02T10:26:21.720Z"
   },
   {
    "duration": 16,
    "start_time": "2024-02-02T10:26:22.119Z"
   },
   {
    "duration": 29,
    "start_time": "2024-02-02T10:26:22.137Z"
   },
   {
    "duration": 21,
    "start_time": "2024-02-02T10:26:22.167Z"
   },
   {
    "duration": 12,
    "start_time": "2024-02-02T10:26:22.189Z"
   },
   {
    "duration": 18,
    "start_time": "2024-02-02T10:26:22.202Z"
   },
   {
    "duration": 10,
    "start_time": "2024-02-02T10:26:22.221Z"
   },
   {
    "duration": 27,
    "start_time": "2024-02-02T10:26:22.234Z"
   },
   {
    "duration": 18,
    "start_time": "2024-02-02T10:26:22.263Z"
   },
   {
    "duration": 47,
    "start_time": "2024-02-02T10:26:22.283Z"
   },
   {
    "duration": 34,
    "start_time": "2024-02-02T10:26:22.331Z"
   },
   {
    "duration": 9,
    "start_time": "2024-02-02T10:26:22.366Z"
   },
   {
    "duration": 12,
    "start_time": "2024-02-02T10:26:22.377Z"
   },
   {
    "duration": 11,
    "start_time": "2024-02-02T10:26:22.390Z"
   },
   {
    "duration": 11,
    "start_time": "2024-02-02T10:26:22.403Z"
   },
   {
    "duration": 7,
    "start_time": "2024-02-02T10:26:22.416Z"
   },
   {
    "duration": 17,
    "start_time": "2024-02-02T10:26:22.424Z"
   },
   {
    "duration": 16,
    "start_time": "2024-02-02T10:26:22.442Z"
   },
   {
    "duration": 15,
    "start_time": "2024-02-02T10:26:22.459Z"
   },
   {
    "duration": 8,
    "start_time": "2024-02-02T10:26:22.476Z"
   },
   {
    "duration": 7,
    "start_time": "2024-02-02T10:26:22.485Z"
   },
   {
    "duration": 35,
    "start_time": "2024-02-02T10:26:22.493Z"
   },
   {
    "duration": 2552,
    "start_time": "2024-02-02T10:26:22.530Z"
   },
   {
    "duration": 6,
    "start_time": "2024-02-02T10:26:25.084Z"
   },
   {
    "duration": 115,
    "start_time": "2024-02-02T10:26:25.092Z"
   },
   {
    "duration": 89,
    "start_time": "2024-02-02T10:26:25.208Z"
   },
   {
    "duration": 228,
    "start_time": "2024-02-02T10:26:25.298Z"
   },
   {
    "duration": 477,
    "start_time": "2024-02-02T10:26:25.527Z"
   },
   {
    "duration": 0,
    "start_time": "2024-02-02T10:26:26.007Z"
   },
   {
    "duration": 0,
    "start_time": "2024-02-02T10:26:26.008Z"
   },
   {
    "duration": 0,
    "start_time": "2024-02-02T10:26:26.009Z"
   },
   {
    "duration": 0,
    "start_time": "2024-02-02T10:26:26.010Z"
   },
   {
    "duration": 0,
    "start_time": "2024-02-02T10:26:26.011Z"
   },
   {
    "duration": 0,
    "start_time": "2024-02-02T10:26:26.012Z"
   },
   {
    "duration": 0,
    "start_time": "2024-02-02T10:26:26.013Z"
   },
   {
    "duration": 0,
    "start_time": "2024-02-02T10:26:26.014Z"
   },
   {
    "duration": 0,
    "start_time": "2024-02-02T10:26:26.015Z"
   },
   {
    "duration": 0,
    "start_time": "2024-02-02T10:26:26.016Z"
   },
   {
    "duration": 0,
    "start_time": "2024-02-02T10:26:26.018Z"
   },
   {
    "duration": 0,
    "start_time": "2024-02-02T10:26:26.019Z"
   },
   {
    "duration": 0,
    "start_time": "2024-02-02T10:26:26.020Z"
   },
   {
    "duration": 0,
    "start_time": "2024-02-02T10:26:26.021Z"
   },
   {
    "duration": 0,
    "start_time": "2024-02-02T10:26:26.022Z"
   },
   {
    "duration": 0,
    "start_time": "2024-02-02T10:26:26.023Z"
   },
   {
    "duration": 0,
    "start_time": "2024-02-02T10:26:26.024Z"
   },
   {
    "duration": 0,
    "start_time": "2024-02-02T10:26:26.026Z"
   },
   {
    "duration": 0,
    "start_time": "2024-02-02T10:26:26.027Z"
   },
   {
    "duration": 0,
    "start_time": "2024-02-02T10:26:26.028Z"
   },
   {
    "duration": 0,
    "start_time": "2024-02-02T10:26:26.029Z"
   },
   {
    "duration": 0,
    "start_time": "2024-02-02T10:26:26.030Z"
   },
   {
    "duration": 0,
    "start_time": "2024-02-02T10:26:26.031Z"
   },
   {
    "duration": 0,
    "start_time": "2024-02-02T10:26:26.032Z"
   },
   {
    "duration": 0,
    "start_time": "2024-02-02T10:26:26.033Z"
   },
   {
    "duration": 0,
    "start_time": "2024-02-02T10:26:26.034Z"
   },
   {
    "duration": 0,
    "start_time": "2024-02-02T10:26:26.035Z"
   },
   {
    "duration": 0,
    "start_time": "2024-02-02T10:26:26.036Z"
   },
   {
    "duration": 0,
    "start_time": "2024-02-02T10:26:26.037Z"
   },
   {
    "duration": 0,
    "start_time": "2024-02-02T10:26:26.038Z"
   },
   {
    "duration": 0,
    "start_time": "2024-02-02T10:26:26.039Z"
   },
   {
    "duration": 0,
    "start_time": "2024-02-02T10:26:26.040Z"
   },
   {
    "duration": 0,
    "start_time": "2024-02-02T10:26:26.095Z"
   },
   {
    "duration": 0,
    "start_time": "2024-02-02T10:26:26.096Z"
   },
   {
    "duration": 0,
    "start_time": "2024-02-02T10:26:26.097Z"
   },
   {
    "duration": 0,
    "start_time": "2024-02-02T10:26:26.098Z"
   },
   {
    "duration": 148,
    "start_time": "2024-02-02T10:27:38.260Z"
   },
   {
    "duration": 142,
    "start_time": "2024-02-02T10:27:41.218Z"
   },
   {
    "duration": 511,
    "start_time": "2024-02-02T10:27:43.673Z"
   },
   {
    "duration": 8,
    "start_time": "2024-02-02T10:27:46.625Z"
   },
   {
    "duration": 3,
    "start_time": "2024-02-02T10:27:47.282Z"
   },
   {
    "duration": 3,
    "start_time": "2024-02-02T10:27:47.489Z"
   },
   {
    "duration": 3,
    "start_time": "2024-02-02T10:27:47.693Z"
   },
   {
    "duration": 3,
    "start_time": "2024-02-02T10:27:47.841Z"
   },
   {
    "duration": 34,
    "start_time": "2024-02-02T10:27:48.000Z"
   },
   {
    "duration": 3,
    "start_time": "2024-02-02T10:27:48.326Z"
   },
   {
    "duration": 4,
    "start_time": "2024-02-02T10:27:48.471Z"
   },
   {
    "duration": 253,
    "start_time": "2024-02-02T10:27:48.945Z"
   },
   {
    "duration": 4,
    "start_time": "2024-02-02T10:27:49.363Z"
   },
   {
    "duration": 1614,
    "start_time": "2024-02-02T10:27:49.531Z"
   },
   {
    "duration": 3,
    "start_time": "2024-02-02T10:27:51.147Z"
   },
   {
    "duration": 455,
    "start_time": "2024-02-02T10:27:51.151Z"
   },
   {
    "duration": 6,
    "start_time": "2024-02-02T10:27:51.608Z"
   },
   {
    "duration": 38,
    "start_time": "2024-02-02T10:27:51.615Z"
   },
   {
    "duration": 5,
    "start_time": "2024-02-02T10:27:56.096Z"
   },
   {
    "duration": 17,
    "start_time": "2024-02-02T10:27:56.288Z"
   },
   {
    "duration": 9,
    "start_time": "2024-02-02T10:27:56.439Z"
   },
   {
    "duration": 5,
    "start_time": "2024-02-02T10:27:56.629Z"
   },
   {
    "duration": 153,
    "start_time": "2024-02-02T10:27:56.764Z"
   },
   {
    "duration": 257,
    "start_time": "2024-02-02T10:27:57.068Z"
   },
   {
    "duration": 358,
    "start_time": "2024-02-02T10:27:57.559Z"
   },
   {
    "duration": 100,
    "start_time": "2024-02-02T10:27:58.508Z"
   },
   {
    "duration": 22,
    "start_time": "2024-02-02T10:27:58.742Z"
   },
   {
    "duration": 19,
    "start_time": "2024-02-02T10:28:11.184Z"
   },
   {
    "duration": 18,
    "start_time": "2024-02-02T10:28:17.565Z"
   },
   {
    "duration": 9,
    "start_time": "2024-02-02T10:28:35.617Z"
   },
   {
    "duration": 5,
    "start_time": "2024-02-02T10:28:36.070Z"
   },
   {
    "duration": 4,
    "start_time": "2024-02-02T10:28:36.213Z"
   },
   {
    "duration": 3,
    "start_time": "2024-02-02T10:28:36.486Z"
   },
   {
    "duration": 4,
    "start_time": "2024-02-02T10:28:36.582Z"
   },
   {
    "duration": 33,
    "start_time": "2024-02-02T10:28:36.749Z"
   },
   {
    "duration": 392,
    "start_time": "2024-02-02T10:28:37.010Z"
   },
   {
    "duration": 97,
    "start_time": "2024-02-02T10:28:37.404Z"
   },
   {
    "duration": 2669,
    "start_time": "2024-02-02T10:28:37.503Z"
   },
   {
    "duration": 14,
    "start_time": "2024-02-02T10:29:08.012Z"
   },
   {
    "duration": 153,
    "start_time": "2024-02-02T10:29:23.056Z"
   },
   {
    "duration": 7,
    "start_time": "2024-02-02T10:29:23.644Z"
   },
   {
    "duration": 27,
    "start_time": "2024-02-02T10:29:24.152Z"
   },
   {
    "duration": 13,
    "start_time": "2024-02-02T10:29:24.728Z"
   },
   {
    "duration": 12,
    "start_time": "2024-02-02T10:29:29.311Z"
   },
   {
    "duration": 13,
    "start_time": "2024-02-02T10:30:56.016Z"
   },
   {
    "duration": 7,
    "start_time": "2024-02-02T10:31:11.287Z"
   },
   {
    "duration": 20,
    "start_time": "2024-02-02T10:31:17.034Z"
   },
   {
    "duration": 22,
    "start_time": "2024-02-02T10:31:23.422Z"
   },
   {
    "duration": 126,
    "start_time": "2024-02-02T10:31:29.034Z"
   },
   {
    "duration": 6,
    "start_time": "2024-02-02T10:31:29.546Z"
   },
   {
    "duration": 28,
    "start_time": "2024-02-02T10:31:30.004Z"
   },
   {
    "duration": 3,
    "start_time": "2024-02-02T10:31:31.739Z"
   },
   {
    "duration": 2,
    "start_time": "2024-02-02T10:31:33.243Z"
   },
   {
    "duration": 3,
    "start_time": "2024-02-02T10:31:33.411Z"
   },
   {
    "duration": 2,
    "start_time": "2024-02-02T10:31:33.564Z"
   },
   {
    "duration": 18,
    "start_time": "2024-02-02T10:31:34.645Z"
   },
   {
    "duration": 139,
    "start_time": "2024-02-02T10:31:47.656Z"
   },
   {
    "duration": 253,
    "start_time": "2024-02-02T10:31:52.018Z"
   },
   {
    "duration": 348,
    "start_time": "2024-02-02T10:31:56.074Z"
   },
   {
    "duration": 107,
    "start_time": "2024-02-02T10:31:59.862Z"
   },
   {
    "duration": 19,
    "start_time": "2024-02-02T10:32:04.680Z"
   },
   {
    "duration": 3,
    "start_time": "2024-02-02T10:32:49.807Z"
   },
   {
    "duration": 16,
    "start_time": "2024-02-02T10:32:55.221Z"
   },
   {
    "duration": 15,
    "start_time": "2024-02-02T10:33:00.923Z"
   },
   {
    "duration": 16,
    "start_time": "2024-02-02T10:33:04.948Z"
   },
   {
    "duration": 14,
    "start_time": "2024-02-02T10:33:10.776Z"
   },
   {
    "duration": 136,
    "start_time": "2024-02-02T10:33:20.890Z"
   },
   {
    "duration": 6,
    "start_time": "2024-02-02T10:33:21.456Z"
   },
   {
    "duration": 29,
    "start_time": "2024-02-02T10:33:21.538Z"
   },
   {
    "duration": 2,
    "start_time": "2024-02-02T10:33:21.705Z"
   },
   {
    "duration": 2,
    "start_time": "2024-02-02T10:33:21.792Z"
   },
   {
    "duration": 2,
    "start_time": "2024-02-02T10:33:21.876Z"
   },
   {
    "duration": 2,
    "start_time": "2024-02-02T10:33:21.957Z"
   },
   {
    "duration": 7,
    "start_time": "2024-02-02T10:33:22.388Z"
   },
   {
    "duration": 140,
    "start_time": "2024-02-02T10:33:22.594Z"
   },
   {
    "duration": 237,
    "start_time": "2024-02-02T10:33:28.005Z"
   },
   {
    "duration": 351,
    "start_time": "2024-02-02T10:33:28.501Z"
   },
   {
    "duration": 107,
    "start_time": "2024-02-02T10:33:31.074Z"
   },
   {
    "duration": 18,
    "start_time": "2024-02-02T10:33:31.284Z"
   },
   {
    "duration": 3,
    "start_time": "2024-02-02T10:33:38.683Z"
   },
   {
    "duration": 15,
    "start_time": "2024-02-02T10:33:41.012Z"
   },
   {
    "duration": 2728,
    "start_time": "2024-02-02T10:34:15.355Z"
   },
   {
    "duration": 2306,
    "start_time": "2024-02-02T10:34:18.085Z"
   },
   {
    "duration": 2300,
    "start_time": "2024-02-02T10:34:20.393Z"
   },
   {
    "duration": 3,
    "start_time": "2024-02-02T10:34:22.695Z"
   },
   {
    "duration": 630,
    "start_time": "2024-02-02T10:34:22.699Z"
   },
   {
    "duration": 1584,
    "start_time": "2024-02-02T10:34:23.330Z"
   },
   {
    "duration": 227,
    "start_time": "2024-02-02T10:34:24.915Z"
   },
   {
    "duration": 13,
    "start_time": "2024-02-02T10:34:25.143Z"
   },
   {
    "duration": 24,
    "start_time": "2024-02-02T10:34:25.158Z"
   },
   {
    "duration": 19,
    "start_time": "2024-02-02T10:34:25.185Z"
   },
   {
    "duration": 14,
    "start_time": "2024-02-02T10:34:25.206Z"
   },
   {
    "duration": 16,
    "start_time": "2024-02-02T10:34:25.221Z"
   },
   {
    "duration": 3,
    "start_time": "2024-02-02T10:34:25.238Z"
   },
   {
    "duration": 19,
    "start_time": "2024-02-02T10:34:25.242Z"
   },
   {
    "duration": 17,
    "start_time": "2024-02-02T10:34:25.262Z"
   },
   {
    "duration": 12,
    "start_time": "2024-02-02T10:34:25.281Z"
   },
   {
    "duration": 11,
    "start_time": "2024-02-02T10:34:25.294Z"
   },
   {
    "duration": 24,
    "start_time": "2024-02-02T10:34:25.306Z"
   },
   {
    "duration": 8,
    "start_time": "2024-02-02T10:34:25.332Z"
   },
   {
    "duration": 14,
    "start_time": "2024-02-02T10:34:25.341Z"
   },
   {
    "duration": 14,
    "start_time": "2024-02-02T10:34:25.356Z"
   },
   {
    "duration": 10,
    "start_time": "2024-02-02T10:34:25.372Z"
   },
   {
    "duration": 10,
    "start_time": "2024-02-02T10:34:25.383Z"
   },
   {
    "duration": 6,
    "start_time": "2024-02-02T10:34:25.394Z"
   },
   {
    "duration": 3,
    "start_time": "2024-02-02T10:34:25.402Z"
   },
   {
    "duration": 22,
    "start_time": "2024-02-02T10:34:25.406Z"
   },
   {
    "duration": 10,
    "start_time": "2024-02-02T10:34:25.429Z"
   },
   {
    "duration": 36,
    "start_time": "2024-02-02T10:34:25.443Z"
   },
   {
    "duration": 2301,
    "start_time": "2024-02-02T10:34:25.481Z"
   },
   {
    "duration": 7,
    "start_time": "2024-02-02T10:34:27.783Z"
   },
   {
    "duration": 102,
    "start_time": "2024-02-02T10:34:27.791Z"
   },
   {
    "duration": 80,
    "start_time": "2024-02-02T10:34:27.894Z"
   },
   {
    "duration": 229,
    "start_time": "2024-02-02T10:34:27.975Z"
   },
   {
    "duration": 517,
    "start_time": "2024-02-02T10:34:28.206Z"
   },
   {
    "duration": 0,
    "start_time": "2024-02-02T10:34:28.725Z"
   },
   {
    "duration": 0,
    "start_time": "2024-02-02T10:34:28.726Z"
   },
   {
    "duration": 0,
    "start_time": "2024-02-02T10:34:28.727Z"
   },
   {
    "duration": 0,
    "start_time": "2024-02-02T10:34:28.728Z"
   },
   {
    "duration": 0,
    "start_time": "2024-02-02T10:34:28.729Z"
   },
   {
    "duration": 0,
    "start_time": "2024-02-02T10:34:28.730Z"
   },
   {
    "duration": 0,
    "start_time": "2024-02-02T10:34:28.731Z"
   },
   {
    "duration": 0,
    "start_time": "2024-02-02T10:34:28.732Z"
   },
   {
    "duration": 0,
    "start_time": "2024-02-02T10:34:28.733Z"
   },
   {
    "duration": 0,
    "start_time": "2024-02-02T10:34:28.734Z"
   },
   {
    "duration": 0,
    "start_time": "2024-02-02T10:34:28.735Z"
   },
   {
    "duration": 0,
    "start_time": "2024-02-02T10:34:28.736Z"
   },
   {
    "duration": 0,
    "start_time": "2024-02-02T10:34:28.737Z"
   },
   {
    "duration": 0,
    "start_time": "2024-02-02T10:34:28.739Z"
   },
   {
    "duration": 0,
    "start_time": "2024-02-02T10:34:28.739Z"
   },
   {
    "duration": 0,
    "start_time": "2024-02-02T10:34:28.741Z"
   },
   {
    "duration": 0,
    "start_time": "2024-02-02T10:34:28.741Z"
   },
   {
    "duration": 0,
    "start_time": "2024-02-02T10:34:28.742Z"
   },
   {
    "duration": 0,
    "start_time": "2024-02-02T10:34:28.743Z"
   },
   {
    "duration": 0,
    "start_time": "2024-02-02T10:34:28.744Z"
   },
   {
    "duration": 0,
    "start_time": "2024-02-02T10:34:28.745Z"
   },
   {
    "duration": 0,
    "start_time": "2024-02-02T10:34:28.746Z"
   },
   {
    "duration": 0,
    "start_time": "2024-02-02T10:34:28.747Z"
   },
   {
    "duration": 0,
    "start_time": "2024-02-02T10:34:28.748Z"
   },
   {
    "duration": 0,
    "start_time": "2024-02-02T10:34:28.748Z"
   },
   {
    "duration": 0,
    "start_time": "2024-02-02T10:34:28.749Z"
   },
   {
    "duration": 0,
    "start_time": "2024-02-02T10:34:28.750Z"
   },
   {
    "duration": 0,
    "start_time": "2024-02-02T10:34:28.794Z"
   },
   {
    "duration": 0,
    "start_time": "2024-02-02T10:34:28.795Z"
   },
   {
    "duration": 0,
    "start_time": "2024-02-02T10:34:28.796Z"
   },
   {
    "duration": 0,
    "start_time": "2024-02-02T10:34:28.797Z"
   },
   {
    "duration": 0,
    "start_time": "2024-02-02T10:34:28.798Z"
   },
   {
    "duration": 0,
    "start_time": "2024-02-02T10:34:28.799Z"
   },
   {
    "duration": 0,
    "start_time": "2024-02-02T10:34:28.800Z"
   },
   {
    "duration": 0,
    "start_time": "2024-02-02T10:34:28.801Z"
   },
   {
    "duration": 0,
    "start_time": "2024-02-02T10:34:28.802Z"
   },
   {
    "duration": 0,
    "start_time": "2024-02-02T10:34:28.802Z"
   },
   {
    "duration": 0,
    "start_time": "2024-02-02T10:34:28.803Z"
   },
   {
    "duration": 283,
    "start_time": "2024-02-02T10:34:53.632Z"
   },
   {
    "duration": 134,
    "start_time": "2024-02-02T10:35:00.118Z"
   },
   {
    "duration": 146,
    "start_time": "2024-02-02T10:35:00.970Z"
   },
   {
    "duration": 492,
    "start_time": "2024-02-02T10:35:01.543Z"
   },
   {
    "duration": 8,
    "start_time": "2024-02-02T10:35:02.715Z"
   },
   {
    "duration": 3,
    "start_time": "2024-02-02T10:35:03.217Z"
   },
   {
    "duration": 2,
    "start_time": "2024-02-02T10:35:03.291Z"
   },
   {
    "duration": 3,
    "start_time": "2024-02-02T10:35:03.372Z"
   },
   {
    "duration": 2,
    "start_time": "2024-02-02T10:35:03.456Z"
   },
   {
    "duration": 32,
    "start_time": "2024-02-02T10:35:03.541Z"
   },
   {
    "duration": 3,
    "start_time": "2024-02-02T10:35:04.712Z"
   },
   {
    "duration": 4,
    "start_time": "2024-02-02T10:35:04.782Z"
   },
   {
    "duration": 58,
    "start_time": "2024-02-02T10:35:04.944Z"
   },
   {
    "duration": 5,
    "start_time": "2024-02-02T10:35:05.286Z"
   },
   {
    "duration": 1578,
    "start_time": "2024-02-02T10:35:05.847Z"
   },
   {
    "duration": 3,
    "start_time": "2024-02-02T10:35:07.427Z"
   },
   {
    "duration": 509,
    "start_time": "2024-02-02T10:35:08.581Z"
   },
   {
    "duration": 6,
    "start_time": "2024-02-02T10:35:13.382Z"
   },
   {
    "duration": 33,
    "start_time": "2024-02-02T10:35:13.565Z"
   },
   {
    "duration": 2,
    "start_time": "2024-02-02T10:35:14.552Z"
   },
   {
    "duration": 2,
    "start_time": "2024-02-02T10:35:14.731Z"
   },
   {
    "duration": 2,
    "start_time": "2024-02-02T10:35:15.110Z"
   },
   {
    "duration": 2,
    "start_time": "2024-02-02T10:35:15.556Z"
   },
   {
    "duration": 7,
    "start_time": "2024-02-02T10:35:16.176Z"
   },
   {
    "duration": 142,
    "start_time": "2024-02-02T10:35:16.896Z"
   },
   {
    "duration": 251,
    "start_time": "2024-02-02T10:35:19.423Z"
   },
   {
    "duration": 380,
    "start_time": "2024-02-02T10:35:23.084Z"
   },
   {
    "duration": 109,
    "start_time": "2024-02-02T10:35:31.833Z"
   },
   {
    "duration": 21,
    "start_time": "2024-02-02T10:35:32.620Z"
   },
   {
    "duration": 4,
    "start_time": "2024-02-02T10:35:40.107Z"
   },
   {
    "duration": 9,
    "start_time": "2024-02-02T10:35:40.714Z"
   },
   {
    "duration": 5,
    "start_time": "2024-02-02T10:35:42.222Z"
   },
   {
    "duration": 4,
    "start_time": "2024-02-02T10:35:42.732Z"
   },
   {
    "duration": 3,
    "start_time": "2024-02-02T10:35:43.375Z"
   },
   {
    "duration": 4,
    "start_time": "2024-02-02T10:35:43.510Z"
   },
   {
    "duration": 1229,
    "start_time": "2024-02-02T10:35:44.228Z"
   },
   {
    "duration": 3078,
    "start_time": "2024-02-02T10:36:35.930Z"
   },
   {
    "duration": 0,
    "start_time": "2024-02-02T10:36:39.010Z"
   },
   {
    "duration": 14,
    "start_time": "2024-02-02T10:37:57.200Z"
   },
   {
    "duration": 206,
    "start_time": "2024-02-02T10:38:45.825Z"
   },
   {
    "duration": 7,
    "start_time": "2024-02-02T10:38:49.640Z"
   },
   {
    "duration": 32,
    "start_time": "2024-02-02T10:38:50.161Z"
   },
   {
    "duration": 7,
    "start_time": "2024-02-02T10:38:51.017Z"
   },
   {
    "duration": 18,
    "start_time": "2024-02-02T10:38:51.535Z"
   },
   {
    "duration": 8,
    "start_time": "2024-02-02T10:38:51.976Z"
   },
   {
    "duration": 5,
    "start_time": "2024-02-02T10:38:52.618Z"
   },
   {
    "duration": 166,
    "start_time": "2024-02-02T10:38:53.221Z"
   },
   {
    "duration": 286,
    "start_time": "2024-02-02T10:38:54.257Z"
   },
   {
    "duration": 402,
    "start_time": "2024-02-02T10:38:55.267Z"
   },
   {
    "duration": 106,
    "start_time": "2024-02-02T10:38:56.456Z"
   },
   {
    "duration": 19,
    "start_time": "2024-02-02T10:38:57.330Z"
   },
   {
    "duration": 23,
    "start_time": "2024-02-02T10:39:04.520Z"
   },
   {
    "duration": 11,
    "start_time": "2024-02-02T10:39:15.262Z"
   },
   {
    "duration": 5,
    "start_time": "2024-02-02T10:39:16.718Z"
   },
   {
    "duration": 3,
    "start_time": "2024-02-02T10:39:17.728Z"
   },
   {
    "duration": 5,
    "start_time": "2024-02-02T10:39:20.995Z"
   },
   {
    "duration": 4,
    "start_time": "2024-02-02T10:39:21.166Z"
   },
   {
    "duration": 36,
    "start_time": "2024-02-02T10:39:21.348Z"
   },
   {
    "duration": 416,
    "start_time": "2024-02-02T10:39:23.279Z"
   },
   {
    "duration": 4,
    "start_time": "2024-02-02T10:39:24.092Z"
   },
   {
    "duration": 2980,
    "start_time": "2024-02-02T10:39:31.529Z"
   },
   {
    "duration": 2402,
    "start_time": "2024-02-02T10:39:34.512Z"
   },
   {
    "duration": 2452,
    "start_time": "2024-02-02T10:39:36.916Z"
   },
   {
    "duration": 3,
    "start_time": "2024-02-02T10:39:39.369Z"
   },
   {
    "duration": 673,
    "start_time": "2024-02-02T10:39:39.374Z"
   },
   {
    "duration": 1634,
    "start_time": "2024-02-02T10:39:40.050Z"
   },
   {
    "duration": 233,
    "start_time": "2024-02-02T10:39:41.685Z"
   },
   {
    "duration": 15,
    "start_time": "2024-02-02T10:39:41.919Z"
   },
   {
    "duration": 34,
    "start_time": "2024-02-02T10:39:41.936Z"
   },
   {
    "duration": 22,
    "start_time": "2024-02-02T10:39:41.971Z"
   },
   {
    "duration": 37,
    "start_time": "2024-02-02T10:39:41.994Z"
   },
   {
    "duration": 29,
    "start_time": "2024-02-02T10:39:42.032Z"
   },
   {
    "duration": 23,
    "start_time": "2024-02-02T10:39:42.062Z"
   },
   {
    "duration": 63,
    "start_time": "2024-02-02T10:39:42.088Z"
   },
   {
    "duration": 30,
    "start_time": "2024-02-02T10:39:42.152Z"
   },
   {
    "duration": 33,
    "start_time": "2024-02-02T10:39:42.184Z"
   },
   {
    "duration": 39,
    "start_time": "2024-02-02T10:39:42.218Z"
   },
   {
    "duration": 43,
    "start_time": "2024-02-02T10:39:42.258Z"
   },
   {
    "duration": 33,
    "start_time": "2024-02-02T10:39:42.303Z"
   },
   {
    "duration": 51,
    "start_time": "2024-02-02T10:39:42.337Z"
   },
   {
    "duration": 30,
    "start_time": "2024-02-02T10:39:42.390Z"
   },
   {
    "duration": 24,
    "start_time": "2024-02-02T10:39:42.422Z"
   },
   {
    "duration": 36,
    "start_time": "2024-02-02T10:39:42.447Z"
   },
   {
    "duration": 13,
    "start_time": "2024-02-02T10:39:42.484Z"
   },
   {
    "duration": 32,
    "start_time": "2024-02-02T10:39:42.499Z"
   },
   {
    "duration": 39,
    "start_time": "2024-02-02T10:39:42.532Z"
   },
   {
    "duration": 53,
    "start_time": "2024-02-02T10:39:42.573Z"
   },
   {
    "duration": 59,
    "start_time": "2024-02-02T10:39:42.627Z"
   },
   {
    "duration": 2442,
    "start_time": "2024-02-02T10:39:42.688Z"
   },
   {
    "duration": 7,
    "start_time": "2024-02-02T10:39:45.132Z"
   },
   {
    "duration": 158,
    "start_time": "2024-02-02T10:39:45.140Z"
   },
   {
    "duration": 95,
    "start_time": "2024-02-02T10:39:45.299Z"
   },
   {
    "duration": 231,
    "start_time": "2024-02-02T10:39:45.396Z"
   },
   {
    "duration": 279,
    "start_time": "2024-02-02T10:39:45.629Z"
   },
   {
    "duration": 147,
    "start_time": "2024-02-02T10:39:45.909Z"
   },
   {
    "duration": 150,
    "start_time": "2024-02-02T10:39:46.057Z"
   },
   {
    "duration": 513,
    "start_time": "2024-02-02T10:39:46.208Z"
   },
   {
    "duration": 8,
    "start_time": "2024-02-02T10:39:46.722Z"
   },
   {
    "duration": 7,
    "start_time": "2024-02-02T10:39:46.732Z"
   },
   {
    "duration": 25,
    "start_time": "2024-02-02T10:39:46.740Z"
   },
   {
    "duration": 3,
    "start_time": "2024-02-02T10:39:46.770Z"
   },
   {
    "duration": 39,
    "start_time": "2024-02-02T10:39:46.774Z"
   },
   {
    "duration": 48,
    "start_time": "2024-02-02T10:39:46.815Z"
   },
   {
    "duration": 3,
    "start_time": "2024-02-02T10:39:46.865Z"
   },
   {
    "duration": 13,
    "start_time": "2024-02-02T10:39:46.869Z"
   },
   {
    "duration": 114,
    "start_time": "2024-02-02T10:39:46.883Z"
   },
   {
    "duration": 96,
    "start_time": "2024-02-02T10:39:46.999Z"
   },
   {
    "duration": 1665,
    "start_time": "2024-02-02T10:39:47.096Z"
   },
   {
    "duration": 4,
    "start_time": "2024-02-02T10:39:48.762Z"
   },
   {
    "duration": 140,
    "start_time": "2024-02-02T10:39:48.767Z"
   },
   {
    "duration": 7,
    "start_time": "2024-02-02T10:39:48.909Z"
   },
   {
    "duration": 43,
    "start_time": "2024-02-02T10:39:48.918Z"
   },
   {
    "duration": 4,
    "start_time": "2024-02-02T10:39:48.963Z"
   },
   {
    "duration": 44,
    "start_time": "2024-02-02T10:39:48.969Z"
   },
   {
    "duration": 27,
    "start_time": "2024-02-02T10:39:49.015Z"
   },
   {
    "duration": 28,
    "start_time": "2024-02-02T10:39:49.043Z"
   },
   {
    "duration": 188,
    "start_time": "2024-02-02T10:39:49.072Z"
   },
   {
    "duration": 267,
    "start_time": "2024-02-02T10:39:49.262Z"
   },
   {
    "duration": 366,
    "start_time": "2024-02-02T10:39:49.531Z"
   },
   {
    "duration": 114,
    "start_time": "2024-02-02T10:39:49.899Z"
   },
   {
    "duration": 185,
    "start_time": "2024-02-02T10:39:50.015Z"
   },
   {
    "duration": 0,
    "start_time": "2024-02-02T10:39:50.202Z"
   },
   {
    "duration": 0,
    "start_time": "2024-02-02T10:39:50.203Z"
   },
   {
    "duration": 1,
    "start_time": "2024-02-02T10:39:50.204Z"
   },
   {
    "duration": 0,
    "start_time": "2024-02-02T10:39:50.206Z"
   },
   {
    "duration": 0,
    "start_time": "2024-02-02T10:39:50.207Z"
   },
   {
    "duration": 0,
    "start_time": "2024-02-02T10:39:50.209Z"
   },
   {
    "duration": 0,
    "start_time": "2024-02-02T10:39:50.210Z"
   },
   {
    "duration": 0,
    "start_time": "2024-02-02T10:39:50.212Z"
   },
   {
    "duration": 0,
    "start_time": "2024-02-02T10:39:50.213Z"
   },
   {
    "duration": 12,
    "start_time": "2024-02-02T10:40:26.350Z"
   },
   {
    "duration": 5,
    "start_time": "2024-02-02T10:40:27.139Z"
   },
   {
    "duration": 5,
    "start_time": "2024-02-02T10:40:27.318Z"
   },
   {
    "duration": 3,
    "start_time": "2024-02-02T10:40:27.494Z"
   },
   {
    "duration": 4,
    "start_time": "2024-02-02T10:40:27.575Z"
   },
   {
    "duration": 36,
    "start_time": "2024-02-02T10:40:27.705Z"
   },
   {
    "duration": 488,
    "start_time": "2024-02-02T10:40:28.014Z"
   },
   {
    "duration": 4,
    "start_time": "2024-02-02T10:40:29.144Z"
   },
   {
    "duration": 2656,
    "start_time": "2024-02-02T10:40:31.186Z"
   },
   {
    "duration": 5,
    "start_time": "2024-02-02T10:41:40.394Z"
   },
   {
    "duration": 5,
    "start_time": "2024-02-02T10:41:53.637Z"
   },
   {
    "duration": 92,
    "start_time": "2024-02-02T10:41:57.502Z"
   },
   {
    "duration": 7,
    "start_time": "2024-02-02T10:42:00.562Z"
   },
   {
    "duration": 3,
    "start_time": "2024-02-02T10:49:01.344Z"
   },
   {
    "duration": 354,
    "start_time": "2024-02-02T10:50:12.846Z"
   },
   {
    "duration": 2902,
    "start_time": "2024-02-02T10:50:55.411Z"
   },
   {
    "duration": 2421,
    "start_time": "2024-02-02T10:50:58.315Z"
   },
   {
    "duration": 2375,
    "start_time": "2024-02-02T10:51:00.738Z"
   },
   {
    "duration": 3,
    "start_time": "2024-02-02T10:51:03.114Z"
   },
   {
    "duration": 622,
    "start_time": "2024-02-02T10:51:03.119Z"
   },
   {
    "duration": 1646,
    "start_time": "2024-02-02T10:51:03.743Z"
   },
   {
    "duration": 229,
    "start_time": "2024-02-02T10:51:05.390Z"
   },
   {
    "duration": 15,
    "start_time": "2024-02-02T10:51:05.621Z"
   },
   {
    "duration": 28,
    "start_time": "2024-02-02T10:51:05.637Z"
   },
   {
    "duration": 48,
    "start_time": "2024-02-02T10:51:05.666Z"
   },
   {
    "duration": 20,
    "start_time": "2024-02-02T10:51:05.716Z"
   },
   {
    "duration": 36,
    "start_time": "2024-02-02T10:51:05.738Z"
   },
   {
    "duration": 22,
    "start_time": "2024-02-02T10:51:05.775Z"
   },
   {
    "duration": 23,
    "start_time": "2024-02-02T10:51:05.800Z"
   },
   {
    "duration": 24,
    "start_time": "2024-02-02T10:51:05.824Z"
   },
   {
    "duration": 41,
    "start_time": "2024-02-02T10:51:05.849Z"
   },
   {
    "duration": 53,
    "start_time": "2024-02-02T10:51:05.892Z"
   },
   {
    "duration": 48,
    "start_time": "2024-02-02T10:51:05.946Z"
   },
   {
    "duration": 20,
    "start_time": "2024-02-02T10:51:05.996Z"
   },
   {
    "duration": 14,
    "start_time": "2024-02-02T10:51:06.018Z"
   },
   {
    "duration": 35,
    "start_time": "2024-02-02T10:51:06.034Z"
   },
   {
    "duration": 33,
    "start_time": "2024-02-02T10:51:06.070Z"
   },
   {
    "duration": 21,
    "start_time": "2024-02-02T10:51:06.105Z"
   },
   {
    "duration": 44,
    "start_time": "2024-02-02T10:51:06.128Z"
   },
   {
    "duration": 12,
    "start_time": "2024-02-02T10:51:06.173Z"
   },
   {
    "duration": 15,
    "start_time": "2024-02-02T10:51:06.187Z"
   },
   {
    "duration": 22,
    "start_time": "2024-02-02T10:51:06.204Z"
   },
   {
    "duration": 48,
    "start_time": "2024-02-02T10:51:06.227Z"
   },
   {
    "duration": 2390,
    "start_time": "2024-02-02T10:51:06.276Z"
   },
   {
    "duration": 6,
    "start_time": "2024-02-02T10:51:08.668Z"
   },
   {
    "duration": 102,
    "start_time": "2024-02-02T10:51:08.676Z"
   },
   {
    "duration": 89,
    "start_time": "2024-02-02T10:51:08.780Z"
   },
   {
    "duration": 241,
    "start_time": "2024-02-02T10:51:08.870Z"
   },
   {
    "duration": 296,
    "start_time": "2024-02-02T10:51:09.113Z"
   },
   {
    "duration": 159,
    "start_time": "2024-02-02T10:51:09.410Z"
   },
   {
    "duration": 152,
    "start_time": "2024-02-02T10:51:09.571Z"
   },
   {
    "duration": 500,
    "start_time": "2024-02-02T10:51:09.725Z"
   },
   {
    "duration": 8,
    "start_time": "2024-02-02T10:51:10.226Z"
   },
   {
    "duration": 45,
    "start_time": "2024-02-02T10:51:10.235Z"
   },
   {
    "duration": 36,
    "start_time": "2024-02-02T10:51:10.281Z"
   },
   {
    "duration": 24,
    "start_time": "2024-02-02T10:51:10.321Z"
   },
   {
    "duration": 41,
    "start_time": "2024-02-02T10:51:10.347Z"
   },
   {
    "duration": 93,
    "start_time": "2024-02-02T10:51:10.390Z"
   },
   {
    "duration": 18,
    "start_time": "2024-02-02T10:51:10.485Z"
   },
   {
    "duration": 54,
    "start_time": "2024-02-02T10:51:10.505Z"
   },
   {
    "duration": 234,
    "start_time": "2024-02-02T10:51:10.560Z"
   },
   {
    "duration": 5,
    "start_time": "2024-02-02T10:51:10.796Z"
   },
   {
    "duration": 1647,
    "start_time": "2024-02-02T10:51:10.803Z"
   },
   {
    "duration": 3,
    "start_time": "2024-02-02T10:51:12.452Z"
   },
   {
    "duration": 130,
    "start_time": "2024-02-02T10:51:12.457Z"
   },
   {
    "duration": 8,
    "start_time": "2024-02-02T10:51:12.589Z"
   },
   {
    "duration": 31,
    "start_time": "2024-02-02T10:51:12.598Z"
   },
   {
    "duration": 6,
    "start_time": "2024-02-02T10:51:12.630Z"
   },
   {
    "duration": 57,
    "start_time": "2024-02-02T10:51:12.637Z"
   },
   {
    "duration": 10,
    "start_time": "2024-02-02T10:51:12.695Z"
   },
   {
    "duration": 35,
    "start_time": "2024-02-02T10:51:12.706Z"
   },
   {
    "duration": 159,
    "start_time": "2024-02-02T10:51:12.742Z"
   },
   {
    "duration": 263,
    "start_time": "2024-02-02T10:51:12.903Z"
   },
   {
    "duration": 398,
    "start_time": "2024-02-02T10:51:13.168Z"
   },
   {
    "duration": 110,
    "start_time": "2024-02-02T10:51:13.567Z"
   },
   {
    "duration": 174,
    "start_time": "2024-02-02T10:51:13.679Z"
   },
   {
    "duration": 0,
    "start_time": "2024-02-02T10:51:13.855Z"
   },
   {
    "duration": 0,
    "start_time": "2024-02-02T10:51:13.856Z"
   },
   {
    "duration": 0,
    "start_time": "2024-02-02T10:51:13.858Z"
   },
   {
    "duration": 0,
    "start_time": "2024-02-02T10:51:13.859Z"
   },
   {
    "duration": 0,
    "start_time": "2024-02-02T10:51:13.861Z"
   },
   {
    "duration": 0,
    "start_time": "2024-02-02T10:51:13.862Z"
   },
   {
    "duration": 0,
    "start_time": "2024-02-02T10:51:13.864Z"
   },
   {
    "duration": 0,
    "start_time": "2024-02-02T10:51:13.865Z"
   },
   {
    "duration": 0,
    "start_time": "2024-02-02T10:51:13.866Z"
   },
   {
    "duration": 0,
    "start_time": "2024-02-02T10:51:13.868Z"
   },
   {
    "duration": 0,
    "start_time": "2024-02-02T10:51:13.869Z"
   },
   {
    "duration": 0,
    "start_time": "2024-02-02T10:51:13.894Z"
   },
   {
    "duration": 0,
    "start_time": "2024-02-02T10:51:13.896Z"
   },
   {
    "duration": 0,
    "start_time": "2024-02-02T10:51:13.897Z"
   },
   {
    "duration": 0,
    "start_time": "2024-02-02T10:51:13.899Z"
   },
   {
    "duration": 11,
    "start_time": "2024-02-02T10:51:23.578Z"
   },
   {
    "duration": 5,
    "start_time": "2024-02-02T10:51:24.035Z"
   },
   {
    "duration": 4,
    "start_time": "2024-02-02T10:51:24.298Z"
   },
   {
    "duration": 3,
    "start_time": "2024-02-02T10:51:24.533Z"
   },
   {
    "duration": 6,
    "start_time": "2024-02-02T10:51:24.693Z"
   },
   {
    "duration": 33,
    "start_time": "2024-02-02T10:51:24.827Z"
   },
   {
    "duration": 2,
    "start_time": "2024-02-02T10:51:25.103Z"
   },
   {
    "duration": 3,
    "start_time": "2024-02-02T10:51:25.253Z"
   },
   {
    "duration": 3,
    "start_time": "2024-02-02T10:51:25.399Z"
   },
   {
    "duration": 3,
    "start_time": "2024-02-02T10:51:25.570Z"
   },
   {
    "duration": 3,
    "start_time": "2024-02-02T10:51:25.736Z"
   },
   {
    "duration": 338,
    "start_time": "2024-02-02T10:51:25.865Z"
   },
   {
    "duration": 95,
    "start_time": "2024-02-02T10:51:26.301Z"
   },
   {
    "duration": 2561,
    "start_time": "2024-02-02T10:51:26.397Z"
   },
   {
    "duration": 7,
    "start_time": "2024-02-02T10:51:28.960Z"
   },
   {
    "duration": 9,
    "start_time": "2024-02-02T10:51:41.018Z"
   },
   {
    "duration": 492,
    "start_time": "2024-02-02T10:51:51.803Z"
   },
   {
    "duration": 11,
    "start_time": "2024-02-02T10:52:28.011Z"
   },
   {
    "duration": 4,
    "start_time": "2024-02-02T10:54:32.290Z"
   },
   {
    "duration": 63,
    "start_time": "2024-02-02T10:54:34.771Z"
   },
   {
    "duration": 3092,
    "start_time": "2024-02-02T10:55:00.738Z"
   },
   {
    "duration": 2499,
    "start_time": "2024-02-02T10:55:03.832Z"
   },
   {
    "duration": 2438,
    "start_time": "2024-02-02T10:55:06.333Z"
   },
   {
    "duration": 3,
    "start_time": "2024-02-02T10:55:08.773Z"
   },
   {
    "duration": 706,
    "start_time": "2024-02-02T10:55:08.778Z"
   },
   {
    "duration": 1651,
    "start_time": "2024-02-02T10:55:09.487Z"
   },
   {
    "duration": 249,
    "start_time": "2024-02-02T10:55:11.139Z"
   },
   {
    "duration": 14,
    "start_time": "2024-02-02T10:55:11.390Z"
   },
   {
    "duration": 27,
    "start_time": "2024-02-02T10:55:11.405Z"
   },
   {
    "duration": 48,
    "start_time": "2024-02-02T10:55:11.434Z"
   },
   {
    "duration": 17,
    "start_time": "2024-02-02T10:55:11.484Z"
   },
   {
    "duration": 19,
    "start_time": "2024-02-02T10:55:11.502Z"
   },
   {
    "duration": 4,
    "start_time": "2024-02-02T10:55:11.522Z"
   },
   {
    "duration": 23,
    "start_time": "2024-02-02T10:55:11.529Z"
   },
   {
    "duration": 18,
    "start_time": "2024-02-02T10:55:11.553Z"
   },
   {
    "duration": 29,
    "start_time": "2024-02-02T10:55:11.573Z"
   },
   {
    "duration": 18,
    "start_time": "2024-02-02T10:55:11.603Z"
   },
   {
    "duration": 16,
    "start_time": "2024-02-02T10:55:11.622Z"
   },
   {
    "duration": 24,
    "start_time": "2024-02-02T10:55:11.640Z"
   },
   {
    "duration": 17,
    "start_time": "2024-02-02T10:55:11.666Z"
   },
   {
    "duration": 13,
    "start_time": "2024-02-02T10:55:11.685Z"
   },
   {
    "duration": 12,
    "start_time": "2024-02-02T10:55:11.700Z"
   },
   {
    "duration": 16,
    "start_time": "2024-02-02T10:55:11.713Z"
   },
   {
    "duration": 19,
    "start_time": "2024-02-02T10:55:11.731Z"
   },
   {
    "duration": 18,
    "start_time": "2024-02-02T10:55:11.752Z"
   },
   {
    "duration": 38,
    "start_time": "2024-02-02T10:55:11.772Z"
   },
   {
    "duration": 17,
    "start_time": "2024-02-02T10:55:11.812Z"
   },
   {
    "duration": 43,
    "start_time": "2024-02-02T10:55:11.830Z"
   },
   {
    "duration": 2455,
    "start_time": "2024-02-02T10:55:11.875Z"
   },
   {
    "duration": 9,
    "start_time": "2024-02-02T10:55:14.332Z"
   },
   {
    "duration": 134,
    "start_time": "2024-02-02T10:55:14.343Z"
   },
   {
    "duration": 87,
    "start_time": "2024-02-02T10:55:14.479Z"
   },
   {
    "duration": 219,
    "start_time": "2024-02-02T10:55:14.568Z"
   },
   {
    "duration": 301,
    "start_time": "2024-02-02T10:55:14.794Z"
   },
   {
    "duration": 148,
    "start_time": "2024-02-02T10:55:15.097Z"
   },
   {
    "duration": 157,
    "start_time": "2024-02-02T10:55:15.246Z"
   },
   {
    "duration": 510,
    "start_time": "2024-02-02T10:55:15.404Z"
   },
   {
    "duration": 8,
    "start_time": "2024-02-02T10:55:15.916Z"
   },
   {
    "duration": 19,
    "start_time": "2024-02-02T10:55:15.925Z"
   },
   {
    "duration": 14,
    "start_time": "2024-02-02T10:55:15.945Z"
   },
   {
    "duration": 19,
    "start_time": "2024-02-02T10:55:15.963Z"
   },
   {
    "duration": 25,
    "start_time": "2024-02-02T10:55:15.984Z"
   },
   {
    "duration": 40,
    "start_time": "2024-02-02T10:55:16.011Z"
   },
   {
    "duration": 2,
    "start_time": "2024-02-02T10:55:16.053Z"
   },
   {
    "duration": 46,
    "start_time": "2024-02-02T10:55:16.057Z"
   },
   {
    "duration": 97,
    "start_time": "2024-02-02T10:55:16.104Z"
   },
   {
    "duration": 6,
    "start_time": "2024-02-02T10:55:16.294Z"
   },
   {
    "duration": 1650,
    "start_time": "2024-02-02T10:55:16.301Z"
   },
   {
    "duration": 3,
    "start_time": "2024-02-02T10:55:17.953Z"
   },
   {
    "duration": 140,
    "start_time": "2024-02-02T10:55:17.957Z"
   },
   {
    "duration": 6,
    "start_time": "2024-02-02T10:55:18.099Z"
   },
   {
    "duration": 49,
    "start_time": "2024-02-02T10:55:18.106Z"
   },
   {
    "duration": 16,
    "start_time": "2024-02-02T10:55:18.156Z"
   },
   {
    "duration": 61,
    "start_time": "2024-02-02T10:55:18.173Z"
   },
   {
    "duration": 13,
    "start_time": "2024-02-02T10:55:18.235Z"
   },
   {
    "duration": 25,
    "start_time": "2024-02-02T10:55:18.250Z"
   },
   {
    "duration": 178,
    "start_time": "2024-02-02T10:55:18.277Z"
   },
   {
    "duration": 260,
    "start_time": "2024-02-02T10:55:18.457Z"
   },
   {
    "duration": 375,
    "start_time": "2024-02-02T10:55:18.718Z"
   },
   {
    "duration": 106,
    "start_time": "2024-02-02T10:55:19.094Z"
   },
   {
    "duration": 3,
    "start_time": "2024-02-02T10:55:19.202Z"
   },
   {
    "duration": 59,
    "start_time": "2024-02-02T10:55:19.207Z"
   },
   {
    "duration": 12,
    "start_time": "2024-02-02T10:55:19.267Z"
   },
   {
    "duration": 32,
    "start_time": "2024-02-02T10:55:19.280Z"
   },
   {
    "duration": 45,
    "start_time": "2024-02-02T10:55:19.314Z"
   },
   {
    "duration": 65,
    "start_time": "2024-02-02T10:55:19.361Z"
   },
   {
    "duration": 39,
    "start_time": "2024-02-02T10:55:19.428Z"
   },
   {
    "duration": 62,
    "start_time": "2024-02-02T10:55:19.469Z"
   },
   {
    "duration": 2,
    "start_time": "2024-02-02T10:55:19.533Z"
   },
   {
    "duration": 24,
    "start_time": "2024-02-02T10:55:19.537Z"
   },
   {
    "duration": 30,
    "start_time": "2024-02-02T10:55:19.563Z"
   },
   {
    "duration": 22,
    "start_time": "2024-02-02T10:55:19.594Z"
   },
   {
    "duration": 35,
    "start_time": "2024-02-02T10:55:19.617Z"
   },
   {
    "duration": 349,
    "start_time": "2024-02-02T10:55:19.654Z"
   },
   {
    "duration": 5,
    "start_time": "2024-02-02T10:55:20.096Z"
   },
   {
    "duration": 2636,
    "start_time": "2024-02-02T10:55:20.103Z"
   },
   {
    "duration": 9,
    "start_time": "2024-02-02T10:55:22.740Z"
   },
   {
    "duration": 6397,
    "start_time": "2024-02-03T08:33:45.954Z"
   },
   {
    "duration": 3148,
    "start_time": "2024-02-03T08:33:52.354Z"
   },
   {
    "duration": 3687,
    "start_time": "2024-02-03T08:33:55.504Z"
   },
   {
    "duration": 3,
    "start_time": "2024-02-03T08:33:59.193Z"
   },
   {
    "duration": 650,
    "start_time": "2024-02-03T08:33:59.198Z"
   },
   {
    "duration": 1854,
    "start_time": "2024-02-03T08:33:59.851Z"
   },
   {
    "duration": 247,
    "start_time": "2024-02-03T08:34:01.707Z"
   },
   {
    "duration": 14,
    "start_time": "2024-02-03T08:34:01.956Z"
   },
   {
    "duration": 60,
    "start_time": "2024-02-03T08:34:01.971Z"
   },
   {
    "duration": 65,
    "start_time": "2024-02-03T08:34:02.032Z"
   },
   {
    "duration": 100,
    "start_time": "2024-02-03T08:34:02.098Z"
   },
   {
    "duration": 85,
    "start_time": "2024-02-03T08:34:02.200Z"
   },
   {
    "duration": 33,
    "start_time": "2024-02-03T08:34:02.286Z"
   },
   {
    "duration": 60,
    "start_time": "2024-02-03T08:34:02.322Z"
   },
   {
    "duration": 16,
    "start_time": "2024-02-03T08:34:02.384Z"
   },
   {
    "duration": 11,
    "start_time": "2024-02-03T08:34:02.401Z"
   },
   {
    "duration": 25,
    "start_time": "2024-02-03T08:34:02.414Z"
   },
   {
    "duration": 28,
    "start_time": "2024-02-03T08:34:02.441Z"
   },
   {
    "duration": 40,
    "start_time": "2024-02-03T08:34:02.471Z"
   },
   {
    "duration": 33,
    "start_time": "2024-02-03T08:34:02.513Z"
   },
   {
    "duration": 27,
    "start_time": "2024-02-03T08:34:02.547Z"
   },
   {
    "duration": 21,
    "start_time": "2024-02-03T08:34:02.576Z"
   },
   {
    "duration": 17,
    "start_time": "2024-02-03T08:34:02.598Z"
   },
   {
    "duration": 17,
    "start_time": "2024-02-03T08:34:02.617Z"
   },
   {
    "duration": 10,
    "start_time": "2024-02-03T08:34:02.635Z"
   },
   {
    "duration": 23,
    "start_time": "2024-02-03T08:34:02.646Z"
   },
   {
    "duration": 5,
    "start_time": "2024-02-03T08:34:02.671Z"
   },
   {
    "duration": 38,
    "start_time": "2024-02-03T08:34:02.678Z"
   },
   {
    "duration": 2409,
    "start_time": "2024-02-03T08:34:02.717Z"
   },
   {
    "duration": 6,
    "start_time": "2024-02-03T08:34:05.128Z"
   },
   {
    "duration": 106,
    "start_time": "2024-02-03T08:34:05.136Z"
   },
   {
    "duration": 90,
    "start_time": "2024-02-03T08:34:05.243Z"
   },
   {
    "duration": 232,
    "start_time": "2024-02-03T08:34:05.335Z"
   },
   {
    "duration": 283,
    "start_time": "2024-02-03T08:34:05.569Z"
   },
   {
    "duration": 144,
    "start_time": "2024-02-03T08:34:05.853Z"
   },
   {
    "duration": 159,
    "start_time": "2024-02-03T08:34:05.999Z"
   },
   {
    "duration": 501,
    "start_time": "2024-02-03T08:34:06.160Z"
   },
   {
    "duration": 8,
    "start_time": "2024-02-03T08:34:06.663Z"
   },
   {
    "duration": 48,
    "start_time": "2024-02-03T08:34:06.673Z"
   },
   {
    "duration": 8,
    "start_time": "2024-02-03T08:34:06.722Z"
   },
   {
    "duration": 25,
    "start_time": "2024-02-03T08:34:06.734Z"
   },
   {
    "duration": 25,
    "start_time": "2024-02-03T08:34:06.761Z"
   },
   {
    "duration": 61,
    "start_time": "2024-02-03T08:34:06.788Z"
   },
   {
    "duration": 3,
    "start_time": "2024-02-03T08:34:06.850Z"
   },
   {
    "duration": 15,
    "start_time": "2024-02-03T08:34:06.854Z"
   },
   {
    "duration": 75,
    "start_time": "2024-02-03T08:34:06.871Z"
   },
   {
    "duration": 0,
    "start_time": "2024-02-03T08:34:06.947Z"
   },
   {
    "duration": 0,
    "start_time": "2024-02-03T08:34:06.948Z"
   },
   {
    "duration": 0,
    "start_time": "2024-02-03T08:34:06.950Z"
   },
   {
    "duration": 0,
    "start_time": "2024-02-03T08:34:06.951Z"
   },
   {
    "duration": 0,
    "start_time": "2024-02-03T08:34:06.952Z"
   },
   {
    "duration": 0,
    "start_time": "2024-02-03T08:34:06.953Z"
   },
   {
    "duration": 0,
    "start_time": "2024-02-03T08:34:06.954Z"
   },
   {
    "duration": 0,
    "start_time": "2024-02-03T08:34:06.955Z"
   },
   {
    "duration": 0,
    "start_time": "2024-02-03T08:34:06.956Z"
   },
   {
    "duration": 0,
    "start_time": "2024-02-03T08:34:06.957Z"
   },
   {
    "duration": 0,
    "start_time": "2024-02-03T08:34:06.958Z"
   },
   {
    "duration": 0,
    "start_time": "2024-02-03T08:34:06.959Z"
   },
   {
    "duration": 0,
    "start_time": "2024-02-03T08:34:06.960Z"
   },
   {
    "duration": 0,
    "start_time": "2024-02-03T08:34:06.961Z"
   },
   {
    "duration": 0,
    "start_time": "2024-02-03T08:34:06.962Z"
   },
   {
    "duration": 0,
    "start_time": "2024-02-03T08:34:06.963Z"
   },
   {
    "duration": 0,
    "start_time": "2024-02-03T08:34:06.964Z"
   },
   {
    "duration": 0,
    "start_time": "2024-02-03T08:34:06.965Z"
   },
   {
    "duration": 0,
    "start_time": "2024-02-03T08:34:06.966Z"
   },
   {
    "duration": 0,
    "start_time": "2024-02-03T08:34:06.967Z"
   },
   {
    "duration": 0,
    "start_time": "2024-02-03T08:34:06.969Z"
   },
   {
    "duration": 0,
    "start_time": "2024-02-03T08:34:06.969Z"
   },
   {
    "duration": 0,
    "start_time": "2024-02-03T08:34:06.970Z"
   },
   {
    "duration": 0,
    "start_time": "2024-02-03T08:34:06.971Z"
   },
   {
    "duration": 0,
    "start_time": "2024-02-03T08:34:06.973Z"
   },
   {
    "duration": 0,
    "start_time": "2024-02-03T08:34:06.974Z"
   },
   {
    "duration": 0,
    "start_time": "2024-02-03T08:34:06.975Z"
   },
   {
    "duration": 0,
    "start_time": "2024-02-03T08:34:06.976Z"
   },
   {
    "duration": 0,
    "start_time": "2024-02-03T08:34:06.977Z"
   },
   {
    "duration": 0,
    "start_time": "2024-02-03T08:34:06.978Z"
   },
   {
    "duration": 10,
    "start_time": "2024-02-03T08:34:30.131Z"
   },
   {
    "duration": 11,
    "start_time": "2024-02-03T08:34:42.759Z"
   },
   {
    "duration": 119,
    "start_time": "2024-02-03T08:37:19.369Z"
   },
   {
    "duration": 10,
    "start_time": "2024-02-03T08:37:19.927Z"
   },
   {
    "duration": 3,
    "start_time": "2024-02-03T08:37:20.139Z"
   },
   {
    "duration": 11,
    "start_time": "2024-02-03T08:37:20.275Z"
   },
   {
    "duration": 6,
    "start_time": "2024-02-03T08:37:21.230Z"
   },
   {
    "duration": 7,
    "start_time": "2024-02-03T08:37:21.673Z"
   },
   {
    "duration": 3,
    "start_time": "2024-02-03T08:37:22.100Z"
   },
   {
    "duration": 10,
    "start_time": "2024-02-03T08:37:22.312Z"
   },
   {
    "duration": 10,
    "start_time": "2024-02-03T08:37:24.282Z"
   },
   {
    "duration": 10,
    "start_time": "2024-02-03T08:37:24.630Z"
   },
   {
    "duration": 4,
    "start_time": "2024-02-03T08:37:25.239Z"
   },
   {
    "duration": 6,
    "start_time": "2024-02-03T08:37:27.654Z"
   },
   {
    "duration": 6,
    "start_time": "2024-02-03T08:37:29.559Z"
   },
   {
    "duration": 9,
    "start_time": "2024-02-03T08:37:30.057Z"
   },
   {
    "duration": 6,
    "start_time": "2024-02-03T08:37:31.808Z"
   },
   {
    "duration": 10,
    "start_time": "2024-02-03T08:37:32.302Z"
   },
   {
    "duration": 4,
    "start_time": "2024-02-03T08:37:32.454Z"
   },
   {
    "duration": 5,
    "start_time": "2024-02-03T08:37:33.082Z"
   },
   {
    "duration": 4,
    "start_time": "2024-02-03T08:37:33.221Z"
   },
   {
    "duration": 10,
    "start_time": "2024-02-03T08:44:41.914Z"
   },
   {
    "duration": 5,
    "start_time": "2024-02-03T08:45:22.953Z"
   },
   {
    "duration": 12,
    "start_time": "2024-02-03T08:45:28.854Z"
   },
   {
    "duration": 1304,
    "start_time": "2024-02-03T08:45:43.123Z"
   },
   {
    "duration": 5,
    "start_time": "2024-02-03T08:46:07.061Z"
   },
   {
    "duration": 13,
    "start_time": "2024-02-03T08:46:13.348Z"
   },
   {
    "duration": 19,
    "start_time": "2024-02-03T08:46:23.402Z"
   },
   {
    "duration": 5,
    "start_time": "2024-02-03T08:46:29.301Z"
   },
   {
    "duration": 11,
    "start_time": "2024-02-03T08:46:58.099Z"
   },
   {
    "duration": 2835,
    "start_time": "2024-02-03T09:07:39.841Z"
   },
   {
    "duration": 2336,
    "start_time": "2024-02-03T09:07:42.679Z"
   },
   {
    "duration": 2368,
    "start_time": "2024-02-03T09:07:45.017Z"
   },
   {
    "duration": 3,
    "start_time": "2024-02-03T09:07:47.387Z"
   },
   {
    "duration": 651,
    "start_time": "2024-02-03T09:07:47.392Z"
   },
   {
    "duration": 1638,
    "start_time": "2024-02-03T09:07:48.046Z"
   },
   {
    "duration": 344,
    "start_time": "2024-02-03T09:07:49.686Z"
   },
   {
    "duration": 14,
    "start_time": "2024-02-03T09:07:50.032Z"
   },
   {
    "duration": 21,
    "start_time": "2024-02-03T09:07:50.047Z"
   },
   {
    "duration": 19,
    "start_time": "2024-02-03T09:07:50.070Z"
   },
   {
    "duration": 25,
    "start_time": "2024-02-03T09:07:50.091Z"
   },
   {
    "duration": 24,
    "start_time": "2024-02-03T09:07:50.118Z"
   },
   {
    "duration": 22,
    "start_time": "2024-02-03T09:07:50.144Z"
   },
   {
    "duration": 47,
    "start_time": "2024-02-03T09:07:50.168Z"
   },
   {
    "duration": 25,
    "start_time": "2024-02-03T09:07:50.217Z"
   },
   {
    "duration": 30,
    "start_time": "2024-02-03T09:07:50.243Z"
   },
   {
    "duration": 25,
    "start_time": "2024-02-03T09:07:50.274Z"
   },
   {
    "duration": 22,
    "start_time": "2024-02-03T09:07:50.301Z"
   },
   {
    "duration": 41,
    "start_time": "2024-02-03T09:07:50.324Z"
   },
   {
    "duration": 28,
    "start_time": "2024-02-03T09:07:50.366Z"
   },
   {
    "duration": 25,
    "start_time": "2024-02-03T09:07:50.396Z"
   },
   {
    "duration": 39,
    "start_time": "2024-02-03T09:07:50.422Z"
   },
   {
    "duration": 39,
    "start_time": "2024-02-03T09:07:50.462Z"
   },
   {
    "duration": 30,
    "start_time": "2024-02-03T09:07:50.503Z"
   },
   {
    "duration": 30,
    "start_time": "2024-02-03T09:07:50.535Z"
   },
   {
    "duration": 23,
    "start_time": "2024-02-03T09:07:50.566Z"
   },
   {
    "duration": 17,
    "start_time": "2024-02-03T09:07:50.590Z"
   },
   {
    "duration": 25,
    "start_time": "2024-02-03T09:07:50.609Z"
   },
   {
    "duration": 58,
    "start_time": "2024-02-03T09:07:50.635Z"
   },
   {
    "duration": 79,
    "start_time": "2024-02-03T09:07:50.694Z"
   },
   {
    "duration": 2397,
    "start_time": "2024-02-03T09:07:50.775Z"
   },
   {
    "duration": 7,
    "start_time": "2024-02-03T09:07:53.173Z"
   },
   {
    "duration": 101,
    "start_time": "2024-02-03T09:07:53.181Z"
   },
   {
    "duration": 88,
    "start_time": "2024-02-03T09:07:53.283Z"
   },
   {
    "duration": 229,
    "start_time": "2024-02-03T09:07:53.372Z"
   },
   {
    "duration": 278,
    "start_time": "2024-02-03T09:07:53.602Z"
   },
   {
    "duration": 145,
    "start_time": "2024-02-03T09:07:53.882Z"
   },
   {
    "duration": 161,
    "start_time": "2024-02-03T09:07:54.029Z"
   },
   {
    "duration": 485,
    "start_time": "2024-02-03T09:07:54.194Z"
   },
   {
    "duration": 175,
    "start_time": "2024-02-03T09:07:54.681Z"
   },
   {
    "duration": 0,
    "start_time": "2024-02-03T09:07:54.859Z"
   },
   {
    "duration": 0,
    "start_time": "2024-02-03T09:07:54.860Z"
   },
   {
    "duration": 0,
    "start_time": "2024-02-03T09:07:54.862Z"
   },
   {
    "duration": 0,
    "start_time": "2024-02-03T09:07:54.863Z"
   },
   {
    "duration": 0,
    "start_time": "2024-02-03T09:07:54.864Z"
   },
   {
    "duration": 0,
    "start_time": "2024-02-03T09:07:54.865Z"
   },
   {
    "duration": 0,
    "start_time": "2024-02-03T09:07:54.866Z"
   },
   {
    "duration": 0,
    "start_time": "2024-02-03T09:07:54.867Z"
   },
   {
    "duration": 0,
    "start_time": "2024-02-03T09:07:54.868Z"
   },
   {
    "duration": 0,
    "start_time": "2024-02-03T09:07:54.869Z"
   },
   {
    "duration": 0,
    "start_time": "2024-02-03T09:07:54.870Z"
   },
   {
    "duration": 0,
    "start_time": "2024-02-03T09:07:54.871Z"
   },
   {
    "duration": 0,
    "start_time": "2024-02-03T09:07:54.872Z"
   },
   {
    "duration": 0,
    "start_time": "2024-02-03T09:07:54.873Z"
   },
   {
    "duration": 0,
    "start_time": "2024-02-03T09:07:54.894Z"
   },
   {
    "duration": 0,
    "start_time": "2024-02-03T09:07:54.895Z"
   },
   {
    "duration": 0,
    "start_time": "2024-02-03T09:07:54.896Z"
   },
   {
    "duration": 0,
    "start_time": "2024-02-03T09:07:54.897Z"
   },
   {
    "duration": 0,
    "start_time": "2024-02-03T09:07:54.899Z"
   },
   {
    "duration": 0,
    "start_time": "2024-02-03T09:07:54.900Z"
   },
   {
    "duration": 0,
    "start_time": "2024-02-03T09:07:54.901Z"
   },
   {
    "duration": 0,
    "start_time": "2024-02-03T09:07:54.902Z"
   },
   {
    "duration": 0,
    "start_time": "2024-02-03T09:07:54.903Z"
   },
   {
    "duration": 0,
    "start_time": "2024-02-03T09:07:54.904Z"
   },
   {
    "duration": 0,
    "start_time": "2024-02-03T09:07:54.905Z"
   },
   {
    "duration": 0,
    "start_time": "2024-02-03T09:07:54.906Z"
   },
   {
    "duration": 0,
    "start_time": "2024-02-03T09:07:54.908Z"
   },
   {
    "duration": 0,
    "start_time": "2024-02-03T09:07:54.909Z"
   },
   {
    "duration": 0,
    "start_time": "2024-02-03T09:07:54.910Z"
   },
   {
    "duration": 0,
    "start_time": "2024-02-03T09:07:54.911Z"
   },
   {
    "duration": 0,
    "start_time": "2024-02-03T09:07:54.912Z"
   },
   {
    "duration": 0,
    "start_time": "2024-02-03T09:07:54.914Z"
   },
   {
    "duration": 0,
    "start_time": "2024-02-03T09:07:54.915Z"
   },
   {
    "duration": 0,
    "start_time": "2024-02-03T09:07:54.917Z"
   },
   {
    "duration": 0,
    "start_time": "2024-02-03T09:07:54.918Z"
   },
   {
    "duration": 0,
    "start_time": "2024-02-03T09:07:54.919Z"
   },
   {
    "duration": 0,
    "start_time": "2024-02-03T09:07:54.921Z"
   },
   {
    "duration": 0,
    "start_time": "2024-02-03T09:07:54.922Z"
   },
   {
    "duration": 0,
    "start_time": "2024-02-03T09:07:54.923Z"
   },
   {
    "duration": 0,
    "start_time": "2024-02-03T09:07:54.924Z"
   },
   {
    "duration": 13,
    "start_time": "2024-02-03T09:08:12.602Z"
   },
   {
    "duration": 3092,
    "start_time": "2024-02-03T09:09:05.456Z"
   },
   {
    "duration": 47,
    "start_time": "2024-02-03T09:09:11.328Z"
   },
   {
    "duration": 26,
    "start_time": "2024-02-03T09:09:22.968Z"
   },
   {
    "duration": 9,
    "start_time": "2024-02-03T09:09:33.773Z"
   },
   {
    "duration": 15,
    "start_time": "2024-02-03T09:09:47.161Z"
   },
   {
    "duration": 14,
    "start_time": "2024-02-03T09:09:53.149Z"
   },
   {
    "duration": 3,
    "start_time": "2024-02-03T09:10:52.514Z"
   },
   {
    "duration": 11,
    "start_time": "2024-02-03T09:10:57.887Z"
   },
   {
    "duration": 10,
    "start_time": "2024-02-03T09:11:21.531Z"
   },
   {
    "duration": 8610,
    "start_time": "2024-02-03T09:11:32.037Z"
   },
   {
    "duration": 4,
    "start_time": "2024-02-03T09:12:44.336Z"
   },
   {
    "duration": 585,
    "start_time": "2024-02-03T09:12:45.319Z"
   },
   {
    "duration": 231,
    "start_time": "2024-02-03T09:13:56.823Z"
   },
   {
    "duration": 231,
    "start_time": "2024-02-03T09:14:02.000Z"
   },
   {
    "duration": 11,
    "start_time": "2024-02-03T09:14:07.522Z"
   },
   {
    "duration": 222,
    "start_time": "2024-02-03T09:14:07.877Z"
   },
   {
    "duration": 2904,
    "start_time": "2024-02-03T09:14:30.181Z"
   },
   {
    "duration": 2393,
    "start_time": "2024-02-03T09:14:33.087Z"
   },
   {
    "duration": 3094,
    "start_time": "2024-02-03T09:14:35.482Z"
   },
   {
    "duration": 2365,
    "start_time": "2024-02-03T09:14:38.578Z"
   },
   {
    "duration": 3,
    "start_time": "2024-02-03T09:14:40.946Z"
   },
   {
    "duration": 9,
    "start_time": "2024-02-03T09:14:40.950Z"
   },
   {
    "duration": 6,
    "start_time": "2024-02-03T09:14:40.960Z"
   },
   {
    "duration": 138,
    "start_time": "2024-02-03T09:14:40.967Z"
   },
   {
    "duration": 12,
    "start_time": "2024-02-03T09:14:41.106Z"
   },
   {
    "duration": 27,
    "start_time": "2024-02-03T09:14:41.119Z"
   },
   {
    "duration": 15,
    "start_time": "2024-02-03T09:14:41.147Z"
   },
   {
    "duration": 6,
    "start_time": "2024-02-03T09:14:41.163Z"
   },
   {
    "duration": 9,
    "start_time": "2024-02-03T09:14:41.171Z"
   },
   {
    "duration": 12,
    "start_time": "2024-02-03T09:14:41.182Z"
   },
   {
    "duration": 12,
    "start_time": "2024-02-03T09:14:41.196Z"
   },
   {
    "duration": 9,
    "start_time": "2024-02-03T09:14:41.210Z"
   },
   {
    "duration": 28,
    "start_time": "2024-02-03T09:14:41.220Z"
   },
   {
    "duration": 9,
    "start_time": "2024-02-03T09:14:41.250Z"
   },
   {
    "duration": 8,
    "start_time": "2024-02-03T09:14:41.261Z"
   },
   {
    "duration": 14,
    "start_time": "2024-02-03T09:14:41.270Z"
   },
   {
    "duration": 11,
    "start_time": "2024-02-03T09:14:41.286Z"
   },
   {
    "duration": 7,
    "start_time": "2024-02-03T09:14:41.298Z"
   },
   {
    "duration": 15,
    "start_time": "2024-02-03T09:14:41.306Z"
   },
   {
    "duration": 9,
    "start_time": "2024-02-03T09:14:41.322Z"
   },
   {
    "duration": 11,
    "start_time": "2024-02-03T09:14:41.332Z"
   },
   {
    "duration": 10,
    "start_time": "2024-02-03T09:14:41.344Z"
   },
   {
    "duration": 9,
    "start_time": "2024-02-03T09:14:41.355Z"
   },
   {
    "duration": 23,
    "start_time": "2024-02-03T09:14:41.366Z"
   },
   {
    "duration": 23,
    "start_time": "2024-02-03T09:14:41.390Z"
   },
   {
    "duration": 17,
    "start_time": "2024-02-03T09:14:41.414Z"
   },
   {
    "duration": 33,
    "start_time": "2024-02-03T09:14:41.432Z"
   },
   {
    "duration": 2515,
    "start_time": "2024-02-03T09:14:41.467Z"
   },
   {
    "duration": 88,
    "start_time": "2024-02-03T09:14:43.983Z"
   },
   {
    "duration": 90,
    "start_time": "2024-02-03T09:14:44.072Z"
   },
   {
    "duration": 101,
    "start_time": "2024-02-03T09:14:44.164Z"
   },
   {
    "duration": 287,
    "start_time": "2024-02-03T09:14:44.267Z"
   },
   {
    "duration": 143,
    "start_time": "2024-02-03T09:14:44.556Z"
   },
   {
    "duration": 157,
    "start_time": "2024-02-03T09:14:44.701Z"
   },
   {
    "duration": 517,
    "start_time": "2024-02-03T09:14:44.860Z"
   },
   {
    "duration": 4,
    "start_time": "2024-02-03T09:14:45.378Z"
   },
   {
    "duration": 258,
    "start_time": "2024-02-03T09:14:45.386Z"
   },
   {
    "duration": 17,
    "start_time": "2024-02-03T09:28:30.386Z"
   },
   {
    "duration": 387,
    "start_time": "2024-02-03T09:28:32.914Z"
   },
   {
    "duration": 10,
    "start_time": "2024-02-03T09:28:34.099Z"
   },
   {
    "duration": 7,
    "start_time": "2024-02-03T09:30:36.598Z"
   },
   {
    "duration": 2856,
    "start_time": "2024-02-03T10:02:45.441Z"
   },
   {
    "duration": 2437,
    "start_time": "2024-02-03T10:02:48.299Z"
   },
   {
    "duration": 2428,
    "start_time": "2024-02-03T10:02:50.738Z"
   },
   {
    "duration": 2450,
    "start_time": "2024-02-03T10:02:53.169Z"
   },
   {
    "duration": 2,
    "start_time": "2024-02-03T10:02:55.621Z"
   },
   {
    "duration": 645,
    "start_time": "2024-02-03T10:02:55.625Z"
   },
   {
    "duration": 1657,
    "start_time": "2024-02-03T10:02:56.272Z"
   },
   {
    "duration": 354,
    "start_time": "2024-02-03T10:02:57.931Z"
   },
   {
    "duration": 14,
    "start_time": "2024-02-03T10:02:58.287Z"
   },
   {
    "duration": 21,
    "start_time": "2024-02-03T10:02:58.303Z"
   },
   {
    "duration": 30,
    "start_time": "2024-02-03T10:02:58.325Z"
   },
   {
    "duration": 19,
    "start_time": "2024-02-03T10:02:58.357Z"
   },
   {
    "duration": 18,
    "start_time": "2024-02-03T10:02:58.378Z"
   },
   {
    "duration": 11,
    "start_time": "2024-02-03T10:02:58.398Z"
   },
   {
    "duration": 42,
    "start_time": "2024-02-03T10:02:58.410Z"
   },
   {
    "duration": 30,
    "start_time": "2024-02-03T10:02:58.454Z"
   },
   {
    "duration": 25,
    "start_time": "2024-02-03T10:02:58.486Z"
   },
   {
    "duration": 39,
    "start_time": "2024-02-03T10:02:58.512Z"
   },
   {
    "duration": 22,
    "start_time": "2024-02-03T10:02:58.553Z"
   },
   {
    "duration": 31,
    "start_time": "2024-02-03T10:02:58.576Z"
   },
   {
    "duration": 28,
    "start_time": "2024-02-03T10:02:58.609Z"
   },
   {
    "duration": 19,
    "start_time": "2024-02-03T10:02:58.639Z"
   },
   {
    "duration": 25,
    "start_time": "2024-02-03T10:02:58.660Z"
   },
   {
    "duration": 23,
    "start_time": "2024-02-03T10:02:58.686Z"
   },
   {
    "duration": 24,
    "start_time": "2024-02-03T10:02:58.711Z"
   },
   {
    "duration": 28,
    "start_time": "2024-02-03T10:02:58.736Z"
   },
   {
    "duration": 33,
    "start_time": "2024-02-03T10:02:58.765Z"
   },
   {
    "duration": 25,
    "start_time": "2024-02-03T10:02:58.802Z"
   },
   {
    "duration": 43,
    "start_time": "2024-02-03T10:02:58.828Z"
   },
   {
    "duration": 28,
    "start_time": "2024-02-03T10:02:58.873Z"
   },
   {
    "duration": 65,
    "start_time": "2024-02-03T10:02:58.903Z"
   },
   {
    "duration": 2445,
    "start_time": "2024-02-03T10:02:58.969Z"
   },
   {
    "duration": 93,
    "start_time": "2024-02-03T10:03:01.416Z"
   },
   {
    "duration": 93,
    "start_time": "2024-02-03T10:03:01.510Z"
   },
   {
    "duration": 264,
    "start_time": "2024-02-03T10:03:01.605Z"
   },
   {
    "duration": 345,
    "start_time": "2024-02-03T10:03:01.870Z"
   },
   {
    "duration": 147,
    "start_time": "2024-02-03T10:03:02.216Z"
   },
   {
    "duration": 156,
    "start_time": "2024-02-03T10:03:02.365Z"
   },
   {
    "duration": 558,
    "start_time": "2024-02-03T10:03:02.523Z"
   },
   {
    "duration": 4,
    "start_time": "2024-02-03T10:03:03.083Z"
   },
   {
    "duration": 244,
    "start_time": "2024-02-03T10:03:03.093Z"
   },
   {
    "duration": 6,
    "start_time": "2024-02-03T10:03:03.339Z"
   },
   {
    "duration": 29,
    "start_time": "2024-02-03T10:03:03.347Z"
   },
   {
    "duration": 31,
    "start_time": "2024-02-03T10:03:03.378Z"
   },
   {
    "duration": 28,
    "start_time": "2024-02-03T10:03:03.410Z"
   },
   {
    "duration": 9,
    "start_time": "2024-02-03T10:03:03.439Z"
   },
   {
    "duration": 74,
    "start_time": "2024-02-03T10:03:03.450Z"
   },
   {
    "duration": 3,
    "start_time": "2024-02-03T10:03:03.525Z"
   },
   {
    "duration": 47,
    "start_time": "2024-02-03T10:03:03.529Z"
   },
   {
    "duration": 17,
    "start_time": "2024-02-03T10:03:03.578Z"
   },
   {
    "duration": 205,
    "start_time": "2024-02-03T10:03:03.596Z"
   },
   {
    "duration": 0,
    "start_time": "2024-02-03T10:03:03.803Z"
   },
   {
    "duration": 0,
    "start_time": "2024-02-03T10:03:03.804Z"
   },
   {
    "duration": 0,
    "start_time": "2024-02-03T10:03:03.805Z"
   },
   {
    "duration": 0,
    "start_time": "2024-02-03T10:03:03.806Z"
   },
   {
    "duration": 0,
    "start_time": "2024-02-03T10:03:03.807Z"
   },
   {
    "duration": 0,
    "start_time": "2024-02-03T10:03:03.808Z"
   },
   {
    "duration": 0,
    "start_time": "2024-02-03T10:03:03.809Z"
   },
   {
    "duration": 0,
    "start_time": "2024-02-03T10:03:03.810Z"
   },
   {
    "duration": 0,
    "start_time": "2024-02-03T10:03:03.810Z"
   },
   {
    "duration": 0,
    "start_time": "2024-02-03T10:03:03.811Z"
   },
   {
    "duration": 0,
    "start_time": "2024-02-03T10:03:03.813Z"
   },
   {
    "duration": 0,
    "start_time": "2024-02-03T10:03:03.813Z"
   },
   {
    "duration": 1,
    "start_time": "2024-02-03T10:03:03.814Z"
   },
   {
    "duration": 0,
    "start_time": "2024-02-03T10:03:03.815Z"
   },
   {
    "duration": 0,
    "start_time": "2024-02-03T10:03:03.817Z"
   },
   {
    "duration": 0,
    "start_time": "2024-02-03T10:03:03.818Z"
   },
   {
    "duration": 0,
    "start_time": "2024-02-03T10:03:03.818Z"
   },
   {
    "duration": 0,
    "start_time": "2024-02-03T10:03:03.819Z"
   },
   {
    "duration": 0,
    "start_time": "2024-02-03T10:03:03.820Z"
   },
   {
    "duration": 0,
    "start_time": "2024-02-03T10:03:03.822Z"
   },
   {
    "duration": 0,
    "start_time": "2024-02-03T10:03:03.823Z"
   },
   {
    "duration": 0,
    "start_time": "2024-02-03T10:03:03.824Z"
   },
   {
    "duration": 0,
    "start_time": "2024-02-03T10:03:03.825Z"
   },
   {
    "duration": 0,
    "start_time": "2024-02-03T10:03:03.826Z"
   },
   {
    "duration": 0,
    "start_time": "2024-02-03T10:03:03.827Z"
   },
   {
    "duration": 0,
    "start_time": "2024-02-03T10:03:03.828Z"
   },
   {
    "duration": 0,
    "start_time": "2024-02-03T10:03:03.829Z"
   },
   {
    "duration": 0,
    "start_time": "2024-02-03T10:03:03.830Z"
   },
   {
    "duration": 0,
    "start_time": "2024-02-03T10:03:03.831Z"
   },
   {
    "duration": 0,
    "start_time": "2024-02-03T10:03:03.832Z"
   },
   {
    "duration": 0,
    "start_time": "2024-02-03T10:03:03.833Z"
   },
   {
    "duration": 12,
    "start_time": "2024-02-03T10:03:47.971Z"
   },
   {
    "duration": 4,
    "start_time": "2024-02-03T10:04:01.000Z"
   },
   {
    "duration": 1633,
    "start_time": "2024-02-03T10:04:05.617Z"
   },
   {
    "duration": 3,
    "start_time": "2024-02-03T10:04:17.952Z"
   },
   {
    "duration": 128,
    "start_time": "2024-02-03T10:04:33.349Z"
   },
   {
    "duration": 12,
    "start_time": "2024-02-03T10:04:37.247Z"
   },
   {
    "duration": 4,
    "start_time": "2024-02-03T10:04:55.313Z"
   },
   {
    "duration": 9,
    "start_time": "2024-02-03T10:05:09.008Z"
   },
   {
    "duration": 10,
    "start_time": "2024-02-03T10:06:14.757Z"
   },
   {
    "duration": 13,
    "start_time": "2024-02-03T10:06:22.238Z"
   },
   {
    "duration": 8,
    "start_time": "2024-02-03T10:06:30.294Z"
   },
   {
    "duration": 8,
    "start_time": "2024-02-03T10:06:31.373Z"
   },
   {
    "duration": 4,
    "start_time": "2024-02-03T10:06:51.721Z"
   },
   {
    "duration": 7,
    "start_time": "2024-02-03T10:07:05.729Z"
   },
   {
    "duration": 6,
    "start_time": "2024-02-03T10:07:10.752Z"
   },
   {
    "duration": 6,
    "start_time": "2024-02-03T10:07:37.182Z"
   },
   {
    "duration": 15,
    "start_time": "2024-02-03T10:12:45.474Z"
   },
   {
    "duration": 10,
    "start_time": "2024-02-03T10:13:03.913Z"
   },
   {
    "duration": 3,
    "start_time": "2024-02-03T10:13:10.363Z"
   },
   {
    "duration": 8,
    "start_time": "2024-02-03T10:13:18.514Z"
   },
   {
    "duration": 8,
    "start_time": "2024-02-03T10:13:24.918Z"
   },
   {
    "duration": 13,
    "start_time": "2024-02-03T10:13:42.130Z"
   },
   {
    "duration": 13,
    "start_time": "2024-02-03T10:13:55.468Z"
   },
   {
    "duration": 16,
    "start_time": "2024-02-03T10:14:10.004Z"
   },
   {
    "duration": 9,
    "start_time": "2024-02-03T10:15:46.225Z"
   },
   {
    "duration": 227,
    "start_time": "2024-02-03T10:17:40.208Z"
   },
   {
    "duration": 12,
    "start_time": "2024-02-03T10:19:04.940Z"
   },
   {
    "duration": 11,
    "start_time": "2024-02-03T10:19:31.123Z"
   },
   {
    "duration": 2961,
    "start_time": "2024-02-03T10:20:07.430Z"
   },
   {
    "duration": 2473,
    "start_time": "2024-02-03T10:20:10.393Z"
   },
   {
    "duration": 2410,
    "start_time": "2024-02-03T10:20:12.868Z"
   },
   {
    "duration": 2407,
    "start_time": "2024-02-03T10:20:15.280Z"
   },
   {
    "duration": 3,
    "start_time": "2024-02-03T10:20:17.690Z"
   },
   {
    "duration": 690,
    "start_time": "2024-02-03T10:20:17.694Z"
   },
   {
    "duration": 1706,
    "start_time": "2024-02-03T10:20:18.386Z"
   },
   {
    "duration": 220,
    "start_time": "2024-02-03T10:20:20.093Z"
   },
   {
    "duration": 14,
    "start_time": "2024-02-03T10:20:20.314Z"
   },
   {
    "duration": 4,
    "start_time": "2024-02-03T10:20:20.329Z"
   },
   {
    "duration": 24,
    "start_time": "2024-02-03T10:20:20.334Z"
   },
   {
    "duration": 13,
    "start_time": "2024-02-03T10:20:20.360Z"
   },
   {
    "duration": 17,
    "start_time": "2024-02-03T10:20:20.374Z"
   },
   {
    "duration": 3,
    "start_time": "2024-02-03T10:20:20.394Z"
   },
   {
    "duration": 22,
    "start_time": "2024-02-03T10:20:20.398Z"
   },
   {
    "duration": 12,
    "start_time": "2024-02-03T10:20:20.423Z"
   },
   {
    "duration": 20,
    "start_time": "2024-02-03T10:20:20.437Z"
   },
   {
    "duration": 4,
    "start_time": "2024-02-03T10:20:20.459Z"
   },
   {
    "duration": 16,
    "start_time": "2024-02-03T10:20:20.465Z"
   },
   {
    "duration": 19,
    "start_time": "2024-02-03T10:20:20.483Z"
   },
   {
    "duration": 13,
    "start_time": "2024-02-03T10:20:20.504Z"
   },
   {
    "duration": 13,
    "start_time": "2024-02-03T10:20:20.518Z"
   },
   {
    "duration": 35,
    "start_time": "2024-02-03T10:20:20.532Z"
   },
   {
    "duration": 11,
    "start_time": "2024-02-03T10:20:20.569Z"
   },
   {
    "duration": 32,
    "start_time": "2024-02-03T10:20:20.581Z"
   },
   {
    "duration": 9,
    "start_time": "2024-02-03T10:20:20.614Z"
   },
   {
    "duration": 8,
    "start_time": "2024-02-03T10:20:20.624Z"
   },
   {
    "duration": 4,
    "start_time": "2024-02-03T10:20:20.633Z"
   },
   {
    "duration": 8,
    "start_time": "2024-02-03T10:20:20.638Z"
   },
   {
    "duration": 12,
    "start_time": "2024-02-03T10:20:20.647Z"
   },
   {
    "duration": 41,
    "start_time": "2024-02-03T10:20:20.661Z"
   },
   {
    "duration": 2419,
    "start_time": "2024-02-03T10:20:20.703Z"
   },
   {
    "duration": 90,
    "start_time": "2024-02-03T10:20:23.124Z"
   },
   {
    "duration": 102,
    "start_time": "2024-02-03T10:20:23.216Z"
   },
   {
    "duration": 238,
    "start_time": "2024-02-03T10:20:23.319Z"
   },
   {
    "duration": 297,
    "start_time": "2024-02-03T10:20:23.558Z"
   },
   {
    "duration": 162,
    "start_time": "2024-02-03T10:20:23.856Z"
   },
   {
    "duration": 149,
    "start_time": "2024-02-03T10:20:24.020Z"
   },
   {
    "duration": 534,
    "start_time": "2024-02-03T10:20:24.171Z"
   },
   {
    "duration": 5,
    "start_time": "2024-02-03T10:20:24.707Z"
   },
   {
    "duration": 254,
    "start_time": "2024-02-03T10:20:24.716Z"
   },
   {
    "duration": 6,
    "start_time": "2024-02-03T10:20:24.972Z"
   },
   {
    "duration": 11,
    "start_time": "2024-02-03T10:20:24.979Z"
   },
   {
    "duration": 29,
    "start_time": "2024-02-03T10:20:24.992Z"
   },
   {
    "duration": 12,
    "start_time": "2024-02-03T10:20:25.023Z"
   },
   {
    "duration": 12,
    "start_time": "2024-02-03T10:20:25.037Z"
   },
   {
    "duration": 35,
    "start_time": "2024-02-03T10:20:25.051Z"
   },
   {
    "duration": 3,
    "start_time": "2024-02-03T10:20:25.088Z"
   },
   {
    "duration": 71,
    "start_time": "2024-02-03T10:20:25.093Z"
   },
   {
    "duration": 10,
    "start_time": "2024-02-03T10:20:25.166Z"
   },
   {
    "duration": 1655,
    "start_time": "2024-02-03T10:20:25.178Z"
   },
   {
    "duration": 3,
    "start_time": "2024-02-03T10:20:26.835Z"
   },
   {
    "duration": 250,
    "start_time": "2024-02-03T10:20:26.839Z"
   },
   {
    "duration": 10,
    "start_time": "2024-02-03T10:20:27.090Z"
   },
   {
    "duration": 14,
    "start_time": "2024-02-03T10:20:27.101Z"
   },
   {
    "duration": 10,
    "start_time": "2024-02-03T10:20:27.117Z"
   },
   {
    "duration": 13,
    "start_time": "2024-02-03T10:20:27.128Z"
   },
   {
    "duration": 19,
    "start_time": "2024-02-03T10:20:27.142Z"
   },
   {
    "duration": 22,
    "start_time": "2024-02-03T10:20:27.163Z"
   },
   {
    "duration": 6,
    "start_time": "2024-02-03T10:20:27.186Z"
   },
   {
    "duration": 13,
    "start_time": "2024-02-03T10:20:27.194Z"
   },
   {
    "duration": 48,
    "start_time": "2024-02-03T10:20:27.209Z"
   },
   {
    "duration": 10,
    "start_time": "2024-02-03T10:20:27.259Z"
   },
   {
    "duration": 8,
    "start_time": "2024-02-03T10:20:27.270Z"
   },
   {
    "duration": 23,
    "start_time": "2024-02-03T10:20:27.280Z"
   },
   {
    "duration": 19,
    "start_time": "2024-02-03T10:20:27.305Z"
   },
   {
    "duration": 7,
    "start_time": "2024-02-03T10:20:27.326Z"
   },
   {
    "duration": 13,
    "start_time": "2024-02-03T10:20:27.334Z"
   },
   {
    "duration": 23,
    "start_time": "2024-02-03T10:20:27.349Z"
   },
   {
    "duration": 7,
    "start_time": "2024-02-03T10:20:27.373Z"
   },
   {
    "duration": 14,
    "start_time": "2024-02-03T10:20:27.381Z"
   },
   {
    "duration": 6,
    "start_time": "2024-02-03T10:20:27.397Z"
   },
   {
    "duration": 43,
    "start_time": "2024-02-03T10:20:27.404Z"
   },
   {
    "duration": 6,
    "start_time": "2024-02-03T10:20:27.449Z"
   },
   {
    "duration": 25,
    "start_time": "2024-02-03T10:20:27.456Z"
   },
   {
    "duration": 15,
    "start_time": "2024-02-03T10:20:27.482Z"
   },
   {
    "duration": 11,
    "start_time": "2024-02-03T10:20:27.499Z"
   },
   {
    "duration": 159,
    "start_time": "2024-02-03T10:20:27.511Z"
   },
   {
    "duration": 277,
    "start_time": "2024-02-03T10:20:27.672Z"
   },
   {
    "duration": 382,
    "start_time": "2024-02-03T10:20:27.951Z"
   },
   {
    "duration": 109,
    "start_time": "2024-02-03T10:20:28.335Z"
   },
   {
    "duration": 4,
    "start_time": "2024-02-03T10:20:28.445Z"
   },
   {
    "duration": 56,
    "start_time": "2024-02-03T10:20:28.451Z"
   },
   {
    "duration": 267,
    "start_time": "2024-02-03T10:20:28.508Z"
   },
   {
    "duration": 18,
    "start_time": "2024-02-03T10:20:28.777Z"
   },
   {
    "duration": 20,
    "start_time": "2024-02-03T10:20:28.796Z"
   },
   {
    "duration": 21,
    "start_time": "2024-02-03T10:20:28.818Z"
   },
   {
    "duration": 30,
    "start_time": "2024-02-03T10:20:28.840Z"
   },
   {
    "duration": 18,
    "start_time": "2024-02-03T10:20:28.872Z"
   },
   {
    "duration": 40,
    "start_time": "2024-02-03T10:20:28.891Z"
   },
   {
    "duration": 3,
    "start_time": "2024-02-03T10:20:28.933Z"
   },
   {
    "duration": 11,
    "start_time": "2024-02-03T10:20:28.938Z"
   },
   {
    "duration": 22,
    "start_time": "2024-02-03T10:20:28.951Z"
   },
   {
    "duration": 30,
    "start_time": "2024-02-03T10:20:28.975Z"
   },
   {
    "duration": 21,
    "start_time": "2024-02-03T10:20:29.007Z"
   },
   {
    "duration": 374,
    "start_time": "2024-02-03T10:20:29.030Z"
   },
   {
    "duration": 89,
    "start_time": "2024-02-03T10:20:29.406Z"
   },
   {
    "duration": 2752,
    "start_time": "2024-02-03T10:20:29.498Z"
   },
   {
    "duration": 7,
    "start_time": "2024-02-03T10:20:32.252Z"
   },
   {
    "duration": 181,
    "start_time": "2024-02-03T10:27:27.644Z"
   },
   {
    "duration": 11,
    "start_time": "2024-02-03T10:27:48.199Z"
   },
   {
    "duration": 10,
    "start_time": "2024-02-03T10:27:59.461Z"
   },
   {
    "duration": 15,
    "start_time": "2024-02-03T10:28:27.736Z"
   },
   {
    "duration": 13,
    "start_time": "2024-02-03T10:28:33.600Z"
   },
   {
    "duration": 10,
    "start_time": "2024-02-03T10:28:36.396Z"
   },
   {
    "duration": 18,
    "start_time": "2024-02-03T10:28:48.778Z"
   },
   {
    "duration": 8,
    "start_time": "2024-02-03T10:28:52.949Z"
   },
   {
    "duration": 11,
    "start_time": "2024-02-03T10:28:55.762Z"
   },
   {
    "duration": 18,
    "start_time": "2024-02-03T10:29:13.854Z"
   },
   {
    "duration": 16,
    "start_time": "2024-02-03T10:29:31.541Z"
   },
   {
    "duration": 9,
    "start_time": "2024-02-03T10:30:19.745Z"
   },
   {
    "duration": 17,
    "start_time": "2024-02-03T10:30:24.106Z"
   },
   {
    "duration": 13,
    "start_time": "2024-02-03T10:31:30.229Z"
   },
   {
    "duration": 22,
    "start_time": "2024-02-03T10:31:43.570Z"
   },
   {
    "duration": 14,
    "start_time": "2024-02-03T10:31:50.364Z"
   },
   {
    "duration": 15,
    "start_time": "2024-02-03T10:32:07.917Z"
   },
   {
    "duration": 18,
    "start_time": "2024-02-03T10:35:26.103Z"
   },
   {
    "duration": 120,
    "start_time": "2024-02-03T10:35:38.255Z"
   },
   {
    "duration": 77,
    "start_time": "2024-02-03T10:35:43.533Z"
   },
   {
    "duration": 22,
    "start_time": "2024-02-03T10:35:46.558Z"
   },
   {
    "duration": 17,
    "start_time": "2024-02-03T10:35:53.808Z"
   },
   {
    "duration": 13,
    "start_time": "2024-02-03T10:36:27.510Z"
   },
   {
    "duration": 11,
    "start_time": "2024-02-03T10:36:53.223Z"
   },
   {
    "duration": 21,
    "start_time": "2024-02-03T10:39:58.420Z"
   },
   {
    "duration": 29,
    "start_time": "2024-02-03T10:40:10.882Z"
   },
   {
    "duration": 31,
    "start_time": "2024-02-03T10:40:20.529Z"
   },
   {
    "duration": 16,
    "start_time": "2024-02-03T10:40:29.468Z"
   },
   {
    "duration": 12,
    "start_time": "2024-02-03T10:40:48.123Z"
   },
   {
    "duration": 19,
    "start_time": "2024-02-03T10:41:21.509Z"
   },
   {
    "duration": 25,
    "start_time": "2024-02-03T10:41:47.448Z"
   },
   {
    "duration": 19,
    "start_time": "2024-02-03T10:42:01.485Z"
   },
   {
    "duration": 16,
    "start_time": "2024-02-03T10:42:04.420Z"
   },
   {
    "duration": 18,
    "start_time": "2024-02-03T10:42:23.000Z"
   },
   {
    "duration": 1124,
    "start_time": "2024-02-03T10:42:46.415Z"
   },
   {
    "duration": 1128,
    "start_time": "2024-02-03T10:42:54.686Z"
   },
   {
    "duration": 16,
    "start_time": "2024-02-03T10:43:06.638Z"
   },
   {
    "duration": 20,
    "start_time": "2024-02-03T10:43:54.273Z"
   },
   {
    "duration": 15,
    "start_time": "2024-02-03T10:44:02.737Z"
   },
   {
    "duration": 14,
    "start_time": "2024-02-03T10:44:25.686Z"
   },
   {
    "duration": 12,
    "start_time": "2024-02-03T10:44:32.780Z"
   },
   {
    "duration": 8,
    "start_time": "2024-02-03T10:45:03.566Z"
   },
   {
    "duration": 11,
    "start_time": "2024-02-03T10:45:07.010Z"
   },
   {
    "duration": 10,
    "start_time": "2024-02-03T10:45:25.341Z"
   },
   {
    "duration": 17,
    "start_time": "2024-02-03T10:45:37.186Z"
   },
   {
    "duration": 18,
    "start_time": "2024-02-03T10:46:44.161Z"
   },
   {
    "duration": 20,
    "start_time": "2024-02-03T10:46:58.233Z"
   },
   {
    "duration": 26,
    "start_time": "2024-02-03T10:48:27.470Z"
   },
   {
    "duration": 27,
    "start_time": "2024-02-03T10:49:24.988Z"
   },
   {
    "duration": 13,
    "start_time": "2024-02-03T10:56:16.634Z"
   },
   {
    "duration": 3,
    "start_time": "2024-02-03T10:56:34.753Z"
   },
   {
    "duration": 6,
    "start_time": "2024-02-03T10:56:35.189Z"
   },
   {
    "duration": 5,
    "start_time": "2024-02-03T10:58:30.091Z"
   },
   {
    "duration": 5,
    "start_time": "2024-02-03T10:58:49.490Z"
   },
   {
    "duration": 5,
    "start_time": "2024-02-03T10:58:53.537Z"
   },
   {
    "duration": 74,
    "start_time": "2024-02-03T11:01:56.835Z"
   },
   {
    "duration": 5,
    "start_time": "2024-02-03T11:02:02.699Z"
   },
   {
    "duration": 21,
    "start_time": "2024-02-03T11:03:57.944Z"
   },
   {
    "duration": 20,
    "start_time": "2024-02-03T11:04:24.732Z"
   },
   {
    "duration": 13,
    "start_time": "2024-02-03T11:06:59.871Z"
   },
   {
    "duration": 12,
    "start_time": "2024-02-03T11:07:25.466Z"
   },
   {
    "duration": 10,
    "start_time": "2024-02-03T11:10:14.155Z"
   },
   {
    "duration": 5,
    "start_time": "2024-02-03T11:10:56.605Z"
   },
   {
    "duration": 2966,
    "start_time": "2024-02-03T11:16:20.331Z"
   },
   {
    "duration": 2493,
    "start_time": "2024-02-03T11:16:23.299Z"
   },
   {
    "duration": 2425,
    "start_time": "2024-02-03T11:16:25.794Z"
   },
   {
    "duration": 2750,
    "start_time": "2024-02-03T11:16:28.221Z"
   },
   {
    "duration": 3,
    "start_time": "2024-02-03T11:16:30.973Z"
   },
   {
    "duration": 678,
    "start_time": "2024-02-03T11:16:30.978Z"
   },
   {
    "duration": 1750,
    "start_time": "2024-02-03T11:16:31.659Z"
   },
   {
    "duration": 347,
    "start_time": "2024-02-03T11:16:33.410Z"
   },
   {
    "duration": 15,
    "start_time": "2024-02-03T11:16:33.759Z"
   },
   {
    "duration": 5,
    "start_time": "2024-02-03T11:16:33.776Z"
   },
   {
    "duration": 14,
    "start_time": "2024-02-03T11:16:33.782Z"
   },
   {
    "duration": 25,
    "start_time": "2024-02-03T11:16:33.798Z"
   },
   {
    "duration": 9,
    "start_time": "2024-02-03T11:16:33.825Z"
   },
   {
    "duration": 4,
    "start_time": "2024-02-03T11:16:33.835Z"
   },
   {
    "duration": 29,
    "start_time": "2024-02-03T11:16:33.840Z"
   },
   {
    "duration": 11,
    "start_time": "2024-02-03T11:16:33.871Z"
   },
   {
    "duration": 32,
    "start_time": "2024-02-03T11:16:33.883Z"
   },
   {
    "duration": 9,
    "start_time": "2024-02-03T11:16:33.917Z"
   },
   {
    "duration": 29,
    "start_time": "2024-02-03T11:16:33.928Z"
   },
   {
    "duration": 24,
    "start_time": "2024-02-03T11:16:33.959Z"
   },
   {
    "duration": 10,
    "start_time": "2024-02-03T11:16:33.985Z"
   },
   {
    "duration": 8,
    "start_time": "2024-02-03T11:16:33.997Z"
   },
   {
    "duration": 23,
    "start_time": "2024-02-03T11:16:34.006Z"
   },
   {
    "duration": 26,
    "start_time": "2024-02-03T11:16:34.030Z"
   },
   {
    "duration": 22,
    "start_time": "2024-02-03T11:16:34.058Z"
   },
   {
    "duration": 12,
    "start_time": "2024-02-03T11:16:34.081Z"
   },
   {
    "duration": 9,
    "start_time": "2024-02-03T11:16:34.094Z"
   },
   {
    "duration": 6,
    "start_time": "2024-02-03T11:16:34.107Z"
   },
   {
    "duration": 12,
    "start_time": "2024-02-03T11:16:34.114Z"
   },
   {
    "duration": 13,
    "start_time": "2024-02-03T11:16:34.128Z"
   },
   {
    "duration": 48,
    "start_time": "2024-02-03T11:16:34.143Z"
   },
   {
    "duration": 2509,
    "start_time": "2024-02-03T11:16:34.193Z"
   },
   {
    "duration": 96,
    "start_time": "2024-02-03T11:16:36.704Z"
   },
   {
    "duration": 94,
    "start_time": "2024-02-03T11:16:36.802Z"
   },
   {
    "duration": 228,
    "start_time": "2024-02-03T11:16:36.898Z"
   },
   {
    "duration": 309,
    "start_time": "2024-02-03T11:16:37.128Z"
   },
   {
    "duration": 157,
    "start_time": "2024-02-03T11:16:37.439Z"
   },
   {
    "duration": 163,
    "start_time": "2024-02-03T11:16:37.598Z"
   },
   {
    "duration": 509,
    "start_time": "2024-02-03T11:16:37.762Z"
   },
   {
    "duration": 5,
    "start_time": "2024-02-03T11:16:38.272Z"
   },
   {
    "duration": 239,
    "start_time": "2024-02-03T11:16:38.278Z"
   },
   {
    "duration": 6,
    "start_time": "2024-02-03T11:16:38.518Z"
   },
   {
    "duration": 7,
    "start_time": "2024-02-03T11:16:38.525Z"
   },
   {
    "duration": 5,
    "start_time": "2024-02-03T11:16:38.534Z"
   },
   {
    "duration": 5,
    "start_time": "2024-02-03T11:16:38.540Z"
   },
   {
    "duration": 28,
    "start_time": "2024-02-03T11:16:38.546Z"
   },
   {
    "duration": 51,
    "start_time": "2024-02-03T11:16:38.575Z"
   },
   {
    "duration": 3,
    "start_time": "2024-02-03T11:16:38.628Z"
   },
   {
    "duration": 23,
    "start_time": "2024-02-03T11:16:38.632Z"
   },
   {
    "duration": 5,
    "start_time": "2024-02-03T11:16:38.658Z"
   },
   {
    "duration": 1719,
    "start_time": "2024-02-03T11:16:38.665Z"
   },
   {
    "duration": 3,
    "start_time": "2024-02-03T11:16:40.385Z"
   },
   {
    "duration": 209,
    "start_time": "2024-02-03T11:16:40.389Z"
   },
   {
    "duration": 9,
    "start_time": "2024-02-03T11:16:40.600Z"
   },
   {
    "duration": 52,
    "start_time": "2024-02-03T11:16:40.611Z"
   },
   {
    "duration": 32,
    "start_time": "2024-02-03T11:16:40.665Z"
   },
   {
    "duration": 24,
    "start_time": "2024-02-03T11:16:40.698Z"
   },
   {
    "duration": 40,
    "start_time": "2024-02-03T11:16:40.724Z"
   },
   {
    "duration": 15,
    "start_time": "2024-02-03T11:16:40.766Z"
   },
   {
    "duration": 7,
    "start_time": "2024-02-03T11:16:40.783Z"
   },
   {
    "duration": 14,
    "start_time": "2024-02-03T11:16:40.791Z"
   },
   {
    "duration": 27,
    "start_time": "2024-02-03T11:16:40.806Z"
   },
   {
    "duration": 4,
    "start_time": "2024-02-03T11:16:40.834Z"
   },
   {
    "duration": 7,
    "start_time": "2024-02-03T11:16:40.839Z"
   },
   {
    "duration": 6,
    "start_time": "2024-02-03T11:16:40.848Z"
   },
   {
    "duration": 13,
    "start_time": "2024-02-03T11:16:40.855Z"
   },
   {
    "duration": 11,
    "start_time": "2024-02-03T11:16:40.869Z"
   },
   {
    "duration": 25,
    "start_time": "2024-02-03T11:16:40.882Z"
   },
   {
    "duration": 11,
    "start_time": "2024-02-03T11:16:40.908Z"
   },
   {
    "duration": 16,
    "start_time": "2024-02-03T11:16:40.920Z"
   },
   {
    "duration": 21,
    "start_time": "2024-02-03T11:16:40.937Z"
   },
   {
    "duration": 11,
    "start_time": "2024-02-03T11:16:40.959Z"
   },
   {
    "duration": 28,
    "start_time": "2024-02-03T11:16:40.972Z"
   },
   {
    "duration": 5,
    "start_time": "2024-02-03T11:16:41.002Z"
   },
   {
    "duration": 20,
    "start_time": "2024-02-03T11:16:41.008Z"
   },
   {
    "duration": 9,
    "start_time": "2024-02-03T11:16:41.030Z"
   },
   {
    "duration": 12,
    "start_time": "2024-02-03T11:16:41.041Z"
   },
   {
    "duration": 171,
    "start_time": "2024-02-03T11:16:41.054Z"
   },
   {
    "duration": 277,
    "start_time": "2024-02-03T11:16:41.226Z"
   },
   {
    "duration": 383,
    "start_time": "2024-02-03T11:16:41.505Z"
   },
   {
    "duration": 113,
    "start_time": "2024-02-03T11:16:41.893Z"
   },
   {
    "duration": 4,
    "start_time": "2024-02-03T11:16:42.011Z"
   },
   {
    "duration": 56,
    "start_time": "2024-02-03T11:16:42.016Z"
   },
   {
    "duration": 285,
    "start_time": "2024-02-03T11:16:42.074Z"
   },
   {
    "duration": 4,
    "start_time": "2024-02-03T11:16:42.361Z"
   },
   {
    "duration": 27,
    "start_time": "2024-02-03T11:16:42.367Z"
   },
   {
    "duration": 25,
    "start_time": "2024-02-03T11:16:42.395Z"
   },
   {
    "duration": 9,
    "start_time": "2024-02-03T11:16:42.421Z"
   },
   {
    "duration": 9,
    "start_time": "2024-02-03T11:16:42.431Z"
   },
   {
    "duration": 4,
    "start_time": "2024-02-03T11:16:42.441Z"
   },
   {
    "duration": 4,
    "start_time": "2024-02-03T11:16:42.446Z"
   },
   {
    "duration": 6,
    "start_time": "2024-02-03T11:16:42.452Z"
   },
   {
    "duration": 68,
    "start_time": "2024-02-03T11:16:42.459Z"
   },
   {
    "duration": 2,
    "start_time": "2024-02-03T11:16:42.529Z"
   },
   {
    "duration": 18,
    "start_time": "2024-02-03T11:16:42.532Z"
   },
   {
    "duration": 7,
    "start_time": "2024-02-03T11:16:42.551Z"
   },
   {
    "duration": 23,
    "start_time": "2024-02-03T11:16:42.559Z"
   },
   {
    "duration": 4,
    "start_time": "2024-02-03T11:16:42.584Z"
   },
   {
    "duration": 413,
    "start_time": "2024-02-03T11:16:42.590Z"
   },
   {
    "duration": 92,
    "start_time": "2024-02-03T11:16:43.005Z"
   },
   {
    "duration": 2659,
    "start_time": "2024-02-03T11:16:43.099Z"
   },
   {
    "duration": 7,
    "start_time": "2024-02-03T11:16:45.760Z"
   },
   {
    "duration": 2883,
    "start_time": "2024-02-03T11:18:26.701Z"
   },
   {
    "duration": 2439,
    "start_time": "2024-02-03T11:18:29.586Z"
   },
   {
    "duration": 2437,
    "start_time": "2024-02-03T11:18:32.027Z"
   },
   {
    "duration": 2465,
    "start_time": "2024-02-03T11:18:34.466Z"
   },
   {
    "duration": 3,
    "start_time": "2024-02-03T11:18:36.933Z"
   },
   {
    "duration": 650,
    "start_time": "2024-02-03T11:18:36.938Z"
   },
   {
    "duration": 1687,
    "start_time": "2024-02-03T11:18:37.590Z"
   },
   {
    "duration": 223,
    "start_time": "2024-02-03T11:18:39.278Z"
   },
   {
    "duration": 14,
    "start_time": "2024-02-03T11:18:39.503Z"
   },
   {
    "duration": 16,
    "start_time": "2024-02-03T11:18:39.519Z"
   },
   {
    "duration": 30,
    "start_time": "2024-02-03T11:18:39.537Z"
   },
   {
    "duration": 29,
    "start_time": "2024-02-03T11:18:39.568Z"
   },
   {
    "duration": 13,
    "start_time": "2024-02-03T11:18:39.598Z"
   },
   {
    "duration": 18,
    "start_time": "2024-02-03T11:18:39.613Z"
   },
   {
    "duration": 25,
    "start_time": "2024-02-03T11:18:39.632Z"
   },
   {
    "duration": 10,
    "start_time": "2024-02-03T11:18:39.659Z"
   },
   {
    "duration": 24,
    "start_time": "2024-02-03T11:18:39.671Z"
   },
   {
    "duration": 8,
    "start_time": "2024-02-03T11:18:39.697Z"
   },
   {
    "duration": 20,
    "start_time": "2024-02-03T11:18:39.706Z"
   },
   {
    "duration": 25,
    "start_time": "2024-02-03T11:18:39.728Z"
   },
   {
    "duration": 30,
    "start_time": "2024-02-03T11:18:39.755Z"
   },
   {
    "duration": 10,
    "start_time": "2024-02-03T11:18:39.786Z"
   },
   {
    "duration": 14,
    "start_time": "2024-02-03T11:18:39.798Z"
   },
   {
    "duration": 17,
    "start_time": "2024-02-03T11:18:39.814Z"
   },
   {
    "duration": 18,
    "start_time": "2024-02-03T11:18:39.832Z"
   },
   {
    "duration": 19,
    "start_time": "2024-02-03T11:18:39.851Z"
   },
   {
    "duration": 15,
    "start_time": "2024-02-03T11:18:39.871Z"
   },
   {
    "duration": 9,
    "start_time": "2024-02-03T11:18:39.890Z"
   },
   {
    "duration": 20,
    "start_time": "2024-02-03T11:18:39.901Z"
   },
   {
    "duration": 15,
    "start_time": "2024-02-03T11:18:39.923Z"
   },
   {
    "duration": 42,
    "start_time": "2024-02-03T11:18:39.939Z"
   },
   {
    "duration": 2420,
    "start_time": "2024-02-03T11:18:39.982Z"
   },
   {
    "duration": 92,
    "start_time": "2024-02-03T11:18:42.404Z"
   },
   {
    "duration": 82,
    "start_time": "2024-02-03T11:18:42.497Z"
   },
   {
    "duration": 228,
    "start_time": "2024-02-03T11:18:42.581Z"
   },
   {
    "duration": 292,
    "start_time": "2024-02-03T11:18:42.810Z"
   },
   {
    "duration": 170,
    "start_time": "2024-02-03T11:18:43.103Z"
   },
   {
    "duration": 150,
    "start_time": "2024-02-03T11:18:43.275Z"
   },
   {
    "duration": 527,
    "start_time": "2024-02-03T11:18:43.427Z"
   },
   {
    "duration": 5,
    "start_time": "2024-02-03T11:18:43.955Z"
   },
   {
    "duration": 258,
    "start_time": "2024-02-03T11:18:43.961Z"
   },
   {
    "duration": 8,
    "start_time": "2024-02-03T11:18:44.221Z"
   },
   {
    "duration": 11,
    "start_time": "2024-02-03T11:18:44.231Z"
   },
   {
    "duration": 36,
    "start_time": "2024-02-03T11:18:44.244Z"
   },
   {
    "duration": 21,
    "start_time": "2024-02-03T11:18:44.282Z"
   },
   {
    "duration": 27,
    "start_time": "2024-02-03T11:18:44.305Z"
   },
   {
    "duration": 57,
    "start_time": "2024-02-03T11:18:44.333Z"
   },
   {
    "duration": 3,
    "start_time": "2024-02-03T11:18:44.391Z"
   },
   {
    "duration": 32,
    "start_time": "2024-02-03T11:18:44.395Z"
   },
   {
    "duration": 22,
    "start_time": "2024-02-03T11:18:44.428Z"
   },
   {
    "duration": 1702,
    "start_time": "2024-02-03T11:18:44.451Z"
   },
   {
    "duration": 3,
    "start_time": "2024-02-03T11:18:46.154Z"
   },
   {
    "duration": 140,
    "start_time": "2024-02-03T11:18:46.159Z"
   },
   {
    "duration": 9,
    "start_time": "2024-02-03T11:18:46.301Z"
   },
   {
    "duration": 67,
    "start_time": "2024-02-03T11:18:46.312Z"
   },
   {
    "duration": 10,
    "start_time": "2024-02-03T11:18:46.381Z"
   },
   {
    "duration": 8,
    "start_time": "2024-02-03T11:18:46.393Z"
   },
   {
    "duration": 24,
    "start_time": "2024-02-03T11:18:46.402Z"
   },
   {
    "duration": 24,
    "start_time": "2024-02-03T11:18:46.428Z"
   },
   {
    "duration": 12,
    "start_time": "2024-02-03T11:18:46.453Z"
   },
   {
    "duration": 33,
    "start_time": "2024-02-03T11:18:46.466Z"
   },
   {
    "duration": 16,
    "start_time": "2024-02-03T11:18:46.501Z"
   },
   {
    "duration": 4,
    "start_time": "2024-02-03T11:18:46.519Z"
   },
   {
    "duration": 39,
    "start_time": "2024-02-03T11:18:46.524Z"
   },
   {
    "duration": 13,
    "start_time": "2024-02-03T11:18:46.565Z"
   },
   {
    "duration": 15,
    "start_time": "2024-02-03T11:18:46.580Z"
   },
   {
    "duration": 9,
    "start_time": "2024-02-03T11:18:46.596Z"
   },
   {
    "duration": 19,
    "start_time": "2024-02-03T11:18:46.606Z"
   },
   {
    "duration": 13,
    "start_time": "2024-02-03T11:18:46.626Z"
   },
   {
    "duration": 19,
    "start_time": "2024-02-03T11:18:46.641Z"
   },
   {
    "duration": 7,
    "start_time": "2024-02-03T11:18:46.662Z"
   },
   {
    "duration": 14,
    "start_time": "2024-02-03T11:18:46.671Z"
   },
   {
    "duration": 35,
    "start_time": "2024-02-03T11:18:46.686Z"
   },
   {
    "duration": 5,
    "start_time": "2024-02-03T11:18:46.722Z"
   },
   {
    "duration": 46,
    "start_time": "2024-02-03T11:18:46.729Z"
   },
   {
    "duration": 16,
    "start_time": "2024-02-03T11:18:46.777Z"
   },
   {
    "duration": 38,
    "start_time": "2024-02-03T11:18:46.794Z"
   },
   {
    "duration": 177,
    "start_time": "2024-02-03T11:18:46.834Z"
   },
   {
    "duration": 269,
    "start_time": "2024-02-03T11:18:47.012Z"
   },
   {
    "duration": 390,
    "start_time": "2024-02-03T11:18:47.283Z"
   },
   {
    "duration": 116,
    "start_time": "2024-02-03T11:18:47.674Z"
   },
   {
    "duration": 5,
    "start_time": "2024-02-03T11:18:47.798Z"
   },
   {
    "duration": 60,
    "start_time": "2024-02-03T11:18:47.805Z"
   },
   {
    "duration": 275,
    "start_time": "2024-02-03T11:18:47.866Z"
   },
   {
    "duration": 5,
    "start_time": "2024-02-03T11:18:48.142Z"
   },
   {
    "duration": 15,
    "start_time": "2024-02-03T11:18:48.149Z"
   },
   {
    "duration": 36,
    "start_time": "2024-02-03T11:18:48.165Z"
   },
   {
    "duration": 9,
    "start_time": "2024-02-03T11:18:48.203Z"
   },
   {
    "duration": 8,
    "start_time": "2024-02-03T11:18:48.213Z"
   },
   {
    "duration": 5,
    "start_time": "2024-02-03T11:18:48.223Z"
   },
   {
    "duration": 5,
    "start_time": "2024-02-03T11:18:48.230Z"
   },
   {
    "duration": 8,
    "start_time": "2024-02-03T11:18:48.236Z"
   },
   {
    "duration": 63,
    "start_time": "2024-02-03T11:18:48.246Z"
   },
   {
    "duration": 2,
    "start_time": "2024-02-03T11:18:48.311Z"
   },
   {
    "duration": 17,
    "start_time": "2024-02-03T11:18:48.315Z"
   },
   {
    "duration": 6,
    "start_time": "2024-02-03T11:18:48.334Z"
   },
   {
    "duration": 9,
    "start_time": "2024-02-03T11:18:48.341Z"
   },
   {
    "duration": 29,
    "start_time": "2024-02-03T11:18:48.351Z"
   },
   {
    "duration": 413,
    "start_time": "2024-02-03T11:18:48.381Z"
   },
   {
    "duration": 6,
    "start_time": "2024-02-03T11:18:48.796Z"
   },
   {
    "duration": 2817,
    "start_time": "2024-02-03T11:18:48.805Z"
   },
   {
    "duration": 9,
    "start_time": "2024-02-03T11:18:51.623Z"
   },
   {
    "duration": 6191,
    "start_time": "2024-02-04T19:41:08.506Z"
   },
   {
    "duration": 2837,
    "start_time": "2024-02-04T19:41:14.700Z"
   },
   {
    "duration": 3428,
    "start_time": "2024-02-04T19:41:17.539Z"
   },
   {
    "duration": 2832,
    "start_time": "2024-02-04T19:41:20.970Z"
   },
   {
    "duration": 3,
    "start_time": "2024-02-04T19:41:23.804Z"
   },
   {
    "duration": 632,
    "start_time": "2024-02-04T19:41:23.808Z"
   },
   {
    "duration": 1814,
    "start_time": "2024-02-04T19:41:24.443Z"
   },
   {
    "duration": 317,
    "start_time": "2024-02-04T19:41:26.259Z"
   },
   {
    "duration": 17,
    "start_time": "2024-02-04T19:41:26.578Z"
   },
   {
    "duration": 4,
    "start_time": "2024-02-04T19:41:26.598Z"
   },
   {
    "duration": 17,
    "start_time": "2024-02-04T19:41:26.604Z"
   },
   {
    "duration": 8,
    "start_time": "2024-02-04T19:41:26.623Z"
   },
   {
    "duration": 33,
    "start_time": "2024-02-04T19:41:26.633Z"
   },
   {
    "duration": 3,
    "start_time": "2024-02-04T19:41:26.668Z"
   },
   {
    "duration": 12,
    "start_time": "2024-02-04T19:41:26.673Z"
   },
   {
    "duration": 9,
    "start_time": "2024-02-04T19:41:26.687Z"
   },
   {
    "duration": 10,
    "start_time": "2024-02-04T19:41:26.698Z"
   },
   {
    "duration": 5,
    "start_time": "2024-02-04T19:41:26.709Z"
   },
   {
    "duration": 11,
    "start_time": "2024-02-04T19:41:26.716Z"
   },
   {
    "duration": 7,
    "start_time": "2024-02-04T19:41:26.764Z"
   },
   {
    "duration": 16,
    "start_time": "2024-02-04T19:41:26.772Z"
   },
   {
    "duration": 7,
    "start_time": "2024-02-04T19:41:26.790Z"
   },
   {
    "duration": 10,
    "start_time": "2024-02-04T19:41:26.798Z"
   },
   {
    "duration": 5,
    "start_time": "2024-02-04T19:41:26.810Z"
   },
   {
    "duration": 6,
    "start_time": "2024-02-04T19:41:26.817Z"
   },
   {
    "duration": 6,
    "start_time": "2024-02-04T19:41:26.824Z"
   },
   {
    "duration": 36,
    "start_time": "2024-02-04T19:41:26.832Z"
   },
   {
    "duration": 6,
    "start_time": "2024-02-04T19:41:26.872Z"
   },
   {
    "duration": 4,
    "start_time": "2024-02-04T19:41:26.880Z"
   },
   {
    "duration": 4,
    "start_time": "2024-02-04T19:41:26.885Z"
   },
   {
    "duration": 29,
    "start_time": "2024-02-04T19:41:26.890Z"
   },
   {
    "duration": 2404,
    "start_time": "2024-02-04T19:41:26.920Z"
   },
   {
    "duration": 89,
    "start_time": "2024-02-04T19:41:29.326Z"
   },
   {
    "duration": 82,
    "start_time": "2024-02-04T19:41:29.417Z"
   },
   {
    "duration": 210,
    "start_time": "2024-02-04T19:41:29.501Z"
   },
   {
    "duration": 282,
    "start_time": "2024-02-04T19:41:29.713Z"
   },
   {
    "duration": 145,
    "start_time": "2024-02-04T19:41:29.997Z"
   },
   {
    "duration": 149,
    "start_time": "2024-02-04T19:41:30.148Z"
   },
   {
    "duration": 504,
    "start_time": "2024-02-04T19:41:30.299Z"
   },
   {
    "duration": 4,
    "start_time": "2024-02-04T19:41:30.805Z"
   },
   {
    "duration": 246,
    "start_time": "2024-02-04T19:41:30.810Z"
   },
   {
    "duration": 8,
    "start_time": "2024-02-04T19:41:31.058Z"
   },
   {
    "duration": 42,
    "start_time": "2024-02-04T19:41:31.068Z"
   },
   {
    "duration": 42,
    "start_time": "2024-02-04T19:41:31.112Z"
   },
   {
    "duration": 29,
    "start_time": "2024-02-04T19:41:31.156Z"
   },
   {
    "duration": 30,
    "start_time": "2024-02-04T19:41:31.187Z"
   },
   {
    "duration": 62,
    "start_time": "2024-02-04T19:41:31.219Z"
   },
   {
    "duration": 3,
    "start_time": "2024-02-04T19:41:31.283Z"
   },
   {
    "duration": 44,
    "start_time": "2024-02-04T19:41:31.287Z"
   },
   {
    "duration": 27,
    "start_time": "2024-02-04T19:41:31.333Z"
   },
   {
    "duration": 1657,
    "start_time": "2024-02-04T19:41:31.362Z"
   },
   {
    "duration": 2,
    "start_time": "2024-02-04T19:41:33.021Z"
   },
   {
    "duration": 200,
    "start_time": "2024-02-04T19:41:33.025Z"
   },
   {
    "duration": 9,
    "start_time": "2024-02-04T19:41:33.227Z"
   },
   {
    "duration": 11,
    "start_time": "2024-02-04T19:41:33.238Z"
   },
   {
    "duration": 4,
    "start_time": "2024-02-04T19:41:33.250Z"
   },
   {
    "duration": 6,
    "start_time": "2024-02-04T19:41:33.256Z"
   },
   {
    "duration": 8,
    "start_time": "2024-02-04T19:41:33.263Z"
   },
   {
    "duration": 12,
    "start_time": "2024-02-04T19:41:33.272Z"
   },
   {
    "duration": 8,
    "start_time": "2024-02-04T19:41:33.285Z"
   },
   {
    "duration": 10,
    "start_time": "2024-02-04T19:41:33.295Z"
   },
   {
    "duration": 11,
    "start_time": "2024-02-04T19:41:33.306Z"
   },
   {
    "duration": 4,
    "start_time": "2024-02-04T19:41:33.318Z"
   },
   {
    "duration": 43,
    "start_time": "2024-02-04T19:41:33.323Z"
   },
   {
    "duration": 9,
    "start_time": "2024-02-04T19:41:33.367Z"
   },
   {
    "duration": 11,
    "start_time": "2024-02-04T19:41:33.378Z"
   },
   {
    "duration": 6,
    "start_time": "2024-02-04T19:41:33.390Z"
   },
   {
    "duration": 8,
    "start_time": "2024-02-04T19:41:33.398Z"
   },
   {
    "duration": 3,
    "start_time": "2024-02-04T19:41:33.408Z"
   },
   {
    "duration": 5,
    "start_time": "2024-02-04T19:41:33.412Z"
   },
   {
    "duration": 49,
    "start_time": "2024-02-04T19:41:33.418Z"
   },
   {
    "duration": 5,
    "start_time": "2024-02-04T19:41:33.469Z"
   },
   {
    "duration": 29,
    "start_time": "2024-02-04T19:41:33.475Z"
   },
   {
    "duration": 5,
    "start_time": "2024-02-04T19:41:33.505Z"
   },
   {
    "duration": 22,
    "start_time": "2024-02-04T19:41:33.511Z"
   },
   {
    "duration": 34,
    "start_time": "2024-02-04T19:41:33.534Z"
   },
   {
    "duration": 9,
    "start_time": "2024-02-04T19:41:33.570Z"
   },
   {
    "duration": 150,
    "start_time": "2024-02-04T19:41:33.580Z"
   },
   {
    "duration": 250,
    "start_time": "2024-02-04T19:41:33.732Z"
   },
   {
    "duration": 372,
    "start_time": "2024-02-04T19:41:33.983Z"
   },
   {
    "duration": 115,
    "start_time": "2024-02-04T19:41:34.357Z"
   },
   {
    "duration": 4,
    "start_time": "2024-02-04T19:41:34.478Z"
   },
   {
    "duration": 45,
    "start_time": "2024-02-04T19:41:34.483Z"
   },
   {
    "duration": 274,
    "start_time": "2024-02-04T19:41:34.530Z"
   },
   {
    "duration": 5,
    "start_time": "2024-02-04T19:41:34.805Z"
   },
   {
    "duration": 12,
    "start_time": "2024-02-04T19:41:34.812Z"
   },
   {
    "duration": 41,
    "start_time": "2024-02-04T19:41:34.825Z"
   },
   {
    "duration": 10,
    "start_time": "2024-02-04T19:41:34.867Z"
   },
   {
    "duration": 23,
    "start_time": "2024-02-04T19:41:34.878Z"
   },
   {
    "duration": 6,
    "start_time": "2024-02-04T19:41:34.903Z"
   },
   {
    "duration": 4,
    "start_time": "2024-02-04T19:41:34.910Z"
   },
   {
    "duration": 6,
    "start_time": "2024-02-04T19:41:34.915Z"
   },
   {
    "duration": 43,
    "start_time": "2024-02-04T19:41:34.922Z"
   },
   {
    "duration": 4,
    "start_time": "2024-02-04T19:41:34.966Z"
   },
   {
    "duration": 4,
    "start_time": "2024-02-04T19:41:34.971Z"
   },
   {
    "duration": 4,
    "start_time": "2024-02-04T19:41:34.976Z"
   },
   {
    "duration": 4,
    "start_time": "2024-02-04T19:41:34.981Z"
   },
   {
    "duration": 5,
    "start_time": "2024-02-04T19:41:34.986Z"
   },
   {
    "duration": 494,
    "start_time": "2024-02-04T19:41:34.992Z"
   },
   {
    "duration": 85,
    "start_time": "2024-02-04T19:41:35.488Z"
   },
   {
    "duration": 2489,
    "start_time": "2024-02-04T19:41:35.665Z"
   },
   {
    "duration": 9,
    "start_time": "2024-02-04T19:41:38.156Z"
   },
   {
    "duration": 188,
    "start_time": "2024-02-04T19:43:21.641Z"
   },
   {
    "duration": 14,
    "start_time": "2024-02-04T19:45:40.655Z"
   }
  ],
  "kernelspec": {
   "display_name": "Python 3 (ipykernel)",
   "language": "python",
   "name": "python3"
  },
  "language_info": {
   "codemirror_mode": {
    "name": "ipython",
    "version": 3
   },
   "file_extension": ".py",
   "mimetype": "text/x-python",
   "name": "python",
   "nbconvert_exporter": "python",
   "pygments_lexer": "ipython3",
   "version": "3.11.4"
  },
  "toc": {
   "base_numbering": 1,
   "nav_menu": {},
   "number_sections": true,
   "sideBar": true,
   "skip_h1_title": true,
   "title_cell": "Table of Contents",
   "title_sidebar": "Contents",
   "toc_cell": false,
   "toc_position": {
    "height": "calc(100% - 180px)",
    "left": "10px",
    "top": "150px",
    "width": "264.594px"
   },
   "toc_section_display": true,
   "toc_window_display": true
  }
 },
 "nbformat": 4,
 "nbformat_minor": 5
}
