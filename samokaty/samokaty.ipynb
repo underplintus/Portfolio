{
 "cells": [
  {
   "cell_type": "markdown",
   "id": "353bbffd",
   "metadata": {},
   "source": [
    "# Исследование данных сервиса аренды самокатов GoFast\n",
    "Чтобы совершать поездки по городу, пользователи сервиса GoFast пользуются мобильным приложением. Сервисом можно пользоваться с подпиской и без подписки. Проанализируем данные пользователей из нескольких городов, а также данные об их поездках. Проверим различные гипотезы для роста бизнеса.\n",
    "    "
   ]
  },
  {
   "cell_type": "code",
   "execution_count": 1,
   "id": "72576667",
   "metadata": {},
   "outputs": [],
   "source": [
    "#загрузка библиотек\n",
    "import pandas as pd\n",
    "import numpy as np\n",
    "import matplotlib.pyplot as plt\n",
    "import seaborn as sns\n",
    "from random import randint\n",
    "from math import factorial, exp, sqrt\n",
    "from scipy import stats as st\n",
    "from scipy.stats import poisson, binom, norm"
   ]
  },
  {
   "cell_type": "markdown",
   "id": "c42cbe00",
   "metadata": {},
   "source": [
    "###  Загрузка данных"
   ]
  },
  {
   "cell_type": "code",
   "execution_count": 2,
   "id": "eff9f206",
   "metadata": {},
   "outputs": [],
   "source": [
    "#загрузка данных\n",
    "users = pd.read_csv('https://code.s3.yandex.net/datasets/users_go.csv')\n",
    "rides = pd.read_csv('https://code.s3.yandex.net/datasets/rides_go.csv')\n",
    "subscriptions = pd.read_csv('https://code.s3.yandex.net/datasets/subscriptions_go.csv')"
   ]
  },
  {
   "cell_type": "markdown",
   "id": "cf111ea2",
   "metadata": {},
   "source": [
    "#### Данные о пользователях"
   ]
  },
  {
   "cell_type": "code",
   "execution_count": 3,
   "id": "5f99a784",
   "metadata": {},
   "outputs": [
    {
     "data": {
      "text/html": [
       "<div>\n",
       "<style scoped>\n",
       "    .dataframe tbody tr th:only-of-type {\n",
       "        vertical-align: middle;\n",
       "    }\n",
       "\n",
       "    .dataframe tbody tr th {\n",
       "        vertical-align: top;\n",
       "    }\n",
       "\n",
       "    .dataframe thead th {\n",
       "        text-align: right;\n",
       "    }\n",
       "</style>\n",
       "<table border=\"1\" class=\"dataframe\">\n",
       "  <thead>\n",
       "    <tr style=\"text-align: right;\">\n",
       "      <th></th>\n",
       "      <th>user_id</th>\n",
       "      <th>name</th>\n",
       "      <th>age</th>\n",
       "      <th>city</th>\n",
       "      <th>subscription_type</th>\n",
       "    </tr>\n",
       "  </thead>\n",
       "  <tbody>\n",
       "    <tr>\n",
       "      <th>0</th>\n",
       "      <td>1</td>\n",
       "      <td>Кира</td>\n",
       "      <td>22</td>\n",
       "      <td>Тюмень</td>\n",
       "      <td>ultra</td>\n",
       "    </tr>\n",
       "    <tr>\n",
       "      <th>1</th>\n",
       "      <td>2</td>\n",
       "      <td>Станислав</td>\n",
       "      <td>31</td>\n",
       "      <td>Омск</td>\n",
       "      <td>ultra</td>\n",
       "    </tr>\n",
       "    <tr>\n",
       "      <th>2</th>\n",
       "      <td>3</td>\n",
       "      <td>Алексей</td>\n",
       "      <td>20</td>\n",
       "      <td>Москва</td>\n",
       "      <td>ultra</td>\n",
       "    </tr>\n",
       "    <tr>\n",
       "      <th>3</th>\n",
       "      <td>4</td>\n",
       "      <td>Константин</td>\n",
       "      <td>26</td>\n",
       "      <td>Ростов-на-Дону</td>\n",
       "      <td>ultra</td>\n",
       "    </tr>\n",
       "    <tr>\n",
       "      <th>4</th>\n",
       "      <td>5</td>\n",
       "      <td>Адель</td>\n",
       "      <td>28</td>\n",
       "      <td>Омск</td>\n",
       "      <td>ultra</td>\n",
       "    </tr>\n",
       "  </tbody>\n",
       "</table>\n",
       "</div>"
      ],
      "text/plain": [
       "   user_id        name  age            city subscription_type\n",
       "0        1        Кира   22          Тюмень             ultra\n",
       "1        2   Станислав   31            Омск             ultra\n",
       "2        3     Алексей   20          Москва             ultra\n",
       "3        4  Константин   26  Ростов-на-Дону             ultra\n",
       "4        5       Адель   28            Омск             ultra"
      ]
     },
     "execution_count": 3,
     "metadata": {},
     "output_type": "execute_result"
    }
   ],
   "source": [
    "users.head(5)"
   ]
  },
  {
   "cell_type": "code",
   "execution_count": 4,
   "id": "09c44d27",
   "metadata": {},
   "outputs": [
    {
     "name": "stdout",
     "output_type": "stream",
     "text": [
      "<class 'pandas.core.frame.DataFrame'>\n",
      "RangeIndex: 1565 entries, 0 to 1564\n",
      "Data columns (total 5 columns):\n",
      " #   Column             Non-Null Count  Dtype \n",
      "---  ------             --------------  ----- \n",
      " 0   user_id            1565 non-null   int64 \n",
      " 1   name               1565 non-null   object\n",
      " 2   age                1565 non-null   int64 \n",
      " 3   city               1565 non-null   object\n",
      " 4   subscription_type  1565 non-null   object\n",
      "dtypes: int64(2), object(3)\n",
      "memory usage: 61.3+ KB\n"
     ]
    }
   ],
   "source": [
    "users.info()"
   ]
  },
  {
   "cell_type": "code",
   "execution_count": 5,
   "id": "17e88607",
   "metadata": {},
   "outputs": [
    {
     "data": {
      "text/html": [
       "<div>\n",
       "<style scoped>\n",
       "    .dataframe tbody tr th:only-of-type {\n",
       "        vertical-align: middle;\n",
       "    }\n",
       "\n",
       "    .dataframe tbody tr th {\n",
       "        vertical-align: top;\n",
       "    }\n",
       "\n",
       "    .dataframe thead th {\n",
       "        text-align: right;\n",
       "    }\n",
       "</style>\n",
       "<table border=\"1\" class=\"dataframe\">\n",
       "  <thead>\n",
       "    <tr style=\"text-align: right;\">\n",
       "      <th></th>\n",
       "      <th>user_id</th>\n",
       "      <th>age</th>\n",
       "    </tr>\n",
       "  </thead>\n",
       "  <tbody>\n",
       "    <tr>\n",
       "      <th>count</th>\n",
       "      <td>1565.000000</td>\n",
       "      <td>1565.000000</td>\n",
       "    </tr>\n",
       "    <tr>\n",
       "      <th>mean</th>\n",
       "      <td>762.633866</td>\n",
       "      <td>24.922045</td>\n",
       "    </tr>\n",
       "    <tr>\n",
       "      <th>std</th>\n",
       "      <td>443.260155</td>\n",
       "      <td>4.553496</td>\n",
       "    </tr>\n",
       "    <tr>\n",
       "      <th>min</th>\n",
       "      <td>1.000000</td>\n",
       "      <td>12.000000</td>\n",
       "    </tr>\n",
       "    <tr>\n",
       "      <th>25%</th>\n",
       "      <td>378.000000</td>\n",
       "      <td>22.000000</td>\n",
       "    </tr>\n",
       "    <tr>\n",
       "      <th>50%</th>\n",
       "      <td>762.000000</td>\n",
       "      <td>25.000000</td>\n",
       "    </tr>\n",
       "    <tr>\n",
       "      <th>75%</th>\n",
       "      <td>1146.000000</td>\n",
       "      <td>28.000000</td>\n",
       "    </tr>\n",
       "    <tr>\n",
       "      <th>max</th>\n",
       "      <td>1534.000000</td>\n",
       "      <td>43.000000</td>\n",
       "    </tr>\n",
       "  </tbody>\n",
       "</table>\n",
       "</div>"
      ],
      "text/plain": [
       "           user_id          age\n",
       "count  1565.000000  1565.000000\n",
       "mean    762.633866    24.922045\n",
       "std     443.260155     4.553496\n",
       "min       1.000000    12.000000\n",
       "25%     378.000000    22.000000\n",
       "50%     762.000000    25.000000\n",
       "75%    1146.000000    28.000000\n",
       "max    1534.000000    43.000000"
      ]
     },
     "execution_count": 5,
     "metadata": {},
     "output_type": "execute_result"
    }
   ],
   "source": [
    "users.describe()"
   ]
  },
  {
   "cell_type": "markdown",
   "id": "d87e3c24",
   "metadata": {},
   "source": [
    "В датафрейме 5 столбцов с 2 видами данных (int64 и object):\n",
    "1. user_id - уникальный идентификатор пользователя (int64)\n",
    "2. name - имя пользователя (object)\n",
    "3. age - возраст (int64)\n",
    "4. city - город (object)\n",
    "5. subscription_type - тип подписки (free, ultra) (object)"
   ]
  },
  {
   "cell_type": "markdown",
   "id": "058ac4a9",
   "metadata": {},
   "source": [
    "#### Данные о поездках"
   ]
  },
  {
   "cell_type": "code",
   "execution_count": 6,
   "id": "eab81618",
   "metadata": {},
   "outputs": [
    {
     "data": {
      "text/html": [
       "<div>\n",
       "<style scoped>\n",
       "    .dataframe tbody tr th:only-of-type {\n",
       "        vertical-align: middle;\n",
       "    }\n",
       "\n",
       "    .dataframe tbody tr th {\n",
       "        vertical-align: top;\n",
       "    }\n",
       "\n",
       "    .dataframe thead th {\n",
       "        text-align: right;\n",
       "    }\n",
       "</style>\n",
       "<table border=\"1\" class=\"dataframe\">\n",
       "  <thead>\n",
       "    <tr style=\"text-align: right;\">\n",
       "      <th></th>\n",
       "      <th>user_id</th>\n",
       "      <th>distance</th>\n",
       "      <th>duration</th>\n",
       "      <th>date</th>\n",
       "    </tr>\n",
       "  </thead>\n",
       "  <tbody>\n",
       "    <tr>\n",
       "      <th>0</th>\n",
       "      <td>1</td>\n",
       "      <td>4409.919140</td>\n",
       "      <td>25.599769</td>\n",
       "      <td>2021-01-01</td>\n",
       "    </tr>\n",
       "    <tr>\n",
       "      <th>1</th>\n",
       "      <td>1</td>\n",
       "      <td>2617.592153</td>\n",
       "      <td>15.816871</td>\n",
       "      <td>2021-01-18</td>\n",
       "    </tr>\n",
       "    <tr>\n",
       "      <th>2</th>\n",
       "      <td>1</td>\n",
       "      <td>754.159807</td>\n",
       "      <td>6.232113</td>\n",
       "      <td>2021-04-20</td>\n",
       "    </tr>\n",
       "    <tr>\n",
       "      <th>3</th>\n",
       "      <td>1</td>\n",
       "      <td>2694.783254</td>\n",
       "      <td>18.511000</td>\n",
       "      <td>2021-08-11</td>\n",
       "    </tr>\n",
       "    <tr>\n",
       "      <th>4</th>\n",
       "      <td>1</td>\n",
       "      <td>4028.687306</td>\n",
       "      <td>26.265803</td>\n",
       "      <td>2021-08-28</td>\n",
       "    </tr>\n",
       "  </tbody>\n",
       "</table>\n",
       "</div>"
      ],
      "text/plain": [
       "   user_id     distance   duration        date\n",
       "0        1  4409.919140  25.599769  2021-01-01\n",
       "1        1  2617.592153  15.816871  2021-01-18\n",
       "2        1   754.159807   6.232113  2021-04-20\n",
       "3        1  2694.783254  18.511000  2021-08-11\n",
       "4        1  4028.687306  26.265803  2021-08-28"
      ]
     },
     "execution_count": 6,
     "metadata": {},
     "output_type": "execute_result"
    }
   ],
   "source": [
    "rides.head(5)"
   ]
  },
  {
   "cell_type": "code",
   "execution_count": 7,
   "id": "9e30aac4",
   "metadata": {},
   "outputs": [
    {
     "name": "stdout",
     "output_type": "stream",
     "text": [
      "<class 'pandas.core.frame.DataFrame'>\n",
      "RangeIndex: 18068 entries, 0 to 18067\n",
      "Data columns (total 4 columns):\n",
      " #   Column    Non-Null Count  Dtype  \n",
      "---  ------    --------------  -----  \n",
      " 0   user_id   18068 non-null  int64  \n",
      " 1   distance  18068 non-null  float64\n",
      " 2   duration  18068 non-null  float64\n",
      " 3   date      18068 non-null  object \n",
      "dtypes: float64(2), int64(1), object(1)\n",
      "memory usage: 564.8+ KB\n"
     ]
    }
   ],
   "source": [
    "rides.info()"
   ]
  },
  {
   "cell_type": "code",
   "execution_count": 8,
   "id": "c9d5ca81",
   "metadata": {},
   "outputs": [
    {
     "data": {
      "text/html": [
       "<div>\n",
       "<style scoped>\n",
       "    .dataframe tbody tr th:only-of-type {\n",
       "        vertical-align: middle;\n",
       "    }\n",
       "\n",
       "    .dataframe tbody tr th {\n",
       "        vertical-align: top;\n",
       "    }\n",
       "\n",
       "    .dataframe thead th {\n",
       "        text-align: right;\n",
       "    }\n",
       "</style>\n",
       "<table border=\"1\" class=\"dataframe\">\n",
       "  <thead>\n",
       "    <tr style=\"text-align: right;\">\n",
       "      <th></th>\n",
       "      <th>user_id</th>\n",
       "      <th>distance</th>\n",
       "      <th>duration</th>\n",
       "    </tr>\n",
       "  </thead>\n",
       "  <tbody>\n",
       "    <tr>\n",
       "      <th>count</th>\n",
       "      <td>18068.000000</td>\n",
       "      <td>18068.000000</td>\n",
       "      <td>18068.000000</td>\n",
       "    </tr>\n",
       "    <tr>\n",
       "      <th>mean</th>\n",
       "      <td>842.869936</td>\n",
       "      <td>3070.659976</td>\n",
       "      <td>17.805011</td>\n",
       "    </tr>\n",
       "    <tr>\n",
       "      <th>std</th>\n",
       "      <td>434.734317</td>\n",
       "      <td>1116.831209</td>\n",
       "      <td>6.091051</td>\n",
       "    </tr>\n",
       "    <tr>\n",
       "      <th>min</th>\n",
       "      <td>1.000000</td>\n",
       "      <td>0.855683</td>\n",
       "      <td>0.500000</td>\n",
       "    </tr>\n",
       "    <tr>\n",
       "      <th>25%</th>\n",
       "      <td>487.000000</td>\n",
       "      <td>2543.226360</td>\n",
       "      <td>13.597563</td>\n",
       "    </tr>\n",
       "    <tr>\n",
       "      <th>50%</th>\n",
       "      <td>889.000000</td>\n",
       "      <td>3133.609994</td>\n",
       "      <td>17.678395</td>\n",
       "    </tr>\n",
       "    <tr>\n",
       "      <th>75%</th>\n",
       "      <td>1213.250000</td>\n",
       "      <td>3776.222735</td>\n",
       "      <td>21.724800</td>\n",
       "    </tr>\n",
       "    <tr>\n",
       "      <th>max</th>\n",
       "      <td>1534.000000</td>\n",
       "      <td>7211.007745</td>\n",
       "      <td>40.823963</td>\n",
       "    </tr>\n",
       "  </tbody>\n",
       "</table>\n",
       "</div>"
      ],
      "text/plain": [
       "            user_id      distance      duration\n",
       "count  18068.000000  18068.000000  18068.000000\n",
       "mean     842.869936   3070.659976     17.805011\n",
       "std      434.734317   1116.831209      6.091051\n",
       "min        1.000000      0.855683      0.500000\n",
       "25%      487.000000   2543.226360     13.597563\n",
       "50%      889.000000   3133.609994     17.678395\n",
       "75%     1213.250000   3776.222735     21.724800\n",
       "max     1534.000000   7211.007745     40.823963"
      ]
     },
     "execution_count": 8,
     "metadata": {},
     "output_type": "execute_result"
    }
   ],
   "source": [
    "rides.describe()"
   ]
  },
  {
   "cell_type": "markdown",
   "id": "673b5886",
   "metadata": {},
   "source": [
    "В датафрейме 5 столбцов с 3 видами данных (int64, float64 и object):\n",
    "1. user_id - уникальный идентификатор пользователя (int64)\n",
    "2. distance - расстояние, которое пользователь проехал в текущей сессии (в метрах)(float64)\n",
    "3. duration -  продолжительность сессии (в минутах) — время с того момента, как пользователь нажал кнопку «Начать поездку» до момента, как он нажал кнопку «Завершить поездку»(float64)\n",
    "4. date - дата совершения поездки (object)\n",
    "\n",
    "- Столбец date нужно будет привести к типу данных pandas.\n",
    "- Столбец distance можно округлить до целых т.к. сотые и тысячные значения метров не повлияют на наши метрики.\n",
    "- В обоих датафреймах users и rides есть столбец user_id, но количество строк и их среднее отличаются."
   ]
  },
  {
   "cell_type": "markdown",
   "id": "eb3f311e",
   "metadata": {},
   "source": [
    "#### Данные о подписках"
   ]
  },
  {
   "cell_type": "code",
   "execution_count": 9,
   "id": "a489dfff",
   "metadata": {},
   "outputs": [
    {
     "data": {
      "text/html": [
       "<div>\n",
       "<style scoped>\n",
       "    .dataframe tbody tr th:only-of-type {\n",
       "        vertical-align: middle;\n",
       "    }\n",
       "\n",
       "    .dataframe tbody tr th {\n",
       "        vertical-align: top;\n",
       "    }\n",
       "\n",
       "    .dataframe thead th {\n",
       "        text-align: right;\n",
       "    }\n",
       "</style>\n",
       "<table border=\"1\" class=\"dataframe\">\n",
       "  <thead>\n",
       "    <tr style=\"text-align: right;\">\n",
       "      <th></th>\n",
       "      <th>subscription_type</th>\n",
       "      <th>minute_price</th>\n",
       "      <th>start_ride_price</th>\n",
       "      <th>subscription_fee</th>\n",
       "    </tr>\n",
       "  </thead>\n",
       "  <tbody>\n",
       "    <tr>\n",
       "      <th>0</th>\n",
       "      <td>free</td>\n",
       "      <td>8</td>\n",
       "      <td>50</td>\n",
       "      <td>0</td>\n",
       "    </tr>\n",
       "    <tr>\n",
       "      <th>1</th>\n",
       "      <td>ultra</td>\n",
       "      <td>6</td>\n",
       "      <td>0</td>\n",
       "      <td>199</td>\n",
       "    </tr>\n",
       "  </tbody>\n",
       "</table>\n",
       "</div>"
      ],
      "text/plain": [
       "  subscription_type  minute_price  start_ride_price  subscription_fee\n",
       "0              free             8                50                 0\n",
       "1             ultra             6                 0               199"
      ]
     },
     "execution_count": 9,
     "metadata": {},
     "output_type": "execute_result"
    }
   ],
   "source": [
    "subscriptions.head()"
   ]
  },
  {
   "cell_type": "code",
   "execution_count": 10,
   "id": "95372a99",
   "metadata": {},
   "outputs": [
    {
     "name": "stdout",
     "output_type": "stream",
     "text": [
      "<class 'pandas.core.frame.DataFrame'>\n",
      "RangeIndex: 2 entries, 0 to 1\n",
      "Data columns (total 4 columns):\n",
      " #   Column             Non-Null Count  Dtype \n",
      "---  ------             --------------  ----- \n",
      " 0   subscription_type  2 non-null      object\n",
      " 1   minute_price       2 non-null      int64 \n",
      " 2   start_ride_price   2 non-null      int64 \n",
      " 3   subscription_fee   2 non-null      int64 \n",
      "dtypes: int64(3), object(1)\n",
      "memory usage: 196.0+ bytes\n"
     ]
    }
   ],
   "source": [
    "subscriptions.info()"
   ]
  },
  {
   "cell_type": "markdown",
   "id": "e3fff5aa",
   "metadata": {},
   "source": [
    "В датафрейме 4 столбца с 2 видами данных (int64 и object):\n",
    "1. subscription_type - тип подписки (object)\n",
    "2. minute_price - стоимость одной минуты поездки по данной подписке (int64)\n",
    "3. start_ride_price - стоимость начала поездки (int64)\n",
    "4. subscription_fee - стоимость ежемесячного платежа (int64)\n",
    "\n",
    "В данных две строки, описывающие данные по двум категориям - \"free\" и \"ultra\"."
   ]
  },
  {
   "cell_type": "markdown",
   "id": "e95ebca7",
   "metadata": {},
   "source": [
    "### Предобработка данных"
   ]
  },
  {
   "cell_type": "markdown",
   "id": "86998017",
   "metadata": {},
   "source": [
    "#### Приводим столбец date к типу данных pandas"
   ]
  },
  {
   "cell_type": "code",
   "execution_count": 11,
   "id": "7d885f1d",
   "metadata": {},
   "outputs": [],
   "source": [
    "rides['date'] = pd.to_datetime(rides['date'], format='%Y-%m-%d')"
   ]
  },
  {
   "cell_type": "markdown",
   "id": "b39d50dd",
   "metadata": {},
   "source": [
    "#### Создаём новый столбец \"month\" с номером месяца на основе столбца date"
   ]
  },
  {
   "cell_type": "code",
   "execution_count": 12,
   "id": "be0aca09",
   "metadata": {},
   "outputs": [],
   "source": [
    "rides['month'] = rides['date'].dt.month"
   ]
  },
  {
   "cell_type": "markdown",
   "id": "2f507886",
   "metadata": {},
   "source": [
    "#### Проверка на наличие дубликатов и пропущенных значений в датафреймах"
   ]
  },
  {
   "cell_type": "code",
   "execution_count": 13,
   "id": "f0c0eb7e",
   "metadata": {},
   "outputs": [
    {
     "data": {
      "text/plain": [
       "user_id              0\n",
       "name                 0\n",
       "age                  0\n",
       "city                 0\n",
       "subscription_type    0\n",
       "dtype: int64"
      ]
     },
     "execution_count": 13,
     "metadata": {},
     "output_type": "execute_result"
    }
   ],
   "source": [
    "# проверка на наличие пропущенных значений\n",
    "users.isna().sum()"
   ]
  },
  {
   "cell_type": "code",
   "execution_count": 14,
   "id": "41114059",
   "metadata": {},
   "outputs": [
    {
     "data": {
      "text/plain": [
       "user_id     0\n",
       "distance    0\n",
       "duration    0\n",
       "date        0\n",
       "month       0\n",
       "dtype: int64"
      ]
     },
     "execution_count": 14,
     "metadata": {},
     "output_type": "execute_result"
    }
   ],
   "source": [
    "# проверка на наличие пропущенных значений\n",
    "rides.isna().sum()"
   ]
  },
  {
   "cell_type": "code",
   "execution_count": 15,
   "id": "6a0f34ee",
   "metadata": {},
   "outputs": [
    {
     "data": {
      "text/plain": [
       "subscription_type    0\n",
       "minute_price         0\n",
       "start_ride_price     0\n",
       "subscription_fee     0\n",
       "dtype: int64"
      ]
     },
     "execution_count": 15,
     "metadata": {},
     "output_type": "execute_result"
    }
   ],
   "source": [
    "# проверка на наличие пропущенных значений\n",
    "subscriptions.isna().sum()"
   ]
  },
  {
   "cell_type": "code",
   "execution_count": 16,
   "id": "c1350c6b",
   "metadata": {},
   "outputs": [
    {
     "data": {
      "text/plain": [
       "31"
      ]
     },
     "execution_count": 16,
     "metadata": {},
     "output_type": "execute_result"
    }
   ],
   "source": [
    "# проверка на наличие дубликатов\n",
    "users.duplicated().sum()"
   ]
  },
  {
   "cell_type": "code",
   "execution_count": 17,
   "id": "597b6797",
   "metadata": {},
   "outputs": [],
   "source": [
    "# в датафрейме users 31 один дубликат\n",
    "# избавимся от них и обновим индексы\n",
    "users = users.drop_duplicates().reset_index(drop = True)"
   ]
  },
  {
   "cell_type": "code",
   "execution_count": 18,
   "id": "5b8748f9",
   "metadata": {},
   "outputs": [
    {
     "data": {
      "text/plain": [
       "0"
      ]
     },
     "execution_count": 18,
     "metadata": {},
     "output_type": "execute_result"
    }
   ],
   "source": [
    "# проверка на наличие дубликатов\n",
    "# в датафрейме rides дубликаты отсутствуют\n",
    "rides.duplicated().sum()"
   ]
  },
  {
   "cell_type": "code",
   "execution_count": 19,
   "id": "c98c3338",
   "metadata": {},
   "outputs": [
    {
     "data": {
      "text/plain": [
       "0"
      ]
     },
     "execution_count": 19,
     "metadata": {},
     "output_type": "execute_result"
    }
   ],
   "source": [
    "# проверка на наличие дубликатов\n",
    "# в датафрейме subscriptions дубликаты отсутствуют\n",
    "subscriptions.duplicated().sum()"
   ]
  },
  {
   "cell_type": "markdown",
   "id": "212593c7",
   "metadata": {},
   "source": [
    "###  Исследовательский анализ данных"
   ]
  },
  {
   "cell_type": "markdown",
   "id": "039a3ade",
   "metadata": {},
   "source": [
    "#### Частота встречаемости городов"
   ]
  },
  {
   "cell_type": "code",
   "execution_count": 20,
   "id": "d9fbea36",
   "metadata": {},
   "outputs": [
    {
     "data": {
      "text/plain": [
       "8"
      ]
     },
     "execution_count": 20,
     "metadata": {},
     "output_type": "execute_result"
    }
   ],
   "source": [
    "#количество уникальных значений столбца 'city'\n",
    "users['city'].nunique()"
   ]
  },
  {
   "cell_type": "code",
   "execution_count": 21,
   "id": "1d8cd882",
   "metadata": {
    "scrolled": true
   },
   "outputs": [
    {
     "data": {
      "image/png": "[encoded data removed]",
      "text/plain": [
       "<Figure size 640x480 with 1 Axes>"
      ]
     },
     "metadata": {},
     "output_type": "display_data"
    }
   ],
   "source": [
    "users['city'].value_counts(ascending=True).plot.bar()\n",
    "plt.xlabel(\"city\")\n",
    "plt.ylabel(\"quantity\")\n",
    "plt.show()"
   ]
  },
  {
   "cell_type": "code",
   "execution_count": 22,
   "id": "8d551c78",
   "metadata": {},
   "outputs": [
    {
     "data": {
      "text/plain": [
       "Москва            168\n",
       "Тюмень            180\n",
       "Омск              183\n",
       "Сочи              189\n",
       "Краснодар         193\n",
       "Ростов-на-Дону    198\n",
       "Екатеринбург      204\n",
       "Пятигорск         219\n",
       "Name: city, dtype: int64"
      ]
     },
     "execution_count": 22,
     "metadata": {},
     "output_type": "execute_result"
    }
   ],
   "source": [
    "users['city'].value_counts(ascending=True)"
   ]
  },
  {
   "cell_type": "markdown",
   "id": "6cd50311",
   "metadata": {},
   "source": [
    "Частота всех город вариируются в пределе ~ (160 - 220). Больше всех встречается Пятигорск, а реже всех Москва."
   ]
  },
  {
   "cell_type": "markdown",
   "id": "25d6f493",
   "metadata": {},
   "source": [
    "#### Соотношение пользователей с подпиской и без подписки"
   ]
  },
  {
   "cell_type": "code",
   "execution_count": 23,
   "id": "5b8c6184",
   "metadata": {},
   "outputs": [
    {
     "data": {
      "image/png": "[encoded data removed]",
      "text/plain": [
       "<Figure size 640x480 with 1 Axes>"
      ]
     },
     "metadata": {},
     "output_type": "display_data"
    },
    {
     "name": "stdout",
     "output_type": "stream",
     "text": [
      "Процент пользователей с подпиской: 45.57 %\n",
      "Процент пользователей без подписки: 54.43 %\n"
     ]
    }
   ],
   "source": [
    "plt.pie(users['subscription_type'].value_counts(ascending=True) / len(users['subscription_type']), labels = ['sub', 'no_sub'], autopct = '%.2f')\n",
    "plt.show()\n",
    "print('Процент пользователей с подпиской:', round(len(users[users['subscription_type'] == 'ultra']) / len(users['subscription_type']), 4) * 100, '%')\n",
    "print('Процент пользователей без подписки:', round(len(users[users['subscription_type'] == 'free']) / len(users['subscription_type']), 4) * 100, '%')"
   ]
  },
  {
   "cell_type": "markdown",
   "id": "c1b5b1e8",
   "metadata": {},
   "source": [
    "Соотношение пользователей с подпиской и без примерно одинаковое - 46% и 54%."
   ]
  },
  {
   "cell_type": "markdown",
   "id": "90358e24",
   "metadata": {},
   "source": [
    "#### Возраст пользователей"
   ]
  },
  {
   "cell_type": "code",
   "execution_count": 24,
   "id": "27ed8991",
   "metadata": {
    "scrolled": true
   },
   "outputs": [
    {
     "data": {
      "image/png": "[encoded data removed]",
      "text/plain": [
       "<Figure size 640x480 with 1 Axes>"
      ]
     },
     "metadata": {},
     "output_type": "display_data"
    }
   ],
   "source": [
    "users['age'].value_counts(ascending=False).plot.bar()\n",
    "plt.show()"
   ]
  },
  {
   "cell_type": "code",
   "execution_count": 25,
   "id": "082f7d8d",
   "metadata": {},
   "outputs": [
    {
     "data": {
      "text/plain": [
       "<Axes: xlabel='age', ylabel='Density'>"
      ]
     },
     "execution_count": 25,
     "metadata": {},
     "output_type": "execute_result"
    },
    {
     "data": {
      "image/png": "[encoded data removed]",
      "text/plain": [
       "<Figure size 640x480 with 1 Axes>"
      ]
     },
     "metadata": {},
     "output_type": "display_data"
    }
   ],
   "source": [
    "sns.kdeplot(x=users['age'])"
   ]
  },
  {
   "cell_type": "markdown",
   "id": "dbfec125",
   "metadata": {},
   "source": [
    "Самый распространённый возраст среди пользователей - 25 лет, самый редкий - 43. В основном сервисом пользуются молодые люди в возрастном интервале от 20 до 30 лет."
   ]
  },
  {
   "cell_type": "markdown",
   "id": "b75855cb",
   "metadata": {},
   "source": [
    "#### Расстояние, которое пользователь преодолел за одну поездку"
   ]
  },
  {
   "cell_type": "code",
   "execution_count": 26,
   "id": "2f1c7c6c",
   "metadata": {},
   "outputs": [
    {
     "data": {
      "text/plain": [
       "count    18068.000000\n",
       "mean      3070.659976\n",
       "std       1116.831209\n",
       "min          0.855683\n",
       "25%       2543.226360\n",
       "50%       3133.609994\n",
       "75%       3776.222735\n",
       "max       7211.007745\n",
       "Name: distance, dtype: float64"
      ]
     },
     "execution_count": 26,
     "metadata": {},
     "output_type": "execute_result"
    },
    {
     "data": {
      "image/png": "[encoded data removed]",
      "text/plain": [
       "<Figure size 500x300 with 1 Axes>"
      ]
     },
     "metadata": {},
     "output_type": "display_data"
    }
   ],
   "source": [
    "rides.plot(y = 'distance', kind = 'hist', bins = 100, grid=True, figsize = (5,3), range = (0,7250))\n",
    "rides['distance'].describe()"
   ]
  },
  {
   "cell_type": "code",
   "execution_count": 27,
   "id": "679d1c51",
   "metadata": {},
   "outputs": [
    {
     "name": "stdout",
     "output_type": "stream",
     "text": [
      "Нижняя граница price 208.08440510728332\n",
      "Верхняя граница price 5478.621527829257\n",
      "Процент отброшенных значений =  2.0 %\n"
     ]
    }
   ],
   "source": [
    "# избавимся от выбросов\n",
    "low_percentele = 0.01\n",
    "hihg_percentele = 0.99\n",
    "\n",
    "distance_low = rides['distance'].quantile(low_percentele)\n",
    "distance_high = rides['distance'].quantile(hihg_percentele)\n",
    "\n",
    "print(f'Нижняя граница price {distance_low}')\n",
    "print(f'Верхняя граница price {distance_high}')\n",
    "\n",
    "print(\n",
    "    'Процент отброшенных значений = ',\n",
    "    round(\n",
    "        100 - len(rides.query('@distance_low <= distance <= @distance_high'))\n",
    "        / len(rides['distance']) * 100,\n",
    "        2\n",
    "    ),\n",
    "    '%'\n",
    ")\n",
    "rides = rides.query('@distance_low <= distance <= @distance_high')"
   ]
  },
  {
   "cell_type": "code",
   "execution_count": 28,
   "id": "2c7d3ab7",
   "metadata": {},
   "outputs": [
    {
     "data": {
      "text/plain": [
       "count    17706.000000\n",
       "mean      3072.581593\n",
       "std       1050.634098\n",
       "min        208.752143\n",
       "25%       2557.052615\n",
       "50%       3133.609994\n",
       "75%       3757.441386\n",
       "max       5478.236130\n",
       "Name: distance, dtype: float64"
      ]
     },
     "execution_count": 28,
     "metadata": {},
     "output_type": "execute_result"
    },
    {
     "data": {
      "image/png": "[encoded data removed]",
      "text/plain": [
       "<Figure size 500x300 with 1 Axes>"
      ]
     },
     "metadata": {},
     "output_type": "display_data"
    }
   ],
   "source": [
    "rides.plot(y = 'distance', kind = 'hist', bins = 100, grid=True, figsize = (5,3), range = (100,5500))\n",
    "rides['distance'].describe()"
   ]
  },
  {
   "cell_type": "markdown",
   "id": "6d92fad7",
   "metadata": {},
   "source": [
    "    По графику видно, что клиентов можно разделить на условные 2 группы: те, кто использует сервис для коротких поездок ~ 1 км и тех, кто ездит на дистанции около 3 км.\n",
    "    При чём преобладает вторая категория (в 5 раз)."
   ]
  },
  {
   "cell_type": "markdown",
   "id": "4990f409",
   "metadata": {},
   "source": [
    "#### Продолжительность поездок"
   ]
  },
  {
   "cell_type": "code",
   "execution_count": 29,
   "id": "83867bab",
   "metadata": {},
   "outputs": [
    {
     "data": {
      "text/plain": [
       "count    17706.000000\n",
       "mean        17.869191\n",
       "std          5.971199\n",
       "min          0.500000\n",
       "25%         13.711558\n",
       "50%         17.709613\n",
       "75%         21.709773\n",
       "max         40.823963\n",
       "Name: duration, dtype: float64"
      ]
     },
     "execution_count": 29,
     "metadata": {},
     "output_type": "execute_result"
    },
    {
     "data": {
      "image/png": "[encoded data removed]",
      "text/plain": [
       "<Figure size 500x300 with 1 Axes>"
      ]
     },
     "metadata": {},
     "output_type": "display_data"
    }
   ],
   "source": [
    "rides.plot(y = 'duration', kind = 'hist', bins = 30, grid=True, figsize = (5,3), range = (0,50))\n",
    "rides['duration'].describe()"
   ]
  },
  {
   "cell_type": "code",
   "execution_count": 30,
   "id": "e3384239",
   "metadata": {},
   "outputs": [
    {
     "name": "stdout",
     "output_type": "stream",
     "text": [
      "Нижняя граница price 4.6902581500641025\n",
      "Верхняя граница price 32.42485498842948\n",
      "Процент отброшенных значений =  2.01 %\n"
     ]
    }
   ],
   "source": [
    "# избавимся от выбросов\n",
    "low_percentele = 0.01\n",
    "hihg_percentele = 0.99\n",
    "\n",
    "dur_low = rides['duration'].quantile(low_percentele)\n",
    "dur_high = rides['duration'].quantile(hihg_percentele)\n",
    "\n",
    "print(f'Нижняя граница price {dur_low}')\n",
    "print(f'Верхняя граница price {dur_high}')\n",
    "\n",
    "print(\n",
    "    'Процент отброшенных значений = ',\n",
    "    round(\n",
    "        100 - len(rides.query('@dur_low <= duration <= @dur_high'))\n",
    "        / len(rides['duration']) * 100,\n",
    "        2\n",
    "    ),\n",
    "    '%'\n",
    ")\n",
    "rides = rides.query('@dur_low <= duration <= @dur_high')"
   ]
  },
  {
   "cell_type": "code",
   "execution_count": 31,
   "id": "cf7fdb11",
   "metadata": {
    "scrolled": true
   },
   "outputs": [
    {
     "name": "stdout",
     "output_type": "stream",
     "text": [
      "median: 17.709613\n",
      "count    17350.000000\n",
      "mean        17.860368\n",
      "std          5.589916\n",
      "min          4.709504\n",
      "25%         13.783882\n",
      "50%         17.709613\n",
      "75%         21.614313\n",
      "max         32.422181\n",
      "Name: duration, dtype: float64\n"
     ]
    },
    {
     "data": {
      "image/png": "[encoded data removed]",
      "text/plain": [
       "<Figure size 500x300 with 1 Axes>"
      ]
     },
     "metadata": {},
     "output_type": "display_data"
    }
   ],
   "source": [
    "rides.plot(y = 'duration', kind = 'hist', bins = 30, grid=True, figsize = (5,3), range = (4,34))\n",
    "print('median:', round(rides['duration'].median(), 6))\n",
    "print(rides['duration'].describe())"
   ]
  },
  {
   "cell_type": "markdown",
   "id": "507dd551",
   "metadata": {},
   "source": [
    "Время поездок распределено максимально равномерно, медиана близка к среднему равному 17.86 минут."
   ]
  },
  {
   "cell_type": "markdown",
   "id": "4ef51331",
   "metadata": {},
   "source": [
    "### Объединение данных"
   ]
  },
  {
   "cell_type": "markdown",
   "id": "4eacefd7",
   "metadata": {},
   "source": [
    "#### Объединение данных о пользователях, поездках и подписках"
   ]
  },
  {
   "cell_type": "code",
   "execution_count": 32,
   "id": "98cbe47f",
   "metadata": {
    "scrolled": true
   },
   "outputs": [
    {
     "data": {
      "text/html": [
       "<div>\n",
       "<style scoped>\n",
       "    .dataframe tbody tr th:only-of-type {\n",
       "        vertical-align: middle;\n",
       "    }\n",
       "\n",
       "    .dataframe tbody tr th {\n",
       "        vertical-align: top;\n",
       "    }\n",
       "\n",
       "    .dataframe thead th {\n",
       "        text-align: right;\n",
       "    }\n",
       "</style>\n",
       "<table border=\"1\" class=\"dataframe\">\n",
       "  <thead>\n",
       "    <tr style=\"text-align: right;\">\n",
       "      <th></th>\n",
       "      <th>user_id</th>\n",
       "      <th>name</th>\n",
       "      <th>age</th>\n",
       "      <th>city</th>\n",
       "      <th>subscription_type</th>\n",
       "      <th>distance</th>\n",
       "      <th>duration</th>\n",
       "      <th>date</th>\n",
       "      <th>month</th>\n",
       "      <th>minute_price</th>\n",
       "      <th>start_ride_price</th>\n",
       "      <th>subscription_fee</th>\n",
       "    </tr>\n",
       "  </thead>\n",
       "  <tbody>\n",
       "    <tr>\n",
       "      <th>0</th>\n",
       "      <td>1</td>\n",
       "      <td>Кира</td>\n",
       "      <td>22</td>\n",
       "      <td>Тюмень</td>\n",
       "      <td>ultra</td>\n",
       "      <td>4409.919140</td>\n",
       "      <td>25.599769</td>\n",
       "      <td>2021-01-01</td>\n",
       "      <td>1</td>\n",
       "      <td>6</td>\n",
       "      <td>0</td>\n",
       "      <td>199</td>\n",
       "    </tr>\n",
       "    <tr>\n",
       "      <th>1</th>\n",
       "      <td>1</td>\n",
       "      <td>Кира</td>\n",
       "      <td>22</td>\n",
       "      <td>Тюмень</td>\n",
       "      <td>ultra</td>\n",
       "      <td>2617.592153</td>\n",
       "      <td>15.816871</td>\n",
       "      <td>2021-01-18</td>\n",
       "      <td>1</td>\n",
       "      <td>6</td>\n",
       "      <td>0</td>\n",
       "      <td>199</td>\n",
       "    </tr>\n",
       "    <tr>\n",
       "      <th>2</th>\n",
       "      <td>1</td>\n",
       "      <td>Кира</td>\n",
       "      <td>22</td>\n",
       "      <td>Тюмень</td>\n",
       "      <td>ultra</td>\n",
       "      <td>754.159807</td>\n",
       "      <td>6.232113</td>\n",
       "      <td>2021-04-20</td>\n",
       "      <td>4</td>\n",
       "      <td>6</td>\n",
       "      <td>0</td>\n",
       "      <td>199</td>\n",
       "    </tr>\n",
       "    <tr>\n",
       "      <th>3</th>\n",
       "      <td>1</td>\n",
       "      <td>Кира</td>\n",
       "      <td>22</td>\n",
       "      <td>Тюмень</td>\n",
       "      <td>ultra</td>\n",
       "      <td>2694.783254</td>\n",
       "      <td>18.511000</td>\n",
       "      <td>2021-08-11</td>\n",
       "      <td>8</td>\n",
       "      <td>6</td>\n",
       "      <td>0</td>\n",
       "      <td>199</td>\n",
       "    </tr>\n",
       "    <tr>\n",
       "      <th>4</th>\n",
       "      <td>1</td>\n",
       "      <td>Кира</td>\n",
       "      <td>22</td>\n",
       "      <td>Тюмень</td>\n",
       "      <td>ultra</td>\n",
       "      <td>4028.687306</td>\n",
       "      <td>26.265803</td>\n",
       "      <td>2021-08-28</td>\n",
       "      <td>8</td>\n",
       "      <td>6</td>\n",
       "      <td>0</td>\n",
       "      <td>199</td>\n",
       "    </tr>\n",
       "  </tbody>\n",
       "</table>\n",
       "</div>"
      ],
      "text/plain": [
       "   user_id  name  age    city subscription_type     distance   duration  \\\n",
       "0        1  Кира   22  Тюмень             ultra  4409.919140  25.599769   \n",
       "1        1  Кира   22  Тюмень             ultra  2617.592153  15.816871   \n",
       "2        1  Кира   22  Тюмень             ultra   754.159807   6.232113   \n",
       "3        1  Кира   22  Тюмень             ultra  2694.783254  18.511000   \n",
       "4        1  Кира   22  Тюмень             ultra  4028.687306  26.265803   \n",
       "\n",
       "        date  month  minute_price  start_ride_price  subscription_fee  \n",
       "0 2021-01-01      1             6                 0               199  \n",
       "1 2021-01-18      1             6                 0               199  \n",
       "2 2021-04-20      4             6                 0               199  \n",
       "3 2021-08-11      8             6                 0               199  \n",
       "4 2021-08-28      8             6                 0               199  "
      ]
     },
     "execution_count": 32,
     "metadata": {},
     "output_type": "execute_result"
    }
   ],
   "source": [
    "data = (users.merge(rides, on='user_id', how='left')).merge(subscriptions, on='subscription_type', how='left')\n",
    "data.head()"
   ]
  },
  {
   "cell_type": "markdown",
   "id": "50308949",
   "metadata": {},
   "source": [
    "#### Проверка на пропуски и соответствие размеру"
   ]
  },
  {
   "cell_type": "code",
   "execution_count": 33,
   "id": "e771980b",
   "metadata": {},
   "outputs": [
    {
     "data": {
      "text/plain": [
       "user_id              0\n",
       "name                 0\n",
       "age                  0\n",
       "city                 0\n",
       "subscription_type    0\n",
       "distance             0\n",
       "duration             0\n",
       "date                 0\n",
       "month                0\n",
       "minute_price         0\n",
       "start_ride_price     0\n",
       "subscription_fee     0\n",
       "dtype: int64"
      ]
     },
     "execution_count": 33,
     "metadata": {},
     "output_type": "execute_result"
    }
   ],
   "source": [
    "data.isna().sum()"
   ]
  },
  {
   "cell_type": "code",
   "execution_count": 34,
   "id": "312a9aa1",
   "metadata": {},
   "outputs": [
    {
     "name": "stdout",
     "output_type": "stream",
     "text": [
      "(17350, 12)\n",
      "(1534, 5)\n",
      "(17350, 5)\n",
      "(2, 4)\n"
     ]
    }
   ],
   "source": [
    "print(data.shape)\n",
    "print(users.shape)\n",
    "print(rides.shape)\n",
    "print(subscriptions.shape)"
   ]
  },
  {
   "cell_type": "markdown",
   "id": "b4045662",
   "metadata": {},
   "source": [
    "Пропусков нет и размер нового датафрейма соответствует ожиданиям. "
   ]
  },
  {
   "cell_type": "markdown",
   "id": "e3fd9881",
   "metadata": {},
   "source": [
    "#### Создание новых датафреймов"
   ]
  },
  {
   "cell_type": "code",
   "execution_count": 35,
   "id": "b876b637",
   "metadata": {},
   "outputs": [],
   "source": [
    "# пользователи из data без подписки\n",
    "no_sub = data.query('subscription_type == \"free\"')\n",
    "# пользователи из data с подпиской\n",
    "sub = data.query('subscription_type == \"ultra\"')"
   ]
  },
  {
   "cell_type": "markdown",
   "id": "ffbb9480",
   "metadata": {},
   "source": [
    "#### Расстояние и время поездок для обеих категорий"
   ]
  },
  {
   "cell_type": "code",
   "execution_count": 36,
   "id": "811d205b",
   "metadata": {},
   "outputs": [
    {
     "name": "stdout",
     "output_type": "stream",
     "text": [
      "\"Пользователи с подпиской\"\n",
      "count    6410.000000\n",
      "mean     3104.154360\n",
      "std       827.117526\n",
      "min       244.210438\n",
      "25%      2781.338982\n",
      "50%      3142.606593\n",
      "75%      3543.410744\n",
      "max      5419.684636\n",
      "Name: distance, dtype: float64\n"
     ]
    },
    {
     "data": {
      "image/png": "[encoded data removed]",
      "text/plain": [
       "<Figure size 500x300 with 1 Axes>"
      ]
     },
     "metadata": {},
     "output_type": "display_data"
    },
    {
     "name": "stdout",
     "output_type": "stream",
     "text": [
      "\"Пользователи без подписки\"\n",
      "count    10940.000000\n",
      "mean      3049.485930\n",
      "std       1126.256648\n",
      "min        208.752143\n",
      "25%       2401.801282\n",
      "50%       3105.492880\n",
      "75%       3856.901729\n",
      "max       5478.236130\n",
      "Name: distance, dtype: float64\n"
     ]
    }
   ],
   "source": [
    "# расстояние поездок пользователей с подпиской\n",
    "ax = sub.plot(y = 'distance', kind = 'hist', bins = 30, grid=True, figsize = (5,3), range = (100, 5500), label='with_sub', alpha=1)\n",
    "print('\"Пользователи с подпиской\"')\n",
    "print(sub['distance'].describe())\n",
    "\n",
    "\n",
    "# расстояние поездок пользователей без подписки\n",
    "no_sub.plot(y = 'distance', kind = 'hist', bins = 30, grid=True, ax = ax, figsize = (5,3), range = (100, 5500),\n",
    "    label='free', legend=True, alpha=0.5)\n",
    "plt.show()\n",
    "print('\"Пользователи без подписки\"')\n",
    "print(no_sub['distance'].describe())"
   ]
  },
  {
   "cell_type": "markdown",
   "id": "cf5ac73a",
   "metadata": {},
   "source": [
    "    Пользователи с и без подписки обычно проезжают примерно одинаковое расстояние,\n",
    "    но пользователи с подпиской чаще проезжают дистанцию близкую к 3 км."
   ]
  },
  {
   "cell_type": "code",
   "execution_count": 37,
   "id": "a108f15b",
   "metadata": {},
   "outputs": [
    {
     "name": "stdout",
     "output_type": "stream",
     "text": [
      "Пользователи с подпиской\n",
      "count    6410.000000\n",
      "mean       18.352501\n",
      "std         5.281740\n",
      "min         4.832212\n",
      "25%        14.485587\n",
      "50%        18.094780\n",
      "75%        21.732347\n",
      "max        32.422181\n",
      "Name: duration, dtype: float64\n"
     ]
    },
    {
     "data": {
      "image/png": "[encoded data removed]",
      "text/plain": [
       "<Figure size 500x300 with 1 Axes>"
      ]
     },
     "metadata": {},
     "output_type": "display_data"
    },
    {
     "name": "stdout",
     "output_type": "stream",
     "text": [
      "Красная и синия линии - среднее и медиана пользователей без подписки\n",
      "Белая и чёрная линии - среднее и медиана пользователей с подпиской\n",
      "\n",
      "\n",
      "Пользователи без подписки\n",
      "count    10940.000000\n",
      "mean        17.572016\n",
      "std          5.743508\n",
      "min          4.709504\n",
      "25%         13.304911\n",
      "50%         17.421327\n",
      "75%         21.520679\n",
      "max         32.405428\n",
      "Name: duration, dtype: float64\n"
     ]
    }
   ],
   "source": [
    "# продолжительность поездок пользователей с подпиской\n",
    "ax = sub.plot(y = 'duration', kind = 'hist', bins = 30, grid=True, figsize = (5,3), range = (4,35), label='with_sub', alpha=1)\n",
    "print('Пользователи с подпиской')\n",
    "print(sub['duration'].describe())\n",
    "\n",
    "\n",
    "# продолжительность поездок пользователей без подписки\n",
    "no_sub.plot(y = 'duration', kind = 'hist', bins = 30, grid=True, ax = ax, figsize = (5,3), range = (4,35),\n",
    "    label='free', legend=True, alpha=0.5)\n",
    "\n",
    "plt.axvline(x=np.nanmean(no_sub['duration']), color='red', linestyle='--', linewidth=1, label='avg_no_sub')\n",
    "plt.axvline(x=np.nanmedian(no_sub['duration']), color='blue', linestyle='--', linewidth=1, label='median_no_sub')\n",
    "plt.axvline(x=np.nanmean(sub['duration']), color='white', linestyle='--', linewidth=1, label='avg_sub')\n",
    "plt.axvline(x=np.nanmedian(sub['duration']), color='black', linestyle='--', linewidth=1, label='median_sub')\n",
    "plt.show()\n",
    "print('Красная и синия линии - среднее и медиана пользователей без подписки')\n",
    "print('Белая и чёрная линии - среднее и медиана пользователей с подпиской')\n",
    "print()\n",
    "print()\n",
    "print('Пользователи без подписки')\n",
    "print(no_sub['duration'].describe())"
   ]
  },
  {
   "cell_type": "markdown",
   "id": "aade1cae",
   "metadata": {},
   "source": [
    "Пользователи с и без подписки проводят примерно одинаковое время в поездках."
   ]
  },
  {
   "cell_type": "markdown",
   "id": "402d620f",
   "metadata": {},
   "source": [
    "###  Подсчёт выручки"
   ]
  },
  {
   "cell_type": "markdown",
   "id": "29e7fe8b",
   "metadata": {},
   "source": [
    "#### Суммарное расстояние, количество поездок и время для каждого пользователя за каждый месяц"
   ]
  },
  {
   "cell_type": "code",
   "execution_count": 38,
   "id": "e6849b4e",
   "metadata": {},
   "outputs": [
    {
     "data": {
      "text/html": [
       "<div>\n",
       "<style scoped>\n",
       "    .dataframe tbody tr th:only-of-type {\n",
       "        vertical-align: middle;\n",
       "    }\n",
       "\n",
       "    .dataframe tbody tr th {\n",
       "        vertical-align: top;\n",
       "    }\n",
       "\n",
       "    .dataframe thead th {\n",
       "        text-align: right;\n",
       "    }\n",
       "</style>\n",
       "<table border=\"1\" class=\"dataframe\">\n",
       "  <thead>\n",
       "    <tr style=\"text-align: right;\">\n",
       "      <th></th>\n",
       "      <th>user_id</th>\n",
       "      <th>name</th>\n",
       "      <th>age</th>\n",
       "      <th>city</th>\n",
       "      <th>subscription_type</th>\n",
       "      <th>distance</th>\n",
       "      <th>duration</th>\n",
       "      <th>date</th>\n",
       "      <th>month</th>\n",
       "      <th>minute_price</th>\n",
       "      <th>start_ride_price</th>\n",
       "      <th>subscription_fee</th>\n",
       "    </tr>\n",
       "  </thead>\n",
       "  <tbody>\n",
       "    <tr>\n",
       "      <th>0</th>\n",
       "      <td>1</td>\n",
       "      <td>Кира</td>\n",
       "      <td>22</td>\n",
       "      <td>Тюмень</td>\n",
       "      <td>ultra</td>\n",
       "      <td>4409.919140</td>\n",
       "      <td>25.599769</td>\n",
       "      <td>2021-01-01</td>\n",
       "      <td>1</td>\n",
       "      <td>6</td>\n",
       "      <td>0</td>\n",
       "      <td>199</td>\n",
       "    </tr>\n",
       "    <tr>\n",
       "      <th>1</th>\n",
       "      <td>1</td>\n",
       "      <td>Кира</td>\n",
       "      <td>22</td>\n",
       "      <td>Тюмень</td>\n",
       "      <td>ultra</td>\n",
       "      <td>2617.592153</td>\n",
       "      <td>15.816871</td>\n",
       "      <td>2021-01-18</td>\n",
       "      <td>1</td>\n",
       "      <td>6</td>\n",
       "      <td>0</td>\n",
       "      <td>199</td>\n",
       "    </tr>\n",
       "    <tr>\n",
       "      <th>2</th>\n",
       "      <td>1</td>\n",
       "      <td>Кира</td>\n",
       "      <td>22</td>\n",
       "      <td>Тюмень</td>\n",
       "      <td>ultra</td>\n",
       "      <td>754.159807</td>\n",
       "      <td>6.232113</td>\n",
       "      <td>2021-04-20</td>\n",
       "      <td>4</td>\n",
       "      <td>6</td>\n",
       "      <td>0</td>\n",
       "      <td>199</td>\n",
       "    </tr>\n",
       "    <tr>\n",
       "      <th>3</th>\n",
       "      <td>1</td>\n",
       "      <td>Кира</td>\n",
       "      <td>22</td>\n",
       "      <td>Тюмень</td>\n",
       "      <td>ultra</td>\n",
       "      <td>2694.783254</td>\n",
       "      <td>18.511000</td>\n",
       "      <td>2021-08-11</td>\n",
       "      <td>8</td>\n",
       "      <td>6</td>\n",
       "      <td>0</td>\n",
       "      <td>199</td>\n",
       "    </tr>\n",
       "    <tr>\n",
       "      <th>4</th>\n",
       "      <td>1</td>\n",
       "      <td>Кира</td>\n",
       "      <td>22</td>\n",
       "      <td>Тюмень</td>\n",
       "      <td>ultra</td>\n",
       "      <td>4028.687306</td>\n",
       "      <td>26.265803</td>\n",
       "      <td>2021-08-28</td>\n",
       "      <td>8</td>\n",
       "      <td>6</td>\n",
       "      <td>0</td>\n",
       "      <td>199</td>\n",
       "    </tr>\n",
       "  </tbody>\n",
       "</table>\n",
       "</div>"
      ],
      "text/plain": [
       "   user_id  name  age    city subscription_type     distance   duration  \\\n",
       "0        1  Кира   22  Тюмень             ultra  4409.919140  25.599769   \n",
       "1        1  Кира   22  Тюмень             ultra  2617.592153  15.816871   \n",
       "2        1  Кира   22  Тюмень             ultra   754.159807   6.232113   \n",
       "3        1  Кира   22  Тюмень             ultra  2694.783254  18.511000   \n",
       "4        1  Кира   22  Тюмень             ultra  4028.687306  26.265803   \n",
       "\n",
       "        date  month  minute_price  start_ride_price  subscription_fee  \n",
       "0 2021-01-01      1             6                 0               199  \n",
       "1 2021-01-18      1             6                 0               199  \n",
       "2 2021-04-20      4             6                 0               199  \n",
       "3 2021-08-11      8             6                 0               199  \n",
       "4 2021-08-28      8             6                 0               199  "
      ]
     },
     "execution_count": 38,
     "metadata": {},
     "output_type": "execute_result"
    }
   ],
   "source": [
    "data.head()"
   ]
  },
  {
   "cell_type": "code",
   "execution_count": 39,
   "id": "aca36aa3",
   "metadata": {},
   "outputs": [
    {
     "data": {
      "text/html": [
       "<div>\n",
       "<style scoped>\n",
       "    .dataframe tbody tr th:only-of-type {\n",
       "        vertical-align: middle;\n",
       "    }\n",
       "\n",
       "    .dataframe tbody tr th {\n",
       "        vertical-align: top;\n",
       "    }\n",
       "\n",
       "    .dataframe thead th {\n",
       "        text-align: right;\n",
       "    }\n",
       "</style>\n",
       "<table border=\"1\" class=\"dataframe\">\n",
       "  <thead>\n",
       "    <tr style=\"text-align: right;\">\n",
       "      <th></th>\n",
       "      <th></th>\n",
       "      <th>distance</th>\n",
       "      <th>duration</th>\n",
       "      <th>minute_price</th>\n",
       "      <th>start_price</th>\n",
       "      <th>subscription_fee</th>\n",
       "      <th>rides</th>\n",
       "    </tr>\n",
       "    <tr>\n",
       "      <th>user_id</th>\n",
       "      <th>month</th>\n",
       "      <th></th>\n",
       "      <th></th>\n",
       "      <th></th>\n",
       "      <th></th>\n",
       "      <th></th>\n",
       "      <th></th>\n",
       "    </tr>\n",
       "  </thead>\n",
       "  <tbody>\n",
       "    <tr>\n",
       "      <th rowspan=\"5\" valign=\"top\">1</th>\n",
       "      <th>1</th>\n",
       "      <td>7027.51</td>\n",
       "      <td>42</td>\n",
       "      <td>6</td>\n",
       "      <td>0</td>\n",
       "      <td>199</td>\n",
       "      <td>2</td>\n",
       "    </tr>\n",
       "    <tr>\n",
       "      <th>4</th>\n",
       "      <td>754.16</td>\n",
       "      <td>7</td>\n",
       "      <td>6</td>\n",
       "      <td>0</td>\n",
       "      <td>199</td>\n",
       "      <td>1</td>\n",
       "    </tr>\n",
       "    <tr>\n",
       "      <th>8</th>\n",
       "      <td>6723.47</td>\n",
       "      <td>45</td>\n",
       "      <td>6</td>\n",
       "      <td>0</td>\n",
       "      <td>199</td>\n",
       "      <td>2</td>\n",
       "    </tr>\n",
       "    <tr>\n",
       "      <th>10</th>\n",
       "      <td>5809.91</td>\n",
       "      <td>32</td>\n",
       "      <td>6</td>\n",
       "      <td>0</td>\n",
       "      <td>199</td>\n",
       "      <td>2</td>\n",
       "    </tr>\n",
       "    <tr>\n",
       "      <th>11</th>\n",
       "      <td>7003.50</td>\n",
       "      <td>54</td>\n",
       "      <td>6</td>\n",
       "      <td>0</td>\n",
       "      <td>199</td>\n",
       "      <td>3</td>\n",
       "    </tr>\n",
       "  </tbody>\n",
       "</table>\n",
       "</div>"
      ],
      "text/plain": [
       "               distance  duration  minute_price  start_price  \\\n",
       "user_id month                                                  \n",
       "1       1       7027.51        42             6            0   \n",
       "        4        754.16         7             6            0   \n",
       "        8       6723.47        45             6            0   \n",
       "        10      5809.91        32             6            0   \n",
       "        11      7003.50        54             6            0   \n",
       "\n",
       "               subscription_fee  rides  \n",
       "user_id month                           \n",
       "1       1                   199      2  \n",
       "        4                   199      1  \n",
       "        8                   199      2  \n",
       "        10                  199      2  \n",
       "        11                  199      3  "
      ]
     },
     "execution_count": 39,
     "metadata": {},
     "output_type": "execute_result"
    }
   ],
   "source": [
    "sum_pivot = data.pivot_table(index=['user_id', 'month'], values=['distance', 'duration', 'minute_price', 'start_ride_price', 'subscription_fee'], aggfunc=['sum', 'count'])\n",
    "sum_pivot.columns = ['distance', 'duration', 'minute_price', 'start_price', 'subscription_fee', 'qw1', 'qw2', 'qw3', 'qw4', 'rides']\n",
    "sum_pivot = sum_pivot.drop(columns=['qw1', 'qw2', 'qw3', 'qw4'])\n",
    "sum_pivot['duration'] = np.ceil(sum_pivot['duration']).astype('int')\n",
    "sum_pivot['distance'] = round(sum_pivot['distance'], 2)\n",
    "sum_pivot['minute_price'] = (sum_pivot['minute_price'] / sum_pivot['rides']).astype('int')\n",
    "sum_pivot['subscription_fee'] = (sum_pivot['subscription_fee'] / sum_pivot['rides']).astype('int')\n",
    "\n",
    "sum_pivot.head()\n",
    "#display(sum_pivot.style.background_gradient(cmap='Blues', axis=0))"
   ]
  },
  {
   "cell_type": "markdown",
   "id": "291f295f",
   "metadata": {},
   "source": [
    "#### Помесячная выручка"
   ]
  },
  {
   "cell_type": "code",
   "execution_count": 40,
   "id": "c6dc69e3",
   "metadata": {},
   "outputs": [
    {
     "data": {
      "text/html": [
       "<div>\n",
       "<style scoped>\n",
       "    .dataframe tbody tr th:only-of-type {\n",
       "        vertical-align: middle;\n",
       "    }\n",
       "\n",
       "    .dataframe tbody tr th {\n",
       "        vertical-align: top;\n",
       "    }\n",
       "\n",
       "    .dataframe thead th {\n",
       "        text-align: right;\n",
       "    }\n",
       "</style>\n",
       "<table border=\"1\" class=\"dataframe\">\n",
       "  <thead>\n",
       "    <tr style=\"text-align: right;\">\n",
       "      <th></th>\n",
       "      <th></th>\n",
       "      <th>distance</th>\n",
       "      <th>duration</th>\n",
       "      <th>minute_price</th>\n",
       "      <th>start_price</th>\n",
       "      <th>subscription_fee</th>\n",
       "      <th>rides</th>\n",
       "      <th>revenue</th>\n",
       "    </tr>\n",
       "    <tr>\n",
       "      <th>user_id</th>\n",
       "      <th>month</th>\n",
       "      <th></th>\n",
       "      <th></th>\n",
       "      <th></th>\n",
       "      <th></th>\n",
       "      <th></th>\n",
       "      <th></th>\n",
       "      <th></th>\n",
       "    </tr>\n",
       "  </thead>\n",
       "  <tbody>\n",
       "    <tr>\n",
       "      <th rowspan=\"5\" valign=\"top\">1</th>\n",
       "      <th>1</th>\n",
       "      <td>7027.51</td>\n",
       "      <td>42</td>\n",
       "      <td>6</td>\n",
       "      <td>0</td>\n",
       "      <td>199</td>\n",
       "      <td>2</td>\n",
       "      <td>451</td>\n",
       "    </tr>\n",
       "    <tr>\n",
       "      <th>4</th>\n",
       "      <td>754.16</td>\n",
       "      <td>7</td>\n",
       "      <td>6</td>\n",
       "      <td>0</td>\n",
       "      <td>199</td>\n",
       "      <td>1</td>\n",
       "      <td>241</td>\n",
       "    </tr>\n",
       "    <tr>\n",
       "      <th>8</th>\n",
       "      <td>6723.47</td>\n",
       "      <td>45</td>\n",
       "      <td>6</td>\n",
       "      <td>0</td>\n",
       "      <td>199</td>\n",
       "      <td>2</td>\n",
       "      <td>469</td>\n",
       "    </tr>\n",
       "    <tr>\n",
       "      <th>10</th>\n",
       "      <td>5809.91</td>\n",
       "      <td>32</td>\n",
       "      <td>6</td>\n",
       "      <td>0</td>\n",
       "      <td>199</td>\n",
       "      <td>2</td>\n",
       "      <td>391</td>\n",
       "    </tr>\n",
       "    <tr>\n",
       "      <th>11</th>\n",
       "      <td>7003.50</td>\n",
       "      <td>54</td>\n",
       "      <td>6</td>\n",
       "      <td>0</td>\n",
       "      <td>199</td>\n",
       "      <td>3</td>\n",
       "      <td>523</td>\n",
       "    </tr>\n",
       "  </tbody>\n",
       "</table>\n",
       "</div>"
      ],
      "text/plain": [
       "               distance  duration  minute_price  start_price  \\\n",
       "user_id month                                                  \n",
       "1       1       7027.51        42             6            0   \n",
       "        4        754.16         7             6            0   \n",
       "        8       6723.47        45             6            0   \n",
       "        10      5809.91        32             6            0   \n",
       "        11      7003.50        54             6            0   \n",
       "\n",
       "               subscription_fee  rides  revenue  \n",
       "user_id month                                    \n",
       "1       1                   199      2      451  \n",
       "        4                   199      1      241  \n",
       "        8                   199      2      469  \n",
       "        10                  199      2      391  \n",
       "        11                  199      3      523  "
      ]
     },
     "execution_count": 40,
     "metadata": {},
     "output_type": "execute_result"
    }
   ],
   "source": [
    "sum_pivot['revenue'] = sum_pivot['duration'] * sum_pivot['minute_price'] \\\n",
    "                + sum_pivot['start_price'] + sum_pivot['subscription_fee']\n",
    "sum_pivot.head()"
   ]
  },
  {
   "cell_type": "markdown",
   "id": "41545ac0",
   "metadata": {},
   "source": [
    "###  Проверка гипотез"
   ]
  },
  {
   "cell_type": "markdown",
   "id": "d584bc74",
   "metadata": {},
   "source": [
    "#### Тратят ли пользователи с подпиской больше времени на поездки? "
   ]
  },
  {
   "cell_type": "code",
   "execution_count": 45,
   "id": "65cc2576",
   "metadata": {},
   "outputs": [
    {
     "name": "stdout",
     "output_type": "stream",
     "text": [
      "p-value: 3.1580537835376723e-19\n",
      "Отвергаем нулевую гипотезу: пользователи с подпиской тратят значимо меньше времени на поездки\n"
     ]
    }
   ],
   "source": [
    "# Нулевая гипотеза: пользователи с подпиской тратят столько же времени на поездки как и пользователи без подписки\n",
    "# Альтернативная гипотеза: пользователи с подпиской тратят больше времени на поездки чем пользователи без подписки\n",
    "\n",
    "\n",
    "# задаём уровень значимости\n",
    "alpha = 0.05\n",
    "\n",
    "# проводим ttest для двух выборок, в качестве альтернативной используем одностороннюю гипотезу «больше»\n",
    "results = st.ttest_ind(sub['duration'], no_sub['duration'], alternative='greater')\n",
    "\n",
    "print(f'p-value: {results.pvalue}')\n",
    "\n",
    "# проверяем p-value\n",
    "if results.pvalue < alpha:\n",
    "    print('Отвергаем нулевую гипотезу: пользователи с подпиской тратят значимо меньше времени на поездки')\n",
    "else:\n",
    "    print('Нет оснований отвергнуть нулевую гипотезу: пользователи с подпиской тратят больше времени на поездки')"
   ]
  },
  {
   "cell_type": "markdown",
   "id": "a76cdd4d",
   "metadata": {},
   "source": [
    "#### Можно ли сказать, что среднее расстояние, которое проезжают пользователи с подпиской за одну поездку, не превышает 3130 метров? "
   ]
  },
  {
   "cell_type": "code",
   "execution_count": 42,
   "id": "5faab14d",
   "metadata": {},
   "outputs": [
    {
     "name": "stdout",
     "output_type": "stream",
     "text": [
      "p-значение: 0.006190904206774538\n",
      "Отвергаем нулевую гипотезу: среднее расстояние, которое проезжают пользователи с подпиской\n",
      "за одну поездку, значимо меньше 3130 метров\n"
     ]
    }
   ],
   "source": [
    "# Нулевая гипотеза: среднее расстояние равно 3130м\n",
    "# Альтернативная гипотеза: среднее расстояние значимо меньше 3130м\n",
    "\n",
    "dist = 3130\n",
    "\n",
    "alpha = 0.05 # уровень статистической значимости\n",
    "\n",
    "results = st.ttest_1samp(\n",
    "    sub['distance'], \n",
    "    dist,\n",
    "      alternative='less')\n",
    "\n",
    "print('p-значение:', results.pvalue)\n",
    "\n",
    "if (results.pvalue < alpha):\n",
    "    print('Отвергаем нулевую гипотезу: среднее расстояние, которое проезжают пользователи с подпиской\\nза одну поездку, значимо меньше 3130 метров')\n",
    "else:\n",
    "    print('Не отвергаем нулевую гипотезу: среднее расстояние, которое проезжают пользователи с подпиской\\nза одну поездку, достигает отметки в 3130 метров')"
   ]
  },
  {
   "cell_type": "markdown",
   "id": "08e4ec08",
   "metadata": {},
   "source": [
    "#### Будет ли помесячная выручка от пользователей с подпиской по месяцам выше, чем выручка от пользователей без подписки?"
   ]
  },
  {
   "cell_type": "code",
   "execution_count": 43,
   "id": "f4375d09",
   "metadata": {},
   "outputs": [],
   "source": [
    "def func(x, y):\n",
    "    if x == \"ultra\":\n",
    "        return (6 * y)\n",
    "    else:\n",
    "        return (8 * y + 50)\n",
    "    \n",
    "data['revenue'] = data.apply(lambda row: func(row['subscription_type'], row['duration']), axis=1)\n",
    "\n",
    "\n",
    "sub = data.query('subscription_type == \"ultra\"')\n",
    "no_sub = data.query('subscription_type != \"ultra\"')"
   ]
  },
  {
   "cell_type": "code",
   "execution_count": 44,
   "id": "4ae4d466",
   "metadata": {},
   "outputs": [],
   "source": [
    "ax = sub.pivot_table(index='month', values='revenue', aggfunc='sum')\n",
    "ax['rev_sub'] = ax['revenue'] + 199\n",
    "ax = ax.drop(columns='revenue')\n",
    "\n",
    "pivot = no_sub.pivot_table(index='month', values='revenue', aggfunc='sum')\n",
    "\n",
    "ax['rev_no_sub'] = pivot['revenue']"
   ]
  },
  {
   "cell_type": "code",
   "execution_count": 45,
   "id": "8797fdc7",
   "metadata": {
    "scrolled": true
   },
   "outputs": [
    {
     "name": "stdout",
     "output_type": "stream",
     "text": [
      "p-value: 9.530993414898447e-24\n",
      "Отвергаем нулевую гипотезу\n"
     ]
    },
    {
     "data": {
      "text/plain": [
       "<Axes: xlabel='month'>"
      ]
     },
     "execution_count": 45,
     "metadata": {},
     "output_type": "execute_result"
    },
    {
     "data": {
      "image/png": "[encoded data removed]",
      "text/plain": [
       "<Figure size 640x480 with 1 Axes>"
      ]
     },
     "metadata": {},
     "output_type": "display_data"
    }
   ],
   "source": [
    "# Нулевая гипотеза: помесячная выручка от пользователей с подпиской по месяцам равна\n",
    "# помесячной пользователей без подписки\n",
    "\n",
    "# Альтернативная гипотеза: помесячная выручка от пользователей с подпиской по месяцам меньше, \n",
    "# чем выручка от пользователей без подписки\n",
    "\n",
    "# задаём уровень значимости\n",
    "alpha = 0.05\n",
    "\n",
    "# проводим ttest для двух выборок, в качестве альтернативной используем одностороннюю гипотезу «больше»\n",
    "results = st.ttest_ind(ax['rev_sub'], ax['rev_no_sub'], alternative='less')\n",
    "\n",
    "print(f'p-value: {results.pvalue}')\n",
    "\n",
    "# проверяем p-value\n",
    "if results.pvalue < alpha:\n",
    "    print('Отвергаем нулевую гипотезу')\n",
    "else:\n",
    "    print('Нет оснований отвергнуть нулевую гипотезу')\n",
    "    \n",
    "# визуализируем на графике\n",
    "ax[['rev_sub', 'rev_no_sub']].plot.bar()"
   ]
  },
  {
   "cell_type": "markdown",
   "id": "33c37af7",
   "metadata": {},
   "source": [
    "Выручка от пользователей без подписки по месяцам в разы больше чем от пользователей с подпиской."
   ]
  },
  {
   "cell_type": "markdown",
   "id": "15eedafd",
   "metadata": {},
   "source": [
    "#### Тест для проверки before / after"
   ]
  },
  {
   "cell_type": "code",
   "execution_count": 46,
   "id": "7a609cc7",
   "metadata": {
    "scrolled": true
   },
   "outputs": [
    {
     "name": "stdout",
     "output_type": "stream",
     "text": [
      "Среднее до: 586.3\n",
      "Среднее после: 341.26666666666665\n",
      "p-value: 2.171446837740075e-05\n",
      "Отвергаем нулевую гипотезу о равенстве\n"
     ]
    }
   ],
   "source": [
    "# Пример\n",
    "\n",
    "\n",
    "# нулевая гипотеза: средние значения до и после обновлений равны\n",
    "# альтернативная гипотеза: среднее значение обращений в поддержку до обновлений значимо больше, чем среднее \n",
    "# значение обращений в поддержку после обновлений. \n",
    "\n",
    "\n",
    "# задаём уровень значимости\n",
    "alpha = 0.05\n",
    "\n",
    "# задаём кол-во обращений в поддержку до обновлений серверов\n",
    "before = [839, 675, 456, 356, 234, 543, 252, 765, 456, 875, \n",
    "          192, 262, 506, 240, 457, 968, 967, 487, 957, 967, \n",
    "          320, 193, 313, 854, 857, 477, 843, 855, 568, 855]\n",
    "\n",
    "\n",
    "# задаём кол-во обращений в поддержку после обновлений серверов\n",
    "after = [282, 220, 162, 226, 296, 479, 248, 322, 298, 418, \n",
    "         552, 246, 251, 404, 368, 484, 358, 264, 359, 410, \n",
    "         382, 350, 406, 416, 438, 364, 283, 314, 420, 218]\n",
    "# проводим ttest для двух выборок, в качестве альтернативной используем одностороннюю гипотезу «больше»\n",
    "results = st.ttest_rel(before, after, alternative='greater')\n",
    "\n",
    "print('Среднее до:', pd.Series(before).mean())\n",
    "print('Среднее после:', pd.Series(after).mean())\n",
    "\n",
    "print(f'p-value: {results.pvalue}')\n",
    "\n",
    "# проверяем p-value\n",
    "if results.pvalue < alpha:\n",
    "    print('Отвергаем нулевую гипотезу о равенстве')\n",
    "else:\n",
    "    print('Нет оснований отвергнуть нулевую гипотезу')"
   ]
  },
  {
   "cell_type": "markdown",
   "id": "2c4b7e90",
   "metadata": {},
   "source": [
    "Значения выборки после изменений (after) стали значительно меньше."
   ]
  },
  {
   "cell_type": "markdown",
   "id": "61213c5e",
   "metadata": {},
   "source": [
    "###  Распределения"
   ]
  },
  {
   "cell_type": "markdown",
   "id": "011147b0",
   "metadata": {},
   "source": [
    "#### "
   ]
  },
  {
   "cell_type": "code",
   "execution_count": 47,
   "id": "81e36b7d",
   "metadata": {},
   "outputs": [
    {
     "name": "stdout",
     "output_type": "stream",
     "text": [
      "Минимальное количество промокодов: 1161\n"
     ]
    },
    {
     "data": {
      "image/png": "[encoded data removed]",
      "text/plain": [
       "<Figure size 640x480 with 1 Axes>"
      ]
     },
     "metadata": {},
     "output_type": "display_data"
    }
   ],
   "source": [
    "# Вероятность продления подписки\n",
    "p = 0.1\n",
    "\n",
    "# Требуемое количество продлений\n",
    "k = 100\n",
    "\n",
    "# Уровень значимости\n",
    "alpha = 0.05\n",
    "\n",
    "# Начнем поиск с числа равного минимальному количеству нужных продлений\n",
    "n = k\n",
    "\n",
    "# Используем цикл для нахождения минимального n, при котором вероятность P(X < k) <= 0.05\n",
    "while True:\n",
    "    # Расчет вероятности того, что X < k\n",
    "    if binom.cdf(k-1, n, p) <= alpha:\n",
    "        break\n",
    "    n += 1\n",
    "\n",
    "print(f\"Минимальное количество промокодов: {n}\")\n",
    "\n",
    "# Построение графика распределения\n",
    "x = np.arange(0, n+1)\n",
    "pmf_vals = binom.pmf(x, n, p)\n",
    "plt.bar(x, pmf_vals)\n",
    "plt.title('Биномиальное распределение продлений подписки')\n",
    "plt.xlabel('Количество продлений подписки')\n",
    "plt.ylabel('Вероятность')\n",
    "plt.grid(True)\n",
    "plt.show()"
   ]
  },
  {
   "cell_type": "markdown",
   "id": "a729b553",
   "metadata": {},
   "source": [
    "#### "
   ]
  },
  {
   "cell_type": "code",
   "execution_count": 50,
   "id": "f45ad9ff",
   "metadata": {},
   "outputs": [
    {
     "data": {
      "image/png": "[encoded data removed]",
      "text/plain": [
       "<Figure size 640x480 with 1 Axes>"
      ]
     },
     "metadata": {},
     "output_type": "display_data"
    },
    {
     "name": "stdout",
     "output_type": "stream",
     "text": [
      "Вероятность того, что уведомление откроют не более 399.5 тыс. пользователей равна: 0.1537\n"
     ]
    }
   ],
   "source": [
    "# Вероятность открытия уведомления\n",
    "p = 0.4\n",
    "\n",
    "# Общее количество уведомлений\n",
    "n = 1000000\n",
    "\n",
    "# Рассчитываем мат.ожидание и стандартное отклонение\n",
    "mu = n * p\n",
    "sigma = np.sqrt(n * p * (1 - p))\n",
    "\n",
    "# Значение, для которого вычисляем вероятность\n",
    "value = 399500\n",
    "\n",
    "# Расчет вероятности\n",
    "probability = norm.cdf(value, mu, sigma)\n",
    "\n",
    "# Построение графика\n",
    "x = np.linspace(mu - 4*sigma, mu + 4*sigma, 1000)\n",
    "y = norm.pdf(x, mu, sigma)\n",
    "\n",
    "plt.plot(x, y, label='Нормальное аппроксимированное распределение')\n",
    "plt.fill_between(x, y, where=(x <= value), color='skyblue', alpha=0.5, label=f'Вероятность (не более {value/1000} тыс.)')\n",
    "plt.legend()\n",
    "plt.title('Аппроксимация биномиального распределения нормальным')\n",
    "plt.xlabel('Количество открытых уведомлений')\n",
    "plt.ylabel('Плотность вероятности')\n",
    "plt.grid(True)\n",
    "plt.show()\n",
    "\n",
    "print(f\"Вероятность того, что уведомление откроют не более {value/1000} тыс. пользователей равна: {probability:.4f}\")"
   ]
  },
  {
   "cell_type": "markdown",
   "id": "5dabf32e",
   "metadata": {},
   "source": [
    "### Общий вывод"
   ]
  },
  {
   "cell_type": "markdown",
   "id": "b6cdcc6f",
   "metadata": {},
   "source": [
    "- В ходе исследования привели значения столбца 'date' к типу данных pandas.\n",
    "- Добавили столбец с номером месяца\n",
    "- Избавились от дубликатов в датафрейме users\n",
    "- Отбросили выбросы в столбцах 'distance' и 'duration'\n",
    "- Объедили данные в один датафрейм 'data'\n",
    "- Выяснили, что частота всех городов вариируется в пределе ~ (160 - 220). Больше всех встречается Пятигорск, а реже всех Москва.\n",
    "- Соотношение пользователей с подпиской и без примерно одинаковое - 46% и 54%.\n",
    "- Самый распространённый возраст среди пользователей - 25 лет, самый редкий - 43. В основном сервисом пользуются молодые люди в возрастном интервале от 20 до 30 лет.\n",
    "- Пользователи с подпиской тратят значимо меньше времени на поездки.\n",
    "- Среднее расстояние, которое проезжают пользователи с подпиской за одну поездку, значимо меньше 3130 метров.\n",
    "\n",
    "    Выручка от пользователей без подписки по месяцам в разы больше чем от пользователей с подпиской.\n",
    "По данным анализа можно сделать вывод, что пользователей без подписки больше и они приносят большую среднюю рентабильность. Также обе категории проводят примерно одинаковое время в поездках и проезжают почти одинаковые дистанции. Для увеличения прибыли сервиса GoFast следует увеличить стоимость за подписку. Это уменьшит кол-во подписавшихся и увеличит кол-во пользователей без подписки. Также те, кто решит продлить подписку по более высокой цене, будут увеличивать среднюю прибыль этой категории из-за изменений в ценовой политике."
   ]
  }
 ],
 "metadata": {
  "ExecuteTimeLog": [
   {
    "duration": 52,
    "start_time": "2023-11-07T19:45:36.885Z"
   },
   {
    "duration": 1331,
    "start_time": "2023-11-07T19:45:39.913Z"
   },
   {
    "duration": 198,
    "start_time": "2023-11-07T19:45:41.393Z"
   },
   {
    "duration": 1146,
    "start_time": "2023-11-07T19:46:55.279Z"
   },
   {
    "duration": 70,
    "start_time": "2023-11-07T19:46:56.426Z"
   },
   {
    "duration": 12,
    "start_time": "2023-11-07T19:48:43.928Z"
   },
   {
    "duration": 3,
    "start_time": "2023-11-07T19:49:21.767Z"
   },
   {
    "duration": 67,
    "start_time": "2023-11-07T19:49:22.197Z"
   },
   {
    "duration": 8,
    "start_time": "2023-11-07T19:49:22.464Z"
   },
   {
    "duration": 11,
    "start_time": "2023-11-07T19:49:22.581Z"
   },
   {
    "duration": 16,
    "start_time": "2023-11-07T19:49:22.726Z"
   },
   {
    "duration": 9,
    "start_time": "2023-11-07T20:15:01.102Z"
   },
   {
    "duration": 13,
    "start_time": "2023-11-07T20:15:01.313Z"
   },
   {
    "duration": 101,
    "start_time": "2023-11-07T20:15:37.703Z"
   },
   {
    "duration": 4,
    "start_time": "2023-11-07T20:15:46.878Z"
   },
   {
    "duration": 80,
    "start_time": "2023-11-07T20:15:47.182Z"
   },
   {
    "duration": 11,
    "start_time": "2023-11-07T20:15:47.440Z"
   },
   {
    "duration": 12,
    "start_time": "2023-11-07T20:15:47.541Z"
   },
   {
    "duration": 16,
    "start_time": "2023-11-07T20:15:47.701Z"
   },
   {
    "duration": 8,
    "start_time": "2023-11-07T20:15:48.136Z"
   },
   {
    "duration": 54,
    "start_time": "2023-11-07T20:15:48.261Z"
   },
   {
    "duration": 23,
    "start_time": "2023-11-07T20:15:48.410Z"
   },
   {
    "duration": 7,
    "start_time": "2023-11-07T20:15:48.864Z"
   },
   {
    "duration": 11,
    "start_time": "2023-11-07T20:15:49.004Z"
   },
   {
    "duration": 8,
    "start_time": "2023-11-07T20:15:49.746Z"
   },
   {
    "duration": 6,
    "start_time": "2023-11-07T20:15:50.022Z"
   },
   {
    "duration": 3,
    "start_time": "2023-11-07T20:16:59.347Z"
   },
   {
    "duration": 74,
    "start_time": "2023-11-07T20:16:59.352Z"
   },
   {
    "duration": 8,
    "start_time": "2023-11-07T20:16:59.428Z"
   },
   {
    "duration": 15,
    "start_time": "2023-11-07T20:16:59.437Z"
   },
   {
    "duration": 24,
    "start_time": "2023-11-07T20:16:59.454Z"
   },
   {
    "duration": 10,
    "start_time": "2023-11-07T20:16:59.480Z"
   },
   {
    "duration": 32,
    "start_time": "2023-11-07T20:16:59.492Z"
   },
   {
    "duration": 19,
    "start_time": "2023-11-07T20:16:59.526Z"
   },
   {
    "duration": 7,
    "start_time": "2023-11-07T20:16:59.546Z"
   },
   {
    "duration": 14,
    "start_time": "2023-11-07T20:16:59.554Z"
   },
   {
    "duration": 13,
    "start_time": "2023-11-07T20:16:59.570Z"
   },
   {
    "duration": 5,
    "start_time": "2023-11-07T20:16:59.585Z"
   },
   {
    "duration": 15,
    "start_time": "2023-11-07T20:16:59.591Z"
   },
   {
    "duration": 6,
    "start_time": "2023-11-07T20:16:59.623Z"
   },
   {
    "duration": 5,
    "start_time": "2023-11-07T20:16:59.631Z"
   },
   {
    "duration": 9,
    "start_time": "2023-11-07T20:16:59.637Z"
   },
   {
    "duration": 5,
    "start_time": "2023-11-07T20:16:59.647Z"
   },
   {
    "duration": 8,
    "start_time": "2023-11-07T20:16:59.654Z"
   },
   {
    "duration": 4,
    "start_time": "2023-11-07T20:16:59.664Z"
   },
   {
    "duration": 1215,
    "start_time": "2023-11-07T20:21:42.550Z"
   },
   {
    "duration": 70,
    "start_time": "2023-11-07T20:21:43.768Z"
   },
   {
    "duration": 12,
    "start_time": "2023-11-07T20:21:43.839Z"
   },
   {
    "duration": 29,
    "start_time": "2023-11-07T20:21:43.853Z"
   },
   {
    "duration": 16,
    "start_time": "2023-11-07T20:21:43.884Z"
   },
   {
    "duration": 35,
    "start_time": "2023-11-07T20:21:43.901Z"
   },
   {
    "duration": 115,
    "start_time": "2023-11-07T20:21:43.938Z"
   },
   {
    "duration": 17,
    "start_time": "2023-11-07T20:21:44.055Z"
   },
   {
    "duration": 6,
    "start_time": "2023-11-07T20:21:44.074Z"
   },
   {
    "duration": 48,
    "start_time": "2023-11-07T20:21:44.082Z"
   },
   {
    "duration": 27,
    "start_time": "2023-11-07T20:21:44.133Z"
   },
   {
    "duration": 36,
    "start_time": "2023-11-07T20:21:44.162Z"
   },
   {
    "duration": 16,
    "start_time": "2023-11-07T20:21:44.200Z"
   },
   {
    "duration": 51,
    "start_time": "2023-11-07T20:21:44.220Z"
   },
   {
    "duration": 56,
    "start_time": "2023-11-07T20:21:44.273Z"
   },
   {
    "duration": 64,
    "start_time": "2023-11-07T20:21:44.331Z"
   },
   {
    "duration": 15,
    "start_time": "2023-11-07T20:21:44.396Z"
   },
   {
    "duration": 37,
    "start_time": "2023-11-07T20:21:44.413Z"
   },
   {
    "duration": 35,
    "start_time": "2023-11-07T20:21:44.452Z"
   },
   {
    "duration": 8,
    "start_time": "2023-11-07T20:21:44.488Z"
   },
   {
    "duration": 136,
    "start_time": "2023-11-07T20:21:44.497Z"
   },
   {
    "duration": 108,
    "start_time": "2023-11-07T20:21:44.635Z"
   },
   {
    "duration": 243,
    "start_time": "2023-11-07T20:21:44.745Z"
   },
   {
    "duration": 309,
    "start_time": "2023-11-07T20:21:44.990Z"
   },
   {
    "duration": 32,
    "start_time": "2023-11-07T20:21:45.300Z"
   },
   {
    "duration": 301,
    "start_time": "2023-11-07T20:21:45.334Z"
   },
   {
    "duration": 277,
    "start_time": "2023-11-07T20:21:45.637Z"
   },
   {
    "duration": 19,
    "start_time": "2023-11-07T20:21:45.917Z"
   },
   {
    "duration": 195,
    "start_time": "2023-11-07T20:21:45.938Z"
   },
   {
    "duration": 26,
    "start_time": "2023-11-07T20:23:31.580Z"
   },
   {
    "duration": 11,
    "start_time": "2023-11-07T20:23:32.139Z"
   },
   {
    "duration": 232,
    "start_time": "2023-11-07T20:23:32.734Z"
   },
   {
    "duration": 246,
    "start_time": "2023-11-07T20:23:33.052Z"
   },
   {
    "duration": 12,
    "start_time": "2023-11-07T20:24:32.480Z"
   },
   {
    "duration": 40,
    "start_time": "2023-11-07T20:24:32.683Z"
   },
   {
    "duration": 11,
    "start_time": "2023-11-07T20:24:34.779Z"
   },
   {
    "duration": 1248,
    "start_time": "2023-11-07T20:26:45.703Z"
   },
   {
    "duration": 73,
    "start_time": "2023-11-07T20:26:46.953Z"
   },
   {
    "duration": 12,
    "start_time": "2023-11-07T20:26:47.029Z"
   },
   {
    "duration": 19,
    "start_time": "2023-11-07T20:26:47.042Z"
   },
   {
    "duration": 14,
    "start_time": "2023-11-07T20:26:47.063Z"
   },
   {
    "duration": 9,
    "start_time": "2023-11-07T20:26:47.079Z"
   },
   {
    "duration": 11,
    "start_time": "2023-11-07T20:26:47.089Z"
   },
   {
    "duration": 18,
    "start_time": "2023-11-07T20:26:47.124Z"
   },
   {
    "duration": 6,
    "start_time": "2023-11-07T20:26:47.144Z"
   },
   {
    "duration": 10,
    "start_time": "2023-11-07T20:26:47.152Z"
   },
   {
    "duration": 6,
    "start_time": "2023-11-07T20:26:47.164Z"
   },
   {
    "duration": 4,
    "start_time": "2023-11-07T20:26:47.172Z"
   },
   {
    "duration": 5,
    "start_time": "2023-11-07T20:26:47.179Z"
   },
   {
    "duration": 41,
    "start_time": "2023-11-07T20:26:47.186Z"
   },
   {
    "duration": 6,
    "start_time": "2023-11-07T20:26:47.229Z"
   },
   {
    "duration": 6,
    "start_time": "2023-11-07T20:26:47.236Z"
   },
   {
    "duration": 5,
    "start_time": "2023-11-07T20:26:47.243Z"
   },
   {
    "duration": 11,
    "start_time": "2023-11-07T20:26:47.249Z"
   },
   {
    "duration": 5,
    "start_time": "2023-11-07T20:26:47.261Z"
   },
   {
    "duration": 5,
    "start_time": "2023-11-07T20:26:47.267Z"
   },
   {
    "duration": 176,
    "start_time": "2023-11-07T20:26:47.273Z"
   },
   {
    "duration": 111,
    "start_time": "2023-11-07T20:26:47.451Z"
   },
   {
    "duration": 238,
    "start_time": "2023-11-07T20:26:47.564Z"
   },
   {
    "duration": 318,
    "start_time": "2023-11-07T20:26:47.804Z"
   },
   {
    "duration": 14,
    "start_time": "2023-11-07T20:26:48.123Z"
   },
   {
    "duration": 289,
    "start_time": "2023-11-07T20:26:48.139Z"
   },
   {
    "duration": 263,
    "start_time": "2023-11-07T20:26:48.430Z"
   },
   {
    "duration": 14,
    "start_time": "2023-11-07T20:26:48.695Z"
   },
   {
    "duration": 204,
    "start_time": "2023-11-07T20:26:48.711Z"
   },
   {
    "duration": 35,
    "start_time": "2023-11-07T20:26:48.924Z"
   },
   {
    "duration": 11,
    "start_time": "2023-11-07T20:26:48.961Z"
   },
   {
    "duration": 263,
    "start_time": "2023-11-07T20:26:48.974Z"
   },
   {
    "duration": 258,
    "start_time": "2023-11-07T20:26:49.238Z"
   },
   {
    "duration": 12,
    "start_time": "2023-11-07T20:26:49.498Z"
   },
   {
    "duration": 48,
    "start_time": "2023-11-07T20:26:49.524Z"
   },
   {
    "duration": 10,
    "start_time": "2023-11-07T20:26:49.574Z"
   },
   {
    "duration": 140,
    "start_time": "2023-11-07T20:26:49.586Z"
   },
   {
    "duration": 4,
    "start_time": "2023-11-07T20:26:49.728Z"
   },
   {
    "duration": 218,
    "start_time": "2023-11-07T20:26:49.733Z"
   },
   {
    "duration": 214,
    "start_time": "2023-11-07T20:26:49.954Z"
   },
   {
    "duration": 7,
    "start_time": "2023-11-07T20:26:50.169Z"
   },
   {
    "duration": 48,
    "start_time": "2023-11-08T10:08:49.291Z"
   },
   {
    "duration": 1374,
    "start_time": "2023-11-08T10:08:57.081Z"
   },
   {
    "duration": 208,
    "start_time": "2023-11-08T10:08:58.456Z"
   },
   {
    "duration": 12,
    "start_time": "2023-11-08T10:08:58.665Z"
   },
   {
    "duration": 13,
    "start_time": "2023-11-08T10:08:58.679Z"
   },
   {
    "duration": 24,
    "start_time": "2023-11-08T10:08:58.695Z"
   },
   {
    "duration": 18,
    "start_time": "2023-11-08T10:08:58.721Z"
   },
   {
    "duration": 29,
    "start_time": "2023-11-08T10:08:58.741Z"
   },
   {
    "duration": 20,
    "start_time": "2023-11-08T10:08:58.772Z"
   },
   {
    "duration": 7,
    "start_time": "2023-11-08T10:08:58.794Z"
   },
   {
    "duration": 30,
    "start_time": "2023-11-08T10:08:58.802Z"
   },
   {
    "duration": 21,
    "start_time": "2023-11-08T10:08:58.833Z"
   },
   {
    "duration": 18,
    "start_time": "2023-11-08T10:08:58.856Z"
   },
   {
    "duration": 9,
    "start_time": "2023-11-08T10:08:58.876Z"
   },
   {
    "duration": 20,
    "start_time": "2023-11-08T10:08:58.888Z"
   },
   {
    "duration": 14,
    "start_time": "2023-11-08T10:08:58.909Z"
   },
   {
    "duration": 11,
    "start_time": "2023-11-08T10:08:58.925Z"
   },
   {
    "duration": 10,
    "start_time": "2023-11-08T10:08:58.938Z"
   },
   {
    "duration": 35,
    "start_time": "2023-11-08T10:08:58.949Z"
   },
   {
    "duration": 9,
    "start_time": "2023-11-08T10:08:58.986Z"
   },
   {
    "duration": 6,
    "start_time": "2023-11-08T10:08:58.997Z"
   },
   {
    "duration": 160,
    "start_time": "2023-11-08T10:08:59.004Z"
   },
   {
    "duration": 102,
    "start_time": "2023-11-08T10:08:59.166Z"
   },
   {
    "duration": 241,
    "start_time": "2023-11-08T10:08:59.270Z"
   },
   {
    "duration": 295,
    "start_time": "2023-11-08T10:08:59.513Z"
   },
   {
    "duration": 14,
    "start_time": "2023-11-08T10:08:59.810Z"
   },
   {
    "duration": 309,
    "start_time": "2023-11-08T10:08:59.826Z"
   },
   {
    "duration": 258,
    "start_time": "2023-11-08T10:09:00.137Z"
   },
   {
    "duration": 19,
    "start_time": "2023-11-08T10:09:00.398Z"
   },
   {
    "duration": 209,
    "start_time": "2023-11-08T10:09:00.419Z"
   },
   {
    "duration": 25,
    "start_time": "2023-11-08T10:09:00.630Z"
   },
   {
    "duration": 17,
    "start_time": "2023-11-08T10:09:00.657Z"
   },
   {
    "duration": 270,
    "start_time": "2023-11-08T10:09:00.675Z"
   },
   {
    "duration": 278,
    "start_time": "2023-11-08T10:09:00.946Z"
   },
   {
    "duration": 13,
    "start_time": "2023-11-08T10:09:01.225Z"
   },
   {
    "duration": 147,
    "start_time": "2023-11-08T10:09:01.240Z"
   },
   {
    "duration": 42,
    "start_time": "2023-11-08T10:09:01.390Z"
   },
   {
    "duration": 185,
    "start_time": "2023-11-08T10:09:01.433Z"
   },
   {
    "duration": 5,
    "start_time": "2023-11-08T10:09:01.619Z"
   },
   {
    "duration": 277,
    "start_time": "2023-11-08T10:09:01.626Z"
   },
   {
    "duration": 218,
    "start_time": "2023-11-08T10:09:01.904Z"
   },
   {
    "duration": 7,
    "start_time": "2023-11-08T10:09:02.126Z"
   },
   {
    "duration": 5,
    "start_time": "2023-11-08T10:09:20.653Z"
   },
   {
    "duration": 66,
    "start_time": "2023-11-08T10:10:05.320Z"
   },
   {
    "duration": 205,
    "start_time": "2023-11-08T10:23:06.370Z"
   },
   {
    "duration": 121,
    "start_time": "2023-11-08T10:25:19.057Z"
   },
   {
    "duration": 14,
    "start_time": "2023-11-08T10:27:35.574Z"
   },
   {
    "duration": 13,
    "start_time": "2023-11-08T10:27:42.832Z"
   },
   {
    "duration": 3,
    "start_time": "2023-11-08T10:27:49.245Z"
   },
   {
    "duration": 3,
    "start_time": "2023-11-08T10:28:07.841Z"
   },
   {
    "duration": 4,
    "start_time": "2023-11-08T10:28:32.847Z"
   },
   {
    "duration": 14,
    "start_time": "2023-11-08T10:31:02.141Z"
   },
   {
    "duration": 26,
    "start_time": "2023-11-08T10:31:19.532Z"
   },
   {
    "duration": 20,
    "start_time": "2023-11-08T10:31:50.716Z"
   },
   {
    "duration": 63,
    "start_time": "2023-11-08T10:32:52.929Z"
   },
   {
    "duration": 4,
    "start_time": "2023-11-08T10:33:03.944Z"
   },
   {
    "duration": 12,
    "start_time": "2023-11-08T10:33:42.547Z"
   },
   {
    "duration": 13,
    "start_time": "2023-11-08T10:34:12.837Z"
   },
   {
    "duration": 413,
    "start_time": "2023-11-08T10:43:46.041Z"
   },
   {
    "duration": 379,
    "start_time": "2023-11-08T10:45:31.301Z"
   },
   {
    "duration": 366,
    "start_time": "2023-11-08T10:46:31.980Z"
   },
   {
    "duration": 407,
    "start_time": "2023-11-08T10:49:20.160Z"
   },
   {
    "duration": 349,
    "start_time": "2023-11-08T10:49:38.681Z"
   },
   {
    "duration": 354,
    "start_time": "2023-11-08T10:49:46.501Z"
   },
   {
    "duration": 265,
    "start_time": "2023-11-08T10:50:22.049Z"
   },
   {
    "duration": 244,
    "start_time": "2023-11-08T10:50:33.796Z"
   },
   {
    "duration": 358,
    "start_time": "2023-11-08T10:51:20.678Z"
   },
   {
    "duration": 374,
    "start_time": "2023-11-08T10:51:29.193Z"
   },
   {
    "duration": 460,
    "start_time": "2023-11-08T10:52:00.928Z"
   },
   {
    "duration": 412,
    "start_time": "2023-11-08T10:52:12.363Z"
   },
   {
    "duration": 369,
    "start_time": "2023-11-08T10:54:57.701Z"
   },
   {
    "duration": 376,
    "start_time": "2023-11-08T10:55:11.783Z"
   },
   {
    "duration": 427,
    "start_time": "2023-11-08T10:55:22.229Z"
   },
   {
    "duration": 451,
    "start_time": "2023-11-08T10:55:33.908Z"
   },
   {
    "duration": 386,
    "start_time": "2023-11-08T10:56:21.147Z"
   },
   {
    "duration": 262,
    "start_time": "2023-11-08T10:57:47.013Z"
   },
   {
    "duration": 388,
    "start_time": "2023-11-08T10:57:59.349Z"
   },
   {
    "duration": 381,
    "start_time": "2023-11-08T11:01:20.909Z"
   },
   {
    "duration": 6,
    "start_time": "2023-11-08T11:11:00.456Z"
   },
   {
    "duration": 6,
    "start_time": "2023-11-08T11:11:27.680Z"
   },
   {
    "duration": 6,
    "start_time": "2023-11-08T11:11:36.863Z"
   },
   {
    "duration": 6,
    "start_time": "2023-11-08T11:12:46.634Z"
   },
   {
    "duration": 12,
    "start_time": "2023-11-08T11:15:40.802Z"
   },
   {
    "duration": 10,
    "start_time": "2023-11-08T11:15:50.730Z"
   },
   {
    "duration": 5,
    "start_time": "2023-11-08T11:15:54.999Z"
   },
   {
    "duration": 8,
    "start_time": "2023-11-08T11:34:31.140Z"
   },
   {
    "duration": 6,
    "start_time": "2023-11-08T11:35:27.528Z"
   },
   {
    "duration": 5,
    "start_time": "2023-11-08T11:40:28.273Z"
   },
   {
    "duration": 5,
    "start_time": "2023-11-08T11:41:11.677Z"
   },
   {
    "duration": 5,
    "start_time": "2023-11-08T11:41:50.190Z"
   },
   {
    "duration": 6,
    "start_time": "2023-11-08T11:42:11.457Z"
   },
   {
    "duration": 4,
    "start_time": "2023-11-08T11:49:04.193Z"
   },
   {
    "duration": 4,
    "start_time": "2023-11-08T11:49:16.883Z"
   },
   {
    "duration": 209,
    "start_time": "2023-11-08T11:49:27.213Z"
   },
   {
    "duration": 22,
    "start_time": "2023-11-08T11:49:41.945Z"
   },
   {
    "duration": 16,
    "start_time": "2023-11-08T11:51:03.666Z"
   },
   {
    "duration": 6,
    "start_time": "2023-11-08T11:53:46.706Z"
   },
   {
    "duration": 5,
    "start_time": "2023-11-08T11:57:28.933Z"
   },
   {
    "duration": 4,
    "start_time": "2023-11-08T11:57:47.159Z"
   },
   {
    "duration": 23,
    "start_time": "2023-11-08T11:58:00.112Z"
   },
   {
    "duration": 17,
    "start_time": "2023-11-08T12:19:56.538Z"
   },
   {
    "duration": 7,
    "start_time": "2023-11-08T12:20:19.850Z"
   },
   {
    "duration": 7,
    "start_time": "2023-11-08T12:20:33.161Z"
   },
   {
    "duration": 5,
    "start_time": "2023-11-08T12:20:55.468Z"
   },
   {
    "duration": 19,
    "start_time": "2023-11-08T12:21:58.993Z"
   },
   {
    "duration": 217,
    "start_time": "2023-11-08T12:22:04.957Z"
   },
   {
    "duration": 314,
    "start_time": "2023-11-08T12:22:50.330Z"
   },
   {
    "duration": 9,
    "start_time": "2023-11-08T12:23:28.203Z"
   },
   {
    "duration": 8,
    "start_time": "2023-11-08T12:24:54.489Z"
   },
   {
    "duration": 199,
    "start_time": "2023-11-08T12:42:56.320Z"
   },
   {
    "duration": 1157,
    "start_time": "2023-11-08T12:53:20.725Z"
   },
   {
    "duration": 130,
    "start_time": "2023-11-08T12:53:21.884Z"
   },
   {
    "duration": 12,
    "start_time": "2023-11-08T12:53:22.016Z"
   },
   {
    "duration": 16,
    "start_time": "2023-11-08T12:53:22.030Z"
   },
   {
    "duration": 16,
    "start_time": "2023-11-08T12:53:22.048Z"
   },
   {
    "duration": 8,
    "start_time": "2023-11-08T12:53:22.066Z"
   },
   {
    "duration": 12,
    "start_time": "2023-11-08T12:53:22.075Z"
   },
   {
    "duration": 36,
    "start_time": "2023-11-08T12:53:22.088Z"
   },
   {
    "duration": 7,
    "start_time": "2023-11-08T12:53:22.126Z"
   },
   {
    "duration": 15,
    "start_time": "2023-11-08T12:53:22.135Z"
   },
   {
    "duration": 9,
    "start_time": "2023-11-08T12:53:22.152Z"
   },
   {
    "duration": 11,
    "start_time": "2023-11-08T12:53:22.162Z"
   },
   {
    "duration": 9,
    "start_time": "2023-11-08T12:53:22.174Z"
   },
   {
    "duration": 26,
    "start_time": "2023-11-08T12:53:22.185Z"
   },
   {
    "duration": 6,
    "start_time": "2023-11-08T12:53:22.212Z"
   },
   {
    "duration": 9,
    "start_time": "2023-11-08T12:53:22.219Z"
   },
   {
    "duration": 15,
    "start_time": "2023-11-08T12:53:22.230Z"
   },
   {
    "duration": 15,
    "start_time": "2023-11-08T12:53:22.247Z"
   },
   {
    "duration": 5,
    "start_time": "2023-11-08T12:53:22.264Z"
   },
   {
    "duration": 7,
    "start_time": "2023-11-08T12:53:22.271Z"
   },
   {
    "duration": 164,
    "start_time": "2023-11-08T12:53:22.279Z"
   },
   {
    "duration": 6,
    "start_time": "2023-11-08T12:53:22.444Z"
   },
   {
    "duration": 85,
    "start_time": "2023-11-08T12:53:22.451Z"
   },
   {
    "duration": 279,
    "start_time": "2023-11-08T12:53:22.538Z"
   },
   {
    "duration": 142,
    "start_time": "2023-11-08T12:53:22.818Z"
   },
   {
    "duration": 291,
    "start_time": "2023-11-08T12:53:22.962Z"
   },
   {
    "duration": 13,
    "start_time": "2023-11-08T12:53:23.255Z"
   },
   {
    "duration": 383,
    "start_time": "2023-11-08T12:53:23.270Z"
   },
   {
    "duration": 176,
    "start_time": "2023-11-08T12:53:23.654Z"
   },
   {
    "duration": 13,
    "start_time": "2023-11-08T12:53:23.832Z"
   },
   {
    "duration": 221,
    "start_time": "2023-11-08T12:53:23.847Z"
   },
   {
    "duration": 41,
    "start_time": "2023-11-08T12:53:24.070Z"
   },
   {
    "duration": 11,
    "start_time": "2023-11-08T12:53:24.114Z"
   },
   {
    "duration": 10,
    "start_time": "2023-11-08T12:53:24.127Z"
   },
   {
    "duration": 25,
    "start_time": "2023-11-08T12:53:24.138Z"
   },
   {
    "duration": 245,
    "start_time": "2023-11-08T12:53:24.165Z"
   },
   {
    "duration": 370,
    "start_time": "2023-11-08T12:53:24.412Z"
   },
   {
    "duration": 11,
    "start_time": "2023-11-08T12:53:24.784Z"
   },
   {
    "duration": 77,
    "start_time": "2023-11-08T12:53:24.797Z"
   },
   {
    "duration": 11,
    "start_time": "2023-11-08T12:53:24.876Z"
   },
   {
    "duration": 17,
    "start_time": "2023-11-08T12:53:24.889Z"
   },
   {
    "duration": 20,
    "start_time": "2023-11-08T12:53:24.908Z"
   },
   {
    "duration": 229,
    "start_time": "2023-11-08T12:53:24.930Z"
   },
   {
    "duration": 17,
    "start_time": "2023-11-08T12:53:25.160Z"
   },
   {
    "duration": 217,
    "start_time": "2023-11-08T12:53:25.179Z"
   },
   {
    "duration": 8,
    "start_time": "2023-11-08T12:53:25.404Z"
   },
   {
    "duration": 48,
    "start_time": "2023-11-09T17:14:53.308Z"
   },
   {
    "duration": 7,
    "start_time": "2023-11-09T17:15:00.514Z"
   },
   {
    "duration": 1431,
    "start_time": "2023-11-09T17:15:09.507Z"
   },
   {
    "duration": 206,
    "start_time": "2023-11-09T17:15:10.939Z"
   },
   {
    "duration": 13,
    "start_time": "2023-11-09T17:15:11.147Z"
   },
   {
    "duration": 31,
    "start_time": "2023-11-09T17:15:11.162Z"
   },
   {
    "duration": 60,
    "start_time": "2023-11-09T17:15:11.196Z"
   },
   {
    "duration": 53,
    "start_time": "2023-11-09T17:15:11.258Z"
   },
   {
    "duration": 34,
    "start_time": "2023-11-09T17:15:11.313Z"
   },
   {
    "duration": 42,
    "start_time": "2023-11-09T17:15:11.349Z"
   },
   {
    "duration": 28,
    "start_time": "2023-11-09T17:15:11.393Z"
   },
   {
    "duration": 40,
    "start_time": "2023-11-09T17:15:11.423Z"
   },
   {
    "duration": 30,
    "start_time": "2023-11-09T17:15:11.465Z"
   },
   {
    "duration": 50,
    "start_time": "2023-11-09T17:15:11.497Z"
   },
   {
    "duration": 30,
    "start_time": "2023-11-09T17:15:11.549Z"
   },
   {
    "duration": 18,
    "start_time": "2023-11-09T17:15:11.582Z"
   },
   {
    "duration": 25,
    "start_time": "2023-11-09T17:15:11.601Z"
   },
   {
    "duration": 32,
    "start_time": "2023-11-09T17:15:11.628Z"
   },
   {
    "duration": 15,
    "start_time": "2023-11-09T17:15:11.662Z"
   },
   {
    "duration": 21,
    "start_time": "2023-11-09T17:15:11.679Z"
   },
   {
    "duration": 36,
    "start_time": "2023-11-09T17:15:11.701Z"
   },
   {
    "duration": 18,
    "start_time": "2023-11-09T17:15:11.738Z"
   },
   {
    "duration": 184,
    "start_time": "2023-11-09T17:15:11.758Z"
   },
   {
    "duration": 6,
    "start_time": "2023-11-09T17:15:11.943Z"
   },
   {
    "duration": 87,
    "start_time": "2023-11-09T17:15:11.950Z"
   },
   {
    "duration": 248,
    "start_time": "2023-11-09T17:15:12.039Z"
   },
   {
    "duration": 138,
    "start_time": "2023-11-09T17:15:12.288Z"
   },
   {
    "duration": 371,
    "start_time": "2023-11-09T17:15:12.428Z"
   },
   {
    "duration": 89,
    "start_time": "2023-11-09T17:15:12.806Z"
   },
   {
    "duration": 324,
    "start_time": "2023-11-09T17:15:12.896Z"
   },
   {
    "duration": 180,
    "start_time": "2023-11-09T17:15:13.222Z"
   },
   {
    "duration": 13,
    "start_time": "2023-11-09T17:15:13.407Z"
   },
   {
    "duration": 207,
    "start_time": "2023-11-09T17:15:13.422Z"
   },
   {
    "duration": 26,
    "start_time": "2023-11-09T17:15:13.630Z"
   },
   {
    "duration": 30,
    "start_time": "2023-11-09T17:15:13.657Z"
   },
   {
    "duration": 13,
    "start_time": "2023-11-09T17:15:13.689Z"
   },
   {
    "duration": 42,
    "start_time": "2023-11-09T17:15:13.703Z"
   },
   {
    "duration": 260,
    "start_time": "2023-11-09T17:15:13.747Z"
   },
   {
    "duration": 445,
    "start_time": "2023-11-09T17:15:14.008Z"
   },
   {
    "duration": 12,
    "start_time": "2023-11-09T17:15:14.455Z"
   },
   {
    "duration": 56,
    "start_time": "2023-11-09T17:15:14.469Z"
   },
   {
    "duration": 13,
    "start_time": "2023-11-09T17:15:14.526Z"
   },
   {
    "duration": 8,
    "start_time": "2023-11-09T17:15:14.544Z"
   },
   {
    "duration": 16,
    "start_time": "2023-11-09T17:15:14.554Z"
   },
   {
    "duration": 230,
    "start_time": "2023-11-09T17:15:14.572Z"
   },
   {
    "duration": 15,
    "start_time": "2023-11-09T17:15:14.804Z"
   },
   {
    "duration": 217,
    "start_time": "2023-11-09T17:15:14.820Z"
   },
   {
    "duration": 9,
    "start_time": "2023-11-09T17:15:15.038Z"
   },
   {
    "duration": 146,
    "start_time": "2023-11-09T17:15:15.049Z"
   },
   {
    "duration": 192,
    "start_time": "2023-11-09T17:15:41.055Z"
   },
   {
    "duration": 106,
    "start_time": "2023-11-09T17:15:53.262Z"
   },
   {
    "duration": 117,
    "start_time": "2023-11-09T17:16:56.611Z"
   },
   {
    "duration": 119,
    "start_time": "2023-11-09T17:17:05.830Z"
   },
   {
    "duration": 98,
    "start_time": "2023-11-09T17:17:19.529Z"
   },
   {
    "duration": 118,
    "start_time": "2023-11-09T17:17:33.612Z"
   },
   {
    "duration": 112,
    "start_time": "2023-11-09T17:17:43.703Z"
   },
   {
    "duration": 11,
    "start_time": "2023-11-09T17:23:57.736Z"
   },
   {
    "duration": 6,
    "start_time": "2023-11-09T17:24:27.999Z"
   },
   {
    "duration": 10,
    "start_time": "2023-11-09T17:27:03.838Z"
   },
   {
    "duration": 5,
    "start_time": "2023-11-09T17:27:13.098Z"
   },
   {
    "duration": 224,
    "start_time": "2023-11-09T17:27:27.625Z"
   },
   {
    "duration": 6,
    "start_time": "2023-11-09T17:33:00.973Z"
   },
   {
    "duration": 84,
    "start_time": "2023-11-09T17:33:34.098Z"
   },
   {
    "duration": 89,
    "start_time": "2023-11-09T17:33:50.922Z"
   },
   {
    "duration": 106,
    "start_time": "2023-11-09T17:34:02.555Z"
   },
   {
    "duration": 89,
    "start_time": "2023-11-09T17:34:44.077Z"
   },
   {
    "duration": 6,
    "start_time": "2023-11-09T17:35:00.311Z"
   },
   {
    "duration": 4,
    "start_time": "2023-11-09T17:35:04.200Z"
   },
   {
    "duration": 102,
    "start_time": "2023-11-09T17:35:09.507Z"
   },
   {
    "duration": 214,
    "start_time": "2023-11-09T17:36:29.385Z"
   }
  ],
  "kernelspec": {
   "display_name": "Python 3 (ipykernel)",
   "language": "python",
   "name": "python3"
  },
  "language_info": {
   "codemirror_mode": {
    "name": "ipython",
    "version": 3
   },
   "file_extension": ".py",
   "mimetype": "text/x-python",
   "name": "python",
   "nbconvert_exporter": "python",
   "pygments_lexer": "ipython3",
   "version": "3.11.4"
  },
  "toc": {
   "base_numbering": 1,
   "nav_menu": {},
   "number_sections": true,
   "sideBar": true,
   "skip_h1_title": true,
   "title_cell": "Table of Contents",
   "title_sidebar": "Contents",
   "toc_cell": false,
   "toc_position": {},
   "toc_section_display": true,
   "toc_window_display": false
  }
 },
 "nbformat": 4,
 "nbformat_minor": 5
}
